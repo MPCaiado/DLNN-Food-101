{
  "nbformat": 4,
  "nbformat_minor": 0,
  "metadata": {
    "accelerator": "GPU",
    "colab": {
      "name": "DLNN_v02.ipynb",
      "provenance": [],
      "collapsed_sections": [
        "i5PjZetq5X08",
        "QvIpODRc5YUe",
        "y9Yza1ir5YuX"
      ],
      "include_colab_link": true
    },
    "kernelspec": {
      "display_name": "Python 3",
      "name": "python3"
    }
  },
  "cells": [
    {
      "cell_type": "markdown",
      "metadata": {
        "id": "view-in-github",
        "colab_type": "text"
      },
      "source": [
        "<a href=\"https://colab.research.google.com/github/MPCaiado/DLNN-Food-101/blob/main/DLNN_v02.ipynb\" target=\"_parent\"><img src=\"https://colab.research.google.com/assets/colab-badge.svg\" alt=\"Open In Colab\"/></a>"
      ]
    },
    {
      "cell_type": "code",
      "metadata": {
        "colab": {
          "base_uri": "https://localhost:8080/",
          "height": 214
        },
        "id": "hvL02fSdjVfM",
        "outputId": "ea36fdb0-5dcb-4ed1-8a14-c99272c0b220"
      },
      "source": [
        "%tensorflow_version 2.x\r\n",
        "\r\n",
        "import tensorflow as tf\r\n",
        "device_name = tf.test.gpu_device_name()\r\n",
        "if device_name != '/device:GPU:0':\r\n",
        "  raise SystemError('GPU device not found')\r\n",
        "print('Found GPU at: {}'.format(device_name))"
      ],
      "execution_count": 3,
      "outputs": [
        {
          "output_type": "error",
          "ename": "SystemError",
          "evalue": "ignored",
          "traceback": [
            "\u001b[0;31m---------------------------------------------------------------------------\u001b[0m",
            "\u001b[0;31mSystemError\u001b[0m                               Traceback (most recent call last)",
            "\u001b[0;32m<ipython-input-3-c5c6fef44a66>\u001b[0m in \u001b[0;36m<module>\u001b[0;34m()\u001b[0m\n\u001b[1;32m      4\u001b[0m \u001b[0mdevice_name\u001b[0m \u001b[0;34m=\u001b[0m \u001b[0mtf\u001b[0m\u001b[0;34m.\u001b[0m\u001b[0mtest\u001b[0m\u001b[0;34m.\u001b[0m\u001b[0mgpu_device_name\u001b[0m\u001b[0;34m(\u001b[0m\u001b[0;34m)\u001b[0m\u001b[0;34m\u001b[0m\u001b[0;34m\u001b[0m\u001b[0m\n\u001b[1;32m      5\u001b[0m \u001b[0;32mif\u001b[0m \u001b[0mdevice_name\u001b[0m \u001b[0;34m!=\u001b[0m \u001b[0;34m'/device:GPU:0'\u001b[0m\u001b[0;34m:\u001b[0m\u001b[0;34m\u001b[0m\u001b[0;34m\u001b[0m\u001b[0m\n\u001b[0;32m----> 6\u001b[0;31m   \u001b[0;32mraise\u001b[0m \u001b[0mSystemError\u001b[0m\u001b[0;34m(\u001b[0m\u001b[0;34m'GPU device not found'\u001b[0m\u001b[0;34m)\u001b[0m\u001b[0;34m\u001b[0m\u001b[0;34m\u001b[0m\u001b[0m\n\u001b[0m\u001b[1;32m      7\u001b[0m \u001b[0mprint\u001b[0m\u001b[0;34m(\u001b[0m\u001b[0;34m'Found GPU at: {}'\u001b[0m\u001b[0;34m.\u001b[0m\u001b[0mformat\u001b[0m\u001b[0;34m(\u001b[0m\u001b[0mdevice_name\u001b[0m\u001b[0;34m)\u001b[0m\u001b[0;34m)\u001b[0m\u001b[0;34m\u001b[0m\u001b[0;34m\u001b[0m\u001b[0m\n",
            "\u001b[0;31mSystemError\u001b[0m: GPU device not found"
          ]
        }
      ]
    },
    {
      "cell_type": "code",
      "metadata": {
        "colab": {
          "base_uri": "https://localhost:8080/"
        },
        "id": "JXavUfmhoK5U",
        "outputId": "33360ff0-3e51-404d-8963-87746fe128e5"
      },
      "source": [
        "from google.colab import drive\n",
        "drive.mount('/content/drive')"
      ],
      "execution_count": 1,
      "outputs": [
        {
          "output_type": "stream",
          "text": [
            "Mounted at /content/drive\n"
          ],
          "name": "stdout"
        }
      ]
    },
    {
      "cell_type": "code",
      "metadata": {
        "colab": {
          "base_uri": "https://localhost:8080/"
        },
        "id": "hfETxsFEjZyg",
        "outputId": "e5bdaaa4-e4ce-4a52-d838-1f43e24f1511"
      },
      "source": [
        "%tensorflow_version 2.x\r\n",
        "import tensorflow as tf\r\n",
        "import timeit\r\n",
        "\r\n",
        "device_name = tf.test.gpu_device_name()\r\n",
        "if device_name != '/device:GPU:0':\r\n",
        "  print(\r\n",
        "      '\\n\\nThis error most likely means that this notebook is not '\r\n",
        "      'configured to use a GPU.  Change this in Notebook Settings via the '\r\n",
        "      'command palette (cmd/ctrl-shift-P) or the Edit menu.\\n\\n')\r\n",
        "  raise SystemError('GPU device not found')\r\n",
        "\r\n",
        "def cpu():\r\n",
        "  with tf.device('/cpu:0'):\r\n",
        "    random_image_cpu = tf.random.normal((100, 100, 100, 3))\r\n",
        "    net_cpu = tf.keras.layers.Conv2D(32, 7)(random_image_cpu)\r\n",
        "    return tf.math.reduce_sum(net_cpu)\r\n",
        "\r\n",
        "def gpu():\r\n",
        "  with tf.device('/device:GPU:0'):\r\n",
        "    random_image_gpu = tf.random.normal((100, 100, 100, 3))\r\n",
        "    net_gpu = tf.keras.layers.Conv2D(32, 7)(random_image_gpu)\r\n",
        "    return tf.math.reduce_sum(net_gpu)\r\n",
        "  \r\n",
        "# We run each op once to warm up; see: https://stackoverflow.com/a/45067900\r\n",
        "cpu()\r\n",
        "gpu()\r\n",
        "\r\n",
        "# Run the op several times.\r\n",
        "print('Time (s) to convolve 32x7x7x3 filter over random 100x100x100x3 images '\r\n",
        "      '(batch x height x width x channel). Sum of ten runs.')\r\n",
        "print('CPU (s):')\r\n",
        "cpu_time = timeit.timeit('cpu()', number=10, setup=\"from __main__ import cpu\")\r\n",
        "print(cpu_time)\r\n",
        "print('GPU (s):')\r\n",
        "gpu_time = timeit.timeit('gpu()', number=10, setup=\"from __main__ import gpu\")\r\n",
        "print(gpu_time)\r\n",
        "print('GPU speedup over CPU: {}x'.format(int(cpu_time/gpu_time)))"
      ],
      "execution_count": null,
      "outputs": [
        {
          "output_type": "stream",
          "text": [
            "Time (s) to convolve 32x7x7x3 filter over random 100x100x100x3 images (batch x height x width x channel). Sum of ten runs.\n",
            "CPU (s):\n",
            "2.6854692200000017\n",
            "GPU (s):\n",
            "0.034656028999989985\n",
            "GPU speedup over CPU: 77x\n"
          ],
          "name": "stdout"
        }
      ]
    },
    {
      "cell_type": "code",
      "metadata": {
        "id": "yLvSpNQqkT08"
      },
      "source": [
        "import numpy as np\r\n",
        "import pandas as pd\r\n",
        "import matplotlib.pyplot as plt\r\n",
        "import h5py\r\n",
        "import gc\r\n",
        "import tensorflow as tf\r\n",
        "from sklearn.model_selection import train_test_split\r\n",
        "from keras_preprocessing.image import ImageDataGenerator\r\n",
        "from keras import models\r\n",
        "from keras import layers\r\n",
        "from keras import optimizers\r\n",
        "from keras import regularizers\r\n",
        "from keras.callbacks import EarlyStopping\r\n",
        "from keras.callbacks import ModelCheckpoint\r\n",
        "from tensorflow.keras.models import Sequential\r\n",
        "from tensorflow.keras import Model\r\n",
        "from tensorflow.keras.models import Sequential\r\n",
        "from tensorflow.keras.layers import Conv2D, MaxPooling2D, Flatten, Dense, Dropout, Activation\r\n",
        "from tensorflow.keras.preprocessing.image import ImageDataGenerator\r\n",
        "from tensorflow.keras.callbacks import EarlyStopping\r\n",
        "from keras.constraints import maxnorm\r\n",
        "from tensorflow.keras.optimizers import Adam\r\n",
        "from tensorflow.keras.optimizers import RMSprop\r\n",
        "\r\n",
        "#models\r\n",
        "from keras.applications.resnet50 import ResNet50\r\n",
        "from keras.applications.inception_v3 import InceptionV3"
      ],
      "execution_count": 5,
      "outputs": []
    },
    {
      "cell_type": "code",
      "metadata": {
        "colab": {
          "base_uri": "https://localhost:8080/"
        },
        "id": "Wk1fVSGHp7WU",
        "outputId": "cf55539f-16db-4f2f-91b3-299e637d4325"
      },
      "source": [
        "!7z x /content/drive/MyDrive/EDSA/images.7z"
      ],
      "execution_count": 6,
      "outputs": [
        {
          "output_type": "stream",
          "text": [
            "\n",
            "7-Zip [64] 16.02 : Copyright (c) 1999-2016 Igor Pavlov : 2016-05-21\n",
            "p7zip Version 16.02 (locale=en_US.UTF-8,Utf16=on,HugeFiles=on,64 bits,2 CPUs Intel(R) Xeon(R) CPU @ 2.20GHz (406F0),ASM,AES-NI)\n",
            "\n",
            "Scanning the drive for archives:\n",
            "  0M Scan /content/drive/MyDrive/EDSA/\b\b\b\b\b\b\b\b\b\b\b\b\b\b\b\b\b\b\b\b\b\b\b\b\b\b\b\b\b\b\b\b\b\b\b\b\b\b                                      \b\b\b\b\b\b\b\b\b\b\b\b\b\b\b\b\b\b\b\b\b\b\b\b\b\b\b\b\b\b\b\b\b\b\b\b\b\b1 file, 4942431249 bytes (4714 MiB)\n",
            "\n",
            "Extracting archive: /content/drive/MyDrive/EDSA/images.7z\n",
            "--\n",
            "Path = /content/drive/MyDrive/EDSA/images.7z\n",
            "Type = 7z\n",
            "Physical Size = 4942431249\n",
            "Headers Size = 1206945\n",
            "Method = LZMA2:24\n",
            "Solid = +\n",
            "Blocks = 3\n",
            "\n",
            "  0%\b\b\b\b    \b\b\b\b  0% 102\b\b\b\b\b\b\b\b        \b\b\b\b\b\b\b\b  0% 185 - images/apple_pie/1295996.jpg\b\b\b\b\b\b\b\b\b\b\b\b\b\b\b\b\b\b\b\b\b\b\b\b\b\b\b\b\b\b\b\b\b\b\b\b\b\b\b                                       \b\b\b\b\b\b\b\b\b\b\b\b\b\b\b\b\b\b\b\b\b\b\b\b\b\b\b\b\b\b\b\b\b\b\b\b\b\b\b  0% 186 - images/apple_pie/129668.jpg\b\b\b\b\b\b\b\b\b\b\b\b\b\b\b\b\b\b\b\b\b\b\b\b\b\b\b\b\b\b\b\b\b\b\b\b\b\b                                      \b\b\b\b\b\b\b\b\b\b\b\b\b\b\b\b\b\b\b\b\b\b\b\b\b\b\b\b\b\b\b\b\b\b\b\b\b\b  0% 274 - images/apple_pie/1626685.jpg\b\b\b\b\b\b\b\b\b\b\b\b\b\b\b\b\b\b\b\b\b\b\b\b\b\b\b\b\b\b\b\b\b\b\b\b\b\b\b                                       \b\b\b\b\b\b\b\b\b\b\b\b\b\b\b\b\b\b\b\b\b\b\b\b\b\b\b\b\b\b\b\b\b\b\b\b\b\b\b  0% 275 - images/apple_pie/1629072.jpg\b\b\b\b\b\b\b\b\b\b\b\b\b\b\b\b\b\b\b\b\b\b\b\b\b\b\b\b\b\b\b\b\b\b\b\b\b\b\b                                       \b\b\b\b\b\b\b\b\b\b\b\b\b\b\b\b\b\b\b\b\b\b\b\b\b\b\b\b\b\b\b\b\b\b\b\b\b\b\b  0% 360 - images/apple_pie/1994318.jpg\b\b\b\b\b\b\b\b\b\b\b\b\b\b\b\b\b\b\b\b\b\b\b\b\b\b\b\b\b\b\b\b\b\b\b\b\b\b\b                                       \b\b\b\b\b\b\b\b\b\b\b\b\b\b\b\b\b\b\b\b\b\b\b\b\b\b\b\b\b\b\b\b\b\b\b\b\b\b\b  0% 448 - images/apple_pie/2338398.jpg\b\b\b\b\b\b\b\b\b\b\b\b\b\b\b\b\b\b\b\b\b\b\b\b\b\b\b\b\b\b\b\b\b\b\b\b\b\b\b                                       \b\b\b\b\b\b\b\b\b\b\b\b\b\b\b\b\b\b\b\b\b\b\b\b\b\b\b\b\b\b\b\b\b\b\b\b\b\b\b  0% 532 - images/apple_pie/2591737.jpg\b\b\b\b\b\b\b\b\b\b\b\b\b\b\b\b\b\b\b\b\b\b\b\b\b\b\b\b\b\b\b\b\b\b\b\b\b\b\b                                       \b\b\b\b\b\b\b\b\b\b\b\b\b\b\b\b\b\b\b\b\b\b\b\b\b\b\b\b\b\b\b\b\b\b\b\b\b\b\b  0% 534 - images/apple_pie/2596943.jpg\b\b\b\b\b\b\b\b\b\b\b\b\b\b\b\b\b\b\b\b\b\b\b\b\b\b\b\b\b\b\b\b\b\b\b\b\b\b\b                                       \b\b\b\b\b\b\b\b\b\b\b\b\b\b\b\b\b\b\b\b\b\b\b\b\b\b\b\b\b\b\b\b\b\b\b\b\b\b\b  0% 602 - images/apple_pie/2764233.jpg\b\b\b\b\b\b\b\b\b\b\b\b\b\b\b\b\b\b\b\b\b\b\b\b\b\b\b\b\b\b\b\b\b\b\b\b\b\b\b                                       \b\b\b\b\b\b\b\b\b\b\b\b\b\b\b\b\b\b\b\b\b\b\b\b\b\b\b\b\b\b\b\b\b\b\b\b\b\b\b  0% 622 - images/apple_pie/2799681.jpg\b\b\b\b\b\b\b\b\b\b\b\b\b\b\b\b\b\b\b\b\b\b\b\b\b\b\b\b\b\b\b\b\b\b\b\b\b\b\b                                       \b\b\b\b\b\b\b\b\b\b\b\b\b\b\b\b\b\b\b\b\b\b\b\b\b\b\b\b\b\b\b\b\b\b\b\b\b\b\b  0% 707 - images/apple_pie/3068872.jpg\b\b\b\b\b\b\b\b\b\b\b\b\b\b\b\b\b\b\b\b\b\b\b\b\b\b\b\b\b\b\b\b\b\b\b\b\b\b\b                                       \b\b\b\b\b\b\b\b\b\b\b\b\b\b\b\b\b\b\b\b\b\b\b\b\b\b\b\b\b\b\b\b\b\b\b\b\b\b\b  0% 708 - images/apple_pie/3079946.jpg\b\b\b\b\b\b\b\b\b\b\b\b\b\b\b\b\b\b\b\b\b\b\b\b\b\b\b\b\b\b\b\b\b\b\b\b\b\b\b                                       \b\b\b\b\b\b\b\b\b\b\b\b\b\b\b\b\b\b\b\b\b\b\b\b\b\b\b\b\b\b\b\b\b\b\b\b\b\b\b  0% 793 - images/apple_pie/3410227.jpg\b\b\b\b\b\b\b\b\b\b\b\b\b\b\b\b\b\b\b\b\b\b\b\b\b\b\b\b\b\b\b\b\b\b\b\b\b\b\b                                       \b\b\b\b\b\b\b\b\b\b\b\b\b\b\b\b\b\b\b\b\b\b\b\b\b\b\b\b\b\b\b\b\b\b\b\b\b\b\b  0% 878 - images/apple_pie/3727785.jpg\b\b\b\b\b\b\b\b\b\b\b\b\b\b\b\b\b\b\b\b\b\b\b\b\b\b\b\b\b\b\b\b\b\b\b\b\b\b\b                                       \b\b\b\b\b\b\b\b\b\b\b\b\b\b\b\b\b\b\b\b\b\b\b\b\b\b\b\b\b\b\b\b\b\b\b\b\b\b\b  0% 913 - images/apple_pie/3882465.jpg\b\b\b\b\b\b\b\b\b\b\b\b\b\b\b\b\b\b\b\b\b\b\b\b\b\b\b\b\b\b\b\b\b\b\b\b\b\b\b                                       \b\b\b\b\b\b\b\b\b\b\b\b\b\b\b\b\b\b\b\b\b\b\b\b\b\b\b\b\b\b\b\b\b\b\b\b\b\b\b  0% 972 - images/apple_pie/589712.jpg\b\b\b\b\b\b\b\b\b\b\b\b\b\b\b\b\b\b\b\b\b\b\b\b\b\b\b\b\b\b\b\b\b\b\b\b\b\b                                      \b\b\b\b\b\b\b\b\b\b\b\b\b\b\b\b\b\b\b\b\b\b\b\b\b\b\b\b\b\b\b\b\b\b\b\b\b\b  0% 1060 - images/apple_pie/885848.jpg\b\b\b\b\b\b\b\b\b\b\b\b\b\b\b\b\b\b\b\b\b\b\b\b\b\b\b\b\b\b\b\b\b\b\b\b\b\b\b                                       \b\b\b\b\b\b\b\b\b\b\b\b\b\b\b\b\b\b\b\b\b\b\b\b\b\b\b\b\b\b\b\b\b\b\b\b\b\b\b  0% 1061 - images/apple_pie/886518.jpg\b\b\b\b\b\b\b\b\b\b\b\b\b\b\b\b\b\b\b\b\b\b\b\b\b\b\b\b\b\b\b\b\b\b\b\b\b\b\b                                       \b\b\b\b\b\b\b\b\b\b\b\b\b\b\b\b\b\b\b\b\b\b\b\b\b\b\b\b\b\b\b\b\b\b\b\b\b\b\b  1% 1142 - images/baby_back_ribs/1150070.jpg\b\b\b\b\b\b\b\b\b\b\b\b\b\b\b\b\b\b\b\b\b\b\b\b\b\b\b\b\b\b\b\b\b\b\b\b\b\b\b\b\b\b\b\b\b                                             \b\b\b\b\b\b\b\b\b\b\b\b\b\b\b\b\b\b\b\b\b\b\b\b\b\b\b\b\b\b\b\b\b\b\b\b\b\b\b\b\b\b\b\b\b  1% 1212 - images/baby_back_ribs/1386077.jpg\b\b\b\b\b\b\b\b\b\b\b\b\b\b\b\b\b\b\b\b\b\b\b\b\b\b\b\b\b\b\b\b\b\b\b\b\b\b\b\b\b\b\b\b\b                                             \b\b\b\b\b\b\b\b\b\b\b\b\b\b\b\b\b\b\b\b\b\b\b\b\b\b\b\b\b\b\b\b\b\b\b\b\b\b\b\b\b\b\b\b\b  1% 1213 - images/baby_back_ribs/139044.jpg\b\b\b\b\b\b\b\b\b\b\b\b\b\b\b\b\b\b\b\b\b\b\b\b\b\b\b\b\b\b\b\b\b\b\b\b\b\b\b\b\b\b\b\b                                            \b\b\b\b\b\b\b\b\b\b\b\b\b\b\b\b\b\b\b\b\b\b\b\b\b\b\b\b\b\b\b\b\b\b\b\b\b\b\b\b\b\b\b\b  1% 1288 - images/baby_back_ribs/1622817.jpg\b\b\b\b\b\b\b\b\b\b\b\b\b\b\b\b\b\b\b\b\b\b\b\b\b\b\b\b\b\b\b\b\b\b\b\b\b\b\b\b\b\b\b\b\b                                             \b\b\b\b\b\b\b\b\b\b\b\b\b\b\b\b\b\b\b\b\b\b\b\b\b\b\b\b\b\b\b\b\b\b\b\b\b\b\b\b\b\b\b\b\b  1% 1366 - images/baby_back_ribs/1856264.jpg\b\b\b\b\b\b\b\b\b\b\b\b\b\b\b\b\b\b\b\b\b\b\b\b\b\b\b\b\b\b\b\b\b\b\b\b\b\b\b\b\b\b\b\b\b                                             \b\b\b\b\b\b\b\b\b\b\b\b\b\b\b\b\b\b\b\b\b\b\b\b\b\b\b\b\b\b\b\b\b\b\b\b\b\b\b\b\b\b\b\b\b  1% 1443 - images/baby_back_ribs/2095331.jpg\b\b\b\b\b\b\b\b\b\b\b\b\b\b\b\b\b\b\b\b\b\b\b\b\b\b\b\b\b\b\b\b\b\b\b\b\b\b\b\b\b\b\b\b\b                                             \b\b\b\b\b\b\b\b\b\b\b\b\b\b\b\b\b\b\b\b\b\b\b\b\b\b\b\b\b\b\b\b\b\b\b\b\b\b\b\b\b\b\b\b\b  1% 1515 - images/baby_back_ribs/2352033.jpg\b\b\b\b\b\b\b\b\b\b\b\b\b\b\b\b\b\b\b\b\b\b\b\b\b\b\b\b\b\b\b\b\b\b\b\b\b\b\b\b\b\b\b\b\b                                             \b\b\b\b\b\b\b\b\b\b\b\b\b\b\b\b\b\b\b\b\b\b\b\b\b\b\b\b\b\b\b\b\b\b\b\b\b\b\b\b\b\b\b\b\b  1% 1578 - images/baby_back_ribs/2564192.jpg\b\b\b\b\b\b\b\b\b\b\b\b\b\b\b\b\b\b\b\b\b\b\b\b\b\b\b\b\b\b\b\b\b\b\b\b\b\b\b\b\b\b\b\b\b                                             \b\b\b\b\b\b\b\b\b\b\b\b\b\b\b\b\b\b\b\b\b\b\b\b\b\b\b\b\b\b\b\b\b\b\b\b\b\b\b\b\b\b\b\b\b  1% 1588 - images/baby_back_ribs/2602664.jpg\b\b\b\b\b\b\b\b\b\b\b\b\b\b\b\b\b\b\b\b\b\b\b\b\b\b\b\b\b\b\b\b\b\b\b\b\b\b\b\b\b\b\b\b\b                                             \b\b\b\b\b\b\b\b\b\b\b\b\b\b\b\b\b\b\b\b\b\b\b\b\b\b\b\b\b\b\b\b\b\b\b\b\b\b\b\b\b\b\b\b\b  1% 1664 - images/baby_back_ribs/2901249.jpg\b\b\b\b\b\b\b\b\b\b\b\b\b\b\b\b\b\b\b\b\b\b\b\b\b\b\b\b\b\b\b\b\b\b\b\b\b\b\b\b\b\b\b\b\b                                             \b\b\b\b\b\b\b\b\b\b\b\b\b\b\b\b\b\b\b\b\b\b\b\b\b\b\b\b\b\b\b\b\b\b\b\b\b\b\b\b\b\b\b\b\b  1% 1672 - images/baby_back_ribs/2955159.jpg\b\b\b\b\b\b\b\b\b\b\b\b\b\b\b\b\b\b\b\b\b\b\b\b\b\b\b\b\b\b\b\b\b\b\b\b\b\b\b\b\b\b\b\b\b                                             \b\b\b\b\b\b\b\b\b\b\b\b\b\b\b\b\b\b\b\b\b\b\b\b\b\b\b\b\b\b\b\b\b\b\b\b\b\b\b\b\b\b\b\b\b  1% 1739 - images/baby_back_ribs/3216946.jpg\b\b\b\b\b\b\b\b\b\b\b\b\b\b\b\b\b\b\b\b\b\b\b\b\b\b\b\b\b\b\b\b\b\b\b\b\b\b\b\b\b\b\b\b\b                                             \b\b\b\b\b\b\b\b\b\b\b\b\b\b\b\b\b\b\b\b\b\b\b\b\b\b\b\b\b\b\b\b\b\b\b\b\b\b\b\b\b\b\b\b\b  1% 1811 - images/baby_back_ribs/353489.jpg\b\b\b\b\b\b\b\b\b\b\b\b\b\b\b\b\b\b\b\b\b\b\b\b\b\b\b\b\b\b\b\b\b\b\b\b\b\b\b\b\b\b\b\b                                            \b\b\b\b\b\b\b\b\b\b\b\b\b\b\b\b\b\b\b\b\b\b\b\b\b\b\b\b\b\b\b\b\b\b\b\b\b\b\b\b\b\b\b\b  1% 1884 - images/baby_back_ribs/3914151.jpg\b\b\b\b\b\b\b\b\b\b\b\b\b\b\b\b\b\b\b\b\b\b\b\b\b\b\b\b\b\b\b\b\b\b\b\b\b\b\b\b\b\b\b\b\b                                             \b\b\b\b\b\b\b\b\b\b\b\b\b\b\b\b\b\b\b\b\b\b\b\b\b\b\b\b\b\b\b\b\b\b\b\b\b\b\b\b\b\b\b\b\b  1% 1885 - images/baby_back_ribs/400665.jpg\b\b\b\b\b\b\b\b\b\b\b\b\b\b\b\b\b\b\b\b\b\b\b\b\b\b\b\b\b\b\b\b\b\b\b\b\b\b\b\b\b\b\b\b                                            \b\b\b\b\b\b\b\b\b\b\b\b\b\b\b\b\b\b\b\b\b\b\b\b\b\b\b\b\b\b\b\b\b\b\b\b\b\b\b\b\b\b\b\b  1% 1955 - images/baby_back_ribs/635300.jpg\b\b\b\b\b\b\b\b\b\b\b\b\b\b\b\b\b\b\b\b\b\b\b\b\b\b\b\b\b\b\b\b\b\b\b\b\b\b\b\b\b\b\b\b                                            \b\b\b\b\b\b\b\b\b\b\b\b\b\b\b\b\b\b\b\b\b\b\b\b\b\b\b\b\b\b\b\b\b\b\b\b\b\b\b\b\b\b\b\b  2% 2027 - images/baby_back_ribs/801284.jpg\b\b\b\b\b\b\b\b\b\b\b\b\b\b\b\b\b\b\b\b\b\b\b\b\b\b\b\b\b\b\b\b\b\b\b\b\b\b\b\b\b\b\b\b                                            \b\b\b\b\b\b\b\b\b\b\b\b\b\b\b\b\b\b\b\b\b\b\b\b\b\b\b\b\b\b\b\b\b\b\b\b\b\b\b\b\b\b\b\b  2% 2072 - images/baby_back_ribs/928861.jpg\b\b\b\b\b\b\b\b\b\b\b\b\b\b\b\b\b\b\b\b\b\b\b\b\b\b\b\b\b\b\b\b\b\b\b\b\b\b\b\b\b\b\b\b                                            \b\b\b\b\b\b\b\b\b\b\b\b\b\b\b\b\b\b\b\b\b\b\b\b\b\b\b\b\b\b\b\b\b\b\b\b\b\b\b\b\b\b\b\b  2% 2104 - images/baklava/1021344.jpg\b\b\b\b\b\b\b\b\b\b\b\b\b\b\b\b\b\b\b\b\b\b\b\b\b\b\b\b\b\b\b\b\b\b\b\b\b\b                                      \b\b\b\b\b\b\b\b\b\b\b\b\b\b\b\b\b\b\b\b\b\b\b\b\b\b\b\b\b\b\b\b\b\b\b\b\b\b  2% 2186 - images/baklava/129478.jpg\b\b\b\b\b\b\b\b\b\b\b\b\b\b\b\b\b\b\b\b\b\b\b\b\b\b\b\b\b\b\b\b\b\b\b\b\b                                     \b\b\b\b\b\b\b\b\b\b\b\b\b\b\b\b\b\b\b\b\b\b\b\b\b\b\b\b\b\b\b\b\b\b\b\b\b  2% 2187 - images/baklava/1297412.jpg\b\b\b\b\b\b\b\b\b\b\b\b\b\b\b\b\b\b\b\b\b\b\b\b\b\b\b\b\b\b\b\b\b\b\b\b\b\b                                      \b\b\b\b\b\b\b\b\b\b\b\b\b\b\b\b\b\b\b\b\b\b\b\b\b\b\b\b\b\b\b\b\b\b\b\b\b\b  2% 2273 - images/baklava/1548485.jpg\b\b\b\b\b\b\b\b\b\b\b\b\b\b\b\b\b\b\b\b\b\b\b\b\b\b\b\b\b\b\b\b\b\b\b\b\b\b                                      \b\b\b\b\b\b\b\b\b\b\b\b\b\b\b\b\b\b\b\b\b\b\b\b\b\b\b\b\b\b\b\b\b\b\b\b\b\b  2% 2365 - images/baklava/182908.jpg\b\b\b\b\b\b\b\b\b\b\b\b\b\b\b\b\b\b\b\b\b\b\b\b\b\b\b\b\b\b\b\b\b\b\b\b\b                                     \b\b\b\b\b\b\b\b\b\b\b\b\b\b\b\b\b\b\b\b\b\b\b\b\b\b\b\b\b\b\b\b\b\b\b\b\b  2% 2366 - images/baklava/1834720.jpg\b\b\b\b\b\b\b\b\b\b\b\b\b\b\b\b\b\b\b\b\b\b\b\b\b\b\b\b\b\b\b\b\b\b\b\b\b\b                                      \b\b\b\b\b\b\b\b\b\b\b\b\b\b\b\b\b\b\b\b\b\b\b\b\b\b\b\b\b\b\b\b\b\b\b\b\b\b  2% 2449 - images/baklava/2153912.jpg\b\b\b\b\b\b\b\b\b\b\b\b\b\b\b\b\b\b\b\b\b\b\b\b\b\b\b\b\b\b\b\b\b\b\b\b\b\b                                      \b\b\b\b\b\b\b\b\b\b\b\b\b\b\b\b\b\b\b\b\b\b\b\b\b\b\b\b\b\b\b\b\b\b\b\b\b\b  2% 2533 - images/baklava/2444054.jpg\b\b\b\b\b\b\b\b\b\b\b\b\b\b\b\b\b\b\b\b\b\b\b\b\b\b\b\b\b\b\b\b\b\b\b\b\b\b                                      \b\b\b\b\b\b\b\b\b\b\b\b\b\b\b\b\b\b\b\b\b\b\b\b\b\b\b\b\b\b\b\b\b\b\b\b\b\b  2% 2534 - images/baklava/2446068.jpg\b\b\b\b\b\b\b\b\b\b\b\b\b\b\b\b\b\b\b\b\b\b\b\b\b\b\b\b\b\b\b\b\b\b\b\b\b\b                                      \b\b\b\b\b\b\b\b\b\b\b\b\b\b\b\b\b\b\b\b\b\b\b\b\b\b\b\b\b\b\b\b\b\b\b\b\b\b  2% 2620 - images/baklava/2751927.jpg\b\b\b\b\b\b\b\b\b\b\b\b\b\b\b\b\b\b\b\b\b\b\b\b\b\b\b\b\b\b\b\b\b\b\b\b\b\b                                      \b\b\b\b\b\b\b\b\b\b\b\b\b\b\b\b\b\b\b\b\b\b\b\b\b\b\b\b\b\b\b\b\b\b\b\b\b\b  2% 2708 - images/baklava/3135577.jpg\b\b\b\b\b\b\b\b\b\b\b\b\b\b\b\b\b\b\b\b\b\b\b\b\b\b\b\b\b\b\b\b\b\b\b\b\b\b                                      \b\b\b\b\b\b\b\b\b\b\b\b\b\b\b\b\b\b\b\b\b\b\b\b\b\b\b\b\b\b\b\b\b\b\b\b\b\b  2% 2709 - images/baklava/3136582.jpg\b\b\b\b\b\b\b\b\b\b\b\b\b\b\b\b\b\b\b\b\b\b\b\b\b\b\b\b\b\b\b\b\b\b\b\b\b\b                                      \b\b\b\b\b\b\b\b\b\b\b\b\b\b\b\b\b\b\b\b\b\b\b\b\b\b\b\b\b\b\b\b\b\b\b\b\b\b  2% 2796 - images/baklava/3438917.jpg\b\b\b\b\b\b\b\b\b\b\b\b\b\b\b\b\b\b\b\b\b\b\b\b\b\b\b\b\b\b\b\b\b\b\b\b\b\b                                      \b\b\b\b\b\b\b\b\b\b\b\b\b\b\b\b\b\b\b\b\b\b\b\b\b\b\b\b\b\b\b\b\b\b\b\b\b\b  2% 2884 - images/baklava/3732206.jpg\b\b\b\b\b\b\b\b\b\b\b\b\b\b\b\b\b\b\b\b\b\b\b\b\b\b\b\b\b\b\b\b\b\b\b\b\b\b                                      \b\b\b\b\b\b\b\b\b\b\b\b\b\b\b\b\b\b\b\b\b\b\b\b\b\b\b\b\b\b\b\b\b\b\b\b\b\b  2% 2912 - images/baklava/3801543.jpg\b\b\b\b\b\b\b\b\b\b\b\b\b\b\b\b\b\b\b\b\b\b\b\b\b\b\b\b\b\b\b\b\b\b\b\b\b\b                                      \b\b\b\b\b\b\b\b\b\b\b\b\b\b\b\b\b\b\b\b\b\b\b\b\b\b\b\b\b\b\b\b\b\b\b\b\b\b  2% 2972 - images/baklava/473493.jpg\b\b\b\b\b\b\b\b\b\b\b\b\b\b\b\b\b\b\b\b\b\b\b\b\b\b\b\b\b\b\b\b\b\b\b\b\b                                     \b\b\b\b\b\b\b\b\b\b\b\b\b\b\b\b\b\b\b\b\b\b\b\b\b\b\b\b\b\b\b\b\b\b\b\b\b  2% 3052 - images/baklava/788.jpg\b\b\b\b\b\b\b\b\b\b\b\b\b\b\b\b\b\b\b\b\b\b\b\b\b\b\b\b\b\b\b\b\b\b                                  \b\b\b\b\b\b\b\b\b\b\b\b\b\b\b\b\b\b\b\b\b\b\b\b\b\b\b\b\b\b\b\b\b\b  3% 3053 - images/baklava/789354.jpg\b\b\b\b\b\b\b\b\b\b\b\b\b\b\b\b\b\b\b\b\b\b\b\b\b\b\b\b\b\b\b\b\b\b\b\b\b                                     \b\b\b\b\b\b\b\b\b\b\b\b\b\b\b\b\b\b\b\b\b\b\b\b\b\b\b\b\b\b\b\b\b\b\b\b\b  3% 3130 - images/beef_carpaccio/1097105.jpg\b\b\b\b\b\b\b\b\b\b\b\b\b\b\b\b\b\b\b\b\b\b\b\b\b\b\b\b\b\b\b\b\b\b\b\b\b\b\b\b\b\b\b\b\b                                             \b\b\b\b\b\b\b\b\b\b\b\b\b\b\b\b\b\b\b\b\b\b\b\b\b\b\b\b\b\b\b\b\b\b\b\b\b\b\b\b\b\b\b\b\b  3% 3131 - images/beef_carpaccio/1097159.jpg\b\b\b\b\b\b\b\b\b\b\b\b\b\b\b\b\b\b\b\b\b\b\b\b\b\b\b\b\b\b\b\b\b\b\b\b\b\b\b\b\b\b\b\b\b                                             \b\b\b\b\b\b\b\b\b\b\b\b\b\b\b\b\b\b\b\b\b\b\b\b\b\b\b\b\b\b\b\b\b\b\b\b\b\b\b\b\b\b\b\b\b  3% 3206 - images/beef_carpaccio/130872.jpg\b\b\b\b\b\b\b\b\b\b\b\b\b\b\b\b\b\b\b\b\b\b\b\b\b\b\b\b\b\b\b\b\b\b\b\b\b\b\b\b\b\b\b\b                                            \b\b\b\b\b\b\b\b\b\b\b\b\b\b\b\b\b\b\b\b\b\b\b\b\b\b\b\b\b\b\b\b\b\b\b\b\b\b\b\b\b\b\b\b  3% 3283 - images/beef_carpaccio/1578151.jpg\b\b\b\b\b\b\b\b\b\b\b\b\b\b\b\b\b\b\b\b\b\b\b\b\b\b\b\b\b\b\b\b\b\b\b\b\b\b\b\b\b\b\b\b\b                                             \b\b\b\b\b\b\b\b\b\b\b\b\b\b\b\b\b\b\b\b\b\b\b\b\b\b\b\b\b\b\b\b\b\b\b\b\b\b\b\b\b\b\b\b\b  3% 3358 - images/beef_carpaccio/1805513.jpg\b\b\b\b\b\b\b\b\b\b\b\b\b\b\b\b\b\b\b\b\b\b\b\b\b\b\b\b\b\b\b\b\b\b\b\b\b\b\b\b\b\b\b\b\b                                             \b\b\b\b\b\b\b\b\b\b\b\b\b\b\b\b\b\b\b\b\b\b\b\b\b\b\b\b\b\b\b\b\b\b\b\b\b\b\b\b\b\b\b\b\b  3% 3362 - images/beef_carpaccio/1820875.jpg\b\b\b\b\b\b\b\b\b\b\b\b\b\b\b\b\b\b\b\b\b\b\b\b\b\b\b\b\b\b\b\b\b\b\b\b\b\b\b\b\b\b\b\b\b                                             \b\b\b\b\b\b\b\b\b\b\b\b\b\b\b\b\b\b\b\b\b\b\b\b\b\b\b\b\b\b\b\b\b\b\b\b\b\b\b\b\b\b\b\b\b  3% 3434 - images/beef_carpaccio/2017982.jpg\b\b\b\b\b\b\b\b\b\b\b\b\b\b\b\b\b\b\b\b\b\b\b\b\b\b\b\b\b\b\b\b\b\b\b\b\b\b\b\b\b\b\b\b\b                                             \b\b\b\b\b\b\b\b\b\b\b\b\b\b\b\b\b\b\b\b\b\b\b\b\b\b\b\b\b\b\b\b\b\b\b\b\b\b\b\b\b\b\b\b\b  3% 3509 - images/beef_carpaccio/2263597.jpg\b\b\b\b\b\b\b\b\b\b\b\b\b\b\b\b\b\b\b\b\b\b\b\b\b\b\b\b\b\b\b\b\b\b\b\b\b\b\b\b\b\b\b\b\b                                             \b\b\b\b\b\b\b\b\b\b\b\b\b\b\b\b\b\b\b\b\b\b\b\b\b\b\b\b\b\b\b\b\b\b\b\b\b\b\b\b\b\b\b\b\b  3% 3510 - images/beef_carpaccio/2263627.jpg\b\b\b\b\b\b\b\b\b\b\b\b\b\b\b\b\b\b\b\b\b\b\b\b\b\b\b\b\b\b\b\b\b\b\b\b\b\b\b\b\b\b\b\b\b                                             \b\b\b\b\b\b\b\b\b\b\b\b\b\b\b\b\b\b\b\b\b\b\b\b\b\b\b\b\b\b\b\b\b\b\b\b\b\b\b\b\b\b\b\b\b  3% 3589 - images/beef_carpaccio/2568139.jpg\b\b\b\b\b\b\b\b\b\b\b\b\b\b\b\b\b\b\b\b\b\b\b\b\b\b\b\b\b\b\b\b\b\b\b\b\b\b\b\b\b\b\b\b\b                                             \b\b\b\b\b\b\b\b\b\b\b\b\b\b\b\b\b\b\b\b\b\b\b\b\b\b\b\b\b\b\b\b\b\b\b\b\b\b\b\b\b\b\b\b\b  3% 3663 - images/beef_carpaccio/2871818.jpg\b\b\b\b\b\b\b\b\b\b\b\b\b\b\b\b\b\b\b\b\b\b\b\b\b\b\b\b\b\b\b\b\b\b\b\b\b\b\b\b\b\b\b\b\b                                             \b\b\b\b\b\b\b\b\b\b\b\b\b\b\b\b\b\b\b\b\b\b\b\b\b\b\b\b\b\b\b\b\b\b\b\b\b\b\b\b\b\b\b\b\b  3% 3664 - images/beef_carpaccio/2874813.jpg\b\b\b\b\b\b\b\b\b\b\b\b\b\b\b\b\b\b\b\b\b\b\b\b\b\b\b\b\b\b\b\b\b\b\b\b\b\b\b\b\b\b\b\b\b                                             \b\b\b\b\b\b\b\b\b\b\b\b\b\b\b\b\b\b\b\b\b\b\b\b\b\b\b\b\b\b\b\b\b\b\b\b\b\b\b\b\b\b\b\b\b  3% 3734 - images/beef_carpaccio/3106606.jpg\b\b\b\b\b\b\b\b\b\b\b\b\b\b\b\b\b\b\b\b\b\b\b\b\b\b\b\b\b\b\b\b\b\b\b\b\b\b\b\b\b\b\b\b\b                                             \b\b\b\b\b\b\b\b\b\b\b\b\b\b\b\b\b\b\b\b\b\b\b\b\b\b\b\b\b\b\b\b\b\b\b\b\b\b\b\b\b\b\b\b\b  3% 3808 - images/beef_carpaccio/3348442.jpg\b\b\b\b\b\b\b\b\b\b\b\b\b\b\b\b\b\b\b\b\b\b\b\b\b\b\b\b\b\b\b\b\b\b\b\b\b\b\b\b\b\b\b\b\b                                             \b\b\b\b\b\b\b\b\b\b\b\b\b\b\b\b\b\b\b\b\b\b\b\b\b\b\b\b\b\b\b\b\b\b\b\b\b\b\b\b\b\b\b\b\b  3% 3809 - images/beef_carpaccio/3348946.jpg\b\b\b\b\b\b\b\b\b\b\b\b\b\b\b\b\b\b\b\b\b\b\b\b\b\b\b\b\b\b\b\b\b\b\b\b\b\b\b\b\b\b\b\b\b                                             \b\b\b\b\b\b\b\b\b\b\b\b\b\b\b\b\b\b\b\b\b\b\b\b\b\b\b\b\b\b\b\b\b\b\b\b\b\b\b\b\b\b\b\b\b  3% 3886 - images/beef_carpaccio/37010.jpg\b\b\b\b\b\b\b\b\b\b\b\b\b\b\b\b\b\b\b\b\b\b\b\b\b\b\b\b\b\b\b\b\b\b\b\b\b\b\b\b\b\b\b                                           \b\b\b\b\b\b\b\b\b\b\b\b\b\b\b\b\b\b\b\b\b\b\b\b\b\b\b\b\b\b\b\b\b\b\b\b\b\b\b\b\b\b\b  3% 3887 - images/beef_carpaccio/3703311.jpg\b\b\b\b\b\b\b\b\b\b\b\b\b\b\b\b\b\b\b\b\b\b\b\b\b\b\b\b\b\b\b\b\b\b\b\b\b\b\b\b\b\b\b\b\b                                             \b\b\b\b\b\b\b\b\b\b\b\b\b\b\b\b\b\b\b\b\b\b\b\b\b\b\b\b\b\b\b\b\b\b\b\b\b\b\b\b\b\b\b\b\b  3% 3959 - images/beef_carpaccio/493030.jpg\b\b\b\b\b\b\b\b\b\b\b\b\b\b\b\b\b\b\b\b\b\b\b\b\b\b\b\b\b\b\b\b\b\b\b\b\b\b\b\b\b\b\b\b                                            \b\b\b\b\b\b\b\b\b\b\b\b\b\b\b\b\b\b\b\b\b\b\b\b\b\b\b\b\b\b\b\b\b\b\b\b\b\b\b\b\b\b\b\b  4% 4035 - images/beef_carpaccio/776057.jpg\b\b\b\b\b\b\b\b\b\b\b\b\b\b\b\b\b\b\b\b\b\b\b\b\b\b\b\b\b\b\b\b\b\b\b\b\b\b\b\b\b\b\b\b                                            \b\b\b\b\b\b\b\b\b\b\b\b\b\b\b\b\b\b\b\b\b\b\b\b\b\b\b\b\b\b\b\b\b\b\b\b\b\b\b\b\b\b\b\b  4% 4036 - images/beef_carpaccio/78744.jpg\b\b\b\b\b\b\b\b\b\b\b\b\b\b\b\b\b\b\b\b\b\b\b\b\b\b\b\b\b\b\b\b\b\b\b\b\b\b\b\b\b\b\b                                           \b\b\b\b\b\b\b\b\b\b\b\b\b\b\b\b\b\b\b\b\b\b\b\b\b\b\b\b\b\b\b\b\b\b\b\b\b\b\b\b\b\b\b  4% 4108 - images/beef_tartare/1028942.jpg\b\b\b\b\b\b\b\b\b\b\b\b\b\b\b\b\b\b\b\b\b\b\b\b\b\b\b\b\b\b\b\b\b\b\b\b\b\b\b\b\b\b\b                                           \b\b\b\b\b\b\b\b\b\b\b\b\b\b\b\b\b\b\b\b\b\b\b\b\b\b\b\b\b\b\b\b\b\b\b\b\b\b\b\b\b\b\b  4% 4109 - images/beef_tartare/1029120.jpg\b\b\b\b\b\b\b\b\b\b\b\b\b\b\b\b\b\b\b\b\b\b\b\b\b\b\b\b\b\b\b\b\b\b\b\b\b\b\b\b\b\b\b                                           \b\b\b\b\b\b\b\b\b\b\b\b\b\b\b\b\b\b\b\b\b\b\b\b\b\b\b\b\b\b\b\b\b\b\b\b\b\b\b\b\b\b\b  4% 4194 - images/beef_tartare/1367358.jpg\b\b\b\b\b\b\b\b\b\b\b\b\b\b\b\b\b\b\b\b\b\b\b\b\b\b\b\b\b\b\b\b\b\b\b\b\b\b\b\b\b\b\b                                           \b\b\b\b\b\b\b\b\b\b\b\b\b\b\b\b\b\b\b\b\b\b\b\b\b\b\b\b\b\b\b\b\b\b\b\b\b\b\b\b\b\b\b  4% 4276 - images/beef_tartare/1718378.jpg\b\b\b\b\b\b\b\b\b\b\b\b\b\b\b\b\b\b\b\b\b\b\b\b\b\b\b\b\b\b\b\b\b\b\b\b\b\b\b\b\b\b\b                                           \b\b\b\b\b\b\b\b\b\b\b\b\b\b\b\b\b\b\b\b\b\b\b\b\b\b\b\b\b\b\b\b\b\b\b\b\b\b\b\b\b\b\b  4% 4277 - images/beef_tartare/1719368.jpg\b\b\b\b\b\b\b\b\b\b\b\b\b\b\b\b\b\b\b\b\b\b\b\b\b\b\b\b\b\b\b\b\b\b\b\b\b\b\b\b\b\b\b                                           \b\b\b\b\b\b\b\b\b\b\b\b\b\b\b\b\b\b\b\b\b\b\b\b\b\b\b\b\b\b\b\b\b\b\b\b\b\b\b\b\b\b\b  4% 4358 - images/beef_tartare/2014033.jpg\b\b\b\b\b\b\b\b\b\b\b\b\b\b\b\b\b\b\b\b\b\b\b\b\b\b\b\b\b\b\b\b\b\b\b\b\b\b\b\b\b\b\b                                           \b\b\b\b\b\b\b\b\b\b\b\b\b\b\b\b\b\b\b\b\b\b\b\b\b\b\b\b\b\b\b\b\b\b\b\b\b\b\b\b\b\b\b  4% 4441 - images/beef_tartare/2358022.jpg\b\b\b\b\b\b\b\b\b\b\b\b\b\b\b\b\b\b\b\b\b\b\b\b\b\b\b\b\b\b\b\b\b\b\b\b\b\b\b\b\b\b\b                                           \b\b\b\b\b\b\b\b\b\b\b\b\b\b\b\b\b\b\b\b\b\b\b\b\b\b\b\b\b\b\b\b\b\b\b\b\b\b\b\b\b\b\b  4% 4526 - images/beef_tartare/2653937.jpg\b\b\b\b\b\b\b\b\b\b\b\b\b\b\b\b\b\b\b\b\b\b\b\b\b\b\b\b\b\b\b\b\b\b\b\b\b\b\b\b\b\b\b                                           \b\b\b\b\b\b\b\b\b\b\b\b\b\b\b\b\b\b\b\b\b\b\b\b\b\b\b\b\b\b\b\b\b\b\b\b\b\b\b\b\b\b\b  4% 4527 - images/beef_tartare/2654229.jpg\b\b\b\b\b\b\b\b\b\b\b\b\b\b\b\b\b\b\b\b\b\b\b\b\b\b\b\b\b\b\b\b\b\b\b\b\b\b\b\b\b\b\b                                           \b\b\b\b\b\b\b\b\b\b\b\b\b\b\b\b\b\b\b\b\b\b\b\b\b\b\b\b\b\b\b\b\b\b\b\b\b\b\b\b\b\b\b  4% 4610 - images/beef_tartare/290150.jpg\b\b\b\b\b\b\b\b\b\b\b\b\b\b\b\b\b\b\b\b\b\b\b\b\b\b\b\b\b\b\b\b\b\b\b\b\b\b\b\b\b\b                                          \b\b\b\b\b\b\b\b\b\b\b\b\b\b\b\b\b\b\b\b\b\b\b\b\b\b\b\b\b\b\b\b\b\b\b\b\b\b\b\b\b\b  4% 4638 - images/beef_tartare/2995827.jpg\b\b\b\b\b\b\b\b\b\b\b\b\b\b\b\b\b\b\b\b\b\b\b\b\b\b\b\b\b\b\b\b\b\b\b\b\b\b\b\b\b\b\b                                           \b\b\b\b\b\b\b\b\b\b\b\b\b\b\b\b\b\b\b\b\b\b\b\b\b\b\b\b\b\b\b\b\b\b\b\b\b\b\b\b\b\b\b  4% 4692 - images/beef_tartare/3138726.jpg\b\b\b\b\b\b\b\b\b\b\b\b\b\b\b\b\b\b\b\b\b\b\b\b\b\b\b\b\b\b\b\b\b\b\b\b\b\b\b\b\b\b\b                                           \b\b\b\b\b\b\b\b\b\b\b\b\b\b\b\b\b\b\b\b\b\b\b\b\b\b\b\b\b\b\b\b\b\b\b\b\b\b\b\b\b\b\b  4% 4693 - images/beef_tartare/3140798.jpg\b\b\b\b\b\b\b\b\b\b\b\b\b\b\b\b\b\b\b\b\b\b\b\b\b\b\b\b\b\b\b\b\b\b\b\b\b\b\b\b\b\b\b                                           \b\b\b\b\b\b\b\b\b\b\b\b\b\b\b\b\b\b\b\b\b\b\b\b\b\b\b\b\b\b\b\b\b\b\b\b\b\b\b\b\b\b\b  4% 4777 - images/beef_tartare/3437886.jpg\b\b\b\b\b\b\b\b\b\b\b\b\b\b\b\b\b\b\b\b\b\b\b\b\b\b\b\b\b\b\b\b\b\b\b\b\b\b\b\b\b\b\b                                           \b\b\b\b\b\b\b\b\b\b\b\b\b\b\b\b\b\b\b\b\b\b\b\b\b\b\b\b\b\b\b\b\b\b\b\b\b\b\b\b\b\b\b  4% 4778 - images/beef_tartare/343923.jpg\b\b\b\b\b\b\b\b\b\b\b\b\b\b\b\b\b\b\b\b\b\b\b\b\b\b\b\b\b\b\b\b\b\b\b\b\b\b\b\b\b\b                                          \b\b\b\b\b\b\b\b\b\b\b\b\b\b\b\b\b\b\b\b\b\b\b\b\b\b\b\b\b\b\b\b\b\b\b\b\b\b\b\b\b\b  4% 4860 - images/beef_tartare/3664215.jpg\b\b\b\b\b\b\b\b\b\b\b\b\b\b\b\b\b\b\b\b\b\b\b\b\b\b\b\b\b\b\b\b\b\b\b\b\b\b\b\b\b\b\b                                           \b\b\b\b\b\b\b\b\b\b\b\b\b\b\b\b\b\b\b\b\b\b\b\b\b\b\b\b\b\b\b\b\b\b\b\b\b\b\b\b\b\b\b  4% 4940 - images/beef_tartare/3914046.jpg\b\b\b\b\b\b\b\b\b\b\b\b\b\b\b\b\b\b\b\b\b\b\b\b\b\b\b\b\b\b\b\b\b\b\b\b\b\b\b\b\b\b\b                                           \b\b\b\b\b\b\b\b\b\b\b\b\b\b\b\b\b\b\b\b\b\b\b\b\b\b\b\b\b\b\b\b\b\b\b\b\b\b\b\b\b\b\b  4% 4983 - images/beef_tartare/525546.jpg\b\b\b\b\b\b\b\b\b\b\b\b\b\b\b\b\b\b\b\b\b\b\b\b\b\b\b\b\b\b\b\b\b\b\b\b\b\b\b\b\b\b                                          \b\b\b\b\b\b\b\b\b\b\b\b\b\b\b\b\b\b\b\b\b\b\b\b\b\b\b\b\b\b\b\b\b\b\b\b\b\b\b\b\b\b  5% 5023 - images/beef_tartare/700519.jpg\b\b\b\b\b\b\b\b\b\b\b\b\b\b\b\b\b\b\b\b\b\b\b\b\b\b\b\b\b\b\b\b\b\b\b\b\b\b\b\b\b\b                                          \b\b\b\b\b\b\b\b\b\b\b\b\b\b\b\b\b\b\b\b\b\b\b\b\b\b\b\b\b\b\b\b\b\b\b\b\b\b\b\b\b\b  5% 5041 - images/beef_tartare/745088.jpg\b\b\b\b\b\b\b\b\b\b\b\b\b\b\b\b\b\b\b\b\b\b\b\b\b\b\b\b\b\b\b\b\b\b\b\b\b\b\b\b\b\b                                          \b\b\b\b\b\b\b\b\b\b\b\b\b\b\b\b\b\b\b\b\b\b\b\b\b\b\b\b\b\b\b\b\b\b\b\b\b\b\b\b\b\b  5% 5108 - images/beet_salad/1016430.jpg\b\b\b\b\b\b\b\b\b\b\b\b\b\b\b\b\b\b\b\b\b\b\b\b\b\b\b\b\b\b\b\b\b\b\b\b\b\b\b\b\b                                         \b\b\b\b\b\b\b\b\b\b\b\b\b\b\b\b\b\b\b\b\b\b\b\b\b\b\b\b\b\b\b\b\b\b\b\b\b\b\b\b\b  5% 5109 - images/beet_salad/1018685.jpg\b\b\b\b\b\b\b\b\b\b\b\b\b\b\b\b\b\b\b\b\b\b\b\b\b\b\b\b\b\b\b\b\b\b\b\b\b\b\b\b\b                                         \b\b\b\b\b\b\b\b\b\b\b\b\b\b\b\b\b\b\b\b\b\b\b\b\b\b\b\b\b\b\b\b\b\b\b\b\b\b\b\b\b  5% 5186 - images/beet_salad/1255942.jpg\b\b\b\b\b\b\b\b\b\b\b\b\b\b\b\b\b\b\b\b\b\b\b\b\b\b\b\b\b\b\b\b\b\b\b\b\b\b\b\b\b                                         \b\b\b\b\b\b\b\b\b\b\b\b\b\b\b\b\b\b\b\b\b\b\b\b\b\b\b\b\b\b\b\b\b\b\b\b\b\b\b\b\b  5% 5273 - images/beet_salad/1502446.jpg\b\b\b\b\b\b\b\b\b\b\b\b\b\b\b\b\b\b\b\b\b\b\b\b\b\b\b\b\b\b\b\b\b\b\b\b\b\b\b\b\b                                         \b\b\b\b\b\b\b\b\b\b\b\b\b\b\b\b\b\b\b\b\b\b\b\b\b\b\b\b\b\b\b\b\b\b\b\b\b\b\b\b\b  5% 5274 - images/beet_salad/1508566.jpg\b\b\b\b\b\b\b\b\b\b\b\b\b\b\b\b\b\b\b\b\b\b\b\b\b\b\b\b\b\b\b\b\b\b\b\b\b\b\b\b\b                                         \b\b\b\b\b\b\b\b\b\b\b\b\b\b\b\b\b\b\b\b\b\b\b\b\b\b\b\b\b\b\b\b\b\b\b\b\b\b\b\b\b  5% 5355 - images/beet_salad/1793692.jpg\b\b\b\b\b\b\b\b\b\b\b\b\b\b\b\b\b\b\b\b\b\b\b\b\b\b\b\b\b\b\b\b\b\b\b\b\b\b\b\b\b                                         \b\b\b\b\b\b\b\b\b\b\b\b\b\b\b\b\b\b\b\b\b\b\b\b\b\b\b\b\b\b\b\b\b\b\b\b\b\b\b\b\b  5% 5433 - images/beet_salad/2106413.jpg\b\b\b\b\b\b\b\b\b\b\b\b\b\b\b\b\b\b\b\b\b\b\b\b\b\b\b\b\b\b\b\b\b\b\b\b\b\b\b\b\b                                         \b\b\b\b\b\b\b\b\b\b\b\b\b\b\b\b\b\b\b\b\b\b\b\b\b\b\b\b\b\b\b\b\b\b\b\b\b\b\b\b\b  5% 5435 - images/beet_salad/2124398.jpg\b\b\b\b\b\b\b\b\b\b\b\b\b\b\b\b\b\b\b\b\b\b\b\b\b\b\b\b\b\b\b\b\b\b\b\b\b\b\b\b\b                                         \b\b\b\b\b\b\b\b\b\b\b\b\b\b\b\b\b\b\b\b\b\b\b\b\b\b\b\b\b\b\b\b\b\b\b\b\b\b\b\b\b  5% 5513 - images/beet_salad/2476877.jpg\b\b\b\b\b\b\b\b\b\b\b\b\b\b\b\b\b\b\b\b\b\b\b\b\b\b\b\b\b\b\b\b\b\b\b\b\b\b\b\b\b                                         \b\b\b\b\b\b\b\b\b\b\b\b\b\b\b\b\b\b\b\b\b\b\b\b\b\b\b\b\b\b\b\b\b\b\b\b\b\b\b\b\b  5% 5593 - images/beet_salad/2808614.jpg\b\b\b\b\b\b\b\b\b\b\b\b\b\b\b\b\b\b\b\b\b\b\b\b\b\b\b\b\b\b\b\b\b\b\b\b\b\b\b\b\b                                         \b\b\b\b\b\b\b\b\b\b\b\b\b\b\b\b\b\b\b\b\b\b\b\b\b\b\b\b\b\b\b\b\b\b\b\b\b\b\b\b\b  5% 5594 - images/beet_salad/2812281.jpg\b\b\b\b\b\b\b\b\b\b\b\b\b\b\b\b\b\b\b\b\b\b\b\b\b\b\b\b\b\b\b\b\b\b\b\b\b\b\b\b\b                                         \b\b\b\b\b\b\b\b\b\b\b\b\b\b\b\b\b\b\b\b\b\b\b\b\b\b\b\b\b\b\b\b\b\b\b\b\b\b\b\b\b  5% 5670 - images/beet_salad/3051612.jpg\b\b\b\b\b\b\b\b\b\b\b\b\b\b\b\b\b\b\b\b\b\b\b\b\b\b\b\b\b\b\b\b\b\b\b\b\b\b\b\b\b                                         \b\b\b\b\b\b\b\b\b\b\b\b\b\b\b\b\b\b\b\b\b\b\b\b\b\b\b\b\b\b\b\b\b\b\b\b\b\b\b\b\b  5% 5750 - images/beet_salad/3296872.jpg\b\b\b\b\b\b\b\b\b\b\b\b\b\b\b\b\b\b\b\b\b\b\b\b\b\b\b\b\b\b\b\b\b\b\b\b\b\b\b\b\b                                         \b\b\b\b\b\b\b\b\b\b\b\b\b\b\b\b\b\b\b\b\b\b\b\b\b\b\b\b\b\b\b\b\b\b\b\b\b\b\b\b\b  5% 5751 - images/beet_salad/3297221.jpg\b\b\b\b\b\b\b\b\b\b\b\b\b\b\b\b\b\b\b\b\b\b\b\b\b\b\b\b\b\b\b\b\b\b\b\b\b\b\b\b\b                                         \b\b\b\b\b\b\b\b\b\b\b\b\b\b\b\b\b\b\b\b\b\b\b\b\b\b\b\b\b\b\b\b\b\b\b\b\b\b\b\b\b  5% 5828 - images/beet_salad/3559511.jpg\b\b\b\b\b\b\b\b\b\b\b\b\b\b\b\b\b\b\b\b\b\b\b\b\b\b\b\b\b\b\b\b\b\b\b\b\b\b\b\b\b                                         \b\b\b\b\b\b\b\b\b\b\b\b\b\b\b\b\b\b\b\b\b\b\b\b\b\b\b\b\b\b\b\b\b\b\b\b\b\b\b\b\b  5% 5829 - images/beet_salad/3562717.jpg\b\b\b\b\b\b\b\b\b\b\b\b\b\b\b\b\b\b\b\b\b\b\b\b\b\b\b\b\b\b\b\b\b\b\b\b\b\b\b\b\b                                         \b\b\b\b\b\b\b\b\b\b\b\b\b\b\b\b\b\b\b\b\b\b\b\b\b\b\b\b\b\b\b\b\b\b\b\b\b\b\b\b\b  5% 5905 - images/beet_salad/3808954.jpg\b\b\b\b\b\b\b\b\b\b\b\b\b\b\b\b\b\b\b\b\b\b\b\b\b\b\b\b\b\b\b\b\b\b\b\b\b\b\b\b\b                                         \b\b\b\b\b\b\b\b\b\b\b\b\b\b\b\b\b\b\b\b\b\b\b\b\b\b\b\b\b\b\b\b\b\b\b\b\b\b\b\b\b  5% 5983 - images/beet_salad/545357.jpg\b\b\b\b\b\b\b\b\b\b\b\b\b\b\b\b\b\b\b\b\b\b\b\b\b\b\b\b\b\b\b\b\b\b\b\b\b\b\b\b                                        \b\b\b\b\b\b\b\b\b\b\b\b\b\b\b\b\b\b\b\b\b\b\b\b\b\b\b\b\b\b\b\b\b\b\b\b\b\b\b\b  6% 5983 - images/beet_salad/545357.jpg\b\b\b\b\b\b\b\b\b\b\b\b\b\b\b\b\b\b\b\b\b\b\b\b\b\b\b\b\b\b\b\b\b\b\b\b\b\b\b\b                                        \b\b\b\b\b\b\b\b\b\b\b\b\b\b\b\b\b\b\b\b\b\b\b\b\b\b\b\b\b\b\b\b\b\b\b\b\b\b\b\b  6% 6067 - images/beet_salad/821309.jpg\b\b\b\b\b\b\b\b\b\b\b\b\b\b\b\b\b\b\b\b\b\b\b\b\b\b\b\b\b\b\b\b\b\b\b\b\b\b\b\b                                        \b\b\b\b\b\b\b\b\b\b\b\b\b\b\b\b\b\b\b\b\b\b\b\b\b\b\b\b\b\b\b\b\b\b\b\b\b\b\b\b  6% 6068 - images/beet_salad/824932.jpg\b\b\b\b\b\b\b\b\b\b\b\b\b\b\b\b\b\b\b\b\b\b\b\b\b\b\b\b\b\b\b\b\b\b\b\b\b\b\b\b                                        \b\b\b\b\b\b\b\b\b\b\b\b\b\b\b\b\b\b\b\b\b\b\b\b\b\b\b\b\b\b\b\b\b\b\b\b\b\b\b\b  6% 6147 - images/beignets/1118856.jpg\b\b\b\b\b\b\b\b\b\b\b\b\b\b\b\b\b\b\b\b\b\b\b\b\b\b\b\b\b\b\b\b\b\b\b\b\b\b\b                                       \b\b\b\b\b\b\b\b\b\b\b\b\b\b\b\b\b\b\b\b\b\b\b\b\b\b\b\b\b\b\b\b\b\b\b\b\b\b\b  6% 6224 - images/beignets/1354925.jpg\b\b\b\b\b\b\b\b\b\b\b\b\b\b\b\b\b\b\b\b\b\b\b\b\b\b\b\b\b\b\b\b\b\b\b\b\b\b\b                                       \b\b\b\b\b\b\b\b\b\b\b\b\b\b\b\b\b\b\b\b\b\b\b\b\b\b\b\b\b\b\b\b\b\b\b\b\b\b\b  6% 6282 - images/beignets/1514153.jpg\b\b\b\b\b\b\b\b\b\b\b\b\b\b\b\b\b\b\b\b\b\b\b\b\b\b\b\b\b\b\b\b\b\b\b\b\b\b\b                                       \b\b\b\b\b\b\b\b\b\b\b\b\b\b\b\b\b\b\b\b\b\b\b\b\b\b\b\b\b\b\b\b\b\b\b\b\b\b\b  6% 6304 - images/beignets/1573496.jpg\b\b\b\b\b\b\b\b\b\b\b\b\b\b\b\b\b\b\b\b\b\b\b\b\b\b\b\b\b\b\b\b\b\b\b\b\b\b\b                                       \b\b\b\b\b\b\b\b\b\b\b\b\b\b\b\b\b\b\b\b\b\b\b\b\b\b\b\b\b\b\b\b\b\b\b\b\b\b\b  6% 6386 - images/beignets/1896919.jpg\b\b\b\b\b\b\b\b\b\b\b\b\b\b\b\b\b\b\b\b\b\b\b\b\b\b\b\b\b\b\b\b\b\b\b\b\b\b\b                                       \b\b\b\b\b\b\b\b\b\b\b\b\b\b\b\b\b\b\b\b\b\b\b\b\b\b\b\b\b\b\b\b\b\b\b\b\b\b\b  6% 6387 - images/beignets/1899850.jpg\b\b\b\b\b\b\b\b\b\b\b\b\b\b\b\b\b\b\b\b\b\b\b\b\b\b\b\b\b\b\b\b\b\b\b\b\b\b\b                                       \b\b\b\b\b\b\b\b\b\b\b\b\b\b\b\b\b\b\b\b\b\b\b\b\b\b\b\b\b\b\b\b\b\b\b\b\b\b\b  6% 6462 - images/beignets/222410.jpg\b\b\b\b\b\b\b\b\b\b\b\b\b\b\b\b\b\b\b\b\b\b\b\b\b\b\b\b\b\b\b\b\b\b\b\b\b\b                                      \b\b\b\b\b\b\b\b\b\b\b\b\b\b\b\b\b\b\b\b\b\b\b\b\b\b\b\b\b\b\b\b\b\b\b\b\b\b  6% 6542 - images/beignets/2564667.jpg\b\b\b\b\b\b\b\b\b\b\b\b\b\b\b\b\b\b\b\b\b\b\b\b\b\b\b\b\b\b\b\b\b\b\b\b\b\b\b                                       \b\b\b\b\b\b\b\b\b\b\b\b\b\b\b\b\b\b\b\b\b\b\b\b\b\b\b\b\b\b\b\b\b\b\b\b\b\b\b  6% 6614 - images/beignets/2820737.jpg\b\b\b\b\b\b\b\b\b\b\b\b\b\b\b\b\b\b\b\b\b\b\b\b\b\b\b\b\b\b\b\b\b\b\b\b\b\b\b                                       \b\b\b\b\b\b\b\b\b\b\b\b\b\b\b\b\b\b\b\b\b\b\b\b\b\b\b\b\b\b\b\b\b\b\b\b\b\b\b  6% 6626 - images/beignets/285347.jpg\b\b\b\b\b\b\b\b\b\b\b\b\b\b\b\b\b\b\b\b\b\b\b\b\b\b\b\b\b\b\b\b\b\b\b\b\b\b                                      \b\b\b\b\b\b\b\b\b\b\b\b\b\b\b\b\b\b\b\b\b\b\b\b\b\b\b\b\b\b\b\b\b\b\b\b\b\b  6% 6649 - images/beignets/2933877.jpg\b\b\b\b\b\b\b\b\b\b\b\b\b\b\b\b\b\b\b\b\b\b\b\b\b\b\b\b\b\b\b\b\b\b\b\b\b\b\b                                       \b\b\b\b\b\b\b\b\b\b\b\b\b\b\b\b\b\b\b\b\b\b\b\b\b\b\b\b\b\b\b\b\b\b\b\b\b\b\b  6% 6705 - images/beignets/3138333.jpg\b\b\b\b\b\b\b\b\b\b\b\b\b\b\b\b\b\b\b\b\b\b\b\b\b\b\b\b\b\b\b\b\b\b\b\b\b\b\b                                       \b\b\b\b\b\b\b\b\b\b\b\b\b\b\b\b\b\b\b\b\b\b\b\b\b\b\b\b\b\b\b\b\b\b\b\b\b\b\b  6% 6742 - images/beignets/3316799.jpg\b\b\b\b\b\b\b\b\b\b\b\b\b\b\b\b\b\b\b\b\b\b\b\b\b\b\b\b\b\b\b\b\b\b\b\b\b\b\b                                       \b\b\b\b\b\b\b\b\b\b\b\b\b\b\b\b\b\b\b\b\b\b\b\b\b\b\b\b\b\b\b\b\b\b\b\b\b\b\b  6% 6783 - images/beignets/3452291.jpg\b\b\b\b\b\b\b\b\b\b\b\b\b\b\b\b\b\b\b\b\b\b\b\b\b\b\b\b\b\b\b\b\b\b\b\b\b\b\b                                       \b\b\b\b\b\b\b\b\b\b\b\b\b\b\b\b\b\b\b\b\b\b\b\b\b\b\b\b\b\b\b\b\b\b\b\b\b\b\b  6% 6852 - images/beignets/371188.jpg\b\b\b\b\b\b\b\b\b\b\b\b\b\b\b\b\b\b\b\b\b\b\b\b\b\b\b\b\b\b\b\b\b\b\b\b\b\b                                      \b\b\b\b\b\b\b\b\b\b\b\b\b\b\b\b\b\b\b\b\b\b\b\b\b\b\b\b\b\b\b\b\b\b\b\b\b\b  6% 6864 - images/beignets/3730214.jpg\b\b\b\b\b\b\b\b\b\b\b\b\b\b\b\b\b\b\b\b\b\b\b\b\b\b\b\b\b\b\b\b\b\b\b\b\b\b\b                                       \b\b\b\b\b\b\b\b\b\b\b\b\b\b\b\b\b\b\b\b\b\b\b\b\b\b\b\b\b\b\b\b\b\b\b\b\b\b\b  6% 6941 - images/beignets/52308.jpg\b\b\b\b\b\b\b\b\b\b\b\b\b\b\b\b\b\b\b\b\b\b\b\b\b\b\b\b\b\b\b\b\b\b\b\b\b                                     \b\b\b\b\b\b\b\b\b\b\b\b\b\b\b\b\b\b\b\b\b\b\b\b\b\b\b\b\b\b\b\b\b\b\b\b\b  7% 6941 - images/beignets/52308.jpg\b\b\b\b\b\b\b\b\b\b\b\b\b\b\b\b\b\b\b\b\b\b\b\b\b\b\b\b\b\b\b\b\b\b\b\b\b                                     \b\b\b\b\b\b\b\b\b\b\b\b\b\b\b\b\b\b\b\b\b\b\b\b\b\b\b\b\b\b\b\b\b\b\b\b\b  7% 7019 - images/beignets/714404.jpg\b\b\b\b\b\b\b\b\b\b\b\b\b\b\b\b\b\b\b\b\b\b\b\b\b\b\b\b\b\b\b\b\b\b\b\b\b\b                                      \b\b\b\b\b\b\b\b\b\b\b\b\b\b\b\b\b\b\b\b\b\b\b\b\b\b\b\b\b\b\b\b\b\b\b\b\b\b  7% 7020 - images/beignets/717342.jpg\b\b\b\b\b\b\b\b\b\b\b\b\b\b\b\b\b\b\b\b\b\b\b\b\b\b\b\b\b\b\b\b\b\b\b\b\b\b                                      \b\b\b\b\b\b\b\b\b\b\b\b\b\b\b\b\b\b\b\b\b\b\b\b\b\b\b\b\b\b\b\b\b\b\b\b\b\b  7% 7102 - images/bibimbap/1001113.jpg\b\b\b\b\b\b\b\b\b\b\b\b\b\b\b\b\b\b\b\b\b\b\b\b\b\b\b\b\b\b\b\b\b\b\b\b\b\b\b                                       \b\b\b\b\b\b\b\b\b\b\b\b\b\b\b\b\b\b\b\b\b\b\b\b\b\b\b\b\b\b\b\b\b\b\b\b\b\b\b  7% 7109 - images/bibimbap/1011217.jpg\b\b\b\b\b\b\b\b\b\b\b\b\b\b\b\b\b\b\b\b\b\b\b\b\b\b\b\b\b\b\b\b\b\b\b\b\b\b\b                                       \b\b\b\b\b\b\b\b\b\b\b\b\b\b\b\b\b\b\b\b\b\b\b\b\b\b\b\b\b\b\b\b\b\b\b\b\b\b\b  7% 7171 - images/bibimbap/1225828.jpg\b\b\b\b\b\b\b\b\b\b\b\b\b\b\b\b\b\b\b\b\b\b\b\b\b\b\b\b\b\b\b\b\b\b\b\b\b\b\b                                       \b\b\b\b\b\b\b\b\b\b\b\b\b\b\b\b\b\b\b\b\b\b\b\b\b\b\b\b\b\b\b\b\b\b\b\b\b\b\b  7% 7172 - images/bibimbap/1229620.jpg\b\b\b\b\b\b\b\b\b\b\b\b\b\b\b\b\b\b\b\b\b\b\b\b\b\b\b\b\b\b\b\b\b\b\b\b\b\b\b                                       \b\b\b\b\b\b\b\b\b\b\b\b\b\b\b\b\b\b\b\b\b\b\b\b\b\b\b\b\b\b\b\b\b\b\b\b\b\b\b  7% 7240 - images/bibimbap/1442729.jpg\b\b\b\b\b\b\b\b\b\b\b\b\b\b\b\b\b\b\b\b\b\b\b\b\b\b\b\b\b\b\b\b\b\b\b\b\b\b\b                                       \b\b\b\b\b\b\b\b\b\b\b\b\b\b\b\b\b\b\b\b\b\b\b\b\b\b\b\b\b\b\b\b\b\b\b\b\b\b\b  7% 7315 - images/bibimbap/1747113.jpg\b\b\b\b\b\b\b\b\b\b\b\b\b\b\b\b\b\b\b\b\b\b\b\b\b\b\b\b\b\b\b\b\b\b\b\b\b\b\b                                       \b\b\b\b\b\b\b\b\b\b\b\b\b\b\b\b\b\b\b\b\b\b\b\b\b\b\b\b\b\b\b\b\b\b\b\b\b\b\b  7% 7392 - images/bibimbap/2041700.jpg\b\b\b\b\b\b\b\b\b\b\b\b\b\b\b\b\b\b\b\b\b\b\b\b\b\b\b\b\b\b\b\b\b\b\b\b\b\b\b                                       \b\b\b\b\b\b\b\b\b\b\b\b\b\b\b\b\b\b\b\b\b\b\b\b\b\b\b\b\b\b\b\b\b\b\b\b\b\b\b  7% 7467 - images/bibimbap/2325640.jpg\b\b\b\b\b\b\b\b\b\b\b\b\b\b\b\b\b\b\b\b\b\b\b\b\b\b\b\b\b\b\b\b\b\b\b\b\b\b\b                                       \b\b\b\b\b\b\b\b\b\b\b\b\b\b\b\b\b\b\b\b\b\b\b\b\b\b\b\b\b\b\b\b\b\b\b\b\b\b\b  7% 7468 - images/bibimbap/2334824.jpg\b\b\b\b\b\b\b\b\b\b\b\b\b\b\b\b\b\b\b\b\b\b\b\b\b\b\b\b\b\b\b\b\b\b\b\b\b\b\b                                       \b\b\b\b\b\b\b\b\b\b\b\b\b\b\b\b\b\b\b\b\b\b\b\b\b\b\b\b\b\b\b\b\b\b\b\b\b\b\b  7% 7541 - images/bibimbap/2534963.jpg\b\b\b\b\b\b\b\b\b\b\b\b\b\b\b\b\b\b\b\b\b\b\b\b\b\b\b\b\b\b\b\b\b\b\b\b\b\b\b                                       \b\b\b\b\b\b\b\b\b\b\b\b\b\b\b\b\b\b\b\b\b\b\b\b\b\b\b\b\b\b\b\b\b\b\b\b\b\b\b  7% 7617 - images/bibimbap/275330.jpg\b\b\b\b\b\b\b\b\b\b\b\b\b\b\b\b\b\b\b\b\b\b\b\b\b\b\b\b\b\b\b\b\b\b\b\b\b\b                                      \b\b\b\b\b\b\b\b\b\b\b\b\b\b\b\b\b\b\b\b\b\b\b\b\b\b\b\b\b\b\b\b\b\b\b\b\b\b  7% 7696 - images/bibimbap/306672.jpg\b\b\b\b\b\b\b\b\b\b\b\b\b\b\b\b\b\b\b\b\b\b\b\b\b\b\b\b\b\b\b\b\b\b\b\b\b\b                                      \b\b\b\b\b\b\b\b\b\b\b\b\b\b\b\b\b\b\b\b\b\b\b\b\b\b\b\b\b\b\b\b\b\b\b\b\b\b  7% 7697 - images/bibimbap/306734.jpg\b\b\b\b\b\b\b\b\b\b\b\b\b\b\b\b\b\b\b\b\b\b\b\b\b\b\b\b\b\b\b\b\b\b\b\b\b\b                                      \b\b\b\b\b\b\b\b\b\b\b\b\b\b\b\b\b\b\b\b\b\b\b\b\b\b\b\b\b\b\b\b\b\b\b\b\b\b  7% 7770 - images/bibimbap/3317775.jpg\b\b\b\b\b\b\b\b\b\b\b\b\b\b\b\b\b\b\b\b\b\b\b\b\b\b\b\b\b\b\b\b\b\b\b\b\b\b\b                                       \b\b\b\b\b\b\b\b\b\b\b\b\b\b\b\b\b\b\b\b\b\b\b\b\b\b\b\b\b\b\b\b\b\b\b\b\b\b\b  8% 7845 - images/bibimbap/3583648.jpg\b\b\b\b\b\b\b\b\b\b\b\b\b\b\b\b\b\b\b\b\b\b\b\b\b\b\b\b\b\b\b\b\b\b\b\b\b\b\b                                       \b\b\b\b\b\b\b\b\b\b\b\b\b\b\b\b\b\b\b\b\b\b\b\b\b\b\b\b\b\b\b\b\b\b\b\b\b\b\b  8% 7919 - images/bibimbap/382866.jpg\b\b\b\b\b\b\b\b\b\b\b\b\b\b\b\b\b\b\b\b\b\b\b\b\b\b\b\b\b\b\b\b\b\b\b\b\b\b                                      \b\b\b\b\b\b\b\b\b\b\b\b\b\b\b\b\b\b\b\b\b\b\b\b\b\b\b\b\b\b\b\b\b\b\b\b\b\b  8% 7996 - images/bibimbap/619905.jpg\b\b\b\b\b\b\b\b\b\b\b\b\b\b\b\b\b\b\b\b\b\b\b\b\b\b\b\b\b\b\b\b\b\b\b\b\b\b                                      \b\b\b\b\b\b\b\b\b\b\b\b\b\b\b\b\b\b\b\b\b\b\b\b\b\b\b\b\b\b\b\b\b\b\b\b\b\b  8% 8014 - images/bibimbap/679211.jpg\b\b\b\b\b\b\b\b\b\b\b\b\b\b\b\b\b\b\b\b\b\b\b\b\b\b\b\b\b\b\b\b\b\b\b\b\b\b                                      \b\b\b\b\b\b\b\b\b\b\b\b\b\b\b\b\b\b\b\b\b\b\b\b\b\b\b\b\b\b\b\b\b\b\b\b\b\b  8% 8070 - images/bibimbap/890594.jpg\b\b\b\b\b\b\b\b\b\b\b\b\b\b\b\b\b\b\b\b\b\b\b\b\b\b\b\b\b\b\b\b\b\b\b\b\b\b                                      \b\b\b\b\b\b\b\b\b\b\b\b\b\b\b\b\b\b\b\b\b\b\b\b\b\b\b\b\b\b\b\b\b\b\b\b\b\b  8% 8147 - images/bread_pudding/1135764.jpg\b\b\b\b\b\b\b\b\b\b\b\b\b\b\b\b\b\b\b\b\b\b\b\b\b\b\b\b\b\b\b\b\b\b\b\b\b\b\b\b\b\b\b\b                                            \b\b\b\b\b\b\b\b\b\b\b\b\b\b\b\b\b\b\b\b\b\b\b\b\b\b\b\b\b\b\b\b\b\b\b\b\b\b\b\b\b\b\b\b  8% 8231 - images/bread_pudding/136855.jpg\b\b\b\b\b\b\b\b\b\b\b\b\b\b\b\b\b\b\b\b\b\b\b\b\b\b\b\b\b\b\b\b\b\b\b\b\b\b\b\b\b\b\b                                           \b\b\b\b\b\b\b\b\b\b\b\b\b\b\b\b\b\b\b\b\b\b\b\b\b\b\b\b\b\b\b\b\b\b\b\b\b\b\b\b\b\b\b  8% 8316 - images/bread_pudding/1626404.jpg\b\b\b\b\b\b\b\b\b\b\b\b\b\b\b\b\b\b\b\b\b\b\b\b\b\b\b\b\b\b\b\b\b\b\b\b\b\b\b\b\b\b\b\b                                            \b\b\b\b\b\b\b\b\b\b\b\b\b\b\b\b\b\b\b\b\b\b\b\b\b\b\b\b\b\b\b\b\b\b\b\b\b\b\b\b\b\b\b\b  8% 8317 - images/bread_pudding/1629333.jpg\b\b\b\b\b\b\b\b\b\b\b\b\b\b\b\b\b\b\b\b\b\b\b\b\b\b\b\b\b\b\b\b\b\b\b\b\b\b\b\b\b\b\b\b                                            \b\b\b\b\b\b\b\b\b\b\b\b\b\b\b\b\b\b\b\b\b\b\b\b\b\b\b\b\b\b\b\b\b\b\b\b\b\b\b\b\b\b\b\b  8% 8404 - images/bread_pudding/1976786.jpg\b\b\b\b\b\b\b\b\b\b\b\b\b\b\b\b\b\b\b\b\b\b\b\b\b\b\b\b\b\b\b\b\b\b\b\b\b\b\b\b\b\b\b\b                                            \b\b\b\b\b\b\b\b\b\b\b\b\b\b\b\b\b\b\b\b\b\b\b\b\b\b\b\b\b\b\b\b\b\b\b\b\b\b\b\b\b\b\b\b  8% 8495 - images/bread_pudding/2386543.jpg\b\b\b\b\b\b\b\b\b\b\b\b\b\b\b\b\b\b\b\b\b\b\b\b\b\b\b\b\b\b\b\b\b\b\b\b\b\b\b\b\b\b\b\b                                            \b\b\b\b\b\b\b\b\b\b\b\b\b\b\b\b\b\b\b\b\b\b\b\b\b\b\b\b\b\b\b\b\b\b\b\b\b\b\b\b\b\b\b\b  8% 8589 - images/bread_pudding/2736183.jpg\b\b\b\b\b\b\b\b\b\b\b\b\b\b\b\b\b\b\b\b\b\b\b\b\b\b\b\b\b\b\b\b\b\b\b\b\b\b\b\b\b\b\b\b                                            \b\b\b\b\b\b\b\b\b\b\b\b\b\b\b\b\b\b\b\b\b\b\b\b\b\b\b\b\b\b\b\b\b\b\b\b\b\b\b\b\b\b\b\b  8% 8590 - images/bread_pudding/273823.jpg\b\b\b\b\b\b\b\b\b\b\b\b\b\b\b\b\b\b\b\b\b\b\b\b\b\b\b\b\b\b\b\b\b\b\b\b\b\b\b\b\b\b\b                                           \b\b\b\b\b\b\b\b\b\b\b\b\b\b\b\b\b\b\b\b\b\b\b\b\b\b\b\b\b\b\b\b\b\b\b\b\b\b\b\b\b\b\b  8% 8684 - images/bread_pudding/3058253.jpg\b\b\b\b\b\b\b\b\b\b\b\b\b\b\b\b\b\b\b\b\b\b\b\b\b\b\b\b\b\b\b\b\b\b\b\b\b\b\b\b\b\b\b\b                                            \b\b\b\b\b\b\b\b\b\b\b\b\b\b\b\b\b\b\b\b\b\b\b\b\b\b\b\b\b\b\b\b\b\b\b\b\b\b\b\b\b\b\b\b  8% 8773 - images/bread_pudding/33822.jpg\b\b\b\b\b\b\b\b\b\b\b\b\b\b\b\b\b\b\b\b\b\b\b\b\b\b\b\b\b\b\b\b\b\b\b\b\b\b\b\b\b\b                                          \b\b\b\b\b\b\b\b\b\b\b\b\b\b\b\b\b\b\b\b\b\b\b\b\b\b\b\b\b\b\b\b\b\b\b\b\b\b\b\b\b\b  8% 8830 - images/bread_pudding/3556118.jpg\b\b\b\b\b\b\b\b\b\b\b\b\b\b\b\b\b\b\b\b\b\b\b\b\b\b\b\b\b\b\b\b\b\b\b\b\b\b\b\b\b\b\b\b                                            \b\b\b\b\b\b\b\b\b\b\b\b\b\b\b\b\b\b\b\b\b\b\b\b\b\b\b\b\b\b\b\b\b\b\b\b\b\b\b\b\b\b\b\b  8% 8865 - images/bread_pudding/3661319.jpg\b\b\b\b\b\b\b\b\b\b\b\b\b\b\b\b\b\b\b\b\b\b\b\b\b\b\b\b\b\b\b\b\b\b\b\b\b\b\b\b\b\b\b\b                                            \b\b\b\b\b\b\b\b\b\b\b\b\b\b\b\b\b\b\b\b\b\b\b\b\b\b\b\b\b\b\b\b\b\b\b\b\b\b\b\b\b\b\b\b  9% 8960 - images/bread_pudding/496765.jpg\b\b\b\b\b\b\b\b\b\b\b\b\b\b\b\b\b\b\b\b\b\b\b\b\b\b\b\b\b\b\b\b\b\b\b\b\b\b\b\b\b\b\b                                           \b\b\b\b\b\b\b\b\b\b\b\b\b\b\b\b\b\b\b\b\b\b\b\b\b\b\b\b\b\b\b\b\b\b\b\b\b\b\b\b\b\b\b  9% 9035 - images/bread_pudding/73250.jpg\b\b\b\b\b\b\b\b\b\b\b\b\b\b\b\b\b\b\b\b\b\b\b\b\b\b\b\b\b\b\b\b\b\b\b\b\b\b\b\b\b\b                                          \b\b\b\b\b\b\b\b\b\b\b\b\b\b\b\b\b\b\b\b\b\b\b\b\b\b\b\b\b\b\b\b\b\b\b\b\b\b\b\b\b\b  9% 9045 - images/bread_pudding/788742.jpg\b\b\b\b\b\b\b\b\b\b\b\b\b\b\b\b\b\b\b\b\b\b\b\b\b\b\b\b\b\b\b\b\b\b\b\b\b\b\b\b\b\b\b                                           \b\b\b\b\b\b\b\b\b\b\b\b\b\b\b\b\b\b\b\b\b\b\b\b\b\b\b\b\b\b\b\b\b\b\b\b\b\b\b\b\b\b\b  9% 9131 - images/breakfast_burrito/1088169.jpg\b\b\b\b\b\b\b\b\b\b\b\b\b\b\b\b\b\b\b\b\b\b\b\b\b\b\b\b\b\b\b\b\b\b\b\b\b\b\b\b\b\b\b\b\b\b\b\b                                                \b\b\b\b\b\b\b\b\b\b\b\b\b\b\b\b\b\b\b\b\b\b\b\b\b\b\b\b\b\b\b\b\b\b\b\b\b\b\b\b\b\b\b\b\b\b\b\b  9% 9214 - images/breakfast_burrito/1324952.jpg\b\b\b\b\b\b\b\b\b\b\b\b\b\b\b\b\b\b\b\b\b\b\b\b\b\b\b\b\b\b\b\b\b\b\b\b\b\b\b\b\b\b\b\b\b\b\b\b                                                \b\b\b\b\b\b\b\b\b\b\b\b\b\b\b\b\b\b\b\b\b\b\b\b\b\b\b\b\b\b\b\b\b\b\b\b\b\b\b\b\b\b\b\b\b\b\b\b  9% 9300 - images/breakfast_burrito/1611800.jpg\b\b\b\b\b\b\b\b\b\b\b\b\b\b\b\b\b\b\b\b\b\b\b\b\b\b\b\b\b\b\b\b\b\b\b\b\b\b\b\b\b\b\b\b\b\b\b\b                                                \b\b\b\b\b\b\b\b\b\b\b\b\b\b\b\b\b\b\b\b\b\b\b\b\b\b\b\b\b\b\b\b\b\b\b\b\b\b\b\b\b\b\b\b\b\b\b\b  9% 9301 - images/breakfast_burrito/1612620.jpg\b\b\b\b\b\b\b\b\b\b\b\b\b\b\b\b\b\b\b\b\b\b\b\b\b\b\b\b\b\b\b\b\b\b\b\b\b\b\b\b\b\b\b\b\b\b\b\b                                                \b\b\b\b\b\b\b\b\b\b\b\b\b\b\b\b\b\b\b\b\b\b\b\b\b\b\b\b\b\b\b\b\b\b\b\b\b\b\b\b\b\b\b\b\b\b\b\b  9% 9388 - images/breakfast_burrito/1955587.jpg\b\b\b\b\b\b\b\b\b\b\b\b\b\b\b\b\b\b\b\b\b\b\b\b\b\b\b\b\b\b\b\b\b\b\b\b\b\b\b\b\b\b\b\b\b\b\b\b                                                \b\b\b\b\b\b\b\b\b\b\b\b\b\b\b\b\b\b\b\b\b\b\b\b\b\b\b\b\b\b\b\b\b\b\b\b\b\b\b\b\b\b\b\b\b\b\b\b  9% 9473 - images/breakfast_burrito/2298022.jpg\b\b\b\b\b\b\b\b\b\b\b\b\b\b\b\b\b\b\b\b\b\b\b\b\b\b\b\b\b\b\b\b\b\b\b\b\b\b\b\b\b\b\b\b\b\b\b\b                                                \b\b\b\b\b\b\b\b\b\b\b\b\b\b\b\b\b\b\b\b\b\b\b\b\b\b\b\b\b\b\b\b\b\b\b\b\b\b\b\b\b\b\b\b\b\b\b\b  9% 9562 - images/breakfast_burrito/2653297.jpg\b\b\b\b\b\b\b\b\b\b\b\b\b\b\b\b\b\b\b\b\b\b\b\b\b\b\b\b\b\b\b\b\b\b\b\b\b\b\b\b\b\b\b\b\b\b\b\b                                                \b\b\b\b\b\b\b\b\b\b\b\b\b\b\b\b\b\b\b\b\b\b\b\b\b\b\b\b\b\b\b\b\b\b\b\b\b\b\b\b\b\b\b\b\b\b\b\b  9% 9612 - images/breakfast_burrito/287669.jpg\b\b\b\b\b\b\b\b\b\b\b\b\b\b\b\b\b\b\b\b\b\b\b\b\b\b\b\b\b\b\b\b\b\b\b\b\b\b\b\b\b\b\b\b\b\b\b                                               \b\b\b\b\b\b\b\b\b\b\b\b\b\b\b\b\b\b\b\b\b\b\b\b\b\b\b\b\b\b\b\b\b\b\b\b\b\b\b\b\b\b\b\b\b\b\b  9% 9650 - images/breakfast_burrito/3034348.jpg\b\b\b\b\b\b\b\b\b\b\b\b\b\b\b\b\b\b\b\b\b\b\b\b\b\b\b\b\b\b\b\b\b\b\b\b\b\b\b\b\b\b\b\b\b\b\b\b                                                \b\b\b\b\b\b\b\b\b\b\b\b\b\b\b\b\b\b\b\b\b\b\b\b\b\b\b\b\b\b\b\b\b\b\b\b\b\b\b\b\b\b\b\b\b\b\b\b  9% 9738 - images/breakfast_burrito/339059.jpg\b\b\b\b\b\b\b\b\b\b\b\b\b\b\b\b\b\b\b\b\b\b\b\b\b\b\b\b\b\b\b\b\b\b\b\b\b\b\b\b\b\b\b\b\b\b\b                                               \b\b\b\b\b\b\b\b\b\b\b\b\b\b\b\b\b\b\b\b\b\b\b\b\b\b\b\b\b\b\b\b\b\b\b\b\b\b\b\b\b\b\b\b\b\b\b  9% 9824 - images/breakfast_burrito/3706712.jpg\b\b\b\b\b\b\b\b\b\b\b\b\b\b\b\b\b\b\b\b\b\b\b\b\b\b\b\b\b\b\b\b\b\b\b\b\b\b\b\b\b\b\b\b\b\b\b\b                                                \b\b\b\b\b\b\b\b\b\b\b\b\b\b\b\b\b\b\b\b\b\b\b\b\b\b\b\b\b\b\b\b\b\b\b\b\b\b\b\b\b\b\b\b\b\b\b\b  9% 9825 - images/breakfast_burrito/3709091.jpg\b\b\b\b\b\b\b\b\b\b\b\b\b\b\b\b\b\b\b\b\b\b\b\b\b\b\b\b\b\b\b\b\b\b\b\b\b\b\b\b\b\b\b\b\b\b\b\b                                                \b\b\b\b\b\b\b\b\b\b\b\b\b\b\b\b\b\b\b\b\b\b\b\b\b\b\b\b\b\b\b\b\b\b\b\b\b\b\b\b\b\b\b\b\b\b\b\b  9% 9911 - images/breakfast_burrito/490688.jpg\b\b\b\b\b\b\b\b\b\b\b\b\b\b\b\b\b\b\b\b\b\b\b\b\b\b\b\b\b\b\b\b\b\b\b\b\b\b\b\b\b\b\b\b\b\b\b                                               \b\b\b\b\b\b\b\b\b\b\b\b\b\b\b\b\b\b\b\b\b\b\b\b\b\b\b\b\b\b\b\b\b\b\b\b\b\b\b\b\b\b\b\b\b\b\b 10% 9992 - images/breakfast_burrito/6881.jpg\b\b\b\b\b\b\b\b\b\b\b\b\b\b\b\b\b\b\b\b\b\b\b\b\b\b\b\b\b\b\b\b\b\b\b\b\b\b\b\b\b\b\b\b\b                                             \b\b\b\b\b\b\b\b\b\b\b\b\b\b\b\b\b\b\b\b\b\b\b\b\b\b\b\b\b\b\b\b\b\b\b\b\b\b\b\b\b\b\b\b\b 10% 10077 - images/breakfast_burrito/931734.jpg\b\b\b\b\b\b\b\b\b\b\b\b\b\b\b\b\b\b\b\b\b\b\b\b\b\b\b\b\b\b\b\b\b\b\b\b\b\b\b\b\b\b\b\b\b\b\b\b                                                \b\b\b\b\b\b\b\b\b\b\b\b\b\b\b\b\b\b\b\b\b\b\b\b\b\b\b\b\b\b\b\b\b\b\b\b\b\b\b\b\b\b\b\b\b\b\b\b 10% 10090 - images/breakfast_burrito/979612.jpg\b\b\b\b\b\b\b\b\b\b\b\b\b\b\b\b\b\b\b\b\b\b\b\b\b\b\b\b\b\b\b\b\b\b\b\b\b\b\b\b\b\b\b\b\b\b\b\b                                                \b\b\b\b\b\b\b\b\b\b\b\b\b\b\b\b\b\b\b\b\b\b\b\b\b\b\b\b\b\b\b\b\b\b\b\b\b\b\b\b\b\b\b\b\b\b\b\b 10% 10161 - images/bruschetta/1255490.jpg\b\b\b\b\b\b\b\b\b\b\b\b\b\b\b\b\b\b\b\b\b\b\b\b\b\b\b\b\b\b\b\b\b\b\b\b\b\b\b\b\b\b                                          \b\b\b\b\b\b\b\b\b\b\b\b\b\b\b\b\b\b\b\b\b\b\b\b\b\b\b\b\b\b\b\b\b\b\b\b\b\b\b\b\b\b 10% 10243 - images/bruschetta/1581410.jpg\b\b\b\b\b\b\b\b\b\b\b\b\b\b\b\b\b\b\b\b\b\b\b\b\b\b\b\b\b\b\b\b\b\b\b\b\b\b\b\b\b\b                                          \b\b\b\b\b\b\b\b\b\b\b\b\b\b\b\b\b\b\b\b\b\b\b\b\b\b\b\b\b\b\b\b\b\b\b\b\b\b\b\b\b\b 10% 10316 - images/bruschetta/1880903.jpg\b\b\b\b\b\b\b\b\b\b\b\b\b\b\b\b\b\b\b\b\b\b\b\b\b\b\b\b\b\b\b\b\b\b\b\b\b\b\b\b\b\b                                          \b\b\b\b\b\b\b\b\b\b\b\b\b\b\b\b\b\b\b\b\b\b\b\b\b\b\b\b\b\b\b\b\b\b\b\b\b\b\b\b\b\b 10% 10395 - images/bruschetta/2133542.jpg\b\b\b\b\b\b\b\b\b\b\b\b\b\b\b\b\b\b\b\b\b\b\b\b\b\b\b\b\b\b\b\b\b\b\b\b\b\b\b\b\b\b                                          \b\b\b\b\b\b\b\b\b\b\b\b\b\b\b\b\b\b\b\b\b\b\b\b\b\b\b\b\b\b\b\b\b\b\b\b\b\b\b\b\b\b 10% 10396 - images/bruschetta/213485.jpg\b\b\b\b\b\b\b\b\b\b\b\b\b\b\b\b\b\b\b\b\b\b\b\b\b\b\b\b\b\b\b\b\b\b\b\b\b\b\b\b\b                                         \b\b\b\b\b\b\b\b\b\b\b\b\b\b\b\b\b\b\b\b\b\b\b\b\b\b\b\b\b\b\b\b\b\b\b\b\b\b\b\b\b 10% 10478 - images/bruschetta/2408610.jpg\b\b\b\b\b\b\b\b\b\b\b\b\b\b\b\b\b\b\b\b\b\b\b\b\b\b\b\b\b\b\b\b\b\b\b\b\b\b\b\b\b\b                                          \b\b\b\b\b\b\b\b\b\b\b\b\b\b\b\b\b\b\b\b\b\b\b\b\b\b\b\b\b\b\b\b\b\b\b\b\b\b\b\b\b\b 10% 10559 - images/bruschetta/2663471.jpg\b\b\b\b\b\b\b\b\b\b\b\b\b\b\b\b\b\b\b\b\b\b\b\b\b\b\b\b\b\b\b\b\b\b\b\b\b\b\b\b\b\b                                          \b\b\b\b\b\b\b\b\b\b\b\b\b\b\b\b\b\b\b\b\b\b\b\b\b\b\b\b\b\b\b\b\b\b\b\b\b\b\b\b\b\b 10% 10641 - images/bruschetta/3056362.jpg\b\b\b\b\b\b\b\b\b\b\b\b\b\b\b\b\b\b\b\b\b\b\b\b\b\b\b\b\b\b\b\b\b\b\b\b\b\b\b\b\b\b                                          \b\b\b\b\b\b\b\b\b\b\b\b\b\b\b\b\b\b\b\b\b\b\b\b\b\b\b\b\b\b\b\b\b\b\b\b\b\b\b\b\b\b 10% 10720 - images/bruschetta/3381192.jpg\b\b\b\b\b\b\b\b\b\b\b\b\b\b\b\b\b\b\b\b\b\b\b\b\b\b\b\b\b\b\b\b\b\b\b\b\b\b\b\b\b\b                                          \b\b\b\b\b\b\b\b\b\b\b\b\b\b\b\b\b\b\b\b\b\b\b\b\b\b\b\b\b\b\b\b\b\b\b\b\b\b\b\b\b\b 10% 10721 - images/bruschetta/3387698.jpg\b\b\b\b\b\b\b\b\b\b\b\b\b\b\b\b\b\b\b\b\b\b\b\b\b\b\b\b\b\b\b\b\b\b\b\b\b\b\b\b\b\b                                          \b\b\b\b\b\b\b\b\b\b\b\b\b\b\b\b\b\b\b\b\b\b\b\b\b\b\b\b\b\b\b\b\b\b\b\b\b\b\b\b\b\b 10% 10799 - images/bruschetta/3673985.jpg\b\b\b\b\b\b\b\b\b\b\b\b\b\b\b\b\b\b\b\b\b\b\b\b\b\b\b\b\b\b\b\b\b\b\b\b\b\b\b\b\b\b                                          \b\b\b\b\b\b\b\b\b\b\b\b\b\b\b\b\b\b\b\b\b\b\b\b\b\b\b\b\b\b\b\b\b\b\b\b\b\b\b\b\b\b 10% 10872 - images/bruschetta/3909270.jpg\b\b\b\b\b\b\b\b\b\b\b\b\b\b\b\b\b\b\b\b\b\b\b\b\b\b\b\b\b\b\b\b\b\b\b\b\b\b\b\b\b\b                                          \b\b\b\b\b\b\b\b\b\b\b\b\b\b\b\b\b\b\b\b\b\b\b\b\b\b\b\b\b\b\b\b\b\b\b\b\b\b\b\b\b\b 11% 10953 - images/bruschetta/61059.jpg\b\b\b\b\b\b\b\b\b\b\b\b\b\b\b\b\b\b\b\b\b\b\b\b\b\b\b\b\b\b\b\b\b\b\b\b\b\b\b\b                                        \b\b\b\b\b\b\b\b\b\b\b\b\b\b\b\b\b\b\b\b\b\b\b\b\b\b\b\b\b\b\b\b\b\b\b\b\b\b\b\b 11% 10969 - images/bruschetta/654414.jpg\b\b\b\b\b\b\b\b\b\b\b\b\b\b\b\b\b\b\b\b\b\b\b\b\b\b\b\b\b\b\b\b\b\b\b\b\b\b\b\b\b                                         \b\b\b\b\b\b\b\b\b\b\b\b\b\b\b\b\b\b\b\b\b\b\b\b\b\b\b\b\b\b\b\b\b\b\b\b\b\b\b\b\b 11% 11031 - images/bruschetta/80102.jpg\b\b\b\b\b\b\b\b\b\b\b\b\b\b\b\b\b\b\b\b\b\b\b\b\b\b\b\b\b\b\b\b\b\b\b\b\b\b\b\b                                        \b\b\b\b\b\b\b\b\b\b\b\b\b\b\b\b\b\b\b\b\b\b\b\b\b\b\b\b\b\b\b\b\b\b\b\b\b\b\b\b 11% 11114 - images/caesar_salad/1062767.jpg\b\b\b\b\b\b\b\b\b\b\b\b\b\b\b\b\b\b\b\b\b\b\b\b\b\b\b\b\b\b\b\b\b\b\b\b\b\b\b\b\b\b\b\b                                            \b\b\b\b\b\b\b\b\b\b\b\b\b\b\b\b\b\b\b\b\b\b\b\b\b\b\b\b\b\b\b\b\b\b\b\b\b\b\b\b\b\b\b\b 11% 11190 - images/caesar_salad/1406418.jpg\b\b\b\b\b\b\b\b\b\b\b\b\b\b\b\b\b\b\b\b\b\b\b\b\b\b\b\b\b\b\b\b\b\b\b\b\b\b\b\b\b\b\b\b                                            \b\b\b\b\b\b\b\b\b\b\b\b\b\b\b\b\b\b\b\b\b\b\b\b\b\b\b\b\b\b\b\b\b\b\b\b\b\b\b\b\b\b\b\b 11% 11268 - images/caesar_salad/1657139.jpg\b\b\b\b\b\b\b\b\b\b\b\b\b\b\b\b\b\b\b\b\b\b\b\b\b\b\b\b\b\b\b\b\b\b\b\b\b\b\b\b\b\b\b\b                                            \b\b\b\b\b\b\b\b\b\b\b\b\b\b\b\b\b\b\b\b\b\b\b\b\b\b\b\b\b\b\b\b\b\b\b\b\b\b\b\b\b\b\b\b 11% 11269 - images/caesar_salad/1657177.jpg\b\b\b\b\b\b\b\b\b\b\b\b\b\b\b\b\b\b\b\b\b\b\b\b\b\b\b\b\b\b\b\b\b\b\b\b\b\b\b\b\b\b\b\b                                            \b\b\b\b\b\b\b\b\b\b\b\b\b\b\b\b\b\b\b\b\b\b\b\b\b\b\b\b\b\b\b\b\b\b\b\b\b\b\b\b\b\b\b\b 11% 11341 - images/caesar_salad/1895907.jpg\b\b\b\b\b\b\b\b\b\b\b\b\b\b\b\b\b\b\b\b\b\b\b\b\b\b\b\b\b\b\b\b\b\b\b\b\b\b\b\b\b\b\b\b                                            \b\b\b\b\b\b\b\b\b\b\b\b\b\b\b\b\b\b\b\b\b\b\b\b\b\b\b\b\b\b\b\b\b\b\b\b\b\b\b\b\b\b\b\b 11% 11416 - images/caesar_salad/2122717.jpg\b\b\b\b\b\b\b\b\b\b\b\b\b\b\b\b\b\b\b\b\b\b\b\b\b\b\b\b\b\b\b\b\b\b\b\b\b\b\b\b\b\b\b\b                                            \b\b\b\b\b\b\b\b\b\b\b\b\b\b\b\b\b\b\b\b\b\b\b\b\b\b\b\b\b\b\b\b\b\b\b\b\b\b\b\b\b\b\b\b 11% 11487 - images/caesar_salad/2354912.jpg\b\b\b\b\b\b\b\b\b\b\b\b\b\b\b\b\b\b\b\b\b\b\b\b\b\b\b\b\b\b\b\b\b\b\b\b\b\b\b\b\b\b\b\b                                            \b\b\b\b\b\b\b\b\b\b\b\b\b\b\b\b\b\b\b\b\b\b\b\b\b\b\b\b\b\b\b\b\b\b\b\b\b\b\b\b\b\b\b\b 11% 11563 - images/caesar_salad/2650771.jpg\b\b\b\b\b\b\b\b\b\b\b\b\b\b\b\b\b\b\b\b\b\b\b\b\b\b\b\b\b\b\b\b\b\b\b\b\b\b\b\b\b\b\b\b                                            \b\b\b\b\b\b\b\b\b\b\b\b\b\b\b\b\b\b\b\b\b\b\b\b\b\b\b\b\b\b\b\b\b\b\b\b\b\b\b\b\b\b\b\b 11% 11632 - images/caesar_salad/2879665.jpg\b\b\b\b\b\b\b\b\b\b\b\b\b\b\b\b\b\b\b\b\b\b\b\b\b\b\b\b\b\b\b\b\b\b\b\b\b\b\b\b\b\b\b\b                                            \b\b\b\b\b\b\b\b\b\b\b\b\b\b\b\b\b\b\b\b\b\b\b\b\b\b\b\b\b\b\b\b\b\b\b\b\b\b\b\b\b\b\b\b 11% 11645 - images/caesar_salad/2910283.jpg\b\b\b\b\b\b\b\b\b\b\b\b\b\b\b\b\b\b\b\b\b\b\b\b\b\b\b\b\b\b\b\b\b\b\b\b\b\b\b\b\b\b\b\b                                            \b\b\b\b\b\b\b\b\b\b\b\b\b\b\b\b\b\b\b\b\b\b\b\b\b\b\b\b\b\b\b\b\b\b\b\b\b\b\b\b\b\b\b\b 11% 11722 - images/caesar_salad/3173060.jpg\b\b\b\b\b\b\b\b\b\b\b\b\b\b\b\b\b\b\b\b\b\b\b\b\b\b\b\b\b\b\b\b\b\b\b\b\b\b\b\b\b\b\b\b                                            \b\b\b\b\b\b\b\b\b\b\b\b\b\b\b\b\b\b\b\b\b\b\b\b\b\b\b\b\b\b\b\b\b\b\b\b\b\b\b\b\b\b\b\b 11% 11799 - images/caesar_salad/3386734.jpg\b\b\b\b\b\b\b\b\b\b\b\b\b\b\b\b\b\b\b\b\b\b\b\b\b\b\b\b\b\b\b\b\b\b\b\b\b\b\b\b\b\b\b\b                                            \b\b\b\b\b\b\b\b\b\b\b\b\b\b\b\b\b\b\b\b\b\b\b\b\b\b\b\b\b\b\b\b\b\b\b\b\b\b\b\b\b\b\b\b 11% 11871 - images/caesar_salad/3646481.jpg\b\b\b\b\b\b\b\b\b\b\b\b\b\b\b\b\b\b\b\b\b\b\b\b\b\b\b\b\b\b\b\b\b\b\b\b\b\b\b\b\b\b\b\b                                            \b\b\b\b\b\b\b\b\b\b\b\b\b\b\b\b\b\b\b\b\b\b\b\b\b\b\b\b\b\b\b\b\b\b\b\b\b\b\b\b\b\b\b\b 12% 11880 - images/caesar_salad/3668460.jpg\b\b\b\b\b\b\b\b\b\b\b\b\b\b\b\b\b\b\b\b\b\b\b\b\b\b\b\b\b\b\b\b\b\b\b\b\b\b\b\b\b\b\b\b                                            \b\b\b\b\b\b\b\b\b\b\b\b\b\b\b\b\b\b\b\b\b\b\b\b\b\b\b\b\b\b\b\b\b\b\b\b\b\b\b\b\b\b\b\b 12% 11954 - images/caesar_salad/392569.jpg\b\b\b\b\b\b\b\b\b\b\b\b\b\b\b\b\b\b\b\b\b\b\b\b\b\b\b\b\b\b\b\b\b\b\b\b\b\b\b\b\b\b\b                                           \b\b\b\b\b\b\b\b\b\b\b\b\b\b\b\b\b\b\b\b\b\b\b\b\b\b\b\b\b\b\b\b\b\b\b\b\b\b\b\b\b\b\b 12% 12029 - images/caesar_salad/695904.jpg\b\b\b\b\b\b\b\b\b\b\b\b\b\b\b\b\b\b\b\b\b\b\b\b\b\b\b\b\b\b\b\b\b\b\b\b\b\b\b\b\b\b\b                                           \b\b\b\b\b\b\b\b\b\b\b\b\b\b\b\b\b\b\b\b\b\b\b\b\b\b\b\b\b\b\b\b\b\b\b\b\b\b\b\b\b\b\b 12% 12098 - images/caesar_salad/972863.jpg\b\b\b\b\b\b\b\b\b\b\b\b\b\b\b\b\b\b\b\b\b\b\b\b\b\b\b\b\b\b\b\b\b\b\b\b\b\b\b\b\b\b\b                                           \b\b\b\b\b\b\b\b\b\b\b\b\b\b\b\b\b\b\b\b\b\b\b\b\b\b\b\b\b\b\b\b\b\b\b\b\b\b\b\b\b\b\b 12% 12099 - images/caesar_salad/976488.jpg\b\b\b\b\b\b\b\b\b\b\b\b\b\b\b\b\b\b\b\b\b\b\b\b\b\b\b\b\b\b\b\b\b\b\b\b\b\b\b\b\b\b\b                                           \b\b\b\b\b\b\b\b\b\b\b\b\b\b\b\b\b\b\b\b\b\b\b\b\b\b\b\b\b\b\b\b\b\b\b\b\b\b\b\b\b\b\b 12% 12181 - images/cannoli/1244039.jpg\b\b\b\b\b\b\b\b\b\b\b\b\b\b\b\b\b\b\b\b\b\b\b\b\b\b\b\b\b\b\b\b\b\b\b\b\b\b\b                                       \b\b\b\b\b\b\b\b\b\b\b\b\b\b\b\b\b\b\b\b\b\b\b\b\b\b\b\b\b\b\b\b\b\b\b\b\b\b\b 12% 12264 - images/cannoli/1473432.jpg\b\b\b\b\b\b\b\b\b\b\b\b\b\b\b\b\b\b\b\b\b\b\b\b\b\b\b\b\b\b\b\b\b\b\b\b\b\b\b                                       \b\b\b\b\b\b\b\b\b\b\b\b\b\b\b\b\b\b\b\b\b\b\b\b\b\b\b\b\b\b\b\b\b\b\b\b\b\b\b 12% 12345 - images/cannoli/1779338.jpg\b\b\b\b\b\b\b\b\b\b\b\b\b\b\b\b\b\b\b\b\b\b\b\b\b\b\b\b\b\b\b\b\b\b\b\b\b\b\b                                       \b\b\b\b\b\b\b\b\b\b\b\b\b\b\b\b\b\b\b\b\b\b\b\b\b\b\b\b\b\b\b\b\b\b\b\b\b\b\b 12% 12427 - images/cannoli/209573.jpg\b\b\b\b\b\b\b\b\b\b\b\b\b\b\b\b\b\b\b\b\b\b\b\b\b\b\b\b\b\b\b\b\b\b\b\b\b\b                                      \b\b\b\b\b\b\b\b\b\b\b\b\b\b\b\b\b\b\b\b\b\b\b\b\b\b\b\b\b\b\b\b\b\b\b\b\b\b 12% 12487 - images/cannoli/2285438.jpg\b\b\b\b\b\b\b\b\b\b\b\b\b\b\b\b\b\b\b\b\b\b\b\b\b\b\b\b\b\b\b\b\b\b\b\b\b\b\b                                       \b\b\b\b\b\b\b\b\b\b\b\b\b\b\b\b\b\b\b\b\b\b\b\b\b\b\b\b\b\b\b\b\b\b\b\b\b\b\b 12% 12503 - images/cannoli/2338677.jpg\b\b\b\b\b\b\b\b\b\b\b\b\b\b\b\b\b\b\b\b\b\b\b\b\b\b\b\b\b\b\b\b\b\b\b\b\b\b\b                                       \b\b\b\b\b\b\b\b\b\b\b\b\b\b\b\b\b\b\b\b\b\b\b\b\b\b\b\b\b\b\b\b\b\b\b\b\b\b\b 12% 12589 - images/cannoli/2679829.jpg\b\b\b\b\b\b\b\b\b\b\b\b\b\b\b\b\b\b\b\b\b\b\b\b\b\b\b\b\b\b\b\b\b\b\b\b\b\b\b                                       \b\b\b\b\b\b\b\b\b\b\b\b\b\b\b\b\b\b\b\b\b\b\b\b\b\b\b\b\b\b\b\b\b\b\b\b\b\b\b 12% 12672 - images/cannoli/2981877.jpg\b\b\b\b\b\b\b\b\b\b\b\b\b\b\b\b\b\b\b\b\b\b\b\b\b\b\b\b\b\b\b\b\b\b\b\b\b\b\b                                       \b\b\b\b\b\b\b\b\b\b\b\b\b\b\b\b\b\b\b\b\b\b\b\b\b\b\b\b\b\b\b\b\b\b\b\b\b\b\b 12% 12673 - images/cannoli/2985044.jpg\b\b\b\b\b\b\b\b\b\b\b\b\b\b\b\b\b\b\b\b\b\b\b\b\b\b\b\b\b\b\b\b\b\b\b\b\b\b\b                                       \b\b\b\b\b\b\b\b\b\b\b\b\b\b\b\b\b\b\b\b\b\b\b\b\b\b\b\b\b\b\b\b\b\b\b\b\b\b\b 12% 12757 - images/cannoli/3357443.jpg\b\b\b\b\b\b\b\b\b\b\b\b\b\b\b\b\b\b\b\b\b\b\b\b\b\b\b\b\b\b\b\b\b\b\b\b\b\b\b                                       \b\b\b\b\b\b\b\b\b\b\b\b\b\b\b\b\b\b\b\b\b\b\b\b\b\b\b\b\b\b\b\b\b\b\b\b\b\b\b 12% 12840 - images/cannoli/3659976.jpg\b\b\b\b\b\b\b\b\b\b\b\b\b\b\b\b\b\b\b\b\b\b\b\b\b\b\b\b\b\b\b\b\b\b\b\b\b\b\b                                       \b\b\b\b\b\b\b\b\b\b\b\b\b\b\b\b\b\b\b\b\b\b\b\b\b\b\b\b\b\b\b\b\b\b\b\b\b\b\b 13% 12928 - images/cannoli/446479.jpg\b\b\b\b\b\b\b\b\b\b\b\b\b\b\b\b\b\b\b\b\b\b\b\b\b\b\b\b\b\b\b\b\b\b\b\b\b\b                                      \b\b\b\b\b\b\b\b\b\b\b\b\b\b\b\b\b\b\b\b\b\b\b\b\b\b\b\b\b\b\b\b\b\b\b\b\b\b 13% 12929 - images/cannoli/455483.jpg\b\b\b\b\b\b\b\b\b\b\b\b\b\b\b\b\b\b\b\b\b\b\b\b\b\b\b\b\b\b\b\b\b\b\b\b\b\b                                      \b\b\b\b\b\b\b\b\b\b\b\b\b\b\b\b\b\b\b\b\b\b\b\b\b\b\b\b\b\b\b\b\b\b\b\b\b\b 13% 13011 - images/cannoli/700320.jpg\b\b\b\b\b\b\b\b\b\b\b\b\b\b\b\b\b\b\b\b\b\b\b\b\b\b\b\b\b\b\b\b\b\b\b\b\b\b                                      \b\b\b\b\b\b\b\b\b\b\b\b\b\b\b\b\b\b\b\b\b\b\b\b\b\b\b\b\b\b\b\b\b\b\b\b\b\b 13% 13090 - images/cannoli/973278.jpg\b\b\b\b\b\b\b\b\b\b\b\b\b\b\b\b\b\b\b\b\b\b\b\b\b\b\b\b\b\b\b\b\b\b\b\b\b\b                                      \b\b\b\b\b\b\b\b\b\b\b\b\b\b\b\b\b\b\b\b\b\b\b\b\b\b\b\b\b\b\b\b\b\b\b\b\b\b 13% 13173 - images/caprese_salad/1311754.jpg\b\b\b\b\b\b\b\b\b\b\b\b\b\b\b\b\b\b\b\b\b\b\b\b\b\b\b\b\b\b\b\b\b\b\b\b\b\b\b\b\b\b\b\b\b                                             \b\b\b\b\b\b\b\b\b\b\b\b\b\b\b\b\b\b\b\b\b\b\b\b\b\b\b\b\b\b\b\b\b\b\b\b\b\b\b\b\b\b\b\b\b 13% 13234 - images/caprese_salad/1543026.jpg\b\b\b\b\b\b\b\b\b\b\b\b\b\b\b\b\b\b\b\b\b\b\b\b\b\b\b\b\b\b\b\b\b\b\b\b\b\b\b\b\b\b\b\b\b                                             \b\b\b\b\b\b\b\b\b\b\b\b\b\b\b\b\b\b\b\b\b\b\b\b\b\b\b\b\b\b\b\b\b\b\b\b\b\b\b\b\b\b\b\b\b 13% 13255 - images/caprese_salad/1635984.jpg\b\b\b\b\b\b\b\b\b\b\b\b\b\b\b\b\b\b\b\b\b\b\b\b\b\b\b\b\b\b\b\b\b\b\b\b\b\b\b\b\b\b\b\b\b                                             \b\b\b\b\b\b\b\b\b\b\b\b\b\b\b\b\b\b\b\b\b\b\b\b\b\b\b\b\b\b\b\b\b\b\b\b\b\b\b\b\b\b\b\b\b 13% 13333 - images/caprese_salad/1938350.jpg\b\b\b\b\b\b\b\b\b\b\b\b\b\b\b\b\b\b\b\b\b\b\b\b\b\b\b\b\b\b\b\b\b\b\b\b\b\b\b\b\b\b\b\b\b                                             \b\b\b\b\b\b\b\b\b\b\b\b\b\b\b\b\b\b\b\b\b\b\b\b\b\b\b\b\b\b\b\b\b\b\b\b\b\b\b\b\b\b\b\b\b 13% 13417 - images/caprese_salad/2213962.jpg\b\b\b\b\b\b\b\b\b\b\b\b\b\b\b\b\b\b\b\b\b\b\b\b\b\b\b\b\b\b\b\b\b\b\b\b\b\b\b\b\b\b\b\b\b                                             \b\b\b\b\b\b\b\b\b\b\b\b\b\b\b\b\b\b\b\b\b\b\b\b\b\b\b\b\b\b\b\b\b\b\b\b\b\b\b\b\b\b\b\b\b 13% 13496 - images/caprese_salad/2386576.jpg\b\b\b\b\b\b\b\b\b\b\b\b\b\b\b\b\b\b\b\b\b\b\b\b\b\b\b\b\b\b\b\b\b\b\b\b\b\b\b\b\b\b\b\b\b                                             \b\b\b\b\b\b\b\b\b\b\b\b\b\b\b\b\b\b\b\b\b\b\b\b\b\b\b\b\b\b\b\b\b\b\b\b\b\b\b\b\b\b\b\b\b 13% 13497 - images/caprese_salad/2390858.jpg\b\b\b\b\b\b\b\b\b\b\b\b\b\b\b\b\b\b\b\b\b\b\b\b\b\b\b\b\b\b\b\b\b\b\b\b\b\b\b\b\b\b\b\b\b                                             \b\b\b\b\b\b\b\b\b\b\b\b\b\b\b\b\b\b\b\b\b\b\b\b\b\b\b\b\b\b\b\b\b\b\b\b\b\b\b\b\b\b\b\b\b 13% 13579 - images/caprese_salad/2699270.jpg\b\b\b\b\b\b\b\b\b\b\b\b\b\b\b\b\b\b\b\b\b\b\b\b\b\b\b\b\b\b\b\b\b\b\b\b\b\b\b\b\b\b\b\b\b                                             \b\b\b\b\b\b\b\b\b\b\b\b\b\b\b\b\b\b\b\b\b\b\b\b\b\b\b\b\b\b\b\b\b\b\b\b\b\b\b\b\b\b\b\b\b 13% 13661 - images/caprese_salad/2972710.jpg\b\b\b\b\b\b\b\b\b\b\b\b\b\b\b\b\b\b\b\b\b\b\b\b\b\b\b\b\b\b\b\b\b\b\b\b\b\b\b\b\b\b\b\b\b                                             \b\b\b\b\b\b\b\b\b\b\b\b\b\b\b\b\b\b\b\b\b\b\b\b\b\b\b\b\b\b\b\b\b\b\b\b\b\b\b\b\b\b\b\b\b 13% 13747 - images/caprese_salad/334376.jpg\b\b\b\b\b\b\b\b\b\b\b\b\b\b\b\b\b\b\b\b\b\b\b\b\b\b\b\b\b\b\b\b\b\b\b\b\b\b\b\b\b\b\b\b                                            \b\b\b\b\b\b\b\b\b\b\b\b\b\b\b\b\b\b\b\b\b\b\b\b\b\b\b\b\b\b\b\b\b\b\b\b\b\b\b\b\b\b\b\b 13% 13778 - images/caprese_salad/3483668.jpg\b\b\b\b\b\b\b\b\b\b\b\b\b\b\b\b\b\b\b\b\b\b\b\b\b\b\b\b\b\b\b\b\b\b\b\b\b\b\b\b\b\b\b\b\b                                             \b\b\b\b\b\b\b\b\b\b\b\b\b\b\b\b\b\b\b\b\b\b\b\b\b\b\b\b\b\b\b\b\b\b\b\b\b\b\b\b\b\b\b\b\b 14% 13827 - images/caprese_salad/3699945.jpg\b\b\b\b\b\b\b\b\b\b\b\b\b\b\b\b\b\b\b\b\b\b\b\b\b\b\b\b\b\b\b\b\b\b\b\b\b\b\b\b\b\b\b\b\b                                             \b\b\b\b\b\b\b\b\b\b\b\b\b\b\b\b\b\b\b\b\b\b\b\b\b\b\b\b\b\b\b\b\b\b\b\b\b\b\b\b\b\b\b\b\b 14% 13910 - images/caprese_salad/44054.jpg\b\b\b\b\b\b\b\b\b\b\b\b\b\b\b\b\b\b\b\b\b\b\b\b\b\b\b\b\b\b\b\b\b\b\b\b\b\b\b\b\b\b\b                                           \b\b\b\b\b\b\b\b\b\b\b\b\b\b\b\b\b\b\b\b\b\b\b\b\b\b\b\b\b\b\b\b\b\b\b\b\b\b\b\b\b\b\b 14% 13990 - images/caprese_salad/691390.jpg\b\b\b\b\b\b\b\b\b\b\b\b\b\b\b\b\b\b\b\b\b\b\b\b\b\b\b\b\b\b\b\b\b\b\b\b\b\b\b\b\b\b\b\b                                            \b\b\b\b\b\b\b\b\b\b\b\b\b\b\b\b\b\b\b\b\b\b\b\b\b\b\b\b\b\b\b\b\b\b\b\b\b\b\b\b\b\b\b\b 14% 14025 - images/caprese_salad/796915.jpg\b\b\b\b\b\b\b\b\b\b\b\b\b\b\b\b\b\b\b\b\b\b\b\b\b\b\b\b\b\b\b\b\b\b\b\b\b\b\b\b\b\b\b\b                                            \b\b\b\b\b\b\b\b\b\b\b\b\b\b\b\b\b\b\b\b\b\b\b\b\b\b\b\b\b\b\b\b\b\b\b\b\b\b\b\b\b\b\b\b 14% 14078 - images/caprese_salad/914170.jpg\b\b\b\b\b\b\b\b\b\b\b\b\b\b\b\b\b\b\b\b\b\b\b\b\b\b\b\b\b\b\b\b\b\b\b\b\b\b\b\b\b\b\b\b                                            \b\b\b\b\b\b\b\b\b\b\b\b\b\b\b\b\b\b\b\b\b\b\b\b\b\b\b\b\b\b\b\b\b\b\b\b\b\b\b\b\b\b\b\b 14% 14162 - images/carrot_cake/1246467.jpg\b\b\b\b\b\b\b\b\b\b\b\b\b\b\b\b\b\b\b\b\b\b\b\b\b\b\b\b\b\b\b\b\b\b\b\b\b\b\b\b\b\b\b                                           \b\b\b\b\b\b\b\b\b\b\b\b\b\b\b\b\b\b\b\b\b\b\b\b\b\b\b\b\b\b\b\b\b\b\b\b\b\b\b\b\b\b\b 14% 14251 - images/carrot_cake/1593186.jpg\b\b\b\b\b\b\b\b\b\b\b\b\b\b\b\b\b\b\b\b\b\b\b\b\b\b\b\b\b\b\b\b\b\b\b\b\b\b\b\b\b\b\b                                           \b\b\b\b\b\b\b\b\b\b\b\b\b\b\b\b\b\b\b\b\b\b\b\b\b\b\b\b\b\b\b\b\b\b\b\b\b\b\b\b\b\b\b 14% 14252 - images/carrot_cake/1596400.jpg\b\b\b\b\b\b\b\b\b\b\b\b\b\b\b\b\b\b\b\b\b\b\b\b\b\b\b\b\b\b\b\b\b\b\b\b\b\b\b\b\b\b\b                                           \b\b\b\b\b\b\b\b\b\b\b\b\b\b\b\b\b\b\b\b\b\b\b\b\b\b\b\b\b\b\b\b\b\b\b\b\b\b\b\b\b\b\b 14% 14342 - images/carrot_cake/1937129.jpg\b\b\b\b\b\b\b\b\b\b\b\b\b\b\b\b\b\b\b\b\b\b\b\b\b\b\b\b\b\b\b\b\b\b\b\b\b\b\b\b\b\b\b                                           \b\b\b\b\b\b\b\b\b\b\b\b\b\b\b\b\b\b\b\b\b\b\b\b\b\b\b\b\b\b\b\b\b\b\b\b\b\b\b\b\b\b\b 14% 14426 - images/carrot_cake/2238258.jpg\b\b\b\b\b\b\b\b\b\b\b\b\b\b\b\b\b\b\b\b\b\b\b\b\b\b\b\b\b\b\b\b\b\b\b\b\b\b\b\b\b\b\b                                           \b\b\b\b\b\b\b\b\b\b\b\b\b\b\b\b\b\b\b\b\b\b\b\b\b\b\b\b\b\b\b\b\b\b\b\b\b\b\b\b\b\b\b 14% 14512 - images/carrot_cake/2507726.jpg\b\b\b\b\b\b\b\b\b\b\b\b\b\b\b\b\b\b\b\b\b\b\b\b\b\b\b\b\b\b\b\b\b\b\b\b\b\b\b\b\b\b\b                                           \b\b\b\b\b\b\b\b\b\b\b\b\b\b\b\b\b\b\b\b\b\b\b\b\b\b\b\b\b\b\b\b\b\b\b\b\b\b\b\b\b\b\b 14% 14595 - images/carrot_cake/2815227.jpg\b\b\b\b\b\b\b\b\b\b\b\b\b\b\b\b\b\b\b\b\b\b\b\b\b\b\b\b\b\b\b\b\b\b\b\b\b\b\b\b\b\b\b                                           \b\b\b\b\b\b\b\b\b\b\b\b\b\b\b\b\b\b\b\b\b\b\b\b\b\b\b\b\b\b\b\b\b\b\b\b\b\b\b\b\b\b\b 14% 14596 - images/carrot_cake/2850073.jpg\b\b\b\b\b\b\b\b\b\b\b\b\b\b\b\b\b\b\b\b\b\b\b\b\b\b\b\b\b\b\b\b\b\b\b\b\b\b\b\b\b\b\b                                           \b\b\b\b\b\b\b\b\b\b\b\b\b\b\b\b\b\b\b\b\b\b\b\b\b\b\b\b\b\b\b\b\b\b\b\b\b\b\b\b\b\b\b 14% 14685 - images/carrot_cake/3162232.jpg\b\b\b\b\b\b\b\b\b\b\b\b\b\b\b\b\b\b\b\b\b\b\b\b\b\b\b\b\b\b\b\b\b\b\b\b\b\b\b\b\b\b\b                                           \b\b\b\b\b\b\b\b\b\b\b\b\b\b\b\b\b\b\b\b\b\b\b\b\b\b\b\b\b\b\b\b\b\b\b\b\b\b\b\b\b\b\b 14% 14774 - images/carrot_cake/3415261.jpg\b\b\b\b\b\b\b\b\b\b\b\b\b\b\b\b\b\b\b\b\b\b\b\b\b\b\b\b\b\b\b\b\b\b\b\b\b\b\b\b\b\b\b                                           \b\b\b\b\b\b\b\b\b\b\b\b\b\b\b\b\b\b\b\b\b\b\b\b\b\b\b\b\b\b\b\b\b\b\b\b\b\b\b\b\b\b\b 14% 14858 - images/carrot_cake/36876.jpg\b\b\b\b\b\b\b\b\b\b\b\b\b\b\b\b\b\b\b\b\b\b\b\b\b\b\b\b\b\b\b\b\b\b\b\b\b\b\b\b\b                                         \b\b\b\b\b\b\b\b\b\b\b\b\b\b\b\b\b\b\b\b\b\b\b\b\b\b\b\b\b\b\b\b\b\b\b\b\b\b\b\b\b 14% 14859 - images/carrot_cake/3688584.jpg\b\b\b\b\b\b\b\b\b\b\b\b\b\b\b\b\b\b\b\b\b\b\b\b\b\b\b\b\b\b\b\b\b\b\b\b\b\b\b\b\b\b\b                                           \b\b\b\b\b\b\b\b\b\b\b\b\b\b\b\b\b\b\b\b\b\b\b\b\b\b\b\b\b\b\b\b\b\b\b\b\b\b\b\b\b\b\b 15% 14945 - images/carrot_cake/489139.jpg\b\b\b\b\b\b\b\b\b\b\b\b\b\b\b\b\b\b\b\b\b\b\b\b\b\b\b\b\b\b\b\b\b\b\b\b\b\b\b\b\b\b                                          \b\b\b\b\b\b\b\b\b\b\b\b\b\b\b\b\b\b\b\b\b\b\b\b\b\b\b\b\b\b\b\b\b\b\b\b\b\b\b\b\b\b 15% 15030 - images/carrot_cake/728145.jpg\b\b\b\b\b\b\b\b\b\b\b\b\b\b\b\b\b\b\b\b\b\b\b\b\b\b\b\b\b\b\b\b\b\b\b\b\b\b\b\b\b\b                                          \b\b\b\b\b\b\b\b\b\b\b\b\b\b\b\b\b\b\b\b\b\b\b\b\b\b\b\b\b\b\b\b\b\b\b\b\b\b\b\b\b\b 15% 15112 - images/ceviche/1043736.jpg\b\b\b\b\b\b\b\b\b\b\b\b\b\b\b\b\b\b\b\b\b\b\b\b\b\b\b\b\b\b\b\b\b\b\b\b\b\b\b                                       \b\b\b\b\b\b\b\b\b\b\b\b\b\b\b\b\b\b\b\b\b\b\b\b\b\b\b\b\b\b\b\b\b\b\b\b\b\b\b 15% 15113 - images/ceviche/104425.jpg\b\b\b\b\b\b\b\b\b\b\b\b\b\b\b\b\b\b\b\b\b\b\b\b\b\b\b\b\b\b\b\b\b\b\b\b\b\b                                      \b\b\b\b\b\b\b\b\b\b\b\b\b\b\b\b\b\b\b\b\b\b\b\b\b\b\b\b\b\b\b\b\b\b\b\b\b\b 15% 15196 - images/ceviche/1384269.jpg\b\b\b\b\b\b\b\b\b\b\b\b\b\b\b\b\b\b\b\b\b\b\b\b\b\b\b\b\b\b\b\b\b\b\b\b\b\b\b                                       \b\b\b\b\b\b\b\b\b\b\b\b\b\b\b\b\b\b\b\b\b\b\b\b\b\b\b\b\b\b\b\b\b\b\b\b\b\b\b 15% 15278 - images/ceviche/1615264.jpg\b\b\b\b\b\b\b\b\b\b\b\b\b\b\b\b\b\b\b\b\b\b\b\b\b\b\b\b\b\b\b\b\b\b\b\b\b\b\b                                       \b\b\b\b\b\b\b\b\b\b\b\b\b\b\b\b\b\b\b\b\b\b\b\b\b\b\b\b\b\b\b\b\b\b\b\b\b\b\b 15% 15365 - images/ceviche/1914547.jpg\b\b\b\b\b\b\b\b\b\b\b\b\b\b\b\b\b\b\b\b\b\b\b\b\b\b\b\b\b\b\b\b\b\b\b\b\b\b\b                                       \b\b\b\b\b\b\b\b\b\b\b\b\b\b\b\b\b\b\b\b\b\b\b\b\b\b\b\b\b\b\b\b\b\b\b\b\b\b\b 15% 15366 - images/ceviche/1915397.jpg\b\b\b\b\b\b\b\b\b\b\b\b\b\b\b\b\b\b\b\b\b\b\b\b\b\b\b\b\b\b\b\b\b\b\b\b\b\b\b                                       \b\b\b\b\b\b\b\b\b\b\b\b\b\b\b\b\b\b\b\b\b\b\b\b\b\b\b\b\b\b\b\b\b\b\b\b\b\b\b 15% 15447 - images/ceviche/2231445.jpg\b\b\b\b\b\b\b\b\b\b\b\b\b\b\b\b\b\b\b\b\b\b\b\b\b\b\b\b\b\b\b\b\b\b\b\b\b\b\b                                       \b\b\b\b\b\b\b\b\b\b\b\b\b\b\b\b\b\b\b\b\b\b\b\b\b\b\b\b\b\b\b\b\b\b\b\b\b\b\b 15% 15530 - images/ceviche/2526652.jpg\b\b\b\b\b\b\b\b\b\b\b\b\b\b\b\b\b\b\b\b\b\b\b\b\b\b\b\b\b\b\b\b\b\b\b\b\b\b\b                                       \b\b\b\b\b\b\b\b\b\b\b\b\b\b\b\b\b\b\b\b\b\b\b\b\b\b\b\b\b\b\b\b\b\b\b\b\b\b\b 15% 15615 - images/ceviche/2907309.jpg\b\b\b\b\b\b\b\b\b\b\b\b\b\b\b\b\b\b\b\b\b\b\b\b\b\b\b\b\b\b\b\b\b\b\b\b\b\b\b                                       \b\b\b\b\b\b\b\b\b\b\b\b\b\b\b\b\b\b\b\b\b\b\b\b\b\b\b\b\b\b\b\b\b\b\b\b\b\b\b 15% 15698 - images/ceviche/3277393.jpg\b\b\b\b\b\b\b\b\b\b\b\b\b\b\b\b\b\b\b\b\b\b\b\b\b\b\b\b\b\b\b\b\b\b\b\b\b\b\b                                       \b\b\b\b\b\b\b\b\b\b\b\b\b\b\b\b\b\b\b\b\b\b\b\b\b\b\b\b\b\b\b\b\b\b\b\b\b\b\b 15% 15699 - images/ceviche/3280151.jpg\b\b\b\b\b\b\b\b\b\b\b\b\b\b\b\b\b\b\b\b\b\b\b\b\b\b\b\b\b\b\b\b\b\b\b\b\b\b\b                                       \b\b\b\b\b\b\b\b\b\b\b\b\b\b\b\b\b\b\b\b\b\b\b\b\b\b\b\b\b\b\b\b\b\b\b\b\b\b\b 15% 15780 - images/ceviche/3523288.jpg\b\b\b\b\b\b\b\b\b\b\b\b\b\b\b\b\b\b\b\b\b\b\b\b\b\b\b\b\b\b\b\b\b\b\b\b\b\b\b                                       \b\b\b\b\b\b\b\b\b\b\b\b\b\b\b\b\b\b\b\b\b\b\b\b\b\b\b\b\b\b\b\b\b\b\b\b\b\b\b 15% 15863 - images/ceviche/3803056.jpg\b\b\b\b\b\b\b\b\b\b\b\b\b\b\b\b\b\b\b\b\b\b\b\b\b\b\b\b\b\b\b\b\b\b\b\b\b\b\b                                       \b\b\b\b\b\b\b\b\b\b\b\b\b\b\b\b\b\b\b\b\b\b\b\b\b\b\b\b\b\b\b\b\b\b\b\b\b\b\b 16% 15947 - images/ceviche/508563.jpg\b\b\b\b\b\b\b\b\b\b\b\b\b\b\b\b\b\b\b\b\b\b\b\b\b\b\b\b\b\b\b\b\b\b\b\b\b\b                                      \b\b\b\b\b\b\b\b\b\b\b\b\b\b\b\b\b\b\b\b\b\b\b\b\b\b\b\b\b\b\b\b\b\b\b\b\b\b 16% 15948 - images/ceviche/510203.jpg\b\b\b\b\b\b\b\b\b\b\b\b\b\b\b\b\b\b\b\b\b\b\b\b\b\b\b\b\b\b\b\b\b\b\b\b\b\b                                      \b\b\b\b\b\b\b\b\b\b\b\b\b\b\b\b\b\b\b\b\b\b\b\b\b\b\b\b\b\b\b\b\b\b\b\b\b\b 16% 16027 - images/ceviche/715597.jpg\b\b\b\b\b\b\b\b\b\b\b\b\b\b\b\b\b\b\b\b\b\b\b\b\b\b\b\b\b\b\b\b\b\b\b\b\b\b                                      \b\b\b\b\b\b\b\b\b\b\b\b\b\b\b\b\b\b\b\b\b\b\b\b\b\b\b\b\b\b\b\b\b\b\b\b\b\b 16% 16108 - images/cheesecake/102854.jpg\b\b\b\b\b\b\b\b\b\b\b\b\b\b\b\b\b\b\b\b\b\b\b\b\b\b\b\b\b\b\b\b\b\b\b\b\b\b\b\b\b                                         \b\b\b\b\b\b\b\b\b\b\b\b\b\b\b\b\b\b\b\b\b\b\b\b\b\b\b\b\b\b\b\b\b\b\b\b\b\b\b\b\b 16% 16203 - images/cheesecake/1425342.jpg\b\b\b\b\b\b\b\b\b\b\b\b\b\b\b\b\b\b\b\b\b\b\b\b\b\b\b\b\b\b\b\b\b\b\b\b\b\b\b\b\b\b                                          \b\b\b\b\b\b\b\b\b\b\b\b\b\b\b\b\b\b\b\b\b\b\b\b\b\b\b\b\b\b\b\b\b\b\b\b\b\b\b\b\b\b 16% 16295 - images/cheesecake/1752942.jpg\b\b\b\b\b\b\b\b\b\b\b\b\b\b\b\b\b\b\b\b\b\b\b\b\b\b\b\b\b\b\b\b\b\b\b\b\b\b\b\b\b\b                                          \b\b\b\b\b\b\b\b\b\b\b\b\b\b\b\b\b\b\b\b\b\b\b\b\b\b\b\b\b\b\b\b\b\b\b\b\b\b\b\b\b\b 16% 16297 - images/cheesecake/1757216.jpg\b\b\b\b\b\b\b\b\b\b\b\b\b\b\b\b\b\b\b\b\b\b\b\b\b\b\b\b\b\b\b\b\b\b\b\b\b\b\b\b\b\b                                          \b\b\b\b\b\b\b\b\b\b\b\b\b\b\b\b\b\b\b\b\b\b\b\b\b\b\b\b\b\b\b\b\b\b\b\b\b\b\b\b\b\b 16% 16393 - images/cheesecake/2079422.jpg\b\b\b\b\b\b\b\b\b\b\b\b\b\b\b\b\b\b\b\b\b\b\b\b\b\b\b\b\b\b\b\b\b\b\b\b\b\b\b\b\b\b                                          \b\b\b\b\b\b\b\b\b\b\b\b\b\b\b\b\b\b\b\b\b\b\b\b\b\b\b\b\b\b\b\b\b\b\b\b\b\b\b\b\b\b 16% 16491 - images/cheesecake/2438253.jpg\b\b\b\b\b\b\b\b\b\b\b\b\b\b\b\b\b\b\b\b\b\b\b\b\b\b\b\b\b\b\b\b\b\b\b\b\b\b\b\b\b\b                                          \b\b\b\b\b\b\b\b\b\b\b\b\b\b\b\b\b\b\b\b\b\b\b\b\b\b\b\b\b\b\b\b\b\b\b\b\b\b\b\b\b\b 16% 16588 - images/cheesecake/2754377.jpg\b\b\b\b\b\b\b\b\b\b\b\b\b\b\b\b\b\b\b\b\b\b\b\b\b\b\b\b\b\b\b\b\b\b\b\b\b\b\b\b\b\b                                          \b\b\b\b\b\b\b\b\b\b\b\b\b\b\b\b\b\b\b\b\b\b\b\b\b\b\b\b\b\b\b\b\b\b\b\b\b\b\b\b\b\b 16% 16589 - images/cheesecake/2756768.jpg\b\b\b\b\b\b\b\b\b\b\b\b\b\b\b\b\b\b\b\b\b\b\b\b\b\b\b\b\b\b\b\b\b\b\b\b\b\b\b\b\b\b                                          \b\b\b\b\b\b\b\b\b\b\b\b\b\b\b\b\b\b\b\b\b\b\b\b\b\b\b\b\b\b\b\b\b\b\b\b\b\b\b\b\b\b 16% 16685 - images/cheesecake/3104089.jpg\b\b\b\b\b\b\b\b\b\b\b\b\b\b\b\b\b\b\b\b\b\b\b\b\b\b\b\b\b\b\b\b\b\b\b\b\b\b\b\b\b\b                                          \b\b\b\b\b\b\b\b\b\b\b\b\b\b\b\b\b\b\b\b\b\b\b\b\b\b\b\b\b\b\b\b\b\b\b\b\b\b\b\b\b\b 16% 16781 - images/cheesecake/3439154.jpg\b\b\b\b\b\b\b\b\b\b\b\b\b\b\b\b\b\b\b\b\b\b\b\b\b\b\b\b\b\b\b\b\b\b\b\b\b\b\b\b\b\b                                          \b\b\b\b\b\b\b\b\b\b\b\b\b\b\b\b\b\b\b\b\b\b\b\b\b\b\b\b\b\b\b\b\b\b\b\b\b\b\b\b\b\b 16% 16810 - images/cheesecake/35298.jpg\b\b\b\b\b\b\b\b\b\b\b\b\b\b\b\b\b\b\b\b\b\b\b\b\b\b\b\b\b\b\b\b\b\b\b\b\b\b\b\b                                        \b\b\b\b\b\b\b\b\b\b\b\b\b\b\b\b\b\b\b\b\b\b\b\b\b\b\b\b\b\b\b\b\b\b\b\b\b\b\b\b 16% 16881 - images/cheesecake/3772649.jpg\b\b\b\b\b\b\b\b\b\b\b\b\b\b\b\b\b\b\b\b\b\b\b\b\b\b\b\b\b\b\b\b\b\b\b\b\b\b\b\b\b\b                                          \b\b\b\b\b\b\b\b\b\b\b\b\b\b\b\b\b\b\b\b\b\b\b\b\b\b\b\b\b\b\b\b\b\b\b\b\b\b\b\b\b\b 16% 16974 - images/cheesecake/511496.jpg\b\b\b\b\b\b\b\b\b\b\b\b\b\b\b\b\b\b\b\b\b\b\b\b\b\b\b\b\b\b\b\b\b\b\b\b\b\b\b\b\b                                         \b\b\b\b\b\b\b\b\b\b\b\b\b\b\b\b\b\b\b\b\b\b\b\b\b\b\b\b\b\b\b\b\b\b\b\b\b\b\b\b\b 16% 16975 - images/cheesecake/519369.jpg\b\b\b\b\b\b\b\b\b\b\b\b\b\b\b\b\b\b\b\b\b\b\b\b\b\b\b\b\b\b\b\b\b\b\b\b\b\b\b\b\b                                         \b\b\b\b\b\b\b\b\b\b\b\b\b\b\b\b\b\b\b\b\b\b\b\b\b\b\b\b\b\b\b\b\b\b\b\b\b\b\b\b\b 17% 17073 - images/cheesecake/879840.jpg\b\b\b\b\b\b\b\b\b\b\b\b\b\b\b\b\b\b\b\b\b\b\b\b\b\b\b\b\b\b\b\b\b\b\b\b\b\b\b\b\b                                         \b\b\b\b\b\b\b\b\b\b\b\b\b\b\b\b\b\b\b\b\b\b\b\b\b\b\b\b\b\b\b\b\b\b\b\b\b\b\b\b\b 17% 17164 - images/cheese_plate/123937.jpg\b\b\b\b\b\b\b\b\b\b\b\b\b\b\b\b\b\b\b\b\b\b\b\b\b\b\b\b\b\b\b\b\b\b\b\b\b\b\b\b\b\b\b                                           \b\b\b\b\b\b\b\b\b\b\b\b\b\b\b\b\b\b\b\b\b\b\b\b\b\b\b\b\b\b\b\b\b\b\b\b\b\b\b\b\b\b\b 17% 17256 - images/cheese_plate/1526392.jpg\b\b\b\b\b\b\b\b\b\b\b\b\b\b\b\b\b\b\b\b\b\b\b\b\b\b\b\b\b\b\b\b\b\b\b\b\b\b\b\b\b\b\b\b                                            \b\b\b\b\b\b\b\b\b\b\b\b\b\b\b\b\b\b\b\b\b\b\b\b\b\b\b\b\b\b\b\b\b\b\b\b\b\b\b\b\b\b\b\b 17% 17257 - images/cheese_plate/153123.jpg\b\b\b\b\b\b\b\b\b\b\b\b\b\b\b\b\b\b\b\b\b\b\b\b\b\b\b\b\b\b\b\b\b\b\b\b\b\b\b\b\b\b\b                                           \b\b\b\b\b\b\b\b\b\b\b\b\b\b\b\b\b\b\b\b\b\b\b\b\b\b\b\b\b\b\b\b\b\b\b\b\b\b\b\b\b\b\b 17% 17350 - images/cheese_plate/1818690.jpg\b\b\b\b\b\b\b\b\b\b\b\b\b\b\b\b\b\b\b\b\b\b\b\b\b\b\b\b\b\b\b\b\b\b\b\b\b\b\b\b\b\b\b\b                                            \b\b\b\b\b\b\b\b\b\b\b\b\b\b\b\b\b\b\b\b\b\b\b\b\b\b\b\b\b\b\b\b\b\b\b\b\b\b\b\b\b\b\b\b 17% 17435 - images/cheese_plate/2088622.jpg\b\b\b\b\b\b\b\b\b\b\b\b\b\b\b\b\b\b\b\b\b\b\b\b\b\b\b\b\b\b\b\b\b\b\b\b\b\b\b\b\b\b\b\b                                            \b\b\b\b\b\b\b\b\b\b\b\b\b\b\b\b\b\b\b\b\b\b\b\b\b\b\b\b\b\b\b\b\b\b\b\b\b\b\b\b\b\b\b\b 17% 17523 - images/cheese_plate/2432902.jpg\b\b\b\b\b\b\b\b\b\b\b\b\b\b\b\b\b\b\b\b\b\b\b\b\b\b\b\b\b\b\b\b\b\b\b\b\b\b\b\b\b\b\b\b                                            \b\b\b\b\b\b\b\b\b\b\b\b\b\b\b\b\b\b\b\b\b\b\b\b\b\b\b\b\b\b\b\b\b\b\b\b\b\b\b\b\b\b\b\b 17% 17612 - images/cheese_plate/2814148.jpg\b\b\b\b\b\b\b\b\b\b\b\b\b\b\b\b\b\b\b\b\b\b\b\b\b\b\b\b\b\b\b\b\b\b\b\b\b\b\b\b\b\b\b\b                                            \b\b\b\b\b\b\b\b\b\b\b\b\b\b\b\b\b\b\b\b\b\b\b\b\b\b\b\b\b\b\b\b\b\b\b\b\b\b\b\b\b\b\b\b 17% 17613 - images/cheese_plate/281553.jpg\b\b\b\b\b\b\b\b\b\b\b\b\b\b\b\b\b\b\b\b\b\b\b\b\b\b\b\b\b\b\b\b\b\b\b\b\b\b\b\b\b\b\b                                           \b\b\b\b\b\b\b\b\b\b\b\b\b\b\b\b\b\b\b\b\b\b\b\b\b\b\b\b\b\b\b\b\b\b\b\b\b\b\b\b\b\b\b 17% 17701 - images/cheese_plate/3137923.jpg\b\b\b\b\b\b\b\b\b\b\b\b\b\b\b\b\b\b\b\b\b\b\b\b\b\b\b\b\b\b\b\b\b\b\b\b\b\b\b\b\b\b\b\b                                            \b\b\b\b\b\b\b\b\b\b\b\b\b\b\b\b\b\b\b\b\b\b\b\b\b\b\b\b\b\b\b\b\b\b\b\b\b\b\b\b\b\b\b\b 17% 17788 - images/cheese_plate/3520678.jpg\b\b\b\b\b\b\b\b\b\b\b\b\b\b\b\b\b\b\b\b\b\b\b\b\b\b\b\b\b\b\b\b\b\b\b\b\b\b\b\b\b\b\b\b                                            \b\b\b\b\b\b\b\b\b\b\b\b\b\b\b\b\b\b\b\b\b\b\b\b\b\b\b\b\b\b\b\b\b\b\b\b\b\b\b\b\b\b\b\b 17% 17873 - images/cheese_plate/3786030.jpg\b\b\b\b\b\b\b\b\b\b\b\b\b\b\b\b\b\b\b\b\b\b\b\b\b\b\b\b\b\b\b\b\b\b\b\b\b\b\b\b\b\b\b\b                                            \b\b\b\b\b\b\b\b\b\b\b\b\b\b\b\b\b\b\b\b\b\b\b\b\b\b\b\b\b\b\b\b\b\b\b\b\b\b\b\b\b\b\b\b 17% 17880 - images/cheese_plate/3819306.jpg\b\b\b\b\b\b\b\b\b\b\b\b\b\b\b\b\b\b\b\b\b\b\b\b\b\b\b\b\b\b\b\b\b\b\b\b\b\b\b\b\b\b\b\b                                            \b\b\b\b\b\b\b\b\b\b\b\b\b\b\b\b\b\b\b\b\b\b\b\b\b\b\b\b\b\b\b\b\b\b\b\b\b\b\b\b\b\b\b\b 17% 17964 - images/cheese_plate/617701.jpg\b\b\b\b\b\b\b\b\b\b\b\b\b\b\b\b\b\b\b\b\b\b\b\b\b\b\b\b\b\b\b\b\b\b\b\b\b\b\b\b\b\b\b                                           \b\b\b\b\b\b\b\b\b\b\b\b\b\b\b\b\b\b\b\b\b\b\b\b\b\b\b\b\b\b\b\b\b\b\b\b\b\b\b\b\b\b\b 17% 18053 - images/cheese_plate/842305.jpg\b\b\b\b\b\b\b\b\b\b\b\b\b\b\b\b\b\b\b\b\b\b\b\b\b\b\b\b\b\b\b\b\b\b\b\b\b\b\b\b\b\b\b                                           \b\b\b\b\b\b\b\b\b\b\b\b\b\b\b\b\b\b\b\b\b\b\b\b\b\b\b\b\b\b\b\b\b\b\b\b\b\b\b\b\b\b\b 17% 18136 - images/chicken_curry/115224.jpg\b\b\b\b\b\b\b\b\b\b\b\b\b\b\b\b\b\b\b\b\b\b\b\b\b\b\b\b\b\b\b\b\b\b\b\b\b\b\b\b\b\b\b\b                                            \b\b\b\b\b\b\b\b\b\b\b\b\b\b\b\b\b\b\b\b\b\b\b\b\b\b\b\b\b\b\b\b\b\b\b\b\b\b\b\b\b\b\b\b 18% 18137 - images/chicken_curry/116147.jpg\b\b\b\b\b\b\b\b\b\b\b\b\b\b\b\b\b\b\b\b\b\b\b\b\b\b\b\b\b\b\b\b\b\b\b\b\b\b\b\b\b\b\b\b                                            \b\b\b\b\b\b\b\b\b\b\b\b\b\b\b\b\b\b\b\b\b\b\b\b\b\b\b\b\b\b\b\b\b\b\b\b\b\b\b\b\b\b\b\b 18% 18215 - images/chicken_curry/1418433.jpg\b\b\b\b\b\b\b\b\b\b\b\b\b\b\b\b\b\b\b\b\b\b\b\b\b\b\b\b\b\b\b\b\b\b\b\b\b\b\b\b\b\b\b\b\b                                             \b\b\b\b\b\b\b\b\b\b\b\b\b\b\b\b\b\b\b\b\b\b\b\b\b\b\b\b\b\b\b\b\b\b\b\b\b\b\b\b\b\b\b\b\b 18% 18296 - images/chicken_curry/1695658.jpg\b\b\b\b\b\b\b\b\b\b\b\b\b\b\b\b\b\b\b\b\b\b\b\b\b\b\b\b\b\b\b\b\b\b\b\b\b\b\b\b\b\b\b\b\b                                             \b\b\b\b\b\b\b\b\b\b\b\b\b\b\b\b\b\b\b\b\b\b\b\b\b\b\b\b\b\b\b\b\b\b\b\b\b\b\b\b\b\b\b\b\b 18% 18377 - images/chicken_curry/1976013.jpg\b\b\b\b\b\b\b\b\b\b\b\b\b\b\b\b\b\b\b\b\b\b\b\b\b\b\b\b\b\b\b\b\b\b\b\b\b\b\b\b\b\b\b\b\b                                             \b\b\b\b\b\b\b\b\b\b\b\b\b\b\b\b\b\b\b\b\b\b\b\b\b\b\b\b\b\b\b\b\b\b\b\b\b\b\b\b\b\b\b\b\b 18% 18378 - images/chicken_curry/1982878.jpg\b\b\b\b\b\b\b\b\b\b\b\b\b\b\b\b\b\b\b\b\b\b\b\b\b\b\b\b\b\b\b\b\b\b\b\b\b\b\b\b\b\b\b\b\b                                             \b\b\b\b\b\b\b\b\b\b\b\b\b\b\b\b\b\b\b\b\b\b\b\b\b\b\b\b\b\b\b\b\b\b\b\b\b\b\b\b\b\b\b\b\b 18% 18459 - images/chicken_curry/2236531.jpg\b\b\b\b\b\b\b\b\b\b\b\b\b\b\b\b\b\b\b\b\b\b\b\b\b\b\b\b\b\b\b\b\b\b\b\b\b\b\b\b\b\b\b\b\b                                             \b\b\b\b\b\b\b\b\b\b\b\b\b\b\b\b\b\b\b\b\b\b\b\b\b\b\b\b\b\b\b\b\b\b\b\b\b\b\b\b\b\b\b\b\b 18% 18539 - images/chicken_curry/2538260.jpg\b\b\b\b\b\b\b\b\b\b\b\b\b\b\b\b\b\b\b\b\b\b\b\b\b\b\b\b\b\b\b\b\b\b\b\b\b\b\b\b\b\b\b\b\b                                             \b\b\b\b\b\b\b\b\b\b\b\b\b\b\b\b\b\b\b\b\b\b\b\b\b\b\b\b\b\b\b\b\b\b\b\b\b\b\b\b\b\b\b\b\b 18% 18619 - images/chicken_curry/2811509.jpg\b\b\b\b\b\b\b\b\b\b\b\b\b\b\b\b\b\b\b\b\b\b\b\b\b\b\b\b\b\b\b\b\b\b\b\b\b\b\b\b\b\b\b\b\b                                             \b\b\b\b\b\b\b\b\b\b\b\b\b\b\b\b\b\b\b\b\b\b\b\b\b\b\b\b\b\b\b\b\b\b\b\b\b\b\b\b\b\b\b\b\b 18% 18699 - images/chicken_curry/3093235.jpg\b\b\b\b\b\b\b\b\b\b\b\b\b\b\b\b\b\b\b\b\b\b\b\b\b\b\b\b\b\b\b\b\b\b\b\b\b\b\b\b\b\b\b\b\b                                             \b\b\b\b\b\b\b\b\b\b\b\b\b\b\b\b\b\b\b\b\b\b\b\b\b\b\b\b\b\b\b\b\b\b\b\b\b\b\b\b\b\b\b\b\b 18% 18700 - images/chicken_curry/3095487.jpg\b\b\b\b\b\b\b\b\b\b\b\b\b\b\b\b\b\b\b\b\b\b\b\b\b\b\b\b\b\b\b\b\b\b\b\b\b\b\b\b\b\b\b\b\b                                             \b\b\b\b\b\b\b\b\b\b\b\b\b\b\b\b\b\b\b\b\b\b\b\b\b\b\b\b\b\b\b\b\b\b\b\b\b\b\b\b\b\b\b\b\b 18% 18777 - images/chicken_curry/340050.jpg\b\b\b\b\b\b\b\b\b\b\b\b\b\b\b\b\b\b\b\b\b\b\b\b\b\b\b\b\b\b\b\b\b\b\b\b\b\b\b\b\b\b\b\b                                            \b\b\b\b\b\b\b\b\b\b\b\b\b\b\b\b\b\b\b\b\b\b\b\b\b\b\b\b\b\b\b\b\b\b\b\b\b\b\b\b\b\b\b\b 18% 18857 - images/chicken_curry/3647599.jpg\b\b\b\b\b\b\b\b\b\b\b\b\b\b\b\b\b\b\b\b\b\b\b\b\b\b\b\b\b\b\b\b\b\b\b\b\b\b\b\b\b\b\b\b\b                                             \b\b\b\b\b\b\b\b\b\b\b\b\b\b\b\b\b\b\b\b\b\b\b\b\b\b\b\b\b\b\b\b\b\b\b\b\b\b\b\b\b\b\b\b\b 18% 18935 - images/chicken_curry/474188.jpg\b\b\b\b\b\b\b\b\b\b\b\b\b\b\b\b\b\b\b\b\b\b\b\b\b\b\b\b\b\b\b\b\b\b\b\b\b\b\b\b\b\b\b\b                                            \b\b\b\b\b\b\b\b\b\b\b\b\b\b\b\b\b\b\b\b\b\b\b\b\b\b\b\b\b\b\b\b\b\b\b\b\b\b\b\b\b\b\b\b 18% 18936 - images/chicken_curry/475137.jpg\b\b\b\b\b\b\b\b\b\b\b\b\b\b\b\b\b\b\b\b\b\b\b\b\b\b\b\b\b\b\b\b\b\b\b\b\b\b\b\b\b\b\b\b                                            \b\b\b\b\b\b\b\b\b\b\b\b\b\b\b\b\b\b\b\b\b\b\b\b\b\b\b\b\b\b\b\b\b\b\b\b\b\b\b\b\b\b\b\b 18% 19018 - images/chicken_curry/728518.jpg\b\b\b\b\b\b\b\b\b\b\b\b\b\b\b\b\b\b\b\b\b\b\b\b\b\b\b\b\b\b\b\b\b\b\b\b\b\b\b\b\b\b\b\b                                            \b\b\b\b\b\b\b\b\b\b\b\b\b\b\b\b\b\b\b\b\b\b\b\b\b\b\b\b\b\b\b\b\b\b\b\b\b\b\b\b\b\b\b\b 18% 19097 - images/chicken_curry/994930.jpg\b\b\b\b\b\b\b\b\b\b\b\b\b\b\b\b\b\b\b\b\b\b\b\b\b\b\b\b\b\b\b\b\b\b\b\b\b\b\b\b\b\b\b\b                                            \b\b\b\b\b\b\b\b\b\b\b\b\b\b\b\b\b\b\b\b\b\b\b\b\b\b\b\b\b\b\b\b\b\b\b\b\b\b\b\b\b\b\b\b 19% 19180 - images/chicken_quesadilla/1319259.jpg\b\b\b\b\b\b\b\b\b\b\b\b\b\b\b\b\b\b\b\b\b\b\b\b\b\b\b\b\b\b\b\b\b\b\b\b\b\b\b\b\b\b\b\b\b\b\b\b\b\b                                                  \b\b\b\b\b\b\b\b\b\b\b\b\b\b\b\b\b\b\b\b\b\b\b\b\b\b\b\b\b\b\b\b\b\b\b\b\b\b\b\b\b\b\b\b\b\b\b\b\b\b 19% 19181 - images/chicken_quesadilla/1320625.jpg\b\b\b\b\b\b\b\b\b\b\b\b\b\b\b\b\b\b\b\b\b\b\b\b\b\b\b\b\b\b\b\b\b\b\b\b\b\b\b\b\b\b\b\b\b\b\b\b\b\b                                                  \b\b\b\b\b\b\b\b\b\b\b\b\b\b\b\b\b\b\b\b\b\b\b\b\b\b\b\b\b\b\b\b\b\b\b\b\b\b\b\b\b\b\b\b\b\b\b\b\b\b 19% 19266 - images/chicken_quesadilla/1609922.jpg\b\b\b\b\b\b\b\b\b\b\b\b\b\b\b\b\b\b\b\b\b\b\b\b\b\b\b\b\b\b\b\b\b\b\b\b\b\b\b\b\b\b\b\b\b\b\b\b\b\b                                                  \b\b\b\b\b\b\b\b\b\b\b\b\b\b\b\b\b\b\b\b\b\b\b\b\b\b\b\b\b\b\b\b\b\b\b\b\b\b\b\b\b\b\b\b\b\b\b\b\b\b 19% 19347 - images/chicken_quesadilla/1883838.jpg\b\b\b\b\b\b\b\b\b\b\b\b\b\b\b\b\b\b\b\b\b\b\b\b\b\b\b\b\b\b\b\b\b\b\b\b\b\b\b\b\b\b\b\b\b\b\b\b\b\b                                                  \b\b\b\b\b\b\b\b\b\b\b\b\b\b\b\b\b\b\b\b\b\b\b\b\b\b\b\b\b\b\b\b\b\b\b\b\b\b\b\b\b\b\b\b\b\b\b\b\b\b 19% 19429 - images/chicken_quesadilla/2169792.jpg\b\b\b\b\b\b\b\b\b\b\b\b\b\b\b\b\b\b\b\b\b\b\b\b\b\b\b\b\b\b\b\b\b\b\b\b\b\b\b\b\b\b\b\b\b\b\b\b\b\b                                                  \b\b\b\b\b\b\b\b\b\b\b\b\b\b\b\b\b\b\b\b\b\b\b\b\b\b\b\b\b\b\b\b\b\b\b\b\b\b\b\b\b\b\b\b\b\b\b\b\b\b 19% 19465 - images/chicken_quesadilla/2325455.jpg\b\b\b\b\b\b\b\b\b\b\b\b\b\b\b\b\b\b\b\b\b\b\b\b\b\b\b\b\b\b\b\b\b\b\b\b\b\b\b\b\b\b\b\b\b\b\b\b\b\b                                                  \b\b\b\b\b\b\b\b\b\b\b\b\b\b\b\b\b\b\b\b\b\b\b\b\b\b\b\b\b\b\b\b\b\b\b\b\b\b\b\b\b\b\b\b\b\b\b\b\b\b 19% 19512 - images/chicken_quesadilla/2508002.jpg\b\b\b\b\b\b\b\b\b\b\b\b\b\b\b\b\b\b\b\b\b\b\b\b\b\b\b\b\b\b\b\b\b\b\b\b\b\b\b\b\b\b\b\b\b\b\b\b\b\b                                                  \b\b\b\b\b\b\b\b\b\b\b\b\b\b\b\b\b\b\b\b\b\b\b\b\b\b\b\b\b\b\b\b\b\b\b\b\b\b\b\b\b\b\b\b\b\b\b\b\b\b 19% 19597 - images/chicken_quesadilla/279159.jpg\b\b\b\b\b\b\b\b\b\b\b\b\b\b\b\b\b\b\b\b\b\b\b\b\b\b\b\b\b\b\b\b\b\b\b\b\b\b\b\b\b\b\b\b\b\b\b\b\b                                                 \b\b\b\b\b\b\b\b\b\b\b\b\b\b\b\b\b\b\b\b\b\b\b\b\b\b\b\b\b\b\b\b\b\b\b\b\b\b\b\b\b\b\b\b\b\b\b\b\b 19% 19683 - images/chicken_quesadilla/30733.jpg\b\b\b\b\b\b\b\b\b\b\b\b\b\b\b\b\b\b\b\b\b\b\b\b\b\b\b\b\b\b\b\b\b\b\b\b\b\b\b\b\b\b\b\b\b\b\b\b                                                \b\b\b\b\b\b\b\b\b\b\b\b\b\b\b\b\b\b\b\b\b\b\b\b\b\b\b\b\b\b\b\b\b\b\b\b\b\b\b\b\b\b\b\b\b\b\b\b 19% 19684 - images/chicken_quesadilla/3080345.jpg\b\b\b\b\b\b\b\b\b\b\b\b\b\b\b\b\b\b\b\b\b\b\b\b\b\b\b\b\b\b\b\b\b\b\b\b\b\b\b\b\b\b\b\b\b\b\b\b\b\b                                                  \b\b\b\b\b\b\b\b\b\b\b\b\b\b\b\b\b\b\b\b\b\b\b\b\b\b\b\b\b\b\b\b\b\b\b\b\b\b\b\b\b\b\b\b\b\b\b\b\b\b 19% 19768 - images/chicken_quesadilla/3342542.jpg\b\b\b\b\b\b\b\b\b\b\b\b\b\b\b\b\b\b\b\b\b\b\b\b\b\b\b\b\b\b\b\b\b\b\b\b\b\b\b\b\b\b\b\b\b\b\b\b\b\b                                                  \b\b\b\b\b\b\b\b\b\b\b\b\b\b\b\b\b\b\b\b\b\b\b\b\b\b\b\b\b\b\b\b\b\b\b\b\b\b\b\b\b\b\b\b\b\b\b\b\b\b 19% 19847 - images/chicken_quesadilla/3639965.jpg\b\b\b\b\b\b\b\b\b\b\b\b\b\b\b\b\b\b\b\b\b\b\b\b\b\b\b\b\b\b\b\b\b\b\b\b\b\b\b\b\b\b\b\b\b\b\b\b\b\b                                                  \b\b\b\b\b\b\b\b\b\b\b\b\b\b\b\b\b\b\b\b\b\b\b\b\b\b\b\b\b\b\b\b\b\b\b\b\b\b\b\b\b\b\b\b\b\b\b\b\b\b 19% 19926 - images/chicken_quesadilla/404193.jpg\b\b\b\b\b\b\b\b\b\b\b\b\b\b\b\b\b\b\b\b\b\b\b\b\b\b\b\b\b\b\b\b\b\b\b\b\b\b\b\b\b\b\b\b\b\b\b\b\b                                                 \b\b\b\b\b\b\b\b\b\b\b\b\b\b\b\b\b\b\b\b\b\b\b\b\b\b\b\b\b\b\b\b\b\b\b\b\b\b\b\b\b\b\b\b\b\b\b\b\b 19% 19927 - images/chicken_quesadilla/406933.jpg\b\b\b\b\b\b\b\b\b\b\b\b\b\b\b\b\b\b\b\b\b\b\b\b\b\b\b\b\b\b\b\b\b\b\b\b\b\b\b\b\b\b\b\b\b\b\b\b\b                                                 \b\b\b\b\b\b\b\b\b\b\b\b\b\b\b\b\b\b\b\b\b\b\b\b\b\b\b\b\b\b\b\b\b\b\b\b\b\b\b\b\b\b\b\b\b\b\b\b\b 19% 20005 - images/chicken_quesadilla/701054.jpg\b\b\b\b\b\b\b\b\b\b\b\b\b\b\b\b\b\b\b\b\b\b\b\b\b\b\b\b\b\b\b\b\b\b\b\b\b\b\b\b\b\b\b\b\b\b\b\b\b                                                 \b\b\b\b\b\b\b\b\b\b\b\b\b\b\b\b\b\b\b\b\b\b\b\b\b\b\b\b\b\b\b\b\b\b\b\b\b\b\b\b\b\b\b\b\b\b\b\b\b 19% 20088 - images/chicken_quesadilla/957537.jpg\b\b\b\b\b\b\b\b\b\b\b\b\b\b\b\b\b\b\b\b\b\b\b\b\b\b\b\b\b\b\b\b\b\b\b\b\b\b\b\b\b\b\b\b\b\b\b\b\b                                                 \b\b\b\b\b\b\b\b\b\b\b\b\b\b\b\b\b\b\b\b\b\b\b\b\b\b\b\b\b\b\b\b\b\b\b\b\b\b\b\b\b\b\b\b\b\b\b\b\b 20% 20164 - images/chicken_wings/1196226.jpg\b\b\b\b\b\b\b\b\b\b\b\b\b\b\b\b\b\b\b\b\b\b\b\b\b\b\b\b\b\b\b\b\b\b\b\b\b\b\b\b\b\b\b\b\b                                             \b\b\b\b\b\b\b\b\b\b\b\b\b\b\b\b\b\b\b\b\b\b\b\b\b\b\b\b\b\b\b\b\b\b\b\b\b\b\b\b\b\b\b\b\b 20% 20241 - images/chicken_wings/1467186.jpg\b\b\b\b\b\b\b\b\b\b\b\b\b\b\b\b\b\b\b\b\b\b\b\b\b\b\b\b\b\b\b\b\b\b\b\b\b\b\b\b\b\b\b\b\b                                             \b\b\b\b\b\b\b\b\b\b\b\b\b\b\b\b\b\b\b\b\b\b\b\b\b\b\b\b\b\b\b\b\b\b\b\b\b\b\b\b\b\b\b\b\b 20% 20323 - images/chicken_wings/173288.jpg\b\b\b\b\b\b\b\b\b\b\b\b\b\b\b\b\b\b\b\b\b\b\b\b\b\b\b\b\b\b\b\b\b\b\b\b\b\b\b\b\b\b\b\b                                            \b\b\b\b\b\b\b\b\b\b\b\b\b\b\b\b\b\b\b\b\b\b\b\b\b\b\b\b\b\b\b\b\b\b\b\b\b\b\b\b\b\b\b\b 20% 20324 - images/chicken_wings/1732957.jpg\b\b\b\b\b\b\b\b\b\b\b\b\b\b\b\b\b\b\b\b\b\b\b\b\b\b\b\b\b\b\b\b\b\b\b\b\b\b\b\b\b\b\b\b\b                                             \b\b\b\b\b\b\b\b\b\b\b\b\b\b\b\b\b\b\b\b\b\b\b\b\b\b\b\b\b\b\b\b\b\b\b\b\b\b\b\b\b\b\b\b\b 20% 20402 - images/chicken_wings/2037668.jpg\b\b\b\b\b\b\b\b\b\b\b\b\b\b\b\b\b\b\b\b\b\b\b\b\b\b\b\b\b\b\b\b\b\b\b\b\b\b\b\b\b\b\b\b\b                                             \b\b\b\b\b\b\b\b\b\b\b\b\b\b\b\b\b\b\b\b\b\b\b\b\b\b\b\b\b\b\b\b\b\b\b\b\b\b\b\b\b\b\b\b\b 20% 20483 - images/chicken_wings/2349384.jpg\b\b\b\b\b\b\b\b\b\b\b\b\b\b\b\b\b\b\b\b\b\b\b\b\b\b\b\b\b\b\b\b\b\b\b\b\b\b\b\b\b\b\b\b\b                                             \b\b\b\b\b\b\b\b\b\b\b\b\b\b\b\b\b\b\b\b\b\b\b\b\b\b\b\b\b\b\b\b\b\b\b\b\b\b\b\b\b\b\b\b\b 20% 20562 - images/chicken_wings/2619083.jpg\b\b\b\b\b\b\b\b\b\b\b\b\b\b\b\b\b\b\b\b\b\b\b\b\b\b\b\b\b\b\b\b\b\b\b\b\b\b\b\b\b\b\b\b\b                                             \b\b\b\b\b\b\b\b\b\b\b\b\b\b\b\b\b\b\b\b\b\b\b\b\b\b\b\b\b\b\b\b\b\b\b\b\b\b\b\b\b\b\b\b\b 20% 20592 - images/chicken_wings/2702069.jpg\b\b\b\b\b\b\b\b\b\b\b\b\b\b\b\b\b\b\b\b\b\b\b\b\b\b\b\b\b\b\b\b\b\b\b\b\b\b\b\b\b\b\b\b\b                                             \b\b\b\b\b\b\b\b\b\b\b\b\b\b\b\b\b\b\b\b\b\b\b\b\b\b\b\b\b\b\b\b\b\b\b\b\b\b\b\b\b\b\b\b\b 20% 20641 - images/chicken_wings/2877759.jpg\b\b\b\b\b\b\b\b\b\b\b\b\b\b\b\b\b\b\b\b\b\b\b\b\b\b\b\b\b\b\b\b\b\b\b\b\b\b\b\b\b\b\b\b\b                                             \b\b\b\b\b\b\b\b\b\b\b\b\b\b\b\b\b\b\b\b\b\b\b\b\b\b\b\b\b\b\b\b\b\b\b\b\b\b\b\b\b\b\b\b\b 20% 20722 - images/chicken_wings/3135801.jpg\b\b\b\b\b\b\b\b\b\b\b\b\b\b\b\b\b\b\b\b\b\b\b\b\b\b\b\b\b\b\b\b\b\b\b\b\b\b\b\b\b\b\b\b\b                                             \b\b\b\b\b\b\b\b\b\b\b\b\b\b\b\b\b\b\b\b\b\b\b\b\b\b\b\b\b\b\b\b\b\b\b\b\b\b\b\b\b\b\b\b\b 20% 20800 - images/chicken_wings/3463181.jpg\b\b\b\b\b\b\b\b\b\b\b\b\b\b\b\b\b\b\b\b\b\b\b\b\b\b\b\b\b\b\b\b\b\b\b\b\b\b\b\b\b\b\b\b\b                                             \b\b\b\b\b\b\b\b\b\b\b\b\b\b\b\b\b\b\b\b\b\b\b\b\b\b\b\b\b\b\b\b\b\b\b\b\b\b\b\b\b\b\b\b\b 20% 20841 - images/chicken_wings/3692826.jpg\b\b\b\b\b\b\b\b\b\b\b\b\b\b\b\b\b\b\b\b\b\b\b\b\b\b\b\b\b\b\b\b\b\b\b\b\b\b\b\b\b\b\b\b\b                                             \b\b\b\b\b\b\b\b\b\b\b\b\b\b\b\b\b\b\b\b\b\b\b\b\b\b\b\b\b\b\b\b\b\b\b\b\b\b\b\b\b\b\b\b\b 20% 20877 - images/chicken_wings/3824328.jpg\b\b\b\b\b\b\b\b\b\b\b\b\b\b\b\b\b\b\b\b\b\b\b\b\b\b\b\b\b\b\b\b\b\b\b\b\b\b\b\b\b\b\b\b\b                                             \b\b\b\b\b\b\b\b\b\b\b\b\b\b\b\b\b\b\b\b\b\b\b\b\b\b\b\b\b\b\b\b\b\b\b\b\b\b\b\b\b\b\b\b\b 20% 20957 - images/chicken_wings/552164.jpg\b\b\b\b\b\b\b\b\b\b\b\b\b\b\b\b\b\b\b\b\b\b\b\b\b\b\b\b\b\b\b\b\b\b\b\b\b\b\b\b\b\b\b\b                                            \b\b\b\b\b\b\b\b\b\b\b\b\b\b\b\b\b\b\b\b\b\b\b\b\b\b\b\b\b\b\b\b\b\b\b\b\b\b\b\b\b\b\b\b 20% 21031 - images/chicken_wings/78311.jpg\b\b\b\b\b\b\b\b\b\b\b\b\b\b\b\b\b\b\b\b\b\b\b\b\b\b\b\b\b\b\b\b\b\b\b\b\b\b\b\b\b\b\b                                           \b\b\b\b\b\b\b\b\b\b\b\b\b\b\b\b\b\b\b\b\b\b\b\b\b\b\b\b\b\b\b\b\b\b\b\b\b\b\b\b\b\b\b 21% 21112 - images/chocolate_cake/1035884.jpg\b\b\b\b\b\b\b\b\b\b\b\b\b\b\b\b\b\b\b\b\b\b\b\b\b\b\b\b\b\b\b\b\b\b\b\b\b\b\b\b\b\b\b\b\b\b                                              \b\b\b\b\b\b\b\b\b\b\b\b\b\b\b\b\b\b\b\b\b\b\b\b\b\b\b\b\b\b\b\b\b\b\b\b\b\b\b\b\b\b\b\b\b\b 21% 21116 - images/chocolate_cake/1052917.jpg\b\b\b\b\b\b\b\b\b\b\b\b\b\b\b\b\b\b\b\b\b\b\b\b\b\b\b\b\b\b\b\b\b\b\b\b\b\b\b\b\b\b\b\b\b\b                                              \b\b\b\b\b\b\b\b\b\b\b\b\b\b\b\b\b\b\b\b\b\b\b\b\b\b\b\b\b\b\b\b\b\b\b\b\b\b\b\b\b\b\b\b\b\b 21% 21196 - images/chocolate_cake/1342509.jpg\b\b\b\b\b\b\b\b\b\b\b\b\b\b\b\b\b\b\b\b\b\b\b\b\b\b\b\b\b\b\b\b\b\b\b\b\b\b\b\b\b\b\b\b\b\b                                              \b\b\b\b\b\b\b\b\b\b\b\b\b\b\b\b\b\b\b\b\b\b\b\b\b\b\b\b\b\b\b\b\b\b\b\b\b\b\b\b\b\b\b\b\b\b 21% 21279 - images/chocolate_cake/1632607.jpg\b\b\b\b\b\b\b\b\b\b\b\b\b\b\b\b\b\b\b\b\b\b\b\b\b\b\b\b\b\b\b\b\b\b\b\b\b\b\b\b\b\b\b\b\b\b                                              \b\b\b\b\b\b\b\b\b\b\b\b\b\b\b\b\b\b\b\b\b\b\b\b\b\b\b\b\b\b\b\b\b\b\b\b\b\b\b\b\b\b\b\b\b\b 21% 21365 - images/chocolate_cake/2009046.jpg\b\b\b\b\b\b\b\b\b\b\b\b\b\b\b\b\b\b\b\b\b\b\b\b\b\b\b\b\b\b\b\b\b\b\b\b\b\b\b\b\b\b\b\b\b\b                                              \b\b\b\b\b\b\b\b\b\b\b\b\b\b\b\b\b\b\b\b\b\b\b\b\b\b\b\b\b\b\b\b\b\b\b\b\b\b\b\b\b\b\b\b\b\b 21% 21371 - images/chocolate_cake/2017816.jpg\b\b\b\b\b\b\b\b\b\b\b\b\b\b\b\b\b\b\b\b\b\b\b\b\b\b\b\b\b\b\b\b\b\b\b\b\b\b\b\b\b\b\b\b\b\b                                              \b\b\b\b\b\b\b\b\b\b\b\b\b\b\b\b\b\b\b\b\b\b\b\b\b\b\b\b\b\b\b\b\b\b\b\b\b\b\b\b\b\b\b\b\b\b 21% 21448 - images/chocolate_cake/2312305.jpg\b\b\b\b\b\b\b\b\b\b\b\b\b\b\b\b\b\b\b\b\b\b\b\b\b\b\b\b\b\b\b\b\b\b\b\b\b\b\b\b\b\b\b\b\b\b                                              \b\b\b\b\b\b\b\b\b\b\b\b\b\b\b\b\b\b\b\b\b\b\b\b\b\b\b\b\b\b\b\b\b\b\b\b\b\b\b\b\b\b\b\b\b\b 21% 21529 - images/chocolate_cake/2566965.jpg\b\b\b\b\b\b\b\b\b\b\b\b\b\b\b\b\b\b\b\b\b\b\b\b\b\b\b\b\b\b\b\b\b\b\b\b\b\b\b\b\b\b\b\b\b\b                                              \b\b\b\b\b\b\b\b\b\b\b\b\b\b\b\b\b\b\b\b\b\b\b\b\b\b\b\b\b\b\b\b\b\b\b\b\b\b\b\b\b\b\b\b\b\b 21% 21613 - images/chocolate_cake/2899046.jpg\b\b\b\b\b\b\b\b\b\b\b\b\b\b\b\b\b\b\b\b\b\b\b\b\b\b\b\b\b\b\b\b\b\b\b\b\b\b\b\b\b\b\b\b\b\b                                              \b\b\b\b\b\b\b\b\b\b\b\b\b\b\b\b\b\b\b\b\b\b\b\b\b\b\b\b\b\b\b\b\b\b\b\b\b\b\b\b\b\b\b\b\b\b 21% 21614 - images/chocolate_cake/2906322.jpg\b\b\b\b\b\b\b\b\b\b\b\b\b\b\b\b\b\b\b\b\b\b\b\b\b\b\b\b\b\b\b\b\b\b\b\b\b\b\b\b\b\b\b\b\b\b                                              \b\b\b\b\b\b\b\b\b\b\b\b\b\b\b\b\b\b\b\b\b\b\b\b\b\b\b\b\b\b\b\b\b\b\b\b\b\b\b\b\b\b\b\b\b\b 21% 21696 - images/chocolate_cake/3117951.jpg\b\b\b\b\b\b\b\b\b\b\b\b\b\b\b\b\b\b\b\b\b\b\b\b\b\b\b\b\b\b\b\b\b\b\b\b\b\b\b\b\b\b\b\b\b\b                                              \b\b\b\b\b\b\b\b\b\b\b\b\b\b\b\b\b\b\b\b\b\b\b\b\b\b\b\b\b\b\b\b\b\b\b\b\b\b\b\b\b\b\b\b\b\b 21% 21782 - images/chocolate_cake/3396004.jpg\b\b\b\b\b\b\b\b\b\b\b\b\b\b\b\b\b\b\b\b\b\b\b\b\b\b\b\b\b\b\b\b\b\b\b\b\b\b\b\b\b\b\b\b\b\b                                              \b\b\b\b\b\b\b\b\b\b\b\b\b\b\b\b\b\b\b\b\b\b\b\b\b\b\b\b\b\b\b\b\b\b\b\b\b\b\b\b\b\b\b\b\b\b 21% 21866 - images/chocolate_cake/3686868.jpg\b\b\b\b\b\b\b\b\b\b\b\b\b\b\b\b\b\b\b\b\b\b\b\b\b\b\b\b\b\b\b\b\b\b\b\b\b\b\b\b\b\b\b\b\b\b                                              \b\b\b\b\b\b\b\b\b\b\b\b\b\b\b\b\b\b\b\b\b\b\b\b\b\b\b\b\b\b\b\b\b\b\b\b\b\b\b\b\b\b\b\b\b\b 21% 21877 - images/chocolate_cake/3714341.jpg\b\b\b\b\b\b\b\b\b\b\b\b\b\b\b\b\b\b\b\b\b\b\b\b\b\b\b\b\b\b\b\b\b\b\b\b\b\b\b\b\b\b\b\b\b\b                                              \b\b\b\b\b\b\b\b\b\b\b\b\b\b\b\b\b\b\b\b\b\b\b\b\b\b\b\b\b\b\b\b\b\b\b\b\b\b\b\b\b\b\b\b\b\b 21% 21960 - images/chocolate_cake/511528.jpg\b\b\b\b\b\b\b\b\b\b\b\b\b\b\b\b\b\b\b\b\b\b\b\b\b\b\b\b\b\b\b\b\b\b\b\b\b\b\b\b\b\b\b\b\b                                             \b\b\b\b\b\b\b\b\b\b\b\b\b\b\b\b\b\b\b\b\b\b\b\b\b\b\b\b\b\b\b\b\b\b\b\b\b\b\b\b\b\b\b\b\b 21% 22045 - images/chocolate_cake/749353.jpg\b\b\b\b\b\b\b\b\b\b\b\b\b\b\b\b\b\b\b\b\b\b\b\b\b\b\b\b\b\b\b\b\b\b\b\b\b\b\b\b\b\b\b\b\b                                             \b\b\b\b\b\b\b\b\b\b\b\b\b\b\b\b\b\b\b\b\b\b\b\b\b\b\b\b\b\b\b\b\b\b\b\b\b\b\b\b\b\b\b\b\b 22% 22132 - images/chocolate_mousse/1146828.jpg\b\b\b\b\b\b\b\b\b\b\b\b\b\b\b\b\b\b\b\b\b\b\b\b\b\b\b\b\b\b\b\b\b\b\b\b\b\b\b\b\b\b\b\b\b\b\b\b                                                \b\b\b\b\b\b\b\b\b\b\b\b\b\b\b\b\b\b\b\b\b\b\b\b\b\b\b\b\b\b\b\b\b\b\b\b\b\b\b\b\b\b\b\b\b\b\b\b 22% 22221 - images/chocolate_mousse/1452244.jpg\b\b\b\b\b\b\b\b\b\b\b\b\b\b\b\b\b\b\b\b\b\b\b\b\b\b\b\b\b\b\b\b\b\b\b\b\b\b\b\b\b\b\b\b\b\b\b\b                                                \b\b\b\b\b\b\b\b\b\b\b\b\b\b\b\b\b\b\b\b\b\b\b\b\b\b\b\b\b\b\b\b\b\b\b\b\b\b\b\b\b\b\b\b\b\b\b\b 22% 22222 - images/chocolate_mousse/1455718.jpg\b\b\b\b\b\b\b\b\b\b\b\b\b\b\b\b\b\b\b\b\b\b\b\b\b\b\b\b\b\b\b\b\b\b\b\b\b\b\b\b\b\b\b\b\b\b\b\b                                                \b\b\b\b\b\b\b\b\b\b\b\b\b\b\b\b\b\b\b\b\b\b\b\b\b\b\b\b\b\b\b\b\b\b\b\b\b\b\b\b\b\b\b\b\b\b\b\b 22% 22311 - images/chocolate_mousse/1752475.jpg\b\b\b\b\b\b\b\b\b\b\b\b\b\b\b\b\b\b\b\b\b\b\b\b\b\b\b\b\b\b\b\b\b\b\b\b\b\b\b\b\b\b\b\b\b\b\b\b                                                \b\b\b\b\b\b\b\b\b\b\b\b\b\b\b\b\b\b\b\b\b\b\b\b\b\b\b\b\b\b\b\b\b\b\b\b\b\b\b\b\b\b\b\b\b\b\b\b 22% 22401 - images/chocolate_mousse/2085318.jpg\b\b\b\b\b\b\b\b\b\b\b\b\b\b\b\b\b\b\b\b\b\b\b\b\b\b\b\b\b\b\b\b\b\b\b\b\b\b\b\b\b\b\b\b\b\b\b\b                                                \b\b\b\b\b\b\b\b\b\b\b\b\b\b\b\b\b\b\b\b\b\b\b\b\b\b\b\b\b\b\b\b\b\b\b\b\b\b\b\b\b\b\b\b\b\b\b\b 22% 22494 - images/chocolate_mousse/2377202.jpg\b\b\b\b\b\b\b\b\b\b\b\b\b\b\b\b\b\b\b\b\b\b\b\b\b\b\b\b\b\b\b\b\b\b\b\b\b\b\b\b\b\b\b\b\b\b\b\b                                                \b\b\b\b\b\b\b\b\b\b\b\b\b\b\b\b\b\b\b\b\b\b\b\b\b\b\b\b\b\b\b\b\b\b\b\b\b\b\b\b\b\b\b\b\b\b\b\b 22% 22577 - images/chocolate_mousse/2648599.jpg\b\b\b\b\b\b\b\b\b\b\b\b\b\b\b\b\b\b\b\b\b\b\b\b\b\b\b\b\b\b\b\b\b\b\b\b\b\b\b\b\b\b\b\b\b\b\b\b                                                \b\b\b\b\b\b\b\b\b\b\b\b\b\b\b\b\b\b\b\b\b\b\b\b\b\b\b\b\b\b\b\b\b\b\b\b\b\b\b\b\b\b\b\b\b\b\b\b 22% 22592 - images/chocolate_mousse/2726780.jpg\b\b\b\b\b\b\b\b\b\b\b\b\b\b\b\b\b\b\b\b\b\b\b\b\b\b\b\b\b\b\b\b\b\b\b\b\b\b\b\b\b\b\b\b\b\b\b\b                                                \b\b\b\b\b\b\b\b\b\b\b\b\b\b\b\b\b\b\b\b\b\b\b\b\b\b\b\b\b\b\b\b\b\b\b\b\b\b\b\b\b\b\b\b\b\b\b\b 22% 22683 - images/chocolate_mousse/3043966.jpg\b\b\b\b\b\b\b\b\b\b\b\b\b\b\b\b\b\b\b\b\b\b\b\b\b\b\b\b\b\b\b\b\b\b\b\b\b\b\b\b\b\b\b\b\b\b\b\b                                                \b\b\b\b\b\b\b\b\b\b\b\b\b\b\b\b\b\b\b\b\b\b\b\b\b\b\b\b\b\b\b\b\b\b\b\b\b\b\b\b\b\b\b\b\b\b\b\b 22% 22779 - images/chocolate_mousse/3435076.jpg\b\b\b\b\b\b\b\b\b\b\b\b\b\b\b\b\b\b\b\b\b\b\b\b\b\b\b\b\b\b\b\b\b\b\b\b\b\b\b\b\b\b\b\b\b\b\b\b                                                \b\b\b\b\b\b\b\b\b\b\b\b\b\b\b\b\b\b\b\b\b\b\b\b\b\b\b\b\b\b\b\b\b\b\b\b\b\b\b\b\b\b\b\b\b\b\b\b 22% 22780 - images/chocolate_mousse/3436873.jpg\b\b\b\b\b\b\b\b\b\b\b\b\b\b\b\b\b\b\b\b\b\b\b\b\b\b\b\b\b\b\b\b\b\b\b\b\b\b\b\b\b\b\b\b\b\b\b\b                                                \b\b\b\b\b\b\b\b\b\b\b\b\b\b\b\b\b\b\b\b\b\b\b\b\b\b\b\b\b\b\b\b\b\b\b\b\b\b\b\b\b\b\b\b\b\b\b\b 22% 22873 - images/chocolate_mousse/3781649.jpg\b\b\b\b\b\b\b\b\b\b\b\b\b\b\b\b\b\b\b\b\b\b\b\b\b\b\b\b\b\b\b\b\b\b\b\b\b\b\b\b\b\b\b\b\b\b\b\b                                                \b\b\b\b\b\b\b\b\b\b\b\b\b\b\b\b\b\b\b\b\b\b\b\b\b\b\b\b\b\b\b\b\b\b\b\b\b\b\b\b\b\b\b\b\b\b\b\b 22% 22970 - images/chocolate_mousse/549884.jpg\b\b\b\b\b\b\b\b\b\b\b\b\b\b\b\b\b\b\b\b\b\b\b\b\b\b\b\b\b\b\b\b\b\b\b\b\b\b\b\b\b\b\b\b\b\b\b                                               \b\b\b\b\b\b\b\b\b\b\b\b\b\b\b\b\b\b\b\b\b\b\b\b\b\b\b\b\b\b\b\b\b\b\b\b\b\b\b\b\b\b\b\b\b\b\b 22% 23021 - images/chocolate_mousse/716657.jpg\b\b\b\b\b\b\b\b\b\b\b\b\b\b\b\b\b\b\b\b\b\b\b\b\b\b\b\b\b\b\b\b\b\b\b\b\b\b\b\b\b\b\b\b\b\b\b                                               \b\b\b\b\b\b\b\b\b\b\b\b\b\b\b\b\b\b\b\b\b\b\b\b\b\b\b\b\b\b\b\b\b\b\b\b\b\b\b\b\b\b\b\b\b\b\b 22% 23059 - images/chocolate_mousse/861730.jpg\b\b\b\b\b\b\b\b\b\b\b\b\b\b\b\b\b\b\b\b\b\b\b\b\b\b\b\b\b\b\b\b\b\b\b\b\b\b\b\b\b\b\b\b\b\b\b                                               \b\b\b\b\b\b\b\b\b\b\b\b\b\b\b\b\b\b\b\b\b\b\b\b\b\b\b\b\b\b\b\b\b\b\b\b\b\b\b\b\b\b\b\b\b\b\b 22% 23145 - images/churros/1143913.jpg\b\b\b\b\b\b\b\b\b\b\b\b\b\b\b\b\b\b\b\b\b\b\b\b\b\b\b\b\b\b\b\b\b\b\b\b\b\b\b                                       \b\b\b\b\b\b\b\b\b\b\b\b\b\b\b\b\b\b\b\b\b\b\b\b\b\b\b\b\b\b\b\b\b\b\b\b\b\b\b 22% 23233 - images/churros/1467895.jpg\b\b\b\b\b\b\b\b\b\b\b\b\b\b\b\b\b\b\b\b\b\b\b\b\b\b\b\b\b\b\b\b\b\b\b\b\b\b\b                                       \b\b\b\b\b\b\b\b\b\b\b\b\b\b\b\b\b\b\b\b\b\b\b\b\b\b\b\b\b\b\b\b\b\b\b\b\b\b\b 23% 23318 - images/churros/1751757.jpg\b\b\b\b\b\b\b\b\b\b\b\b\b\b\b\b\b\b\b\b\b\b\b\b\b\b\b\b\b\b\b\b\b\b\b\b\b\b\b                                       \b\b\b\b\b\b\b\b\b\b\b\b\b\b\b\b\b\b\b\b\b\b\b\b\b\b\b\b\b\b\b\b\b\b\b\b\b\b\b 23% 23319 - images/churros/17547.jpg\b\b\b\b\b\b\b\b\b\b\b\b\b\b\b\b\b\b\b\b\b\b\b\b\b\b\b\b\b\b\b\b\b\b\b\b\b                                     \b\b\b\b\b\b\b\b\b\b\b\b\b\b\b\b\b\b\b\b\b\b\b\b\b\b\b\b\b\b\b\b\b\b\b\b\b 23% 23406 - images/churros/2041073.jpg\b\b\b\b\b\b\b\b\b\b\b\b\b\b\b\b\b\b\b\b\b\b\b\b\b\b\b\b\b\b\b\b\b\b\b\b\b\b\b                                       \b\b\b\b\b\b\b\b\b\b\b\b\b\b\b\b\b\b\b\b\b\b\b\b\b\b\b\b\b\b\b\b\b\b\b\b\b\b\b 23% 23493 - images/churros/2360308.jpg\b\b\b\b\b\b\b\b\b\b\b\b\b\b\b\b\b\b\b\b\b\b\b\b\b\b\b\b\b\b\b\b\b\b\b\b\b\b\b                                       \b\b\b\b\b\b\b\b\b\b\b\b\b\b\b\b\b\b\b\b\b\b\b\b\b\b\b\b\b\b\b\b\b\b\b\b\b\b\b 23% 23576 - images/churros/2613362.jpg\b\b\b\b\b\b\b\b\b\b\b\b\b\b\b\b\b\b\b\b\b\b\b\b\b\b\b\b\b\b\b\b\b\b\b\b\b\b\b                                       \b\b\b\b\b\b\b\b\b\b\b\b\b\b\b\b\b\b\b\b\b\b\b\b\b\b\b\b\b\b\b\b\b\b\b\b\b\b\b 23% 23662 - images/churros/2956369.jpg\b\b\b\b\b\b\b\b\b\b\b\b\b\b\b\b\b\b\b\b\b\b\b\b\b\b\b\b\b\b\b\b\b\b\b\b\b\b\b                                       \b\b\b\b\b\b\b\b\b\b\b\b\b\b\b\b\b\b\b\b\b\b\b\b\b\b\b\b\b\b\b\b\b\b\b\b\b\b\b 23% 23663 - images/churros/2960870.jpg\b\b\b\b\b\b\b\b\b\b\b\b\b\b\b\b\b\b\b\b\b\b\b\b\b\b\b\b\b\b\b\b\b\b\b\b\b\b\b                                       \b\b\b\b\b\b\b\b\b\b\b\b\b\b\b\b\b\b\b\b\b\b\b\b\b\b\b\b\b\b\b\b\b\b\b\b\b\b\b 23% 23748 - images/churros/3260091.jpg\b\b\b\b\b\b\b\b\b\b\b\b\b\b\b\b\b\b\b\b\b\b\b\b\b\b\b\b\b\b\b\b\b\b\b\b\b\b\b                                       \b\b\b\b\b\b\b\b\b\b\b\b\b\b\b\b\b\b\b\b\b\b\b\b\b\b\b\b\b\b\b\b\b\b\b\b\b\b\b 23% 23832 - images/churros/3523713.jpg\b\b\b\b\b\b\b\b\b\b\b\b\b\b\b\b\b\b\b\b\b\b\b\b\b\b\b\b\b\b\b\b\b\b\b\b\b\b\b                                       \b\b\b\b\b\b\b\b\b\b\b\b\b\b\b\b\b\b\b\b\b\b\b\b\b\b\b\b\b\b\b\b\b\b\b\b\b\b\b 23% 23919 - images/churros/3897252.jpg\b\b\b\b\b\b\b\b\b\b\b\b\b\b\b\b\b\b\b\b\b\b\b\b\b\b\b\b\b\b\b\b\b\b\b\b\b\b\b                                       \b\b\b\b\b\b\b\b\b\b\b\b\b\b\b\b\b\b\b\b\b\b\b\b\b\b\b\b\b\b\b\b\b\b\b\b\b\b\b 23% 23952 - images/churros/506009.jpg\b\b\b\b\b\b\b\b\b\b\b\b\b\b\b\b\b\b\b\b\b\b\b\b\b\b\b\b\b\b\b\b\b\b\b\b\b\b                                      \b\b\b\b\b\b\b\b\b\b\b\b\b\b\b\b\b\b\b\b\b\b\b\b\b\b\b\b\b\b\b\b\b\b\b\b\b\b 23% 23996 - images/churros/644455.jpg\b\b\b\b\b\b\b\b\b\b\b\b\b\b\b\b\b\b\b\b\b\b\b\b\b\b\b\b\b\b\b\b\b\b\b\b\b\b                                      \b\b\b\b\b\b\b\b\b\b\b\b\b\b\b\b\b\b\b\b\b\b\b\b\b\b\b\b\b\b\b\b\b\b\b\b\b\b 23% 24074 - images/churros/924336.jpg\b\b\b\b\b\b\b\b\b\b\b\b\b\b\b\b\b\b\b\b\b\b\b\b\b\b\b\b\b\b\b\b\b\b\b\b\b\b                                      \b\b\b\b\b\b\b\b\b\b\b\b\b\b\b\b\b\b\b\b\b\b\b\b\b\b\b\b\b\b\b\b\b\b\b\b\b\b 23% 24169 - images/clam_chowder/1231460.jpg\b\b\b\b\b\b\b\b\b\b\b\b\b\b\b\b\b\b\b\b\b\b\b\b\b\b\b\b\b\b\b\b\b\b\b\b\b\b\b\b\b\b\b\b                                            \b\b\b\b\b\b\b\b\b\b\b\b\b\b\b\b\b\b\b\b\b\b\b\b\b\b\b\b\b\b\b\b\b\b\b\b\b\b\b\b\b\b\b\b 23% 24268 - images/clam_chowder/1613241.jpg\b\b\b\b\b\b\b\b\b\b\b\b\b\b\b\b\b\b\b\b\b\b\b\b\b\b\b\b\b\b\b\b\b\b\b\b\b\b\b\b\b\b\b\b                                            \b\b\b\b\b\b\b\b\b\b\b\b\b\b\b\b\b\b\b\b\b\b\b\b\b\b\b\b\b\b\b\b\b\b\b\b\b\b\b\b\b\b\b\b 23% 24269 - images/clam_chowder/161548.jpg\b\b\b\b\b\b\b\b\b\b\b\b\b\b\b\b\b\b\b\b\b\b\b\b\b\b\b\b\b\b\b\b\b\b\b\b\b\b\b\b\b\b\b                                           \b\b\b\b\b\b\b\b\b\b\b\b\b\b\b\b\b\b\b\b\b\b\b\b\b\b\b\b\b\b\b\b\b\b\b\b\b\b\b\b\b\b\b 24% 24366 - images/clam_chowder/2002340.jpg\b\b\b\b\b\b\b\b\b\b\b\b\b\b\b\b\b\b\b\b\b\b\b\b\b\b\b\b\b\b\b\b\b\b\b\b\b\b\b\b\b\b\b\b                                            \b\b\b\b\b\b\b\b\b\b\b\b\b\b\b\b\b\b\b\b\b\b\b\b\b\b\b\b\b\b\b\b\b\b\b\b\b\b\b\b\b\b\b\b 24% 24468 - images/clam_chowder/2318455.jpg\b\b\b\b\b\b\b\b\b\b\b\b\b\b\b\b\b\b\b\b\b\b\b\b\b\b\b\b\b\b\b\b\b\b\b\b\b\b\b\b\b\b\b\b                                            \b\b\b\b\b\b\b\b\b\b\b\b\b\b\b\b\b\b\b\b\b\b\b\b\b\b\b\b\b\b\b\b\b\b\b\b\b\b\b\b\b\b\b\b 24% 24563 - images/clam_chowder/2674231.jpg\b\b\b\b\b\b\b\b\b\b\b\b\b\b\b\b\b\b\b\b\b\b\b\b\b\b\b\b\b\b\b\b\b\b\b\b\b\b\b\b\b\b\b\b                                            \b\b\b\b\b\b\b\b\b\b\b\b\b\b\b\b\b\b\b\b\b\b\b\b\b\b\b\b\b\b\b\b\b\b\b\b\b\b\b\b\b\b\b\b 24% 24616 - images/clam_chowder/2844096.jpg\b\b\b\b\b\b\b\b\b\b\b\b\b\b\b\b\b\b\b\b\b\b\b\b\b\b\b\b\b\b\b\b\b\b\b\b\b\b\b\b\b\b\b\b                                            \b\b\b\b\b\b\b\b\b\b\b\b\b\b\b\b\b\b\b\b\b\b\b\b\b\b\b\b\b\b\b\b\b\b\b\b\b\b\b\b\b\b\b\b 24% 24665 - images/clam_chowder/3008112.jpg\b\b\b\b\b\b\b\b\b\b\b\b\b\b\b\b\b\b\b\b\b\b\b\b\b\b\b\b\b\b\b\b\b\b\b\b\b\b\b\b\b\b\b\b                                            \b\b\b\b\b\b\b\b\b\b\b\b\b\b\b\b\b\b\b\b\b\b\b\b\b\b\b\b\b\b\b\b\b\b\b\b\b\b\b\b\b\b\b\b 24% 24769 - images/clam_chowder/3354744.jpg\b\b\b\b\b\b\b\b\b\b\b\b\b\b\b\b\b\b\b\b\b\b\b\b\b\b\b\b\b\b\b\b\b\b\b\b\b\b\b\b\b\b\b\b                                            \b\b\b\b\b\b\b\b\b\b\b\b\b\b\b\b\b\b\b\b\b\b\b\b\b\b\b\b\b\b\b\b\b\b\b\b\b\b\b\b\b\b\b\b 24% 24839 - images/clam_chowder/3648290.jpg\b\b\b\b\b\b\b\b\b\b\b\b\b\b\b\b\b\b\b\b\b\b\b\b\b\b\b\b\b\b\b\b\b\b\b\b\b\b\b\b\b\b\b\b                                            \b\b\b\b\b\b\b\b\b\b\b\b\b\b\b\b\b\b\b\b\b\b\b\b\b\b\b\b\b\b\b\b\b\b\b\b\b\b\b\b\b\b\b\b 24% 24872 - images/clam_chowder/3781462.jpg\b\b\b\b\b\b\b\b\b\b\b\b\b\b\b\b\b\b\b\b\b\b\b\b\b\b\b\b\b\b\b\b\b\b\b\b\b\b\b\b\b\b\b\b                                            \b\b\b\b\b\b\b\b\b\b\b\b\b\b\b\b\b\b\b\b\b\b\b\b\b\b\b\b\b\b\b\b\b\b\b\b\b\b\b\b\b\b\b\b 24% 24970 - images/clam_chowder/580513.jpg\b\b\b\b\b\b\b\b\b\b\b\b\b\b\b\b\b\b\b\b\b\b\b\b\b\b\b\b\b\b\b\b\b\b\b\b\b\b\b\b\b\b\b                                           \b\b\b\b\b\b\b\b\b\b\b\b\b\b\b\b\b\b\b\b\b\b\b\b\b\b\b\b\b\b\b\b\b\b\b\b\b\b\b\b\b\b\b 24% 25063 - images/clam_chowder/902589.jpg\b\b\b\b\b\b\b\b\b\b\b\b\b\b\b\b\b\b\b\b\b\b\b\b\b\b\b\b\b\b\b\b\b\b\b\b\b\b\b\b\b\b\b                                           \b\b\b\b\b\b\b\b\b\b\b\b\b\b\b\b\b\b\b\b\b\b\b\b\b\b\b\b\b\b\b\b\b\b\b\b\b\b\b\b\b\b\b 24% 25090 - images/clam_chowder/973255.jpg\b\b\b\b\b\b\b\b\b\b\b\b\b\b\b\b\b\b\b\b\b\b\b\b\b\b\b\b\b\b\b\b\b\b\b\b\b\b\b\b\b\b\b                                           \b\b\b\b\b\b\b\b\b\b\b\b\b\b\b\b\b\b\b\b\b\b\b\b\b\b\b\b\b\b\b\b\b\b\b\b\b\b\b\b\b\b\b 24% 25152 - images/club_sandwich/1178008.jpg\b\b\b\b\b\b\b\b\b\b\b\b\b\b\b\b\b\b\b\b\b\b\b\b\b\b\b\b\b\b\b\b\b\b\b\b\b\b\b\b\b\b\b\b\b                                             \b\b\b\b\b\b\b\b\b\b\b\b\b\b\b\b\b\b\b\b\b\b\b\b\b\b\b\b\b\b\b\b\b\b\b\b\b\b\b\b\b\b\b\b\b 24% 25230 - images/club_sandwich/1373551.jpg\b\b\b\b\b\b\b\b\b\b\b\b\b\b\b\b\b\b\b\b\b\b\b\b\b\b\b\b\b\b\b\b\b\b\b\b\b\b\b\b\b\b\b\b\b                                             \b\b\b\b\b\b\b\b\b\b\b\b\b\b\b\b\b\b\b\b\b\b\b\b\b\b\b\b\b\b\b\b\b\b\b\b\b\b\b\b\b\b\b\b\b 24% 25309 - images/club_sandwich/1648374.jpg\b\b\b\b\b\b\b\b\b\b\b\b\b\b\b\b\b\b\b\b\b\b\b\b\b\b\b\b\b\b\b\b\b\b\b\b\b\b\b\b\b\b\b\b\b                                             \b\b\b\b\b\b\b\b\b\b\b\b\b\b\b\b\b\b\b\b\b\b\b\b\b\b\b\b\b\b\b\b\b\b\b\b\b\b\b\b\b\b\b\b\b 24% 25388 - images/club_sandwich/1911119.jpg\b\b\b\b\b\b\b\b\b\b\b\b\b\b\b\b\b\b\b\b\b\b\b\b\b\b\b\b\b\b\b\b\b\b\b\b\b\b\b\b\b\b\b\b\b                                             \b\b\b\b\b\b\b\b\b\b\b\b\b\b\b\b\b\b\b\b\b\b\b\b\b\b\b\b\b\b\b\b\b\b\b\b\b\b\b\b\b\b\b\b\b 24% 25406 - images/club_sandwich/1996259.jpg\b\b\b\b\b\b\b\b\b\b\b\b\b\b\b\b\b\b\b\b\b\b\b\b\b\b\b\b\b\b\b\b\b\b\b\b\b\b\b\b\b\b\b\b\b                                             \b\b\b\b\b\b\b\b\b\b\b\b\b\b\b\b\b\b\b\b\b\b\b\b\b\b\b\b\b\b\b\b\b\b\b\b\b\b\b\b\b\b\b\b\b 25% 25469 - images/club_sandwich/2231470.jpg\b\b\b\b\b\b\b\b\b\b\b\b\b\b\b\b\b\b\b\b\b\b\b\b\b\b\b\b\b\b\b\b\b\b\b\b\b\b\b\b\b\b\b\b\b                                             \b\b\b\b\b\b\b\b\b\b\b\b\b\b\b\b\b\b\b\b\b\b\b\b\b\b\b\b\b\b\b\b\b\b\b\b\b\b\b\b\b\b\b\b\b 25% 25546 - images/club_sandwich/2581292.jpg\b\b\b\b\b\b\b\b\b\b\b\b\b\b\b\b\b\b\b\b\b\b\b\b\b\b\b\b\b\b\b\b\b\b\b\b\b\b\b\b\b\b\b\b\b                                             \b\b\b\b\b\b\b\b\b\b\b\b\b\b\b\b\b\b\b\b\b\b\b\b\b\b\b\b\b\b\b\b\b\b\b\b\b\b\b\b\b\b\b\b\b 25% 25627 - images/club_sandwich/2877701.jpg\b\b\b\b\b\b\b\b\b\b\b\b\b\b\b\b\b\b\b\b\b\b\b\b\b\b\b\b\b\b\b\b\b\b\b\b\b\b\b\b\b\b\b\b\b                                             \b\b\b\b\b\b\b\b\b\b\b\b\b\b\b\b\b\b\b\b\b\b\b\b\b\b\b\b\b\b\b\b\b\b\b\b\b\b\b\b\b\b\b\b\b 25% 25707 - images/club_sandwich/3184714.jpg\b\b\b\b\b\b\b\b\b\b\b\b\b\b\b\b\b\b\b\b\b\b\b\b\b\b\b\b\b\b\b\b\b\b\b\b\b\b\b\b\b\b\b\b\b                                             \b\b\b\b\b\b\b\b\b\b\b\b\b\b\b\b\b\b\b\b\b\b\b\b\b\b\b\b\b\b\b\b\b\b\b\b\b\b\b\b\b\b\b\b\b 25% 25708 - images/club_sandwich/3188694.jpg\b\b\b\b\b\b\b\b\b\b\b\b\b\b\b\b\b\b\b\b\b\b\b\b\b\b\b\b\b\b\b\b\b\b\b\b\b\b\b\b\b\b\b\b\b                                             \b\b\b\b\b\b\b\b\b\b\b\b\b\b\b\b\b\b\b\b\b\b\b\b\b\b\b\b\b\b\b\b\b\b\b\b\b\b\b\b\b\b\b\b\b 25% 25785 - images/club_sandwich/3423667.jpg\b\b\b\b\b\b\b\b\b\b\b\b\b\b\b\b\b\b\b\b\b\b\b\b\b\b\b\b\b\b\b\b\b\b\b\b\b\b\b\b\b\b\b\b\b                                             \b\b\b\b\b\b\b\b\b\b\b\b\b\b\b\b\b\b\b\b\b\b\b\b\b\b\b\b\b\b\b\b\b\b\b\b\b\b\b\b\b\b\b\b\b 25% 25871 - images/club_sandwich/3681907.jpg\b\b\b\b\b\b\b\b\b\b\b\b\b\b\b\b\b\b\b\b\b\b\b\b\b\b\b\b\b\b\b\b\b\b\b\b\b\b\b\b\b\b\b\b\b                                             \b\b\b\b\b\b\b\b\b\b\b\b\b\b\b\b\b\b\b\b\b\b\b\b\b\b\b\b\b\b\b\b\b\b\b\b\b\b\b\b\b\b\b\b\b 25% 25949 - images/club_sandwich/454382.jpg\b\b\b\b\b\b\b\b\b\b\b\b\b\b\b\b\b\b\b\b\b\b\b\b\b\b\b\b\b\b\b\b\b\b\b\b\b\b\b\b\b\b\b\b                                            \b\b\b\b\b\b\b\b\b\b\b\b\b\b\b\b\b\b\b\b\b\b\b\b\b\b\b\b\b\b\b\b\b\b\b\b\b\b\b\b\b\b\b\b 25% 25985 - images/club_sandwich/588414.jpg\b\b\b\b\b\b\b\b\b\b\b\b\b\b\b\b\b\b\b\b\b\b\b\b\b\b\b\b\b\b\b\b\b\b\b\b\b\b\b\b\b\b\b\b                                            \b\b\b\b\b\b\b\b\b\b\b\b\b\b\b\b\b\b\b\b\b\b\b\b\b\b\b\b\b\b\b\b\b\b\b\b\b\b\b\b\b\b\b\b 25% 26024 - images/club_sandwich/718074.jpg\b\b\b\b\b\b\b\b\b\b\b\b\b\b\b\b\b\b\b\b\b\b\b\b\b\b\b\b\b\b\b\b\b\b\b\b\b\b\b\b\b\b\b\b                                            \b\b\b\b\b\b\b\b\b\b\b\b\b\b\b\b\b\b\b\b\b\b\b\b\b\b\b\b\b\b\b\b\b\b\b\b\b\b\b\b\b\b\b\b 25% 26109 - images/crab_cakes/1015887.jpg\b\b\b\b\b\b\b\b\b\b\b\b\b\b\b\b\b\b\b\b\b\b\b\b\b\b\b\b\b\b\b\b\b\b\b\b\b\b\b\b\b\b                                          \b\b\b\b\b\b\b\b\b\b\b\b\b\b\b\b\b\b\b\b\b\b\b\b\b\b\b\b\b\b\b\b\b\b\b\b\b\b\b\b\b\b 25% 26179 - images/crab_cakes/1257440.jpg\b\b\b\b\b\b\b\b\b\b\b\b\b\b\b\b\b\b\b\b\b\b\b\b\b\b\b\b\b\b\b\b\b\b\b\b\b\b\b\b\b\b                                          \b\b\b\b\b\b\b\b\b\b\b\b\b\b\b\b\b\b\b\b\b\b\b\b\b\b\b\b\b\b\b\b\b\b\b\b\b\b\b\b\b\b 25% 26191 - images/crab_cakes/1302406.jpg\b\b\b\b\b\b\b\b\b\b\b\b\b\b\b\b\b\b\b\b\b\b\b\b\b\b\b\b\b\b\b\b\b\b\b\b\b\b\b\b\b\b                                          \b\b\b\b\b\b\b\b\b\b\b\b\b\b\b\b\b\b\b\b\b\b\b\b\b\b\b\b\b\b\b\b\b\b\b\b\b\b\b\b\b\b 25% 26271 - images/crab_cakes/1567412.jpg\b\b\b\b\b\b\b\b\b\b\b\b\b\b\b\b\b\b\b\b\b\b\b\b\b\b\b\b\b\b\b\b\b\b\b\b\b\b\b\b\b\b                                          \b\b\b\b\b\b\b\b\b\b\b\b\b\b\b\b\b\b\b\b\b\b\b\b\b\b\b\b\b\b\b\b\b\b\b\b\b\b\b\b\b\b 25% 26358 - images/crab_cakes/1827967.jpg\b\b\b\b\b\b\b\b\b\b\b\b\b\b\b\b\b\b\b\b\b\b\b\b\b\b\b\b\b\b\b\b\b\b\b\b\b\b\b\b\b\b                                          \b\b\b\b\b\b\b\b\b\b\b\b\b\b\b\b\b\b\b\b\b\b\b\b\b\b\b\b\b\b\b\b\b\b\b\b\b\b\b\b\b\b 26% 26442 - images/crab_cakes/211041.jpg\b\b\b\b\b\b\b\b\b\b\b\b\b\b\b\b\b\b\b\b\b\b\b\b\b\b\b\b\b\b\b\b\b\b\b\b\b\b\b\b\b                                         \b\b\b\b\b\b\b\b\b\b\b\b\b\b\b\b\b\b\b\b\b\b\b\b\b\b\b\b\b\b\b\b\b\b\b\b\b\b\b\b\b 26% 26443 - images/crab_cakes/2112598.jpg\b\b\b\b\b\b\b\b\b\b\b\b\b\b\b\b\b\b\b\b\b\b\b\b\b\b\b\b\b\b\b\b\b\b\b\b\b\b\b\b\b\b                                          \b\b\b\b\b\b\b\b\b\b\b\b\b\b\b\b\b\b\b\b\b\b\b\b\b\b\b\b\b\b\b\b\b\b\b\b\b\b\b\b\b\b 26% 26529 - images/crab_cakes/2414796.jpg\b\b\b\b\b\b\b\b\b\b\b\b\b\b\b\b\b\b\b\b\b\b\b\b\b\b\b\b\b\b\b\b\b\b\b\b\b\b\b\b\b\b                                          \b\b\b\b\b\b\b\b\b\b\b\b\b\b\b\b\b\b\b\b\b\b\b\b\b\b\b\b\b\b\b\b\b\b\b\b\b\b\b\b\b\b 26% 26614 - images/crab_cakes/2728864.jpg\b\b\b\b\b\b\b\b\b\b\b\b\b\b\b\b\b\b\b\b\b\b\b\b\b\b\b\b\b\b\b\b\b\b\b\b\b\b\b\b\b\b                                          \b\b\b\b\b\b\b\b\b\b\b\b\b\b\b\b\b\b\b\b\b\b\b\b\b\b\b\b\b\b\b\b\b\b\b\b\b\b\b\b\b\b 26% 26700 - images/crab_cakes/3025341.jpg\b\b\b\b\b\b\b\b\b\b\b\b\b\b\b\b\b\b\b\b\b\b\b\b\b\b\b\b\b\b\b\b\b\b\b\b\b\b\b\b\b\b                                          \b\b\b\b\b\b\b\b\b\b\b\b\b\b\b\b\b\b\b\b\b\b\b\b\b\b\b\b\b\b\b\b\b\b\b\b\b\b\b\b\b\b 26% 26739 - images/crab_cakes/3197974.jpg\b\b\b\b\b\b\b\b\b\b\b\b\b\b\b\b\b\b\b\b\b\b\b\b\b\b\b\b\b\b\b\b\b\b\b\b\b\b\b\b\b\b                                          \b\b\b\b\b\b\b\b\b\b\b\b\b\b\b\b\b\b\b\b\b\b\b\b\b\b\b\b\b\b\b\b\b\b\b\b\b\b\b\b\b\b 26% 26792 - images/crab_cakes/3430643.jpg\b\b\b\b\b\b\b\b\b\b\b\b\b\b\b\b\b\b\b\b\b\b\b\b\b\b\b\b\b\b\b\b\b\b\b\b\b\b\b\b\b\b                                          \b\b\b\b\b\b\b\b\b\b\b\b\b\b\b\b\b\b\b\b\b\b\b\b\b\b\b\b\b\b\b\b\b\b\b\b\b\b\b\b\b\b 26% 26877 - images/crab_cakes/3786016.jpg\b\b\b\b\b\b\b\b\b\b\b\b\b\b\b\b\b\b\b\b\b\b\b\b\b\b\b\b\b\b\b\b\b\b\b\b\b\b\b\b\b\b                                          \b\b\b\b\b\b\b\b\b\b\b\b\b\b\b\b\b\b\b\b\b\b\b\b\b\b\b\b\b\b\b\b\b\b\b\b\b\b\b\b\b\b 26% 26961 - images/crab_cakes/614444.jpg\b\b\b\b\b\b\b\b\b\b\b\b\b\b\b\b\b\b\b\b\b\b\b\b\b\b\b\b\b\b\b\b\b\b\b\b\b\b\b\b\b                                         \b\b\b\b\b\b\b\b\b\b\b\b\b\b\b\b\b\b\b\b\b\b\b\b\b\b\b\b\b\b\b\b\b\b\b\b\b\b\b\b\b 26% 27041 - images/crab_cakes/823084.jpg\b\b\b\b\b\b\b\b\b\b\b\b\b\b\b\b\b\b\b\b\b\b\b\b\b\b\b\b\b\b\b\b\b\b\b\b\b\b\b\b\b                                         \b\b\b\b\b\b\b\b\b\b\b\b\b\b\b\b\b\b\b\b\b\b\b\b\b\b\b\b\b\b\b\b\b\b\b\b\b\b\b\b\b 26% 27042 - images/crab_cakes/835687.jpg\b\b\b\b\b\b\b\b\b\b\b\b\b\b\b\b\b\b\b\b\b\b\b\b\b\b\b\b\b\b\b\b\b\b\b\b\b\b\b\b\b                                         \b\b\b\b\b\b\b\b\b\b\b\b\b\b\b\b\b\b\b\b\b\b\b\b\b\b\b\b\b\b\b\b\b\b\b\b\b\b\b\b\b 26% 27124 - images/creme_brulee/105087.jpg\b\b\b\b\b\b\b\b\b\b\b\b\b\b\b\b\b\b\b\b\b\b\b\b\b\b\b\b\b\b\b\b\b\b\b\b\b\b\b\b\b\b\b                                           \b\b\b\b\b\b\b\b\b\b\b\b\b\b\b\b\b\b\b\b\b\b\b\b\b\b\b\b\b\b\b\b\b\b\b\b\b\b\b\b\b\b\b 26% 27209 - images/creme_brulee/1274088.jpg\b\b\b\b\b\b\b\b\b\b\b\b\b\b\b\b\b\b\b\b\b\b\b\b\b\b\b\b\b\b\b\b\b\b\b\b\b\b\b\b\b\b\b\b                                            \b\b\b\b\b\b\b\b\b\b\b\b\b\b\b\b\b\b\b\b\b\b\b\b\b\b\b\b\b\b\b\b\b\b\b\b\b\b\b\b\b\b\b\b 26% 27297 - images/creme_brulee/1558189.jpg\b\b\b\b\b\b\b\b\b\b\b\b\b\b\b\b\b\b\b\b\b\b\b\b\b\b\b\b\b\b\b\b\b\b\b\b\b\b\b\b\b\b\b\b                                            \b\b\b\b\b\b\b\b\b\b\b\b\b\b\b\b\b\b\b\b\b\b\b\b\b\b\b\b\b\b\b\b\b\b\b\b\b\b\b\b\b\b\b\b 26% 27316 - images/creme_brulee/1629090.jpg\b\b\b\b\b\b\b\b\b\b\b\b\b\b\b\b\b\b\b\b\b\b\b\b\b\b\b\b\b\b\b\b\b\b\b\b\b\b\b\b\b\b\b\b                                            \b\b\b\b\b\b\b\b\b\b\b\b\b\b\b\b\b\b\b\b\b\b\b\b\b\b\b\b\b\b\b\b\b\b\b\b\b\b\b\b\b\b\b\b 26% 27388 - images/creme_brulee/1921292.jpg\b\b\b\b\b\b\b\b\b\b\b\b\b\b\b\b\b\b\b\b\b\b\b\b\b\b\b\b\b\b\b\b\b\b\b\b\b\b\b\b\b\b\b\b                                            \b\b\b\b\b\b\b\b\b\b\b\b\b\b\b\b\b\b\b\b\b\b\b\b\b\b\b\b\b\b\b\b\b\b\b\b\b\b\b\b\b\b\b\b 27% 27473 - images/creme_brulee/219079.jpg\b\b\b\b\b\b\b\b\b\b\b\b\b\b\b\b\b\b\b\b\b\b\b\b\b\b\b\b\b\b\b\b\b\b\b\b\b\b\b\b\b\b\b                                           \b\b\b\b\b\b\b\b\b\b\b\b\b\b\b\b\b\b\b\b\b\b\b\b\b\b\b\b\b\b\b\b\b\b\b\b\b\b\b\b\b\b\b 27% 27565 - images/creme_brulee/2479990.jpg\b\b\b\b\b\b\b\b\b\b\b\b\b\b\b\b\b\b\b\b\b\b\b\b\b\b\b\b\b\b\b\b\b\b\b\b\b\b\b\b\b\b\b\b                                            \b\b\b\b\b\b\b\b\b\b\b\b\b\b\b\b\b\b\b\b\b\b\b\b\b\b\b\b\b\b\b\b\b\b\b\b\b\b\b\b\b\b\b\b 27% 27566 - images/creme_brulee/2481440.jpg\b\b\b\b\b\b\b\b\b\b\b\b\b\b\b\b\b\b\b\b\b\b\b\b\b\b\b\b\b\b\b\b\b\b\b\b\b\b\b\b\b\b\b\b                                            \b\b\b\b\b\b\b\b\b\b\b\b\b\b\b\b\b\b\b\b\b\b\b\b\b\b\b\b\b\b\b\b\b\b\b\b\b\b\b\b\b\b\b\b 27% 27657 - images/creme_brulee/2766155.jpg\b\b\b\b\b\b\b\b\b\b\b\b\b\b\b\b\b\b\b\b\b\b\b\b\b\b\b\b\b\b\b\b\b\b\b\b\b\b\b\b\b\b\b\b                                            \b\b\b\b\b\b\b\b\b\b\b\b\b\b\b\b\b\b\b\b\b\b\b\b\b\b\b\b\b\b\b\b\b\b\b\b\b\b\b\b\b\b\b\b 27% 27752 - images/creme_brulee/3175467.jpg\b\b\b\b\b\b\b\b\b\b\b\b\b\b\b\b\b\b\b\b\b\b\b\b\b\b\b\b\b\b\b\b\b\b\b\b\b\b\b\b\b\b\b\b                                            \b\b\b\b\b\b\b\b\b\b\b\b\b\b\b\b\b\b\b\b\b\b\b\b\b\b\b\b\b\b\b\b\b\b\b\b\b\b\b\b\b\b\b\b 27% 27840 - images/creme_brulee/3640794.jpg\b\b\b\b\b\b\b\b\b\b\b\b\b\b\b\b\b\b\b\b\b\b\b\b\b\b\b\b\b\b\b\b\b\b\b\b\b\b\b\b\b\b\b\b                                            \b\b\b\b\b\b\b\b\b\b\b\b\b\b\b\b\b\b\b\b\b\b\b\b\b\b\b\b\b\b\b\b\b\b\b\b\b\b\b\b\b\b\b\b 27% 27880 - images/creme_brulee/3868924.jpg\b\b\b\b\b\b\b\b\b\b\b\b\b\b\b\b\b\b\b\b\b\b\b\b\b\b\b\b\b\b\b\b\b\b\b\b\b\b\b\b\b\b\b\b                                            \b\b\b\b\b\b\b\b\b\b\b\b\b\b\b\b\b\b\b\b\b\b\b\b\b\b\b\b\b\b\b\b\b\b\b\b\b\b\b\b\b\b\b\b 27% 27927 - images/creme_brulee/492954.jpg\b\b\b\b\b\b\b\b\b\b\b\b\b\b\b\b\b\b\b\b\b\b\b\b\b\b\b\b\b\b\b\b\b\b\b\b\b\b\b\b\b\b\b                                           \b\b\b\b\b\b\b\b\b\b\b\b\b\b\b\b\b\b\b\b\b\b\b\b\b\b\b\b\b\b\b\b\b\b\b\b\b\b\b\b\b\b\b 27% 28011 - images/creme_brulee/742636.jpg\b\b\b\b\b\b\b\b\b\b\b\b\b\b\b\b\b\b\b\b\b\b\b\b\b\b\b\b\b\b\b\b\b\b\b\b\b\b\b\b\b\b\b                                           \b\b\b\b\b\b\b\b\b\b\b\b\b\b\b\b\b\b\b\b\b\b\b\b\b\b\b\b\b\b\b\b\b\b\b\b\b\b\b\b\b\b\b 27% 28099 - images/creme_brulee/99276.jpg\b\b\b\b\b\b\b\b\b\b\b\b\b\b\b\b\b\b\b\b\b\b\b\b\b\b\b\b\b\b\b\b\b\b\b\b\b\b\b\b\b\b                                          \b\b\b\b\b\b\b\b\b\b\b\b\b\b\b\b\b\b\b\b\b\b\b\b\b\b\b\b\b\b\b\b\b\b\b\b\b\b\b\b\b\b 27% 28100 - images/creme_brulee/998525.jpg\b\b\b\b\b\b\b\b\b\b\b\b\b\b\b\b\b\b\b\b\b\b\b\b\b\b\b\b\b\b\b\b\b\b\b\b\b\b\b\b\b\b\b                                           \b\b\b\b\b\b\b\b\b\b\b\b\b\b\b\b\b\b\b\b\b\b\b\b\b\b\b\b\b\b\b\b\b\b\b\b\b\b\b\b\b\b\b 27% 28184 - images/croque_madame/124948.jpg\b\b\b\b\b\b\b\b\b\b\b\b\b\b\b\b\b\b\b\b\b\b\b\b\b\b\b\b\b\b\b\b\b\b\b\b\b\b\b\b\b\b\b\b                                            \b\b\b\b\b\b\b\b\b\b\b\b\b\b\b\b\b\b\b\b\b\b\b\b\b\b\b\b\b\b\b\b\b\b\b\b\b\b\b\b\b\b\b\b 27% 28268 - images/croque_madame/1505639.jpg\b\b\b\b\b\b\b\b\b\b\b\b\b\b\b\b\b\b\b\b\b\b\b\b\b\b\b\b\b\b\b\b\b\b\b\b\b\b\b\b\b\b\b\b\b                                             \b\b\b\b\b\b\b\b\b\b\b\b\b\b\b\b\b\b\b\b\b\b\b\b\b\b\b\b\b\b\b\b\b\b\b\b\b\b\b\b\b\b\b\b\b 27% 28352 - images/croque_madame/1842199.jpg\b\b\b\b\b\b\b\b\b\b\b\b\b\b\b\b\b\b\b\b\b\b\b\b\b\b\b\b\b\b\b\b\b\b\b\b\b\b\b\b\b\b\b\b\b                                             \b\b\b\b\b\b\b\b\b\b\b\b\b\b\b\b\b\b\b\b\b\b\b\b\b\b\b\b\b\b\b\b\b\b\b\b\b\b\b\b\b\b\b\b\b 27% 28437 - images/croque_madame/2177652.jpg\b\b\b\b\b\b\b\b\b\b\b\b\b\b\b\b\b\b\b\b\b\b\b\b\b\b\b\b\b\b\b\b\b\b\b\b\b\b\b\b\b\b\b\b\b                                             \b\b\b\b\b\b\b\b\b\b\b\b\b\b\b\b\b\b\b\b\b\b\b\b\b\b\b\b\b\b\b\b\b\b\b\b\b\b\b\b\b\b\b\b\b 27% 28471 - images/croque_madame/231385.jpg\b\b\b\b\b\b\b\b\b\b\b\b\b\b\b\b\b\b\b\b\b\b\b\b\b\b\b\b\b\b\b\b\b\b\b\b\b\b\b\b\b\b\b\b                                            \b\b\b\b\b\b\b\b\b\b\b\b\b\b\b\b\b\b\b\b\b\b\b\b\b\b\b\b\b\b\b\b\b\b\b\b\b\b\b\b\b\b\b\b 28% 28525 - images/croque_madame/2519294.jpg\b\b\b\b\b\b\b\b\b\b\b\b\b\b\b\b\b\b\b\b\b\b\b\b\b\b\b\b\b\b\b\b\b\b\b\b\b\b\b\b\b\b\b\b\b                                             \b\b\b\b\b\b\b\b\b\b\b\b\b\b\b\b\b\b\b\b\b\b\b\b\b\b\b\b\b\b\b\b\b\b\b\b\b\b\b\b\b\b\b\b\b 28% 28608 - images/croque_madame/2813410.jpg\b\b\b\b\b\b\b\b\b\b\b\b\b\b\b\b\b\b\b\b\b\b\b\b\b\b\b\b\b\b\b\b\b\b\b\b\b\b\b\b\b\b\b\b\b                                             \b\b\b\b\b\b\b\b\b\b\b\b\b\b\b\b\b\b\b\b\b\b\b\b\b\b\b\b\b\b\b\b\b\b\b\b\b\b\b\b\b\b\b\b\b 28% 28697 - images/croque_madame/314295.jpg\b\b\b\b\b\b\b\b\b\b\b\b\b\b\b\b\b\b\b\b\b\b\b\b\b\b\b\b\b\b\b\b\b\b\b\b\b\b\b\b\b\b\b\b                                            \b\b\b\b\b\b\b\b\b\b\b\b\b\b\b\b\b\b\b\b\b\b\b\b\b\b\b\b\b\b\b\b\b\b\b\b\b\b\b\b\b\b\b\b 28% 28784 - images/croque_madame/342486.jpg\b\b\b\b\b\b\b\b\b\b\b\b\b\b\b\b\b\b\b\b\b\b\b\b\b\b\b\b\b\b\b\b\b\b\b\b\b\b\b\b\b\b\b\b                                            \b\b\b\b\b\b\b\b\b\b\b\b\b\b\b\b\b\b\b\b\b\b\b\b\b\b\b\b\b\b\b\b\b\b\b\b\b\b\b\b\b\b\b\b 28% 28785 - images/croque_madame/3430790.jpg\b\b\b\b\b\b\b\b\b\b\b\b\b\b\b\b\b\b\b\b\b\b\b\b\b\b\b\b\b\b\b\b\b\b\b\b\b\b\b\b\b\b\b\b\b                                             \b\b\b\b\b\b\b\b\b\b\b\b\b\b\b\b\b\b\b\b\b\b\b\b\b\b\b\b\b\b\b\b\b\b\b\b\b\b\b\b\b\b\b\b\b 28% 28873 - images/croque_madame/3776229.jpg\b\b\b\b\b\b\b\b\b\b\b\b\b\b\b\b\b\b\b\b\b\b\b\b\b\b\b\b\b\b\b\b\b\b\b\b\b\b\b\b\b\b\b\b\b                                             \b\b\b\b\b\b\b\b\b\b\b\b\b\b\b\b\b\b\b\b\b\b\b\b\b\b\b\b\b\b\b\b\b\b\b\b\b\b\b\b\b\b\b\b\b 28% 28958 - images/croque_madame/550932.jpg\b\b\b\b\b\b\b\b\b\b\b\b\b\b\b\b\b\b\b\b\b\b\b\b\b\b\b\b\b\b\b\b\b\b\b\b\b\b\b\b\b\b\b\b                                            \b\b\b\b\b\b\b\b\b\b\b\b\b\b\b\b\b\b\b\b\b\b\b\b\b\b\b\b\b\b\b\b\b\b\b\b\b\b\b\b\b\b\b\b 28% 29042 - images/croque_madame/775680.jpg\b\b\b\b\b\b\b\b\b\b\b\b\b\b\b\b\b\b\b\b\b\b\b\b\b\b\b\b\b\b\b\b\b\b\b\b\b\b\b\b\b\b\b\b                                            \b\b\b\b\b\b\b\b\b\b\b\b\b\b\b\b\b\b\b\b\b\b\b\b\b\b\b\b\b\b\b\b\b\b\b\b\b\b\b\b\b\b\b\b 28% 29073 - images/croque_madame/899807.jpg\b\b\b\b\b\b\b\b\b\b\b\b\b\b\b\b\b\b\b\b\b\b\b\b\b\b\b\b\b\b\b\b\b\b\b\b\b\b\b\b\b\b\b\b                                            \b\b\b\b\b\b\b\b\b\b\b\b\b\b\b\b\b\b\b\b\b\b\b\b\b\b\b\b\b\b\b\b\b\b\b\b\b\b\b\b\b\b\b\b 28% 29126 - images/cup_cakes/1087195.jpg\b\b\b\b\b\b\b\b\b\b\b\b\b\b\b\b\b\b\b\b\b\b\b\b\b\b\b\b\b\b\b\b\b\b\b\b\b\b\b\b\b                                         \b\b\b\b\b\b\b\b\b\b\b\b\b\b\b\b\b\b\b\b\b\b\b\b\b\b\b\b\b\b\b\b\b\b\b\b\b\b\b\b\b 28% 29211 - images/cup_cakes/1333324.jpg\b\b\b\b\b\b\b\b\b\b\b\b\b\b\b\b\b\b\b\b\b\b\b\b\b\b\b\b\b\b\b\b\b\b\b\b\b\b\b\b\b                                         \b\b\b\b\b\b\b\b\b\b\b\b\b\b\b\b\b\b\b\b\b\b\b\b\b\b\b\b\b\b\b\b\b\b\b\b\b\b\b\b\b 28% 29300 - images/cup_cakes/1642348.jpg\b\b\b\b\b\b\b\b\b\b\b\b\b\b\b\b\b\b\b\b\b\b\b\b\b\b\b\b\b\b\b\b\b\b\b\b\b\b\b\b\b                                         \b\b\b\b\b\b\b\b\b\b\b\b\b\b\b\b\b\b\b\b\b\b\b\b\b\b\b\b\b\b\b\b\b\b\b\b\b\b\b\b\b 28% 29387 - images/cup_cakes/2003872.jpg\b\b\b\b\b\b\b\b\b\b\b\b\b\b\b\b\b\b\b\b\b\b\b\b\b\b\b\b\b\b\b\b\b\b\b\b\b\b\b\b\b                                         \b\b\b\b\b\b\b\b\b\b\b\b\b\b\b\b\b\b\b\b\b\b\b\b\b\b\b\b\b\b\b\b\b\b\b\b\b\b\b\b\b 28% 29435 - images/cup_cakes/2180808.jpg\b\b\b\b\b\b\b\b\b\b\b\b\b\b\b\b\b\b\b\b\b\b\b\b\b\b\b\b\b\b\b\b\b\b\b\b\b\b\b\b\b                                         \b\b\b\b\b\b\b\b\b\b\b\b\b\b\b\b\b\b\b\b\b\b\b\b\b\b\b\b\b\b\b\b\b\b\b\b\b\b\b\b\b 28% 29474 - images/cup_cakes/2323830.jpg\b\b\b\b\b\b\b\b\b\b\b\b\b\b\b\b\b\b\b\b\b\b\b\b\b\b\b\b\b\b\b\b\b\b\b\b\b\b\b\b\b                                         \b\b\b\b\b\b\b\b\b\b\b\b\b\b\b\b\b\b\b\b\b\b\b\b\b\b\b\b\b\b\b\b\b\b\b\b\b\b\b\b\b 28% 29564 - images/cup_cakes/2647131.jpg\b\b\b\b\b\b\b\b\b\b\b\b\b\b\b\b\b\b\b\b\b\b\b\b\b\b\b\b\b\b\b\b\b\b\b\b\b\b\b\b\b                                         \b\b\b\b\b\b\b\b\b\b\b\b\b\b\b\b\b\b\b\b\b\b\b\b\b\b\b\b\b\b\b\b\b\b\b\b\b\b\b\b\b 29% 29647 - images/cup_cakes/2953567.jpg\b\b\b\b\b\b\b\b\b\b\b\b\b\b\b\b\b\b\b\b\b\b\b\b\b\b\b\b\b\b\b\b\b\b\b\b\b\b\b\b\b                                         \b\b\b\b\b\b\b\b\b\b\b\b\b\b\b\b\b\b\b\b\b\b\b\b\b\b\b\b\b\b\b\b\b\b\b\b\b\b\b\b\b 29% 29733 - images/cup_cakes/3294909.jpg\b\b\b\b\b\b\b\b\b\b\b\b\b\b\b\b\b\b\b\b\b\b\b\b\b\b\b\b\b\b\b\b\b\b\b\b\b\b\b\b\b                                         \b\b\b\b\b\b\b\b\b\b\b\b\b\b\b\b\b\b\b\b\b\b\b\b\b\b\b\b\b\b\b\b\b\b\b\b\b\b\b\b\b 29% 29734 - images/cup_cakes/3297860.jpg\b\b\b\b\b\b\b\b\b\b\b\b\b\b\b\b\b\b\b\b\b\b\b\b\b\b\b\b\b\b\b\b\b\b\b\b\b\b\b\b\b                                         \b\b\b\b\b\b\b\b\b\b\b\b\b\b\b\b\b\b\b\b\b\b\b\b\b\b\b\b\b\b\b\b\b\b\b\b\b\b\b\b\b 29% 29821 - images/cup_cakes/3691610.jpg\b\b\b\b\b\b\b\b\b\b\b\b\b\b\b\b\b\b\b\b\b\b\b\b\b\b\b\b\b\b\b\b\b\b\b\b\b\b\b\b\b                                         \b\b\b\b\b\b\b\b\b\b\b\b\b\b\b\b\b\b\b\b\b\b\b\b\b\b\b\b\b\b\b\b\b\b\b\b\b\b\b\b\b 29% 29909 - images/cup_cakes/505976.jpg\b\b\b\b\b\b\b\b\b\b\b\b\b\b\b\b\b\b\b\b\b\b\b\b\b\b\b\b\b\b\b\b\b\b\b\b\b\b\b\b                                        \b\b\b\b\b\b\b\b\b\b\b\b\b\b\b\b\b\b\b\b\b\b\b\b\b\b\b\b\b\b\b\b\b\b\b\b\b\b\b\b 29% 29991 - images/cup_cakes/692133.jpg\b\b\b\b\b\b\b\b\b\b\b\b\b\b\b\b\b\b\b\b\b\b\b\b\b\b\b\b\b\b\b\b\b\b\b\b\b\b\b\b                                        \b\b\b\b\b\b\b\b\b\b\b\b\b\b\b\b\b\b\b\b\b\b\b\b\b\b\b\b\b\b\b\b\b\b\b\b\b\b\b\b 29% 30003 - images/cup_cakes/72335.jpg\b\b\b\b\b\b\b\b\b\b\b\b\b\b\b\b\b\b\b\b\b\b\b\b\b\b\b\b\b\b\b\b\b\b\b\b\b\b\b                                       \b\b\b\b\b\b\b\b\b\b\b\b\b\b\b\b\b\b\b\b\b\b\b\b\b\b\b\b\b\b\b\b\b\b\b\b\b\b\b 29% 30080 - images/cup_cakes/945820.jpg\b\b\b\b\b\b\b\b\b\b\b\b\b\b\b\b\b\b\b\b\b\b\b\b\b\b\b\b\b\b\b\b\b\b\b\b\b\b\b\b                                        \b\b\b\b\b\b\b\b\b\b\b\b\b\b\b\b\b\b\b\b\b\b\b\b\b\b\b\b\b\b\b\b\b\b\b\b\b\b\b\b 29% 30166 - images/deviled_eggs/1206303.jpg\b\b\b\b\b\b\b\b\b\b\b\b\b\b\b\b\b\b\b\b\b\b\b\b\b\b\b\b\b\b\b\b\b\b\b\b\b\b\b\b\b\b\b\b                                            \b\b\b\b\b\b\b\b\b\b\b\b\b\b\b\b\b\b\b\b\b\b\b\b\b\b\b\b\b\b\b\b\b\b\b\b\b\b\b\b\b\b\b\b 29% 30253 - images/deviled_eggs/1490015.jpg\b\b\b\b\b\b\b\b\b\b\b\b\b\b\b\b\b\b\b\b\b\b\b\b\b\b\b\b\b\b\b\b\b\b\b\b\b\b\b\b\b\b\b\b                                            \b\b\b\b\b\b\b\b\b\b\b\b\b\b\b\b\b\b\b\b\b\b\b\b\b\b\b\b\b\b\b\b\b\b\b\b\b\b\b\b\b\b\b\b 29% 30254 - images/deviled_eggs/1501227.jpg\b\b\b\b\b\b\b\b\b\b\b\b\b\b\b\b\b\b\b\b\b\b\b\b\b\b\b\b\b\b\b\b\b\b\b\b\b\b\b\b\b\b\b\b                                            \b\b\b\b\b\b\b\b\b\b\b\b\b\b\b\b\b\b\b\b\b\b\b\b\b\b\b\b\b\b\b\b\b\b\b\b\b\b\b\b\b\b\b\b 29% 30341 - images/deviled_eggs/1744308.jpg\b\b\b\b\b\b\b\b\b\b\b\b\b\b\b\b\b\b\b\b\b\b\b\b\b\b\b\b\b\b\b\b\b\b\b\b\b\b\b\b\b\b\b\b                                            \b\b\b\b\b\b\b\b\b\b\b\b\b\b\b\b\b\b\b\b\b\b\b\b\b\b\b\b\b\b\b\b\b\b\b\b\b\b\b\b\b\b\b\b 29% 30430 - images/deviled_eggs/2079143.jpg\b\b\b\b\b\b\b\b\b\b\b\b\b\b\b\b\b\b\b\b\b\b\b\b\b\b\b\b\b\b\b\b\b\b\b\b\b\b\b\b\b\b\b\b                                            \b\b\b\b\b\b\b\b\b\b\b\b\b\b\b\b\b\b\b\b\b\b\b\b\b\b\b\b\b\b\b\b\b\b\b\b\b\b\b\b\b\b\b\b 29% 30522 - images/deviled_eggs/2421887.jpg\b\b\b\b\b\b\b\b\b\b\b\b\b\b\b\b\b\b\b\b\b\b\b\b\b\b\b\b\b\b\b\b\b\b\b\b\b\b\b\b\b\b\b\b                                            \b\b\b\b\b\b\b\b\b\b\b\b\b\b\b\b\b\b\b\b\b\b\b\b\b\b\b\b\b\b\b\b\b\b\b\b\b\b\b\b\b\b\b\b 29% 30583 - images/deviled_eggs/272565.jpg\b\b\b\b\b\b\b\b\b\b\b\b\b\b\b\b\b\b\b\b\b\b\b\b\b\b\b\b\b\b\b\b\b\b\b\b\b\b\b\b\b\b\b                                           \b\b\b\b\b\b\b\b\b\b\b\b\b\b\b\b\b\b\b\b\b\b\b\b\b\b\b\b\b\b\b\b\b\b\b\b\b\b\b\b\b\b\b 29% 30611 - images/deviled_eggs/2842774.jpg\b\b\b\b\b\b\b\b\b\b\b\b\b\b\b\b\b\b\b\b\b\b\b\b\b\b\b\b\b\b\b\b\b\b\b\b\b\b\b\b\b\b\b\b                                            \b\b\b\b\b\b\b\b\b\b\b\b\b\b\b\b\b\b\b\b\b\b\b\b\b\b\b\b\b\b\b\b\b\b\b\b\b\b\b\b\b\b\b\b 30% 30699 - images/deviled_eggs/316110.jpg\b\b\b\b\b\b\b\b\b\b\b\b\b\b\b\b\b\b\b\b\b\b\b\b\b\b\b\b\b\b\b\b\b\b\b\b\b\b\b\b\b\b\b                                           \b\b\b\b\b\b\b\b\b\b\b\b\b\b\b\b\b\b\b\b\b\b\b\b\b\b\b\b\b\b\b\b\b\b\b\b\b\b\b\b\b\b\b 30% 30783 - images/deviled_eggs/3472852.jpg\b\b\b\b\b\b\b\b\b\b\b\b\b\b\b\b\b\b\b\b\b\b\b\b\b\b\b\b\b\b\b\b\b\b\b\b\b\b\b\b\b\b\b\b                                            \b\b\b\b\b\b\b\b\b\b\b\b\b\b\b\b\b\b\b\b\b\b\b\b\b\b\b\b\b\b\b\b\b\b\b\b\b\b\b\b\b\b\b\b 30% 30870 - images/deviled_eggs/3806337.jpg\b\b\b\b\b\b\b\b\b\b\b\b\b\b\b\b\b\b\b\b\b\b\b\b\b\b\b\b\b\b\b\b\b\b\b\b\b\b\b\b\b\b\b\b                                            \b\b\b\b\b\b\b\b\b\b\b\b\b\b\b\b\b\b\b\b\b\b\b\b\b\b\b\b\b\b\b\b\b\b\b\b\b\b\b\b\b\b\b\b 30% 30871 - images/deviled_eggs/380870.jpg\b\b\b\b\b\b\b\b\b\b\b\b\b\b\b\b\b\b\b\b\b\b\b\b\b\b\b\b\b\b\b\b\b\b\b\b\b\b\b\b\b\b\b                                           \b\b\b\b\b\b\b\b\b\b\b\b\b\b\b\b\b\b\b\b\b\b\b\b\b\b\b\b\b\b\b\b\b\b\b\b\b\b\b\b\b\b\b 30% 30964 - images/deviled_eggs/589191.jpg\b\b\b\b\b\b\b\b\b\b\b\b\b\b\b\b\b\b\b\b\b\b\b\b\b\b\b\b\b\b\b\b\b\b\b\b\b\b\b\b\b\b\b                                           \b\b\b\b\b\b\b\b\b\b\b\b\b\b\b\b\b\b\b\b\b\b\b\b\b\b\b\b\b\b\b\b\b\b\b\b\b\b\b\b\b\b\b 30% 31053 - images/deviled_eggs/836409.jpg\b\b\b\b\b\b\b\b\b\b\b\b\b\b\b\b\b\b\b\b\b\b\b\b\b\b\b\b\b\b\b\b\b\b\b\b\b\b\b\b\b\b\b                                           \b\b\b\b\b\b\b\b\b\b\b\b\b\b\b\b\b\b\b\b\b\b\b\b\b\b\b\b\b\b\b\b\b\b\b\b\b\b\b\b\b\b\b 30% 31138 - images/donuts/1116028.jpg\b\b\b\b\b\b\b\b\b\b\b\b\b\b\b\b\b\b\b\b\b\b\b\b\b\b\b\b\b\b\b\b\b\b\b\b\b\b                                      \b\b\b\b\b\b\b\b\b\b\b\b\b\b\b\b\b\b\b\b\b\b\b\b\b\b\b\b\b\b\b\b\b\b\b\b\b\b 30% 31215 - images/donuts/1396549.jpg\b\b\b\b\b\b\b\b\b\b\b\b\b\b\b\b\b\b\b\b\b\b\b\b\b\b\b\b\b\b\b\b\b\b\b\b\b\b                                      \b\b\b\b\b\b\b\b\b\b\b\b\b\b\b\b\b\b\b\b\b\b\b\b\b\b\b\b\b\b\b\b\b\b\b\b\b\b 30% 31216 - images/donuts/1404889.jpg\b\b\b\b\b\b\b\b\b\b\b\b\b\b\b\b\b\b\b\b\b\b\b\b\b\b\b\b\b\b\b\b\b\b\b\b\b\b                                      \b\b\b\b\b\b\b\b\b\b\b\b\b\b\b\b\b\b\b\b\b\b\b\b\b\b\b\b\b\b\b\b\b\b\b\b\b\b 30% 31301 - images/donuts/1722063.jpg\b\b\b\b\b\b\b\b\b\b\b\b\b\b\b\b\b\b\b\b\b\b\b\b\b\b\b\b\b\b\b\b\b\b\b\b\b\b                                      \b\b\b\b\b\b\b\b\b\b\b\b\b\b\b\b\b\b\b\b\b\b\b\b\b\b\b\b\b\b\b\b\b\b\b\b\b\b 30% 31378 - images/donuts/197243.jpg\b\b\b\b\b\b\b\b\b\b\b\b\b\b\b\b\b\b\b\b\b\b\b\b\b\b\b\b\b\b\b\b\b\b\b\b\b                                     \b\b\b\b\b\b\b\b\b\b\b\b\b\b\b\b\b\b\b\b\b\b\b\b\b\b\b\b\b\b\b\b\b\b\b\b\b 30% 31459 - images/donuts/2219487.jpg\b\b\b\b\b\b\b\b\b\b\b\b\b\b\b\b\b\b\b\b\b\b\b\b\b\b\b\b\b\b\b\b\b\b\b\b\b\b                                      \b\b\b\b\b\b\b\b\b\b\b\b\b\b\b\b\b\b\b\b\b\b\b\b\b\b\b\b\b\b\b\b\b\b\b\b\b\b 30% 31538 - images/donuts/2494998.jpg\b\b\b\b\b\b\b\b\b\b\b\b\b\b\b\b\b\b\b\b\b\b\b\b\b\b\b\b\b\b\b\b\b\b\b\b\b\b                                      \b\b\b\b\b\b\b\b\b\b\b\b\b\b\b\b\b\b\b\b\b\b\b\b\b\b\b\b\b\b\b\b\b\b\b\b\b\b 30% 31624 - images/donuts/2760811.jpg\b\b\b\b\b\b\b\b\b\b\b\b\b\b\b\b\b\b\b\b\b\b\b\b\b\b\b\b\b\b\b\b\b\b\b\b\b\b                                      \b\b\b\b\b\b\b\b\b\b\b\b\b\b\b\b\b\b\b\b\b\b\b\b\b\b\b\b\b\b\b\b\b\b\b\b\b\b 30% 31686 - images/donuts/2968006.jpg\b\b\b\b\b\b\b\b\b\b\b\b\b\b\b\b\b\b\b\b\b\b\b\b\b\b\b\b\b\b\b\b\b\b\b\b\b\b                                      \b\b\b\b\b\b\b\b\b\b\b\b\b\b\b\b\b\b\b\b\b\b\b\b\b\b\b\b\b\b\b\b\b\b\b\b\b\b 31% 31701 - images/donuts/3008535.jpg\b\b\b\b\b\b\b\b\b\b\b\b\b\b\b\b\b\b\b\b\b\b\b\b\b\b\b\b\b\b\b\b\b\b\b\b\b\b                                      \b\b\b\b\b\b\b\b\b\b\b\b\b\b\b\b\b\b\b\b\b\b\b\b\b\b\b\b\b\b\b\b\b\b\b\b\b\b 31% 31782 - images/donuts/3384337.jpg\b\b\b\b\b\b\b\b\b\b\b\b\b\b\b\b\b\b\b\b\b\b\b\b\b\b\b\b\b\b\b\b\b\b\b\b\b\b                                      \b\b\b\b\b\b\b\b\b\b\b\b\b\b\b\b\b\b\b\b\b\b\b\b\b\b\b\b\b\b\b\b\b\b\b\b\b\b 31% 31858 - images/donuts/3828503.jpg\b\b\b\b\b\b\b\b\b\b\b\b\b\b\b\b\b\b\b\b\b\b\b\b\b\b\b\b\b\b\b\b\b\b\b\b\b\b                                      \b\b\b\b\b\b\b\b\b\b\b\b\b\b\b\b\b\b\b\b\b\b\b\b\b\b\b\b\b\b\b\b\b\b\b\b\b\b 31% 31936 - images/donuts/550055.jpg\b\b\b\b\b\b\b\b\b\b\b\b\b\b\b\b\b\b\b\b\b\b\b\b\b\b\b\b\b\b\b\b\b\b\b\b\b                                     \b\b\b\b\b\b\b\b\b\b\b\b\b\b\b\b\b\b\b\b\b\b\b\b\b\b\b\b\b\b\b\b\b\b\b\b\b 31% 32014 - images/donuts/750482.jpg\b\b\b\b\b\b\b\b\b\b\b\b\b\b\b\b\b\b\b\b\b\b\b\b\b\b\b\b\b\b\b\b\b\b\b\b\b                                     \b\b\b\b\b\b\b\b\b\b\b\b\b\b\b\b\b\b\b\b\b\b\b\b\b\b\b\b\b\b\b\b\b\b\b\b\b 31% 32037 - images/donuts/803014.jpg\b\b\b\b\b\b\b\b\b\b\b\b\b\b\b\b\b\b\b\b\b\b\b\b\b\b\b\b\b\b\b\b\b\b\b\b\b                                     \b\b\b\b\b\b\b\b\b\b\b\b\b\b\b\b\b\b\b\b\b\b\b\b\b\b\b\b\b\b\b\b\b\b\b\b\b 31% 32096 - images/donuts/987585.jpg\b\b\b\b\b\b\b\b\b\b\b\b\b\b\b\b\b\b\b\b\b\b\b\b\b\b\b\b\b\b\b\b\b\b\b\b\b                                     \b\b\b\b\b\b\b\b\b\b\b\b\b\b\b\b\b\b\b\b\b\b\b\b\b\b\b\b\b\b\b\b\b\b\b\b\b 31% 32183 - images/dumplings/1228546.jpg\b\b\b\b\b\b\b\b\b\b\b\b\b\b\b\b\b\b\b\b\b\b\b\b\b\b\b\b\b\b\b\b\b\b\b\b\b\b\b\b\b                                         \b\b\b\b\b\b\b\b\b\b\b\b\b\b\b\b\b\b\b\b\b\b\b\b\b\b\b\b\b\b\b\b\b\b\b\b\b\b\b\b\b 31% 32272 - images/dumplings/151775.jpg\b\b\b\b\b\b\b\b\b\b\b\b\b\b\b\b\b\b\b\b\b\b\b\b\b\b\b\b\b\b\b\b\b\b\b\b\b\b\b\b                                        \b\b\b\b\b\b\b\b\b\b\b\b\b\b\b\b\b\b\b\b\b\b\b\b\b\b\b\b\b\b\b\b\b\b\b\b\b\b\b\b 31% 32362 - images/dumplings/1848502.jpg\b\b\b\b\b\b\b\b\b\b\b\b\b\b\b\b\b\b\b\b\b\b\b\b\b\b\b\b\b\b\b\b\b\b\b\b\b\b\b\b\b                                         \b\b\b\b\b\b\b\b\b\b\b\b\b\b\b\b\b\b\b\b\b\b\b\b\b\b\b\b\b\b\b\b\b\b\b\b\b\b\b\b\b 31% 32380 - images/dumplings/1916673.jpg\b\b\b\b\b\b\b\b\b\b\b\b\b\b\b\b\b\b\b\b\b\b\b\b\b\b\b\b\b\b\b\b\b\b\b\b\b\b\b\b\b                                         \b\b\b\b\b\b\b\b\b\b\b\b\b\b\b\b\b\b\b\b\b\b\b\b\b\b\b\b\b\b\b\b\b\b\b\b\b\b\b\b\b 31% 32455 - images/dumplings/2191822.jpg\b\b\b\b\b\b\b\b\b\b\b\b\b\b\b\b\b\b\b\b\b\b\b\b\b\b\b\b\b\b\b\b\b\b\b\b\b\b\b\b\b                                         \b\b\b\b\b\b\b\b\b\b\b\b\b\b\b\b\b\b\b\b\b\b\b\b\b\b\b\b\b\b\b\b\b\b\b\b\b\b\b\b\b 31% 32548 - images/dumplings/2531748.jpg\b\b\b\b\b\b\b\b\b\b\b\b\b\b\b\b\b\b\b\b\b\b\b\b\b\b\b\b\b\b\b\b\b\b\b\b\b\b\b\b\b                                         \b\b\b\b\b\b\b\b\b\b\b\b\b\b\b\b\b\b\b\b\b\b\b\b\b\b\b\b\b\b\b\b\b\b\b\b\b\b\b\b\b 31% 32641 - images/dumplings/2840294.jpg\b\b\b\b\b\b\b\b\b\b\b\b\b\b\b\b\b\b\b\b\b\b\b\b\b\b\b\b\b\b\b\b\b\b\b\b\b\b\b\b\b                                         \b\b\b\b\b\b\b\b\b\b\b\b\b\b\b\b\b\b\b\b\b\b\b\b\b\b\b\b\b\b\b\b\b\b\b\b\b\b\b\b\b 31% 32642 - images/dumplings/2851370.jpg\b\b\b\b\b\b\b\b\b\b\b\b\b\b\b\b\b\b\b\b\b\b\b\b\b\b\b\b\b\b\b\b\b\b\b\b\b\b\b\b\b                                         \b\b\b\b\b\b\b\b\b\b\b\b\b\b\b\b\b\b\b\b\b\b\b\b\b\b\b\b\b\b\b\b\b\b\b\b\b\b\b\b\b 32% 32729 - images/dumplings/3212216.jpg\b\b\b\b\b\b\b\b\b\b\b\b\b\b\b\b\b\b\b\b\b\b\b\b\b\b\b\b\b\b\b\b\b\b\b\b\b\b\b\b\b                                         \b\b\b\b\b\b\b\b\b\b\b\b\b\b\b\b\b\b\b\b\b\b\b\b\b\b\b\b\b\b\b\b\b\b\b\b\b\b\b\b\b 32% 32819 - images/dumplings/365851.jpg\b\b\b\b\b\b\b\b\b\b\b\b\b\b\b\b\b\b\b\b\b\b\b\b\b\b\b\b\b\b\b\b\b\b\b\b\b\b\b\b                                        \b\b\b\b\b\b\b\b\b\b\b\b\b\b\b\b\b\b\b\b\b\b\b\b\b\b\b\b\b\b\b\b\b\b\b\b\b\b\b\b 32% 32908 - images/dumplings/451991.jpg\b\b\b\b\b\b\b\b\b\b\b\b\b\b\b\b\b\b\b\b\b\b\b\b\b\b\b\b\b\b\b\b\b\b\b\b\b\b\b\b                                        \b\b\b\b\b\b\b\b\b\b\b\b\b\b\b\b\b\b\b\b\b\b\b\b\b\b\b\b\b\b\b\b\b\b\b\b\b\b\b\b 32% 32909 - images/dumplings/453316.jpg\b\b\b\b\b\b\b\b\b\b\b\b\b\b\b\b\b\b\b\b\b\b\b\b\b\b\b\b\b\b\b\b\b\b\b\b\b\b\b\b                                        \b\b\b\b\b\b\b\b\b\b\b\b\b\b\b\b\b\b\b\b\b\b\b\b\b\b\b\b\b\b\b\b\b\b\b\b\b\b\b\b 32% 32996 - images/dumplings/712890.jpg\b\b\b\b\b\b\b\b\b\b\b\b\b\b\b\b\b\b\b\b\b\b\b\b\b\b\b\b\b\b\b\b\b\b\b\b\b\b\b\b                                        \b\b\b\b\b\b\b\b\b\b\b\b\b\b\b\b\b\b\b\b\b\b\b\b\b\b\b\b\b\b\b\b\b\b\b\b\b\b\b\b 32% 33082 - images/dumplings/953831.jpg\b\b\b\b\b\b\b\b\b\b\b\b\b\b\b\b\b\b\b\b\b\b\b\b\b\b\b\b\b\b\b\b\b\b\b\b\b\b\b\b                                        \b\b\b\b\b\b\b\b\b\b\b\b\b\b\b\b\b\b\b\b\b\b\b\b\b\b\b\b\b\b\b\b\b\b\b\b\b\b\b\b 32% 33168 - images/edamame/1266360.jpg\b\b\b\b\b\b\b\b\b\b\b\b\b\b\b\b\b\b\b\b\b\b\b\b\b\b\b\b\b\b\b\b\b\b\b\b\b\b\b                                       \b\b\b\b\b\b\b\b\b\b\b\b\b\b\b\b\b\b\b\b\b\b\b\b\b\b\b\b\b\b\b\b\b\b\b\b\b\b\b 32% 33169 - images/edamame/1272701.jpg\b\b\b\b\b\b\b\b\b\b\b\b\b\b\b\b\b\b\b\b\b\b\b\b\b\b\b\b\b\b\b\b\b\b\b\b\b\b\b                                       \b\b\b\b\b\b\b\b\b\b\b\b\b\b\b\b\b\b\b\b\b\b\b\b\b\b\b\b\b\b\b\b\b\b\b\b\b\b\b 32% 33251 - images/edamame/1541444.jpg\b\b\b\b\b\b\b\b\b\b\b\b\b\b\b\b\b\b\b\b\b\b\b\b\b\b\b\b\b\b\b\b\b\b\b\b\b\b\b                                       \b\b\b\b\b\b\b\b\b\b\b\b\b\b\b\b\b\b\b\b\b\b\b\b\b\b\b\b\b\b\b\b\b\b\b\b\b\b\b 32% 33336 - images/edamame/1912158.jpg\b\b\b\b\b\b\b\b\b\b\b\b\b\b\b\b\b\b\b\b\b\b\b\b\b\b\b\b\b\b\b\b\b\b\b\b\b\b\b                                       \b\b\b\b\b\b\b\b\b\b\b\b\b\b\b\b\b\b\b\b\b\b\b\b\b\b\b\b\b\b\b\b\b\b\b\b\b\b\b 32% 33422 - images/edamame/2191520.jpg\b\b\b\b\b\b\b\b\b\b\b\b\b\b\b\b\b\b\b\b\b\b\b\b\b\b\b\b\b\b\b\b\b\b\b\b\b\b\b                                       \b\b\b\b\b\b\b\b\b\b\b\b\b\b\b\b\b\b\b\b\b\b\b\b\b\b\b\b\b\b\b\b\b\b\b\b\b\b\b 32% 33423 - images/edamame/2193881.jpg\b\b\b\b\b\b\b\b\b\b\b\b\b\b\b\b\b\b\b\b\b\b\b\b\b\b\b\b\b\b\b\b\b\b\b\b\b\b\b                                       \b\b\b\b\b\b\b\b\b\b\b\b\b\b\b\b\b\b\b\b\b\b\b\b\b\b\b\b\b\b\b\b\b\b\b\b\b\b\b 32% 33503 - images/edamame/2470623.jpg\b\b\b\b\b\b\b\b\b\b\b\b\b\b\b\b\b\b\b\b\b\b\b\b\b\b\b\b\b\b\b\b\b\b\b\b\b\b\b                                       \b\b\b\b\b\b\b\b\b\b\b\b\b\b\b\b\b\b\b\b\b\b\b\b\b\b\b\b\b\b\b\b\b\b\b\b\b\b\b 32% 33587 - images/edamame/2789682.jpg\b\b\b\b\b\b\b\b\b\b\b\b\b\b\b\b\b\b\b\b\b\b\b\b\b\b\b\b\b\b\b\b\b\b\b\b\b\b\b                                       \b\b\b\b\b\b\b\b\b\b\b\b\b\b\b\b\b\b\b\b\b\b\b\b\b\b\b\b\b\b\b\b\b\b\b\b\b\b\b 32% 33669 - images/edamame/3075342.jpg\b\b\b\b\b\b\b\b\b\b\b\b\b\b\b\b\b\b\b\b\b\b\b\b\b\b\b\b\b\b\b\b\b\b\b\b\b\b\b                                       \b\b\b\b\b\b\b\b\b\b\b\b\b\b\b\b\b\b\b\b\b\b\b\b\b\b\b\b\b\b\b\b\b\b\b\b\b\b\b 32% 33732 - images/edamame/3255395.jpg\b\b\b\b\b\b\b\b\b\b\b\b\b\b\b\b\b\b\b\b\b\b\b\b\b\b\b\b\b\b\b\b\b\b\b\b\b\b\b                                       \b\b\b\b\b\b\b\b\b\b\b\b\b\b\b\b\b\b\b\b\b\b\b\b\b\b\b\b\b\b\b\b\b\b\b\b\b\b\b 33% 33760 - images/edamame/3370772.jpg\b\b\b\b\b\b\b\b\b\b\b\b\b\b\b\b\b\b\b\b\b\b\b\b\b\b\b\b\b\b\b\b\b\b\b\b\b\b\b                                       \b\b\b\b\b\b\b\b\b\b\b\b\b\b\b\b\b\b\b\b\b\b\b\b\b\b\b\b\b\b\b\b\b\b\b\b\b\b\b 33% 33845 - images/edamame/3679400.jpg\b\b\b\b\b\b\b\b\b\b\b\b\b\b\b\b\b\b\b\b\b\b\b\b\b\b\b\b\b\b\b\b\b\b\b\b\b\b\b                                       \b\b\b\b\b\b\b\b\b\b\b\b\b\b\b\b\b\b\b\b\b\b\b\b\b\b\b\b\b\b\b\b\b\b\b\b\b\b\b 33% 33931 - images/edamame/451250.jpg\b\b\b\b\b\b\b\b\b\b\b\b\b\b\b\b\b\b\b\b\b\b\b\b\b\b\b\b\b\b\b\b\b\b\b\b\b\b                                      \b\b\b\b\b\b\b\b\b\b\b\b\b\b\b\b\b\b\b\b\b\b\b\b\b\b\b\b\b\b\b\b\b\b\b\b\b\b 33% 34009 - images/edamame/684957.jpg\b\b\b\b\b\b\b\b\b\b\b\b\b\b\b\b\b\b\b\b\b\b\b\b\b\b\b\b\b\b\b\b\b\b\b\b\b\b                                      \b\b\b\b\b\b\b\b\b\b\b\b\b\b\b\b\b\b\b\b\b\b\b\b\b\b\b\b\b\b\b\b\b\b\b\b\b\b 33% 34017 - images/edamame/704320.jpg\b\b\b\b\b\b\b\b\b\b\b\b\b\b\b\b\b\b\b\b\b\b\b\b\b\b\b\b\b\b\b\b\b\b\b\b\b\b                                      \b\b\b\b\b\b\b\b\b\b\b\b\b\b\b\b\b\b\b\b\b\b\b\b\b\b\b\b\b\b\b\b\b\b\b\b\b\b 33% 34096 - images/edamame/984856.jpg\b\b\b\b\b\b\b\b\b\b\b\b\b\b\b\b\b\b\b\b\b\b\b\b\b\b\b\b\b\b\b\b\b\b\b\b\b\b                                      \b\b\b\b\b\b\b\b\b\b\b\b\b\b\b\b\b\b\b\b\b\b\b\b\b\b\b\b\b\b\b\b\b\b\b\b\b\b 33% 34187 - images/eggs_benedict/1291978.jpg\b\b\b\b\b\b\b\b\b\b\b\b\b\b\b\b\b\b\b\b\b\b\b\b\b\b\b\b\b\b\b\b\b\b\b\b\b\b\b\b\b\b\b\b\b                                             \b\b\b\b\b\b\b\b\b\b\b\b\b\b\b\b\b\b\b\b\b\b\b\b\b\b\b\b\b\b\b\b\b\b\b\b\b\b\b\b\b\b\b\b\b 33% 34188 - images/eggs_benedict/1294404.jpg\b\b\b\b\b\b\b\b\b\b\b\b\b\b\b\b\b\b\b\b\b\b\b\b\b\b\b\b\b\b\b\b\b\b\b\b\b\b\b\b\b\b\b\b\b                                             \b\b\b\b\b\b\b\b\b\b\b\b\b\b\b\b\b\b\b\b\b\b\b\b\b\b\b\b\b\b\b\b\b\b\b\b\b\b\b\b\b\b\b\b\b 33% 34277 - images/eggs_benedict/1630465.jpg\b\b\b\b\b\b\b\b\b\b\b\b\b\b\b\b\b\b\b\b\b\b\b\b\b\b\b\b\b\b\b\b\b\b\b\b\b\b\b\b\b\b\b\b\b                                             \b\b\b\b\b\b\b\b\b\b\b\b\b\b\b\b\b\b\b\b\b\b\b\b\b\b\b\b\b\b\b\b\b\b\b\b\b\b\b\b\b\b\b\b\b 33% 34373 - images/eggs_benedict/1954934.jpg\b\b\b\b\b\b\b\b\b\b\b\b\b\b\b\b\b\b\b\b\b\b\b\b\b\b\b\b\b\b\b\b\b\b\b\b\b\b\b\b\b\b\b\b\b                                             \b\b\b\b\b\b\b\b\b\b\b\b\b\b\b\b\b\b\b\b\b\b\b\b\b\b\b\b\b\b\b\b\b\b\b\b\b\b\b\b\b\b\b\b\b 33% 34464 - images/eggs_benedict/2258162.jpg\b\b\b\b\b\b\b\b\b\b\b\b\b\b\b\b\b\b\b\b\b\b\b\b\b\b\b\b\b\b\b\b\b\b\b\b\b\b\b\b\b\b\b\b\b                                             \b\b\b\b\b\b\b\b\b\b\b\b\b\b\b\b\b\b\b\b\b\b\b\b\b\b\b\b\b\b\b\b\b\b\b\b\b\b\b\b\b\b\b\b\b 33% 34465 - images/eggs_benedict/2260828.jpg\b\b\b\b\b\b\b\b\b\b\b\b\b\b\b\b\b\b\b\b\b\b\b\b\b\b\b\b\b\b\b\b\b\b\b\b\b\b\b\b\b\b\b\b\b                                             \b\b\b\b\b\b\b\b\b\b\b\b\b\b\b\b\b\b\b\b\b\b\b\b\b\b\b\b\b\b\b\b\b\b\b\b\b\b\b\b\b\b\b\b\b 33% 34559 - images/eggs_benedict/2617930.jpg\b\b\b\b\b\b\b\b\b\b\b\b\b\b\b\b\b\b\b\b\b\b\b\b\b\b\b\b\b\b\b\b\b\b\b\b\b\b\b\b\b\b\b\b\b                                             \b\b\b\b\b\b\b\b\b\b\b\b\b\b\b\b\b\b\b\b\b\b\b\b\b\b\b\b\b\b\b\b\b\b\b\b\b\b\b\b\b\b\b\b\b 33% 34653 - images/eggs_benedict/3007234.jpg\b\b\b\b\b\b\b\b\b\b\b\b\b\b\b\b\b\b\b\b\b\b\b\b\b\b\b\b\b\b\b\b\b\b\b\b\b\b\b\b\b\b\b\b\b                                             \b\b\b\b\b\b\b\b\b\b\b\b\b\b\b\b\b\b\b\b\b\b\b\b\b\b\b\b\b\b\b\b\b\b\b\b\b\b\b\b\b\b\b\b\b 33% 34741 - images/eggs_benedict/3310939.jpg\b\b\b\b\b\b\b\b\b\b\b\b\b\b\b\b\b\b\b\b\b\b\b\b\b\b\b\b\b\b\b\b\b\b\b\b\b\b\b\b\b\b\b\b\b                                             \b\b\b\b\b\b\b\b\b\b\b\b\b\b\b\b\b\b\b\b\b\b\b\b\b\b\b\b\b\b\b\b\b\b\b\b\b\b\b\b\b\b\b\b\b 33% 34742 - images/eggs_benedict/3313053.jpg\b\b\b\b\b\b\b\b\b\b\b\b\b\b\b\b\b\b\b\b\b\b\b\b\b\b\b\b\b\b\b\b\b\b\b\b\b\b\b\b\b\b\b\b\b                                             \b\b\b\b\b\b\b\b\b\b\b\b\b\b\b\b\b\b\b\b\b\b\b\b\b\b\b\b\b\b\b\b\b\b\b\b\b\b\b\b\b\b\b\b\b 33% 34829 - images/eggs_benedict/3603645.jpg\b\b\b\b\b\b\b\b\b\b\b\b\b\b\b\b\b\b\b\b\b\b\b\b\b\b\b\b\b\b\b\b\b\b\b\b\b\b\b\b\b\b\b\b\b                                             \b\b\b\b\b\b\b\b\b\b\b\b\b\b\b\b\b\b\b\b\b\b\b\b\b\b\b\b\b\b\b\b\b\b\b\b\b\b\b\b\b\b\b\b\b 34% 34917 - images/eggs_benedict/3917759.jpg\b\b\b\b\b\b\b\b\b\b\b\b\b\b\b\b\b\b\b\b\b\b\b\b\b\b\b\b\b\b\b\b\b\b\b\b\b\b\b\b\b\b\b\b\b                                             \b\b\b\b\b\b\b\b\b\b\b\b\b\b\b\b\b\b\b\b\b\b\b\b\b\b\b\b\b\b\b\b\b\b\b\b\b\b\b\b\b\b\b\b\b 34% 35013 - images/eggs_benedict/73131.jpg\b\b\b\b\b\b\b\b\b\b\b\b\b\b\b\b\b\b\b\b\b\b\b\b\b\b\b\b\b\b\b\b\b\b\b\b\b\b\b\b\b\b\b                                           \b\b\b\b\b\b\b\b\b\b\b\b\b\b\b\b\b\b\b\b\b\b\b\b\b\b\b\b\b\b\b\b\b\b\b\b\b\b\b\b\b\b\b 34% 35014 - images/eggs_benedict/73143.jpg\b\b\b\b\b\b\b\b\b\b\b\b\b\b\b\b\b\b\b\b\b\b\b\b\b\b\b\b\b\b\b\b\b\b\b\b\b\b\b\b\b\b\b                                           \b\b\b\b\b\b\b\b\b\b\b\b\b\b\b\b\b\b\b\b\b\b\b\b\b\b\b\b\b\b\b\b\b\b\b\b\b\b\b\b\b\b\b 34% 35105 - images/escargots/1017301.jpg\b\b\b\b\b\b\b\b\b\b\b\b\b\b\b\b\b\b\b\b\b\b\b\b\b\b\b\b\b\b\b\b\b\b\b\b\b\b\b\b\b                                         \b\b\b\b\b\b\b\b\b\b\b\b\b\b\b\b\b\b\b\b\b\b\b\b\b\b\b\b\b\b\b\b\b\b\b\b\b\b\b\b\b 34% 35182 - images/escargots/1286946.jpg\b\b\b\b\b\b\b\b\b\b\b\b\b\b\b\b\b\b\b\b\b\b\b\b\b\b\b\b\b\b\b\b\b\b\b\b\b\b\b\b\b                                         \b\b\b\b\b\b\b\b\b\b\b\b\b\b\b\b\b\b\b\b\b\b\b\b\b\b\b\b\b\b\b\b\b\b\b\b\b\b\b\b\b 34% 35254 - images/escargots/1513376.jpg\b\b\b\b\b\b\b\b\b\b\b\b\b\b\b\b\b\b\b\b\b\b\b\b\b\b\b\b\b\b\b\b\b\b\b\b\b\b\b\b\b                                         \b\b\b\b\b\b\b\b\b\b\b\b\b\b\b\b\b\b\b\b\b\b\b\b\b\b\b\b\b\b\b\b\b\b\b\b\b\b\b\b\b 34% 35334 - images/escargots/1801562.jpg\b\b\b\b\b\b\b\b\b\b\b\b\b\b\b\b\b\b\b\b\b\b\b\b\b\b\b\b\b\b\b\b\b\b\b\b\b\b\b\b\b                                         \b\b\b\b\b\b\b\b\b\b\b\b\b\b\b\b\b\b\b\b\b\b\b\b\b\b\b\b\b\b\b\b\b\b\b\b\b\b\b\b\b 34% 35335 - images/escargots/1802514.jpg\b\b\b\b\b\b\b\b\b\b\b\b\b\b\b\b\b\b\b\b\b\b\b\b\b\b\b\b\b\b\b\b\b\b\b\b\b\b\b\b\b                                         \b\b\b\b\b\b\b\b\b\b\b\b\b\b\b\b\b\b\b\b\b\b\b\b\b\b\b\b\b\b\b\b\b\b\b\b\b\b\b\b\b 34% 35410 - images/escargots/2053069.jpg\b\b\b\b\b\b\b\b\b\b\b\b\b\b\b\b\b\b\b\b\b\b\b\b\b\b\b\b\b\b\b\b\b\b\b\b\b\b\b\b\b                                         \b\b\b\b\b\b\b\b\b\b\b\b\b\b\b\b\b\b\b\b\b\b\b\b\b\b\b\b\b\b\b\b\b\b\b\b\b\b\b\b\b 34% 35489 - images/escargots/2354802.jpg\b\b\b\b\b\b\b\b\b\b\b\b\b\b\b\b\b\b\b\b\b\b\b\b\b\b\b\b\b\b\b\b\b\b\b\b\b\b\b\b\b                                         \b\b\b\b\b\b\b\b\b\b\b\b\b\b\b\b\b\b\b\b\b\b\b\b\b\b\b\b\b\b\b\b\b\b\b\b\b\b\b\b\b 34% 35567 - images/escargots/2639347.jpg\b\b\b\b\b\b\b\b\b\b\b\b\b\b\b\b\b\b\b\b\b\b\b\b\b\b\b\b\b\b\b\b\b\b\b\b\b\b\b\b\b                                         \b\b\b\b\b\b\b\b\b\b\b\b\b\b\b\b\b\b\b\b\b\b\b\b\b\b\b\b\b\b\b\b\b\b\b\b\b\b\b\b\b 34% 35645 - images/escargots/2919384.jpg\b\b\b\b\b\b\b\b\b\b\b\b\b\b\b\b\b\b\b\b\b\b\b\b\b\b\b\b\b\b\b\b\b\b\b\b\b\b\b\b\b                                         \b\b\b\b\b\b\b\b\b\b\b\b\b\b\b\b\b\b\b\b\b\b\b\b\b\b\b\b\b\b\b\b\b\b\b\b\b\b\b\b\b 34% 35674 - images/escargots/3038248.jpg\b\b\b\b\b\b\b\b\b\b\b\b\b\b\b\b\b\b\b\b\b\b\b\b\b\b\b\b\b\b\b\b\b\b\b\b\b\b\b\b\b                                         \b\b\b\b\b\b\b\b\b\b\b\b\b\b\b\b\b\b\b\b\b\b\b\b\b\b\b\b\b\b\b\b\b\b\b\b\b\b\b\b\b 34% 35725 - images/escargots/3174311.jpg\b\b\b\b\b\b\b\b\b\b\b\b\b\b\b\b\b\b\b\b\b\b\b\b\b\b\b\b\b\b\b\b\b\b\b\b\b\b\b\b\b                                         \b\b\b\b\b\b\b\b\b\b\b\b\b\b\b\b\b\b\b\b\b\b\b\b\b\b\b\b\b\b\b\b\b\b\b\b\b\b\b\b\b 34% 35798 - images/escargots/344837.jpg\b\b\b\b\b\b\b\b\b\b\b\b\b\b\b\b\b\b\b\b\b\b\b\b\b\b\b\b\b\b\b\b\b\b\b\b\b\b\b\b                                        \b\b\b\b\b\b\b\b\b\b\b\b\b\b\b\b\b\b\b\b\b\b\b\b\b\b\b\b\b\b\b\b\b\b\b\b\b\b\b\b 35% 35880 - images/escargots/3726904.jpg\b\b\b\b\b\b\b\b\b\b\b\b\b\b\b\b\b\b\b\b\b\b\b\b\b\b\b\b\b\b\b\b\b\b\b\b\b\b\b\b\b                                         \b\b\b\b\b\b\b\b\b\b\b\b\b\b\b\b\b\b\b\b\b\b\b\b\b\b\b\b\b\b\b\b\b\b\b\b\b\b\b\b\b 35% 35881 - images/escargots/3730959.jpg\b\b\b\b\b\b\b\b\b\b\b\b\b\b\b\b\b\b\b\b\b\b\b\b\b\b\b\b\b\b\b\b\b\b\b\b\b\b\b\b\b                                         \b\b\b\b\b\b\b\b\b\b\b\b\b\b\b\b\b\b\b\b\b\b\b\b\b\b\b\b\b\b\b\b\b\b\b\b\b\b\b\b\b 35% 35957 - images/escargots/532577.jpg\b\b\b\b\b\b\b\b\b\b\b\b\b\b\b\b\b\b\b\b\b\b\b\b\b\b\b\b\b\b\b\b\b\b\b\b\b\b\b\b                                        \b\b\b\b\b\b\b\b\b\b\b\b\b\b\b\b\b\b\b\b\b\b\b\b\b\b\b\b\b\b\b\b\b\b\b\b\b\b\b\b 35% 36032 - images/escargots/759592.jpg\b\b\b\b\b\b\b\b\b\b\b\b\b\b\b\b\b\b\b\b\b\b\b\b\b\b\b\b\b\b\b\b\b\b\b\b\b\b\b\b                                        \b\b\b\b\b\b\b\b\b\b\b\b\b\b\b\b\b\b\b\b\b\b\b\b\b\b\b\b\b\b\b\b\b\b\b\b\b\b\b\b 35% 36107 - images/falafel/102549.jpg\b\b\b\b\b\b\b\b\b\b\b\b\b\b\b\b\b\b\b\b\b\b\b\b\b\b\b\b\b\b\b\b\b\b\b\b\b\b                                      \b\b\b\b\b\b\b\b\b\b\b\b\b\b\b\b\b\b\b\b\b\b\b\b\b\b\b\b\b\b\b\b\b\b\b\b\b\b 35% 36185 - images/falafel/1303207.jpg\b\b\b\b\b\b\b\b\b\b\b\b\b\b\b\b\b\b\b\b\b\b\b\b\b\b\b\b\b\b\b\b\b\b\b\b\b\b\b                                       \b\b\b\b\b\b\b\b\b\b\b\b\b\b\b\b\b\b\b\b\b\b\b\b\b\b\b\b\b\b\b\b\b\b\b\b\b\b\b 35% 36186 - images/falafel/1306416.jpg\b\b\b\b\b\b\b\b\b\b\b\b\b\b\b\b\b\b\b\b\b\b\b\b\b\b\b\b\b\b\b\b\b\b\b\b\b\b\b                                       \b\b\b\b\b\b\b\b\b\b\b\b\b\b\b\b\b\b\b\b\b\b\b\b\b\b\b\b\b\b\b\b\b\b\b\b\b\b\b 35% 36266 - images/falafel/1588921.jpg\b\b\b\b\b\b\b\b\b\b\b\b\b\b\b\b\b\b\b\b\b\b\b\b\b\b\b\b\b\b\b\b\b\b\b\b\b\b\b                                       \b\b\b\b\b\b\b\b\b\b\b\b\b\b\b\b\b\b\b\b\b\b\b\b\b\b\b\b\b\b\b\b\b\b\b\b\b\b\b 35% 36344 - images/falafel/1863600.jpg\b\b\b\b\b\b\b\b\b\b\b\b\b\b\b\b\b\b\b\b\b\b\b\b\b\b\b\b\b\b\b\b\b\b\b\b\b\b\b                                       \b\b\b\b\b\b\b\b\b\b\b\b\b\b\b\b\b\b\b\b\b\b\b\b\b\b\b\b\b\b\b\b\b\b\b\b\b\b\b 35% 36429 - images/falafel/2156123.jpg\b\b\b\b\b\b\b\b\b\b\b\b\b\b\b\b\b\b\b\b\b\b\b\b\b\b\b\b\b\b\b\b\b\b\b\b\b\b\b                                       \b\b\b\b\b\b\b\b\b\b\b\b\b\b\b\b\b\b\b\b\b\b\b\b\b\b\b\b\b\b\b\b\b\b\b\b\b\b\b 35% 36510 - images/falafel/2438806.jpg\b\b\b\b\b\b\b\b\b\b\b\b\b\b\b\b\b\b\b\b\b\b\b\b\b\b\b\b\b\b\b\b\b\b\b\b\b\b\b                                       \b\b\b\b\b\b\b\b\b\b\b\b\b\b\b\b\b\b\b\b\b\b\b\b\b\b\b\b\b\b\b\b\b\b\b\b\b\b\b 35% 36589 - images/falafel/2777569.jpg\b\b\b\b\b\b\b\b\b\b\b\b\b\b\b\b\b\b\b\b\b\b\b\b\b\b\b\b\b\b\b\b\b\b\b\b\b\b\b                                       \b\b\b\b\b\b\b\b\b\b\b\b\b\b\b\b\b\b\b\b\b\b\b\b\b\b\b\b\b\b\b\b\b\b\b\b\b\b\b 35% 36590 - images/falafel/2777619.jpg\b\b\b\b\b\b\b\b\b\b\b\b\b\b\b\b\b\b\b\b\b\b\b\b\b\b\b\b\b\b\b\b\b\b\b\b\b\b\b                                       \b\b\b\b\b\b\b\b\b\b\b\b\b\b\b\b\b\b\b\b\b\b\b\b\b\b\b\b\b\b\b\b\b\b\b\b\b\b\b 35% 36671 - images/falafel/3073646.jpg\b\b\b\b\b\b\b\b\b\b\b\b\b\b\b\b\b\b\b\b\b\b\b\b\b\b\b\b\b\b\b\b\b\b\b\b\b\b\b                                       \b\b\b\b\b\b\b\b\b\b\b\b\b\b\b\b\b\b\b\b\b\b\b\b\b\b\b\b\b\b\b\b\b\b\b\b\b\b\b 35% 36752 - images/falafel/3360849.jpg\b\b\b\b\b\b\b\b\b\b\b\b\b\b\b\b\b\b\b\b\b\b\b\b\b\b\b\b\b\b\b\b\b\b\b\b\b\b\b                                       \b\b\b\b\b\b\b\b\b\b\b\b\b\b\b\b\b\b\b\b\b\b\b\b\b\b\b\b\b\b\b\b\b\b\b\b\b\b\b 36% 36834 - images/falafel/3659940.jpg\b\b\b\b\b\b\b\b\b\b\b\b\b\b\b\b\b\b\b\b\b\b\b\b\b\b\b\b\b\b\b\b\b\b\b\b\b\b\b                                       \b\b\b\b\b\b\b\b\b\b\b\b\b\b\b\b\b\b\b\b\b\b\b\b\b\b\b\b\b\b\b\b\b\b\b\b\b\b\b 36% 36841 - images/falafel/3689251.jpg\b\b\b\b\b\b\b\b\b\b\b\b\b\b\b\b\b\b\b\b\b\b\b\b\b\b\b\b\b\b\b\b\b\b\b\b\b\b\b                                       \b\b\b\b\b\b\b\b\b\b\b\b\b\b\b\b\b\b\b\b\b\b\b\b\b\b\b\b\b\b\b\b\b\b\b\b\b\b\b 36% 36913 - images/falafel/394666.jpg\b\b\b\b\b\b\b\b\b\b\b\b\b\b\b\b\b\b\b\b\b\b\b\b\b\b\b\b\b\b\b\b\b\b\b\b\b\b                                      \b\b\b\b\b\b\b\b\b\b\b\b\b\b\b\b\b\b\b\b\b\b\b\b\b\b\b\b\b\b\b\b\b\b\b\b\b\b 36% 36994 - images/falafel/662880.jpg\b\b\b\b\b\b\b\b\b\b\b\b\b\b\b\b\b\b\b\b\b\b\b\b\b\b\b\b\b\b\b\b\b\b\b\b\b\b                                      \b\b\b\b\b\b\b\b\b\b\b\b\b\b\b\b\b\b\b\b\b\b\b\b\b\b\b\b\b\b\b\b\b\b\b\b\b\b 36% 37072 - images/falafel/911173.jpg\b\b\b\b\b\b\b\b\b\b\b\b\b\b\b\b\b\b\b\b\b\b\b\b\b\b\b\b\b\b\b\b\b\b\b\b\b\b                                      \b\b\b\b\b\b\b\b\b\b\b\b\b\b\b\b\b\b\b\b\b\b\b\b\b\b\b\b\b\b\b\b\b\b\b\b\b\b 36% 37159 - images/filet_mignon/1193043.jpg\b\b\b\b\b\b\b\b\b\b\b\b\b\b\b\b\b\b\b\b\b\b\b\b\b\b\b\b\b\b\b\b\b\b\b\b\b\b\b\b\b\b\b\b                                            \b\b\b\b\b\b\b\b\b\b\b\b\b\b\b\b\b\b\b\b\b\b\b\b\b\b\b\b\b\b\b\b\b\b\b\b\b\b\b\b\b\b\b\b 36% 37160 - images/filet_mignon/1193960.jpg\b\b\b\b\b\b\b\b\b\b\b\b\b\b\b\b\b\b\b\b\b\b\b\b\b\b\b\b\b\b\b\b\b\b\b\b\b\b\b\b\b\b\b\b                                            \b\b\b\b\b\b\b\b\b\b\b\b\b\b\b\b\b\b\b\b\b\b\b\b\b\b\b\b\b\b\b\b\b\b\b\b\b\b\b\b\b\b\b\b 36% 37249 - images/filet_mignon/1495119.jpg\b\b\b\b\b\b\b\b\b\b\b\b\b\b\b\b\b\b\b\b\b\b\b\b\b\b\b\b\b\b\b\b\b\b\b\b\b\b\b\b\b\b\b\b                                            \b\b\b\b\b\b\b\b\b\b\b\b\b\b\b\b\b\b\b\b\b\b\b\b\b\b\b\b\b\b\b\b\b\b\b\b\b\b\b\b\b\b\b\b 36% 37337 - images/filet_mignon/1835154.jpg\b\b\b\b\b\b\b\b\b\b\b\b\b\b\b\b\b\b\b\b\b\b\b\b\b\b\b\b\b\b\b\b\b\b\b\b\b\b\b\b\b\b\b\b                                            \b\b\b\b\b\b\b\b\b\b\b\b\b\b\b\b\b\b\b\b\b\b\b\b\b\b\b\b\b\b\b\b\b\b\b\b\b\b\b\b\b\b\b\b 36% 37338 - images/filet_mignon/1841480.jpg\b\b\b\b\b\b\b\b\b\b\b\b\b\b\b\b\b\b\b\b\b\b\b\b\b\b\b\b\b\b\b\b\b\b\b\b\b\b\b\b\b\b\b\b                                            \b\b\b\b\b\b\b\b\b\b\b\b\b\b\b\b\b\b\b\b\b\b\b\b\b\b\b\b\b\b\b\b\b\b\b\b\b\b\b\b\b\b\b\b 36% 37422 - images/filet_mignon/2201719.jpg\b\b\b\b\b\b\b\b\b\b\b\b\b\b\b\b\b\b\b\b\b\b\b\b\b\b\b\b\b\b\b\b\b\b\b\b\b\b\b\b\b\b\b\b                                            \b\b\b\b\b\b\b\b\b\b\b\b\b\b\b\b\b\b\b\b\b\b\b\b\b\b\b\b\b\b\b\b\b\b\b\b\b\b\b\b\b\b\b\b 36% 37504 - images/filet_mignon/2470638.jpg\b\b\b\b\b\b\b\b\b\b\b\b\b\b\b\b\b\b\b\b\b\b\b\b\b\b\b\b\b\b\b\b\b\b\b\b\b\b\b\b\b\b\b\b                                            \b\b\b\b\b\b\b\b\b\b\b\b\b\b\b\b\b\b\b\b\b\b\b\b\b\b\b\b\b\b\b\b\b\b\b\b\b\b\b\b\b\b\b\b 36% 37600 - images/filet_mignon/2761699.jpg\b\b\b\b\b\b\b\b\b\b\b\b\b\b\b\b\b\b\b\b\b\b\b\b\b\b\b\b\b\b\b\b\b\b\b\b\b\b\b\b\b\b\b\b                                            \b\b\b\b\b\b\b\b\b\b\b\b\b\b\b\b\b\b\b\b\b\b\b\b\b\b\b\b\b\b\b\b\b\b\b\b\b\b\b\b\b\b\b\b 36% 37642 - images/filet_mignon/2871177.jpg\b\b\b\b\b\b\b\b\b\b\b\b\b\b\b\b\b\b\b\b\b\b\b\b\b\b\b\b\b\b\b\b\b\b\b\b\b\b\b\b\b\b\b\b                                            \b\b\b\b\b\b\b\b\b\b\b\b\b\b\b\b\b\b\b\b\b\b\b\b\b\b\b\b\b\b\b\b\b\b\b\b\b\b\b\b\b\b\b\b 36% 37686 - images/filet_mignon/303317.jpg\b\b\b\b\b\b\b\b\b\b\b\b\b\b\b\b\b\b\b\b\b\b\b\b\b\b\b\b\b\b\b\b\b\b\b\b\b\b\b\b\b\b\b                                           \b\b\b\b\b\b\b\b\b\b\b\b\b\b\b\b\b\b\b\b\b\b\b\b\b\b\b\b\b\b\b\b\b\b\b\b\b\b\b\b\b\b\b 36% 37773 - images/filet_mignon/3407183.jpg\b\b\b\b\b\b\b\b\b\b\b\b\b\b\b\b\b\b\b\b\b\b\b\b\b\b\b\b\b\b\b\b\b\b\b\b\b\b\b\b\b\b\b\b                                            \b\b\b\b\b\b\b\b\b\b\b\b\b\b\b\b\b\b\b\b\b\b\b\b\b\b\b\b\b\b\b\b\b\b\b\b\b\b\b\b\b\b\b\b 37% 37863 - images/filet_mignon/3764182.jpg\b\b\b\b\b\b\b\b\b\b\b\b\b\b\b\b\b\b\b\b\b\b\b\b\b\b\b\b\b\b\b\b\b\b\b\b\b\b\b\b\b\b\b\b                                            \b\b\b\b\b\b\b\b\b\b\b\b\b\b\b\b\b\b\b\b\b\b\b\b\b\b\b\b\b\b\b\b\b\b\b\b\b\b\b\b\b\b\b\b 37% 37944 - images/filet_mignon/531456.jpg\b\b\b\b\b\b\b\b\b\b\b\b\b\b\b\b\b\b\b\b\b\b\b\b\b\b\b\b\b\b\b\b\b\b\b\b\b\b\b\b\b\b\b                                           \b\b\b\b\b\b\b\b\b\b\b\b\b\b\b\b\b\b\b\b\b\b\b\b\b\b\b\b\b\b\b\b\b\b\b\b\b\b\b\b\b\b\b 37% 37945 - images/filet_mignon/53588.jpg\b\b\b\b\b\b\b\b\b\b\b\b\b\b\b\b\b\b\b\b\b\b\b\b\b\b\b\b\b\b\b\b\b\b\b\b\b\b\b\b\b\b                                          \b\b\b\b\b\b\b\b\b\b\b\b\b\b\b\b\b\b\b\b\b\b\b\b\b\b\b\b\b\b\b\b\b\b\b\b\b\b\b\b\b\b 37% 38029 - images/filet_mignon/80047.jpg\b\b\b\b\b\b\b\b\b\b\b\b\b\b\b\b\b\b\b\b\b\b\b\b\b\b\b\b\b\b\b\b\b\b\b\b\b\b\b\b\b\b                                          \b\b\b\b\b\b\b\b\b\b\b\b\b\b\b\b\b\b\b\b\b\b\b\b\b\b\b\b\b\b\b\b\b\b\b\b\b\b\b\b\b\b 37% 38030 - images/filet_mignon/801129.jpg\b\b\b\b\b\b\b\b\b\b\b\b\b\b\b\b\b\b\b\b\b\b\b\b\b\b\b\b\b\b\b\b\b\b\b\b\b\b\b\b\b\b\b                                           \b\b\b\b\b\b\b\b\b\b\b\b\b\b\b\b\b\b\b\b\b\b\b\b\b\b\b\b\b\b\b\b\b\b\b\b\b\b\b\b\b\b\b 37% 38116 - images/fish_and_chips/1054214.jpg\b\b\b\b\b\b\b\b\b\b\b\b\b\b\b\b\b\b\b\b\b\b\b\b\b\b\b\b\b\b\b\b\b\b\b\b\b\b\b\b\b\b\b\b\b\b                                              \b\b\b\b\b\b\b\b\b\b\b\b\b\b\b\b\b\b\b\b\b\b\b\b\b\b\b\b\b\b\b\b\b\b\b\b\b\b\b\b\b\b\b\b\b\b 37% 38200 - images/fish_and_chips/1393401.jpg\b\b\b\b\b\b\b\b\b\b\b\b\b\b\b\b\b\b\b\b\b\b\b\b\b\b\b\b\b\b\b\b\b\b\b\b\b\b\b\b\b\b\b\b\b\b                                              \b\b\b\b\b\b\b\b\b\b\b\b\b\b\b\b\b\b\b\b\b\b\b\b\b\b\b\b\b\b\b\b\b\b\b\b\b\b\b\b\b\b\b\b\b\b 37% 38286 - images/fish_and_chips/1715514.jpg\b\b\b\b\b\b\b\b\b\b\b\b\b\b\b\b\b\b\b\b\b\b\b\b\b\b\b\b\b\b\b\b\b\b\b\b\b\b\b\b\b\b\b\b\b\b                                              \b\b\b\b\b\b\b\b\b\b\b\b\b\b\b\b\b\b\b\b\b\b\b\b\b\b\b\b\b\b\b\b\b\b\b\b\b\b\b\b\b\b\b\b\b\b 37% 38365 - images/fish_and_chips/1973869.jpg\b\b\b\b\b\b\b\b\b\b\b\b\b\b\b\b\b\b\b\b\b\b\b\b\b\b\b\b\b\b\b\b\b\b\b\b\b\b\b\b\b\b\b\b\b\b                                              \b\b\b\b\b\b\b\b\b\b\b\b\b\b\b\b\b\b\b\b\b\b\b\b\b\b\b\b\b\b\b\b\b\b\b\b\b\b\b\b\b\b\b\b\b\b 37% 38366 - images/fish_and_chips/1976788.jpg\b\b\b\b\b\b\b\b\b\b\b\b\b\b\b\b\b\b\b\b\b\b\b\b\b\b\b\b\b\b\b\b\b\b\b\b\b\b\b\b\b\b\b\b\b\b                                              \b\b\b\b\b\b\b\b\b\b\b\b\b\b\b\b\b\b\b\b\b\b\b\b\b\b\b\b\b\b\b\b\b\b\b\b\b\b\b\b\b\b\b\b\b\b 37% 38443 - images/fish_and_chips/2260589.jpg\b\b\b\b\b\b\b\b\b\b\b\b\b\b\b\b\b\b\b\b\b\b\b\b\b\b\b\b\b\b\b\b\b\b\b\b\b\b\b\b\b\b\b\b\b\b                                              \b\b\b\b\b\b\b\b\b\b\b\b\b\b\b\b\b\b\b\b\b\b\b\b\b\b\b\b\b\b\b\b\b\b\b\b\b\b\b\b\b\b\b\b\b\b 37% 38524 - images/fish_and_chips/251026.jpg\b\b\b\b\b\b\b\b\b\b\b\b\b\b\b\b\b\b\b\b\b\b\b\b\b\b\b\b\b\b\b\b\b\b\b\b\b\b\b\b\b\b\b\b\b                                             \b\b\b\b\b\b\b\b\b\b\b\b\b\b\b\b\b\b\b\b\b\b\b\b\b\b\b\b\b\b\b\b\b\b\b\b\b\b\b\b\b\b\b\b\b 37% 38612 - images/fish_and_chips/2822643.jpg\b\b\b\b\b\b\b\b\b\b\b\b\b\b\b\b\b\b\b\b\b\b\b\b\b\b\b\b\b\b\b\b\b\b\b\b\b\b\b\b\b\b\b\b\b\b                                              \b\b\b\b\b\b\b\b\b\b\b\b\b\b\b\b\b\b\b\b\b\b\b\b\b\b\b\b\b\b\b\b\b\b\b\b\b\b\b\b\b\b\b\b\b\b 37% 38613 - images/fish_and_chips/2825748.jpg\b\b\b\b\b\b\b\b\b\b\b\b\b\b\b\b\b\b\b\b\b\b\b\b\b\b\b\b\b\b\b\b\b\b\b\b\b\b\b\b\b\b\b\b\b\b                                              \b\b\b\b\b\b\b\b\b\b\b\b\b\b\b\b\b\b\b\b\b\b\b\b\b\b\b\b\b\b\b\b\b\b\b\b\b\b\b\b\b\b\b\b\b\b 37% 38696 - images/fish_and_chips/3188785.jpg\b\b\b\b\b\b\b\b\b\b\b\b\b\b\b\b\b\b\b\b\b\b\b\b\b\b\b\b\b\b\b\b\b\b\b\b\b\b\b\b\b\b\b\b\b\b                                              \b\b\b\b\b\b\b\b\b\b\b\b\b\b\b\b\b\b\b\b\b\b\b\b\b\b\b\b\b\b\b\b\b\b\b\b\b\b\b\b\b\b\b\b\b\b 37% 38778 - images/fish_and_chips/3534777.jpg\b\b\b\b\b\b\b\b\b\b\b\b\b\b\b\b\b\b\b\b\b\b\b\b\b\b\b\b\b\b\b\b\b\b\b\b\b\b\b\b\b\b\b\b\b\b                                              \b\b\b\b\b\b\b\b\b\b\b\b\b\b\b\b\b\b\b\b\b\b\b\b\b\b\b\b\b\b\b\b\b\b\b\b\b\b\b\b\b\b\b\b\b\b 37% 38859 - images/fish_and_chips/3799120.jpg\b\b\b\b\b\b\b\b\b\b\b\b\b\b\b\b\b\b\b\b\b\b\b\b\b\b\b\b\b\b\b\b\b\b\b\b\b\b\b\b\b\b\b\b\b\b                                              \b\b\b\b\b\b\b\b\b\b\b\b\b\b\b\b\b\b\b\b\b\b\b\b\b\b\b\b\b\b\b\b\b\b\b\b\b\b\b\b\b\b\b\b\b\b 38% 38860 - images/fish_and_chips/3799762.jpg\b\b\b\b\b\b\b\b\b\b\b\b\b\b\b\b\b\b\b\b\b\b\b\b\b\b\b\b\b\b\b\b\b\b\b\b\b\b\b\b\b\b\b\b\b\b                                              \b\b\b\b\b\b\b\b\b\b\b\b\b\b\b\b\b\b\b\b\b\b\b\b\b\b\b\b\b\b\b\b\b\b\b\b\b\b\b\b\b\b\b\b\b\b 38% 38939 - images/fish_and_chips/533951.jpg\b\b\b\b\b\b\b\b\b\b\b\b\b\b\b\b\b\b\b\b\b\b\b\b\b\b\b\b\b\b\b\b\b\b\b\b\b\b\b\b\b\b\b\b\b                                             \b\b\b\b\b\b\b\b\b\b\b\b\b\b\b\b\b\b\b\b\b\b\b\b\b\b\b\b\b\b\b\b\b\b\b\b\b\b\b\b\b\b\b\b\b 38% 39015 - images/fish_and_chips/753322.jpg\b\b\b\b\b\b\b\b\b\b\b\b\b\b\b\b\b\b\b\b\b\b\b\b\b\b\b\b\b\b\b\b\b\b\b\b\b\b\b\b\b\b\b\b\b                                             \b\b\b\b\b\b\b\b\b\b\b\b\b\b\b\b\b\b\b\b\b\b\b\b\b\b\b\b\b\b\b\b\b\b\b\b\b\b\b\b\b\b\b\b\b 38% 39094 - images/fish_and_chips/981299.jpg\b\b\b\b\b\b\b\b\b\b\b\b\b\b\b\b\b\b\b\b\b\b\b\b\b\b\b\b\b\b\b\b\b\b\b\b\b\b\b\b\b\b\b\b\b                                             \b\b\b\b\b\b\b\b\b\b\b\b\b\b\b\b\b\b\b\b\b\b\b\b\b\b\b\b\b\b\b\b\b\b\b\b\b\b\b\b\b\b\b\b\b 38% 39177 - images/foie_gras/125703.jpg\b\b\b\b\b\b\b\b\b\b\b\b\b\b\b\b\b\b\b\b\b\b\b\b\b\b\b\b\b\b\b\b\b\b\b\b\b\b\b\b                                        \b\b\b\b\b\b\b\b\b\b\b\b\b\b\b\b\b\b\b\b\b\b\b\b\b\b\b\b\b\b\b\b\b\b\b\b\b\b\b\b 38% 39178 - images/foie_gras/1257576.jpg\b\b\b\b\b\b\b\b\b\b\b\b\b\b\b\b\b\b\b\b\b\b\b\b\b\b\b\b\b\b\b\b\b\b\b\b\b\b\b\b\b                                         \b\b\b\b\b\b\b\b\b\b\b\b\b\b\b\b\b\b\b\b\b\b\b\b\b\b\b\b\b\b\b\b\b\b\b\b\b\b\b\b\b 38% 39265 - images/foie_gras/1573617.jpg\b\b\b\b\b\b\b\b\b\b\b\b\b\b\b\b\b\b\b\b\b\b\b\b\b\b\b\b\b\b\b\b\b\b\b\b\b\b\b\b\b                                         \b\b\b\b\b\b\b\b\b\b\b\b\b\b\b\b\b\b\b\b\b\b\b\b\b\b\b\b\b\b\b\b\b\b\b\b\b\b\b\b\b 38% 39347 - images/foie_gras/1785283.jpg\b\b\b\b\b\b\b\b\b\b\b\b\b\b\b\b\b\b\b\b\b\b\b\b\b\b\b\b\b\b\b\b\b\b\b\b\b\b\b\b\b                                         \b\b\b\b\b\b\b\b\b\b\b\b\b\b\b\b\b\b\b\b\b\b\b\b\b\b\b\b\b\b\b\b\b\b\b\b\b\b\b\b\b 38% 39429 - images/foie_gras/199384.jpg\b\b\b\b\b\b\b\b\b\b\b\b\b\b\b\b\b\b\b\b\b\b\b\b\b\b\b\b\b\b\b\b\b\b\b\b\b\b\b\b                                        \b\b\b\b\b\b\b\b\b\b\b\b\b\b\b\b\b\b\b\b\b\b\b\b\b\b\b\b\b\b\b\b\b\b\b\b\b\b\b\b 38% 39523 - images/foie_gras/2355698.jpg\b\b\b\b\b\b\b\b\b\b\b\b\b\b\b\b\b\b\b\b\b\b\b\b\b\b\b\b\b\b\b\b\b\b\b\b\b\b\b\b\b                                         \b\b\b\b\b\b\b\b\b\b\b\b\b\b\b\b\b\b\b\b\b\b\b\b\b\b\b\b\b\b\b\b\b\b\b\b\b\b\b\b\b 38% 39524 - images/foie_gras/2355725.jpg\b\b\b\b\b\b\b\b\b\b\b\b\b\b\b\b\b\b\b\b\b\b\b\b\b\b\b\b\b\b\b\b\b\b\b\b\b\b\b\b\b                                         \b\b\b\b\b\b\b\b\b\b\b\b\b\b\b\b\b\b\b\b\b\b\b\b\b\b\b\b\b\b\b\b\b\b\b\b\b\b\b\b\b 38% 39607 - images/foie_gras/2697797.jpg\b\b\b\b\b\b\b\b\b\b\b\b\b\b\b\b\b\b\b\b\b\b\b\b\b\b\b\b\b\b\b\b\b\b\b\b\b\b\b\b\b                                         \b\b\b\b\b\b\b\b\b\b\b\b\b\b\b\b\b\b\b\b\b\b\b\b\b\b\b\b\b\b\b\b\b\b\b\b\b\b\b\b\b 38% 39693 - images/foie_gras/302175.jpg\b\b\b\b\b\b\b\b\b\b\b\b\b\b\b\b\b\b\b\b\b\b\b\b\b\b\b\b\b\b\b\b\b\b\b\b\b\b\b\b                                        \b\b\b\b\b\b\b\b\b\b\b\b\b\b\b\b\b\b\b\b\b\b\b\b\b\b\b\b\b\b\b\b\b\b\b\b\b\b\b\b 38% 39734 - images/foie_gras/3153628.jpg\b\b\b\b\b\b\b\b\b\b\b\b\b\b\b\b\b\b\b\b\b\b\b\b\b\b\b\b\b\b\b\b\b\b\b\b\b\b\b\b\b                                         \b\b\b\b\b\b\b\b\b\b\b\b\b\b\b\b\b\b\b\b\b\b\b\b\b\b\b\b\b\b\b\b\b\b\b\b\b\b\b\b\b 38% 39785 - images/foie_gras/3330111.jpg\b\b\b\b\b\b\b\b\b\b\b\b\b\b\b\b\b\b\b\b\b\b\b\b\b\b\b\b\b\b\b\b\b\b\b\b\b\b\b\b\b                                         \b\b\b\b\b\b\b\b\b\b\b\b\b\b\b\b\b\b\b\b\b\b\b\b\b\b\b\b\b\b\b\b\b\b\b\b\b\b\b\b\b 38% 39872 - images/foie_gras/3678359.jpg\b\b\b\b\b\b\b\b\b\b\b\b\b\b\b\b\b\b\b\b\b\b\b\b\b\b\b\b\b\b\b\b\b\b\b\b\b\b\b\b\b                                         \b\b\b\b\b\b\b\b\b\b\b\b\b\b\b\b\b\b\b\b\b\b\b\b\b\b\b\b\b\b\b\b\b\b\b\b\b\b\b\b\b 39% 39952 - images/foie_gras/477561.jpg\b\b\b\b\b\b\b\b\b\b\b\b\b\b\b\b\b\b\b\b\b\b\b\b\b\b\b\b\b\b\b\b\b\b\b\b\b\b\b\b                                        \b\b\b\b\b\b\b\b\b\b\b\b\b\b\b\b\b\b\b\b\b\b\b\b\b\b\b\b\b\b\b\b\b\b\b\b\b\b\b\b 39% 39966 - images/foie_gras/532722.jpg\b\b\b\b\b\b\b\b\b\b\b\b\b\b\b\b\b\b\b\b\b\b\b\b\b\b\b\b\b\b\b\b\b\b\b\b\b\b\b\b                                        \b\b\b\b\b\b\b\b\b\b\b\b\b\b\b\b\b\b\b\b\b\b\b\b\b\b\b\b\b\b\b\b\b\b\b\b\b\b\b\b 39% 40054 - images/foie_gras/790777.jpg\b\b\b\b\b\b\b\b\b\b\b\b\b\b\b\b\b\b\b\b\b\b\b\b\b\b\b\b\b\b\b\b\b\b\b\b\b\b\b\b                                        \b\b\b\b\b\b\b\b\b\b\b\b\b\b\b\b\b\b\b\b\b\b\b\b\b\b\b\b\b\b\b\b\b\b\b\b\b\b\b\b 39% 40136 - images/french_fries/112309.jpg\b\b\b\b\b\b\b\b\b\b\b\b\b\b\b\b\b\b\b\b\b\b\b\b\b\b\b\b\b\b\b\b\b\b\b\b\b\b\b\b\b\b\b                                           \b\b\b\b\b\b\b\b\b\b\b\b\b\b\b\b\b\b\b\b\b\b\b\b\b\b\b\b\b\b\b\b\b\b\b\b\b\b\b\b\b\b\b 39% 40221 - images/french_fries/1521274.jpg\b\b\b\b\b\b\b\b\b\b\b\b\b\b\b\b\b\b\b\b\b\b\b\b\b\b\b\b\b\b\b\b\b\b\b\b\b\b\b\b\b\b\b\b                                            \b\b\b\b\b\b\b\b\b\b\b\b\b\b\b\b\b\b\b\b\b\b\b\b\b\b\b\b\b\b\b\b\b\b\b\b\b\b\b\b\b\b\b\b 39% 40222 - images/french_fries/1523716.jpg\b\b\b\b\b\b\b\b\b\b\b\b\b\b\b\b\b\b\b\b\b\b\b\b\b\b\b\b\b\b\b\b\b\b\b\b\b\b\b\b\b\b\b\b                                            \b\b\b\b\b\b\b\b\b\b\b\b\b\b\b\b\b\b\b\b\b\b\b\b\b\b\b\b\b\b\b\b\b\b\b\b\b\b\b\b\b\b\b\b 39% 40305 - images/french_fries/1875986.jpg\b\b\b\b\b\b\b\b\b\b\b\b\b\b\b\b\b\b\b\b\b\b\b\b\b\b\b\b\b\b\b\b\b\b\b\b\b\b\b\b\b\b\b\b                                            \b\b\b\b\b\b\b\b\b\b\b\b\b\b\b\b\b\b\b\b\b\b\b\b\b\b\b\b\b\b\b\b\b\b\b\b\b\b\b\b\b\b\b\b 39% 40393 - images/french_fries/2208648.jpg\b\b\b\b\b\b\b\b\b\b\b\b\b\b\b\b\b\b\b\b\b\b\b\b\b\b\b\b\b\b\b\b\b\b\b\b\b\b\b\b\b\b\b\b                                            \b\b\b\b\b\b\b\b\b\b\b\b\b\b\b\b\b\b\b\b\b\b\b\b\b\b\b\b\b\b\b\b\b\b\b\b\b\b\b\b\b\b\b\b 39% 40482 - images/french_fries/2497101.jpg\b\b\b\b\b\b\b\b\b\b\b\b\b\b\b\b\b\b\b\b\b\b\b\b\b\b\b\b\b\b\b\b\b\b\b\b\b\b\b\b\b\b\b\b                                            \b\b\b\b\b\b\b\b\b\b\b\b\b\b\b\b\b\b\b\b\b\b\b\b\b\b\b\b\b\b\b\b\b\b\b\b\b\b\b\b\b\b\b\b 39% 40573 - images/french_fries/2762026.jpg\b\b\b\b\b\b\b\b\b\b\b\b\b\b\b\b\b\b\b\b\b\b\b\b\b\b\b\b\b\b\b\b\b\b\b\b\b\b\b\b\b\b\b\b                                            \b\b\b\b\b\b\b\b\b\b\b\b\b\b\b\b\b\b\b\b\b\b\b\b\b\b\b\b\b\b\b\b\b\b\b\b\b\b\b\b\b\b\b\b 39% 40574 - images/french_fries/2763839.jpg\b\b\b\b\b\b\b\b\b\b\b\b\b\b\b\b\b\b\b\b\b\b\b\b\b\b\b\b\b\b\b\b\b\b\b\b\b\b\b\b\b\b\b\b                                            \b\b\b\b\b\b\b\b\b\b\b\b\b\b\b\b\b\b\b\b\b\b\b\b\b\b\b\b\b\b\b\b\b\b\b\b\b\b\b\b\b\b\b\b 39% 40661 - images/french_fries/3022848.jpg\b\b\b\b\b\b\b\b\b\b\b\b\b\b\b\b\b\b\b\b\b\b\b\b\b\b\b\b\b\b\b\b\b\b\b\b\b\b\b\b\b\b\b\b                                            \b\b\b\b\b\b\b\b\b\b\b\b\b\b\b\b\b\b\b\b\b\b\b\b\b\b\b\b\b\b\b\b\b\b\b\b\b\b\b\b\b\b\b\b 39% 40742 - images/french_fries/3288825.jpg\b\b\b\b\b\b\b\b\b\b\b\b\b\b\b\b\b\b\b\b\b\b\b\b\b\b\b\b\b\b\b\b\b\b\b\b\b\b\b\b\b\b\b\b                                            \b\b\b\b\b\b\b\b\b\b\b\b\b\b\b\b\b\b\b\b\b\b\b\b\b\b\b\b\b\b\b\b\b\b\b\b\b\b\b\b\b\b\b\b 39% 40828 - images/french_fries/3579283.jpg\b\b\b\b\b\b\b\b\b\b\b\b\b\b\b\b\b\b\b\b\b\b\b\b\b\b\b\b\b\b\b\b\b\b\b\b\b\b\b\b\b\b\b\b                                            \b\b\b\b\b\b\b\b\b\b\b\b\b\b\b\b\b\b\b\b\b\b\b\b\b\b\b\b\b\b\b\b\b\b\b\b\b\b\b\b\b\b\b\b 39% 40891 - images/french_fries/375233.jpg\b\b\b\b\b\b\b\b\b\b\b\b\b\b\b\b\b\b\b\b\b\b\b\b\b\b\b\b\b\b\b\b\b\b\b\b\b\b\b\b\b\b\b                                           \b\b\b\b\b\b\b\b\b\b\b\b\b\b\b\b\b\b\b\b\b\b\b\b\b\b\b\b\b\b\b\b\b\b\b\b\b\b\b\b\b\b\b 39% 40910 - images/french_fries/3835129.jpg\b\b\b\b\b\b\b\b\b\b\b\b\b\b\b\b\b\b\b\b\b\b\b\b\b\b\b\b\b\b\b\b\b\b\b\b\b\b\b\b\b\b\b\b                                            \b\b\b\b\b\b\b\b\b\b\b\b\b\b\b\b\b\b\b\b\b\b\b\b\b\b\b\b\b\b\b\b\b\b\b\b\b\b\b\b\b\b\b\b 40% 40994 - images/french_fries/587882.jpg\b\b\b\b\b\b\b\b\b\b\b\b\b\b\b\b\b\b\b\b\b\b\b\b\b\b\b\b\b\b\b\b\b\b\b\b\b\b\b\b\b\b\b                                           \b\b\b\b\b\b\b\b\b\b\b\b\b\b\b\b\b\b\b\b\b\b\b\b\b\b\b\b\b\b\b\b\b\b\b\b\b\b\b\b\b\b\b 40% 41073 - images/french_fries/868941.jpg\b\b\b\b\b\b\b\b\b\b\b\b\b\b\b\b\b\b\b\b\b\b\b\b\b\b\b\b\b\b\b\b\b\b\b\b\b\b\b\b\b\b\b                                           \b\b\b\b\b\b\b\b\b\b\b\b\b\b\b\b\b\b\b\b\b\b\b\b\b\b\b\b\b\b\b\b\b\b\b\b\b\b\b\b\b\b\b 40% 41154 - images/french_onion_soup/1148125.jpg\b\b\b\b\b\b\b\b\b\b\b\b\b\b\b\b\b\b\b\b\b\b\b\b\b\b\b\b\b\b\b\b\b\b\b\b\b\b\b\b\b\b\b\b\b\b\b\b\b                                                 \b\b\b\b\b\b\b\b\b\b\b\b\b\b\b\b\b\b\b\b\b\b\b\b\b\b\b\b\b\b\b\b\b\b\b\b\b\b\b\b\b\b\b\b\b\b\b\b\b 40% 41226 - images/french_onion_soup/134624.jpg\b\b\b\b\b\b\b\b\b\b\b\b\b\b\b\b\b\b\b\b\b\b\b\b\b\b\b\b\b\b\b\b\b\b\b\b\b\b\b\b\b\b\b\b\b\b\b\b                                                \b\b\b\b\b\b\b\b\b\b\b\b\b\b\b\b\b\b\b\b\b\b\b\b\b\b\b\b\b\b\b\b\b\b\b\b\b\b\b\b\b\b\b\b\b\b\b\b 40% 41235 - images/french_onion_soup/1363154.jpg\b\b\b\b\b\b\b\b\b\b\b\b\b\b\b\b\b\b\b\b\b\b\b\b\b\b\b\b\b\b\b\b\b\b\b\b\b\b\b\b\b\b\b\b\b\b\b\b\b                                                 \b\b\b\b\b\b\b\b\b\b\b\b\b\b\b\b\b\b\b\b\b\b\b\b\b\b\b\b\b\b\b\b\b\b\b\b\b\b\b\b\b\b\b\b\b\b\b\b\b 40% 41316 - images/french_onion_soup/1660448.jpg\b\b\b\b\b\b\b\b\b\b\b\b\b\b\b\b\b\b\b\b\b\b\b\b\b\b\b\b\b\b\b\b\b\b\b\b\b\b\b\b\b\b\b\b\b\b\b\b\b                                                 \b\b\b\b\b\b\b\b\b\b\b\b\b\b\b\b\b\b\b\b\b\b\b\b\b\b\b\b\b\b\b\b\b\b\b\b\b\b\b\b\b\b\b\b\b\b\b\b\b 40% 41406 - images/french_onion_soup/198136.jpg\b\b\b\b\b\b\b\b\b\b\b\b\b\b\b\b\b\b\b\b\b\b\b\b\b\b\b\b\b\b\b\b\b\b\b\b\b\b\b\b\b\b\b\b\b\b\b\b                                                \b\b\b\b\b\b\b\b\b\b\b\b\b\b\b\b\b\b\b\b\b\b\b\b\b\b\b\b\b\b\b\b\b\b\b\b\b\b\b\b\b\b\b\b\b\b\b\b 40% 41407 - images/french_onion_soup/1985166.jpg\b\b\b\b\b\b\b\b\b\b\b\b\b\b\b\b\b\b\b\b\b\b\b\b\b\b\b\b\b\b\b\b\b\b\b\b\b\b\b\b\b\b\b\b\b\b\b\b\b                                                 \b\b\b\b\b\b\b\b\b\b\b\b\b\b\b\b\b\b\b\b\b\b\b\b\b\b\b\b\b\b\b\b\b\b\b\b\b\b\b\b\b\b\b\b\b\b\b\b\b 40% 41491 - images/french_onion_soup/237200.jpg\b\b\b\b\b\b\b\b\b\b\b\b\b\b\b\b\b\b\b\b\b\b\b\b\b\b\b\b\b\b\b\b\b\b\b\b\b\b\b\b\b\b\b\b\b\b\b\b                                                \b\b\b\b\b\b\b\b\b\b\b\b\b\b\b\b\b\b\b\b\b\b\b\b\b\b\b\b\b\b\b\b\b\b\b\b\b\b\b\b\b\b\b\b\b\b\b\b 40% 41573 - images/french_onion_soup/2651651.jpg\b\b\b\b\b\b\b\b\b\b\b\b\b\b\b\b\b\b\b\b\b\b\b\b\b\b\b\b\b\b\b\b\b\b\b\b\b\b\b\b\b\b\b\b\b\b\b\b\b                                                 \b\b\b\b\b\b\b\b\b\b\b\b\b\b\b\b\b\b\b\b\b\b\b\b\b\b\b\b\b\b\b\b\b\b\b\b\b\b\b\b\b\b\b\b\b\b\b\b\b 40% 41658 - images/french_onion_soup/2910777.jpg\b\b\b\b\b\b\b\b\b\b\b\b\b\b\b\b\b\b\b\b\b\b\b\b\b\b\b\b\b\b\b\b\b\b\b\b\b\b\b\b\b\b\b\b\b\b\b\b\b                                                 \b\b\b\b\b\b\b\b\b\b\b\b\b\b\b\b\b\b\b\b\b\b\b\b\b\b\b\b\b\b\b\b\b\b\b\b\b\b\b\b\b\b\b\b\b\b\b\b\b 40% 41659 - images/french_onion_soup/2910828.jpg\b\b\b\b\b\b\b\b\b\b\b\b\b\b\b\b\b\b\b\b\b\b\b\b\b\b\b\b\b\b\b\b\b\b\b\b\b\b\b\b\b\b\b\b\b\b\b\b\b                                                 \b\b\b\b\b\b\b\b\b\b\b\b\b\b\b\b\b\b\b\b\b\b\b\b\b\b\b\b\b\b\b\b\b\b\b\b\b\b\b\b\b\b\b\b\b\b\b\b\b 40% 41744 - images/french_onion_soup/3175888.jpg\b\b\b\b\b\b\b\b\b\b\b\b\b\b\b\b\b\b\b\b\b\b\b\b\b\b\b\b\b\b\b\b\b\b\b\b\b\b\b\b\b\b\b\b\b\b\b\b\b                                                 \b\b\b\b\b\b\b\b\b\b\b\b\b\b\b\b\b\b\b\b\b\b\b\b\b\b\b\b\b\b\b\b\b\b\b\b\b\b\b\b\b\b\b\b\b\b\b\b\b 40% 41831 - images/french_onion_soup/352134.jpg\b\b\b\b\b\b\b\b\b\b\b\b\b\b\b\b\b\b\b\b\b\b\b\b\b\b\b\b\b\b\b\b\b\b\b\b\b\b\b\b\b\b\b\b\b\b\b\b                                                \b\b\b\b\b\b\b\b\b\b\b\b\b\b\b\b\b\b\b\b\b\b\b\b\b\b\b\b\b\b\b\b\b\b\b\b\b\b\b\b\b\b\b\b\b\b\b\b 40% 41922 - images/french_onion_soup/3915397.jpg\b\b\b\b\b\b\b\b\b\b\b\b\b\b\b\b\b\b\b\b\b\b\b\b\b\b\b\b\b\b\b\b\b\b\b\b\b\b\b\b\b\b\b\b\b\b\b\b\b                                                 \b\b\b\b\b\b\b\b\b\b\b\b\b\b\b\b\b\b\b\b\b\b\b\b\b\b\b\b\b\b\b\b\b\b\b\b\b\b\b\b\b\b\b\b\b\b\b\b\b 40% 41945 - images/french_onion_soup/463746.jpg\b\b\b\b\b\b\b\b\b\b\b\b\b\b\b\b\b\b\b\b\b\b\b\b\b\b\b\b\b\b\b\b\b\b\b\b\b\b\b\b\b\b\b\b\b\b\b\b                                                \b\b\b\b\b\b\b\b\b\b\b\b\b\b\b\b\b\b\b\b\b\b\b\b\b\b\b\b\b\b\b\b\b\b\b\b\b\b\b\b\b\b\b\b\b\b\b\b 41% 42007 - images/french_onion_soup/658329.jpg\b\b\b\b\b\b\b\b\b\b\b\b\b\b\b\b\b\b\b\b\b\b\b\b\b\b\b\b\b\b\b\b\b\b\b\b\b\b\b\b\b\b\b\b\b\b\b\b                                                \b\b\b\b\b\b\b\b\b\b\b\b\b\b\b\b\b\b\b\b\b\b\b\b\b\b\b\b\b\b\b\b\b\b\b\b\b\b\b\b\b\b\b\b\b\b\b\b 41% 42093 - images/french_onion_soup/971884.jpg\b\b\b\b\b\b\b\b\b\b\b\b\b\b\b\b\b\b\b\b\b\b\b\b\b\b\b\b\b\b\b\b\b\b\b\b\b\b\b\b\b\b\b\b\b\b\b\b                                                \b\b\b\b\b\b\b\b\b\b\b\b\b\b\b\b\b\b\b\b\b\b\b\b\b\b\b\b\b\b\b\b\b\b\b\b\b\b\b\b\b\b\b\b\b\b\b\b 41% 42172 - images/french_toast/1242545.jpg\b\b\b\b\b\b\b\b\b\b\b\b\b\b\b\b\b\b\b\b\b\b\b\b\b\b\b\b\b\b\b\b\b\b\b\b\b\b\b\b\b\b\b\b                                            \b\b\b\b\b\b\b\b\b\b\b\b\b\b\b\b\b\b\b\b\b\b\b\b\b\b\b\b\b\b\b\b\b\b\b\b\b\b\b\b\b\b\b\b 41% 42244 - images/french_toast/1453170.jpg\b\b\b\b\b\b\b\b\b\b\b\b\b\b\b\b\b\b\b\b\b\b\b\b\b\b\b\b\b\b\b\b\b\b\b\b\b\b\b\b\b\b\b\b                                            \b\b\b\b\b\b\b\b\b\b\b\b\b\b\b\b\b\b\b\b\b\b\b\b\b\b\b\b\b\b\b\b\b\b\b\b\b\b\b\b\b\b\b\b 41% 42245 - images/french_toast/1453342.jpg\b\b\b\b\b\b\b\b\b\b\b\b\b\b\b\b\b\b\b\b\b\b\b\b\b\b\b\b\b\b\b\b\b\b\b\b\b\b\b\b\b\b\b\b                                            \b\b\b\b\b\b\b\b\b\b\b\b\b\b\b\b\b\b\b\b\b\b\b\b\b\b\b\b\b\b\b\b\b\b\b\b\b\b\b\b\b\b\b\b 41% 42320 - images/french_toast/1750869.jpg\b\b\b\b\b\b\b\b\b\b\b\b\b\b\b\b\b\b\b\b\b\b\b\b\b\b\b\b\b\b\b\b\b\b\b\b\b\b\b\b\b\b\b\b                                            \b\b\b\b\b\b\b\b\b\b\b\b\b\b\b\b\b\b\b\b\b\b\b\b\b\b\b\b\b\b\b\b\b\b\b\b\b\b\b\b\b\b\b\b 41% 42396 - images/french_toast/2004165.jpg\b\b\b\b\b\b\b\b\b\b\b\b\b\b\b\b\b\b\b\b\b\b\b\b\b\b\b\b\b\b\b\b\b\b\b\b\b\b\b\b\b\b\b\b                                            \b\b\b\b\b\b\b\b\b\b\b\b\b\b\b\b\b\b\b\b\b\b\b\b\b\b\b\b\b\b\b\b\b\b\b\b\b\b\b\b\b\b\b\b 41% 42474 - images/french_toast/2256095.jpg\b\b\b\b\b\b\b\b\b\b\b\b\b\b\b\b\b\b\b\b\b\b\b\b\b\b\b\b\b\b\b\b\b\b\b\b\b\b\b\b\b\b\b\b                                            \b\b\b\b\b\b\b\b\b\b\b\b\b\b\b\b\b\b\b\b\b\b\b\b\b\b\b\b\b\b\b\b\b\b\b\b\b\b\b\b\b\b\b\b 41% 42550 - images/french_toast/2544691.jpg\b\b\b\b\b\b\b\b\b\b\b\b\b\b\b\b\b\b\b\b\b\b\b\b\b\b\b\b\b\b\b\b\b\b\b\b\b\b\b\b\b\b\b\b                                            \b\b\b\b\b\b\b\b\b\b\b\b\b\b\b\b\b\b\b\b\b\b\b\b\b\b\b\b\b\b\b\b\b\b\b\b\b\b\b\b\b\b\b\b 41% 42625 - images/french_toast/2803096.jpg\b\b\b\b\b\b\b\b\b\b\b\b\b\b\b\b\b\b\b\b\b\b\b\b\b\b\b\b\b\b\b\b\b\b\b\b\b\b\b\b\b\b\b\b                                            \b\b\b\b\b\b\b\b\b\b\b\b\b\b\b\b\b\b\b\b\b\b\b\b\b\b\b\b\b\b\b\b\b\b\b\b\b\b\b\b\b\b\b\b 41% 42626 - images/french_toast/2805275.jpg\b\b\b\b\b\b\b\b\b\b\b\b\b\b\b\b\b\b\b\b\b\b\b\b\b\b\b\b\b\b\b\b\b\b\b\b\b\b\b\b\b\b\b\b                                            \b\b\b\b\b\b\b\b\b\b\b\b\b\b\b\b\b\b\b\b\b\b\b\b\b\b\b\b\b\b\b\b\b\b\b\b\b\b\b\b\b\b\b\b 41% 42700 - images/french_toast/3130206.jpg\b\b\b\b\b\b\b\b\b\b\b\b\b\b\b\b\b\b\b\b\b\b\b\b\b\b\b\b\b\b\b\b\b\b\b\b\b\b\b\b\b\b\b\b                                            \b\b\b\b\b\b\b\b\b\b\b\b\b\b\b\b\b\b\b\b\b\b\b\b\b\b\b\b\b\b\b\b\b\b\b\b\b\b\b\b\b\b\b\b 41% 42773 - images/french_toast/3386616.jpg\b\b\b\b\b\b\b\b\b\b\b\b\b\b\b\b\b\b\b\b\b\b\b\b\b\b\b\b\b\b\b\b\b\b\b\b\b\b\b\b\b\b\b\b                                            \b\b\b\b\b\b\b\b\b\b\b\b\b\b\b\b\b\b\b\b\b\b\b\b\b\b\b\b\b\b\b\b\b\b\b\b\b\b\b\b\b\b\b\b 41% 42849 - images/french_toast/3696950.jpg\b\b\b\b\b\b\b\b\b\b\b\b\b\b\b\b\b\b\b\b\b\b\b\b\b\b\b\b\b\b\b\b\b\b\b\b\b\b\b\b\b\b\b\b                                            \b\b\b\b\b\b\b\b\b\b\b\b\b\b\b\b\b\b\b\b\b\b\b\b\b\b\b\b\b\b\b\b\b\b\b\b\b\b\b\b\b\b\b\b 42% 42924\b\b\b\b\b\b\b\b\b\b          \b\b\b\b\b\b\b\b\b\b 42% 42998 - images/french_toast/6612.jpg\b\b\b\b\b\b\b\b\b\b\b\b\b\b\b\b\b\b\b\b\b\b\b\b\b\b\b\b\b\b\b\b\b\b\b\b\b\b\b\b\b                                         \b\b\b\b\b\b\b\b\b\b\b\b\b\b\b\b\b\b\b\b\b\b\b\b\b\b\b\b\b\b\b\b\b\b\b\b\b\b\b\b\b 42% 43017 - images/french_toast/743208.jpg\b\b\b\b\b\b\b\b\b\b\b\b\b\b\b\b\b\b\b\b\b\b\b\b\b\b\b\b\b\b\b\b\b\b\b\b\b\b\b\b\b\b\b                                           \b\b\b\b\b\b\b\b\b\b\b\b\b\b\b\b\b\b\b\b\b\b\b\b\b\b\b\b\b\b\b\b\b\b\b\b\b\b\b\b\b\b\b 42% 43073 - images/french_toast/892871.jpg\b\b\b\b\b\b\b\b\b\b\b\b\b\b\b\b\b\b\b\b\b\b\b\b\b\b\b\b\b\b\b\b\b\b\b\b\b\b\b\b\b\b\b                                           \b\b\b\b\b\b\b\b\b\b\b\b\b\b\b\b\b\b\b\b\b\b\b\b\b\b\b\b\b\b\b\b\b\b\b\b\b\b\b\b\b\b\b 42% 43151 - images/fried_calamari/115812.jpg\b\b\b\b\b\b\b\b\b\b\b\b\b\b\b\b\b\b\b\b\b\b\b\b\b\b\b\b\b\b\b\b\b\b\b\b\b\b\b\b\b\b\b\b\b                                             \b\b\b\b\b\b\b\b\b\b\b\b\b\b\b\b\b\b\b\b\b\b\b\b\b\b\b\b\b\b\b\b\b\b\b\b\b\b\b\b\b\b\b\b\b 42% 43233 - images/fried_calamari/14007.jpg\b\b\b\b\b\b\b\b\b\b\b\b\b\b\b\b\b\b\b\b\b\b\b\b\b\b\b\b\b\b\b\b\b\b\b\b\b\b\b\b\b\b\b\b                                            \b\b\b\b\b\b\b\b\b\b\b\b\b\b\b\b\b\b\b\b\b\b\b\b\b\b\b\b\b\b\b\b\b\b\b\b\b\b\b\b\b\b\b\b 42% 43315 - images/fried_calamari/165952.jpg\b\b\b\b\b\b\b\b\b\b\b\b\b\b\b\b\b\b\b\b\b\b\b\b\b\b\b\b\b\b\b\b\b\b\b\b\b\b\b\b\b\b\b\b\b                                             \b\b\b\b\b\b\b\b\b\b\b\b\b\b\b\b\b\b\b\b\b\b\b\b\b\b\b\b\b\b\b\b\b\b\b\b\b\b\b\b\b\b\b\b\b 42% 43394 - images/fried_calamari/1913519.jpg\b\b\b\b\b\b\b\b\b\b\b\b\b\b\b\b\b\b\b\b\b\b\b\b\b\b\b\b\b\b\b\b\b\b\b\b\b\b\b\b\b\b\b\b\b\b                                              \b\b\b\b\b\b\b\b\b\b\b\b\b\b\b\b\b\b\b\b\b\b\b\b\b\b\b\b\b\b\b\b\b\b\b\b\b\b\b\b\b\b\b\b\b\b 42% 43395 - images/fried_calamari/1914732.jpg\b\b\b\b\b\b\b\b\b\b\b\b\b\b\b\b\b\b\b\b\b\b\b\b\b\b\b\b\b\b\b\b\b\b\b\b\b\b\b\b\b\b\b\b\b\b                                              \b\b\b\b\b\b\b\b\b\b\b\b\b\b\b\b\b\b\b\b\b\b\b\b\b\b\b\b\b\b\b\b\b\b\b\b\b\b\b\b\b\b\b\b\b\b 42% 43472 - images/fried_calamari/2144417.jpg\b\b\b\b\b\b\b\b\b\b\b\b\b\b\b\b\b\b\b\b\b\b\b\b\b\b\b\b\b\b\b\b\b\b\b\b\b\b\b\b\b\b\b\b\b\b                                              \b\b\b\b\b\b\b\b\b\b\b\b\b\b\b\b\b\b\b\b\b\b\b\b\b\b\b\b\b\b\b\b\b\b\b\b\b\b\b\b\b\b\b\b\b\b 42% 43550 - images/fried_calamari/2364043.jpg\b\b\b\b\b\b\b\b\b\b\b\b\b\b\b\b\b\b\b\b\b\b\b\b\b\b\b\b\b\b\b\b\b\b\b\b\b\b\b\b\b\b\b\b\b\b                                              \b\b\b\b\b\b\b\b\b\b\b\b\b\b\b\b\b\b\b\b\b\b\b\b\b\b\b\b\b\b\b\b\b\b\b\b\b\b\b\b\b\b\b\b\b\b 42% 43631 - images/fried_calamari/2666857.jpg\b\b\b\b\b\b\b\b\b\b\b\b\b\b\b\b\b\b\b\b\b\b\b\b\b\b\b\b\b\b\b\b\b\b\b\b\b\b\b\b\b\b\b\b\b\b                                              \b\b\b\b\b\b\b\b\b\b\b\b\b\b\b\b\b\b\b\b\b\b\b\b\b\b\b\b\b\b\b\b\b\b\b\b\b\b\b\b\b\b\b\b\b\b 42% 43689 - images/fried_calamari/2878541.jpg\b\b\b\b\b\b\b\b\b\b\b\b\b\b\b\b\b\b\b\b\b\b\b\b\b\b\b\b\b\b\b\b\b\b\b\b\b\b\b\b\b\b\b\b\b\b                                              \b\b\b\b\b\b\b\b\b\b\b\b\b\b\b\b\b\b\b\b\b\b\b\b\b\b\b\b\b\b\b\b\b\b\b\b\b\b\b\b\b\b\b\b\b\b 42% 43713 - images/fried_calamari/2986705.jpg\b\b\b\b\b\b\b\b\b\b\b\b\b\b\b\b\b\b\b\b\b\b\b\b\b\b\b\b\b\b\b\b\b\b\b\b\b\b\b\b\b\b\b\b\b\b                                              \b\b\b\b\b\b\b\b\b\b\b\b\b\b\b\b\b\b\b\b\b\b\b\b\b\b\b\b\b\b\b\b\b\b\b\b\b\b\b\b\b\b\b\b\b\b 42% 43790 - images/fried_calamari/339672.jpg\b\b\b\b\b\b\b\b\b\b\b\b\b\b\b\b\b\b\b\b\b\b\b\b\b\b\b\b\b\b\b\b\b\b\b\b\b\b\b\b\b\b\b\b\b                                             \b\b\b\b\b\b\b\b\b\b\b\b\b\b\b\b\b\b\b\b\b\b\b\b\b\b\b\b\b\b\b\b\b\b\b\b\b\b\b\b\b\b\b\b\b 42% 43869 - images/fried_calamari/390990.jpg\b\b\b\b\b\b\b\b\b\b\b\b\b\b\b\b\b\b\b\b\b\b\b\b\b\b\b\b\b\b\b\b\b\b\b\b\b\b\b\b\b\b\b\b\b                                             \b\b\b\b\b\b\b\b\b\b\b\b\b\b\b\b\b\b\b\b\b\b\b\b\b\b\b\b\b\b\b\b\b\b\b\b\b\b\b\b\b\b\b\b\b 43% 43951 - images/fried_calamari/597733.jpg\b\b\b\b\b\b\b\b\b\b\b\b\b\b\b\b\b\b\b\b\b\b\b\b\b\b\b\b\b\b\b\b\b\b\b\b\b\b\b\b\b\b\b\b\b                                             \b\b\b\b\b\b\b\b\b\b\b\b\b\b\b\b\b\b\b\b\b\b\b\b\b\b\b\b\b\b\b\b\b\b\b\b\b\b\b\b\b\b\b\b\b 43% 43952 - images/fried_calamari/597797.jpg\b\b\b\b\b\b\b\b\b\b\b\b\b\b\b\b\b\b\b\b\b\b\b\b\b\b\b\b\b\b\b\b\b\b\b\b\b\b\b\b\b\b\b\b\b                                             \b\b\b\b\b\b\b\b\b\b\b\b\b\b\b\b\b\b\b\b\b\b\b\b\b\b\b\b\b\b\b\b\b\b\b\b\b\b\b\b\b\b\b\b\b 43% 44031 - images/fried_calamari/80030.jpg\b\b\b\b\b\b\b\b\b\b\b\b\b\b\b\b\b\b\b\b\b\b\b\b\b\b\b\b\b\b\b\b\b\b\b\b\b\b\b\b\b\b\b\b                                            \b\b\b\b\b\b\b\b\b\b\b\b\b\b\b\b\b\b\b\b\b\b\b\b\b\b\b\b\b\b\b\b\b\b\b\b\b\b\b\b\b\b\b\b 43% 44113 - images/fried_rice/1043851.jpg\b\b\b\b\b\b\b\b\b\b\b\b\b\b\b\b\b\b\b\b\b\b\b\b\b\b\b\b\b\b\b\b\b\b\b\b\b\b\b\b\b\b                                          \b\b\b\b\b\b\b\b\b\b\b\b\b\b\b\b\b\b\b\b\b\b\b\b\b\b\b\b\b\b\b\b\b\b\b\b\b\b\b\b\b\b 43% 44185 - images/fried_rice/1264045.jpg\b\b\b\b\b\b\b\b\b\b\b\b\b\b\b\b\b\b\b\b\b\b\b\b\b\b\b\b\b\b\b\b\b\b\b\b\b\b\b\b\b\b                                          \b\b\b\b\b\b\b\b\b\b\b\b\b\b\b\b\b\b\b\b\b\b\b\b\b\b\b\b\b\b\b\b\b\b\b\b\b\b\b\b\b\b 43% 44267 - images/fried_rice/1536220.jpg\b\b\b\b\b\b\b\b\b\b\b\b\b\b\b\b\b\b\b\b\b\b\b\b\b\b\b\b\b\b\b\b\b\b\b\b\b\b\b\b\b\b                                          \b\b\b\b\b\b\b\b\b\b\b\b\b\b\b\b\b\b\b\b\b\b\b\b\b\b\b\b\b\b\b\b\b\b\b\b\b\b\b\b\b\b 43% 44342 - images/fried_rice/1807202.jpg\b\b\b\b\b\b\b\b\b\b\b\b\b\b\b\b\b\b\b\b\b\b\b\b\b\b\b\b\b\b\b\b\b\b\b\b\b\b\b\b\b\b                                          \b\b\b\b\b\b\b\b\b\b\b\b\b\b\b\b\b\b\b\b\b\b\b\b\b\b\b\b\b\b\b\b\b\b\b\b\b\b\b\b\b\b 43% 44343 - images/fried_rice/180974.jpg\b\b\b\b\b\b\b\b\b\b\b\b\b\b\b\b\b\b\b\b\b\b\b\b\b\b\b\b\b\b\b\b\b\b\b\b\b\b\b\b\b                                         \b\b\b\b\b\b\b\b\b\b\b\b\b\b\b\b\b\b\b\b\b\b\b\b\b\b\b\b\b\b\b\b\b\b\b\b\b\b\b\b\b 43% 44419 - images/fried_rice/2070073.jpg\b\b\b\b\b\b\b\b\b\b\b\b\b\b\b\b\b\b\b\b\b\b\b\b\b\b\b\b\b\b\b\b\b\b\b\b\b\b\b\b\b\b                                          \b\b\b\b\b\b\b\b\b\b\b\b\b\b\b\b\b\b\b\b\b\b\b\b\b\b\b\b\b\b\b\b\b\b\b\b\b\b\b\b\b\b 43% 44499 - images/fried_rice/2349818.jpg\b\b\b\b\b\b\b\b\b\b\b\b\b\b\b\b\b\b\b\b\b\b\b\b\b\b\b\b\b\b\b\b\b\b\b\b\b\b\b\b\b\b                                          \b\b\b\b\b\b\b\b\b\b\b\b\b\b\b\b\b\b\b\b\b\b\b\b\b\b\b\b\b\b\b\b\b\b\b\b\b\b\b\b\b\b 43% 44578 - images/fried_rice/2648223.jpg\b\b\b\b\b\b\b\b\b\b\b\b\b\b\b\b\b\b\b\b\b\b\b\b\b\b\b\b\b\b\b\b\b\b\b\b\b\b\b\b\b\b                                          \b\b\b\b\b\b\b\b\b\b\b\b\b\b\b\b\b\b\b\b\b\b\b\b\b\b\b\b\b\b\b\b\b\b\b\b\b\b\b\b\b\b 43% 44651 - images/fried_rice/2872060.jpg\b\b\b\b\b\b\b\b\b\b\b\b\b\b\b\b\b\b\b\b\b\b\b\b\b\b\b\b\b\b\b\b\b\b\b\b\b\b\b\b\b\b                                          \b\b\b\b\b\b\b\b\b\b\b\b\b\b\b\b\b\b\b\b\b\b\b\b\b\b\b\b\b\b\b\b\b\b\b\b\b\b\b\b\b\b 43% 44669 - images/fried_rice/292043.jpg\b\b\b\b\b\b\b\b\b\b\b\b\b\b\b\b\b\b\b\b\b\b\b\b\b\b\b\b\b\b\b\b\b\b\b\b\b\b\b\b\b                                         \b\b\b\b\b\b\b\b\b\b\b\b\b\b\b\b\b\b\b\b\b\b\b\b\b\b\b\b\b\b\b\b\b\b\b\b\b\b\b\b\b 43% 44727 - images/fried_rice/3142588.jpg\b\b\b\b\b\b\b\b\b\b\b\b\b\b\b\b\b\b\b\b\b\b\b\b\b\b\b\b\b\b\b\b\b\b\b\b\b\b\b\b\b\b                                          \b\b\b\b\b\b\b\b\b\b\b\b\b\b\b\b\b\b\b\b\b\b\b\b\b\b\b\b\b\b\b\b\b\b\b\b\b\b\b\b\b\b 43% 44805 - images/fried_rice/3448498.jpg\b\b\b\b\b\b\b\b\b\b\b\b\b\b\b\b\b\b\b\b\b\b\b\b\b\b\b\b\b\b\b\b\b\b\b\b\b\b\b\b\b\b                                          \b\b\b\b\b\b\b\b\b\b\b\b\b\b\b\b\b\b\b\b\b\b\b\b\b\b\b\b\b\b\b\b\b\b\b\b\b\b\b\b\b\b 44% 44880 - images/fried_rice/3752524.jpg\b\b\b\b\b\b\b\b\b\b\b\b\b\b\b\b\b\b\b\b\b\b\b\b\b\b\b\b\b\b\b\b\b\b\b\b\b\b\b\b\b\b                                          \b\b\b\b\b\b\b\b\b\b\b\b\b\b\b\b\b\b\b\b\b\b\b\b\b\b\b\b\b\b\b\b\b\b\b\b\b\b\b\b\b\b 44% 44905 - images/fried_rice/3834215.jpg\b\b\b\b\b\b\b\b\b\b\b\b\b\b\b\b\b\b\b\b\b\b\b\b\b\b\b\b\b\b\b\b\b\b\b\b\b\b\b\b\b\b                                          \b\b\b\b\b\b\b\b\b\b\b\b\b\b\b\b\b\b\b\b\b\b\b\b\b\b\b\b\b\b\b\b\b\b\b\b\b\b\b\b\b\b 44% 44960 - images/fried_rice/480957.jpg\b\b\b\b\b\b\b\b\b\b\b\b\b\b\b\b\b\b\b\b\b\b\b\b\b\b\b\b\b\b\b\b\b\b\b\b\b\b\b\b\b                                         \b\b\b\b\b\b\b\b\b\b\b\b\b\b\b\b\b\b\b\b\b\b\b\b\b\b\b\b\b\b\b\b\b\b\b\b\b\b\b\b\b 44% 45036 - images/fried_rice/720685.jpg\b\b\b\b\b\b\b\b\b\b\b\b\b\b\b\b\b\b\b\b\b\b\b\b\b\b\b\b\b\b\b\b\b\b\b\b\b\b\b\b\b                                         \b\b\b\b\b\b\b\b\b\b\b\b\b\b\b\b\b\b\b\b\b\b\b\b\b\b\b\b\b\b\b\b\b\b\b\b\b\b\b\b\b 44% 45115 - images/frozen_yogurt/1068965.jpg\b\b\b\b\b\b\b\b\b\b\b\b\b\b\b\b\b\b\b\b\b\b\b\b\b\b\b\b\b\b\b\b\b\b\b\b\b\b\b\b\b\b\b\b\b                                             \b\b\b\b\b\b\b\b\b\b\b\b\b\b\b\b\b\b\b\b\b\b\b\b\b\b\b\b\b\b\b\b\b\b\b\b\b\b\b\b\b\b\b\b\b 44% 45116 - images/frozen_yogurt/1069043.jpg\b\b\b\b\b\b\b\b\b\b\b\b\b\b\b\b\b\b\b\b\b\b\b\b\b\b\b\b\b\b\b\b\b\b\b\b\b\b\b\b\b\b\b\b\b                                             \b\b\b\b\b\b\b\b\b\b\b\b\b\b\b\b\b\b\b\b\b\b\b\b\b\b\b\b\b\b\b\b\b\b\b\b\b\b\b\b\b\b\b\b\b 44% 45215 - images/frozen_yogurt/1440496.jpg\b\b\b\b\b\b\b\b\b\b\b\b\b\b\b\b\b\b\b\b\b\b\b\b\b\b\b\b\b\b\b\b\b\b\b\b\b\b\b\b\b\b\b\b\b                                             \b\b\b\b\b\b\b\b\b\b\b\b\b\b\b\b\b\b\b\b\b\b\b\b\b\b\b\b\b\b\b\b\b\b\b\b\b\b\b\b\b\b\b\b\b 44% 45319 - images/frozen_yogurt/1761149.jpg\b\b\b\b\b\b\b\b\b\b\b\b\b\b\b\b\b\b\b\b\b\b\b\b\b\b\b\b\b\b\b\b\b\b\b\b\b\b\b\b\b\b\b\b\b                                             \b\b\b\b\b\b\b\b\b\b\b\b\b\b\b\b\b\b\b\b\b\b\b\b\b\b\b\b\b\b\b\b\b\b\b\b\b\b\b\b\b\b\b\b\b 44% 45418 - images/frozen_yogurt/2019759.jpg\b\b\b\b\b\b\b\b\b\b\b\b\b\b\b\b\b\b\b\b\b\b\b\b\b\b\b\b\b\b\b\b\b\b\b\b\b\b\b\b\b\b\b\b\b                                             \b\b\b\b\b\b\b\b\b\b\b\b\b\b\b\b\b\b\b\b\b\b\b\b\b\b\b\b\b\b\b\b\b\b\b\b\b\b\b\b\b\b\b\b\b 44% 45436 - images/frozen_yogurt/2073050.jpg\b\b\b\b\b\b\b\b\b\b\b\b\b\b\b\b\b\b\b\b\b\b\b\b\b\b\b\b\b\b\b\b\b\b\b\b\b\b\b\b\b\b\b\b\b                                             \b\b\b\b\b\b\b\b\b\b\b\b\b\b\b\b\b\b\b\b\b\b\b\b\b\b\b\b\b\b\b\b\b\b\b\b\b\b\b\b\b\b\b\b\b 44% 45512 - images/frozen_yogurt/22771.jpg\b\b\b\b\b\b\b\b\b\b\b\b\b\b\b\b\b\b\b\b\b\b\b\b\b\b\b\b\b\b\b\b\b\b\b\b\b\b\b\b\b\b\b                                           \b\b\b\b\b\b\b\b\b\b\b\b\b\b\b\b\b\b\b\b\b\b\b\b\b\b\b\b\b\b\b\b\b\b\b\b\b\b\b\b\b\b\b 44% 45614 - images/frozen_yogurt/2573638.jpg\b\b\b\b\b\b\b\b\b\b\b\b\b\b\b\b\b\b\b\b\b\b\b\b\b\b\b\b\b\b\b\b\b\b\b\b\b\b\b\b\b\b\b\b\b                                             \b\b\b\b\b\b\b\b\b\b\b\b\b\b\b\b\b\b\b\b\b\b\b\b\b\b\b\b\b\b\b\b\b\b\b\b\b\b\b\b\b\b\b\b\b 44% 45711 - images/frozen_yogurt/3173900.jpg\b\b\b\b\b\b\b\b\b\b\b\b\b\b\b\b\b\b\b\b\b\b\b\b\b\b\b\b\b\b\b\b\b\b\b\b\b\b\b\b\b\b\b\b\b                                             \b\b\b\b\b\b\b\b\b\b\b\b\b\b\b\b\b\b\b\b\b\b\b\b\b\b\b\b\b\b\b\b\b\b\b\b\b\b\b\b\b\b\b\b\b 44% 45718 - images/frozen_yogurt/3212996.jpg\b\b\b\b\b\b\b\b\b\b\b\b\b\b\b\b\b\b\b\b\b\b\b\b\b\b\b\b\b\b\b\b\b\b\b\b\b\b\b\b\b\b\b\b\b                                             \b\b\b\b\b\b\b\b\b\b\b\b\b\b\b\b\b\b\b\b\b\b\b\b\b\b\b\b\b\b\b\b\b\b\b\b\b\b\b\b\b\b\b\b\b 44% 45815 - images/frozen_yogurt/37025.jpg\b\b\b\b\b\b\b\b\b\b\b\b\b\b\b\b\b\b\b\b\b\b\b\b\b\b\b\b\b\b\b\b\b\b\b\b\b\b\b\b\b\b\b                                           \b\b\b\b\b\b\b\b\b\b\b\b\b\b\b\b\b\b\b\b\b\b\b\b\b\b\b\b\b\b\b\b\b\b\b\b\b\b\b\b\b\b\b 44% 45914 - images/frozen_yogurt/492846.jpg\b\b\b\b\b\b\b\b\b\b\b\b\b\b\b\b\b\b\b\b\b\b\b\b\b\b\b\b\b\b\b\b\b\b\b\b\b\b\b\b\b\b\b\b                                            \b\b\b\b\b\b\b\b\b\b\b\b\b\b\b\b\b\b\b\b\b\b\b\b\b\b\b\b\b\b\b\b\b\b\b\b\b\b\b\b\b\b\b\b 44% 45915 - images/frozen_yogurt/494306.jpg\b\b\b\b\b\b\b\b\b\b\b\b\b\b\b\b\b\b\b\b\b\b\b\b\b\b\b\b\b\b\b\b\b\b\b\b\b\b\b\b\b\b\b\b                                            \b\b\b\b\b\b\b\b\b\b\b\b\b\b\b\b\b\b\b\b\b\b\b\b\b\b\b\b\b\b\b\b\b\b\b\b\b\b\b\b\b\b\b\b 45% 46013 - images/frozen_yogurt/710900.jpg\b\b\b\b\b\b\b\b\b\b\b\b\b\b\b\b\b\b\b\b\b\b\b\b\b\b\b\b\b\b\b\b\b\b\b\b\b\b\b\b\b\b\b\b                                            \b\b\b\b\b\b\b\b\b\b\b\b\b\b\b\b\b\b\b\b\b\b\b\b\b\b\b\b\b\b\b\b\b\b\b\b\b\b\b\b\b\b\b\b 45% 46114 - images/garlic_bread/1056113.jpg\b\b\b\b\b\b\b\b\b\b\b\b\b\b\b\b\b\b\b\b\b\b\b\b\b\b\b\b\b\b\b\b\b\b\b\b\b\b\b\b\b\b\b\b                                            \b\b\b\b\b\b\b\b\b\b\b\b\b\b\b\b\b\b\b\b\b\b\b\b\b\b\b\b\b\b\b\b\b\b\b\b\b\b\b\b\b\b\b\b 45% 46195 - images/garlic_bread/1379499.jpg\b\b\b\b\b\b\b\b\b\b\b\b\b\b\b\b\b\b\b\b\b\b\b\b\b\b\b\b\b\b\b\b\b\b\b\b\b\b\b\b\b\b\b\b                                            \b\b\b\b\b\b\b\b\b\b\b\b\b\b\b\b\b\b\b\b\b\b\b\b\b\b\b\b\b\b\b\b\b\b\b\b\b\b\b\b\b\b\b\b 45% 46275 - images/garlic_bread/1790120.jpg\b\b\b\b\b\b\b\b\b\b\b\b\b\b\b\b\b\b\b\b\b\b\b\b\b\b\b\b\b\b\b\b\b\b\b\b\b\b\b\b\b\b\b\b                                            \b\b\b\b\b\b\b\b\b\b\b\b\b\b\b\b\b\b\b\b\b\b\b\b\b\b\b\b\b\b\b\b\b\b\b\b\b\b\b\b\b\b\b\b 45% 46276 - images/garlic_bread/1791661.jpg\b\b\b\b\b\b\b\b\b\b\b\b\b\b\b\b\b\b\b\b\b\b\b\b\b\b\b\b\b\b\b\b\b\b\b\b\b\b\b\b\b\b\b\b                                            \b\b\b\b\b\b\b\b\b\b\b\b\b\b\b\b\b\b\b\b\b\b\b\b\b\b\b\b\b\b\b\b\b\b\b\b\b\b\b\b\b\b\b\b 45% 46357 - images/garlic_bread/2032944.jpg\b\b\b\b\b\b\b\b\b\b\b\b\b\b\b\b\b\b\b\b\b\b\b\b\b\b\b\b\b\b\b\b\b\b\b\b\b\b\b\b\b\b\b\b                                            \b\b\b\b\b\b\b\b\b\b\b\b\b\b\b\b\b\b\b\b\b\b\b\b\b\b\b\b\b\b\b\b\b\b\b\b\b\b\b\b\b\b\b\b 45% 46440 - images/garlic_bread/2286153.jpg\b\b\b\b\b\b\b\b\b\b\b\b\b\b\b\b\b\b\b\b\b\b\b\b\b\b\b\b\b\b\b\b\b\b\b\b\b\b\b\b\b\b\b\b                                            \b\b\b\b\b\b\b\b\b\b\b\b\b\b\b\b\b\b\b\b\b\b\b\b\b\b\b\b\b\b\b\b\b\b\b\b\b\b\b\b\b\b\b\b 45% 46522 - images/garlic_bread/2518621.jpg\b\b\b\b\b\b\b\b\b\b\b\b\b\b\b\b\b\b\b\b\b\b\b\b\b\b\b\b\b\b\b\b\b\b\b\b\b\b\b\b\b\b\b\b                                            \b\b\b\b\b\b\b\b\b\b\b\b\b\b\b\b\b\b\b\b\b\b\b\b\b\b\b\b\b\b\b\b\b\b\b\b\b\b\b\b\b\b\b\b 45% 46523 - images/garlic_bread/2520418.jpg\b\b\b\b\b\b\b\b\b\b\b\b\b\b\b\b\b\b\b\b\b\b\b\b\b\b\b\b\b\b\b\b\b\b\b\b\b\b\b\b\b\b\b\b                                            \b\b\b\b\b\b\b\b\b\b\b\b\b\b\b\b\b\b\b\b\b\b\b\b\b\b\b\b\b\b\b\b\b\b\b\b\b\b\b\b\b\b\b\b 45% 46607 - images/garlic_bread/2837389.jpg\b\b\b\b\b\b\b\b\b\b\b\b\b\b\b\b\b\b\b\b\b\b\b\b\b\b\b\b\b\b\b\b\b\b\b\b\b\b\b\b\b\b\b\b                                            \b\b\b\b\b\b\b\b\b\b\b\b\b\b\b\b\b\b\b\b\b\b\b\b\b\b\b\b\b\b\b\b\b\b\b\b\b\b\b\b\b\b\b\b 45% 46687 - images/garlic_bread/3059518.jpg\b\b\b\b\b\b\b\b\b\b\b\b\b\b\b\b\b\b\b\b\b\b\b\b\b\b\b\b\b\b\b\b\b\b\b\b\b\b\b\b\b\b\b\b                                            \b\b\b\b\b\b\b\b\b\b\b\b\b\b\b\b\b\b\b\b\b\b\b\b\b\b\b\b\b\b\b\b\b\b\b\b\b\b\b\b\b\b\b\b 45% 46768 - images/garlic_bread/3347915.jpg\b\b\b\b\b\b\b\b\b\b\b\b\b\b\b\b\b\b\b\b\b\b\b\b\b\b\b\b\b\b\b\b\b\b\b\b\b\b\b\b\b\b\b\b                                            \b\b\b\b\b\b\b\b\b\b\b\b\b\b\b\b\b\b\b\b\b\b\b\b\b\b\b\b\b\b\b\b\b\b\b\b\b\b\b\b\b\b\b\b 45% 46789 - images/garlic_bread/3406896.jpg\b\b\b\b\b\b\b\b\b\b\b\b\b\b\b\b\b\b\b\b\b\b\b\b\b\b\b\b\b\b\b\b\b\b\b\b\b\b\b\b\b\b\b\b                                            \b\b\b\b\b\b\b\b\b\b\b\b\b\b\b\b\b\b\b\b\b\b\b\b\b\b\b\b\b\b\b\b\b\b\b\b\b\b\b\b\b\b\b\b 45% 46847 - images/garlic_bread/3599255.jpg\b\b\b\b\b\b\b\b\b\b\b\b\b\b\b\b\b\b\b\b\b\b\b\b\b\b\b\b\b\b\b\b\b\b\b\b\b\b\b\b\b\b\b\b                                            \b\b\b\b\b\b\b\b\b\b\b\b\b\b\b\b\b\b\b\b\b\b\b\b\b\b\b\b\b\b\b\b\b\b\b\b\b\b\b\b\b\b\b\b 45% 46926 - images/garlic_bread/3827552.jpg\b\b\b\b\b\b\b\b\b\b\b\b\b\b\b\b\b\b\b\b\b\b\b\b\b\b\b\b\b\b\b\b\b\b\b\b\b\b\b\b\b\b\b\b                                            \b\b\b\b\b\b\b\b\b\b\b\b\b\b\b\b\b\b\b\b\b\b\b\b\b\b\b\b\b\b\b\b\b\b\b\b\b\b\b\b\b\b\b\b 45% 46952 - images/garlic_bread/395376.jpg\b\b\b\b\b\b\b\b\b\b\b\b\b\b\b\b\b\b\b\b\b\b\b\b\b\b\b\b\b\b\b\b\b\b\b\b\b\b\b\b\b\b\b                                           \b\b\b\b\b\b\b\b\b\b\b\b\b\b\b\b\b\b\b\b\b\b\b\b\b\b\b\b\b\b\b\b\b\b\b\b\b\b\b\b\b\b\b 46% 47004 - images/garlic_bread/636889.jpg\b\b\b\b\b\b\b\b\b\b\b\b\b\b\b\b\b\b\b\b\b\b\b\b\b\b\b\b\b\b\b\b\b\b\b\b\b\b\b\b\b\b\b                                           \b\b\b\b\b\b\b\b\b\b\b\b\b\b\b\b\b\b\b\b\b\b\b\b\b\b\b\b\b\b\b\b\b\b\b\b\b\b\b\b\b\b\b 46% 47086 - images/garlic_bread/959926.jpg\b\b\b\b\b\b\b\b\b\b\b\b\b\b\b\b\b\b\b\b\b\b\b\b\b\b\b\b\b\b\b\b\b\b\b\b\b\b\b\b\b\b\b                                           \b\b\b\b\b\b\b\b\b\b\b\b\b\b\b\b\b\b\b\b\b\b\b\b\b\b\b\b\b\b\b\b\b\b\b\b\b\b\b\b\b\b\b 46% 47171 - images/gnocchi/1255571.jpg\b\b\b\b\b\b\b\b\b\b\b\b\b\b\b\b\b\b\b\b\b\b\b\b\b\b\b\b\b\b\b\b\b\b\b\b\b\b\b                                       \b\b\b\b\b\b\b\b\b\b\b\b\b\b\b\b\b\b\b\b\b\b\b\b\b\b\b\b\b\b\b\b\b\b\b\b\b\b\b 46% 47185 - images/gnocchi/1319327.jpg\b\b\b\b\b\b\b\b\b\b\b\b\b\b\b\b\b\b\b\b\b\b\b\b\b\b\b\b\b\b\b\b\b\b\b\b\b\b\b                                       \b\b\b\b\b\b\b\b\b\b\b\b\b\b\b\b\b\b\b\b\b\b\b\b\b\b\b\b\b\b\b\b\b\b\b\b\b\b\b 46% 47257 - images/gnocchi/1566665.jpg\b\b\b\b\b\b\b\b\b\b\b\b\b\b\b\b\b\b\b\b\b\b\b\b\b\b\b\b\b\b\b\b\b\b\b\b\b\b\b                                       \b\b\b\b\b\b\b\b\b\b\b\b\b\b\b\b\b\b\b\b\b\b\b\b\b\b\b\b\b\b\b\b\b\b\b\b\b\b\b 46% 47340 - images/gnocchi/1880761.jpg\b\b\b\b\b\b\b\b\b\b\b\b\b\b\b\b\b\b\b\b\b\b\b\b\b\b\b\b\b\b\b\b\b\b\b\b\b\b\b                                       \b\b\b\b\b\b\b\b\b\b\b\b\b\b\b\b\b\b\b\b\b\b\b\b\b\b\b\b\b\b\b\b\b\b\b\b\b\b\b 46% 47421 - images/gnocchi/2224811.jpg\b\b\b\b\b\b\b\b\b\b\b\b\b\b\b\b\b\b\b\b\b\b\b\b\b\b\b\b\b\b\b\b\b\b\b\b\b\b\b                                       \b\b\b\b\b\b\b\b\b\b\b\b\b\b\b\b\b\b\b\b\b\b\b\b\b\b\b\b\b\b\b\b\b\b\b\b\b\b\b 46% 47505 - images/gnocchi/2595566.jpg\b\b\b\b\b\b\b\b\b\b\b\b\b\b\b\b\b\b\b\b\b\b\b\b\b\b\b\b\b\b\b\b\b\b\b\b\b\b\b                                       \b\b\b\b\b\b\b\b\b\b\b\b\b\b\b\b\b\b\b\b\b\b\b\b\b\b\b\b\b\b\b\b\b\b\b\b\b\b\b 46% 47506 - images/gnocchi/2595960.jpg\b\b\b\b\b\b\b\b\b\b\b\b\b\b\b\b\b\b\b\b\b\b\b\b\b\b\b\b\b\b\b\b\b\b\b\b\b\b\b                                       \b\b\b\b\b\b\b\b\b\b\b\b\b\b\b\b\b\b\b\b\b\b\b\b\b\b\b\b\b\b\b\b\b\b\b\b\b\b\b 46% 47590 - images/gnocchi/2944708.jpg\b\b\b\b\b\b\b\b\b\b\b\b\b\b\b\b\b\b\b\b\b\b\b\b\b\b\b\b\b\b\b\b\b\b\b\b\b\b\b                                       \b\b\b\b\b\b\b\b\b\b\b\b\b\b\b\b\b\b\b\b\b\b\b\b\b\b\b\b\b\b\b\b\b\b\b\b\b\b\b 46% 47675 - images/gnocchi/3229968.jpg\b\b\b\b\b\b\b\b\b\b\b\b\b\b\b\b\b\b\b\b\b\b\b\b\b\b\b\b\b\b\b\b\b\b\b\b\b\b\b                                       \b\b\b\b\b\b\b\b\b\b\b\b\b\b\b\b\b\b\b\b\b\b\b\b\b\b\b\b\b\b\b\b\b\b\b\b\b\b\b 46% 47764 - images/gnocchi/3475976.jpg\b\b\b\b\b\b\b\b\b\b\b\b\b\b\b\b\b\b\b\b\b\b\b\b\b\b\b\b\b\b\b\b\b\b\b\b\b\b\b                                       \b\b\b\b\b\b\b\b\b\b\b\b\b\b\b\b\b\b\b\b\b\b\b\b\b\b\b\b\b\b\b\b\b\b\b\b\b\b\b 46% 47766 - images/gnocchi/3476736.jpg\b\b\b\b\b\b\b\b\b\b\b\b\b\b\b\b\b\b\b\b\b\b\b\b\b\b\b\b\b\b\b\b\b\b\b\b\b\b\b                                       \b\b\b\b\b\b\b\b\b\b\b\b\b\b\b\b\b\b\b\b\b\b\b\b\b\b\b\b\b\b\b\b\b\b\b\b\b\b\b 46% 47850 - images/gnocchi/3757044.jpg\b\b\b\b\b\b\b\b\b\b\b\b\b\b\b\b\b\b\b\b\b\b\b\b\b\b\b\b\b\b\b\b\b\b\b\b\b\b\b                                       \b\b\b\b\b\b\b\b\b\b\b\b\b\b\b\b\b\b\b\b\b\b\b\b\b\b\b\b\b\b\b\b\b\b\b\b\b\b\b 46% 47941 - images/gnocchi/52104.jpg\b\b\b\b\b\b\b\b\b\b\b\b\b\b\b\b\b\b\b\b\b\b\b\b\b\b\b\b\b\b\b\b\b\b\b\b\b                                     \b\b\b\b\b\b\b\b\b\b\b\b\b\b\b\b\b\b\b\b\b\b\b\b\b\b\b\b\b\b\b\b\b\b\b\b\b 47% 48024 - images/gnocchi/755767.jpg\b\b\b\b\b\b\b\b\b\b\b\b\b\b\b\b\b\b\b\b\b\b\b\b\b\b\b\b\b\b\b\b\b\b\b\b\b\b                                      \b\b\b\b\b\b\b\b\b\b\b\b\b\b\b\b\b\b\b\b\b\b\b\b\b\b\b\b\b\b\b\b\b\b\b\b\b\b 47% 48104 - images/greek_salad/1010520.jpg\b\b\b\b\b\b\b\b\b\b\b\b\b\b\b\b\b\b\b\b\b\b\b\b\b\b\b\b\b\b\b\b\b\b\b\b\b\b\b\b\b\b\b                                           \b\b\b\b\b\b\b\b\b\b\b\b\b\b\b\b\b\b\b\b\b\b\b\b\b\b\b\b\b\b\b\b\b\b\b\b\b\b\b\b\b\b\b 47% 48105 - images/greek_salad/1010850.jpg\b\b\b\b\b\b\b\b\b\b\b\b\b\b\b\b\b\b\b\b\b\b\b\b\b\b\b\b\b\b\b\b\b\b\b\b\b\b\b\b\b\b\b                                           \b\b\b\b\b\b\b\b\b\b\b\b\b\b\b\b\b\b\b\b\b\b\b\b\b\b\b\b\b\b\b\b\b\b\b\b\b\b\b\b\b\b\b 47% 48181 - images/greek_salad/1330306.jpg\b\b\b\b\b\b\b\b\b\b\b\b\b\b\b\b\b\b\b\b\b\b\b\b\b\b\b\b\b\b\b\b\b\b\b\b\b\b\b\b\b\b\b                                           \b\b\b\b\b\b\b\b\b\b\b\b\b\b\b\b\b\b\b\b\b\b\b\b\b\b\b\b\b\b\b\b\b\b\b\b\b\b\b\b\b\b\b 47% 48252 - images/greek_salad/1629929.jpg\b\b\b\b\b\b\b\b\b\b\b\b\b\b\b\b\b\b\b\b\b\b\b\b\b\b\b\b\b\b\b\b\b\b\b\b\b\b\b\b\b\b\b                                           \b\b\b\b\b\b\b\b\b\b\b\b\b\b\b\b\b\b\b\b\b\b\b\b\b\b\b\b\b\b\b\b\b\b\b\b\b\b\b\b\b\b\b 47% 48325 - images/greek_salad/1872441.jpg\b\b\b\b\b\b\b\b\b\b\b\b\b\b\b\b\b\b\b\b\b\b\b\b\b\b\b\b\b\b\b\b\b\b\b\b\b\b\b\b\b\b\b                                           \b\b\b\b\b\b\b\b\b\b\b\b\b\b\b\b\b\b\b\b\b\b\b\b\b\b\b\b\b\b\b\b\b\b\b\b\b\b\b\b\b\b\b 47% 48399 - images/greek_salad/2125739.jpg\b\b\b\b\b\b\b\b\b\b\b\b\b\b\b\b\b\b\b\b\b\b\b\b\b\b\b\b\b\b\b\b\b\b\b\b\b\b\b\b\b\b\b                                           \b\b\b\b\b\b\b\b\b\b\b\b\b\b\b\b\b\b\b\b\b\b\b\b\b\b\b\b\b\b\b\b\b\b\b\b\b\b\b\b\b\b\b 47% 48472 - images/greek_salad/2333736.jpg\b\b\b\b\b\b\b\b\b\b\b\b\b\b\b\b\b\b\b\b\b\b\b\b\b\b\b\b\b\b\b\b\b\b\b\b\b\b\b\b\b\b\b                                           \b\b\b\b\b\b\b\b\b\b\b\b\b\b\b\b\b\b\b\b\b\b\b\b\b\b\b\b\b\b\b\b\b\b\b\b\b\b\b\b\b\b\b 47% 48473 - images/greek_salad/2336311.jpg\b\b\b\b\b\b\b\b\b\b\b\b\b\b\b\b\b\b\b\b\b\b\b\b\b\b\b\b\b\b\b\b\b\b\b\b\b\b\b\b\b\b\b                                           \b\b\b\b\b\b\b\b\b\b\b\b\b\b\b\b\b\b\b\b\b\b\b\b\b\b\b\b\b\b\b\b\b\b\b\b\b\b\b\b\b\b\b 47% 48545 - images/greek_salad/2614616.jpg\b\b\b\b\b\b\b\b\b\b\b\b\b\b\b\b\b\b\b\b\b\b\b\b\b\b\b\b\b\b\b\b\b\b\b\b\b\b\b\b\b\b\b                                           \b\b\b\b\b\b\b\b\b\b\b\b\b\b\b\b\b\b\b\b\b\b\b\b\b\b\b\b\b\b\b\b\b\b\b\b\b\b\b\b\b\b\b 47% 48626 - images/greek_salad/2949322.jpg\b\b\b\b\b\b\b\b\b\b\b\b\b\b\b\b\b\b\b\b\b\b\b\b\b\b\b\b\b\b\b\b\b\b\b\b\b\b\b\b\b\b\b                                           \b\b\b\b\b\b\b\b\b\b\b\b\b\b\b\b\b\b\b\b\b\b\b\b\b\b\b\b\b\b\b\b\b\b\b\b\b\b\b\b\b\b\b 47% 48700 - images/greek_salad/3272361.jpg\b\b\b\b\b\b\b\b\b\b\b\b\b\b\b\b\b\b\b\b\b\b\b\b\b\b\b\b\b\b\b\b\b\b\b\b\b\b\b\b\b\b\b                                           \b\b\b\b\b\b\b\b\b\b\b\b\b\b\b\b\b\b\b\b\b\b\b\b\b\b\b\b\b\b\b\b\b\b\b\b\b\b\b\b\b\b\b 47% 48701 - images/greek_salad/3280392.jpg\b\b\b\b\b\b\b\b\b\b\b\b\b\b\b\b\b\b\b\b\b\b\b\b\b\b\b\b\b\b\b\b\b\b\b\b\b\b\b\b\b\b\b                                           \b\b\b\b\b\b\b\b\b\b\b\b\b\b\b\b\b\b\b\b\b\b\b\b\b\b\b\b\b\b\b\b\b\b\b\b\b\b\b\b\b\b\b 47% 48776 - images/greek_salad/3525898.jpg\b\b\b\b\b\b\b\b\b\b\b\b\b\b\b\b\b\b\b\b\b\b\b\b\b\b\b\b\b\b\b\b\b\b\b\b\b\b\b\b\b\b\b                                           \b\b\b\b\b\b\b\b\b\b\b\b\b\b\b\b\b\b\b\b\b\b\b\b\b\b\b\b\b\b\b\b\b\b\b\b\b\b\b\b\b\b\b 47% 48853 - images/greek_salad/3733994.jpg\b\b\b\b\b\b\b\b\b\b\b\b\b\b\b\b\b\b\b\b\b\b\b\b\b\b\b\b\b\b\b\b\b\b\b\b\b\b\b\b\b\b\b                                           \b\b\b\b\b\b\b\b\b\b\b\b\b\b\b\b\b\b\b\b\b\b\b\b\b\b\b\b\b\b\b\b\b\b\b\b\b\b\b\b\b\b\b 47% 48931 - images/greek_salad/442125.jpg\b\b\b\b\b\b\b\b\b\b\b\b\b\b\b\b\b\b\b\b\b\b\b\b\b\b\b\b\b\b\b\b\b\b\b\b\b\b\b\b\b\b                                          \b\b\b\b\b\b\b\b\b\b\b\b\b\b\b\b\b\b\b\b\b\b\b\b\b\b\b\b\b\b\b\b\b\b\b\b\b\b\b\b\b\b 48% 48977 - images/greek_salad/593799.jpg\b\b\b\b\b\b\b\b\b\b\b\b\b\b\b\b\b\b\b\b\b\b\b\b\b\b\b\b\b\b\b\b\b\b\b\b\b\b\b\b\b\b                                          \b\b\b\b\b\b\b\b\b\b\b\b\b\b\b\b\b\b\b\b\b\b\b\b\b\b\b\b\b\b\b\b\b\b\b\b\b\b\b\b\b\b 48% 49006 - images/greek_salad/68852.jpg\b\b\b\b\b\b\b\b\b\b\b\b\b\b\b\b\b\b\b\b\b\b\b\b\b\b\b\b\b\b\b\b\b\b\b\b\b\b\b\b\b                                         \b\b\b\b\b\b\b\b\b\b\b\b\b\b\b\b\b\b\b\b\b\b\b\b\b\b\b\b\b\b\b\b\b\b\b\b\b\b\b\b\b 48% 49081 - images/greek_salad/918214.jpg\b\b\b\b\b\b\b\b\b\b\b\b\b\b\b\b\b\b\b\b\b\b\b\b\b\b\b\b\b\b\b\b\b\b\b\b\b\b\b\b\b\b                                          \b\b\b\b\b\b\b\b\b\b\b\b\b\b\b\b\b\b\b\b\b\b\b\b\b\b\b\b\b\b\b\b\b\b\b\b\b\b\b\b\b\b 48% 49157 - images/grilled_cheese_sandwich/1123368.jpg\b\b\b\b\b\b\b\b\b\b\b\b\b\b\b\b\b\b\b\b\b\b\b\b\b\b\b\b\b\b\b\b\b\b\b\b\b\b\b\b\b\b\b\b\b\b\b\b\b\b\b\b\b\b\b                                                       \b\b\b\b\b\b\b\b\b\b\b\b\b\b\b\b\b\b\b\b\b\b\b\b\b\b\b\b\b\b\b\b\b\b\b\b\b\b\b\b\b\b\b\b\b\b\b\b\b\b\b\b\b\b\b 48% 49237 - images/grilled_cheese_sandwich/1426687.jpg\b\b\b\b\b\b\b\b\b\b\b\b\b\b\b\b\b\b\b\b\b\b\b\b\b\b\b\b\b\b\b\b\b\b\b\b\b\b\b\b\b\b\b\b\b\b\b\b\b\b\b\b\b\b\b                                                       \b\b\b\b\b\b\b\b\b\b\b\b\b\b\b\b\b\b\b\b\b\b\b\b\b\b\b\b\b\b\b\b\b\b\b\b\b\b\b\b\b\b\b\b\b\b\b\b\b\b\b\b\b\b\b 48% 49238 - images/grilled_cheese_sandwich/1440720.jpg\b\b\b\b\b\b\b\b\b\b\b\b\b\b\b\b\b\b\b\b\b\b\b\b\b\b\b\b\b\b\b\b\b\b\b\b\b\b\b\b\b\b\b\b\b\b\b\b\b\b\b\b\b\b\b                                                       \b\b\b\b\b\b\b\b\b\b\b\b\b\b\b\b\b\b\b\b\b\b\b\b\b\b\b\b\b\b\b\b\b\b\b\b\b\b\b\b\b\b\b\b\b\b\b\b\b\b\b\b\b\b\b 48% 49315 - images/grilled_cheese_sandwich/1717682.jpg\b\b\b\b\b\b\b\b\b\b\b\b\b\b\b\b\b\b\b\b\b\b\b\b\b\b\b\b\b\b\b\b\b\b\b\b\b\b\b\b\b\b\b\b\b\b\b\b\b\b\b\b\b\b\b                                                       \b\b\b\b\b\b\b\b\b\b\b\b\b\b\b\b\b\b\b\b\b\b\b\b\b\b\b\b\b\b\b\b\b\b\b\b\b\b\b\b\b\b\b\b\b\b\b\b\b\b\b\b\b\b\b 48% 49395 - images/grilled_cheese_sandwich/19302.jpg\b\b\b\b\b\b\b\b\b\b\b\b\b\b\b\b\b\b\b\b\b\b\b\b\b\b\b\b\b\b\b\b\b\b\b\b\b\b\b\b\b\b\b\b\b\b\b\b\b\b\b\b\b                                                     \b\b\b\b\b\b\b\b\b\b\b\b\b\b\b\b\b\b\b\b\b\b\b\b\b\b\b\b\b\b\b\b\b\b\b\b\b\b\b\b\b\b\b\b\b\b\b\b\b\b\b\b\b 48% 49478 - images/grilled_cheese_sandwich/2221173.jpg\b\b\b\b\b\b\b\b\b\b\b\b\b\b\b\b\b\b\b\b\b\b\b\b\b\b\b\b\b\b\b\b\b\b\b\b\b\b\b\b\b\b\b\b\b\b\b\b\b\b\b\b\b\b\b                                                       \b\b\b\b\b\b\b\b\b\b\b\b\b\b\b\b\b\b\b\b\b\b\b\b\b\b\b\b\b\b\b\b\b\b\b\b\b\b\b\b\b\b\b\b\b\b\b\b\b\b\b\b\b\b\b 48% 49558 - images/grilled_cheese_sandwich/25720.jpg\b\b\b\b\b\b\b\b\b\b\b\b\b\b\b\b\b\b\b\b\b\b\b\b\b\b\b\b\b\b\b\b\b\b\b\b\b\b\b\b\b\b\b\b\b\b\b\b\b\b\b\b\b                                                     \b\b\b\b\b\b\b\b\b\b\b\b\b\b\b\b\b\b\b\b\b\b\b\b\b\b\b\b\b\b\b\b\b\b\b\b\b\b\b\b\b\b\b\b\b\b\b\b\b\b\b\b\b 48% 49600 - images/grilled_cheese_sandwich/2733676.jpg\b\b\b\b\b\b\b\b\b\b\b\b\b\b\b\b\b\b\b\b\b\b\b\b\b\b\b\b\b\b\b\b\b\b\b\b\b\b\b\b\b\b\b\b\b\b\b\b\b\b\b\b\b\b\b                                                       \b\b\b\b\b\b\b\b\b\b\b\b\b\b\b\b\b\b\b\b\b\b\b\b\b\b\b\b\b\b\b\b\b\b\b\b\b\b\b\b\b\b\b\b\b\b\b\b\b\b\b\b\b\b\b 48% 49638 - images/grilled_cheese_sandwich/2847586.jpg\b\b\b\b\b\b\b\b\b\b\b\b\b\b\b\b\b\b\b\b\b\b\b\b\b\b\b\b\b\b\b\b\b\b\b\b\b\b\b\b\b\b\b\b\b\b\b\b\b\b\b\b\b\b\b                                                       \b\b\b\b\b\b\b\b\b\b\b\b\b\b\b\b\b\b\b\b\b\b\b\b\b\b\b\b\b\b\b\b\b\b\b\b\b\b\b\b\b\b\b\b\b\b\b\b\b\b\b\b\b\b\b 48% 49719 - images/grilled_cheese_sandwich/3207469.jpg\b\b\b\b\b\b\b\b\b\b\b\b\b\b\b\b\b\b\b\b\b\b\b\b\b\b\b\b\b\b\b\b\b\b\b\b\b\b\b\b\b\b\b\b\b\b\b\b\b\b\b\b\b\b\b                                                       \b\b\b\b\b\b\b\b\b\b\b\b\b\b\b\b\b\b\b\b\b\b\b\b\b\b\b\b\b\b\b\b\b\b\b\b\b\b\b\b\b\b\b\b\b\b\b\b\b\b\b\b\b\b\b 48% 49802 - images/grilled_cheese_sandwich/3758969.jpg\b\b\b\b\b\b\b\b\b\b\b\b\b\b\b\b\b\b\b\b\b\b\b\b\b\b\b\b\b\b\b\b\b\b\b\b\b\b\b\b\b\b\b\b\b\b\b\b\b\b\b\b\b\b\b                                                       \b\b\b\b\b\b\b\b\b\b\b\b\b\b\b\b\b\b\b\b\b\b\b\b\b\b\b\b\b\b\b\b\b\b\b\b\b\b\b\b\b\b\b\b\b\b\b\b\b\b\b\b\b\b\b 48% 49803 - images/grilled_cheese_sandwich/3768276.jpg\b\b\b\b\b\b\b\b\b\b\b\b\b\b\b\b\b\b\b\b\b\b\b\b\b\b\b\b\b\b\b\b\b\b\b\b\b\b\b\b\b\b\b\b\b\b\b\b\b\b\b\b\b\b\b                                                       \b\b\b\b\b\b\b\b\b\b\b\b\b\b\b\b\b\b\b\b\b\b\b\b\b\b\b\b\b\b\b\b\b\b\b\b\b\b\b\b\b\b\b\b\b\b\b\b\b\b\b\b\b\b\b 48% 49888 - images/grilled_cheese_sandwich/548994.jpg\b\b\b\b\b\b\b\b\b\b\b\b\b\b\b\b\b\b\b\b\b\b\b\b\b\b\b\b\b\b\b\b\b\b\b\b\b\b\b\b\b\b\b\b\b\b\b\b\b\b\b\b\b\b                                                      \b\b\b\b\b\b\b\b\b\b\b\b\b\b\b\b\b\b\b\b\b\b\b\b\b\b\b\b\b\b\b\b\b\b\b\b\b\b\b\b\b\b\b\b\b\b\b\b\b\b\b\b\b\b 49% 49968 - images/grilled_cheese_sandwich/684311.jpg\b\b\b\b\b\b\b\b\b\b\b\b\b\b\b\b\b\b\b\b\b\b\b\b\b\b\b\b\b\b\b\b\b\b\b\b\b\b\b\b\b\b\b\b\b\b\b\b\b\b\b\b\b\b                                                      \b\b\b\b\b\b\b\b\b\b\b\b\b\b\b\b\b\b\b\b\b\b\b\b\b\b\b\b\b\b\b\b\b\b\b\b\b\b\b\b\b\b\b\b\b\b\b\b\b\b\b\b\b\b 49% 50038 - images/grilled_cheese_sandwich/827045.jpg\b\b\b\b\b\b\b\b\b\b\b\b\b\b\b\b\b\b\b\b\b\b\b\b\b\b\b\b\b\b\b\b\b\b\b\b\b\b\b\b\b\b\b\b\b\b\b\b\b\b\b\b\b\b                                                      \b\b\b\b\b\b\b\b\b\b\b\b\b\b\b\b\b\b\b\b\b\b\b\b\b\b\b\b\b\b\b\b\b\b\b\b\b\b\b\b\b\b\b\b\b\b\b\b\b\b\b\b\b\b 49% 50043 - images/grilled_cheese_sandwich/835582.jpg\b\b\b\b\b\b\b\b\b\b\b\b\b\b\b\b\b\b\b\b\b\b\b\b\b\b\b\b\b\b\b\b\b\b\b\b\b\b\b\b\b\b\b\b\b\b\b\b\b\b\b\b\b\b                                                      \b\b\b\b\b\b\b\b\b\b\b\b\b\b\b\b\b\b\b\b\b\b\b\b\b\b\b\b\b\b\b\b\b\b\b\b\b\b\b\b\b\b\b\b\b\b\b\b\b\b\b\b\b\b 49% 50116 - images/grilled_salmon/1081169.jpg\b\b\b\b\b\b\b\b\b\b\b\b\b\b\b\b\b\b\b\b\b\b\b\b\b\b\b\b\b\b\b\b\b\b\b\b\b\b\b\b\b\b\b\b\b\b                                              \b\b\b\b\b\b\b\b\b\b\b\b\b\b\b\b\b\b\b\b\b\b\b\b\b\b\b\b\b\b\b\b\b\b\b\b\b\b\b\b\b\b\b\b\b\b 49% 50195 - images/grilled_salmon/1417472.jpg\b\b\b\b\b\b\b\b\b\b\b\b\b\b\b\b\b\b\b\b\b\b\b\b\b\b\b\b\b\b\b\b\b\b\b\b\b\b\b\b\b\b\b\b\b\b                                              \b\b\b\b\b\b\b\b\b\b\b\b\b\b\b\b\b\b\b\b\b\b\b\b\b\b\b\b\b\b\b\b\b\b\b\b\b\b\b\b\b\b\b\b\b\b 49% 50275 - images/grilled_salmon/1717946.jpg\b\b\b\b\b\b\b\b\b\b\b\b\b\b\b\b\b\b\b\b\b\b\b\b\b\b\b\b\b\b\b\b\b\b\b\b\b\b\b\b\b\b\b\b\b\b                                              \b\b\b\b\b\b\b\b\b\b\b\b\b\b\b\b\b\b\b\b\b\b\b\b\b\b\b\b\b\b\b\b\b\b\b\b\b\b\b\b\b\b\b\b\b\b 49% 50359 - images/grilled_salmon/1956316.jpg\b\b\b\b\b\b\b\b\b\b\b\b\b\b\b\b\b\b\b\b\b\b\b\b\b\b\b\b\b\b\b\b\b\b\b\b\b\b\b\b\b\b\b\b\b\b                                              \b\b\b\b\b\b\b\b\b\b\b\b\b\b\b\b\b\b\b\b\b\b\b\b\b\b\b\b\b\b\b\b\b\b\b\b\b\b\b\b\b\b\b\b\b\b 49% 50360 - images/grilled_salmon/1959258.jpg\b\b\b\b\b\b\b\b\b\b\b\b\b\b\b\b\b\b\b\b\b\b\b\b\b\b\b\b\b\b\b\b\b\b\b\b\b\b\b\b\b\b\b\b\b\b                                              \b\b\b\b\b\b\b\b\b\b\b\b\b\b\b\b\b\b\b\b\b\b\b\b\b\b\b\b\b\b\b\b\b\b\b\b\b\b\b\b\b\b\b\b\b\b 49% 50438 - images/grilled_salmon/221468.jpg\b\b\b\b\b\b\b\b\b\b\b\b\b\b\b\b\b\b\b\b\b\b\b\b\b\b\b\b\b\b\b\b\b\b\b\b\b\b\b\b\b\b\b\b\b                                             \b\b\b\b\b\b\b\b\b\b\b\b\b\b\b\b\b\b\b\b\b\b\b\b\b\b\b\b\b\b\b\b\b\b\b\b\b\b\b\b\b\b\b\b\b 49% 50521 - images/grilled_salmon/25061.jpg\b\b\b\b\b\b\b\b\b\b\b\b\b\b\b\b\b\b\b\b\b\b\b\b\b\b\b\b\b\b\b\b\b\b\b\b\b\b\b\b\b\b\b\b                                            \b\b\b\b\b\b\b\b\b\b\b\b\b\b\b\b\b\b\b\b\b\b\b\b\b\b\b\b\b\b\b\b\b\b\b\b\b\b\b\b\b\b\b\b 49% 50604 - images/grilled_salmon/2841680.jpg\b\b\b\b\b\b\b\b\b\b\b\b\b\b\b\b\b\b\b\b\b\b\b\b\b\b\b\b\b\b\b\b\b\b\b\b\b\b\b\b\b\b\b\b\b\b                                              \b\b\b\b\b\b\b\b\b\b\b\b\b\b\b\b\b\b\b\b\b\b\b\b\b\b\b\b\b\b\b\b\b\b\b\b\b\b\b\b\b\b\b\b\b\b 49% 50605 - images/grilled_salmon/2845602.jpg\b\b\b\b\b\b\b\b\b\b\b\b\b\b\b\b\b\b\b\b\b\b\b\b\b\b\b\b\b\b\b\b\b\b\b\b\b\b\b\b\b\b\b\b\b\b                                              \b\b\b\b\b\b\b\b\b\b\b\b\b\b\b\b\b\b\b\b\b\b\b\b\b\b\b\b\b\b\b\b\b\b\b\b\b\b\b\b\b\b\b\b\b\b 49% 50686 - images/grilled_salmon/3129195.jpg\b\b\b\b\b\b\b\b\b\b\b\b\b\b\b\b\b\b\b\b\b\b\b\b\b\b\b\b\b\b\b\b\b\b\b\b\b\b\b\b\b\b\b\b\b\b                                              \b\b\b\b\b\b\b\b\b\b\b\b\b\b\b\b\b\b\b\b\b\b\b\b\b\b\b\b\b\b\b\b\b\b\b\b\b\b\b\b\b\b\b\b\b\b 49% 50770 - images/grilled_salmon/338041.jpg\b\b\b\b\b\b\b\b\b\b\b\b\b\b\b\b\b\b\b\b\b\b\b\b\b\b\b\b\b\b\b\b\b\b\b\b\b\b\b\b\b\b\b\b\b                                             \b\b\b\b\b\b\b\b\b\b\b\b\b\b\b\b\b\b\b\b\b\b\b\b\b\b\b\b\b\b\b\b\b\b\b\b\b\b\b\b\b\b\b\b\b 49% 50850 - images/grilled_salmon/3689315.jpg\b\b\b\b\b\b\b\b\b\b\b\b\b\b\b\b\b\b\b\b\b\b\b\b\b\b\b\b\b\b\b\b\b\b\b\b\b\b\b\b\b\b\b\b\b\b                                              \b\b\b\b\b\b\b\b\b\b\b\b\b\b\b\b\b\b\b\b\b\b\b\b\b\b\b\b\b\b\b\b\b\b\b\b\b\b\b\b\b\b\b\b\b\b 49% 50888 - images/grilled_salmon/3802937.jpg\b\b\b\b\b\b\b\b\b\b\b\b\b\b\b\b\b\b\b\b\b\b\b\b\b\b\b\b\b\b\b\b\b\b\b\b\b\b\b\b\b\b\b\b\b\b                                              \b\b\b\b\b\b\b\b\b\b\b\b\b\b\b\b\b\b\b\b\b\b\b\b\b\b\b\b\b\b\b\b\b\b\b\b\b\b\b\b\b\b\b\b\b\b 50% 50928 - images/grilled_salmon/3920576.jpg\b\b\b\b\b\b\b\b\b\b\b\b\b\b\b\b\b\b\b\b\b\b\b\b\b\b\b\b\b\b\b\b\b\b\b\b\b\b\b\b\b\b\b\b\b\b                                              \b\b\b\b\b\b\b\b\b\b\b\b\b\b\b\b\b\b\b\b\b\b\b\b\b\b\b\b\b\b\b\b\b\b\b\b\b\b\b\b\b\b\b\b\b\b 50% 51010 - images/grilled_salmon/711556.jpg\b\b\b\b\b\b\b\b\b\b\b\b\b\b\b\b\b\b\b\b\b\b\b\b\b\b\b\b\b\b\b\b\b\b\b\b\b\b\b\b\b\b\b\b\b                                             \b\b\b\b\b\b\b\b\b\b\b\b\b\b\b\b\b\b\b\b\b\b\b\b\b\b\b\b\b\b\b\b\b\b\b\b\b\b\b\b\b\b\b\b\b 50% 51088 - images/grilled_salmon/945443.jpg\b\b\b\b\b\b\b\b\b\b\b\b\b\b\b\b\b\b\b\b\b\b\b\b\b\b\b\b\b\b\b\b\b\b\b\b\b\b\b\b\b\b\b\b\b                                             \b\b\b\b\b\b\b\b\b\b\b\b\b\b\b\b\b\b\b\b\b\b\b\b\b\b\b\b\b\b\b\b\b\b\b\b\b\b\b\b\b\b\b\b\b 50% 51170 - images/guacamole/1273421.jpg\b\b\b\b\b\b\b\b\b\b\b\b\b\b\b\b\b\b\b\b\b\b\b\b\b\b\b\b\b\b\b\b\b\b\b\b\b\b\b\b\b                                         \b\b\b\b\b\b\b\b\b\b\b\b\b\b\b\b\b\b\b\b\b\b\b\b\b\b\b\b\b\b\b\b\b\b\b\b\b\b\b\b\b 50% 51233 - images/guacamole/1493779.jpg\b\b\b\b\b\b\b\b\b\b\b\b\b\b\b\b\b\b\b\b\b\b\b\b\b\b\b\b\b\b\b\b\b\b\b\b\b\b\b\b\b                                         \b\b\b\b\b\b\b\b\b\b\b\b\b\b\b\b\b\b\b\b\b\b\b\b\b\b\b\b\b\b\b\b\b\b\b\b\b\b\b\b\b 50% 51251 - images/guacamole/1574927.jpg\b\b\b\b\b\b\b\b\b\b\b\b\b\b\b\b\b\b\b\b\b\b\b\b\b\b\b\b\b\b\b\b\b\b\b\b\b\b\b\b\b                                         \b\b\b\b\b\b\b\b\b\b\b\b\b\b\b\b\b\b\b\b\b\b\b\b\b\b\b\b\b\b\b\b\b\b\b\b\b\b\b\b\b 50% 51330 - images/guacamole/1865014.jpg\b\b\b\b\b\b\b\b\b\b\b\b\b\b\b\b\b\b\b\b\b\b\b\b\b\b\b\b\b\b\b\b\b\b\b\b\b\b\b\b\b                                         \b\b\b\b\b\b\b\b\b\b\b\b\b\b\b\b\b\b\b\b\b\b\b\b\b\b\b\b\b\b\b\b\b\b\b\b\b\b\b\b\b 50% 51407 - images/guacamole/2176907.jpg\b\b\b\b\b\b\b\b\b\b\b\b\b\b\b\b\b\b\b\b\b\b\b\b\b\b\b\b\b\b\b\b\b\b\b\b\b\b\b\b\b                                         \b\b\b\b\b\b\b\b\b\b\b\b\b\b\b\b\b\b\b\b\b\b\b\b\b\b\b\b\b\b\b\b\b\b\b\b\b\b\b\b\b 50% 51484 - images/guacamole/2441648.jpg\b\b\b\b\b\b\b\b\b\b\b\b\b\b\b\b\b\b\b\b\b\b\b\b\b\b\b\b\b\b\b\b\b\b\b\b\b\b\b\b\b                                         \b\b\b\b\b\b\b\b\b\b\b\b\b\b\b\b\b\b\b\b\b\b\b\b\b\b\b\b\b\b\b\b\b\b\b\b\b\b\b\b\b 50% 51485 - images/guacamole/244609.jpg\b\b\b\b\b\b\b\b\b\b\b\b\b\b\b\b\b\b\b\b\b\b\b\b\b\b\b\b\b\b\b\b\b\b\b\b\b\b\b\b                                        \b\b\b\b\b\b\b\b\b\b\b\b\b\b\b\b\b\b\b\b\b\b\b\b\b\b\b\b\b\b\b\b\b\b\b\b\b\b\b\b 50% 51562 - images/guacamole/2715293.jpg\b\b\b\b\b\b\b\b\b\b\b\b\b\b\b\b\b\b\b\b\b\b\b\b\b\b\b\b\b\b\b\b\b\b\b\b\b\b\b\b\b                                         \b\b\b\b\b\b\b\b\b\b\b\b\b\b\b\b\b\b\b\b\b\b\b\b\b\b\b\b\b\b\b\b\b\b\b\b\b\b\b\b\b 50% 51641 - images/guacamole/3059773.jpg\b\b\b\b\b\b\b\b\b\b\b\b\b\b\b\b\b\b\b\b\b\b\b\b\b\b\b\b\b\b\b\b\b\b\b\b\b\b\b\b\b                                         \b\b\b\b\b\b\b\b\b\b\b\b\b\b\b\b\b\b\b\b\b\b\b\b\b\b\b\b\b\b\b\b\b\b\b\b\b\b\b\b\b 50% 51718 - images/guacamole/3349682.jpg\b\b\b\b\b\b\b\b\b\b\b\b\b\b\b\b\b\b\b\b\b\b\b\b\b\b\b\b\b\b\b\b\b\b\b\b\b\b\b\b\b                                         \b\b\b\b\b\b\b\b\b\b\b\b\b\b\b\b\b\b\b\b\b\b\b\b\b\b\b\b\b\b\b\b\b\b\b\b\b\b\b\b\b 50% 51795 - images/guacamole/3578361.jpg\b\b\b\b\b\b\b\b\b\b\b\b\b\b\b\b\b\b\b\b\b\b\b\b\b\b\b\b\b\b\b\b\b\b\b\b\b\b\b\b\b                                         \b\b\b\b\b\b\b\b\b\b\b\b\b\b\b\b\b\b\b\b\b\b\b\b\b\b\b\b\b\b\b\b\b\b\b\b\b\b\b\b\b 50% 51796 - images/guacamole/3582067.jpg\b\b\b\b\b\b\b\b\b\b\b\b\b\b\b\b\b\b\b\b\b\b\b\b\b\b\b\b\b\b\b\b\b\b\b\b\b\b\b\b\b                                         \b\b\b\b\b\b\b\b\b\b\b\b\b\b\b\b\b\b\b\b\b\b\b\b\b\b\b\b\b\b\b\b\b\b\b\b\b\b\b\b\b 51% 51874 - images/guacamole/3842147.jpg\b\b\b\b\b\b\b\b\b\b\b\b\b\b\b\b\b\b\b\b\b\b\b\b\b\b\b\b\b\b\b\b\b\b\b\b\b\b\b\b\b                                         \b\b\b\b\b\b\b\b\b\b\b\b\b\b\b\b\b\b\b\b\b\b\b\b\b\b\b\b\b\b\b\b\b\b\b\b\b\b\b\b\b 51% 51951 - images/guacamole/549487.jpg\b\b\b\b\b\b\b\b\b\b\b\b\b\b\b\b\b\b\b\b\b\b\b\b\b\b\b\b\b\b\b\b\b\b\b\b\b\b\b\b                                        \b\b\b\b\b\b\b\b\b\b\b\b\b\b\b\b\b\b\b\b\b\b\b\b\b\b\b\b\b\b\b\b\b\b\b\b\b\b\b\b 51% 52025 - images/guacamole/75638.jpg\b\b\b\b\b\b\b\b\b\b\b\b\b\b\b\b\b\b\b\b\b\b\b\b\b\b\b\b\b\b\b\b\b\b\b\b\b\b\b                                       \b\b\b\b\b\b\b\b\b\b\b\b\b\b\b\b\b\b\b\b\b\b\b\b\b\b\b\b\b\b\b\b\b\b\b\b\b\b\b 51% 52050 - images/guacamole/822908.jpg\b\b\b\b\b\b\b\b\b\b\b\b\b\b\b\b\b\b\b\b\b\b\b\b\b\b\b\b\b\b\b\b\b\b\b\b\b\b\b\b                                        \b\b\b\b\b\b\b\b\b\b\b\b\b\b\b\b\b\b\b\b\b\b\b\b\b\b\b\b\b\b\b\b\b\b\b\b\b\b\b\b 51% 52108 - images/gyoza/1036466.jpg\b\b\b\b\b\b\b\b\b\b\b\b\b\b\b\b\b\b\b\b\b\b\b\b\b\b\b\b\b\b\b\b\b\b\b\b\b                                     \b\b\b\b\b\b\b\b\b\b\b\b\b\b\b\b\b\b\b\b\b\b\b\b\b\b\b\b\b\b\b\b\b\b\b\b\b 51% 52195 - images/gyoza/1383874.jpg\b\b\b\b\b\b\b\b\b\b\b\b\b\b\b\b\b\b\b\b\b\b\b\b\b\b\b\b\b\b\b\b\b\b\b\b\b                                     \b\b\b\b\b\b\b\b\b\b\b\b\b\b\b\b\b\b\b\b\b\b\b\b\b\b\b\b\b\b\b\b\b\b\b\b\b 51% 52280 - images/gyoza/1734723.jpg\b\b\b\b\b\b\b\b\b\b\b\b\b\b\b\b\b\b\b\b\b\b\b\b\b\b\b\b\b\b\b\b\b\b\b\b\b                                     \b\b\b\b\b\b\b\b\b\b\b\b\b\b\b\b\b\b\b\b\b\b\b\b\b\b\b\b\b\b\b\b\b\b\b\b\b 51% 52366 - images/gyoza/20551.jpg\b\b\b\b\b\b\b\b\b\b\b\b\b\b\b\b\b\b\b\b\b\b\b\b\b\b\b\b\b\b\b\b\b\b\b                                   \b\b\b\b\b\b\b\b\b\b\b\b\b\b\b\b\b\b\b\b\b\b\b\b\b\b\b\b\b\b\b\b\b\b\b 51% 52367 - images/gyoza/2058207.jpg\b\b\b\b\b\b\b\b\b\b\b\b\b\b\b\b\b\b\b\b\b\b\b\b\b\b\b\b\b\b\b\b\b\b\b\b\b                                     \b\b\b\b\b\b\b\b\b\b\b\b\b\b\b\b\b\b\b\b\b\b\b\b\b\b\b\b\b\b\b\b\b\b\b\b\b 51% 52447 - images/gyoza/2376479.jpg\b\b\b\b\b\b\b\b\b\b\b\b\b\b\b\b\b\b\b\b\b\b\b\b\b\b\b\b\b\b\b\b\b\b\b\b\b                                     \b\b\b\b\b\b\b\b\b\b\b\b\b\b\b\b\b\b\b\b\b\b\b\b\b\b\b\b\b\b\b\b\b\b\b\b\b 51% 52531 - images/gyoza/2685683.jpg\b\b\b\b\b\b\b\b\b\b\b\b\b\b\b\b\b\b\b\b\b\b\b\b\b\b\b\b\b\b\b\b\b\b\b\b\b                                     \b\b\b\b\b\b\b\b\b\b\b\b\b\b\b\b\b\b\b\b\b\b\b\b\b\b\b\b\b\b\b\b\b\b\b\b\b 51% 52616 - images/gyoza/291531.jpg\b\b\b\b\b\b\b\b\b\b\b\b\b\b\b\b\b\b\b\b\b\b\b\b\b\b\b\b\b\b\b\b\b\b\b\b                                    \b\b\b\b\b\b\b\b\b\b\b\b\b\b\b\b\b\b\b\b\b\b\b\b\b\b\b\b\b\b\b\b\b\b\b\b 51% 52617 - images/gyoza/2922473.jpg\b\b\b\b\b\b\b\b\b\b\b\b\b\b\b\b\b\b\b\b\b\b\b\b\b\b\b\b\b\b\b\b\b\b\b\b\b                                     \b\b\b\b\b\b\b\b\b\b\b\b\b\b\b\b\b\b\b\b\b\b\b\b\b\b\b\b\b\b\b\b\b\b\b\b\b 51% 52704 - images/gyoza/3219645.jpg\b\b\b\b\b\b\b\b\b\b\b\b\b\b\b\b\b\b\b\b\b\b\b\b\b\b\b\b\b\b\b\b\b\b\b\b\b                                     \b\b\b\b\b\b\b\b\b\b\b\b\b\b\b\b\b\b\b\b\b\b\b\b\b\b\b\b\b\b\b\b\b\b\b\b\b 51% 52788 - images/gyoza/3489708.jpg\b\b\b\b\b\b\b\b\b\b\b\b\b\b\b\b\b\b\b\b\b\b\b\b\b\b\b\b\b\b\b\b\b\b\b\b\b                                     \b\b\b\b\b\b\b\b\b\b\b\b\b\b\b\b\b\b\b\b\b\b\b\b\b\b\b\b\b\b\b\b\b\b\b\b\b 52% 52872 - images/gyoza/381963.jpg\b\b\b\b\b\b\b\b\b\b\b\b\b\b\b\b\b\b\b\b\b\b\b\b\b\b\b\b\b\b\b\b\b\b\b\b                                    \b\b\b\b\b\b\b\b\b\b\b\b\b\b\b\b\b\b\b\b\b\b\b\b\b\b\b\b\b\b\b\b\b\b\b\b 52% 52952 - images/gyoza/514234.jpg\b\b\b\b\b\b\b\b\b\b\b\b\b\b\b\b\b\b\b\b\b\b\b\b\b\b\b\b\b\b\b\b\b\b\b\b                                    \b\b\b\b\b\b\b\b\b\b\b\b\b\b\b\b\b\b\b\b\b\b\b\b\b\b\b\b\b\b\b\b\b\b\b\b 52% 52955 - images/gyoza/52405.jpg\b\b\b\b\b\b\b\b\b\b\b\b\b\b\b\b\b\b\b\b\b\b\b\b\b\b\b\b\b\b\b\b\b\b\b                                   \b\b\b\b\b\b\b\b\b\b\b\b\b\b\b\b\b\b\b\b\b\b\b\b\b\b\b\b\b\b\b\b\b\b\b 52% 53038 - images/gyoza/789811.jpg\b\b\b\b\b\b\b\b\b\b\b\b\b\b\b\b\b\b\b\b\b\b\b\b\b\b\b\b\b\b\b\b\b\b\b\b                                    \b\b\b\b\b\b\b\b\b\b\b\b\b\b\b\b\b\b\b\b\b\b\b\b\b\b\b\b\b\b\b\b\b\b\b\b 52% 53121 - images/hamburger/1038553.jpg\b\b\b\b\b\b\b\b\b\b\b\b\b\b\b\b\b\b\b\b\b\b\b\b\b\b\b\b\b\b\b\b\b\b\b\b\b\b\b\b\b                                         \b\b\b\b\b\b\b\b\b\b\b\b\b\b\b\b\b\b\b\b\b\b\b\b\b\b\b\b\b\b\b\b\b\b\b\b\b\b\b\b\b 52% 53198 - images/hamburger/1334884.jpg\b\b\b\b\b\b\b\b\b\b\b\b\b\b\b\b\b\b\b\b\b\b\b\b\b\b\b\b\b\b\b\b\b\b\b\b\b\b\b\b\b                                         \b\b\b\b\b\b\b\b\b\b\b\b\b\b\b\b\b\b\b\b\b\b\b\b\b\b\b\b\b\b\b\b\b\b\b\b\b\b\b\b\b 52% 53279 - images/hamburger/1635356.jpg\b\b\b\b\b\b\b\b\b\b\b\b\b\b\b\b\b\b\b\b\b\b\b\b\b\b\b\b\b\b\b\b\b\b\b\b\b\b\b\b\b                                         \b\b\b\b\b\b\b\b\b\b\b\b\b\b\b\b\b\b\b\b\b\b\b\b\b\b\b\b\b\b\b\b\b\b\b\b\b\b\b\b\b 52% 53280 - images/hamburger/1636096.jpg\b\b\b\b\b\b\b\b\b\b\b\b\b\b\b\b\b\b\b\b\b\b\b\b\b\b\b\b\b\b\b\b\b\b\b\b\b\b\b\b\b                                         \b\b\b\b\b\b\b\b\b\b\b\b\b\b\b\b\b\b\b\b\b\b\b\b\b\b\b\b\b\b\b\b\b\b\b\b\b\b\b\b\b 52% 53360 - images/hamburger/1959744.jpg\b\b\b\b\b\b\b\b\b\b\b\b\b\b\b\b\b\b\b\b\b\b\b\b\b\b\b\b\b\b\b\b\b\b\b\b\b\b\b\b\b                                         \b\b\b\b\b\b\b\b\b\b\b\b\b\b\b\b\b\b\b\b\b\b\b\b\b\b\b\b\b\b\b\b\b\b\b\b\b\b\b\b\b 52% 53447 - images/hamburger/2248694.jpg\b\b\b\b\b\b\b\b\b\b\b\b\b\b\b\b\b\b\b\b\b\b\b\b\b\b\b\b\b\b\b\b\b\b\b\b\b\b\b\b\b                                         \b\b\b\b\b\b\b\b\b\b\b\b\b\b\b\b\b\b\b\b\b\b\b\b\b\b\b\b\b\b\b\b\b\b\b\b\b\b\b\b\b 52% 53530 - images/hamburger/258288.jpg\b\b\b\b\b\b\b\b\b\b\b\b\b\b\b\b\b\b\b\b\b\b\b\b\b\b\b\b\b\b\b\b\b\b\b\b\b\b\b\b                                        \b\b\b\b\b\b\b\b\b\b\b\b\b\b\b\b\b\b\b\b\b\b\b\b\b\b\b\b\b\b\b\b\b\b\b\b\b\b\b\b 52% 53531 - images/hamburger/258503.jpg\b\b\b\b\b\b\b\b\b\b\b\b\b\b\b\b\b\b\b\b\b\b\b\b\b\b\b\b\b\b\b\b\b\b\b\b\b\b\b\b                                        \b\b\b\b\b\b\b\b\b\b\b\b\b\b\b\b\b\b\b\b\b\b\b\b\b\b\b\b\b\b\b\b\b\b\b\b\b\b\b\b 52% 53612 - images/hamburger/292599.jpg\b\b\b\b\b\b\b\b\b\b\b\b\b\b\b\b\b\b\b\b\b\b\b\b\b\b\b\b\b\b\b\b\b\b\b\b\b\b\b\b                                        \b\b\b\b\b\b\b\b\b\b\b\b\b\b\b\b\b\b\b\b\b\b\b\b\b\b\b\b\b\b\b\b\b\b\b\b\b\b\b\b 52% 53694 - images/hamburger/3237878.jpg\b\b\b\b\b\b\b\b\b\b\b\b\b\b\b\b\b\b\b\b\b\b\b\b\b\b\b\b\b\b\b\b\b\b\b\b\b\b\b\b\b                                         \b\b\b\b\b\b\b\b\b\b\b\b\b\b\b\b\b\b\b\b\b\b\b\b\b\b\b\b\b\b\b\b\b\b\b\b\b\b\b\b\b 52% 53775 - images/hamburger/3563379.jpg\b\b\b\b\b\b\b\b\b\b\b\b\b\b\b\b\b\b\b\b\b\b\b\b\b\b\b\b\b\b\b\b\b\b\b\b\b\b\b\b\b                                         \b\b\b\b\b\b\b\b\b\b\b\b\b\b\b\b\b\b\b\b\b\b\b\b\b\b\b\b\b\b\b\b\b\b\b\b\b\b\b\b\b 52% 53776 - images/hamburger/3568995.jpg\b\b\b\b\b\b\b\b\b\b\b\b\b\b\b\b\b\b\b\b\b\b\b\b\b\b\b\b\b\b\b\b\b\b\b\b\b\b\b\b\b                                         \b\b\b\b\b\b\b\b\b\b\b\b\b\b\b\b\b\b\b\b\b\b\b\b\b\b\b\b\b\b\b\b\b\b\b\b\b\b\b\b\b 53% 53858 - images/hamburger/3866252.jpg\b\b\b\b\b\b\b\b\b\b\b\b\b\b\b\b\b\b\b\b\b\b\b\b\b\b\b\b\b\b\b\b\b\b\b\b\b\b\b\b\b                                         \b\b\b\b\b\b\b\b\b\b\b\b\b\b\b\b\b\b\b\b\b\b\b\b\b\b\b\b\b\b\b\b\b\b\b\b\b\b\b\b\b 53% 53941 - images/hamburger/560478.jpg\b\b\b\b\b\b\b\b\b\b\b\b\b\b\b\b\b\b\b\b\b\b\b\b\b\b\b\b\b\b\b\b\b\b\b\b\b\b\b\b                                        \b\b\b\b\b\b\b\b\b\b\b\b\b\b\b\b\b\b\b\b\b\b\b\b\b\b\b\b\b\b\b\b\b\b\b\b\b\b\b\b 53% 54018 - images/hamburger/732473.jpg\b\b\b\b\b\b\b\b\b\b\b\b\b\b\b\b\b\b\b\b\b\b\b\b\b\b\b\b\b\b\b\b\b\b\b\b\b\b\b\b                                        \b\b\b\b\b\b\b\b\b\b\b\b\b\b\b\b\b\b\b\b\b\b\b\b\b\b\b\b\b\b\b\b\b\b\b\b\b\b\b\b 53% 54104 - images/hot_and_sour_soup/1003688.jpg\b\b\b\b\b\b\b\b\b\b\b\b\b\b\b\b\b\b\b\b\b\b\b\b\b\b\b\b\b\b\b\b\b\b\b\b\b\b\b\b\b\b\b\b\b\b\b\b\b                                                 \b\b\b\b\b\b\b\b\b\b\b\b\b\b\b\b\b\b\b\b\b\b\b\b\b\b\b\b\b\b\b\b\b\b\b\b\b\b\b\b\b\b\b\b\b\b\b\b\b 53% 54105 - images/hot_and_sour_soup/1004564.jpg\b\b\b\b\b\b\b\b\b\b\b\b\b\b\b\b\b\b\b\b\b\b\b\b\b\b\b\b\b\b\b\b\b\b\b\b\b\b\b\b\b\b\b\b\b\b\b\b\b                                                 \b\b\b\b\b\b\b\b\b\b\b\b\b\b\b\b\b\b\b\b\b\b\b\b\b\b\b\b\b\b\b\b\b\b\b\b\b\b\b\b\b\b\b\b\b\b\b\b\b 53% 54187 - images/hot_and_sour_soup/1235094.jpg\b\b\b\b\b\b\b\b\b\b\b\b\b\b\b\b\b\b\b\b\b\b\b\b\b\b\b\b\b\b\b\b\b\b\b\b\b\b\b\b\b\b\b\b\b\b\b\b\b                                                 \b\b\b\b\b\b\b\b\b\b\b\b\b\b\b\b\b\b\b\b\b\b\b\b\b\b\b\b\b\b\b\b\b\b\b\b\b\b\b\b\b\b\b\b\b\b\b\b\b 53% 54275 - images/hot_and_sour_soup/1499653.jpg\b\b\b\b\b\b\b\b\b\b\b\b\b\b\b\b\b\b\b\b\b\b\b\b\b\b\b\b\b\b\b\b\b\b\b\b\b\b\b\b\b\b\b\b\b\b\b\b\b                                                 \b\b\b\b\b\b\b\b\b\b\b\b\b\b\b\b\b\b\b\b\b\b\b\b\b\b\b\b\b\b\b\b\b\b\b\b\b\b\b\b\b\b\b\b\b\b\b\b\b 53% 54365 - images/hot_and_sour_soup/184398.jpg\b\b\b\b\b\b\b\b\b\b\b\b\b\b\b\b\b\b\b\b\b\b\b\b\b\b\b\b\b\b\b\b\b\b\b\b\b\b\b\b\b\b\b\b\b\b\b\b                                                \b\b\b\b\b\b\b\b\b\b\b\b\b\b\b\b\b\b\b\b\b\b\b\b\b\b\b\b\b\b\b\b\b\b\b\b\b\b\b\b\b\b\b\b\b\b\b\b 53% 54381 - images/hot_and_sour_soup/1893145.jpg\b\b\b\b\b\b\b\b\b\b\b\b\b\b\b\b\b\b\b\b\b\b\b\b\b\b\b\b\b\b\b\b\b\b\b\b\b\b\b\b\b\b\b\b\b\b\b\b\b                                                 \b\b\b\b\b\b\b\b\b\b\b\b\b\b\b\b\b\b\b\b\b\b\b\b\b\b\b\b\b\b\b\b\b\b\b\b\b\b\b\b\b\b\b\b\b\b\b\b\b 53% 54455 - images/hot_and_sour_soup/222193.jpg\b\b\b\b\b\b\b\b\b\b\b\b\b\b\b\b\b\b\b\b\b\b\b\b\b\b\b\b\b\b\b\b\b\b\b\b\b\b\b\b\b\b\b\b\b\b\b\b                                                \b\b\b\b\b\b\b\b\b\b\b\b\b\b\b\b\b\b\b\b\b\b\b\b\b\b\b\b\b\b\b\b\b\b\b\b\b\b\b\b\b\b\b\b\b\b\b\b 53% 54540 - images/hot_and_sour_soup/2524133.jpg\b\b\b\b\b\b\b\b\b\b\b\b\b\b\b\b\b\b\b\b\b\b\b\b\b\b\b\b\b\b\b\b\b\b\b\b\b\b\b\b\b\b\b\b\b\b\b\b\b                                                 \b\b\b\b\b\b\b\b\b\b\b\b\b\b\b\b\b\b\b\b\b\b\b\b\b\b\b\b\b\b\b\b\b\b\b\b\b\b\b\b\b\b\b\b\b\b\b\b\b 53% 54628 - images/hot_and_sour_soup/2792993.jpg\b\b\b\b\b\b\b\b\b\b\b\b\b\b\b\b\b\b\b\b\b\b\b\b\b\b\b\b\b\b\b\b\b\b\b\b\b\b\b\b\b\b\b\b\b\b\b\b\b                                                 \b\b\b\b\b\b\b\b\b\b\b\b\b\b\b\b\b\b\b\b\b\b\b\b\b\b\b\b\b\b\b\b\b\b\b\b\b\b\b\b\b\b\b\b\b\b\b\b\b 53% 54720 - images/hot_and_sour_soup/3094102.jpg\b\b\b\b\b\b\b\b\b\b\b\b\b\b\b\b\b\b\b\b\b\b\b\b\b\b\b\b\b\b\b\b\b\b\b\b\b\b\b\b\b\b\b\b\b\b\b\b\b                                                 \b\b\b\b\b\b\b\b\b\b\b\b\b\b\b\b\b\b\b\b\b\b\b\b\b\b\b\b\b\b\b\b\b\b\b\b\b\b\b\b\b\b\b\b\b\b\b\b\b 53% 54721 - images/hot_and_sour_soup/309806.jpg\b\b\b\b\b\b\b\b\b\b\b\b\b\b\b\b\b\b\b\b\b\b\b\b\b\b\b\b\b\b\b\b\b\b\b\b\b\b\b\b\b\b\b\b\b\b\b\b                                                \b\b\b\b\b\b\b\b\b\b\b\b\b\b\b\b\b\b\b\b\b\b\b\b\b\b\b\b\b\b\b\b\b\b\b\b\b\b\b\b\b\b\b\b\b\b\b\b 53% 54810 - images/hot_and_sour_soup/3491258.jpg\b\b\b\b\b\b\b\b\b\b\b\b\b\b\b\b\b\b\b\b\b\b\b\b\b\b\b\b\b\b\b\b\b\b\b\b\b\b\b\b\b\b\b\b\b\b\b\b\b                                                 \b\b\b\b\b\b\b\b\b\b\b\b\b\b\b\b\b\b\b\b\b\b\b\b\b\b\b\b\b\b\b\b\b\b\b\b\b\b\b\b\b\b\b\b\b\b\b\b\b 53% 54903 - images/hot_and_sour_soup/3879326.jpg\b\b\b\b\b\b\b\b\b\b\b\b\b\b\b\b\b\b\b\b\b\b\b\b\b\b\b\b\b\b\b\b\b\b\b\b\b\b\b\b\b\b\b\b\b\b\b\b\b                                                 \b\b\b\b\b\b\b\b\b\b\b\b\b\b\b\b\b\b\b\b\b\b\b\b\b\b\b\b\b\b\b\b\b\b\b\b\b\b\b\b\b\b\b\b\b\b\b\b\b 54% 54992 - images/hot_and_sour_soup/654722.jpg\b\b\b\b\b\b\b\b\b\b\b\b\b\b\b\b\b\b\b\b\b\b\b\b\b\b\b\b\b\b\b\b\b\b\b\b\b\b\b\b\b\b\b\b\b\b\b\b                                                \b\b\b\b\b\b\b\b\b\b\b\b\b\b\b\b\b\b\b\b\b\b\b\b\b\b\b\b\b\b\b\b\b\b\b\b\b\b\b\b\b\b\b\b\b\b\b\b 54% 54993 - images/hot_and_sour_soup/66094.jpg\b\b\b\b\b\b\b\b\b\b\b\b\b\b\b\b\b\b\b\b\b\b\b\b\b\b\b\b\b\b\b\b\b\b\b\b\b\b\b\b\b\b\b\b\b\b\b                                               \b\b\b\b\b\b\b\b\b\b\b\b\b\b\b\b\b\b\b\b\b\b\b\b\b\b\b\b\b\b\b\b\b\b\b\b\b\b\b\b\b\b\b\b\b\b\b 54% 55079 - images/hot_and_sour_soup/932352.jpg\b\b\b\b\b\b\b\b\b\b\b\b\b\b\b\b\b\b\b\b\b\b\b\b\b\b\b\b\b\b\b\b\b\b\b\b\b\b\b\b\b\b\b\b\b\b\b\b                                                \b\b\b\b\b\b\b\b\b\b\b\b\b\b\b\b\b\b\b\b\b\b\b\b\b\b\b\b\b\b\b\b\b\b\b\b\b\b\b\b\b\b\b\b\b\b\b\b 54% 55166 - images/hot_dog/1182518.jpg\b\b\b\b\b\b\b\b\b\b\b\b\b\b\b\b\b\b\b\b\b\b\b\b\b\b\b\b\b\b\b\b\b\b\b\b\b\b\b                                       \b\b\b\b\b\b\b\b\b\b\b\b\b\b\b\b\b\b\b\b\b\b\b\b\b\b\b\b\b\b\b\b\b\b\b\b\b\b\b 54% 55256 - images/hot_dog/1494050.jpg\b\b\b\b\b\b\b\b\b\b\b\b\b\b\b\b\b\b\b\b\b\b\b\b\b\b\b\b\b\b\b\b\b\b\b\b\b\b\b                                       \b\b\b\b\b\b\b\b\b\b\b\b\b\b\b\b\b\b\b\b\b\b\b\b\b\b\b\b\b\b\b\b\b\b\b\b\b\b\b 54% 55257 - images/hot_dog/1495313.jpg\b\b\b\b\b\b\b\b\b\b\b\b\b\b\b\b\b\b\b\b\b\b\b\b\b\b\b\b\b\b\b\b\b\b\b\b\b\b\b                                       \b\b\b\b\b\b\b\b\b\b\b\b\b\b\b\b\b\b\b\b\b\b\b\b\b\b\b\b\b\b\b\b\b\b\b\b\b\b\b 54% 55343 - images/hot_dog/1768910.jpg\b\b\b\b\b\b\b\b\b\b\b\b\b\b\b\b\b\b\b\b\b\b\b\b\b\b\b\b\b\b\b\b\b\b\b\b\b\b\b                                       \b\b\b\b\b\b\b\b\b\b\b\b\b\b\b\b\b\b\b\b\b\b\b\b\b\b\b\b\b\b\b\b\b\b\b\b\b\b\b 54% 55429 - images/hot_dog/2100127.jpg\b\b\b\b\b\b\b\b\b\b\b\b\b\b\b\b\b\b\b\b\b\b\b\b\b\b\b\b\b\b\b\b\b\b\b\b\b\b\b                                       \b\b\b\b\b\b\b\b\b\b\b\b\b\b\b\b\b\b\b\b\b\b\b\b\b\b\b\b\b\b\b\b\b\b\b\b\b\b\b 54% 55518 - images/hot_dog/2439481.jpg\b\b\b\b\b\b\b\b\b\b\b\b\b\b\b\b\b\b\b\b\b\b\b\b\b\b\b\b\b\b\b\b\b\b\b\b\b\b\b                                       \b\b\b\b\b\b\b\b\b\b\b\b\b\b\b\b\b\b\b\b\b\b\b\b\b\b\b\b\b\b\b\b\b\b\b\b\b\b\b 54% 55552 - images/hot_dog/2581249.jpg\b\b\b\b\b\b\b\b\b\b\b\b\b\b\b\b\b\b\b\b\b\b\b\b\b\b\b\b\b\b\b\b\b\b\b\b\b\b\b                                       \b\b\b\b\b\b\b\b\b\b\b\b\b\b\b\b\b\b\b\b\b\b\b\b\b\b\b\b\b\b\b\b\b\b\b\b\b\b\b 54% 55607 - images/hot_dog/282294.jpg\b\b\b\b\b\b\b\b\b\b\b\b\b\b\b\b\b\b\b\b\b\b\b\b\b\b\b\b\b\b\b\b\b\b\b\b\b\b                                      \b\b\b\b\b\b\b\b\b\b\b\b\b\b\b\b\b\b\b\b\b\b\b\b\b\b\b\b\b\b\b\b\b\b\b\b\b\b 54% 55693 - images/hot_dog/3264272.jpg\b\b\b\b\b\b\b\b\b\b\b\b\b\b\b\b\b\b\b\b\b\b\b\b\b\b\b\b\b\b\b\b\b\b\b\b\b\b\b                                       \b\b\b\b\b\b\b\b\b\b\b\b\b\b\b\b\b\b\b\b\b\b\b\b\b\b\b\b\b\b\b\b\b\b\b\b\b\b\b 54% 55777 - images/hot_dog/3655420.jpg\b\b\b\b\b\b\b\b\b\b\b\b\b\b\b\b\b\b\b\b\b\b\b\b\b\b\b\b\b\b\b\b\b\b\b\b\b\b\b                                       \b\b\b\b\b\b\b\b\b\b\b\b\b\b\b\b\b\b\b\b\b\b\b\b\b\b\b\b\b\b\b\b\b\b\b\b\b\b\b 54% 55778 - images/hot_dog/3660087.jpg\b\b\b\b\b\b\b\b\b\b\b\b\b\b\b\b\b\b\b\b\b\b\b\b\b\b\b\b\b\b\b\b\b\b\b\b\b\b\b                                       \b\b\b\b\b\b\b\b\b\b\b\b\b\b\b\b\b\b\b\b\b\b\b\b\b\b\b\b\b\b\b\b\b\b\b\b\b\b\b 54% 55861 - images/hot_dog/397071.jpg\b\b\b\b\b\b\b\b\b\b\b\b\b\b\b\b\b\b\b\b\b\b\b\b\b\b\b\b\b\b\b\b\b\b\b\b\b\b                                      \b\b\b\b\b\b\b\b\b\b\b\b\b\b\b\b\b\b\b\b\b\b\b\b\b\b\b\b\b\b\b\b\b\b\b\b\b\b 54% 55943 - images/hot_dog/581166.jpg\b\b\b\b\b\b\b\b\b\b\b\b\b\b\b\b\b\b\b\b\b\b\b\b\b\b\b\b\b\b\b\b\b\b\b\b\b\b                                      \b\b\b\b\b\b\b\b\b\b\b\b\b\b\b\b\b\b\b\b\b\b\b\b\b\b\b\b\b\b\b\b\b\b\b\b\b\b 55% 56021 - images/hot_dog/80701.jpg\b\b\b\b\b\b\b\b\b\b\b\b\b\b\b\b\b\b\b\b\b\b\b\b\b\b\b\b\b\b\b\b\b\b\b\b\b                                     \b\b\b\b\b\b\b\b\b\b\b\b\b\b\b\b\b\b\b\b\b\b\b\b\b\b\b\b\b\b\b\b\b\b\b\b\b 55% 56042 - images/hot_dog/856178.jpg\b\b\b\b\b\b\b\b\b\b\b\b\b\b\b\b\b\b\b\b\b\b\b\b\b\b\b\b\b\b\b\b\b\b\b\b\b\b                                      \b\b\b\b\b\b\b\b\b\b\b\b\b\b\b\b\b\b\b\b\b\b\b\b\b\b\b\b\b\b\b\b\b\b\b\b\b\b 55% 56107 - images/huevos_rancheros/1014671.jpg\b\b\b\b\b\b\b\b\b\b\b\b\b\b\b\b\b\b\b\b\b\b\b\b\b\b\b\b\b\b\b\b\b\b\b\b\b\b\b\b\b\b\b\b\b\b\b\b                                                \b\b\b\b\b\b\b\b\b\b\b\b\b\b\b\b\b\b\b\b\b\b\b\b\b\b\b\b\b\b\b\b\b\b\b\b\b\b\b\b\b\b\b\b\b\b\b\b 55% 56189 - images/huevos_rancheros/1250807.jpg\b\b\b\b\b\b\b\b\b\b\b\b\b\b\b\b\b\b\b\b\b\b\b\b\b\b\b\b\b\b\b\b\b\b\b\b\b\b\b\b\b\b\b\b\b\b\b\b                                                \b\b\b\b\b\b\b\b\b\b\b\b\b\b\b\b\b\b\b\b\b\b\b\b\b\b\b\b\b\b\b\b\b\b\b\b\b\b\b\b\b\b\b\b\b\b\b\b 55% 56268 - images/huevos_rancheros/1524678.jpg\b\b\b\b\b\b\b\b\b\b\b\b\b\b\b\b\b\b\b\b\b\b\b\b\b\b\b\b\b\b\b\b\b\b\b\b\b\b\b\b\b\b\b\b\b\b\b\b                                                \b\b\b\b\b\b\b\b\b\b\b\b\b\b\b\b\b\b\b\b\b\b\b\b\b\b\b\b\b\b\b\b\b\b\b\b\b\b\b\b\b\b\b\b\b\b\b\b 55% 56351 - images/huevos_rancheros/1836087.jpg\b\b\b\b\b\b\b\b\b\b\b\b\b\b\b\b\b\b\b\b\b\b\b\b\b\b\b\b\b\b\b\b\b\b\b\b\b\b\b\b\b\b\b\b\b\b\b\b                                                \b\b\b\b\b\b\b\b\b\b\b\b\b\b\b\b\b\b\b\b\b\b\b\b\b\b\b\b\b\b\b\b\b\b\b\b\b\b\b\b\b\b\b\b\b\b\b\b 55% 56352 - images/huevos_rancheros/1839698.jpg\b\b\b\b\b\b\b\b\b\b\b\b\b\b\b\b\b\b\b\b\b\b\b\b\b\b\b\b\b\b\b\b\b\b\b\b\b\b\b\b\b\b\b\b\b\b\b\b                                                \b\b\b\b\b\b\b\b\b\b\b\b\b\b\b\b\b\b\b\b\b\b\b\b\b\b\b\b\b\b\b\b\b\b\b\b\b\b\b\b\b\b\b\b\b\b\b\b 55% 56429 - images/huevos_rancheros/211560.jpg\b\b\b\b\b\b\b\b\b\b\b\b\b\b\b\b\b\b\b\b\b\b\b\b\b\b\b\b\b\b\b\b\b\b\b\b\b\b\b\b\b\b\b\b\b\b\b                                               \b\b\b\b\b\b\b\b\b\b\b\b\b\b\b\b\b\b\b\b\b\b\b\b\b\b\b\b\b\b\b\b\b\b\b\b\b\b\b\b\b\b\b\b\b\b\b 55% 56507 - images/huevos_rancheros/244771.jpg\b\b\b\b\b\b\b\b\b\b\b\b\b\b\b\b\b\b\b\b\b\b\b\b\b\b\b\b\b\b\b\b\b\b\b\b\b\b\b\b\b\b\b\b\b\b\b                                               \b\b\b\b\b\b\b\b\b\b\b\b\b\b\b\b\b\b\b\b\b\b\b\b\b\b\b\b\b\b\b\b\b\b\b\b\b\b\b\b\b\b\b\b\b\b\b 55% 56590 - images/huevos_rancheros/2708552.jpg\b\b\b\b\b\b\b\b\b\b\b\b\b\b\b\b\b\b\b\b\b\b\b\b\b\b\b\b\b\b\b\b\b\b\b\b\b\b\b\b\b\b\b\b\b\b\b\b                                                \b\b\b\b\b\b\b\b\b\b\b\b\b\b\b\b\b\b\b\b\b\b\b\b\b\b\b\b\b\b\b\b\b\b\b\b\b\b\b\b\b\b\b\b\b\b\b\b 55% 56668 - images/huevos_rancheros/300061.jpg\b\b\b\b\b\b\b\b\b\b\b\b\b\b\b\b\b\b\b\b\b\b\b\b\b\b\b\b\b\b\b\b\b\b\b\b\b\b\b\b\b\b\b\b\b\b\b                                               \b\b\b\b\b\b\b\b\b\b\b\b\b\b\b\b\b\b\b\b\b\b\b\b\b\b\b\b\b\b\b\b\b\b\b\b\b\b\b\b\b\b\b\b\b\b\b 55% 56669 - images/huevos_rancheros/3000610.jpg\b\b\b\b\b\b\b\b\b\b\b\b\b\b\b\b\b\b\b\b\b\b\b\b\b\b\b\b\b\b\b\b\b\b\b\b\b\b\b\b\b\b\b\b\b\b\b\b                                                \b\b\b\b\b\b\b\b\b\b\b\b\b\b\b\b\b\b\b\b\b\b\b\b\b\b\b\b\b\b\b\b\b\b\b\b\b\b\b\b\b\b\b\b\b\b\b\b 55% 56751 - images/huevos_rancheros/3355886.jpg\b\b\b\b\b\b\b\b\b\b\b\b\b\b\b\b\b\b\b\b\b\b\b\b\b\b\b\b\b\b\b\b\b\b\b\b\b\b\b\b\b\b\b\b\b\b\b\b                                                \b\b\b\b\b\b\b\b\b\b\b\b\b\b\b\b\b\b\b\b\b\b\b\b\b\b\b\b\b\b\b\b\b\b\b\b\b\b\b\b\b\b\b\b\b\b\b\b 55% 56827 - images/huevos_rancheros/3636976.jpg\b\b\b\b\b\b\b\b\b\b\b\b\b\b\b\b\b\b\b\b\b\b\b\b\b\b\b\b\b\b\b\b\b\b\b\b\b\b\b\b\b\b\b\b\b\b\b\b                                                \b\b\b\b\b\b\b\b\b\b\b\b\b\b\b\b\b\b\b\b\b\b\b\b\b\b\b\b\b\b\b\b\b\b\b\b\b\b\b\b\b\b\b\b\b\b\b\b 55% 56905 - images/huevos_rancheros/397374.jpg\b\b\b\b\b\b\b\b\b\b\b\b\b\b\b\b\b\b\b\b\b\b\b\b\b\b\b\b\b\b\b\b\b\b\b\b\b\b\b\b\b\b\b\b\b\b\b                                               \b\b\b\b\b\b\b\b\b\b\b\b\b\b\b\b\b\b\b\b\b\b\b\b\b\b\b\b\b\b\b\b\b\b\b\b\b\b\b\b\b\b\b\b\b\b\b 56% 56986 - images/huevos_rancheros/676732.jpg\b\b\b\b\b\b\b\b\b\b\b\b\b\b\b\b\b\b\b\b\b\b\b\b\b\b\b\b\b\b\b\b\b\b\b\b\b\b\b\b\b\b\b\b\b\b\b                                               \b\b\b\b\b\b\b\b\b\b\b\b\b\b\b\b\b\b\b\b\b\b\b\b\b\b\b\b\b\b\b\b\b\b\b\b\b\b\b\b\b\b\b\b\b\b\b 56% 56987 - images/huevos_rancheros/68158.jpg\b\b\b\b\b\b\b\b\b\b\b\b\b\b\b\b\b\b\b\b\b\b\b\b\b\b\b\b\b\b\b\b\b\b\b\b\b\b\b\b\b\b\b\b\b\b                                              \b\b\b\b\b\b\b\b\b\b\b\b\b\b\b\b\b\b\b\b\b\b\b\b\b\b\b\b\b\b\b\b\b\b\b\b\b\b\b\b\b\b\b\b\b\b 56% 57065 - images/huevos_rancheros/898352.jpg\b\b\b\b\b\b\b\b\b\b\b\b\b\b\b\b\b\b\b\b\b\b\b\b\b\b\b\b\b\b\b\b\b\b\b\b\b\b\b\b\b\b\b\b\b\b\b                                               \b\b\b\b\b\b\b\b\b\b\b\b\b\b\b\b\b\b\b\b\b\b\b\b\b\b\b\b\b\b\b\b\b\b\b\b\b\b\b\b\b\b\b\b\b\b\b 56% 57153 - images/hummus/1226017.jpg\b\b\b\b\b\b\b\b\b\b\b\b\b\b\b\b\b\b\b\b\b\b\b\b\b\b\b\b\b\b\b\b\b\b\b\b\b\b                                      \b\b\b\b\b\b\b\b\b\b\b\b\b\b\b\b\b\b\b\b\b\b\b\b\b\b\b\b\b\b\b\b\b\b\b\b\b\b 56% 57233 - images/hummus/1562412.jpg\b\b\b\b\b\b\b\b\b\b\b\b\b\b\b\b\b\b\b\b\b\b\b\b\b\b\b\b\b\b\b\b\b\b\b\b\b\b                                      \b\b\b\b\b\b\b\b\b\b\b\b\b\b\b\b\b\b\b\b\b\b\b\b\b\b\b\b\b\b\b\b\b\b\b\b\b\b 56% 57319 - images/hummus/1863572.jpg\b\b\b\b\b\b\b\b\b\b\b\b\b\b\b\b\b\b\b\b\b\b\b\b\b\b\b\b\b\b\b\b\b\b\b\b\b\b                                      \b\b\b\b\b\b\b\b\b\b\b\b\b\b\b\b\b\b\b\b\b\b\b\b\b\b\b\b\b\b\b\b\b\b\b\b\b\b 56% 57320 - images/hummus/1864167.jpg\b\b\b\b\b\b\b\b\b\b\b\b\b\b\b\b\b\b\b\b\b\b\b\b\b\b\b\b\b\b\b\b\b\b\b\b\b\b                                      \b\b\b\b\b\b\b\b\b\b\b\b\b\b\b\b\b\b\b\b\b\b\b\b\b\b\b\b\b\b\b\b\b\b\b\b\b\b 56% 57402 - images/hummus/2142923.jpg\b\b\b\b\b\b\b\b\b\b\b\b\b\b\b\b\b\b\b\b\b\b\b\b\b\b\b\b\b\b\b\b\b\b\b\b\b\b                                      \b\b\b\b\b\b\b\b\b\b\b\b\b\b\b\b\b\b\b\b\b\b\b\b\b\b\b\b\b\b\b\b\b\b\b\b\b\b 56% 57487 - images/hummus/2497373.jpg\b\b\b\b\b\b\b\b\b\b\b\b\b\b\b\b\b\b\b\b\b\b\b\b\b\b\b\b\b\b\b\b\b\b\b\b\b\b                                      \b\b\b\b\b\b\b\b\b\b\b\b\b\b\b\b\b\b\b\b\b\b\b\b\b\b\b\b\b\b\b\b\b\b\b\b\b\b 56% 57572 - images/hummus/2803308.jpg\b\b\b\b\b\b\b\b\b\b\b\b\b\b\b\b\b\b\b\b\b\b\b\b\b\b\b\b\b\b\b\b\b\b\b\b\b\b                                      \b\b\b\b\b\b\b\b\b\b\b\b\b\b\b\b\b\b\b\b\b\b\b\b\b\b\b\b\b\b\b\b\b\b\b\b\b\b 56% 57656 - images/hummus/3065799.jpg\b\b\b\b\b\b\b\b\b\b\b\b\b\b\b\b\b\b\b\b\b\b\b\b\b\b\b\b\b\b\b\b\b\b\b\b\b\b                                      \b\b\b\b\b\b\b\b\b\b\b\b\b\b\b\b\b\b\b\b\b\b\b\b\b\b\b\b\b\b\b\b\b\b\b\b\b\b 56% 57657 - images/hummus/3067973.jpg\b\b\b\b\b\b\b\b\b\b\b\b\b\b\b\b\b\b\b\b\b\b\b\b\b\b\b\b\b\b\b\b\b\b\b\b\b\b                                      \b\b\b\b\b\b\b\b\b\b\b\b\b\b\b\b\b\b\b\b\b\b\b\b\b\b\b\b\b\b\b\b\b\b\b\b\b\b 56% 57742 - images/hummus/3350444.jpg\b\b\b\b\b\b\b\b\b\b\b\b\b\b\b\b\b\b\b\b\b\b\b\b\b\b\b\b\b\b\b\b\b\b\b\b\b\b                                      \b\b\b\b\b\b\b\b\b\b\b\b\b\b\b\b\b\b\b\b\b\b\b\b\b\b\b\b\b\b\b\b\b\b\b\b\b\b 56% 57830 - images/hummus/3647695.jpg\b\b\b\b\b\b\b\b\b\b\b\b\b\b\b\b\b\b\b\b\b\b\b\b\b\b\b\b\b\b\b\b\b\b\b\b\b\b                                      \b\b\b\b\b\b\b\b\b\b\b\b\b\b\b\b\b\b\b\b\b\b\b\b\b\b\b\b\b\b\b\b\b\b\b\b\b\b 56% 57916 - images/hummus/405731.jpg\b\b\b\b\b\b\b\b\b\b\b\b\b\b\b\b\b\b\b\b\b\b\b\b\b\b\b\b\b\b\b\b\b\b\b\b\b                                     \b\b\b\b\b\b\b\b\b\b\b\b\b\b\b\b\b\b\b\b\b\b\b\b\b\b\b\b\b\b\b\b\b\b\b\b\b 56% 57939 - images/hummus/51470.jpg\b\b\b\b\b\b\b\b\b\b\b\b\b\b\b\b\b\b\b\b\b\b\b\b\b\b\b\b\b\b\b\b\b\b\b\b                                    \b\b\b\b\b\b\b\b\b\b\b\b\b\b\b\b\b\b\b\b\b\b\b\b\b\b\b\b\b\b\b\b\b\b\b\b 57% 58005 - images/hummus/710468.jpg\b\b\b\b\b\b\b\b\b\b\b\b\b\b\b\b\b\b\b\b\b\b\b\b\b\b\b\b\b\b\b\b\b\b\b\b\b                                     \b\b\b\b\b\b\b\b\b\b\b\b\b\b\b\b\b\b\b\b\b\b\b\b\b\b\b\b\b\b\b\b\b\b\b\b\b 57% 58091 - images/hummus/952975.jpg\b\b\b\b\b\b\b\b\b\b\b\b\b\b\b\b\b\b\b\b\b\b\b\b\b\b\b\b\b\b\b\b\b\b\b\b\b                                     \b\b\b\b\b\b\b\b\b\b\b\b\b\b\b\b\b\b\b\b\b\b\b\b\b\b\b\b\b\b\b\b\b\b\b\b\b 57% 58177 - images/ice_cream/1431592.jpg\b\b\b\b\b\b\b\b\b\b\b\b\b\b\b\b\b\b\b\b\b\b\b\b\b\b\b\b\b\b\b\b\b\b\b\b\b\b\b\b\b                                         \b\b\b\b\b\b\b\b\b\b\b\b\b\b\b\b\b\b\b\b\b\b\b\b\b\b\b\b\b\b\b\b\b\b\b\b\b\b\b\b\b 57% 58268 - images/ice_cream/1777856.jpg\b\b\b\b\b\b\b\b\b\b\b\b\b\b\b\b\b\b\b\b\b\b\b\b\b\b\b\b\b\b\b\b\b\b\b\b\b\b\b\b\b                                         \b\b\b\b\b\b\b\b\b\b\b\b\b\b\b\b\b\b\b\b\b\b\b\b\b\b\b\b\b\b\b\b\b\b\b\b\b\b\b\b\b 57% 58310 - images/ice_cream/1873888.jpg\b\b\b\b\b\b\b\b\b\b\b\b\b\b\b\b\b\b\b\b\b\b\b\b\b\b\b\b\b\b\b\b\b\b\b\b\b\b\b\b\b                                         \b\b\b\b\b\b\b\b\b\b\b\b\b\b\b\b\b\b\b\b\b\b\b\b\b\b\b\b\b\b\b\b\b\b\b\b\b\b\b\b\b 57% 58349 - images/ice_cream/1976362.jpg\b\b\b\b\b\b\b\b\b\b\b\b\b\b\b\b\b\b\b\b\b\b\b\b\b\b\b\b\b\b\b\b\b\b\b\b\b\b\b\b\b                                         \b\b\b\b\b\b\b\b\b\b\b\b\b\b\b\b\b\b\b\b\b\b\b\b\b\b\b\b\b\b\b\b\b\b\b\b\b\b\b\b\b 57% 58437 - images/ice_cream/2200220.jpg\b\b\b\b\b\b\b\b\b\b\b\b\b\b\b\b\b\b\b\b\b\b\b\b\b\b\b\b\b\b\b\b\b\b\b\b\b\b\b\b\b                                         \b\b\b\b\b\b\b\b\b\b\b\b\b\b\b\b\b\b\b\b\b\b\b\b\b\b\b\b\b\b\b\b\b\b\b\b\b\b\b\b\b 57% 58523 - images/ice_cream/2427335.jpg\b\b\b\b\b\b\b\b\b\b\b\b\b\b\b\b\b\b\b\b\b\b\b\b\b\b\b\b\b\b\b\b\b\b\b\b\b\b\b\b\b                                         \b\b\b\b\b\b\b\b\b\b\b\b\b\b\b\b\b\b\b\b\b\b\b\b\b\b\b\b\b\b\b\b\b\b\b\b\b\b\b\b\b 57% 58615 - images/ice_cream/2807509.jpg\b\b\b\b\b\b\b\b\b\b\b\b\b\b\b\b\b\b\b\b\b\b\b\b\b\b\b\b\b\b\b\b\b\b\b\b\b\b\b\b\b                                         \b\b\b\b\b\b\b\b\b\b\b\b\b\b\b\b\b\b\b\b\b\b\b\b\b\b\b\b\b\b\b\b\b\b\b\b\b\b\b\b\b 57% 58616 - images/ice_cream/280869.jpg\b\b\b\b\b\b\b\b\b\b\b\b\b\b\b\b\b\b\b\b\b\b\b\b\b\b\b\b\b\b\b\b\b\b\b\b\b\b\b\b                                        \b\b\b\b\b\b\b\b\b\b\b\b\b\b\b\b\b\b\b\b\b\b\b\b\b\b\b\b\b\b\b\b\b\b\b\b\b\b\b\b 57% 58701 - images/ice_cream/3219296.jpg\b\b\b\b\b\b\b\b\b\b\b\b\b\b\b\b\b\b\b\b\b\b\b\b\b\b\b\b\b\b\b\b\b\b\b\b\b\b\b\b\b                                         \b\b\b\b\b\b\b\b\b\b\b\b\b\b\b\b\b\b\b\b\b\b\b\b\b\b\b\b\b\b\b\b\b\b\b\b\b\b\b\b\b 57% 58791 - images/ice_cream/3655102.jpg\b\b\b\b\b\b\b\b\b\b\b\b\b\b\b\b\b\b\b\b\b\b\b\b\b\b\b\b\b\b\b\b\b\b\b\b\b\b\b\b\b                                         \b\b\b\b\b\b\b\b\b\b\b\b\b\b\b\b\b\b\b\b\b\b\b\b\b\b\b\b\b\b\b\b\b\b\b\b\b\b\b\b\b 57% 58882 - images/ice_cream/393886.jpg\b\b\b\b\b\b\b\b\b\b\b\b\b\b\b\b\b\b\b\b\b\b\b\b\b\b\b\b\b\b\b\b\b\b\b\b\b\b\b\b                                        \b\b\b\b\b\b\b\b\b\b\b\b\b\b\b\b\b\b\b\b\b\b\b\b\b\b\b\b\b\b\b\b\b\b\b\b\b\b\b\b 57% 58883 - images/ice_cream/395122.jpg\b\b\b\b\b\b\b\b\b\b\b\b\b\b\b\b\b\b\b\b\b\b\b\b\b\b\b\b\b\b\b\b\b\b\b\b\b\b\b\b                                        \b\b\b\b\b\b\b\b\b\b\b\b\b\b\b\b\b\b\b\b\b\b\b\b\b\b\b\b\b\b\b\b\b\b\b\b\b\b\b\b 57% 58970 - images/ice_cream/627047.jpg\b\b\b\b\b\b\b\b\b\b\b\b\b\b\b\b\b\b\b\b\b\b\b\b\b\b\b\b\b\b\b\b\b\b\b\b\b\b\b\b                                        \b\b\b\b\b\b\b\b\b\b\b\b\b\b\b\b\b\b\b\b\b\b\b\b\b\b\b\b\b\b\b\b\b\b\b\b\b\b\b\b 58% 59052 - images/ice_cream/833261.jpg\b\b\b\b\b\b\b\b\b\b\b\b\b\b\b\b\b\b\b\b\b\b\b\b\b\b\b\b\b\b\b\b\b\b\b\b\b\b\b\b                                        \b\b\b\b\b\b\b\b\b\b\b\b\b\b\b\b\b\b\b\b\b\b\b\b\b\b\b\b\b\b\b\b\b\b\b\b\b\b\b\b 58% 59137 - images/lasagna/1153290.jpg\b\b\b\b\b\b\b\b\b\b\b\b\b\b\b\b\b\b\b\b\b\b\b\b\b\b\b\b\b\b\b\b\b\b\b\b\b\b\b                                       \b\b\b\b\b\b\b\b\b\b\b\b\b\b\b\b\b\b\b\b\b\b\b\b\b\b\b\b\b\b\b\b\b\b\b\b\b\b\b 58% 59219 - images/lasagna/1459087.jpg\b\b\b\b\b\b\b\b\b\b\b\b\b\b\b\b\b\b\b\b\b\b\b\b\b\b\b\b\b\b\b\b\b\b\b\b\b\b\b                                       \b\b\b\b\b\b\b\b\b\b\b\b\b\b\b\b\b\b\b\b\b\b\b\b\b\b\b\b\b\b\b\b\b\b\b\b\b\b\b 58% 59220 - images/lasagna/1463968.jpg\b\b\b\b\b\b\b\b\b\b\b\b\b\b\b\b\b\b\b\b\b\b\b\b\b\b\b\b\b\b\b\b\b\b\b\b\b\b\b                                       \b\b\b\b\b\b\b\b\b\b\b\b\b\b\b\b\b\b\b\b\b\b\b\b\b\b\b\b\b\b\b\b\b\b\b\b\b\b\b 58% 59301 - images/lasagna/178415.jpg\b\b\b\b\b\b\b\b\b\b\b\b\b\b\b\b\b\b\b\b\b\b\b\b\b\b\b\b\b\b\b\b\b\b\b\b\b\b                                      \b\b\b\b\b\b\b\b\b\b\b\b\b\b\b\b\b\b\b\b\b\b\b\b\b\b\b\b\b\b\b\b\b\b\b\b\b\b 58% 59381 - images/lasagna/2102385.jpg\b\b\b\b\b\b\b\b\b\b\b\b\b\b\b\b\b\b\b\b\b\b\b\b\b\b\b\b\b\b\b\b\b\b\b\b\b\b\b                                       \b\b\b\b\b\b\b\b\b\b\b\b\b\b\b\b\b\b\b\b\b\b\b\b\b\b\b\b\b\b\b\b\b\b\b\b\b\b\b 58% 59458 - images/lasagna/2353095.jpg\b\b\b\b\b\b\b\b\b\b\b\b\b\b\b\b\b\b\b\b\b\b\b\b\b\b\b\b\b\b\b\b\b\b\b\b\b\b\b                                       \b\b\b\b\b\b\b\b\b\b\b\b\b\b\b\b\b\b\b\b\b\b\b\b\b\b\b\b\b\b\b\b\b\b\b\b\b\b\b 58% 59543 - images/lasagna/2670894.jpg\b\b\b\b\b\b\b\b\b\b\b\b\b\b\b\b\b\b\b\b\b\b\b\b\b\b\b\b\b\b\b\b\b\b\b\b\b\b\b                                       \b\b\b\b\b\b\b\b\b\b\b\b\b\b\b\b\b\b\b\b\b\b\b\b\b\b\b\b\b\b\b\b\b\b\b\b\b\b\b 58% 59545 - images/lasagna/2677483.jpg\b\b\b\b\b\b\b\b\b\b\b\b\b\b\b\b\b\b\b\b\b\b\b\b\b\b\b\b\b\b\b\b\b\b\b\b\b\b\b                                       \b\b\b\b\b\b\b\b\b\b\b\b\b\b\b\b\b\b\b\b\b\b\b\b\b\b\b\b\b\b\b\b\b\b\b\b\b\b\b 58% 59624 - images/lasagna/2972224.jpg\b\b\b\b\b\b\b\b\b\b\b\b\b\b\b\b\b\b\b\b\b\b\b\b\b\b\b\b\b\b\b\b\b\b\b\b\b\b\b                                       \b\b\b\b\b\b\b\b\b\b\b\b\b\b\b\b\b\b\b\b\b\b\b\b\b\b\b\b\b\b\b\b\b\b\b\b\b\b\b 58% 59700 - images/lasagna/3201414.jpg\b\b\b\b\b\b\b\b\b\b\b\b\b\b\b\b\b\b\b\b\b\b\b\b\b\b\b\b\b\b\b\b\b\b\b\b\b\b\b                                       \b\b\b\b\b\b\b\b\b\b\b\b\b\b\b\b\b\b\b\b\b\b\b\b\b\b\b\b\b\b\b\b\b\b\b\b\b\b\b 58% 59783 - images/lasagna/3413342.jpg\b\b\b\b\b\b\b\b\b\b\b\b\b\b\b\b\b\b\b\b\b\b\b\b\b\b\b\b\b\b\b\b\b\b\b\b\b\b\b                                       \b\b\b\b\b\b\b\b\b\b\b\b\b\b\b\b\b\b\b\b\b\b\b\b\b\b\b\b\b\b\b\b\b\b\b\b\b\b\b 58% 59784 - images/lasagna/3416476.jpg\b\b\b\b\b\b\b\b\b\b\b\b\b\b\b\b\b\b\b\b\b\b\b\b\b\b\b\b\b\b\b\b\b\b\b\b\b\b\b                                       \b\b\b\b\b\b\b\b\b\b\b\b\b\b\b\b\b\b\b\b\b\b\b\b\b\b\b\b\b\b\b\b\b\b\b\b\b\b\b 58% 59860 - images/lasagna/3637641.jpg\b\b\b\b\b\b\b\b\b\b\b\b\b\b\b\b\b\b\b\b\b\b\b\b\b\b\b\b\b\b\b\b\b\b\b\b\b\b\b                                       \b\b\b\b\b\b\b\b\b\b\b\b\b\b\b\b\b\b\b\b\b\b\b\b\b\b\b\b\b\b\b\b\b\b\b\b\b\b\b 58% 59940 - images/lasagna/3857815.jpg\b\b\b\b\b\b\b\b\b\b\b\b\b\b\b\b\b\b\b\b\b\b\b\b\b\b\b\b\b\b\b\b\b\b\b\b\b\b\b                                       \b\b\b\b\b\b\b\b\b\b\b\b\b\b\b\b\b\b\b\b\b\b\b\b\b\b\b\b\b\b\b\b\b\b\b\b\b\b\b 58% 60021 - images/lasagna/649217.jpg\b\b\b\b\b\b\b\b\b\b\b\b\b\b\b\b\b\b\b\b\b\b\b\b\b\b\b\b\b\b\b\b\b\b\b\b\b\b                                      \b\b\b\b\b\b\b\b\b\b\b\b\b\b\b\b\b\b\b\b\b\b\b\b\b\b\b\b\b\b\b\b\b\b\b\b\b\b 58% 60022 - images/lasagna/659788.jpg\b\b\b\b\b\b\b\b\b\b\b\b\b\b\b\b\b\b\b\b\b\b\b\b\b\b\b\b\b\b\b\b\b\b\b\b\b\b                                      \b\b\b\b\b\b\b\b\b\b\b\b\b\b\b\b\b\b\b\b\b\b\b\b\b\b\b\b\b\b\b\b\b\b\b\b\b\b 59% 60099 - images/lasagna/973166.jpg\b\b\b\b\b\b\b\b\b\b\b\b\b\b\b\b\b\b\b\b\b\b\b\b\b\b\b\b\b\b\b\b\b\b\b\b\b\b                                      \b\b\b\b\b\b\b\b\b\b\b\b\b\b\b\b\b\b\b\b\b\b\b\b\b\b\b\b\b\b\b\b\b\b\b\b\b\b 59% 60200 - images/lobster_bisque/1333468.jpg\b\b\b\b\b\b\b\b\b\b\b\b\b\b\b\b\b\b\b\b\b\b\b\b\b\b\b\b\b\b\b\b\b\b\b\b\b\b\b\b\b\b\b\b\b\b                                              \b\b\b\b\b\b\b\b\b\b\b\b\b\b\b\b\b\b\b\b\b\b\b\b\b\b\b\b\b\b\b\b\b\b\b\b\b\b\b\b\b\b\b\b\b\b 59% 60201 - images/lobster_bisque/1333739.jpg\b\b\b\b\b\b\b\b\b\b\b\b\b\b\b\b\b\b\b\b\b\b\b\b\b\b\b\b\b\b\b\b\b\b\b\b\b\b\b\b\b\b\b\b\b\b                                              \b\b\b\b\b\b\b\b\b\b\b\b\b\b\b\b\b\b\b\b\b\b\b\b\b\b\b\b\b\b\b\b\b\b\b\b\b\b\b\b\b\b\b\b\b\b 59% 60307 - images/lobster_bisque/1780438.jpg\b\b\b\b\b\b\b\b\b\b\b\b\b\b\b\b\b\b\b\b\b\b\b\b\b\b\b\b\b\b\b\b\b\b\b\b\b\b\b\b\b\b\b\b\b\b                                              \b\b\b\b\b\b\b\b\b\b\b\b\b\b\b\b\b\b\b\b\b\b\b\b\b\b\b\b\b\b\b\b\b\b\b\b\b\b\b\b\b\b\b\b\b\b 59% 60403 - images/lobster_bisque/2138931.jpg\b\b\b\b\b\b\b\b\b\b\b\b\b\b\b\b\b\b\b\b\b\b\b\b\b\b\b\b\b\b\b\b\b\b\b\b\b\b\b\b\b\b\b\b\b\b                                              \b\b\b\b\b\b\b\b\b\b\b\b\b\b\b\b\b\b\b\b\b\b\b\b\b\b\b\b\b\b\b\b\b\b\b\b\b\b\b\b\b\b\b\b\b\b 59% 60488 - images/lobster_bisque/2437322.jpg\b\b\b\b\b\b\b\b\b\b\b\b\b\b\b\b\b\b\b\b\b\b\b\b\b\b\b\b\b\b\b\b\b\b\b\b\b\b\b\b\b\b\b\b\b\b                                              \b\b\b\b\b\b\b\b\b\b\b\b\b\b\b\b\b\b\b\b\b\b\b\b\b\b\b\b\b\b\b\b\b\b\b\b\b\b\b\b\b\b\b\b\b\b 59% 60508 - images/lobster_bisque/251767.jpg\b\b\b\b\b\b\b\b\b\b\b\b\b\b\b\b\b\b\b\b\b\b\b\b\b\b\b\b\b\b\b\b\b\b\b\b\b\b\b\b\b\b\b\b\b                                             \b\b\b\b\b\b\b\b\b\b\b\b\b\b\b\b\b\b\b\b\b\b\b\b\b\b\b\b\b\b\b\b\b\b\b\b\b\b\b\b\b\b\b\b\b 59% 60610 - images/lobster_bisque/2848845.jpg\b\b\b\b\b\b\b\b\b\b\b\b\b\b\b\b\b\b\b\b\b\b\b\b\b\b\b\b\b\b\b\b\b\b\b\b\b\b\b\b\b\b\b\b\b\b                                              \b\b\b\b\b\b\b\b\b\b\b\b\b\b\b\b\b\b\b\b\b\b\b\b\b\b\b\b\b\b\b\b\b\b\b\b\b\b\b\b\b\b\b\b\b\b 59% 60717 - images/lobster_bisque/3146750.jpg\b\b\b\b\b\b\b\b\b\b\b\b\b\b\b\b\b\b\b\b\b\b\b\b\b\b\b\b\b\b\b\b\b\b\b\b\b\b\b\b\b\b\b\b\b\b                                              \b\b\b\b\b\b\b\b\b\b\b\b\b\b\b\b\b\b\b\b\b\b\b\b\b\b\b\b\b\b\b\b\b\b\b\b\b\b\b\b\b\b\b\b\b\b 59% 60718 - images/lobster_bisque/3147095.jpg\b\b\b\b\b\b\b\b\b\b\b\b\b\b\b\b\b\b\b\b\b\b\b\b\b\b\b\b\b\b\b\b\b\b\b\b\b\b\b\b\b\b\b\b\b\b                                              \b\b\b\b\b\b\b\b\b\b\b\b\b\b\b\b\b\b\b\b\b\b\b\b\b\b\b\b\b\b\b\b\b\b\b\b\b\b\b\b\b\b\b\b\b\b 59% 60819 - images/lobster_bisque/3457213.jpg\b\b\b\b\b\b\b\b\b\b\b\b\b\b\b\b\b\b\b\b\b\b\b\b\b\b\b\b\b\b\b\b\b\b\b\b\b\b\b\b\b\b\b\b\b\b                                              \b\b\b\b\b\b\b\b\b\b\b\b\b\b\b\b\b\b\b\b\b\b\b\b\b\b\b\b\b\b\b\b\b\b\b\b\b\b\b\b\b\b\b\b\b\b 59% 60927 - images/lobster_bisque/3861407.jpg\b\b\b\b\b\b\b\b\b\b\b\b\b\b\b\b\b\b\b\b\b\b\b\b\b\b\b\b\b\b\b\b\b\b\b\b\b\b\b\b\b\b\b\b\b\b                                              \b\b\b\b\b\b\b\b\b\b\b\b\b\b\b\b\b\b\b\b\b\b\b\b\b\b\b\b\b\b\b\b\b\b\b\b\b\b\b\b\b\b\b\b\b\b 59% 61024 - images/lobster_bisque/682969.jpg\b\b\b\b\b\b\b\b\b\b\b\b\b\b\b\b\b\b\b\b\b\b\b\b\b\b\b\b\b\b\b\b\b\b\b\b\b\b\b\b\b\b\b\b\b                                             \b\b\b\b\b\b\b\b\b\b\b\b\b\b\b\b\b\b\b\b\b\b\b\b\b\b\b\b\b\b\b\b\b\b\b\b\b\b\b\b\b\b\b\b\b 59% 61118 - images/lobster_roll_sandwich/1055042.jpg\b\b\b\b\b\b\b\b\b\b\b\b\b\b\b\b\b\b\b\b\b\b\b\b\b\b\b\b\b\b\b\b\b\b\b\b\b\b\b\b\b\b\b\b\b\b\b\b\b\b\b\b\b                                                     \b\b\b\b\b\b\b\b\b\b\b\b\b\b\b\b\b\b\b\b\b\b\b\b\b\b\b\b\b\b\b\b\b\b\b\b\b\b\b\b\b\b\b\b\b\b\b\b\b\b\b\b\b 59% 61120 - images/lobster_roll_sandwich/1057826.jpg\b\b\b\b\b\b\b\b\b\b\b\b\b\b\b\b\b\b\b\b\b\b\b\b\b\b\b\b\b\b\b\b\b\b\b\b\b\b\b\b\b\b\b\b\b\b\b\b\b\b\b\b\b                                                     \b\b\b\b\b\b\b\b\b\b\b\b\b\b\b\b\b\b\b\b\b\b\b\b\b\b\b\b\b\b\b\b\b\b\b\b\b\b\b\b\b\b\b\b\b\b\b\b\b\b\b\b\b 59% 61201 - images/lobster_roll_sandwich/1381122.jpg\b\b\b\b\b\b\b\b\b\b\b\b\b\b\b\b\b\b\b\b\b\b\b\b\b\b\b\b\b\b\b\b\b\b\b\b\b\b\b\b\b\b\b\b\b\b\b\b\b\b\b\b\b                                                     \b\b\b\b\b\b\b\b\b\b\b\b\b\b\b\b\b\b\b\b\b\b\b\b\b\b\b\b\b\b\b\b\b\b\b\b\b\b\b\b\b\b\b\b\b\b\b\b\b\b\b\b\b 60% 61283 - images/lobster_roll_sandwich/1687790.jpg\b\b\b\b\b\b\b\b\b\b\b\b\b\b\b\b\b\b\b\b\b\b\b\b\b\b\b\b\b\b\b\b\b\b\b\b\b\b\b\b\b\b\b\b\b\b\b\b\b\b\b\b\b                                                     \b\b\b\b\b\b\b\b\b\b\b\b\b\b\b\b\b\b\b\b\b\b\b\b\b\b\b\b\b\b\b\b\b\b\b\b\b\b\b\b\b\b\b\b\b\b\b\b\b\b\b\b\b 60% 61363 - images/lobster_roll_sandwich/191074.jpg\b\b\b\b\b\b\b\b\b\b\b\b\b\b\b\b\b\b\b\b\b\b\b\b\b\b\b\b\b\b\b\b\b\b\b\b\b\b\b\b\b\b\b\b\b\b\b\b\b\b\b\b                                                    \b\b\b\b\b\b\b\b\b\b\b\b\b\b\b\b\b\b\b\b\b\b\b\b\b\b\b\b\b\b\b\b\b\b\b\b\b\b\b\b\b\b\b\b\b\b\b\b\b\b\b\b 60% 61423 - images/lobster_roll_sandwich/2087991.jpg\b\b\b\b\b\b\b\b\b\b\b\b\b\b\b\b\b\b\b\b\b\b\b\b\b\b\b\b\b\b\b\b\b\b\b\b\b\b\b\b\b\b\b\b\b\b\b\b\b\b\b\b\b                                                     \b\b\b\b\b\b\b\b\b\b\b\b\b\b\b\b\b\b\b\b\b\b\b\b\b\b\b\b\b\b\b\b\b\b\b\b\b\b\b\b\b\b\b\b\b\b\b\b\b\b\b\b\b 60% 61442 - images/lobster_roll_sandwich/2133483.jpg\b\b\b\b\b\b\b\b\b\b\b\b\b\b\b\b\b\b\b\b\b\b\b\b\b\b\b\b\b\b\b\b\b\b\b\b\b\b\b\b\b\b\b\b\b\b\b\b\b\b\b\b\b                                                     \b\b\b\b\b\b\b\b\b\b\b\b\b\b\b\b\b\b\b\b\b\b\b\b\b\b\b\b\b\b\b\b\b\b\b\b\b\b\b\b\b\b\b\b\b\b\b\b\b\b\b\b\b 60% 61519 - images/lobster_roll_sandwich/2358469.jpg\b\b\b\b\b\b\b\b\b\b\b\b\b\b\b\b\b\b\b\b\b\b\b\b\b\b\b\b\b\b\b\b\b\b\b\b\b\b\b\b\b\b\b\b\b\b\b\b\b\b\b\b\b                                                     \b\b\b\b\b\b\b\b\b\b\b\b\b\b\b\b\b\b\b\b\b\b\b\b\b\b\b\b\b\b\b\b\b\b\b\b\b\b\b\b\b\b\b\b\b\b\b\b\b\b\b\b\b 60% 61596 - images/lobster_roll_sandwich/2676709.jpg\b\b\b\b\b\b\b\b\b\b\b\b\b\b\b\b\b\b\b\b\b\b\b\b\b\b\b\b\b\b\b\b\b\b\b\b\b\b\b\b\b\b\b\b\b\b\b\b\b\b\b\b\b                                                     \b\b\b\b\b\b\b\b\b\b\b\b\b\b\b\b\b\b\b\b\b\b\b\b\b\b\b\b\b\b\b\b\b\b\b\b\b\b\b\b\b\b\b\b\b\b\b\b\b\b\b\b\b 60% 61670 - images/lobster_roll_sandwich/3038402.jpg\b\b\b\b\b\b\b\b\b\b\b\b\b\b\b\b\b\b\b\b\b\b\b\b\b\b\b\b\b\b\b\b\b\b\b\b\b\b\b\b\b\b\b\b\b\b\b\b\b\b\b\b\b                                                     \b\b\b\b\b\b\b\b\b\b\b\b\b\b\b\b\b\b\b\b\b\b\b\b\b\b\b\b\b\b\b\b\b\b\b\b\b\b\b\b\b\b\b\b\b\b\b\b\b\b\b\b\b 60% 61676 - images/lobster_roll_sandwich/308070.jpg\b\b\b\b\b\b\b\b\b\b\b\b\b\b\b\b\b\b\b\b\b\b\b\b\b\b\b\b\b\b\b\b\b\b\b\b\b\b\b\b\b\b\b\b\b\b\b\b\b\b\b\b                                                    \b\b\b\b\b\b\b\b\b\b\b\b\b\b\b\b\b\b\b\b\b\b\b\b\b\b\b\b\b\b\b\b\b\b\b\b\b\b\b\b\b\b\b\b\b\b\b\b\b\b\b\b 60% 61747 - images/lobster_roll_sandwich/384602.jpg\b\b\b\b\b\b\b\b\b\b\b\b\b\b\b\b\b\b\b\b\b\b\b\b\b\b\b\b\b\b\b\b\b\b\b\b\b\b\b\b\b\b\b\b\b\b\b\b\b\b\b\b                                                    \b\b\b\b\b\b\b\b\b\b\b\b\b\b\b\b\b\b\b\b\b\b\b\b\b\b\b\b\b\b\b\b\b\b\b\b\b\b\b\b\b\b\b\b\b\b\b\b\b\b\b\b 60% 61826 - images/lobster_roll_sandwich/597833.jpg\b\b\b\b\b\b\b\b\b\b\b\b\b\b\b\b\b\b\b\b\b\b\b\b\b\b\b\b\b\b\b\b\b\b\b\b\b\b\b\b\b\b\b\b\b\b\b\b\b\b\b\b                                                    \b\b\b\b\b\b\b\b\b\b\b\b\b\b\b\b\b\b\b\b\b\b\b\b\b\b\b\b\b\b\b\b\b\b\b\b\b\b\b\b\b\b\b\b\b\b\b\b\b\b\b\b 60% 61905 - images/lobster_roll_sandwich/684183.jpg\b\b\b\b\b\b\b\b\b\b\b\b\b\b\b\b\b\b\b\b\b\b\b\b\b\b\b\b\b\b\b\b\b\b\b\b\b\b\b\b\b\b\b\b\b\b\b\b\b\b\b\b                                                    \b\b\b\b\b\b\b\b\b\b\b\b\b\b\b\b\b\b\b\b\b\b\b\b\b\b\b\b\b\b\b\b\b\b\b\b\b\b\b\b\b\b\b\b\b\b\b\b\b\b\b\b 60% 61981 - images/lobster_roll_sandwich/772558.jpg\b\b\b\b\b\b\b\b\b\b\b\b\b\b\b\b\b\b\b\b\b\b\b\b\b\b\b\b\b\b\b\b\b\b\b\b\b\b\b\b\b\b\b\b\b\b\b\b\b\b\b\b                                                    \b\b\b\b\b\b\b\b\b\b\b\b\b\b\b\b\b\b\b\b\b\b\b\b\b\b\b\b\b\b\b\b\b\b\b\b\b\b\b\b\b\b\b\b\b\b\b\b\b\b\b\b 60% 61982 - images/lobster_roll_sandwich/77267.jpg\b\b\b\b\b\b\b\b\b\b\b\b\b\b\b\b\b\b\b\b\b\b\b\b\b\b\b\b\b\b\b\b\b\b\b\b\b\b\b\b\b\b\b\b\b\b\b\b\b\b\b                                                   \b\b\b\b\b\b\b\b\b\b\b\b\b\b\b\b\b\b\b\b\b\b\b\b\b\b\b\b\b\b\b\b\b\b\b\b\b\b\b\b\b\b\b\b\b\b\b\b\b\b\b 60% 62056 - images/lobster_roll_sandwich/900551.jpg\b\b\b\b\b\b\b\b\b\b\b\b\b\b\b\b\b\b\b\b\b\b\b\b\b\b\b\b\b\b\b\b\b\b\b\b\b\b\b\b\b\b\b\b\b\b\b\b\b\b\b\b                                                    \b\b\b\b\b\b\b\b\b\b\b\b\b\b\b\b\b\b\b\b\b\b\b\b\b\b\b\b\b\b\b\b\b\b\b\b\b\b\b\b\b\b\b\b\b\b\b\b\b\b\b\b 60% 62135 - images/macaroni_and_cheese/1124064.jpg\b\b\b\b\b\b\b\b\b\b\b\b\b\b\b\b\b\b\b\b\b\b\b\b\b\b\b\b\b\b\b\b\b\b\b\b\b\b\b\b\b\b\b\b\b\b\b\b\b\b\b                                                   \b\b\b\b\b\b\b\b\b\b\b\b\b\b\b\b\b\b\b\b\b\b\b\b\b\b\b\b\b\b\b\b\b\b\b\b\b\b\b\b\b\b\b\b\b\b\b\b\b\b\b 61% 62221 - images/macaroni_and_cheese/1395119.jpg\b\b\b\b\b\b\b\b\b\b\b\b\b\b\b\b\b\b\b\b\b\b\b\b\b\b\b\b\b\b\b\b\b\b\b\b\b\b\b\b\b\b\b\b\b\b\b\b\b\b\b                                                   \b\b\b\b\b\b\b\b\b\b\b\b\b\b\b\b\b\b\b\b\b\b\b\b\b\b\b\b\b\b\b\b\b\b\b\b\b\b\b\b\b\b\b\b\b\b\b\b\b\b\b 61% 62308 - images/macaroni_and_cheese/1752123.jpg\b\b\b\b\b\b\b\b\b\b\b\b\b\b\b\b\b\b\b\b\b\b\b\b\b\b\b\b\b\b\b\b\b\b\b\b\b\b\b\b\b\b\b\b\b\b\b\b\b\b\b                                                   \b\b\b\b\b\b\b\b\b\b\b\b\b\b\b\b\b\b\b\b\b\b\b\b\b\b\b\b\b\b\b\b\b\b\b\b\b\b\b\b\b\b\b\b\b\b\b\b\b\b\b 61% 62309 - images/macaroni_and_cheese/1754551.jpg\b\b\b\b\b\b\b\b\b\b\b\b\b\b\b\b\b\b\b\b\b\b\b\b\b\b\b\b\b\b\b\b\b\b\b\b\b\b\b\b\b\b\b\b\b\b\b\b\b\b\b                                                   \b\b\b\b\b\b\b\b\b\b\b\b\b\b\b\b\b\b\b\b\b\b\b\b\b\b\b\b\b\b\b\b\b\b\b\b\b\b\b\b\b\b\b\b\b\b\b\b\b\b\b 61% 62393 - images/macaroni_and_cheese/2027349.jpg\b\b\b\b\b\b\b\b\b\b\b\b\b\b\b\b\b\b\b\b\b\b\b\b\b\b\b\b\b\b\b\b\b\b\b\b\b\b\b\b\b\b\b\b\b\b\b\b\b\b\b                                                   \b\b\b\b\b\b\b\b\b\b\b\b\b\b\b\b\b\b\b\b\b\b\b\b\b\b\b\b\b\b\b\b\b\b\b\b\b\b\b\b\b\b\b\b\b\b\b\b\b\b\b 61% 62484 - images/macaroni_and_cheese/234796.jpg\b\b\b\b\b\b\b\b\b\b\b\b\b\b\b\b\b\b\b\b\b\b\b\b\b\b\b\b\b\b\b\b\b\b\b\b\b\b\b\b\b\b\b\b\b\b\b\b\b\b                                                  \b\b\b\b\b\b\b\b\b\b\b\b\b\b\b\b\b\b\b\b\b\b\b\b\b\b\b\b\b\b\b\b\b\b\b\b\b\b\b\b\b\b\b\b\b\b\b\b\b\b 61% 62570 - images/macaroni_and_cheese/2658051.jpg\b\b\b\b\b\b\b\b\b\b\b\b\b\b\b\b\b\b\b\b\b\b\b\b\b\b\b\b\b\b\b\b\b\b\b\b\b\b\b\b\b\b\b\b\b\b\b\b\b\b\b                                                   \b\b\b\b\b\b\b\b\b\b\b\b\b\b\b\b\b\b\b\b\b\b\b\b\b\b\b\b\b\b\b\b\b\b\b\b\b\b\b\b\b\b\b\b\b\b\b\b\b\b\b 61% 62571 - images/macaroni_and_cheese/2659284.jpg\b\b\b\b\b\b\b\b\b\b\b\b\b\b\b\b\b\b\b\b\b\b\b\b\b\b\b\b\b\b\b\b\b\b\b\b\b\b\b\b\b\b\b\b\b\b\b\b\b\b\b                                                   \b\b\b\b\b\b\b\b\b\b\b\b\b\b\b\b\b\b\b\b\b\b\b\b\b\b\b\b\b\b\b\b\b\b\b\b\b\b\b\b\b\b\b\b\b\b\b\b\b\b\b 61% 62655 - images/macaroni_and_cheese/2898736.jpg\b\b\b\b\b\b\b\b\b\b\b\b\b\b\b\b\b\b\b\b\b\b\b\b\b\b\b\b\b\b\b\b\b\b\b\b\b\b\b\b\b\b\b\b\b\b\b\b\b\b\b                                                   \b\b\b\b\b\b\b\b\b\b\b\b\b\b\b\b\b\b\b\b\b\b\b\b\b\b\b\b\b\b\b\b\b\b\b\b\b\b\b\b\b\b\b\b\b\b\b\b\b\b\b 61% 62741 - images/macaroni_and_cheese/3279404.jpg\b\b\b\b\b\b\b\b\b\b\b\b\b\b\b\b\b\b\b\b\b\b\b\b\b\b\b\b\b\b\b\b\b\b\b\b\b\b\b\b\b\b\b\b\b\b\b\b\b\b\b                                                   \b\b\b\b\b\b\b\b\b\b\b\b\b\b\b\b\b\b\b\b\b\b\b\b\b\b\b\b\b\b\b\b\b\b\b\b\b\b\b\b\b\b\b\b\b\b\b\b\b\b\b 61% 62831 - images/macaroni_and_cheese/3593119.jpg\b\b\b\b\b\b\b\b\b\b\b\b\b\b\b\b\b\b\b\b\b\b\b\b\b\b\b\b\b\b\b\b\b\b\b\b\b\b\b\b\b\b\b\b\b\b\b\b\b\b\b                                                   \b\b\b\b\b\b\b\b\b\b\b\b\b\b\b\b\b\b\b\b\b\b\b\b\b\b\b\b\b\b\b\b\b\b\b\b\b\b\b\b\b\b\b\b\b\b\b\b\b\b\b 61% 62902 - images/macaroni_and_cheese/3914797.jpg\b\b\b\b\b\b\b\b\b\b\b\b\b\b\b\b\b\b\b\b\b\b\b\b\b\b\b\b\b\b\b\b\b\b\b\b\b\b\b\b\b\b\b\b\b\b\b\b\b\b\b                                                   \b\b\b\b\b\b\b\b\b\b\b\b\b\b\b\b\b\b\b\b\b\b\b\b\b\b\b\b\b\b\b\b\b\b\b\b\b\b\b\b\b\b\b\b\b\b\b\b\b\b\b 61% 62920 - images/macaroni_and_cheese/44081.jpg\b\b\b\b\b\b\b\b\b\b\b\b\b\b\b\b\b\b\b\b\b\b\b\b\b\b\b\b\b\b\b\b\b\b\b\b\b\b\b\b\b\b\b\b\b\b\b\b\b                                                 \b\b\b\b\b\b\b\b\b\b\b\b\b\b\b\b\b\b\b\b\b\b\b\b\b\b\b\b\b\b\b\b\b\b\b\b\b\b\b\b\b\b\b\b\b\b\b\b\b 61% 63008 - images/macaroni_and_cheese/714761.jpg\b\b\b\b\b\b\b\b\b\b\b\b\b\b\b\b\b\b\b\b\b\b\b\b\b\b\b\b\b\b\b\b\b\b\b\b\b\b\b\b\b\b\b\b\b\b\b\b\b\b                                                  \b\b\b\b\b\b\b\b\b\b\b\b\b\b\b\b\b\b\b\b\b\b\b\b\b\b\b\b\b\b\b\b\b\b\b\b\b\b\b\b\b\b\b\b\b\b\b\b\b\b 61% 63092 - images/macaroni_and_cheese/978473.jpg\b\b\b\b\b\b\b\b\b\b\b\b\b\b\b\b\b\b\b\b\b\b\b\b\b\b\b\b\b\b\b\b\b\b\b\b\b\b\b\b\b\b\b\b\b\b\b\b\b\b                                                  \b\b\b\b\b\b\b\b\b\b\b\b\b\b\b\b\b\b\b\b\b\b\b\b\b\b\b\b\b\b\b\b\b\b\b\b\b\b\b\b\b\b\b\b\b\b\b\b\b\b 61% 63174 - images/macarons/1296746.jpg\b\b\b\b\b\b\b\b\b\b\b\b\b\b\b\b\b\b\b\b\b\b\b\b\b\b\b\b\b\b\b\b\b\b\b\b\b\b\b\b                                        \b\b\b\b\b\b\b\b\b\b\b\b\b\b\b\b\b\b\b\b\b\b\b\b\b\b\b\b\b\b\b\b\b\b\b\b\b\b\b\b 61% 63223 - images/macarons/1470419.jpg\b\b\b\b\b\b\b\b\b\b\b\b\b\b\b\b\b\b\b\b\b\b\b\b\b\b\b\b\b\b\b\b\b\b\b\b\b\b\b\b                                        \b\b\b\b\b\b\b\b\b\b\b\b\b\b\b\b\b\b\b\b\b\b\b\b\b\b\b\b\b\b\b\b\b\b\b\b\b\b\b\b 62% 63257 - images/macarons/1540933.jpg\b\b\b\b\b\b\b\b\b\b\b\b\b\b\b\b\b\b\b\b\b\b\b\b\b\b\b\b\b\b\b\b\b\b\b\b\b\b\b\b                                        \b\b\b\b\b\b\b\b\b\b\b\b\b\b\b\b\b\b\b\b\b\b\b\b\b\b\b\b\b\b\b\b\b\b\b\b\b\b\b\b 62% 63347 - images/macarons/1850266.jpg\b\b\b\b\b\b\b\b\b\b\b\b\b\b\b\b\b\b\b\b\b\b\b\b\b\b\b\b\b\b\b\b\b\b\b\b\b\b\b\b                                        \b\b\b\b\b\b\b\b\b\b\b\b\b\b\b\b\b\b\b\b\b\b\b\b\b\b\b\b\b\b\b\b\b\b\b\b\b\b\b\b 62% 63432 - images/macarons/2124739.jpg\b\b\b\b\b\b\b\b\b\b\b\b\b\b\b\b\b\b\b\b\b\b\b\b\b\b\b\b\b\b\b\b\b\b\b\b\b\b\b\b                                        \b\b\b\b\b\b\b\b\b\b\b\b\b\b\b\b\b\b\b\b\b\b\b\b\b\b\b\b\b\b\b\b\b\b\b\b\b\b\b\b 62% 63517 - images/macarons/2465104.jpg\b\b\b\b\b\b\b\b\b\b\b\b\b\b\b\b\b\b\b\b\b\b\b\b\b\b\b\b\b\b\b\b\b\b\b\b\b\b\b\b                                        \b\b\b\b\b\b\b\b\b\b\b\b\b\b\b\b\b\b\b\b\b\b\b\b\b\b\b\b\b\b\b\b\b\b\b\b\b\b\b\b 62% 63518 - images/macarons/2465398.jpg\b\b\b\b\b\b\b\b\b\b\b\b\b\b\b\b\b\b\b\b\b\b\b\b\b\b\b\b\b\b\b\b\b\b\b\b\b\b\b\b                                        \b\b\b\b\b\b\b\b\b\b\b\b\b\b\b\b\b\b\b\b\b\b\b\b\b\b\b\b\b\b\b\b\b\b\b\b\b\b\b\b 62% 63604 - images/macarons/2771247.jpg\b\b\b\b\b\b\b\b\b\b\b\b\b\b\b\b\b\b\b\b\b\b\b\b\b\b\b\b\b\b\b\b\b\b\b\b\b\b\b\b                                        \b\b\b\b\b\b\b\b\b\b\b\b\b\b\b\b\b\b\b\b\b\b\b\b\b\b\b\b\b\b\b\b\b\b\b\b\b\b\b\b 62% 63693 - images/macarons/307743.jpg\b\b\b\b\b\b\b\b\b\b\b\b\b\b\b\b\b\b\b\b\b\b\b\b\b\b\b\b\b\b\b\b\b\b\b\b\b\b\b                                       \b\b\b\b\b\b\b\b\b\b\b\b\b\b\b\b\b\b\b\b\b\b\b\b\b\b\b\b\b\b\b\b\b\b\b\b\b\b\b 62% 63694 - images/macarons/307941.jpg\b\b\b\b\b\b\b\b\b\b\b\b\b\b\b\b\b\b\b\b\b\b\b\b\b\b\b\b\b\b\b\b\b\b\b\b\b\b\b                                       \b\b\b\b\b\b\b\b\b\b\b\b\b\b\b\b\b\b\b\b\b\b\b\b\b\b\b\b\b\b\b\b\b\b\b\b\b\b\b 62% 63782 - images/macarons/3421367.jpg\b\b\b\b\b\b\b\b\b\b\b\b\b\b\b\b\b\b\b\b\b\b\b\b\b\b\b\b\b\b\b\b\b\b\b\b\b\b\b\b                                        \b\b\b\b\b\b\b\b\b\b\b\b\b\b\b\b\b\b\b\b\b\b\b\b\b\b\b\b\b\b\b\b\b\b\b\b\b\b\b\b 62% 63868 - images/macarons/380807.jpg\b\b\b\b\b\b\b\b\b\b\b\b\b\b\b\b\b\b\b\b\b\b\b\b\b\b\b\b\b\b\b\b\b\b\b\b\b\b\b                                       \b\b\b\b\b\b\b\b\b\b\b\b\b\b\b\b\b\b\b\b\b\b\b\b\b\b\b\b\b\b\b\b\b\b\b\b\b\b\b 62% 63959 - images/macarons/567921.jpg\b\b\b\b\b\b\b\b\b\b\b\b\b\b\b\b\b\b\b\b\b\b\b\b\b\b\b\b\b\b\b\b\b\b\b\b\b\b\b                                       \b\b\b\b\b\b\b\b\b\b\b\b\b\b\b\b\b\b\b\b\b\b\b\b\b\b\b\b\b\b\b\b\b\b\b\b\b\b\b 62% 63960 - images/macarons/570324.jpg\b\b\b\b\b\b\b\b\b\b\b\b\b\b\b\b\b\b\b\b\b\b\b\b\b\b\b\b\b\b\b\b\b\b\b\b\b\b\b                                       \b\b\b\b\b\b\b\b\b\b\b\b\b\b\b\b\b\b\b\b\b\b\b\b\b\b\b\b\b\b\b\b\b\b\b\b\b\b\b 62% 64042 - images/macarons/839307.jpg\b\b\b\b\b\b\b\b\b\b\b\b\b\b\b\b\b\b\b\b\b\b\b\b\b\b\b\b\b\b\b\b\b\b\b\b\b\b\b                                       \b\b\b\b\b\b\b\b\b\b\b\b\b\b\b\b\b\b\b\b\b\b\b\b\b\b\b\b\b\b\b\b\b\b\b\b\b\b\b 62% 64128 - images/miso_soup/1100218.jpg\b\b\b\b\b\b\b\b\b\b\b\b\b\b\b\b\b\b\b\b\b\b\b\b\b\b\b\b\b\b\b\b\b\b\b\b\b\b\b\b\b                                         \b\b\b\b\b\b\b\b\b\b\b\b\b\b\b\b\b\b\b\b\b\b\b\b\b\b\b\b\b\b\b\b\b\b\b\b\b\b\b\b\b 62% 64226 - images/miso_soup/1416012.jpg\b\b\b\b\b\b\b\b\b\b\b\b\b\b\b\b\b\b\b\b\b\b\b\b\b\b\b\b\b\b\b\b\b\b\b\b\b\b\b\b\b                                         \b\b\b\b\b\b\b\b\b\b\b\b\b\b\b\b\b\b\b\b\b\b\b\b\b\b\b\b\b\b\b\b\b\b\b\b\b\b\b\b\b 62% 64324 - images/miso_soup/1760013.jpg\b\b\b\b\b\b\b\b\b\b\b\b\b\b\b\b\b\b\b\b\b\b\b\b\b\b\b\b\b\b\b\b\b\b\b\b\b\b\b\b\b                                         \b\b\b\b\b\b\b\b\b\b\b\b\b\b\b\b\b\b\b\b\b\b\b\b\b\b\b\b\b\b\b\b\b\b\b\b\b\b\b\b\b 63% 64324 - images/miso_soup/1760013.jpg\b\b\b\b\b\b\b\b\b\b\b\b\b\b\b\b\b\b\b\b\b\b\b\b\b\b\b\b\b\b\b\b\b\b\b\b\b\b\b\b\b                                         \b\b\b\b\b\b\b\b\b\b\b\b\b\b\b\b\b\b\b\b\b\b\b\b\b\b\b\b\b\b\b\b\b\b\b\b\b\b\b\b\b 63% 64420 - images/miso_soup/2109032.jpg\b\b\b\b\b\b\b\b\b\b\b\b\b\b\b\b\b\b\b\b\b\b\b\b\b\b\b\b\b\b\b\b\b\b\b\b\b\b\b\b\b                                         \b\b\b\b\b\b\b\b\b\b\b\b\b\b\b\b\b\b\b\b\b\b\b\b\b\b\b\b\b\b\b\b\b\b\b\b\b\b\b\b\b 63% 64519 - images/miso_soup/2489391.jpg\b\b\b\b\b\b\b\b\b\b\b\b\b\b\b\b\b\b\b\b\b\b\b\b\b\b\b\b\b\b\b\b\b\b\b\b\b\b\b\b\b                                         \b\b\b\b\b\b\b\b\b\b\b\b\b\b\b\b\b\b\b\b\b\b\b\b\b\b\b\b\b\b\b\b\b\b\b\b\b\b\b\b\b 63% 64621 - images/miso_soup/2810007.jpg\b\b\b\b\b\b\b\b\b\b\b\b\b\b\b\b\b\b\b\b\b\b\b\b\b\b\b\b\b\b\b\b\b\b\b\b\b\b\b\b\b                                         \b\b\b\b\b\b\b\b\b\b\b\b\b\b\b\b\b\b\b\b\b\b\b\b\b\b\b\b\b\b\b\b\b\b\b\b\b\b\b\b\b 63% 64704 - images/miso_soup/3071740.jpg\b\b\b\b\b\b\b\b\b\b\b\b\b\b\b\b\b\b\b\b\b\b\b\b\b\b\b\b\b\b\b\b\b\b\b\b\b\b\b\b\b                                         \b\b\b\b\b\b\b\b\b\b\b\b\b\b\b\b\b\b\b\b\b\b\b\b\b\b\b\b\b\b\b\b\b\b\b\b\b\b\b\b\b 63% 64726 - images/miso_soup/3136624.jpg\b\b\b\b\b\b\b\b\b\b\b\b\b\b\b\b\b\b\b\b\b\b\b\b\b\b\b\b\b\b\b\b\b\b\b\b\b\b\b\b\b                                         \b\b\b\b\b\b\b\b\b\b\b\b\b\b\b\b\b\b\b\b\b\b\b\b\b\b\b\b\b\b\b\b\b\b\b\b\b\b\b\b\b 63% 64827 - images/miso_soup/347047.jpg\b\b\b\b\b\b\b\b\b\b\b\b\b\b\b\b\b\b\b\b\b\b\b\b\b\b\b\b\b\b\b\b\b\b\b\b\b\b\b\b                                        \b\b\b\b\b\b\b\b\b\b\b\b\b\b\b\b\b\b\b\b\b\b\b\b\b\b\b\b\b\b\b\b\b\b\b\b\b\b\b\b 63% 64928 - images/miso_soup/3919372.jpg\b\b\b\b\b\b\b\b\b\b\b\b\b\b\b\b\b\b\b\b\b\b\b\b\b\b\b\b\b\b\b\b\b\b\b\b\b\b\b\b\b                                         \b\b\b\b\b\b\b\b\b\b\b\b\b\b\b\b\b\b\b\b\b\b\b\b\b\b\b\b\b\b\b\b\b\b\b\b\b\b\b\b\b 63% 64929 - images/miso_soup/3924511.jpg\b\b\b\b\b\b\b\b\b\b\b\b\b\b\b\b\b\b\b\b\b\b\b\b\b\b\b\b\b\b\b\b\b\b\b\b\b\b\b\b\b                                         \b\b\b\b\b\b\b\b\b\b\b\b\b\b\b\b\b\b\b\b\b\b\b\b\b\b\b\b\b\b\b\b\b\b\b\b\b\b\b\b\b 63% 65030 - images/miso_soup/78231.jpg\b\b\b\b\b\b\b\b\b\b\b\b\b\b\b\b\b\b\b\b\b\b\b\b\b\b\b\b\b\b\b\b\b\b\b\b\b\b\b                                       \b\b\b\b\b\b\b\b\b\b\b\b\b\b\b\b\b\b\b\b\b\b\b\b\b\b\b\b\b\b\b\b\b\b\b\b\b\b\b 63% 65125 - images/mussels/1102616.jpg\b\b\b\b\b\b\b\b\b\b\b\b\b\b\b\b\b\b\b\b\b\b\b\b\b\b\b\b\b\b\b\b\b\b\b\b\b\b\b                                       \b\b\b\b\b\b\b\b\b\b\b\b\b\b\b\b\b\b\b\b\b\b\b\b\b\b\b\b\b\b\b\b\b\b\b\b\b\b\b 63% 65200 - images/mussels/1384755.jpg\b\b\b\b\b\b\b\b\b\b\b\b\b\b\b\b\b\b\b\b\b\b\b\b\b\b\b\b\b\b\b\b\b\b\b\b\b\b\b                                       \b\b\b\b\b\b\b\b\b\b\b\b\b\b\b\b\b\b\b\b\b\b\b\b\b\b\b\b\b\b\b\b\b\b\b\b\b\b\b 63% 65201 - images/mussels/138799.jpg\b\b\b\b\b\b\b\b\b\b\b\b\b\b\b\b\b\b\b\b\b\b\b\b\b\b\b\b\b\b\b\b\b\b\b\b\b\b                                      \b\b\b\b\b\b\b\b\b\b\b\b\b\b\b\b\b\b\b\b\b\b\b\b\b\b\b\b\b\b\b\b\b\b\b\b\b\b 63% 65281 - images/mussels/1701492.jpg\b\b\b\b\b\b\b\b\b\b\b\b\b\b\b\b\b\b\b\b\b\b\b\b\b\b\b\b\b\b\b\b\b\b\b\b\b\b\b                                       \b\b\b\b\b\b\b\b\b\b\b\b\b\b\b\b\b\b\b\b\b\b\b\b\b\b\b\b\b\b\b\b\b\b\b\b\b\b\b 63% 65355 - images/mussels/2011661.jpg\b\b\b\b\b\b\b\b\b\b\b\b\b\b\b\b\b\b\b\b\b\b\b\b\b\b\b\b\b\b\b\b\b\b\b\b\b\b\b                                       \b\b\b\b\b\b\b\b\b\b\b\b\b\b\b\b\b\b\b\b\b\b\b\b\b\b\b\b\b\b\b\b\b\b\b\b\b\b\b 63% 65434 - images/mussels/2261658.jpg\b\b\b\b\b\b\b\b\b\b\b\b\b\b\b\b\b\b\b\b\b\b\b\b\b\b\b\b\b\b\b\b\b\b\b\b\b\b\b                                       \b\b\b\b\b\b\b\b\b\b\b\b\b\b\b\b\b\b\b\b\b\b\b\b\b\b\b\b\b\b\b\b\b\b\b\b\b\b\b 64% 65506 - images/mussels/2542921.jpg\b\b\b\b\b\b\b\b\b\b\b\b\b\b\b\b\b\b\b\b\b\b\b\b\b\b\b\b\b\b\b\b\b\b\b\b\b\b\b                                       \b\b\b\b\b\b\b\b\b\b\b\b\b\b\b\b\b\b\b\b\b\b\b\b\b\b\b\b\b\b\b\b\b\b\b\b\b\b\b 64% 65576 - images/mussels/28167.jpg\b\b\b\b\b\b\b\b\b\b\b\b\b\b\b\b\b\b\b\b\b\b\b\b\b\b\b\b\b\b\b\b\b\b\b\b\b                                     \b\b\b\b\b\b\b\b\b\b\b\b\b\b\b\b\b\b\b\b\b\b\b\b\b\b\b\b\b\b\b\b\b\b\b\b\b 64% 65584 - images/mussels/2847819.jpg\b\b\b\b\b\b\b\b\b\b\b\b\b\b\b\b\b\b\b\b\b\b\b\b\b\b\b\b\b\b\b\b\b\b\b\b\b\b\b                                       \b\b\b\b\b\b\b\b\b\b\b\b\b\b\b\b\b\b\b\b\b\b\b\b\b\b\b\b\b\b\b\b\b\b\b\b\b\b\b 64% 65662 - images/mussels/3108449.jpg\b\b\b\b\b\b\b\b\b\b\b\b\b\b\b\b\b\b\b\b\b\b\b\b\b\b\b\b\b\b\b\b\b\b\b\b\b\b\b                                       \b\b\b\b\b\b\b\b\b\b\b\b\b\b\b\b\b\b\b\b\b\b\b\b\b\b\b\b\b\b\b\b\b\b\b\b\b\b\b 64% 65745 - images/mussels/3372586.jpg\b\b\b\b\b\b\b\b\b\b\b\b\b\b\b\b\b\b\b\b\b\b\b\b\b\b\b\b\b\b\b\b\b\b\b\b\b\b\b                                       \b\b\b\b\b\b\b\b\b\b\b\b\b\b\b\b\b\b\b\b\b\b\b\b\b\b\b\b\b\b\b\b\b\b\b\b\b\b\b 64% 65822 - images/mussels/3603079.jpg\b\b\b\b\b\b\b\b\b\b\b\b\b\b\b\b\b\b\b\b\b\b\b\b\b\b\b\b\b\b\b\b\b\b\b\b\b\b\b                                       \b\b\b\b\b\b\b\b\b\b\b\b\b\b\b\b\b\b\b\b\b\b\b\b\b\b\b\b\b\b\b\b\b\b\b\b\b\b\b 64% 65823 - images/mussels/3609786.jpg\b\b\b\b\b\b\b\b\b\b\b\b\b\b\b\b\b\b\b\b\b\b\b\b\b\b\b\b\b\b\b\b\b\b\b\b\b\b\b                                       \b\b\b\b\b\b\b\b\b\b\b\b\b\b\b\b\b\b\b\b\b\b\b\b\b\b\b\b\b\b\b\b\b\b\b\b\b\b\b 64% 65898 - images/mussels/3833955.jpg\b\b\b\b\b\b\b\b\b\b\b\b\b\b\b\b\b\b\b\b\b\b\b\b\b\b\b\b\b\b\b\b\b\b\b\b\b\b\b                                       \b\b\b\b\b\b\b\b\b\b\b\b\b\b\b\b\b\b\b\b\b\b\b\b\b\b\b\b\b\b\b\b\b\b\b\b\b\b\b 64% 65971 - images/mussels/558357.jpg\b\b\b\b\b\b\b\b\b\b\b\b\b\b\b\b\b\b\b\b\b\b\b\b\b\b\b\b\b\b\b\b\b\b\b\b\b\b                                      \b\b\b\b\b\b\b\b\b\b\b\b\b\b\b\b\b\b\b\b\b\b\b\b\b\b\b\b\b\b\b\b\b\b\b\b\b\b 64% 66049 - images/mussels/781276.jpg\b\b\b\b\b\b\b\b\b\b\b\b\b\b\b\b\b\b\b\b\b\b\b\b\b\b\b\b\b\b\b\b\b\b\b\b\b\b                                      \b\b\b\b\b\b\b\b\b\b\b\b\b\b\b\b\b\b\b\b\b\b\b\b\b\b\b\b\b\b\b\b\b\b\b\b\b\b 64% 66125 - images/nachos/1079533.jpg\b\b\b\b\b\b\b\b\b\b\b\b\b\b\b\b\b\b\b\b\b\b\b\b\b\b\b\b\b\b\b\b\b\b\b\b\b\b                                      \b\b\b\b\b\b\b\b\b\b\b\b\b\b\b\b\b\b\b\b\b\b\b\b\b\b\b\b\b\b\b\b\b\b\b\b\b\b 64% 66126 - images/nachos/1080976.jpg\b\b\b\b\b\b\b\b\b\b\b\b\b\b\b\b\b\b\b\b\b\b\b\b\b\b\b\b\b\b\b\b\b\b\b\b\b\b                                      \b\b\b\b\b\b\b\b\b\b\b\b\b\b\b\b\b\b\b\b\b\b\b\b\b\b\b\b\b\b\b\b\b\b\b\b\b\b 64% 66202 - images/nachos/1366570.jpg\b\b\b\b\b\b\b\b\b\b\b\b\b\b\b\b\b\b\b\b\b\b\b\b\b\b\b\b\b\b\b\b\b\b\b\b\b\b                                      \b\b\b\b\b\b\b\b\b\b\b\b\b\b\b\b\b\b\b\b\b\b\b\b\b\b\b\b\b\b\b\b\b\b\b\b\b\b 64% 66280 - images/nachos/1634126.jpg\b\b\b\b\b\b\b\b\b\b\b\b\b\b\b\b\b\b\b\b\b\b\b\b\b\b\b\b\b\b\b\b\b\b\b\b\b\b                                      \b\b\b\b\b\b\b\b\b\b\b\b\b\b\b\b\b\b\b\b\b\b\b\b\b\b\b\b\b\b\b\b\b\b\b\b\b\b 64% 66357 - images/nachos/1927248.jpg\b\b\b\b\b\b\b\b\b\b\b\b\b\b\b\b\b\b\b\b\b\b\b\b\b\b\b\b\b\b\b\b\b\b\b\b\b\b                                      \b\b\b\b\b\b\b\b\b\b\b\b\b\b\b\b\b\b\b\b\b\b\b\b\b\b\b\b\b\b\b\b\b\b\b\b\b\b 65% 66433 - images/nachos/2230747.jpg\b\b\b\b\b\b\b\b\b\b\b\b\b\b\b\b\b\b\b\b\b\b\b\b\b\b\b\b\b\b\b\b\b\b\b\b\b\b                                      \b\b\b\b\b\b\b\b\b\b\b\b\b\b\b\b\b\b\b\b\b\b\b\b\b\b\b\b\b\b\b\b\b\b\b\b\b\b 65% 66510 - images/nachos/2500365.jpg\b\b\b\b\b\b\b\b\b\b\b\b\b\b\b\b\b\b\b\b\b\b\b\b\b\b\b\b\b\b\b\b\b\b\b\b\b\b                                      \b\b\b\b\b\b\b\b\b\b\b\b\b\b\b\b\b\b\b\b\b\b\b\b\b\b\b\b\b\b\b\b\b\b\b\b\b\b 65% 66511 - images/nachos/251052.jpg\b\b\b\b\b\b\b\b\b\b\b\b\b\b\b\b\b\b\b\b\b\b\b\b\b\b\b\b\b\b\b\b\b\b\b\b\b                                     \b\b\b\b\b\b\b\b\b\b\b\b\b\b\b\b\b\b\b\b\b\b\b\b\b\b\b\b\b\b\b\b\b\b\b\b\b 65% 66587 - images/nachos/2799501.jpg\b\b\b\b\b\b\b\b\b\b\b\b\b\b\b\b\b\b\b\b\b\b\b\b\b\b\b\b\b\b\b\b\b\b\b\b\b\b                                      \b\b\b\b\b\b\b\b\b\b\b\b\b\b\b\b\b\b\b\b\b\b\b\b\b\b\b\b\b\b\b\b\b\b\b\b\b\b 65% 66666 - images/nachos/3106186.jpg\b\b\b\b\b\b\b\b\b\b\b\b\b\b\b\b\b\b\b\b\b\b\b\b\b\b\b\b\b\b\b\b\b\b\b\b\b\b                                      \b\b\b\b\b\b\b\b\b\b\b\b\b\b\b\b\b\b\b\b\b\b\b\b\b\b\b\b\b\b\b\b\b\b\b\b\b\b 65% 66738 - images/nachos/3303216.jpg\b\b\b\b\b\b\b\b\b\b\b\b\b\b\b\b\b\b\b\b\b\b\b\b\b\b\b\b\b\b\b\b\b\b\b\b\b\b                                      \b\b\b\b\b\b\b\b\b\b\b\b\b\b\b\b\b\b\b\b\b\b\b\b\b\b\b\b\b\b\b\b\b\b\b\b\b\b 65% 66740 - images/nachos/3304961.jpg\b\b\b\b\b\b\b\b\b\b\b\b\b\b\b\b\b\b\b\b\b\b\b\b\b\b\b\b\b\b\b\b\b\b\b\b\b\b                                      \b\b\b\b\b\b\b\b\b\b\b\b\b\b\b\b\b\b\b\b\b\b\b\b\b\b\b\b\b\b\b\b\b\b\b\b\b\b 65% 66818 - images/nachos/3544245.jpg\b\b\b\b\b\b\b\b\b\b\b\b\b\b\b\b\b\b\b\b\b\b\b\b\b\b\b\b\b\b\b\b\b\b\b\b\b\b                                      \b\b\b\b\b\b\b\b\b\b\b\b\b\b\b\b\b\b\b\b\b\b\b\b\b\b\b\b\b\b\b\b\b\b\b\b\b\b 65% 66894 - images/nachos/3834059.jpg\b\b\b\b\b\b\b\b\b\b\b\b\b\b\b\b\b\b\b\b\b\b\b\b\b\b\b\b\b\b\b\b\b\b\b\b\b\b                                      \b\b\b\b\b\b\b\b\b\b\b\b\b\b\b\b\b\b\b\b\b\b\b\b\b\b\b\b\b\b\b\b\b\b\b\b\b\b 65% 66968 - images/nachos/561082.jpg\b\b\b\b\b\b\b\b\b\b\b\b\b\b\b\b\b\b\b\b\b\b\b\b\b\b\b\b\b\b\b\b\b\b\b\b\b                                     \b\b\b\b\b\b\b\b\b\b\b\b\b\b\b\b\b\b\b\b\b\b\b\b\b\b\b\b\b\b\b\b\b\b\b\b\b 65% 67033 - images/nachos/829126.jpg\b\b\b\b\b\b\b\b\b\b\b\b\b\b\b\b\b\b\b\b\b\b\b\b\b\b\b\b\b\b\b\b\b\b\b\b\b                                     \b\b\b\b\b\b\b\b\b\b\b\b\b\b\b\b\b\b\b\b\b\b\b\b\b\b\b\b\b\b\b\b\b\b\b\b\b 65% 67045 - images/nachos/863967.jpg\b\b\b\b\b\b\b\b\b\b\b\b\b\b\b\b\b\b\b\b\b\b\b\b\b\b\b\b\b\b\b\b\b\b\b\b\b                                     \b\b\b\b\b\b\b\b\b\b\b\b\b\b\b\b\b\b\b\b\b\b\b\b\b\b\b\b\b\b\b\b\b\b\b\b\b 65% 67125 - images/omelette/1134966.jpg\b\b\b\b\b\b\b\b\b\b\b\b\b\b\b\b\b\b\b\b\b\b\b\b\b\b\b\b\b\b\b\b\b\b\b\b\b\b\b\b                                        \b\b\b\b\b\b\b\b\b\b\b\b\b\b\b\b\b\b\b\b\b\b\b\b\b\b\b\b\b\b\b\b\b\b\b\b\b\b\b\b 65% 67203 - images/omelette/1441227.jpg\b\b\b\b\b\b\b\b\b\b\b\b\b\b\b\b\b\b\b\b\b\b\b\b\b\b\b\b\b\b\b\b\b\b\b\b\b\b\b\b                                        \b\b\b\b\b\b\b\b\b\b\b\b\b\b\b\b\b\b\b\b\b\b\b\b\b\b\b\b\b\b\b\b\b\b\b\b\b\b\b\b 65% 67281 - images/omelette/1675150.jpg\b\b\b\b\b\b\b\b\b\b\b\b\b\b\b\b\b\b\b\b\b\b\b\b\b\b\b\b\b\b\b\b\b\b\b\b\b\b\b\b                                        \b\b\b\b\b\b\b\b\b\b\b\b\b\b\b\b\b\b\b\b\b\b\b\b\b\b\b\b\b\b\b\b\b\b\b\b\b\b\b\b 65% 67282 - images/omelette/1681866.jpg\b\b\b\b\b\b\b\b\b\b\b\b\b\b\b\b\b\b\b\b\b\b\b\b\b\b\b\b\b\b\b\b\b\b\b\b\b\b\b\b                                        \b\b\b\b\b\b\b\b\b\b\b\b\b\b\b\b\b\b\b\b\b\b\b\b\b\b\b\b\b\b\b\b\b\b\b\b\b\b\b\b 66% 67357 - images/omelette/196663.jpg\b\b\b\b\b\b\b\b\b\b\b\b\b\b\b\b\b\b\b\b\b\b\b\b\b\b\b\b\b\b\b\b\b\b\b\b\b\b\b                                       \b\b\b\b\b\b\b\b\b\b\b\b\b\b\b\b\b\b\b\b\b\b\b\b\b\b\b\b\b\b\b\b\b\b\b\b\b\b\b 66% 67436 - images/omelette/2236249.jpg\b\b\b\b\b\b\b\b\b\b\b\b\b\b\b\b\b\b\b\b\b\b\b\b\b\b\b\b\b\b\b\b\b\b\b\b\b\b\b\b                                        \b\b\b\b\b\b\b\b\b\b\b\b\b\b\b\b\b\b\b\b\b\b\b\b\b\b\b\b\b\b\b\b\b\b\b\b\b\b\b\b 66% 67514 - images/omelette/2508620.jpg\b\b\b\b\b\b\b\b\b\b\b\b\b\b\b\b\b\b\b\b\b\b\b\b\b\b\b\b\b\b\b\b\b\b\b\b\b\b\b\b                                        \b\b\b\b\b\b\b\b\b\b\b\b\b\b\b\b\b\b\b\b\b\b\b\b\b\b\b\b\b\b\b\b\b\b\b\b\b\b\b\b 66% 67562 - images/omelette/2676524.jpg\b\b\b\b\b\b\b\b\b\b\b\b\b\b\b\b\b\b\b\b\b\b\b\b\b\b\b\b\b\b\b\b\b\b\b\b\b\b\b\b                                        \b\b\b\b\b\b\b\b\b\b\b\b\b\b\b\b\b\b\b\b\b\b\b\b\b\b\b\b\b\b\b\b\b\b\b\b\b\b\b\b 66% 67596 - images/omelette/2791607.jpg\b\b\b\b\b\b\b\b\b\b\b\b\b\b\b\b\b\b\b\b\b\b\b\b\b\b\b\b\b\b\b\b\b\b\b\b\b\b\b\b                                        \b\b\b\b\b\b\b\b\b\b\b\b\b\b\b\b\b\b\b\b\b\b\b\b\b\b\b\b\b\b\b\b\b\b\b\b\b\b\b\b 66% 67678 - images/omelette/3097772.jpg\b\b\b\b\b\b\b\b\b\b\b\b\b\b\b\b\b\b\b\b\b\b\b\b\b\b\b\b\b\b\b\b\b\b\b\b\b\b\b\b                                        \b\b\b\b\b\b\b\b\b\b\b\b\b\b\b\b\b\b\b\b\b\b\b\b\b\b\b\b\b\b\b\b\b\b\b\b\b\b\b\b 66% 67761 - images/omelette/339643.jpg\b\b\b\b\b\b\b\b\b\b\b\b\b\b\b\b\b\b\b\b\b\b\b\b\b\b\b\b\b\b\b\b\b\b\b\b\b\b\b                                       \b\b\b\b\b\b\b\b\b\b\b\b\b\b\b\b\b\b\b\b\b\b\b\b\b\b\b\b\b\b\b\b\b\b\b\b\b\b\b 66% 67840 - images/omelette/3670784.jpg\b\b\b\b\b\b\b\b\b\b\b\b\b\b\b\b\b\b\b\b\b\b\b\b\b\b\b\b\b\b\b\b\b\b\b\b\b\b\b\b                                        \b\b\b\b\b\b\b\b\b\b\b\b\b\b\b\b\b\b\b\b\b\b\b\b\b\b\b\b\b\b\b\b\b\b\b\b\b\b\b\b 66% 67841 - images/omelette/3673747.jpg\b\b\b\b\b\b\b\b\b\b\b\b\b\b\b\b\b\b\b\b\b\b\b\b\b\b\b\b\b\b\b\b\b\b\b\b\b\b\b\b                                        \b\b\b\b\b\b\b\b\b\b\b\b\b\b\b\b\b\b\b\b\b\b\b\b\b\b\b\b\b\b\b\b\b\b\b\b\b\b\b\b 66% 67922 - images/omelette/469726.jpg\b\b\b\b\b\b\b\b\b\b\b\b\b\b\b\b\b\b\b\b\b\b\b\b\b\b\b\b\b\b\b\b\b\b\b\b\b\b\b                                       \b\b\b\b\b\b\b\b\b\b\b\b\b\b\b\b\b\b\b\b\b\b\b\b\b\b\b\b\b\b\b\b\b\b\b\b\b\b\b 66% 67999 - images/omelette/629365.jpg\b\b\b\b\b\b\b\b\b\b\b\b\b\b\b\b\b\b\b\b\b\b\b\b\b\b\b\b\b\b\b\b\b\b\b\b\b\b\b                                       \b\b\b\b\b\b\b\b\b\b\b\b\b\b\b\b\b\b\b\b\b\b\b\b\b\b\b\b\b\b\b\b\b\b\b\b\b\b\b 66% 68081 - images/omelette/913969.jpg\b\b\b\b\b\b\b\b\b\b\b\b\b\b\b\b\b\b\b\b\b\b\b\b\b\b\b\b\b\b\b\b\b\b\b\b\b\b\b                                       \b\b\b\b\b\b\b\b\b\b\b\b\b\b\b\b\b\b\b\b\b\b\b\b\b\b\b\b\b\b\b\b\b\b\b\b\b\b\b 66% 68084 - images/omelette/921123.jpg\b\b\b\b\b\b\b\b\b\b\b\b\b\b\b\b\b\b\b\b\b\b\b\b\b\b\b\b\b\b\b\b\b\b\b\b\b\b\b                                       \b\b\b\b\b\b\b\b\b\b\b\b\b\b\b\b\b\b\b\b\b\b\b\b\b\b\b\b\b\b\b\b\b\b\b\b\b\b\b 66% 68165 - images/onion_rings/1217784.jpg\b\b\b\b\b\b\b\b\b\b\b\b\b\b\b\b\b\b\b\b\b\b\b\b\b\b\b\b\b\b\b\b\b\b\b\b\b\b\b\b\b\b\b                                           \b\b\b\b\b\b\b\b\b\b\b\b\b\b\b\b\b\b\b\b\b\b\b\b\b\b\b\b\b\b\b\b\b\b\b\b\b\b\b\b\b\b\b 66% 68248 - images/onion_rings/1499487.jpg\b\b\b\b\b\b\b\b\b\b\b\b\b\b\b\b\b\b\b\b\b\b\b\b\b\b\b\b\b\b\b\b\b\b\b\b\b\b\b\b\b\b\b                                           \b\b\b\b\b\b\b\b\b\b\b\b\b\b\b\b\b\b\b\b\b\b\b\b\b\b\b\b\b\b\b\b\b\b\b\b\b\b\b\b\b\b\b 67% 68335 - images/onion_rings/1834122.jpg\b\b\b\b\b\b\b\b\b\b\b\b\b\b\b\b\b\b\b\b\b\b\b\b\b\b\b\b\b\b\b\b\b\b\b\b\b\b\b\b\b\b\b                                           \b\b\b\b\b\b\b\b\b\b\b\b\b\b\b\b\b\b\b\b\b\b\b\b\b\b\b\b\b\b\b\b\b\b\b\b\b\b\b\b\b\b\b 67% 68421 - images/onion_rings/2135266.jpg\b\b\b\b\b\b\b\b\b\b\b\b\b\b\b\b\b\b\b\b\b\b\b\b\b\b\b\b\b\b\b\b\b\b\b\b\b\b\b\b\b\b\b                                           \b\b\b\b\b\b\b\b\b\b\b\b\b\b\b\b\b\b\b\b\b\b\b\b\b\b\b\b\b\b\b\b\b\b\b\b\b\b\b\b\b\b\b 67% 68422 - images/onion_rings/2137491.jpg\b\b\b\b\b\b\b\b\b\b\b\b\b\b\b\b\b\b\b\b\b\b\b\b\b\b\b\b\b\b\b\b\b\b\b\b\b\b\b\b\b\b\b                                           \b\b\b\b\b\b\b\b\b\b\b\b\b\b\b\b\b\b\b\b\b\b\b\b\b\b\b\b\b\b\b\b\b\b\b\b\b\b\b\b\b\b\b 67% 68506 - images/onion_rings/2418871.jpg\b\b\b\b\b\b\b\b\b\b\b\b\b\b\b\b\b\b\b\b\b\b\b\b\b\b\b\b\b\b\b\b\b\b\b\b\b\b\b\b\b\b\b                                           \b\b\b\b\b\b\b\b\b\b\b\b\b\b\b\b\b\b\b\b\b\b\b\b\b\b\b\b\b\b\b\b\b\b\b\b\b\b\b\b\b\b\b 67% 68589 - images/onion_rings/2689560.jpg\b\b\b\b\b\b\b\b\b\b\b\b\b\b\b\b\b\b\b\b\b\b\b\b\b\b\b\b\b\b\b\b\b\b\b\b\b\b\b\b\b\b\b                                           \b\b\b\b\b\b\b\b\b\b\b\b\b\b\b\b\b\b\b\b\b\b\b\b\b\b\b\b\b\b\b\b\b\b\b\b\b\b\b\b\b\b\b 67% 68677 - images/onion_rings/2977546.jpg\b\b\b\b\b\b\b\b\b\b\b\b\b\b\b\b\b\b\b\b\b\b\b\b\b\b\b\b\b\b\b\b\b\b\b\b\b\b\b\b\b\b\b                                           \b\b\b\b\b\b\b\b\b\b\b\b\b\b\b\b\b\b\b\b\b\b\b\b\b\b\b\b\b\b\b\b\b\b\b\b\b\b\b\b\b\b\b 67% 68678 - images/onion_rings/2978547.jpg\b\b\b\b\b\b\b\b\b\b\b\b\b\b\b\b\b\b\b\b\b\b\b\b\b\b\b\b\b\b\b\b\b\b\b\b\b\b\b\b\b\b\b                                           \b\b\b\b\b\b\b\b\b\b\b\b\b\b\b\b\b\b\b\b\b\b\b\b\b\b\b\b\b\b\b\b\b\b\b\b\b\b\b\b\b\b\b 67% 68764 - images/onion_rings/3324385.jpg\b\b\b\b\b\b\b\b\b\b\b\b\b\b\b\b\b\b\b\b\b\b\b\b\b\b\b\b\b\b\b\b\b\b\b\b\b\b\b\b\b\b\b                                           \b\b\b\b\b\b\b\b\b\b\b\b\b\b\b\b\b\b\b\b\b\b\b\b\b\b\b\b\b\b\b\b\b\b\b\b\b\b\b\b\b\b\b 67% 68845 - images/onion_rings/3606719.jpg\b\b\b\b\b\b\b\b\b\b\b\b\b\b\b\b\b\b\b\b\b\b\b\b\b\b\b\b\b\b\b\b\b\b\b\b\b\b\b\b\b\b\b                                           \b\b\b\b\b\b\b\b\b\b\b\b\b\b\b\b\b\b\b\b\b\b\b\b\b\b\b\b\b\b\b\b\b\b\b\b\b\b\b\b\b\b\b 67% 68846 - images/onion_rings/3620283.jpg\b\b\b\b\b\b\b\b\b\b\b\b\b\b\b\b\b\b\b\b\b\b\b\b\b\b\b\b\b\b\b\b\b\b\b\b\b\b\b\b\b\b\b                                           \b\b\b\b\b\b\b\b\b\b\b\b\b\b\b\b\b\b\b\b\b\b\b\b\b\b\b\b\b\b\b\b\b\b\b\b\b\b\b\b\b\b\b 67% 68928 - images/onion_rings/416511.jpg\b\b\b\b\b\b\b\b\b\b\b\b\b\b\b\b\b\b\b\b\b\b\b\b\b\b\b\b\b\b\b\b\b\b\b\b\b\b\b\b\b\b                                          \b\b\b\b\b\b\b\b\b\b\b\b\b\b\b\b\b\b\b\b\b\b\b\b\b\b\b\b\b\b\b\b\b\b\b\b\b\b\b\b\b\b 67% 68941 - images/onion_rings/477318.jpg\b\b\b\b\b\b\b\b\b\b\b\b\b\b\b\b\b\b\b\b\b\b\b\b\b\b\b\b\b\b\b\b\b\b\b\b\b\b\b\b\b\b                                          \b\b\b\b\b\b\b\b\b\b\b\b\b\b\b\b\b\b\b\b\b\b\b\b\b\b\b\b\b\b\b\b\b\b\b\b\b\b\b\b\b\b 67% 69009 - images/onion_rings/711132.jpg\b\b\b\b\b\b\b\b\b\b\b\b\b\b\b\b\b\b\b\b\b\b\b\b\b\b\b\b\b\b\b\b\b\b\b\b\b\b\b\b\b\b                                          \b\b\b\b\b\b\b\b\b\b\b\b\b\b\b\b\b\b\b\b\b\b\b\b\b\b\b\b\b\b\b\b\b\b\b\b\b\b\b\b\b\b 67% 69010 - images/onion_rings/713145.jpg\b\b\b\b\b\b\b\b\b\b\b\b\b\b\b\b\b\b\b\b\b\b\b\b\b\b\b\b\b\b\b\b\b\b\b\b\b\b\b\b\b\b                                          \b\b\b\b\b\b\b\b\b\b\b\b\b\b\b\b\b\b\b\b\b\b\b\b\b\b\b\b\b\b\b\b\b\b\b\b\b\b\b\b\b\b 67% 69093 - images/onion_rings/962738.jpg\b\b\b\b\b\b\b\b\b\b\b\b\b\b\b\b\b\b\b\b\b\b\b\b\b\b\b\b\b\b\b\b\b\b\b\b\b\b\b\b\b\b                                          \b\b\b\b\b\b\b\b\b\b\b\b\b\b\b\b\b\b\b\b\b\b\b\b\b\b\b\b\b\b\b\b\b\b\b\b\b\b\b\b\b\b 67% 69172 - images/oysters/1324665.jpg\b\b\b\b\b\b\b\b\b\b\b\b\b\b\b\b\b\b\b\b\b\b\b\b\b\b\b\b\b\b\b\b\b\b\b\b\b\b\b                                       \b\b\b\b\b\b\b\b\b\b\b\b\b\b\b\b\b\b\b\b\b\b\b\b\b\b\b\b\b\b\b\b\b\b\b\b\b\b\b 67% 69173 - images/oysters/1327559.jpg\b\b\b\b\b\b\b\b\b\b\b\b\b\b\b\b\b\b\b\b\b\b\b\b\b\b\b\b\b\b\b\b\b\b\b\b\b\b\b                                       \b\b\b\b\b\b\b\b\b\b\b\b\b\b\b\b\b\b\b\b\b\b\b\b\b\b\b\b\b\b\b\b\b\b\b\b\b\b\b 67% 69245 - images/oysters/1634797.jpg\b\b\b\b\b\b\b\b\b\b\b\b\b\b\b\b\b\b\b\b\b\b\b\b\b\b\b\b\b\b\b\b\b\b\b\b\b\b\b                                       \b\b\b\b\b\b\b\b\b\b\b\b\b\b\b\b\b\b\b\b\b\b\b\b\b\b\b\b\b\b\b\b\b\b\b\b\b\b\b 67% 69246 - images/oysters/1637338.jpg\b\b\b\b\b\b\b\b\b\b\b\b\b\b\b\b\b\b\b\b\b\b\b\b\b\b\b\b\b\b\b\b\b\b\b\b\b\b\b                                       \b\b\b\b\b\b\b\b\b\b\b\b\b\b\b\b\b\b\b\b\b\b\b\b\b\b\b\b\b\b\b\b\b\b\b\b\b\b\b 68% 69321 - images/oysters/186400.jpg\b\b\b\b\b\b\b\b\b\b\b\b\b\b\b\b\b\b\b\b\b\b\b\b\b\b\b\b\b\b\b\b\b\b\b\b\b\b                                      \b\b\b\b\b\b\b\b\b\b\b\b\b\b\b\b\b\b\b\b\b\b\b\b\b\b\b\b\b\b\b\b\b\b\b\b\b\b 68% 69397 - images/oysters/221135.jpg\b\b\b\b\b\b\b\b\b\b\b\b\b\b\b\b\b\b\b\b\b\b\b\b\b\b\b\b\b\b\b\b\b\b\b\b\b\b                                      \b\b\b\b\b\b\b\b\b\b\b\b\b\b\b\b\b\b\b\b\b\b\b\b\b\b\b\b\b\b\b\b\b\b\b\b\b\b 68% 69398 - images/oysters/2215369.jpg\b\b\b\b\b\b\b\b\b\b\b\b\b\b\b\b\b\b\b\b\b\b\b\b\b\b\b\b\b\b\b\b\b\b\b\b\b\b\b                                       \b\b\b\b\b\b\b\b\b\b\b\b\b\b\b\b\b\b\b\b\b\b\b\b\b\b\b\b\b\b\b\b\b\b\b\b\b\b\b 68% 69471 - images/oysters/2503768.jpg\b\b\b\b\b\b\b\b\b\b\b\b\b\b\b\b\b\b\b\b\b\b\b\b\b\b\b\b\b\b\b\b\b\b\b\b\b\b\b                                       \b\b\b\b\b\b\b\b\b\b\b\b\b\b\b\b\b\b\b\b\b\b\b\b\b\b\b\b\b\b\b\b\b\b\b\b\b\b\b 68% 69540 - images/oysters/2743230.jpg\b\b\b\b\b\b\b\b\b\b\b\b\b\b\b\b\b\b\b\b\b\b\b\b\b\b\b\b\b\b\b\b\b\b\b\b\b\b\b                                       \b\b\b\b\b\b\b\b\b\b\b\b\b\b\b\b\b\b\b\b\b\b\b\b\b\b\b\b\b\b\b\b\b\b\b\b\b\b\b 68% 69545 - images/oysters/2770715.jpg\b\b\b\b\b\b\b\b\b\b\b\b\b\b\b\b\b\b\b\b\b\b\b\b\b\b\b\b\b\b\b\b\b\b\b\b\b\b\b                                       \b\b\b\b\b\b\b\b\b\b\b\b\b\b\b\b\b\b\b\b\b\b\b\b\b\b\b\b\b\b\b\b\b\b\b\b\b\b\b 68% 69621 - images/oysters/2999275.jpg\b\b\b\b\b\b\b\b\b\b\b\b\b\b\b\b\b\b\b\b\b\b\b\b\b\b\b\b\b\b\b\b\b\b\b\b\b\b\b                                       \b\b\b\b\b\b\b\b\b\b\b\b\b\b\b\b\b\b\b\b\b\b\b\b\b\b\b\b\b\b\b\b\b\b\b\b\b\b\b 68% 69622 - images/oysters/3000868.jpg\b\b\b\b\b\b\b\b\b\b\b\b\b\b\b\b\b\b\b\b\b\b\b\b\b\b\b\b\b\b\b\b\b\b\b\b\b\b\b                                       \b\b\b\b\b\b\b\b\b\b\b\b\b\b\b\b\b\b\b\b\b\b\b\b\b\b\b\b\b\b\b\b\b\b\b\b\b\b\b 68% 69697 - images/oysters/3235274.jpg\b\b\b\b\b\b\b\b\b\b\b\b\b\b\b\b\b\b\b\b\b\b\b\b\b\b\b\b\b\b\b\b\b\b\b\b\b\b\b                                       \b\b\b\b\b\b\b\b\b\b\b\b\b\b\b\b\b\b\b\b\b\b\b\b\b\b\b\b\b\b\b\b\b\b\b\b\b\b\b 68% 69771 - images/oysters/3457058.jpg\b\b\b\b\b\b\b\b\b\b\b\b\b\b\b\b\b\b\b\b\b\b\b\b\b\b\b\b\b\b\b\b\b\b\b\b\b\b\b                                       \b\b\b\b\b\b\b\b\b\b\b\b\b\b\b\b\b\b\b\b\b\b\b\b\b\b\b\b\b\b\b\b\b\b\b\b\b\b\b 68% 69772 - images/oysters/3457625.jpg\b\b\b\b\b\b\b\b\b\b\b\b\b\b\b\b\b\b\b\b\b\b\b\b\b\b\b\b\b\b\b\b\b\b\b\b\b\b\b                                       \b\b\b\b\b\b\b\b\b\b\b\b\b\b\b\b\b\b\b\b\b\b\b\b\b\b\b\b\b\b\b\b\b\b\b\b\b\b\b 68% 69849 - images/oysters/370441.jpg\b\b\b\b\b\b\b\b\b\b\b\b\b\b\b\b\b\b\b\b\b\b\b\b\b\b\b\b\b\b\b\b\b\b\b\b\b\b                                      \b\b\b\b\b\b\b\b\b\b\b\b\b\b\b\b\b\b\b\b\b\b\b\b\b\b\b\b\b\b\b\b\b\b\b\b\b\b 68% 69926 - images/oysters/419692.jpg\b\b\b\b\b\b\b\b\b\b\b\b\b\b\b\b\b\b\b\b\b\b\b\b\b\b\b\b\b\b\b\b\b\b\b\b\b\b                                      \b\b\b\b\b\b\b\b\b\b\b\b\b\b\b\b\b\b\b\b\b\b\b\b\b\b\b\b\b\b\b\b\b\b\b\b\b\b 68% 69952 - images/oysters/532204.jpg\b\b\b\b\b\b\b\b\b\b\b\b\b\b\b\b\b\b\b\b\b\b\b\b\b\b\b\b\b\b\b\b\b\b\b\b\b\b                                      \b\b\b\b\b\b\b\b\b\b\b\b\b\b\b\b\b\b\b\b\b\b\b\b\b\b\b\b\b\b\b\b\b\b\b\b\b\b 68% 69999 - images/oysters/657206.jpg\b\b\b\b\b\b\b\b\b\b\b\b\b\b\b\b\b\b\b\b\b\b\b\b\b\b\b\b\b\b\b\b\b\b\b\b\b\b                                      \b\b\b\b\b\b\b\b\b\b\b\b\b\b\b\b\b\b\b\b\b\b\b\b\b\b\b\b\b\b\b\b\b\b\b\b\b\b 68% 70000 - images/oysters/659270.jpg\b\b\b\b\b\b\b\b\b\b\b\b\b\b\b\b\b\b\b\b\b\b\b\b\b\b\b\b\b\b\b\b\b\b\b\b\b\b                                      \b\b\b\b\b\b\b\b\b\b\b\b\b\b\b\b\b\b\b\b\b\b\b\b\b\b\b\b\b\b\b\b\b\b\b\b\b\b 68% 70074 - images/oysters/929887.jpg\b\b\b\b\b\b\b\b\b\b\b\b\b\b\b\b\b\b\b\b\b\b\b\b\b\b\b\b\b\b\b\b\b\b\b\b\b\b                                      \b\b\b\b\b\b\b\b\b\b\b\b\b\b\b\b\b\b\b\b\b\b\b\b\b\b\b\b\b\b\b\b\b\b\b\b\b\b 68% 70075 - images/oysters/931386.jpg\b\b\b\b\b\b\b\b\b\b\b\b\b\b\b\b\b\b\b\b\b\b\b\b\b\b\b\b\b\b\b\b\b\b\b\b\b\b                                      \b\b\b\b\b\b\b\b\b\b\b\b\b\b\b\b\b\b\b\b\b\b\b\b\b\b\b\b\b\b\b\b\b\b\b\b\b\b 68% 70151 - images/pad_thai/1196664.jpg\b\b\b\b\b\b\b\b\b\b\b\b\b\b\b\b\b\b\b\b\b\b\b\b\b\b\b\b\b\b\b\b\b\b\b\b\b\b\b\b                                        \b\b\b\b\b\b\b\b\b\b\b\b\b\b\b\b\b\b\b\b\b\b\b\b\b\b\b\b\b\b\b\b\b\b\b\b\b\b\b\b 68% 70224 - images/pad_thai/1406861.jpg\b\b\b\b\b\b\b\b\b\b\b\b\b\b\b\b\b\b\b\b\b\b\b\b\b\b\b\b\b\b\b\b\b\b\b\b\b\b\b\b                                        \b\b\b\b\b\b\b\b\b\b\b\b\b\b\b\b\b\b\b\b\b\b\b\b\b\b\b\b\b\b\b\b\b\b\b\b\b\b\b\b 69% 70224 - images/pad_thai/1406861.jpg\b\b\b\b\b\b\b\b\b\b\b\b\b\b\b\b\b\b\b\b\b\b\b\b\b\b\b\b\b\b\b\b\b\b\b\b\b\b\b\b                                        \b\b\b\b\b\b\b\b\b\b\b\b\b\b\b\b\b\b\b\b\b\b\b\b\b\b\b\b\b\b\b\b\b\b\b\b\b\b\b\b 69% 70225 - images/pad_thai/1407099.jpg\b\b\b\b\b\b\b\b\b\b\b\b\b\b\b\b\b\b\b\b\b\b\b\b\b\b\b\b\b\b\b\b\b\b\b\b\b\b\b\b                                        \b\b\b\b\b\b\b\b\b\b\b\b\b\b\b\b\b\b\b\b\b\b\b\b\b\b\b\b\b\b\b\b\b\b\b\b\b\b\b\b 69% 70299 - images/pad_thai/158955.jpg\b\b\b\b\b\b\b\b\b\b\b\b\b\b\b\b\b\b\b\b\b\b\b\b\b\b\b\b\b\b\b\b\b\b\b\b\b\b\b                                       \b\b\b\b\b\b\b\b\b\b\b\b\b\b\b\b\b\b\b\b\b\b\b\b\b\b\b\b\b\b\b\b\b\b\b\b\b\b\b 69% 70371 - images/pad_thai/1844415.jpg\b\b\b\b\b\b\b\b\b\b\b\b\b\b\b\b\b\b\b\b\b\b\b\b\b\b\b\b\b\b\b\b\b\b\b\b\b\b\b\b                                        \b\b\b\b\b\b\b\b\b\b\b\b\b\b\b\b\b\b\b\b\b\b\b\b\b\b\b\b\b\b\b\b\b\b\b\b\b\b\b\b 69% 70372 - images/pad_thai/1854362.jpg\b\b\b\b\b\b\b\b\b\b\b\b\b\b\b\b\b\b\b\b\b\b\b\b\b\b\b\b\b\b\b\b\b\b\b\b\b\b\b\b                                        \b\b\b\b\b\b\b\b\b\b\b\b\b\b\b\b\b\b\b\b\b\b\b\b\b\b\b\b\b\b\b\b\b\b\b\b\b\b\b\b 69% 70443 - images/pad_thai/2083200.jpg\b\b\b\b\b\b\b\b\b\b\b\b\b\b\b\b\b\b\b\b\b\b\b\b\b\b\b\b\b\b\b\b\b\b\b\b\b\b\b\b                                        \b\b\b\b\b\b\b\b\b\b\b\b\b\b\b\b\b\b\b\b\b\b\b\b\b\b\b\b\b\b\b\b\b\b\b\b\b\b\b\b 69% 70522 - images/pad_thai/2354853.jpg\b\b\b\b\b\b\b\b\b\b\b\b\b\b\b\b\b\b\b\b\b\b\b\b\b\b\b\b\b\b\b\b\b\b\b\b\b\b\b\b                                        \b\b\b\b\b\b\b\b\b\b\b\b\b\b\b\b\b\b\b\b\b\b\b\b\b\b\b\b\b\b\b\b\b\b\b\b\b\b\b\b 69% 70523 - images/pad_thai/235542.jpg\b\b\b\b\b\b\b\b\b\b\b\b\b\b\b\b\b\b\b\b\b\b\b\b\b\b\b\b\b\b\b\b\b\b\b\b\b\b\b                                       \b\b\b\b\b\b\b\b\b\b\b\b\b\b\b\b\b\b\b\b\b\b\b\b\b\b\b\b\b\b\b\b\b\b\b\b\b\b\b 69% 70596 - images/pad_thai/2614597.jpg\b\b\b\b\b\b\b\b\b\b\b\b\b\b\b\b\b\b\b\b\b\b\b\b\b\b\b\b\b\b\b\b\b\b\b\b\b\b\b\b                                        \b\b\b\b\b\b\b\b\b\b\b\b\b\b\b\b\b\b\b\b\b\b\b\b\b\b\b\b\b\b\b\b\b\b\b\b\b\b\b\b 69% 70670 - images/pad_thai/2849317.jpg\b\b\b\b\b\b\b\b\b\b\b\b\b\b\b\b\b\b\b\b\b\b\b\b\b\b\b\b\b\b\b\b\b\b\b\b\b\b\b\b                                        \b\b\b\b\b\b\b\b\b\b\b\b\b\b\b\b\b\b\b\b\b\b\b\b\b\b\b\b\b\b\b\b\b\b\b\b\b\b\b\b 69% 70671 - images/pad_thai/2853014.jpg\b\b\b\b\b\b\b\b\b\b\b\b\b\b\b\b\b\b\b\b\b\b\b\b\b\b\b\b\b\b\b\b\b\b\b\b\b\b\b\b                                        \b\b\b\b\b\b\b\b\b\b\b\b\b\b\b\b\b\b\b\b\b\b\b\b\b\b\b\b\b\b\b\b\b\b\b\b\b\b\b\b 69% 70745 - images/pad_thai/3196455.jpg\b\b\b\b\b\b\b\b\b\b\b\b\b\b\b\b\b\b\b\b\b\b\b\b\b\b\b\b\b\b\b\b\b\b\b\b\b\b\b\b                                        \b\b\b\b\b\b\b\b\b\b\b\b\b\b\b\b\b\b\b\b\b\b\b\b\b\b\b\b\b\b\b\b\b\b\b\b\b\b\b\b 69% 70821 - images/pad_thai/3512310.jpg\b\b\b\b\b\b\b\b\b\b\b\b\b\b\b\b\b\b\b\b\b\b\b\b\b\b\b\b\b\b\b\b\b\b\b\b\b\b\b\b                                        \b\b\b\b\b\b\b\b\b\b\b\b\b\b\b\b\b\b\b\b\b\b\b\b\b\b\b\b\b\b\b\b\b\b\b\b\b\b\b\b 69% 70886 - images/pad_thai/3805453.jpg\b\b\b\b\b\b\b\b\b\b\b\b\b\b\b\b\b\b\b\b\b\b\b\b\b\b\b\b\b\b\b\b\b\b\b\b\b\b\b\b                                        \b\b\b\b\b\b\b\b\b\b\b\b\b\b\b\b\b\b\b\b\b\b\b\b\b\b\b\b\b\b\b\b\b\b\b\b\b\b\b\b 69% 70897 - images/pad_thai/3836485.jpg\b\b\b\b\b\b\b\b\b\b\b\b\b\b\b\b\b\b\b\b\b\b\b\b\b\b\b\b\b\b\b\b\b\b\b\b\b\b\b\b                                        \b\b\b\b\b\b\b\b\b\b\b\b\b\b\b\b\b\b\b\b\b\b\b\b\b\b\b\b\b\b\b\b\b\b\b\b\b\b\b\b 69% 70898 - images/pad_thai/3838828.jpg\b\b\b\b\b\b\b\b\b\b\b\b\b\b\b\b\b\b\b\b\b\b\b\b\b\b\b\b\b\b\b\b\b\b\b\b\b\b\b\b                                        \b\b\b\b\b\b\b\b\b\b\b\b\b\b\b\b\b\b\b\b\b\b\b\b\b\b\b\b\b\b\b\b\b\b\b\b\b\b\b\b 69% 70971 - images/pad_thai/53859.jpg\b\b\b\b\b\b\b\b\b\b\b\b\b\b\b\b\b\b\b\b\b\b\b\b\b\b\b\b\b\b\b\b\b\b\b\b\b\b                                      \b\b\b\b\b\b\b\b\b\b\b\b\b\b\b\b\b\b\b\b\b\b\b\b\b\b\b\b\b\b\b\b\b\b\b\b\b\b 69% 70972 - images/pad_thai/539658.jpg\b\b\b\b\b\b\b\b\b\b\b\b\b\b\b\b\b\b\b\b\b\b\b\b\b\b\b\b\b\b\b\b\b\b\b\b\b\b\b                                       \b\b\b\b\b\b\b\b\b\b\b\b\b\b\b\b\b\b\b\b\b\b\b\b\b\b\b\b\b\b\b\b\b\b\b\b\b\b\b 69% 71046 - images/pad_thai/78461.jpg\b\b\b\b\b\b\b\b\b\b\b\b\b\b\b\b\b\b\b\b\b\b\b\b\b\b\b\b\b\b\b\b\b\b\b\b\b\b                                      \b\b\b\b\b\b\b\b\b\b\b\b\b\b\b\b\b\b\b\b\b\b\b\b\b\b\b\b\b\b\b\b\b\b\b\b\b\b 69% 71120 - images/paella/1085639.jpg\b\b\b\b\b\b\b\b\b\b\b\b\b\b\b\b\b\b\b\b\b\b\b\b\b\b\b\b\b\b\b\b\b\b\b\b\b\b                                      \b\b\b\b\b\b\b\b\b\b\b\b\b\b\b\b\b\b\b\b\b\b\b\b\b\b\b\b\b\b\b\b\b\b\b\b\b\b 69% 71161 - images/paella/1237475.jpg\b\b\b\b\b\b\b\b\b\b\b\b\b\b\b\b\b\b\b\b\b\b\b\b\b\b\b\b\b\b\b\b\b\b\b\b\b\b                                      \b\b\b\b\b\b\b\b\b\b\b\b\b\b\b\b\b\b\b\b\b\b\b\b\b\b\b\b\b\b\b\b\b\b\b\b\b\b 70% 71186 - images/paella/1316526.jpg\b\b\b\b\b\b\b\b\b\b\b\b\b\b\b\b\b\b\b\b\b\b\b\b\b\b\b\b\b\b\b\b\b\b\b\b\b\b                                      \b\b\b\b\b\b\b\b\b\b\b\b\b\b\b\b\b\b\b\b\b\b\b\b\b\b\b\b\b\b\b\b\b\b\b\b\b\b 70% 71187 - images/paella/1318738.jpg\b\b\b\b\b\b\b\b\b\b\b\b\b\b\b\b\b\b\b\b\b\b\b\b\b\b\b\b\b\b\b\b\b\b\b\b\b\b                                      \b\b\b\b\b\b\b\b\b\b\b\b\b\b\b\b\b\b\b\b\b\b\b\b\b\b\b\b\b\b\b\b\b\b\b\b\b\b 70% 71256 - images/paella/1523249.jpg\b\b\b\b\b\b\b\b\b\b\b\b\b\b\b\b\b\b\b\b\b\b\b\b\b\b\b\b\b\b\b\b\b\b\b\b\b\b                                      \b\b\b\b\b\b\b\b\b\b\b\b\b\b\b\b\b\b\b\b\b\b\b\b\b\b\b\b\b\b\b\b\b\b\b\b\b\b 70% 71327 - images/paella/1734943.jpg\b\b\b\b\b\b\b\b\b\b\b\b\b\b\b\b\b\b\b\b\b\b\b\b\b\b\b\b\b\b\b\b\b\b\b\b\b\b                                      \b\b\b\b\b\b\b\b\b\b\b\b\b\b\b\b\b\b\b\b\b\b\b\b\b\b\b\b\b\b\b\b\b\b\b\b\b\b 70% 71401 - images/paella/1994450.jpg\b\b\b\b\b\b\b\b\b\b\b\b\b\b\b\b\b\b\b\b\b\b\b\b\b\b\b\b\b\b\b\b\b\b\b\b\b\b                                      \b\b\b\b\b\b\b\b\b\b\b\b\b\b\b\b\b\b\b\b\b\b\b\b\b\b\b\b\b\b\b\b\b\b\b\b\b\b 70% 71402 - images/paella/199617.jpg\b\b\b\b\b\b\b\b\b\b\b\b\b\b\b\b\b\b\b\b\b\b\b\b\b\b\b\b\b\b\b\b\b\b\b\b\b                                     \b\b\b\b\b\b\b\b\b\b\b\b\b\b\b\b\b\b\b\b\b\b\b\b\b\b\b\b\b\b\b\b\b\b\b\b\b 70% 71471 - images/paella/2270875.jpg\b\b\b\b\b\b\b\b\b\b\b\b\b\b\b\b\b\b\b\b\b\b\b\b\b\b\b\b\b\b\b\b\b\b\b\b\b\b                                      \b\b\b\b\b\b\b\b\b\b\b\b\b\b\b\b\b\b\b\b\b\b\b\b\b\b\b\b\b\b\b\b\b\b\b\b\b\b 70% 71541 - images/paella/2479673.jpg\b\b\b\b\b\b\b\b\b\b\b\b\b\b\b\b\b\b\b\b\b\b\b\b\b\b\b\b\b\b\b\b\b\b\b\b\b\b                                      \b\b\b\b\b\b\b\b\b\b\b\b\b\b\b\b\b\b\b\b\b\b\b\b\b\b\b\b\b\b\b\b\b\b\b\b\b\b 70% 71611 - images/paella/2730250.jpg\b\b\b\b\b\b\b\b\b\b\b\b\b\b\b\b\b\b\b\b\b\b\b\b\b\b\b\b\b\b\b\b\b\b\b\b\b\b                                      \b\b\b\b\b\b\b\b\b\b\b\b\b\b\b\b\b\b\b\b\b\b\b\b\b\b\b\b\b\b\b\b\b\b\b\b\b\b 70% 71663 - images/paella/2935946.jpg\b\b\b\b\b\b\b\b\b\b\b\b\b\b\b\b\b\b\b\b\b\b\b\b\b\b\b\b\b\b\b\b\b\b\b\b\b\b                                      \b\b\b\b\b\b\b\b\b\b\b\b\b\b\b\b\b\b\b\b\b\b\b\b\b\b\b\b\b\b\b\b\b\b\b\b\b\b 70% 71683 - images/paella/3046102.jpg\b\b\b\b\b\b\b\b\b\b\b\b\b\b\b\b\b\b\b\b\b\b\b\b\b\b\b\b\b\b\b\b\b\b\b\b\b\b                                      \b\b\b\b\b\b\b\b\b\b\b\b\b\b\b\b\b\b\b\b\b\b\b\b\b\b\b\b\b\b\b\b\b\b\b\b\b\b 70% 71752 - images/paella/3297897.jpg\b\b\b\b\b\b\b\b\b\b\b\b\b\b\b\b\b\b\b\b\b\b\b\b\b\b\b\b\b\b\b\b\b\b\b\b\b\b                                      \b\b\b\b\b\b\b\b\b\b\b\b\b\b\b\b\b\b\b\b\b\b\b\b\b\b\b\b\b\b\b\b\b\b\b\b\b\b 70% 71828 - images/paella/3528426.jpg\b\b\b\b\b\b\b\b\b\b\b\b\b\b\b\b\b\b\b\b\b\b\b\b\b\b\b\b\b\b\b\b\b\b\b\b\b\b                                      \b\b\b\b\b\b\b\b\b\b\b\b\b\b\b\b\b\b\b\b\b\b\b\b\b\b\b\b\b\b\b\b\b\b\b\b\b\b 70% 71899 - images/paella/3771216.jpg\b\b\b\b\b\b\b\b\b\b\b\b\b\b\b\b\b\b\b\b\b\b\b\b\b\b\b\b\b\b\b\b\b\b\b\b\b\b                                      \b\b\b\b\b\b\b\b\b\b\b\b\b\b\b\b\b\b\b\b\b\b\b\b\b\b\b\b\b\b\b\b\b\b\b\b\b\b 70% 71926 - images/paella/3844164.jpg\b\b\b\b\b\b\b\b\b\b\b\b\b\b\b\b\b\b\b\b\b\b\b\b\b\b\b\b\b\b\b\b\b\b\b\b\b\b                                      \b\b\b\b\b\b\b\b\b\b\b\b\b\b\b\b\b\b\b\b\b\b\b\b\b\b\b\b\b\b\b\b\b\b\b\b\b\b 70% 71968 - images/paella/537947.jpg\b\b\b\b\b\b\b\b\b\b\b\b\b\b\b\b\b\b\b\b\b\b\b\b\b\b\b\b\b\b\b\b\b\b\b\b\b                                     \b\b\b\b\b\b\b\b\b\b\b\b\b\b\b\b\b\b\b\b\b\b\b\b\b\b\b\b\b\b\b\b\b\b\b\b\b 71% 72038 - images/paella/760616.jpg\b\b\b\b\b\b\b\b\b\b\b\b\b\b\b\b\b\b\b\b\b\b\b\b\b\b\b\b\b\b\b\b\b\b\b\b\b                                     \b\b\b\b\b\b\b\b\b\b\b\b\b\b\b\b\b\b\b\b\b\b\b\b\b\b\b\b\b\b\b\b\b\b\b\b\b 71% 72107 - images/pancakes/101450.jpg\b\b\b\b\b\b\b\b\b\b\b\b\b\b\b\b\b\b\b\b\b\b\b\b\b\b\b\b\b\b\b\b\b\b\b\b\b\b\b                                       \b\b\b\b\b\b\b\b\b\b\b\b\b\b\b\b\b\b\b\b\b\b\b\b\b\b\b\b\b\b\b\b\b\b\b\b\b\b\b 71% 72190 - images/pancakes/1363626.jpg\b\b\b\b\b\b\b\b\b\b\b\b\b\b\b\b\b\b\b\b\b\b\b\b\b\b\b\b\b\b\b\b\b\b\b\b\b\b\b\b                                        \b\b\b\b\b\b\b\b\b\b\b\b\b\b\b\b\b\b\b\b\b\b\b\b\b\b\b\b\b\b\b\b\b\b\b\b\b\b\b\b 71% 72225 - images/pancakes/1486429.jpg\b\b\b\b\b\b\b\b\b\b\b\b\b\b\b\b\b\b\b\b\b\b\b\b\b\b\b\b\b\b\b\b\b\b\b\b\b\b\b\b                                        \b\b\b\b\b\b\b\b\b\b\b\b\b\b\b\b\b\b\b\b\b\b\b\b\b\b\b\b\b\b\b\b\b\b\b\b\b\b\b\b 71% 72270 - images/pancakes/166260.jpg\b\b\b\b\b\b\b\b\b\b\b\b\b\b\b\b\b\b\b\b\b\b\b\b\b\b\b\b\b\b\b\b\b\b\b\b\b\b\b                                       \b\b\b\b\b\b\b\b\b\b\b\b\b\b\b\b\b\b\b\b\b\b\b\b\b\b\b\b\b\b\b\b\b\b\b\b\b\b\b 71% 72349 - images/pancakes/1986263.jpg\b\b\b\b\b\b\b\b\b\b\b\b\b\b\b\b\b\b\b\b\b\b\b\b\b\b\b\b\b\b\b\b\b\b\b\b\b\b\b\b                                        \b\b\b\b\b\b\b\b\b\b\b\b\b\b\b\b\b\b\b\b\b\b\b\b\b\b\b\b\b\b\b\b\b\b\b\b\b\b\b\b 71% 72429 - images/pancakes/226067.jpg\b\b\b\b\b\b\b\b\b\b\b\b\b\b\b\b\b\b\b\b\b\b\b\b\b\b\b\b\b\b\b\b\b\b\b\b\b\b\b                                       \b\b\b\b\b\b\b\b\b\b\b\b\b\b\b\b\b\b\b\b\b\b\b\b\b\b\b\b\b\b\b\b\b\b\b\b\b\b\b 71% 72488 - images/pancakes/2456023.jpg\b\b\b\b\b\b\b\b\b\b\b\b\b\b\b\b\b\b\b\b\b\b\b\b\b\b\b\b\b\b\b\b\b\b\b\b\b\b\b\b                                        \b\b\b\b\b\b\b\b\b\b\b\b\b\b\b\b\b\b\b\b\b\b\b\b\b\b\b\b\b\b\b\b\b\b\b\b\b\b\b\b 71% 72513 - images/pancakes/2606759.jpg\b\b\b\b\b\b\b\b\b\b\b\b\b\b\b\b\b\b\b\b\b\b\b\b\b\b\b\b\b\b\b\b\b\b\b\b\b\b\b\b                                        \b\b\b\b\b\b\b\b\b\b\b\b\b\b\b\b\b\b\b\b\b\b\b\b\b\b\b\b\b\b\b\b\b\b\b\b\b\b\b\b 71% 72593 - images/pancakes/2931173.jpg\b\b\b\b\b\b\b\b\b\b\b\b\b\b\b\b\b\b\b\b\b\b\b\b\b\b\b\b\b\b\b\b\b\b\b\b\b\b\b\b                                        \b\b\b\b\b\b\b\b\b\b\b\b\b\b\b\b\b\b\b\b\b\b\b\b\b\b\b\b\b\b\b\b\b\b\b\b\b\b\b\b 71% 72670 - images/pancakes/3182702.jpg\b\b\b\b\b\b\b\b\b\b\b\b\b\b\b\b\b\b\b\b\b\b\b\b\b\b\b\b\b\b\b\b\b\b\b\b\b\b\b\b                                        \b\b\b\b\b\b\b\b\b\b\b\b\b\b\b\b\b\b\b\b\b\b\b\b\b\b\b\b\b\b\b\b\b\b\b\b\b\b\b\b 71% 72752 - images/pancakes/3432007.jpg\b\b\b\b\b\b\b\b\b\b\b\b\b\b\b\b\b\b\b\b\b\b\b\b\b\b\b\b\b\b\b\b\b\b\b\b\b\b\b\b                                        \b\b\b\b\b\b\b\b\b\b\b\b\b\b\b\b\b\b\b\b\b\b\b\b\b\b\b\b\b\b\b\b\b\b\b\b\b\b\b\b 71% 72753 - images/pancakes/3432963.jpg\b\b\b\b\b\b\b\b\b\b\b\b\b\b\b\b\b\b\b\b\b\b\b\b\b\b\b\b\b\b\b\b\b\b\b\b\b\b\b\b                                        \b\b\b\b\b\b\b\b\b\b\b\b\b\b\b\b\b\b\b\b\b\b\b\b\b\b\b\b\b\b\b\b\b\b\b\b\b\b\b\b 71% 72832 - images/pancakes/371508.jpg\b\b\b\b\b\b\b\b\b\b\b\b\b\b\b\b\b\b\b\b\b\b\b\b\b\b\b\b\b\b\b\b\b\b\b\b\b\b\b                                       \b\b\b\b\b\b\b\b\b\b\b\b\b\b\b\b\b\b\b\b\b\b\b\b\b\b\b\b\b\b\b\b\b\b\b\b\b\b\b 71% 72912 - images/pancakes/445151.jpg\b\b\b\b\b\b\b\b\b\b\b\b\b\b\b\b\b\b\b\b\b\b\b\b\b\b\b\b\b\b\b\b\b\b\b\b\b\b\b                                       \b\b\b\b\b\b\b\b\b\b\b\b\b\b\b\b\b\b\b\b\b\b\b\b\b\b\b\b\b\b\b\b\b\b\b\b\b\b\b 71% 72993 - images/pancakes/685645.jpg\b\b\b\b\b\b\b\b\b\b\b\b\b\b\b\b\b\b\b\b\b\b\b\b\b\b\b\b\b\b\b\b\b\b\b\b\b\b\b                                       \b\b\b\b\b\b\b\b\b\b\b\b\b\b\b\b\b\b\b\b\b\b\b\b\b\b\b\b\b\b\b\b\b\b\b\b\b\b\b 72% 72994 - images/pancakes/688014.jpg\b\b\b\b\b\b\b\b\b\b\b\b\b\b\b\b\b\b\b\b\b\b\b\b\b\b\b\b\b\b\b\b\b\b\b\b\b\b\b                                       \b\b\b\b\b\b\b\b\b\b\b\b\b\b\b\b\b\b\b\b\b\b\b\b\b\b\b\b\b\b\b\b\b\b\b\b\b\b\b 72% 73074 - images/pancakes/920725.jpg\b\b\b\b\b\b\b\b\b\b\b\b\b\b\b\b\b\b\b\b\b\b\b\b\b\b\b\b\b\b\b\b\b\b\b\b\b\b\b                                       \b\b\b\b\b\b\b\b\b\b\b\b\b\b\b\b\b\b\b\b\b\b\b\b\b\b\b\b\b\b\b\b\b\b\b\b\b\b\b 72% 73168 - images/panna_cotta/1225071.jpg\b\b\b\b\b\b\b\b\b\b\b\b\b\b\b\b\b\b\b\b\b\b\b\b\b\b\b\b\b\b\b\b\b\b\b\b\b\b\b\b\b\b\b                                           \b\b\b\b\b\b\b\b\b\b\b\b\b\b\b\b\b\b\b\b\b\b\b\b\b\b\b\b\b\b\b\b\b\b\b\b\b\b\b\b\b\b\b 72% 73267 - images/panna_cotta/155019.jpg\b\b\b\b\b\b\b\b\b\b\b\b\b\b\b\b\b\b\b\b\b\b\b\b\b\b\b\b\b\b\b\b\b\b\b\b\b\b\b\b\b\b                                          \b\b\b\b\b\b\b\b\b\b\b\b\b\b\b\b\b\b\b\b\b\b\b\b\b\b\b\b\b\b\b\b\b\b\b\b\b\b\b\b\b\b 72% 73368 - images/panna_cotta/1954345.jpg\b\b\b\b\b\b\b\b\b\b\b\b\b\b\b\b\b\b\b\b\b\b\b\b\b\b\b\b\b\b\b\b\b\b\b\b\b\b\b\b\b\b\b                                           \b\b\b\b\b\b\b\b\b\b\b\b\b\b\b\b\b\b\b\b\b\b\b\b\b\b\b\b\b\b\b\b\b\b\b\b\b\b\b\b\b\b\b 72% 73369 - images/panna_cotta/1956418.jpg\b\b\b\b\b\b\b\b\b\b\b\b\b\b\b\b\b\b\b\b\b\b\b\b\b\b\b\b\b\b\b\b\b\b\b\b\b\b\b\b\b\b\b                                           \b\b\b\b\b\b\b\b\b\b\b\b\b\b\b\b\b\b\b\b\b\b\b\b\b\b\b\b\b\b\b\b\b\b\b\b\b\b\b\b\b\b\b 72% 73467 - images/panna_cotta/2308748.jpg\b\b\b\b\b\b\b\b\b\b\b\b\b\b\b\b\b\b\b\b\b\b\b\b\b\b\b\b\b\b\b\b\b\b\b\b\b\b\b\b\b\b\b                                           \b\b\b\b\b\b\b\b\b\b\b\b\b\b\b\b\b\b\b\b\b\b\b\b\b\b\b\b\b\b\b\b\b\b\b\b\b\b\b\b\b\b\b 72% 73559 - images/panna_cotta/2582677.jpg\b\b\b\b\b\b\b\b\b\b\b\b\b\b\b\b\b\b\b\b\b\b\b\b\b\b\b\b\b\b\b\b\b\b\b\b\b\b\b\b\b\b\b                                           \b\b\b\b\b\b\b\b\b\b\b\b\b\b\b\b\b\b\b\b\b\b\b\b\b\b\b\b\b\b\b\b\b\b\b\b\b\b\b\b\b\b\b 72% 73654 - images/panna_cotta/2896238.jpg\b\b\b\b\b\b\b\b\b\b\b\b\b\b\b\b\b\b\b\b\b\b\b\b\b\b\b\b\b\b\b\b\b\b\b\b\b\b\b\b\b\b\b                                           \b\b\b\b\b\b\b\b\b\b\b\b\b\b\b\b\b\b\b\b\b\b\b\b\b\b\b\b\b\b\b\b\b\b\b\b\b\b\b\b\b\b\b 72% 73724 - images/panna_cotta/3172156.jpg\b\b\b\b\b\b\b\b\b\b\b\b\b\b\b\b\b\b\b\b\b\b\b\b\b\b\b\b\b\b\b\b\b\b\b\b\b\b\b\b\b\b\b                                           \b\b\b\b\b\b\b\b\b\b\b\b\b\b\b\b\b\b\b\b\b\b\b\b\b\b\b\b\b\b\b\b\b\b\b\b\b\b\b\b\b\b\b 72% 73752 - images/panna_cotta/3283199.jpg\b\b\b\b\b\b\b\b\b\b\b\b\b\b\b\b\b\b\b\b\b\b\b\b\b\b\b\b\b\b\b\b\b\b\b\b\b\b\b\b\b\b\b                                           \b\b\b\b\b\b\b\b\b\b\b\b\b\b\b\b\b\b\b\b\b\b\b\b\b\b\b\b\b\b\b\b\b\b\b\b\b\b\b\b\b\b\b 72% 73854 - images/panna_cotta/3622863.jpg\b\b\b\b\b\b\b\b\b\b\b\b\b\b\b\b\b\b\b\b\b\b\b\b\b\b\b\b\b\b\b\b\b\b\b\b\b\b\b\b\b\b\b                                           \b\b\b\b\b\b\b\b\b\b\b\b\b\b\b\b\b\b\b\b\b\b\b\b\b\b\b\b\b\b\b\b\b\b\b\b\b\b\b\b\b\b\b 72% 73935 - images/panna_cotta/3897875.jpg\b\b\b\b\b\b\b\b\b\b\b\b\b\b\b\b\b\b\b\b\b\b\b\b\b\b\b\b\b\b\b\b\b\b\b\b\b\b\b\b\b\b\b                                           \b\b\b\b\b\b\b\b\b\b\b\b\b\b\b\b\b\b\b\b\b\b\b\b\b\b\b\b\b\b\b\b\b\b\b\b\b\b\b\b\b\b\b 72% 73950 - images/panna_cotta/406819.jpg\b\b\b\b\b\b\b\b\b\b\b\b\b\b\b\b\b\b\b\b\b\b\b\b\b\b\b\b\b\b\b\b\b\b\b\b\b\b\b\b\b\b                                          \b\b\b\b\b\b\b\b\b\b\b\b\b\b\b\b\b\b\b\b\b\b\b\b\b\b\b\b\b\b\b\b\b\b\b\b\b\b\b\b\b\b 72% 74045 - images/panna_cotta/747565.jpg\b\b\b\b\b\b\b\b\b\b\b\b\b\b\b\b\b\b\b\b\b\b\b\b\b\b\b\b\b\b\b\b\b\b\b\b\b\b\b\b\b\b                                          \b\b\b\b\b\b\b\b\b\b\b\b\b\b\b\b\b\b\b\b\b\b\b\b\b\b\b\b\b\b\b\b\b\b\b\b\b\b\b\b\b\b 72% 74075 - images/panna_cotta/919578.jpg\b\b\b\b\b\b\b\b\b\b\b\b\b\b\b\b\b\b\b\b\b\b\b\b\b\b\b\b\b\b\b\b\b\b\b\b\b\b\b\b\b\b                                          \b\b\b\b\b\b\b\b\b\b\b\b\b\b\b\b\b\b\b\b\b\b\b\b\b\b\b\b\b\b\b\b\b\b\b\b\b\b\b\b\b\b 73% 74134 - images/peking_duck/1128704.jpg\b\b\b\b\b\b\b\b\b\b\b\b\b\b\b\b\b\b\b\b\b\b\b\b\b\b\b\b\b\b\b\b\b\b\b\b\b\b\b\b\b\b\b                                           \b\b\b\b\b\b\b\b\b\b\b\b\b\b\b\b\b\b\b\b\b\b\b\b\b\b\b\b\b\b\b\b\b\b\b\b\b\b\b\b\b\b\b 73% 74214 - images/peking_duck/1394295.jpg\b\b\b\b\b\b\b\b\b\b\b\b\b\b\b\b\b\b\b\b\b\b\b\b\b\b\b\b\b\b\b\b\b\b\b\b\b\b\b\b\b\b\b                                           \b\b\b\b\b\b\b\b\b\b\b\b\b\b\b\b\b\b\b\b\b\b\b\b\b\b\b\b\b\b\b\b\b\b\b\b\b\b\b\b\b\b\b 73% 74293 - images/peking_duck/1659860.jpg\b\b\b\b\b\b\b\b\b\b\b\b\b\b\b\b\b\b\b\b\b\b\b\b\b\b\b\b\b\b\b\b\b\b\b\b\b\b\b\b\b\b\b                                           \b\b\b\b\b\b\b\b\b\b\b\b\b\b\b\b\b\b\b\b\b\b\b\b\b\b\b\b\b\b\b\b\b\b\b\b\b\b\b\b\b\b\b 73% 74373 - images/peking_duck/1995574.jpg\b\b\b\b\b\b\b\b\b\b\b\b\b\b\b\b\b\b\b\b\b\b\b\b\b\b\b\b\b\b\b\b\b\b\b\b\b\b\b\b\b\b\b                                           \b\b\b\b\b\b\b\b\b\b\b\b\b\b\b\b\b\b\b\b\b\b\b\b\b\b\b\b\b\b\b\b\b\b\b\b\b\b\b\b\b\b\b 73% 74374 - images/peking_duck/1995836.jpg\b\b\b\b\b\b\b\b\b\b\b\b\b\b\b\b\b\b\b\b\b\b\b\b\b\b\b\b\b\b\b\b\b\b\b\b\b\b\b\b\b\b\b                                           \b\b\b\b\b\b\b\b\b\b\b\b\b\b\b\b\b\b\b\b\b\b\b\b\b\b\b\b\b\b\b\b\b\b\b\b\b\b\b\b\b\b\b 73% 74459 - images/peking_duck/2320651.jpg\b\b\b\b\b\b\b\b\b\b\b\b\b\b\b\b\b\b\b\b\b\b\b\b\b\b\b\b\b\b\b\b\b\b\b\b\b\b\b\b\b\b\b                                           \b\b\b\b\b\b\b\b\b\b\b\b\b\b\b\b\b\b\b\b\b\b\b\b\b\b\b\b\b\b\b\b\b\b\b\b\b\b\b\b\b\b\b 73% 74540 - images/peking_duck/2611812.jpg\b\b\b\b\b\b\b\b\b\b\b\b\b\b\b\b\b\b\b\b\b\b\b\b\b\b\b\b\b\b\b\b\b\b\b\b\b\b\b\b\b\b\b                                           \b\b\b\b\b\b\b\b\b\b\b\b\b\b\b\b\b\b\b\b\b\b\b\b\b\b\b\b\b\b\b\b\b\b\b\b\b\b\b\b\b\b\b 73% 74626 - images/peking_duck/2893974.jpg\b\b\b\b\b\b\b\b\b\b\b\b\b\b\b\b\b\b\b\b\b\b\b\b\b\b\b\b\b\b\b\b\b\b\b\b\b\b\b\b\b\b\b                                           \b\b\b\b\b\b\b\b\b\b\b\b\b\b\b\b\b\b\b\b\b\b\b\b\b\b\b\b\b\b\b\b\b\b\b\b\b\b\b\b\b\b\b 73% 74701 - images/peking_duck/3123986.jpg\b\b\b\b\b\b\b\b\b\b\b\b\b\b\b\b\b\b\b\b\b\b\b\b\b\b\b\b\b\b\b\b\b\b\b\b\b\b\b\b\b\b\b                                           \b\b\b\b\b\b\b\b\b\b\b\b\b\b\b\b\b\b\b\b\b\b\b\b\b\b\b\b\b\b\b\b\b\b\b\b\b\b\b\b\b\b\b 73% 74702 - images/peking_duck/3125043.jpg\b\b\b\b\b\b\b\b\b\b\b\b\b\b\b\b\b\b\b\b\b\b\b\b\b\b\b\b\b\b\b\b\b\b\b\b\b\b\b\b\b\b\b                                           \b\b\b\b\b\b\b\b\b\b\b\b\b\b\b\b\b\b\b\b\b\b\b\b\b\b\b\b\b\b\b\b\b\b\b\b\b\b\b\b\b\b\b 73% 74781 - images/peking_duck/339120.jpg\b\b\b\b\b\b\b\b\b\b\b\b\b\b\b\b\b\b\b\b\b\b\b\b\b\b\b\b\b\b\b\b\b\b\b\b\b\b\b\b\b\b                                          \b\b\b\b\b\b\b\b\b\b\b\b\b\b\b\b\b\b\b\b\b\b\b\b\b\b\b\b\b\b\b\b\b\b\b\b\b\b\b\b\b\b 73% 74859 - images/peking_duck/3753025.jpg\b\b\b\b\b\b\b\b\b\b\b\b\b\b\b\b\b\b\b\b\b\b\b\b\b\b\b\b\b\b\b\b\b\b\b\b\b\b\b\b\b\b\b                                           \b\b\b\b\b\b\b\b\b\b\b\b\b\b\b\b\b\b\b\b\b\b\b\b\b\b\b\b\b\b\b\b\b\b\b\b\b\b\b\b\b\b\b 73% 74940 - images/peking_duck/474600.jpg\b\b\b\b\b\b\b\b\b\b\b\b\b\b\b\b\b\b\b\b\b\b\b\b\b\b\b\b\b\b\b\b\b\b\b\b\b\b\b\b\b\b                                          \b\b\b\b\b\b\b\b\b\b\b\b\b\b\b\b\b\b\b\b\b\b\b\b\b\b\b\b\b\b\b\b\b\b\b\b\b\b\b\b\b\b 73% 75020 - images/peking_duck/71526.jpg\b\b\b\b\b\b\b\b\b\b\b\b\b\b\b\b\b\b\b\b\b\b\b\b\b\b\b\b\b\b\b\b\b\b\b\b\b\b\b\b\b                                         \b\b\b\b\b\b\b\b\b\b\b\b\b\b\b\b\b\b\b\b\b\b\b\b\b\b\b\b\b\b\b\b\b\b\b\b\b\b\b\b\b 73% 75104 - images/pho/1011443.jpg\b\b\b\b\b\b\b\b\b\b\b\b\b\b\b\b\b\b\b\b\b\b\b\b\b\b\b\b\b\b\b\b\b\b\b                                   \b\b\b\b\b\b\b\b\b\b\b\b\b\b\b\b\b\b\b\b\b\b\b\b\b\b\b\b\b\b\b\b\b\b\b 74% 75178 - images/pho/1230609.jpg\b\b\b\b\b\b\b\b\b\b\b\b\b\b\b\b\b\b\b\b\b\b\b\b\b\b\b\b\b\b\b\b\b\b\b                                   \b\b\b\b\b\b\b\b\b\b\b\b\b\b\b\b\b\b\b\b\b\b\b\b\b\b\b\b\b\b\b\b\b\b\b 74% 75179 - images/pho/1232211.jpg\b\b\b\b\b\b\b\b\b\b\b\b\b\b\b\b\b\b\b\b\b\b\b\b\b\b\b\b\b\b\b\b\b\b\b                                   \b\b\b\b\b\b\b\b\b\b\b\b\b\b\b\b\b\b\b\b\b\b\b\b\b\b\b\b\b\b\b\b\b\b\b 74% 75261 - images/pho/1496796.jpg\b\b\b\b\b\b\b\b\b\b\b\b\b\b\b\b\b\b\b\b\b\b\b\b\b\b\b\b\b\b\b\b\b\b\b                                   \b\b\b\b\b\b\b\b\b\b\b\b\b\b\b\b\b\b\b\b\b\b\b\b\b\b\b\b\b\b\b\b\b\b\b 74% 75341 - images/pho/1844502.jpg\b\b\b\b\b\b\b\b\b\b\b\b\b\b\b\b\b\b\b\b\b\b\b\b\b\b\b\b\b\b\b\b\b\b\b                                   \b\b\b\b\b\b\b\b\b\b\b\b\b\b\b\b\b\b\b\b\b\b\b\b\b\b\b\b\b\b\b\b\b\b\b 74% 75418 - images/pho/2202642.jpg\b\b\b\b\b\b\b\b\b\b\b\b\b\b\b\b\b\b\b\b\b\b\b\b\b\b\b\b\b\b\b\b\b\b\b                                   \b\b\b\b\b\b\b\b\b\b\b\b\b\b\b\b\b\b\b\b\b\b\b\b\b\b\b\b\b\b\b\b\b\b\b 74% 75501 - images/pho/2574372.jpg\b\b\b\b\b\b\b\b\b\b\b\b\b\b\b\b\b\b\b\b\b\b\b\b\b\b\b\b\b\b\b\b\b\b\b                                   \b\b\b\b\b\b\b\b\b\b\b\b\b\b\b\b\b\b\b\b\b\b\b\b\b\b\b\b\b\b\b\b\b\b\b 74% 75581 - images/pho/2844050.jpg\b\b\b\b\b\b\b\b\b\b\b\b\b\b\b\b\b\b\b\b\b\b\b\b\b\b\b\b\b\b\b\b\b\b\b                                   \b\b\b\b\b\b\b\b\b\b\b\b\b\b\b\b\b\b\b\b\b\b\b\b\b\b\b\b\b\b\b\b\b\b\b 74% 75652 - images/pho/3063848.jpg\b\b\b\b\b\b\b\b\b\b\b\b\b\b\b\b\b\b\b\b\b\b\b\b\b\b\b\b\b\b\b\b\b\b\b                                   \b\b\b\b\b\b\b\b\b\b\b\b\b\b\b\b\b\b\b\b\b\b\b\b\b\b\b\b\b\b\b\b\b\b\b 74% 75668 - images/pho/309994.jpg\b\b\b\b\b\b\b\b\b\b\b\b\b\b\b\b\b\b\b\b\b\b\b\b\b\b\b\b\b\b\b\b\b\b                                  \b\b\b\b\b\b\b\b\b\b\b\b\b\b\b\b\b\b\b\b\b\b\b\b\b\b\b\b\b\b\b\b\b\b 74% 75750 - images/pho/3433992.jpg\b\b\b\b\b\b\b\b\b\b\b\b\b\b\b\b\b\b\b\b\b\b\b\b\b\b\b\b\b\b\b\b\b\b\b                                   \b\b\b\b\b\b\b\b\b\b\b\b\b\b\b\b\b\b\b\b\b\b\b\b\b\b\b\b\b\b\b\b\b\b\b 74% 75828 - images/pho/37660.jpg\b\b\b\b\b\b\b\b\b\b\b\b\b\b\b\b\b\b\b\b\b\b\b\b\b\b\b\b\b\b\b\b\b                                 \b\b\b\b\b\b\b\b\b\b\b\b\b\b\b\b\b\b\b\b\b\b\b\b\b\b\b\b\b\b\b\b\b 74% 75910 - images/pho/4787.jpg\b\b\b\b\b\b\b\b\b\b\b\b\b\b\b\b\b\b\b\b\b\b\b\b\b\b\b\b\b\b\b\b                                \b\b\b\b\b\b\b\b\b\b\b\b\b\b\b\b\b\b\b\b\b\b\b\b\b\b\b\b\b\b\b\b 74% 75911 - images/pho/4789.jpg\b\b\b\b\b\b\b\b\b\b\b\b\b\b\b\b\b\b\b\b\b\b\b\b\b\b\b\b\b\b\b\b                                \b\b\b\b\b\b\b\b\b\b\b\b\b\b\b\b\b\b\b\b\b\b\b\b\b\b\b\b\b\b\b\b 74% 75982 - images/pho/645258.jpg\b\b\b\b\b\b\b\b\b\b\b\b\b\b\b\b\b\b\b\b\b\b\b\b\b\b\b\b\b\b\b\b\b\b                                  \b\b\b\b\b\b\b\b\b\b\b\b\b\b\b\b\b\b\b\b\b\b\b\b\b\b\b\b\b\b\b\b\b\b 74% 76059 - images/pho/881938.jpg\b\b\b\b\b\b\b\b\b\b\b\b\b\b\b\b\b\b\b\b\b\b\b\b\b\b\b\b\b\b\b\b\b\b                                  \b\b\b\b\b\b\b\b\b\b\b\b\b\b\b\b\b\b\b\b\b\b\b\b\b\b\b\b\b\b\b\b\b\b 75% 76139 - images/pizza/1107714.jpg\b\b\b\b\b\b\b\b\b\b\b\b\b\b\b\b\b\b\b\b\b\b\b\b\b\b\b\b\b\b\b\b\b\b\b\b\b                                     \b\b\b\b\b\b\b\b\b\b\b\b\b\b\b\b\b\b\b\b\b\b\b\b\b\b\b\b\b\b\b\b\b\b\b\b\b 75% 76140 - images/pizza/111051.jpg\b\b\b\b\b\b\b\b\b\b\b\b\b\b\b\b\b\b\b\b\b\b\b\b\b\b\b\b\b\b\b\b\b\b\b\b                                    \b\b\b\b\b\b\b\b\b\b\b\b\b\b\b\b\b\b\b\b\b\b\b\b\b\b\b\b\b\b\b\b\b\b\b\b 75% 76210 - images/pizza/138961.jpg\b\b\b\b\b\b\b\b\b\b\b\b\b\b\b\b\b\b\b\b\b\b\b\b\b\b\b\b\b\b\b\b\b\b\b\b                                    \b\b\b\b\b\b\b\b\b\b\b\b\b\b\b\b\b\b\b\b\b\b\b\b\b\b\b\b\b\b\b\b\b\b\b\b 75% 76285 - images/pizza/1665654.jpg\b\b\b\b\b\b\b\b\b\b\b\b\b\b\b\b\b\b\b\b\b\b\b\b\b\b\b\b\b\b\b\b\b\b\b\b\b                                     \b\b\b\b\b\b\b\b\b\b\b\b\b\b\b\b\b\b\b\b\b\b\b\b\b\b\b\b\b\b\b\b\b\b\b\b\b 75% 76358 - images/pizza/1968947.jpg\b\b\b\b\b\b\b\b\b\b\b\b\b\b\b\b\b\b\b\b\b\b\b\b\b\b\b\b\b\b\b\b\b\b\b\b\b                                     \b\b\b\b\b\b\b\b\b\b\b\b\b\b\b\b\b\b\b\b\b\b\b\b\b\b\b\b\b\b\b\b\b\b\b\b\b 75% 76425 - images/pizza/2203687.jpg\b\b\b\b\b\b\b\b\b\b\b\b\b\b\b\b\b\b\b\b\b\b\b\b\b\b\b\b\b\b\b\b\b\b\b\b\b                                     \b\b\b\b\b\b\b\b\b\b\b\b\b\b\b\b\b\b\b\b\b\b\b\b\b\b\b\b\b\b\b\b\b\b\b\b\b 75% 76494 - images/pizza/2462190.jpg\b\b\b\b\b\b\b\b\b\b\b\b\b\b\b\b\b\b\b\b\b\b\b\b\b\b\b\b\b\b\b\b\b\b\b\b\b                                     \b\b\b\b\b\b\b\b\b\b\b\b\b\b\b\b\b\b\b\b\b\b\b\b\b\b\b\b\b\b\b\b\b\b\b\b\b 75% 76567 - images/pizza/2671508.jpg\b\b\b\b\b\b\b\b\b\b\b\b\b\b\b\b\b\b\b\b\b\b\b\b\b\b\b\b\b\b\b\b\b\b\b\b\b                                     \b\b\b\b\b\b\b\b\b\b\b\b\b\b\b\b\b\b\b\b\b\b\b\b\b\b\b\b\b\b\b\b\b\b\b\b\b 75% 76640 - images/pizza/2980131.jpg\b\b\b\b\b\b\b\b\b\b\b\b\b\b\b\b\b\b\b\b\b\b\b\b\b\b\b\b\b\b\b\b\b\b\b\b\b                                     \b\b\b\b\b\b\b\b\b\b\b\b\b\b\b\b\b\b\b\b\b\b\b\b\b\b\b\b\b\b\b\b\b\b\b\b\b 75% 76715 - images/pizza/332231.jpg\b\b\b\b\b\b\b\b\b\b\b\b\b\b\b\b\b\b\b\b\b\b\b\b\b\b\b\b\b\b\b\b\b\b\b\b                                    \b\b\b\b\b\b\b\b\b\b\b\b\b\b\b\b\b\b\b\b\b\b\b\b\b\b\b\b\b\b\b\b\b\b\b\b 75% 76758 - images/pizza/3456440.jpg\b\b\b\b\b\b\b\b\b\b\b\b\b\b\b\b\b\b\b\b\b\b\b\b\b\b\b\b\b\b\b\b\b\b\b\b\b                                     \b\b\b\b\b\b\b\b\b\b\b\b\b\b\b\b\b\b\b\b\b\b\b\b\b\b\b\b\b\b\b\b\b\b\b\b\b 75% 76789 - images/pizza/3574192.jpg\b\b\b\b\b\b\b\b\b\b\b\b\b\b\b\b\b\b\b\b\b\b\b\b\b\b\b\b\b\b\b\b\b\b\b\b\b                                     \b\b\b\b\b\b\b\b\b\b\b\b\b\b\b\b\b\b\b\b\b\b\b\b\b\b\b\b\b\b\b\b\b\b\b\b\b 75% 76858 - images/pizza/38349.jpg\b\b\b\b\b\b\b\b\b\b\b\b\b\b\b\b\b\b\b\b\b\b\b\b\b\b\b\b\b\b\b\b\b\b\b                                   \b\b\b\b\b\b\b\b\b\b\b\b\b\b\b\b\b\b\b\b\b\b\b\b\b\b\b\b\b\b\b\b\b\b\b 75% 76925 - images/pizza/52934.jpg\b\b\b\b\b\b\b\b\b\b\b\b\b\b\b\b\b\b\b\b\b\b\b\b\b\b\b\b\b\b\b\b\b\b\b                                   \b\b\b\b\b\b\b\b\b\b\b\b\b\b\b\b\b\b\b\b\b\b\b\b\b\b\b\b\b\b\b\b\b\b\b 76% 76997 - images/pizza/741491.jpg\b\b\b\b\b\b\b\b\b\b\b\b\b\b\b\b\b\b\b\b\b\b\b\b\b\b\b\b\b\b\b\b\b\b\b\b                                    \b\b\b\b\b\b\b\b\b\b\b\b\b\b\b\b\b\b\b\b\b\b\b\b\b\b\b\b\b\b\b\b\b\b\b\b 76% 76998 - images/pizza/741883.jpg\b\b\b\b\b\b\b\b\b\b\b\b\b\b\b\b\b\b\b\b\b\b\b\b\b\b\b\b\b\b\b\b\b\b\b\b                                    \b\b\b\b\b\b\b\b\b\b\b\b\b\b\b\b\b\b\b\b\b\b\b\b\b\b\b\b\b\b\b\b\b\b\b\b 76% 77071 - images/pizza/926046.jpg\b\b\b\b\b\b\b\b\b\b\b\b\b\b\b\b\b\b\b\b\b\b\b\b\b\b\b\b\b\b\b\b\b\b\b\b                                    \b\b\b\b\b\b\b\b\b\b\b\b\b\b\b\b\b\b\b\b\b\b\b\b\b\b\b\b\b\b\b\b\b\b\b\b 76% 77147 - images/pork_chop/1169430.jpg\b\b\b\b\b\b\b\b\b\b\b\b\b\b\b\b\b\b\b\b\b\b\b\b\b\b\b\b\b\b\b\b\b\b\b\b\b\b\b\b\b                                         \b\b\b\b\b\b\b\b\b\b\b\b\b\b\b\b\b\b\b\b\b\b\b\b\b\b\b\b\b\b\b\b\b\b\b\b\b\b\b\b\b 76% 77226 - images/pork_chop/1418802.jpg\b\b\b\b\b\b\b\b\b\b\b\b\b\b\b\b\b\b\b\b\b\b\b\b\b\b\b\b\b\b\b\b\b\b\b\b\b\b\b\b\b                                         \b\b\b\b\b\b\b\b\b\b\b\b\b\b\b\b\b\b\b\b\b\b\b\b\b\b\b\b\b\b\b\b\b\b\b\b\b\b\b\b\b 76% 77311 - images/pork_chop/1742339.jpg\b\b\b\b\b\b\b\b\b\b\b\b\b\b\b\b\b\b\b\b\b\b\b\b\b\b\b\b\b\b\b\b\b\b\b\b\b\b\b\b\b                                         \b\b\b\b\b\b\b\b\b\b\b\b\b\b\b\b\b\b\b\b\b\b\b\b\b\b\b\b\b\b\b\b\b\b\b\b\b\b\b\b\b 76% 77312 - images/pork_chop/174516.jpg\b\b\b\b\b\b\b\b\b\b\b\b\b\b\b\b\b\b\b\b\b\b\b\b\b\b\b\b\b\b\b\b\b\b\b\b\b\b\b\b                                        \b\b\b\b\b\b\b\b\b\b\b\b\b\b\b\b\b\b\b\b\b\b\b\b\b\b\b\b\b\b\b\b\b\b\b\b\b\b\b\b 76% 77394 - images/pork_chop/2089945.jpg\b\b\b\b\b\b\b\b\b\b\b\b\b\b\b\b\b\b\b\b\b\b\b\b\b\b\b\b\b\b\b\b\b\b\b\b\b\b\b\b\b                                         \b\b\b\b\b\b\b\b\b\b\b\b\b\b\b\b\b\b\b\b\b\b\b\b\b\b\b\b\b\b\b\b\b\b\b\b\b\b\b\b\b 76% 77473 - images/pork_chop/236812.jpg\b\b\b\b\b\b\b\b\b\b\b\b\b\b\b\b\b\b\b\b\b\b\b\b\b\b\b\b\b\b\b\b\b\b\b\b\b\b\b\b                                        \b\b\b\b\b\b\b\b\b\b\b\b\b\b\b\b\b\b\b\b\b\b\b\b\b\b\b\b\b\b\b\b\b\b\b\b\b\b\b\b 76% 77548 - images/pork_chop/2653314.jpg\b\b\b\b\b\b\b\b\b\b\b\b\b\b\b\b\b\b\b\b\b\b\b\b\b\b\b\b\b\b\b\b\b\b\b\b\b\b\b\b\b                                         \b\b\b\b\b\b\b\b\b\b\b\b\b\b\b\b\b\b\b\b\b\b\b\b\b\b\b\b\b\b\b\b\b\b\b\b\b\b\b\b\b 76% 77569 - images/pork_chop/2717324.jpg\b\b\b\b\b\b\b\b\b\b\b\b\b\b\b\b\b\b\b\b\b\b\b\b\b\b\b\b\b\b\b\b\b\b\b\b\b\b\b\b\b                                         \b\b\b\b\b\b\b\b\b\b\b\b\b\b\b\b\b\b\b\b\b\b\b\b\b\b\b\b\b\b\b\b\b\b\b\b\b\b\b\b\b 76% 77633 - images/pork_chop/2931040.jpg\b\b\b\b\b\b\b\b\b\b\b\b\b\b\b\b\b\b\b\b\b\b\b\b\b\b\b\b\b\b\b\b\b\b\b\b\b\b\b\b\b                                         \b\b\b\b\b\b\b\b\b\b\b\b\b\b\b\b\b\b\b\b\b\b\b\b\b\b\b\b\b\b\b\b\b\b\b\b\b\b\b\b\b 76% 77679 - images/pork_chop/3105887.jpg\b\b\b\b\b\b\b\b\b\b\b\b\b\b\b\b\b\b\b\b\b\b\b\b\b\b\b\b\b\b\b\b\b\b\b\b\b\b\b\b\b                                         \b\b\b\b\b\b\b\b\b\b\b\b\b\b\b\b\b\b\b\b\b\b\b\b\b\b\b\b\b\b\b\b\b\b\b\b\b\b\b\b\b 76% 77717 - images/pork_chop/325280.jpg\b\b\b\b\b\b\b\b\b\b\b\b\b\b\b\b\b\b\b\b\b\b\b\b\b\b\b\b\b\b\b\b\b\b\b\b\b\b\b\b                                        \b\b\b\b\b\b\b\b\b\b\b\b\b\b\b\b\b\b\b\b\b\b\b\b\b\b\b\b\b\b\b\b\b\b\b\b\b\b\b\b 76% 77793 - images/pork_chop/3521892.jpg\b\b\b\b\b\b\b\b\b\b\b\b\b\b\b\b\b\b\b\b\b\b\b\b\b\b\b\b\b\b\b\b\b\b\b\b\b\b\b\b\b                                         \b\b\b\b\b\b\b\b\b\b\b\b\b\b\b\b\b\b\b\b\b\b\b\b\b\b\b\b\b\b\b\b\b\b\b\b\b\b\b\b\b 76% 77866 - images/pork_chop/3776334.jpg\b\b\b\b\b\b\b\b\b\b\b\b\b\b\b\b\b\b\b\b\b\b\b\b\b\b\b\b\b\b\b\b\b\b\b\b\b\b\b\b\b                                         \b\b\b\b\b\b\b\b\b\b\b\b\b\b\b\b\b\b\b\b\b\b\b\b\b\b\b\b\b\b\b\b\b\b\b\b\b\b\b\b\b 76% 77951 - images/pork_chop/513047.jpg\b\b\b\b\b\b\b\b\b\b\b\b\b\b\b\b\b\b\b\b\b\b\b\b\b\b\b\b\b\b\b\b\b\b\b\b\b\b\b\b                                        \b\b\b\b\b\b\b\b\b\b\b\b\b\b\b\b\b\b\b\b\b\b\b\b\b\b\b\b\b\b\b\b\b\b\b\b\b\b\b\b 77% 77952 - images/pork_chop/513050.jpg\b\b\b\b\b\b\b\b\b\b\b\b\b\b\b\b\b\b\b\b\b\b\b\b\b\b\b\b\b\b\b\b\b\b\b\b\b\b\b\b                                        \b\b\b\b\b\b\b\b\b\b\b\b\b\b\b\b\b\b\b\b\b\b\b\b\b\b\b\b\b\b\b\b\b\b\b\b\b\b\b\b 77% 78034 - images/pork_chop/7509.jpg\b\b\b\b\b\b\b\b\b\b\b\b\b\b\b\b\b\b\b\b\b\b\b\b\b\b\b\b\b\b\b\b\b\b\b\b\b\b                                      \b\b\b\b\b\b\b\b\b\b\b\b\b\b\b\b\b\b\b\b\b\b\b\b\b\b\b\b\b\b\b\b\b\b\b\b\b\b 77% 78117 - images/poutine/1051467.jpg\b\b\b\b\b\b\b\b\b\b\b\b\b\b\b\b\b\b\b\b\b\b\b\b\b\b\b\b\b\b\b\b\b\b\b\b\b\b\b                                       \b\b\b\b\b\b\b\b\b\b\b\b\b\b\b\b\b\b\b\b\b\b\b\b\b\b\b\b\b\b\b\b\b\b\b\b\b\b\b 77% 78194 - images/poutine/133176.jpg\b\b\b\b\b\b\b\b\b\b\b\b\b\b\b\b\b\b\b\b\b\b\b\b\b\b\b\b\b\b\b\b\b\b\b\b\b\b                                      \b\b\b\b\b\b\b\b\b\b\b\b\b\b\b\b\b\b\b\b\b\b\b\b\b\b\b\b\b\b\b\b\b\b\b\b\b\b 77% 78275 - images/poutine/1591648.jpg\b\b\b\b\b\b\b\b\b\b\b\b\b\b\b\b\b\b\b\b\b\b\b\b\b\b\b\b\b\b\b\b\b\b\b\b\b\b\b                                       \b\b\b\b\b\b\b\b\b\b\b\b\b\b\b\b\b\b\b\b\b\b\b\b\b\b\b\b\b\b\b\b\b\b\b\b\b\b\b 77% 78276 - images/poutine/1594696.jpg\b\b\b\b\b\b\b\b\b\b\b\b\b\b\b\b\b\b\b\b\b\b\b\b\b\b\b\b\b\b\b\b\b\b\b\b\b\b\b                                       \b\b\b\b\b\b\b\b\b\b\b\b\b\b\b\b\b\b\b\b\b\b\b\b\b\b\b\b\b\b\b\b\b\b\b\b\b\b\b 77% 78357 - images/poutine/1943932.jpg\b\b\b\b\b\b\b\b\b\b\b\b\b\b\b\b\b\b\b\b\b\b\b\b\b\b\b\b\b\b\b\b\b\b\b\b\b\b\b                                       \b\b\b\b\b\b\b\b\b\b\b\b\b\b\b\b\b\b\b\b\b\b\b\b\b\b\b\b\b\b\b\b\b\b\b\b\b\b\b 77% 78434 - images/poutine/2225651.jpg\b\b\b\b\b\b\b\b\b\b\b\b\b\b\b\b\b\b\b\b\b\b\b\b\b\b\b\b\b\b\b\b\b\b\b\b\b\b\b                                       \b\b\b\b\b\b\b\b\b\b\b\b\b\b\b\b\b\b\b\b\b\b\b\b\b\b\b\b\b\b\b\b\b\b\b\b\b\b\b 77% 78512 - images/poutine/2477886.jpg\b\b\b\b\b\b\b\b\b\b\b\b\b\b\b\b\b\b\b\b\b\b\b\b\b\b\b\b\b\b\b\b\b\b\b\b\b\b\b                                       \b\b\b\b\b\b\b\b\b\b\b\b\b\b\b\b\b\b\b\b\b\b\b\b\b\b\b\b\b\b\b\b\b\b\b\b\b\b\b 77% 78513 - images/poutine/2478141.jpg\b\b\b\b\b\b\b\b\b\b\b\b\b\b\b\b\b\b\b\b\b\b\b\b\b\b\b\b\b\b\b\b\b\b\b\b\b\b\b                                       \b\b\b\b\b\b\b\b\b\b\b\b\b\b\b\b\b\b\b\b\b\b\b\b\b\b\b\b\b\b\b\b\b\b\b\b\b\b\b 77% 78594 - images/poutine/278972.jpg\b\b\b\b\b\b\b\b\b\b\b\b\b\b\b\b\b\b\b\b\b\b\b\b\b\b\b\b\b\b\b\b\b\b\b\b\b\b                                      \b\b\b\b\b\b\b\b\b\b\b\b\b\b\b\b\b\b\b\b\b\b\b\b\b\b\b\b\b\b\b\b\b\b\b\b\b\b 77% 78678 - images/poutine/3185850.jpg\b\b\b\b\b\b\b\b\b\b\b\b\b\b\b\b\b\b\b\b\b\b\b\b\b\b\b\b\b\b\b\b\b\b\b\b\b\b\b                                       \b\b\b\b\b\b\b\b\b\b\b\b\b\b\b\b\b\b\b\b\b\b\b\b\b\b\b\b\b\b\b\b\b\b\b\b\b\b\b 77% 78754 - images/poutine/3483368.jpg\b\b\b\b\b\b\b\b\b\b\b\b\b\b\b\b\b\b\b\b\b\b\b\b\b\b\b\b\b\b\b\b\b\b\b\b\b\b\b                                       \b\b\b\b\b\b\b\b\b\b\b\b\b\b\b\b\b\b\b\b\b\b\b\b\b\b\b\b\b\b\b\b\b\b\b\b\b\b\b 77% 78833 - images/poutine/3728169.jpg\b\b\b\b\b\b\b\b\b\b\b\b\b\b\b\b\b\b\b\b\b\b\b\b\b\b\b\b\b\b\b\b\b\b\b\b\b\b\b                                       \b\b\b\b\b\b\b\b\b\b\b\b\b\b\b\b\b\b\b\b\b\b\b\b\b\b\b\b\b\b\b\b\b\b\b\b\b\b\b 77% 78834 - images/poutine/3729177.jpg\b\b\b\b\b\b\b\b\b\b\b\b\b\b\b\b\b\b\b\b\b\b\b\b\b\b\b\b\b\b\b\b\b\b\b\b\b\b\b                                       \b\b\b\b\b\b\b\b\b\b\b\b\b\b\b\b\b\b\b\b\b\b\b\b\b\b\b\b\b\b\b\b\b\b\b\b\b\b\b 78% 78915 - images/poutine/443215.jpg\b\b\b\b\b\b\b\b\b\b\b\b\b\b\b\b\b\b\b\b\b\b\b\b\b\b\b\b\b\b\b\b\b\b\b\b\b\b                                      \b\b\b\b\b\b\b\b\b\b\b\b\b\b\b\b\b\b\b\b\b\b\b\b\b\b\b\b\b\b\b\b\b\b\b\b\b\b 78% 78991 - images/poutine/653300.jpg\b\b\b\b\b\b\b\b\b\b\b\b\b\b\b\b\b\b\b\b\b\b\b\b\b\b\b\b\b\b\b\b\b\b\b\b\b\b                                      \b\b\b\b\b\b\b\b\b\b\b\b\b\b\b\b\b\b\b\b\b\b\b\b\b\b\b\b\b\b\b\b\b\b\b\b\b\b 78% 79066 - images/poutine/864430.jpg\b\b\b\b\b\b\b\b\b\b\b\b\b\b\b\b\b\b\b\b\b\b\b\b\b\b\b\b\b\b\b\b\b\b\b\b\b\b                                      \b\b\b\b\b\b\b\b\b\b\b\b\b\b\b\b\b\b\b\b\b\b\b\b\b\b\b\b\b\b\b\b\b\b\b\b\b\b 78% 79092 - images/poutine/983895.jpg\b\b\b\b\b\b\b\b\b\b\b\b\b\b\b\b\b\b\b\b\b\b\b\b\b\b\b\b\b\b\b\b\b\b\b\b\b\b                                      \b\b\b\b\b\b\b\b\b\b\b\b\b\b\b\b\b\b\b\b\b\b\b\b\b\b\b\b\b\b\b\b\b\b\b\b\b\b 78% 79138 - images/prime_rib/1113725.jpg\b\b\b\b\b\b\b\b\b\b\b\b\b\b\b\b\b\b\b\b\b\b\b\b\b\b\b\b\b\b\b\b\b\b\b\b\b\b\b\b\b                                         \b\b\b\b\b\b\b\b\b\b\b\b\b\b\b\b\b\b\b\b\b\b\b\b\b\b\b\b\b\b\b\b\b\b\b\b\b\b\b\b\b 78% 79213 - images/prime_rib/1288951.jpg\b\b\b\b\b\b\b\b\b\b\b\b\b\b\b\b\b\b\b\b\b\b\b\b\b\b\b\b\b\b\b\b\b\b\b\b\b\b\b\b\b                                         \b\b\b\b\b\b\b\b\b\b\b\b\b\b\b\b\b\b\b\b\b\b\b\b\b\b\b\b\b\b\b\b\b\b\b\b\b\b\b\b\b 78% 79292 - images/prime_rib/1560483.jpg\b\b\b\b\b\b\b\b\b\b\b\b\b\b\b\b\b\b\b\b\b\b\b\b\b\b\b\b\b\b\b\b\b\b\b\b\b\b\b\b\b                                         \b\b\b\b\b\b\b\b\b\b\b\b\b\b\b\b\b\b\b\b\b\b\b\b\b\b\b\b\b\b\b\b\b\b\b\b\b\b\b\b\b 78% 79293 - images/prime_rib/1562772.jpg\b\b\b\b\b\b\b\b\b\b\b\b\b\b\b\b\b\b\b\b\b\b\b\b\b\b\b\b\b\b\b\b\b\b\b\b\b\b\b\b\b                                         \b\b\b\b\b\b\b\b\b\b\b\b\b\b\b\b\b\b\b\b\b\b\b\b\b\b\b\b\b\b\b\b\b\b\b\b\b\b\b\b\b 78% 79372 - images/prime_rib/187181.jpg\b\b\b\b\b\b\b\b\b\b\b\b\b\b\b\b\b\b\b\b\b\b\b\b\b\b\b\b\b\b\b\b\b\b\b\b\b\b\b\b                                        \b\b\b\b\b\b\b\b\b\b\b\b\b\b\b\b\b\b\b\b\b\b\b\b\b\b\b\b\b\b\b\b\b\b\b\b\b\b\b\b 78% 79450 - images/prime_rib/217796.jpg\b\b\b\b\b\b\b\b\b\b\b\b\b\b\b\b\b\b\b\b\b\b\b\b\b\b\b\b\b\b\b\b\b\b\b\b\b\b\b\b                                        \b\b\b\b\b\b\b\b\b\b\b\b\b\b\b\b\b\b\b\b\b\b\b\b\b\b\b\b\b\b\b\b\b\b\b\b\b\b\b\b 78% 79528 - images/prime_rib/257274.jpg\b\b\b\b\b\b\b\b\b\b\b\b\b\b\b\b\b\b\b\b\b\b\b\b\b\b\b\b\b\b\b\b\b\b\b\b\b\b\b\b                                        \b\b\b\b\b\b\b\b\b\b\b\b\b\b\b\b\b\b\b\b\b\b\b\b\b\b\b\b\b\b\b\b\b\b\b\b\b\b\b\b 78% 79529 - images/prime_rib/2575928.jpg\b\b\b\b\b\b\b\b\b\b\b\b\b\b\b\b\b\b\b\b\b\b\b\b\b\b\b\b\b\b\b\b\b\b\b\b\b\b\b\b\b                                         \b\b\b\b\b\b\b\b\b\b\b\b\b\b\b\b\b\b\b\b\b\b\b\b\b\b\b\b\b\b\b\b\b\b\b\b\b\b\b\b\b 78% 79614 - images/prime_rib/282995.jpg\b\b\b\b\b\b\b\b\b\b\b\b\b\b\b\b\b\b\b\b\b\b\b\b\b\b\b\b\b\b\b\b\b\b\b\b\b\b\b\b                                        \b\b\b\b\b\b\b\b\b\b\b\b\b\b\b\b\b\b\b\b\b\b\b\b\b\b\b\b\b\b\b\b\b\b\b\b\b\b\b\b 78% 79693 - images/prime_rib/3086195.jpg\b\b\b\b\b\b\b\b\b\b\b\b\b\b\b\b\b\b\b\b\b\b\b\b\b\b\b\b\b\b\b\b\b\b\b\b\b\b\b\b\b                                         \b\b\b\b\b\b\b\b\b\b\b\b\b\b\b\b\b\b\b\b\b\b\b\b\b\b\b\b\b\b\b\b\b\b\b\b\b\b\b\b\b 78% 79775 - images/prime_rib/3385821.jpg\b\b\b\b\b\b\b\b\b\b\b\b\b\b\b\b\b\b\b\b\b\b\b\b\b\b\b\b\b\b\b\b\b\b\b\b\b\b\b\b\b                                         \b\b\b\b\b\b\b\b\b\b\b\b\b\b\b\b\b\b\b\b\b\b\b\b\b\b\b\b\b\b\b\b\b\b\b\b\b\b\b\b\b 78% 79827 - images/prime_rib/3564559.jpg\b\b\b\b\b\b\b\b\b\b\b\b\b\b\b\b\b\b\b\b\b\b\b\b\b\b\b\b\b\b\b\b\b\b\b\b\b\b\b\b\b                                         \b\b\b\b\b\b\b\b\b\b\b\b\b\b\b\b\b\b\b\b\b\b\b\b\b\b\b\b\b\b\b\b\b\b\b\b\b\b\b\b\b 79% 79846 - images/prime_rib/3724950.jpg\b\b\b\b\b\b\b\b\b\b\b\b\b\b\b\b\b\b\b\b\b\b\b\b\b\b\b\b\b\b\b\b\b\b\b\b\b\b\b\b\b                                         \b\b\b\b\b\b\b\b\b\b\b\b\b\b\b\b\b\b\b\b\b\b\b\b\b\b\b\b\b\b\b\b\b\b\b\b\b\b\b\b\b 79% 79925 - images/prime_rib/493264.jpg\b\b\b\b\b\b\b\b\b\b\b\b\b\b\b\b\b\b\b\b\b\b\b\b\b\b\b\b\b\b\b\b\b\b\b\b\b\b\b\b                                        \b\b\b\b\b\b\b\b\b\b\b\b\b\b\b\b\b\b\b\b\b\b\b\b\b\b\b\b\b\b\b\b\b\b\b\b\b\b\b\b 79% 80007 - images/prime_rib/704745.jpg\b\b\b\b\b\b\b\b\b\b\b\b\b\b\b\b\b\b\b\b\b\b\b\b\b\b\b\b\b\b\b\b\b\b\b\b\b\b\b\b                                        \b\b\b\b\b\b\b\b\b\b\b\b\b\b\b\b\b\b\b\b\b\b\b\b\b\b\b\b\b\b\b\b\b\b\b\b\b\b\b\b 79% 80069 - images/prime_rib/926660.jpg\b\b\b\b\b\b\b\b\b\b\b\b\b\b\b\b\b\b\b\b\b\b\b\b\b\b\b\b\b\b\b\b\b\b\b\b\b\b\b\b                                        \b\b\b\b\b\b\b\b\b\b\b\b\b\b\b\b\b\b\b\b\b\b\b\b\b\b\b\b\b\b\b\b\b\b\b\b\b\b\b\b 79% 80082 - images/prime_rib/9547.jpg\b\b\b\b\b\b\b\b\b\b\b\b\b\b\b\b\b\b\b\b\b\b\b\b\b\b\b\b\b\b\b\b\b\b\b\b\b\b                                      \b\b\b\b\b\b\b\b\b\b\b\b\b\b\b\b\b\b\b\b\b\b\b\b\b\b\b\b\b\b\b\b\b\b\b\b\b\b 79% 80157 - images/pulled_pork_sandwich/1206588.jpg\b\b\b\b\b\b\b\b\b\b\b\b\b\b\b\b\b\b\b\b\b\b\b\b\b\b\b\b\b\b\b\b\b\b\b\b\b\b\b\b\b\b\b\b\b\b\b\b\b\b\b\b                                                    \b\b\b\b\b\b\b\b\b\b\b\b\b\b\b\b\b\b\b\b\b\b\b\b\b\b\b\b\b\b\b\b\b\b\b\b\b\b\b\b\b\b\b\b\b\b\b\b\b\b\b\b 79% 80236 - images/pulled_pork_sandwich/1449302.jpg\b\b\b\b\b\b\b\b\b\b\b\b\b\b\b\b\b\b\b\b\b\b\b\b\b\b\b\b\b\b\b\b\b\b\b\b\b\b\b\b\b\b\b\b\b\b\b\b\b\b\b\b                                                    \b\b\b\b\b\b\b\b\b\b\b\b\b\b\b\b\b\b\b\b\b\b\b\b\b\b\b\b\b\b\b\b\b\b\b\b\b\b\b\b\b\b\b\b\b\b\b\b\b\b\b\b 79% 80312 - images/pulled_pork_sandwich/1705933.jpg\b\b\b\b\b\b\b\b\b\b\b\b\b\b\b\b\b\b\b\b\b\b\b\b\b\b\b\b\b\b\b\b\b\b\b\b\b\b\b\b\b\b\b\b\b\b\b\b\b\b\b\b                                                    \b\b\b\b\b\b\b\b\b\b\b\b\b\b\b\b\b\b\b\b\b\b\b\b\b\b\b\b\b\b\b\b\b\b\b\b\b\b\b\b\b\b\b\b\b\b\b\b\b\b\b\b 79% 80350 - images/pulled_pork_sandwich/1826318.jpg\b\b\b\b\b\b\b\b\b\b\b\b\b\b\b\b\b\b\b\b\b\b\b\b\b\b\b\b\b\b\b\b\b\b\b\b\b\b\b\b\b\b\b\b\b\b\b\b\b\b\b\b                                                    \b\b\b\b\b\b\b\b\b\b\b\b\b\b\b\b\b\b\b\b\b\b\b\b\b\b\b\b\b\b\b\b\b\b\b\b\b\b\b\b\b\b\b\b\b\b\b\b\b\b\b\b 79% 80390 - images/pulled_pork_sandwich/1947870.jpg\b\b\b\b\b\b\b\b\b\b\b\b\b\b\b\b\b\b\b\b\b\b\b\b\b\b\b\b\b\b\b\b\b\b\b\b\b\b\b\b\b\b\b\b\b\b\b\b\b\b\b\b                                                    \b\b\b\b\b\b\b\b\b\b\b\b\b\b\b\b\b\b\b\b\b\b\b\b\b\b\b\b\b\b\b\b\b\b\b\b\b\b\b\b\b\b\b\b\b\b\b\b\b\b\b\b 79% 80470 - images/pulled_pork_sandwich/2145477.jpg\b\b\b\b\b\b\b\b\b\b\b\b\b\b\b\b\b\b\b\b\b\b\b\b\b\b\b\b\b\b\b\b\b\b\b\b\b\b\b\b\b\b\b\b\b\b\b\b\b\b\b\b                                                    \b\b\b\b\b\b\b\b\b\b\b\b\b\b\b\b\b\b\b\b\b\b\b\b\b\b\b\b\b\b\b\b\b\b\b\b\b\b\b\b\b\b\b\b\b\b\b\b\b\b\b\b 79% 80553 - images/pulled_pork_sandwich/2413416.jpg\b\b\b\b\b\b\b\b\b\b\b\b\b\b\b\b\b\b\b\b\b\b\b\b\b\b\b\b\b\b\b\b\b\b\b\b\b\b\b\b\b\b\b\b\b\b\b\b\b\b\b\b                                                    \b\b\b\b\b\b\b\b\b\b\b\b\b\b\b\b\b\b\b\b\b\b\b\b\b\b\b\b\b\b\b\b\b\b\b\b\b\b\b\b\b\b\b\b\b\b\b\b\b\b\b\b 79% 80603 - images/pulled_pork_sandwich/2645699.jpg\b\b\b\b\b\b\b\b\b\b\b\b\b\b\b\b\b\b\b\b\b\b\b\b\b\b\b\b\b\b\b\b\b\b\b\b\b\b\b\b\b\b\b\b\b\b\b\b\b\b\b\b                                                    \b\b\b\b\b\b\b\b\b\b\b\b\b\b\b\b\b\b\b\b\b\b\b\b\b\b\b\b\b\b\b\b\b\b\b\b\b\b\b\b\b\b\b\b\b\b\b\b\b\b\b\b 79% 80634 - images/pulled_pork_sandwich/2782447.jpg\b\b\b\b\b\b\b\b\b\b\b\b\b\b\b\b\b\b\b\b\b\b\b\b\b\b\b\b\b\b\b\b\b\b\b\b\b\b\b\b\b\b\b\b\b\b\b\b\b\b\b\b                                                    \b\b\b\b\b\b\b\b\b\b\b\b\b\b\b\b\b\b\b\b\b\b\b\b\b\b\b\b\b\b\b\b\b\b\b\b\b\b\b\b\b\b\b\b\b\b\b\b\b\b\b\b 79% 80713 - images/pulled_pork_sandwich/3130053.jpg\b\b\b\b\b\b\b\b\b\b\b\b\b\b\b\b\b\b\b\b\b\b\b\b\b\b\b\b\b\b\b\b\b\b\b\b\b\b\b\b\b\b\b\b\b\b\b\b\b\b\b\b                                                    \b\b\b\b\b\b\b\b\b\b\b\b\b\b\b\b\b\b\b\b\b\b\b\b\b\b\b\b\b\b\b\b\b\b\b\b\b\b\b\b\b\b\b\b\b\b\b\b\b\b\b\b 79% 80787 - images/pulled_pork_sandwich/3503876.jpg\b\b\b\b\b\b\b\b\b\b\b\b\b\b\b\b\b\b\b\b\b\b\b\b\b\b\b\b\b\b\b\b\b\b\b\b\b\b\b\b\b\b\b\b\b\b\b\b\b\b\b\b                                                    \b\b\b\b\b\b\b\b\b\b\b\b\b\b\b\b\b\b\b\b\b\b\b\b\b\b\b\b\b\b\b\b\b\b\b\b\b\b\b\b\b\b\b\b\b\b\b\b\b\b\b\b 80% 80793 - images/pulled_pork_sandwich/3542821.jpg\b\b\b\b\b\b\b\b\b\b\b\b\b\b\b\b\b\b\b\b\b\b\b\b\b\b\b\b\b\b\b\b\b\b\b\b\b\b\b\b\b\b\b\b\b\b\b\b\b\b\b\b                                                    \b\b\b\b\b\b\b\b\b\b\b\b\b\b\b\b\b\b\b\b\b\b\b\b\b\b\b\b\b\b\b\b\b\b\b\b\b\b\b\b\b\b\b\b\b\b\b\b\b\b\b\b 80% 80870 - images/pulled_pork_sandwich/3893619.jpg\b\b\b\b\b\b\b\b\b\b\b\b\b\b\b\b\b\b\b\b\b\b\b\b\b\b\b\b\b\b\b\b\b\b\b\b\b\b\b\b\b\b\b\b\b\b\b\b\b\b\b\b                                                    \b\b\b\b\b\b\b\b\b\b\b\b\b\b\b\b\b\b\b\b\b\b\b\b\b\b\b\b\b\b\b\b\b\b\b\b\b\b\b\b\b\b\b\b\b\b\b\b\b\b\b\b 80% 80948 - images/pulled_pork_sandwich/62302.jpg\b\b\b\b\b\b\b\b\b\b\b\b\b\b\b\b\b\b\b\b\b\b\b\b\b\b\b\b\b\b\b\b\b\b\b\b\b\b\b\b\b\b\b\b\b\b\b\b\b\b                                                  \b\b\b\b\b\b\b\b\b\b\b\b\b\b\b\b\b\b\b\b\b\b\b\b\b\b\b\b\b\b\b\b\b\b\b\b\b\b\b\b\b\b\b\b\b\b\b\b\b\b 80% 81028 - images/pulled_pork_sandwich/806526.jpg\b\b\b\b\b\b\b\b\b\b\b\b\b\b\b\b\b\b\b\b\b\b\b\b\b\b\b\b\b\b\b\b\b\b\b\b\b\b\b\b\b\b\b\b\b\b\b\b\b\b\b                                                   \b\b\b\b\b\b\b\b\b\b\b\b\b\b\b\b\b\b\b\b\b\b\b\b\b\b\b\b\b\b\b\b\b\b\b\b\b\b\b\b\b\b\b\b\b\b\b\b\b\b\b 80% 81055 - images/pulled_pork_sandwich/88256.jpg\b\b\b\b\b\b\b\b\b\b\b\b\b\b\b\b\b\b\b\b\b\b\b\b\b\b\b\b\b\b\b\b\b\b\b\b\b\b\b\b\b\b\b\b\b\b\b\b\b\b                                                  \b\b\b\b\b\b\b\b\b\b\b\b\b\b\b\b\b\b\b\b\b\b\b\b\b\b\b\b\b\b\b\b\b\b\b\b\b\b\b\b\b\b\b\b\b\b\b\b\b\b 80% 81106 - images/ramen/1006057.jpg\b\b\b\b\b\b\b\b\b\b\b\b\b\b\b\b\b\b\b\b\b\b\b\b\b\b\b\b\b\b\b\b\b\b\b\b\b                                     \b\b\b\b\b\b\b\b\b\b\b\b\b\b\b\b\b\b\b\b\b\b\b\b\b\b\b\b\b\b\b\b\b\b\b\b\b 80% 81186 - images/ramen/1252847.jpg\b\b\b\b\b\b\b\b\b\b\b\b\b\b\b\b\b\b\b\b\b\b\b\b\b\b\b\b\b\b\b\b\b\b\b\b\b                                     \b\b\b\b\b\b\b\b\b\b\b\b\b\b\b\b\b\b\b\b\b\b\b\b\b\b\b\b\b\b\b\b\b\b\b\b\b 80% 81268 - images/ramen/1575161.jpg\b\b\b\b\b\b\b\b\b\b\b\b\b\b\b\b\b\b\b\b\b\b\b\b\b\b\b\b\b\b\b\b\b\b\b\b\b                                     \b\b\b\b\b\b\b\b\b\b\b\b\b\b\b\b\b\b\b\b\b\b\b\b\b\b\b\b\b\b\b\b\b\b\b\b\b 80% 81345 - images/ramen/1871365.jpg\b\b\b\b\b\b\b\b\b\b\b\b\b\b\b\b\b\b\b\b\b\b\b\b\b\b\b\b\b\b\b\b\b\b\b\b\b                                     \b\b\b\b\b\b\b\b\b\b\b\b\b\b\b\b\b\b\b\b\b\b\b\b\b\b\b\b\b\b\b\b\b\b\b\b\b 80% 81352 - images/ramen/1908588.jpg\b\b\b\b\b\b\b\b\b\b\b\b\b\b\b\b\b\b\b\b\b\b\b\b\b\b\b\b\b\b\b\b\b\b\b\b\b                                     \b\b\b\b\b\b\b\b\b\b\b\b\b\b\b\b\b\b\b\b\b\b\b\b\b\b\b\b\b\b\b\b\b\b\b\b\b 80% 81435 - images/ramen/2269317.jpg\b\b\b\b\b\b\b\b\b\b\b\b\b\b\b\b\b\b\b\b\b\b\b\b\b\b\b\b\b\b\b\b\b\b\b\b\b                                     \b\b\b\b\b\b\b\b\b\b\b\b\b\b\b\b\b\b\b\b\b\b\b\b\b\b\b\b\b\b\b\b\b\b\b\b\b 80% 81513 - images/ramen/2556321.jpg\b\b\b\b\b\b\b\b\b\b\b\b\b\b\b\b\b\b\b\b\b\b\b\b\b\b\b\b\b\b\b\b\b\b\b\b\b                                     \b\b\b\b\b\b\b\b\b\b\b\b\b\b\b\b\b\b\b\b\b\b\b\b\b\b\b\b\b\b\b\b\b\b\b\b\b 80% 81593 - images/ramen/284037.jpg\b\b\b\b\b\b\b\b\b\b\b\b\b\b\b\b\b\b\b\b\b\b\b\b\b\b\b\b\b\b\b\b\b\b\b\b                                    \b\b\b\b\b\b\b\b\b\b\b\b\b\b\b\b\b\b\b\b\b\b\b\b\b\b\b\b\b\b\b\b\b\b\b\b 80% 81604 - images/ramen/2875428.jpg\b\b\b\b\b\b\b\b\b\b\b\b\b\b\b\b\b\b\b\b\b\b\b\b\b\b\b\b\b\b\b\b\b\b\b\b\b                                     \b\b\b\b\b\b\b\b\b\b\b\b\b\b\b\b\b\b\b\b\b\b\b\b\b\b\b\b\b\b\b\b\b\b\b\b\b 80% 81667 - images/ramen/3075273.jpg\b\b\b\b\b\b\b\b\b\b\b\b\b\b\b\b\b\b\b\b\b\b\b\b\b\b\b\b\b\b\b\b\b\b\b\b\b                                     \b\b\b\b\b\b\b\b\b\b\b\b\b\b\b\b\b\b\b\b\b\b\b\b\b\b\b\b\b\b\b\b\b\b\b\b\b 80% 81746 - images/ramen/338784.jpg\b\b\b\b\b\b\b\b\b\b\b\b\b\b\b\b\b\b\b\b\b\b\b\b\b\b\b\b\b\b\b\b\b\b\b\b                                    \b\b\b\b\b\b\b\b\b\b\b\b\b\b\b\b\b\b\b\b\b\b\b\b\b\b\b\b\b\b\b\b\b\b\b\b 81% 81827 - images/ramen/3701585.jpg\b\b\b\b\b\b\b\b\b\b\b\b\b\b\b\b\b\b\b\b\b\b\b\b\b\b\b\b\b\b\b\b\b\b\b\b\b                                     \b\b\b\b\b\b\b\b\b\b\b\b\b\b\b\b\b\b\b\b\b\b\b\b\b\b\b\b\b\b\b\b\b\b\b\b\b 81% 81900 - images/ramen/438139.jpg\b\b\b\b\b\b\b\b\b\b\b\b\b\b\b\b\b\b\b\b\b\b\b\b\b\b\b\b\b\b\b\b\b\b\b\b                                    \b\b\b\b\b\b\b\b\b\b\b\b\b\b\b\b\b\b\b\b\b\b\b\b\b\b\b\b\b\b\b\b\b\b\b\b 81% 81901 - images/ramen/439325.jpg\b\b\b\b\b\b\b\b\b\b\b\b\b\b\b\b\b\b\b\b\b\b\b\b\b\b\b\b\b\b\b\b\b\b\b\b                                    \b\b\b\b\b\b\b\b\b\b\b\b\b\b\b\b\b\b\b\b\b\b\b\b\b\b\b\b\b\b\b\b\b\b\b\b 81% 81975 - images/ramen/576196.jpg\b\b\b\b\b\b\b\b\b\b\b\b\b\b\b\b\b\b\b\b\b\b\b\b\b\b\b\b\b\b\b\b\b\b\b\b                                    \b\b\b\b\b\b\b\b\b\b\b\b\b\b\b\b\b\b\b\b\b\b\b\b\b\b\b\b\b\b\b\b\b\b\b\b 81% 82051 - images/ramen/773955.jpg\b\b\b\b\b\b\b\b\b\b\b\b\b\b\b\b\b\b\b\b\b\b\b\b\b\b\b\b\b\b\b\b\b\b\b\b                                    \b\b\b\b\b\b\b\b\b\b\b\b\b\b\b\b\b\b\b\b\b\b\b\b\b\b\b\b\b\b\b\b\b\b\b\b 81% 82135 - images/ravioli/1103898.jpg\b\b\b\b\b\b\b\b\b\b\b\b\b\b\b\b\b\b\b\b\b\b\b\b\b\b\b\b\b\b\b\b\b\b\b\b\b\b\b                                       \b\b\b\b\b\b\b\b\b\b\b\b\b\b\b\b\b\b\b\b\b\b\b\b\b\b\b\b\b\b\b\b\b\b\b\b\b\b\b 81% 82159 - images/ravioli/1166390.jpg\b\b\b\b\b\b\b\b\b\b\b\b\b\b\b\b\b\b\b\b\b\b\b\b\b\b\b\b\b\b\b\b\b\b\b\b\b\b\b                                       \b\b\b\b\b\b\b\b\b\b\b\b\b\b\b\b\b\b\b\b\b\b\b\b\b\b\b\b\b\b\b\b\b\b\b\b\b\b\b 81% 82216 - images/ravioli/137388.jpg\b\b\b\b\b\b\b\b\b\b\b\b\b\b\b\b\b\b\b\b\b\b\b\b\b\b\b\b\b\b\b\b\b\b\b\b\b\b                                      \b\b\b\b\b\b\b\b\b\b\b\b\b\b\b\b\b\b\b\b\b\b\b\b\b\b\b\b\b\b\b\b\b\b\b\b\b\b 81% 82306 - images/ravioli/1725936.jpg\b\b\b\b\b\b\b\b\b\b\b\b\b\b\b\b\b\b\b\b\b\b\b\b\b\b\b\b\b\b\b\b\b\b\b\b\b\b\b                                       \b\b\b\b\b\b\b\b\b\b\b\b\b\b\b\b\b\b\b\b\b\b\b\b\b\b\b\b\b\b\b\b\b\b\b\b\b\b\b 81% 82396 - images/ravioli/2053545.jpg\b\b\b\b\b\b\b\b\b\b\b\b\b\b\b\b\b\b\b\b\b\b\b\b\b\b\b\b\b\b\b\b\b\b\b\b\b\b\b                                       \b\b\b\b\b\b\b\b\b\b\b\b\b\b\b\b\b\b\b\b\b\b\b\b\b\b\b\b\b\b\b\b\b\b\b\b\b\b\b 81% 82452 - images/ravioli/2260183.jpg\b\b\b\b\b\b\b\b\b\b\b\b\b\b\b\b\b\b\b\b\b\b\b\b\b\b\b\b\b\b\b\b\b\b\b\b\b\b\b                                       \b\b\b\b\b\b\b\b\b\b\b\b\b\b\b\b\b\b\b\b\b\b\b\b\b\b\b\b\b\b\b\b\b\b\b\b\b\b\b 81% 82481 - images/ravioli/236494.jpg\b\b\b\b\b\b\b\b\b\b\b\b\b\b\b\b\b\b\b\b\b\b\b\b\b\b\b\b\b\b\b\b\b\b\b\b\b\b                                      \b\b\b\b\b\b\b\b\b\b\b\b\b\b\b\b\b\b\b\b\b\b\b\b\b\b\b\b\b\b\b\b\b\b\b\b\b\b 81% 82572 - images/ravioli/2661179.jpg\b\b\b\b\b\b\b\b\b\b\b\b\b\b\b\b\b\b\b\b\b\b\b\b\b\b\b\b\b\b\b\b\b\b\b\b\b\b\b                                       \b\b\b\b\b\b\b\b\b\b\b\b\b\b\b\b\b\b\b\b\b\b\b\b\b\b\b\b\b\b\b\b\b\b\b\b\b\b\b 81% 82661 - images/ravioli/2960534.jpg\b\b\b\b\b\b\b\b\b\b\b\b\b\b\b\b\b\b\b\b\b\b\b\b\b\b\b\b\b\b\b\b\b\b\b\b\b\b\b                                       \b\b\b\b\b\b\b\b\b\b\b\b\b\b\b\b\b\b\b\b\b\b\b\b\b\b\b\b\b\b\b\b\b\b\b\b\b\b\b 81% 82744 - images/ravioli/3237457.jpg\b\b\b\b\b\b\b\b\b\b\b\b\b\b\b\b\b\b\b\b\b\b\b\b\b\b\b\b\b\b\b\b\b\b\b\b\b\b\b                                       \b\b\b\b\b\b\b\b\b\b\b\b\b\b\b\b\b\b\b\b\b\b\b\b\b\b\b\b\b\b\b\b\b\b\b\b\b\b\b 81% 82751 - images/ravioli/325437.jpg\b\b\b\b\b\b\b\b\b\b\b\b\b\b\b\b\b\b\b\b\b\b\b\b\b\b\b\b\b\b\b\b\b\b\b\b\b\b                                      \b\b\b\b\b\b\b\b\b\b\b\b\b\b\b\b\b\b\b\b\b\b\b\b\b\b\b\b\b\b\b\b\b\b\b\b\b\b 82% 82838 - images/ravioli/3609325.jpg\b\b\b\b\b\b\b\b\b\b\b\b\b\b\b\b\b\b\b\b\b\b\b\b\b\b\b\b\b\b\b\b\b\b\b\b\b\b\b                                       \b\b\b\b\b\b\b\b\b\b\b\b\b\b\b\b\b\b\b\b\b\b\b\b\b\b\b\b\b\b\b\b\b\b\b\b\b\b\b 82% 82923 - images/ravioli/3903172.jpg\b\b\b\b\b\b\b\b\b\b\b\b\b\b\b\b\b\b\b\b\b\b\b\b\b\b\b\b\b\b\b\b\b\b\b\b\b\b\b                                       \b\b\b\b\b\b\b\b\b\b\b\b\b\b\b\b\b\b\b\b\b\b\b\b\b\b\b\b\b\b\b\b\b\b\b\b\b\b\b 82% 82924 - images/ravioli/3915103.jpg\b\b\b\b\b\b\b\b\b\b\b\b\b\b\b\b\b\b\b\b\b\b\b\b\b\b\b\b\b\b\b\b\b\b\b\b\b\b\b                                       \b\b\b\b\b\b\b\b\b\b\b\b\b\b\b\b\b\b\b\b\b\b\b\b\b\b\b\b\b\b\b\b\b\b\b\b\b\b\b 82% 83009 - images/ravioli/665330.jpg\b\b\b\b\b\b\b\b\b\b\b\b\b\b\b\b\b\b\b\b\b\b\b\b\b\b\b\b\b\b\b\b\b\b\b\b\b\b                                      \b\b\b\b\b\b\b\b\b\b\b\b\b\b\b\b\b\b\b\b\b\b\b\b\b\b\b\b\b\b\b\b\b\b\b\b\b\b 82% 83093 - images/ravioli/962281.jpg\b\b\b\b\b\b\b\b\b\b\b\b\b\b\b\b\b\b\b\b\b\b\b\b\b\b\b\b\b\b\b\b\b\b\b\b\b\b                                      \b\b\b\b\b\b\b\b\b\b\b\b\b\b\b\b\b\b\b\b\b\b\b\b\b\b\b\b\b\b\b\b\b\b\b\b\b\b 82% 83177 - images/red_velvet_cake/126930.jpg\b\b\b\b\b\b\b\b\b\b\b\b\b\b\b\b\b\b\b\b\b\b\b\b\b\b\b\b\b\b\b\b\b\b\b\b\b\b\b\b\b\b\b\b\b\b                                              \b\b\b\b\b\b\b\b\b\b\b\b\b\b\b\b\b\b\b\b\b\b\b\b\b\b\b\b\b\b\b\b\b\b\b\b\b\b\b\b\b\b\b\b\b\b 82% 83264 - images/red_velvet_cake/155045.jpg\b\b\b\b\b\b\b\b\b\b\b\b\b\b\b\b\b\b\b\b\b\b\b\b\b\b\b\b\b\b\b\b\b\b\b\b\b\b\b\b\b\b\b\b\b\b                                              \b\b\b\b\b\b\b\b\b\b\b\b\b\b\b\b\b\b\b\b\b\b\b\b\b\b\b\b\b\b\b\b\b\b\b\b\b\b\b\b\b\b\b\b\b\b 82% 83265 - images/red_velvet_cake/1559547.jpg\b\b\b\b\b\b\b\b\b\b\b\b\b\b\b\b\b\b\b\b\b\b\b\b\b\b\b\b\b\b\b\b\b\b\b\b\b\b\b\b\b\b\b\b\b\b\b                                               \b\b\b\b\b\b\b\b\b\b\b\b\b\b\b\b\b\b\b\b\b\b\b\b\b\b\b\b\b\b\b\b\b\b\b\b\b\b\b\b\b\b\b\b\b\b\b 82% 83343 - images/red_velvet_cake/1837129.jpg\b\b\b\b\b\b\b\b\b\b\b\b\b\b\b\b\b\b\b\b\b\b\b\b\b\b\b\b\b\b\b\b\b\b\b\b\b\b\b\b\b\b\b\b\b\b\b                                               \b\b\b\b\b\b\b\b\b\b\b\b\b\b\b\b\b\b\b\b\b\b\b\b\b\b\b\b\b\b\b\b\b\b\b\b\b\b\b\b\b\b\b\b\b\b\b 82% 83423 - images/red_velvet_cake/2050952.jpg\b\b\b\b\b\b\b\b\b\b\b\b\b\b\b\b\b\b\b\b\b\b\b\b\b\b\b\b\b\b\b\b\b\b\b\b\b\b\b\b\b\b\b\b\b\b\b                                               \b\b\b\b\b\b\b\b\b\b\b\b\b\b\b\b\b\b\b\b\b\b\b\b\b\b\b\b\b\b\b\b\b\b\b\b\b\b\b\b\b\b\b\b\b\b\b 82% 83511 - images/red_velvet_cake/2337451.jpg\b\b\b\b\b\b\b\b\b\b\b\b\b\b\b\b\b\b\b\b\b\b\b\b\b\b\b\b\b\b\b\b\b\b\b\b\b\b\b\b\b\b\b\b\b\b\b                                               \b\b\b\b\b\b\b\b\b\b\b\b\b\b\b\b\b\b\b\b\b\b\b\b\b\b\b\b\b\b\b\b\b\b\b\b\b\b\b\b\b\b\b\b\b\b\b 82% 83601 - images/red_velvet_cake/2629187.jpg\b\b\b\b\b\b\b\b\b\b\b\b\b\b\b\b\b\b\b\b\b\b\b\b\b\b\b\b\b\b\b\b\b\b\b\b\b\b\b\b\b\b\b\b\b\b\b                                               \b\b\b\b\b\b\b\b\b\b\b\b\b\b\b\b\b\b\b\b\b\b\b\b\b\b\b\b\b\b\b\b\b\b\b\b\b\b\b\b\b\b\b\b\b\b\b 82% 83674 - images/red_velvet_cake/2861041.jpg\b\b\b\b\b\b\b\b\b\b\b\b\b\b\b\b\b\b\b\b\b\b\b\b\b\b\b\b\b\b\b\b\b\b\b\b\b\b\b\b\b\b\b\b\b\b\b                                               \b\b\b\b\b\b\b\b\b\b\b\b\b\b\b\b\b\b\b\b\b\b\b\b\b\b\b\b\b\b\b\b\b\b\b\b\b\b\b\b\b\b\b\b\b\b\b 82% 83682 - images/red_velvet_cake/2874899.jpg\b\b\b\b\b\b\b\b\b\b\b\b\b\b\b\b\b\b\b\b\b\b\b\b\b\b\b\b\b\b\b\b\b\b\b\b\b\b\b\b\b\b\b\b\b\b\b                                               \b\b\b\b\b\b\b\b\b\b\b\b\b\b\b\b\b\b\b\b\b\b\b\b\b\b\b\b\b\b\b\b\b\b\b\b\b\b\b\b\b\b\b\b\b\b\b 82% 83763 - images/red_velvet_cake/3119547.jpg\b\b\b\b\b\b\b\b\b\b\b\b\b\b\b\b\b\b\b\b\b\b\b\b\b\b\b\b\b\b\b\b\b\b\b\b\b\b\b\b\b\b\b\b\b\b\b                                               \b\b\b\b\b\b\b\b\b\b\b\b\b\b\b\b\b\b\b\b\b\b\b\b\b\b\b\b\b\b\b\b\b\b\b\b\b\b\b\b\b\b\b\b\b\b\b 82% 83848 - images/red_velvet_cake/3500235.jpg\b\b\b\b\b\b\b\b\b\b\b\b\b\b\b\b\b\b\b\b\b\b\b\b\b\b\b\b\b\b\b\b\b\b\b\b\b\b\b\b\b\b\b\b\b\b\b                                               \b\b\b\b\b\b\b\b\b\b\b\b\b\b\b\b\b\b\b\b\b\b\b\b\b\b\b\b\b\b\b\b\b\b\b\b\b\b\b\b\b\b\b\b\b\b\b 83% 83915 - images/red_velvet_cake/373797.jpg\b\b\b\b\b\b\b\b\b\b\b\b\b\b\b\b\b\b\b\b\b\b\b\b\b\b\b\b\b\b\b\b\b\b\b\b\b\b\b\b\b\b\b\b\b\b                                              \b\b\b\b\b\b\b\b\b\b\b\b\b\b\b\b\b\b\b\b\b\b\b\b\b\b\b\b\b\b\b\b\b\b\b\b\b\b\b\b\b\b\b\b\b\b 83% 83930 - images/red_velvet_cake/3796756.jpg\b\b\b\b\b\b\b\b\b\b\b\b\b\b\b\b\b\b\b\b\b\b\b\b\b\b\b\b\b\b\b\b\b\b\b\b\b\b\b\b\b\b\b\b\b\b\b                                               \b\b\b\b\b\b\b\b\b\b\b\b\b\b\b\b\b\b\b\b\b\b\b\b\b\b\b\b\b\b\b\b\b\b\b\b\b\b\b\b\b\b\b\b\b\b\b 83% 84016 - images/red_velvet_cake/641900.jpg\b\b\b\b\b\b\b\b\b\b\b\b\b\b\b\b\b\b\b\b\b\b\b\b\b\b\b\b\b\b\b\b\b\b\b\b\b\b\b\b\b\b\b\b\b\b                                              \b\b\b\b\b\b\b\b\b\b\b\b\b\b\b\b\b\b\b\b\b\b\b\b\b\b\b\b\b\b\b\b\b\b\b\b\b\b\b\b\b\b\b\b\b\b 83% 84104 - images/risotto/1009354.jpg\b\b\b\b\b\b\b\b\b\b\b\b\b\b\b\b\b\b\b\b\b\b\b\b\b\b\b\b\b\b\b\b\b\b\b\b\b\b\b                                       \b\b\b\b\b\b\b\b\b\b\b\b\b\b\b\b\b\b\b\b\b\b\b\b\b\b\b\b\b\b\b\b\b\b\b\b\b\b\b 83% 84194 - images/risotto/1369963.jpg\b\b\b\b\b\b\b\b\b\b\b\b\b\b\b\b\b\b\b\b\b\b\b\b\b\b\b\b\b\b\b\b\b\b\b\b\b\b\b                                       \b\b\b\b\b\b\b\b\b\b\b\b\b\b\b\b\b\b\b\b\b\b\b\b\b\b\b\b\b\b\b\b\b\b\b\b\b\b\b 83% 84209 - images/risotto/1435808.jpg\b\b\b\b\b\b\b\b\b\b\b\b\b\b\b\b\b\b\b\b\b\b\b\b\b\b\b\b\b\b\b\b\b\b\b\b\b\b\b                                       \b\b\b\b\b\b\b\b\b\b\b\b\b\b\b\b\b\b\b\b\b\b\b\b\b\b\b\b\b\b\b\b\b\b\b\b\b\b\b 83% 84281 - images/risotto/1706062.jpg\b\b\b\b\b\b\b\b\b\b\b\b\b\b\b\b\b\b\b\b\b\b\b\b\b\b\b\b\b\b\b\b\b\b\b\b\b\b\b                                       \b\b\b\b\b\b\b\b\b\b\b\b\b\b\b\b\b\b\b\b\b\b\b\b\b\b\b\b\b\b\b\b\b\b\b\b\b\b\b 83% 84370 - images/risotto/2010130.jpg\b\b\b\b\b\b\b\b\b\b\b\b\b\b\b\b\b\b\b\b\b\b\b\b\b\b\b\b\b\b\b\b\b\b\b\b\b\b\b                                       \b\b\b\b\b\b\b\b\b\b\b\b\b\b\b\b\b\b\b\b\b\b\b\b\b\b\b\b\b\b\b\b\b\b\b\b\b\b\b 83% 84451 - images/risotto/2243255.jpg\b\b\b\b\b\b\b\b\b\b\b\b\b\b\b\b\b\b\b\b\b\b\b\b\b\b\b\b\b\b\b\b\b\b\b\b\b\b\b                                       \b\b\b\b\b\b\b\b\b\b\b\b\b\b\b\b\b\b\b\b\b\b\b\b\b\b\b\b\b\b\b\b\b\b\b\b\b\b\b 83% 84469 - images/risotto/2311593.jpg\b\b\b\b\b\b\b\b\b\b\b\b\b\b\b\b\b\b\b\b\b\b\b\b\b\b\b\b\b\b\b\b\b\b\b\b\b\b\b                                       \b\b\b\b\b\b\b\b\b\b\b\b\b\b\b\b\b\b\b\b\b\b\b\b\b\b\b\b\b\b\b\b\b\b\b\b\b\b\b 83% 84540 - images/risotto/252458.jpg\b\b\b\b\b\b\b\b\b\b\b\b\b\b\b\b\b\b\b\b\b\b\b\b\b\b\b\b\b\b\b\b\b\b\b\b\b\b                                      \b\b\b\b\b\b\b\b\b\b\b\b\b\b\b\b\b\b\b\b\b\b\b\b\b\b\b\b\b\b\b\b\b\b\b\b\b\b 83% 84630 - images/risotto/2824696.jpg\b\b\b\b\b\b\b\b\b\b\b\b\b\b\b\b\b\b\b\b\b\b\b\b\b\b\b\b\b\b\b\b\b\b\b\b\b\b\b                                       \b\b\b\b\b\b\b\b\b\b\b\b\b\b\b\b\b\b\b\b\b\b\b\b\b\b\b\b\b\b\b\b\b\b\b\b\b\b\b 83% 84715 - images/risotto/312397.jpg\b\b\b\b\b\b\b\b\b\b\b\b\b\b\b\b\b\b\b\b\b\b\b\b\b\b\b\b\b\b\b\b\b\b\b\b\b\b                                      \b\b\b\b\b\b\b\b\b\b\b\b\b\b\b\b\b\b\b\b\b\b\b\b\b\b\b\b\b\b\b\b\b\b\b\b\b\b 83% 84790 - images/risotto/3397285.jpg\b\b\b\b\b\b\b\b\b\b\b\b\b\b\b\b\b\b\b\b\b\b\b\b\b\b\b\b\b\b\b\b\b\b\b\b\b\b\b                                       \b\b\b\b\b\b\b\b\b\b\b\b\b\b\b\b\b\b\b\b\b\b\b\b\b\b\b\b\b\b\b\b\b\b\b\b\b\b\b 83% 84802 - images/risotto/3442937.jpg\b\b\b\b\b\b\b\b\b\b\b\b\b\b\b\b\b\b\b\b\b\b\b\b\b\b\b\b\b\b\b\b\b\b\b\b\b\b\b                                       \b\b\b\b\b\b\b\b\b\b\b\b\b\b\b\b\b\b\b\b\b\b\b\b\b\b\b\b\b\b\b\b\b\b\b\b\b\b\b 83% 84889\b\b\b\b\b\b\b\b\b\b          \b\b\b\b\b\b\b\b\b\b 84% 84979 - images/risotto/547784.jpg\b\b\b\b\b\b\b\b\b\b\b\b\b\b\b\b\b\b\b\b\b\b\b\b\b\b\b\b\b\b\b\b\b\b\b\b\b\b                                      \b\b\b\b\b\b\b\b\b\b\b\b\b\b\b\b\b\b\b\b\b\b\b\b\b\b\b\b\b\b\b\b\b\b\b\b\b\b 84% 84997 - images/risotto/621611.jpg\b\b\b\b\b\b\b\b\b\b\b\b\b\b\b\b\b\b\b\b\b\b\b\b\b\b\b\b\b\b\b\b\b\b\b\b\b\b                                      \b\b\b\b\b\b\b\b\b\b\b\b\b\b\b\b\b\b\b\b\b\b\b\b\b\b\b\b\b\b\b\b\b\b\b\b\b\b 84% 85065 - images/risotto/849823.jpg\b\b\b\b\b\b\b\b\b\b\b\b\b\b\b\b\b\b\b\b\b\b\b\b\b\b\b\b\b\b\b\b\b\b\b\b\b\b                                      \b\b\b\b\b\b\b\b\b\b\b\b\b\b\b\b\b\b\b\b\b\b\b\b\b\b\b\b\b\b\b\b\b\b\b\b\b\b 84% 85147 - images/samosa/1170314.jpg\b\b\b\b\b\b\b\b\b\b\b\b\b\b\b\b\b\b\b\b\b\b\b\b\b\b\b\b\b\b\b\b\b\b\b\b\b\b                                      \b\b\b\b\b\b\b\b\b\b\b\b\b\b\b\b\b\b\b\b\b\b\b\b\b\b\b\b\b\b\b\b\b\b\b\b\b\b 84% 85240 - images/samosa/1539989.jpg\b\b\b\b\b\b\b\b\b\b\b\b\b\b\b\b\b\b\b\b\b\b\b\b\b\b\b\b\b\b\b\b\b\b\b\b\b\b                                      \b\b\b\b\b\b\b\b\b\b\b\b\b\b\b\b\b\b\b\b\b\b\b\b\b\b\b\b\b\b\b\b\b\b\b\b\b\b 84% 85329 - images/samosa/1961805.jpg\b\b\b\b\b\b\b\b\b\b\b\b\b\b\b\b\b\b\b\b\b\b\b\b\b\b\b\b\b\b\b\b\b\b\b\b\b\b                                      \b\b\b\b\b\b\b\b\b\b\b\b\b\b\b\b\b\b\b\b\b\b\b\b\b\b\b\b\b\b\b\b\b\b\b\b\b\b 84% 85330 - images/samosa/1962936.jpg\b\b\b\b\b\b\b\b\b\b\b\b\b\b\b\b\b\b\b\b\b\b\b\b\b\b\b\b\b\b\b\b\b\b\b\b\b\b                                      \b\b\b\b\b\b\b\b\b\b\b\b\b\b\b\b\b\b\b\b\b\b\b\b\b\b\b\b\b\b\b\b\b\b\b\b\b\b 84% 85416 - images/samosa/2247797.jpg\b\b\b\b\b\b\b\b\b\b\b\b\b\b\b\b\b\b\b\b\b\b\b\b\b\b\b\b\b\b\b\b\b\b\b\b\b\b                                      \b\b\b\b\b\b\b\b\b\b\b\b\b\b\b\b\b\b\b\b\b\b\b\b\b\b\b\b\b\b\b\b\b\b\b\b\b\b 84% 85505 - images/samosa/2549025.jpg\b\b\b\b\b\b\b\b\b\b\b\b\b\b\b\b\b\b\b\b\b\b\b\b\b\b\b\b\b\b\b\b\b\b\b\b\b\b                                      \b\b\b\b\b\b\b\b\b\b\b\b\b\b\b\b\b\b\b\b\b\b\b\b\b\b\b\b\b\b\b\b\b\b\b\b\b\b 84% 85599 - images/samosa/2843831.jpg\b\b\b\b\b\b\b\b\b\b\b\b\b\b\b\b\b\b\b\b\b\b\b\b\b\b\b\b\b\b\b\b\b\b\b\b\b\b                                      \b\b\b\b\b\b\b\b\b\b\b\b\b\b\b\b\b\b\b\b\b\b\b\b\b\b\b\b\b\b\b\b\b\b\b\b\b\b 84% 85646 - images/samosa/2982086.jpg\b\b\b\b\b\b\b\b\b\b\b\b\b\b\b\b\b\b\b\b\b\b\b\b\b\b\b\b\b\b\b\b\b\b\b\b\b\b                                      \b\b\b\b\b\b\b\b\b\b\b\b\b\b\b\b\b\b\b\b\b\b\b\b\b\b\b\b\b\b\b\b\b\b\b\b\b\b 84% 85691 - images/samosa/3114069.jpg\b\b\b\b\b\b\b\b\b\b\b\b\b\b\b\b\b\b\b\b\b\b\b\b\b\b\b\b\b\b\b\b\b\b\b\b\b\b                                      \b\b\b\b\b\b\b\b\b\b\b\b\b\b\b\b\b\b\b\b\b\b\b\b\b\b\b\b\b\b\b\b\b\b\b\b\b\b 84% 85781 - images/samosa/3438993.jpg\b\b\b\b\b\b\b\b\b\b\b\b\b\b\b\b\b\b\b\b\b\b\b\b\b\b\b\b\b\b\b\b\b\b\b\b\b\b                                      \b\b\b\b\b\b\b\b\b\b\b\b\b\b\b\b\b\b\b\b\b\b\b\b\b\b\b\b\b\b\b\b\b\b\b\b\b\b 84% 85870 - images/samosa/3778934.jpg\b\b\b\b\b\b\b\b\b\b\b\b\b\b\b\b\b\b\b\b\b\b\b\b\b\b\b\b\b\b\b\b\b\b\b\b\b\b                                      \b\b\b\b\b\b\b\b\b\b\b\b\b\b\b\b\b\b\b\b\b\b\b\b\b\b\b\b\b\b\b\b\b\b\b\b\b\b 84% 85961 - images/samosa/53038.jpg\b\b\b\b\b\b\b\b\b\b\b\b\b\b\b\b\b\b\b\b\b\b\b\b\b\b\b\b\b\b\b\b\b\b\b\b                                    \b\b\b\b\b\b\b\b\b\b\b\b\b\b\b\b\b\b\b\b\b\b\b\b\b\b\b\b\b\b\b\b\b\b\b\b 84% 85973 - images/samosa/585279.jpg\b\b\b\b\b\b\b\b\b\b\b\b\b\b\b\b\b\b\b\b\b\b\b\b\b\b\b\b\b\b\b\b\b\b\b\b\b                                     \b\b\b\b\b\b\b\b\b\b\b\b\b\b\b\b\b\b\b\b\b\b\b\b\b\b\b\b\b\b\b\b\b\b\b\b\b 85% 86045 - images/samosa/800516.jpg\b\b\b\b\b\b\b\b\b\b\b\b\b\b\b\b\b\b\b\b\b\b\b\b\b\b\b\b\b\b\b\b\b\b\b\b\b                                     \b\b\b\b\b\b\b\b\b\b\b\b\b\b\b\b\b\b\b\b\b\b\b\b\b\b\b\b\b\b\b\b\b\b\b\b\b 85% 86128 - images/sashimi/1070787.jpg\b\b\b\b\b\b\b\b\b\b\b\b\b\b\b\b\b\b\b\b\b\b\b\b\b\b\b\b\b\b\b\b\b\b\b\b\b\b\b                                       \b\b\b\b\b\b\b\b\b\b\b\b\b\b\b\b\b\b\b\b\b\b\b\b\b\b\b\b\b\b\b\b\b\b\b\b\b\b\b 85% 86209 - images/sashimi/136070.jpg\b\b\b\b\b\b\b\b\b\b\b\b\b\b\b\b\b\b\b\b\b\b\b\b\b\b\b\b\b\b\b\b\b\b\b\b\b\b                                      \b\b\b\b\b\b\b\b\b\b\b\b\b\b\b\b\b\b\b\b\b\b\b\b\b\b\b\b\b\b\b\b\b\b\b\b\b\b 85% 86299 - images/sashimi/1686995.jpg\b\b\b\b\b\b\b\b\b\b\b\b\b\b\b\b\b\b\b\b\b\b\b\b\b\b\b\b\b\b\b\b\b\b\b\b\b\b\b                                       \b\b\b\b\b\b\b\b\b\b\b\b\b\b\b\b\b\b\b\b\b\b\b\b\b\b\b\b\b\b\b\b\b\b\b\b\b\b\b 85% 86300 - images/sashimi/1689131.jpg\b\b\b\b\b\b\b\b\b\b\b\b\b\b\b\b\b\b\b\b\b\b\b\b\b\b\b\b\b\b\b\b\b\b\b\b\b\b\b                                       \b\b\b\b\b\b\b\b\b\b\b\b\b\b\b\b\b\b\b\b\b\b\b\b\b\b\b\b\b\b\b\b\b\b\b\b\b\b\b 85% 86386 - images/sashimi/1955361.jpg\b\b\b\b\b\b\b\b\b\b\b\b\b\b\b\b\b\b\b\b\b\b\b\b\b\b\b\b\b\b\b\b\b\b\b\b\b\b\b                                       \b\b\b\b\b\b\b\b\b\b\b\b\b\b\b\b\b\b\b\b\b\b\b\b\b\b\b\b\b\b\b\b\b\b\b\b\b\b\b 85% 86467 - images/sashimi/2199248.jpg\b\b\b\b\b\b\b\b\b\b\b\b\b\b\b\b\b\b\b\b\b\b\b\b\b\b\b\b\b\b\b\b\b\b\b\b\b\b\b                                       \b\b\b\b\b\b\b\b\b\b\b\b\b\b\b\b\b\b\b\b\b\b\b\b\b\b\b\b\b\b\b\b\b\b\b\b\b\b\b 85% 86554 - images/sashimi/2600809.jpg\b\b\b\b\b\b\b\b\b\b\b\b\b\b\b\b\b\b\b\b\b\b\b\b\b\b\b\b\b\b\b\b\b\b\b\b\b\b\b                                       \b\b\b\b\b\b\b\b\b\b\b\b\b\b\b\b\b\b\b\b\b\b\b\b\b\b\b\b\b\b\b\b\b\b\b\b\b\b\b 85% 86638 - images/sashimi/2854943.jpg\b\b\b\b\b\b\b\b\b\b\b\b\b\b\b\b\b\b\b\b\b\b\b\b\b\b\b\b\b\b\b\b\b\b\b\b\b\b\b                                       \b\b\b\b\b\b\b\b\b\b\b\b\b\b\b\b\b\b\b\b\b\b\b\b\b\b\b\b\b\b\b\b\b\b\b\b\b\b\b 85% 86639 - images/sashimi/2859587.jpg\b\b\b\b\b\b\b\b\b\b\b\b\b\b\b\b\b\b\b\b\b\b\b\b\b\b\b\b\b\b\b\b\b\b\b\b\b\b\b                                       \b\b\b\b\b\b\b\b\b\b\b\b\b\b\b\b\b\b\b\b\b\b\b\b\b\b\b\b\b\b\b\b\b\b\b\b\b\b\b 85% 86721 - images/sashimi/3090849.jpg\b\b\b\b\b\b\b\b\b\b\b\b\b\b\b\b\b\b\b\b\b\b\b\b\b\b\b\b\b\b\b\b\b\b\b\b\b\b\b                                       \b\b\b\b\b\b\b\b\b\b\b\b\b\b\b\b\b\b\b\b\b\b\b\b\b\b\b\b\b\b\b\b\b\b\b\b\b\b\b 85% 86808 - images/sashimi/3447356.jpg\b\b\b\b\b\b\b\b\b\b\b\b\b\b\b\b\b\b\b\b\b\b\b\b\b\b\b\b\b\b\b\b\b\b\b\b\b\b\b                                       \b\b\b\b\b\b\b\b\b\b\b\b\b\b\b\b\b\b\b\b\b\b\b\b\b\b\b\b\b\b\b\b\b\b\b\b\b\b\b 85% 86894 - images/sashimi/380023.jpg\b\b\b\b\b\b\b\b\b\b\b\b\b\b\b\b\b\b\b\b\b\b\b\b\b\b\b\b\b\b\b\b\b\b\b\b\b\b                                      \b\b\b\b\b\b\b\b\b\b\b\b\b\b\b\b\b\b\b\b\b\b\b\b\b\b\b\b\b\b\b\b\b\b\b\b\b\b 85% 86977 - images/sashimi/570665.jpg\b\b\b\b\b\b\b\b\b\b\b\b\b\b\b\b\b\b\b\b\b\b\b\b\b\b\b\b\b\b\b\b\b\b\b\b\b\b                                      \b\b\b\b\b\b\b\b\b\b\b\b\b\b\b\b\b\b\b\b\b\b\b\b\b\b\b\b\b\b\b\b\b\b\b\b\b\b 85% 86978 - images/sashimi/571736.jpg\b\b\b\b\b\b\b\b\b\b\b\b\b\b\b\b\b\b\b\b\b\b\b\b\b\b\b\b\b\b\b\b\b\b\b\b\b\b                                      \b\b\b\b\b\b\b\b\b\b\b\b\b\b\b\b\b\b\b\b\b\b\b\b\b\b\b\b\b\b\b\b\b\b\b\b\b\b 86% 87056 - images/sashimi/815841.jpg\b\b\b\b\b\b\b\b\b\b\b\b\b\b\b\b\b\b\b\b\b\b\b\b\b\b\b\b\b\b\b\b\b\b\b\b\b\b                                      \b\b\b\b\b\b\b\b\b\b\b\b\b\b\b\b\b\b\b\b\b\b\b\b\b\b\b\b\b\b\b\b\b\b\b\b\b\b 86% 87142 - images/scallops/1145409.jpg\b\b\b\b\b\b\b\b\b\b\b\b\b\b\b\b\b\b\b\b\b\b\b\b\b\b\b\b\b\b\b\b\b\b\b\b\b\b\b\b                                        \b\b\b\b\b\b\b\b\b\b\b\b\b\b\b\b\b\b\b\b\b\b\b\b\b\b\b\b\b\b\b\b\b\b\b\b\b\b\b\b 86% 87233 - images/scallops/1461390.jpg\b\b\b\b\b\b\b\b\b\b\b\b\b\b\b\b\b\b\b\b\b\b\b\b\b\b\b\b\b\b\b\b\b\b\b\b\b\b\b\b                                        \b\b\b\b\b\b\b\b\b\b\b\b\b\b\b\b\b\b\b\b\b\b\b\b\b\b\b\b\b\b\b\b\b\b\b\b\b\b\b\b 86% 87304 - images/scallops/1706627.jpg\b\b\b\b\b\b\b\b\b\b\b\b\b\b\b\b\b\b\b\b\b\b\b\b\b\b\b\b\b\b\b\b\b\b\b\b\b\b\b\b                                        \b\b\b\b\b\b\b\b\b\b\b\b\b\b\b\b\b\b\b\b\b\b\b\b\b\b\b\b\b\b\b\b\b\b\b\b\b\b\b\b 86% 87318 - images/scallops/1784196.jpg\b\b\b\b\b\b\b\b\b\b\b\b\b\b\b\b\b\b\b\b\b\b\b\b\b\b\b\b\b\b\b\b\b\b\b\b\b\b\b\b                                        \b\b\b\b\b\b\b\b\b\b\b\b\b\b\b\b\b\b\b\b\b\b\b\b\b\b\b\b\b\b\b\b\b\b\b\b\b\b\b\b 86% 87409 - images/scallops/2158610.jpg\b\b\b\b\b\b\b\b\b\b\b\b\b\b\b\b\b\b\b\b\b\b\b\b\b\b\b\b\b\b\b\b\b\b\b\b\b\b\b\b                                        \b\b\b\b\b\b\b\b\b\b\b\b\b\b\b\b\b\b\b\b\b\b\b\b\b\b\b\b\b\b\b\b\b\b\b\b\b\b\b\b 86% 87493 - images/scallops/2466995.jpg\b\b\b\b\b\b\b\b\b\b\b\b\b\b\b\b\b\b\b\b\b\b\b\b\b\b\b\b\b\b\b\b\b\b\b\b\b\b\b\b                                        \b\b\b\b\b\b\b\b\b\b\b\b\b\b\b\b\b\b\b\b\b\b\b\b\b\b\b\b\b\b\b\b\b\b\b\b\b\b\b\b 86% 87578 - images/scallops/2828337.jpg\b\b\b\b\b\b\b\b\b\b\b\b\b\b\b\b\b\b\b\b\b\b\b\b\b\b\b\b\b\b\b\b\b\b\b\b\b\b\b\b                                        \b\b\b\b\b\b\b\b\b\b\b\b\b\b\b\b\b\b\b\b\b\b\b\b\b\b\b\b\b\b\b\b\b\b\b\b\b\b\b\b 86% 87582 - images/scallops/2836611.jpg\b\b\b\b\b\b\b\b\b\b\b\b\b\b\b\b\b\b\b\b\b\b\b\b\b\b\b\b\b\b\b\b\b\b\b\b\b\b\b\b                                        \b\b\b\b\b\b\b\b\b\b\b\b\b\b\b\b\b\b\b\b\b\b\b\b\b\b\b\b\b\b\b\b\b\b\b\b\b\b\b\b 86% 87672 - images/scallops/3130114.jpg\b\b\b\b\b\b\b\b\b\b\b\b\b\b\b\b\b\b\b\b\b\b\b\b\b\b\b\b\b\b\b\b\b\b\b\b\b\b\b\b                                        \b\b\b\b\b\b\b\b\b\b\b\b\b\b\b\b\b\b\b\b\b\b\b\b\b\b\b\b\b\b\b\b\b\b\b\b\b\b\b\b 86% 87762 - images/scallops/3449567.jpg\b\b\b\b\b\b\b\b\b\b\b\b\b\b\b\b\b\b\b\b\b\b\b\b\b\b\b\b\b\b\b\b\b\b\b\b\b\b\b\b                                        \b\b\b\b\b\b\b\b\b\b\b\b\b\b\b\b\b\b\b\b\b\b\b\b\b\b\b\b\b\b\b\b\b\b\b\b\b\b\b\b 86% 87848 - images/scallops/3710676.jpg\b\b\b\b\b\b\b\b\b\b\b\b\b\b\b\b\b\b\b\b\b\b\b\b\b\b\b\b\b\b\b\b\b\b\b\b\b\b\b\b                                        \b\b\b\b\b\b\b\b\b\b\b\b\b\b\b\b\b\b\b\b\b\b\b\b\b\b\b\b\b\b\b\b\b\b\b\b\b\b\b\b 86% 87849 - images/scallops/3714512.jpg\b\b\b\b\b\b\b\b\b\b\b\b\b\b\b\b\b\b\b\b\b\b\b\b\b\b\b\b\b\b\b\b\b\b\b\b\b\b\b\b                                        \b\b\b\b\b\b\b\b\b\b\b\b\b\b\b\b\b\b\b\b\b\b\b\b\b\b\b\b\b\b\b\b\b\b\b\b\b\b\b\b 86% 87939 - images/scallops/466911.jpg\b\b\b\b\b\b\b\b\b\b\b\b\b\b\b\b\b\b\b\b\b\b\b\b\b\b\b\b\b\b\b\b\b\b\b\b\b\b\b                                       \b\b\b\b\b\b\b\b\b\b\b\b\b\b\b\b\b\b\b\b\b\b\b\b\b\b\b\b\b\b\b\b\b\b\b\b\b\b\b 86% 88017 - images/scallops/702105.jpg\b\b\b\b\b\b\b\b\b\b\b\b\b\b\b\b\b\b\b\b\b\b\b\b\b\b\b\b\b\b\b\b\b\b\b\b\b\b\b                                       \b\b\b\b\b\b\b\b\b\b\b\b\b\b\b\b\b\b\b\b\b\b\b\b\b\b\b\b\b\b\b\b\b\b\b\b\b\b\b 87% 88107 - images/seaweed_salad/1019344.jpg\b\b\b\b\b\b\b\b\b\b\b\b\b\b\b\b\b\b\b\b\b\b\b\b\b\b\b\b\b\b\b\b\b\b\b\b\b\b\b\b\b\b\b\b\b                                             \b\b\b\b\b\b\b\b\b\b\b\b\b\b\b\b\b\b\b\b\b\b\b\b\b\b\b\b\b\b\b\b\b\b\b\b\b\b\b\b\b\b\b\b\b 87% 88180 - images/seaweed_salad/1259958.jpg\b\b\b\b\b\b\b\b\b\b\b\b\b\b\b\b\b\b\b\b\b\b\b\b\b\b\b\b\b\b\b\b\b\b\b\b\b\b\b\b\b\b\b\b\b                                             \b\b\b\b\b\b\b\b\b\b\b\b\b\b\b\b\b\b\b\b\b\b\b\b\b\b\b\b\b\b\b\b\b\b\b\b\b\b\b\b\b\b\b\b\b 87% 88181 - images/seaweed_salad/1261971.jpg\b\b\b\b\b\b\b\b\b\b\b\b\b\b\b\b\b\b\b\b\b\b\b\b\b\b\b\b\b\b\b\b\b\b\b\b\b\b\b\b\b\b\b\b\b                                             \b\b\b\b\b\b\b\b\b\b\b\b\b\b\b\b\b\b\b\b\b\b\b\b\b\b\b\b\b\b\b\b\b\b\b\b\b\b\b\b\b\b\b\b\b 87% 88256 - images/seaweed_salad/1508654.jpg\b\b\b\b\b\b\b\b\b\b\b\b\b\b\b\b\b\b\b\b\b\b\b\b\b\b\b\b\b\b\b\b\b\b\b\b\b\b\b\b\b\b\b\b\b                                             \b\b\b\b\b\b\b\b\b\b\b\b\b\b\b\b\b\b\b\b\b\b\b\b\b\b\b\b\b\b\b\b\b\b\b\b\b\b\b\b\b\b\b\b\b 87% 88331 - images/seaweed_salad/1754911.jpg\b\b\b\b\b\b\b\b\b\b\b\b\b\b\b\b\b\b\b\b\b\b\b\b\b\b\b\b\b\b\b\b\b\b\b\b\b\b\b\b\b\b\b\b\b                                             \b\b\b\b\b\b\b\b\b\b\b\b\b\b\b\b\b\b\b\b\b\b\b\b\b\b\b\b\b\b\b\b\b\b\b\b\b\b\b\b\b\b\b\b\b 87% 88406 - images/seaweed_salad/2013621.jpg\b\b\b\b\b\b\b\b\b\b\b\b\b\b\b\b\b\b\b\b\b\b\b\b\b\b\b\b\b\b\b\b\b\b\b\b\b\b\b\b\b\b\b\b\b                                             \b\b\b\b\b\b\b\b\b\b\b\b\b\b\b\b\b\b\b\b\b\b\b\b\b\b\b\b\b\b\b\b\b\b\b\b\b\b\b\b\b\b\b\b\b 87% 88455 - images/seaweed_salad/2173456.jpg\b\b\b\b\b\b\b\b\b\b\b\b\b\b\b\b\b\b\b\b\b\b\b\b\b\b\b\b\b\b\b\b\b\b\b\b\b\b\b\b\b\b\b\b\b                                             \b\b\b\b\b\b\b\b\b\b\b\b\b\b\b\b\b\b\b\b\b\b\b\b\b\b\b\b\b\b\b\b\b\b\b\b\b\b\b\b\b\b\b\b\b 87% 88481 - images/seaweed_salad/226588.jpg\b\b\b\b\b\b\b\b\b\b\b\b\b\b\b\b\b\b\b\b\b\b\b\b\b\b\b\b\b\b\b\b\b\b\b\b\b\b\b\b\b\b\b\b                                            \b\b\b\b\b\b\b\b\b\b\b\b\b\b\b\b\b\b\b\b\b\b\b\b\b\b\b\b\b\b\b\b\b\b\b\b\b\b\b\b\b\b\b\b 87% 88556 - images/seaweed_salad/2563427.jpg\b\b\b\b\b\b\b\b\b\b\b\b\b\b\b\b\b\b\b\b\b\b\b\b\b\b\b\b\b\b\b\b\b\b\b\b\b\b\b\b\b\b\b\b\b                                             \b\b\b\b\b\b\b\b\b\b\b\b\b\b\b\b\b\b\b\b\b\b\b\b\b\b\b\b\b\b\b\b\b\b\b\b\b\b\b\b\b\b\b\b\b 87% 88635 - images/seaweed_salad/2896479.jpg\b\b\b\b\b\b\b\b\b\b\b\b\b\b\b\b\b\b\b\b\b\b\b\b\b\b\b\b\b\b\b\b\b\b\b\b\b\b\b\b\b\b\b\b\b                                             \b\b\b\b\b\b\b\b\b\b\b\b\b\b\b\b\b\b\b\b\b\b\b\b\b\b\b\b\b\b\b\b\b\b\b\b\b\b\b\b\b\b\b\b\b 87% 88710 - images/seaweed_salad/3185347.jpg\b\b\b\b\b\b\b\b\b\b\b\b\b\b\b\b\b\b\b\b\b\b\b\b\b\b\b\b\b\b\b\b\b\b\b\b\b\b\b\b\b\b\b\b\b                                             \b\b\b\b\b\b\b\b\b\b\b\b\b\b\b\b\b\b\b\b\b\b\b\b\b\b\b\b\b\b\b\b\b\b\b\b\b\b\b\b\b\b\b\b\b 87% 88711 - images/seaweed_salad/3185625.jpg\b\b\b\b\b\b\b\b\b\b\b\b\b\b\b\b\b\b\b\b\b\b\b\b\b\b\b\b\b\b\b\b\b\b\b\b\b\b\b\b\b\b\b\b\b                                             \b\b\b\b\b\b\b\b\b\b\b\b\b\b\b\b\b\b\b\b\b\b\b\b\b\b\b\b\b\b\b\b\b\b\b\b\b\b\b\b\b\b\b\b\b 87% 88788 - images/seaweed_salad/3465918.jpg\b\b\b\b\b\b\b\b\b\b\b\b\b\b\b\b\b\b\b\b\b\b\b\b\b\b\b\b\b\b\b\b\b\b\b\b\b\b\b\b\b\b\b\b\b                                             \b\b\b\b\b\b\b\b\b\b\b\b\b\b\b\b\b\b\b\b\b\b\b\b\b\b\b\b\b\b\b\b\b\b\b\b\b\b\b\b\b\b\b\b\b 87% 88864 - images/seaweed_salad/3784659.jpg\b\b\b\b\b\b\b\b\b\b\b\b\b\b\b\b\b\b\b\b\b\b\b\b\b\b\b\b\b\b\b\b\b\b\b\b\b\b\b\b\b\b\b\b\b                                             \b\b\b\b\b\b\b\b\b\b\b\b\b\b\b\b\b\b\b\b\b\b\b\b\b\b\b\b\b\b\b\b\b\b\b\b\b\b\b\b\b\b\b\b\b 87% 88938 - images/seaweed_salad/503742.jpg\b\b\b\b\b\b\b\b\b\b\b\b\b\b\b\b\b\b\b\b\b\b\b\b\b\b\b\b\b\b\b\b\b\b\b\b\b\b\b\b\b\b\b\b                                            \b\b\b\b\b\b\b\b\b\b\b\b\b\b\b\b\b\b\b\b\b\b\b\b\b\b\b\b\b\b\b\b\b\b\b\b\b\b\b\b\b\b\b\b 87% 88965 - images/seaweed_salad/60390.jpg\b\b\b\b\b\b\b\b\b\b\b\b\b\b\b\b\b\b\b\b\b\b\b\b\b\b\b\b\b\b\b\b\b\b\b\b\b\b\b\b\b\b\b                                           \b\b\b\b\b\b\b\b\b\b\b\b\b\b\b\b\b\b\b\b\b\b\b\b\b\b\b\b\b\b\b\b\b\b\b\b\b\b\b\b\b\b\b 88% 89013 - images/seaweed_salad/747893.jpg\b\b\b\b\b\b\b\b\b\b\b\b\b\b\b\b\b\b\b\b\b\b\b\b\b\b\b\b\b\b\b\b\b\b\b\b\b\b\b\b\b\b\b\b                                            \b\b\b\b\b\b\b\b\b\b\b\b\b\b\b\b\b\b\b\b\b\b\b\b\b\b\b\b\b\b\b\b\b\b\b\b\b\b\b\b\b\b\b\b 88% 89089 - images/seaweed_salad/965692.jpg\b\b\b\b\b\b\b\b\b\b\b\b\b\b\b\b\b\b\b\b\b\b\b\b\b\b\b\b\b\b\b\b\b\b\b\b\b\b\b\b\b\b\b\b                                            \b\b\b\b\b\b\b\b\b\b\b\b\b\b\b\b\b\b\b\b\b\b\b\b\b\b\b\b\b\b\b\b\b\b\b\b\b\b\b\b\b\b\b\b 88% 89173 - images/shrimp_and_grits/1217746.jpg\b\b\b\b\b\b\b\b\b\b\b\b\b\b\b\b\b\b\b\b\b\b\b\b\b\b\b\b\b\b\b\b\b\b\b\b\b\b\b\b\b\b\b\b\b\b\b\b                                                \b\b\b\b\b\b\b\b\b\b\b\b\b\b\b\b\b\b\b\b\b\b\b\b\b\b\b\b\b\b\b\b\b\b\b\b\b\b\b\b\b\b\b\b\b\b\b\b 88% 89255 - images/shrimp_and_grits/1495269.jpg\b\b\b\b\b\b\b\b\b\b\b\b\b\b\b\b\b\b\b\b\b\b\b\b\b\b\b\b\b\b\b\b\b\b\b\b\b\b\b\b\b\b\b\b\b\b\b\b                                                \b\b\b\b\b\b\b\b\b\b\b\b\b\b\b\b\b\b\b\b\b\b\b\b\b\b\b\b\b\b\b\b\b\b\b\b\b\b\b\b\b\b\b\b\b\b\b\b 88% 89256 - images/shrimp_and_grits/1498275.jpg\b\b\b\b\b\b\b\b\b\b\b\b\b\b\b\b\b\b\b\b\b\b\b\b\b\b\b\b\b\b\b\b\b\b\b\b\b\b\b\b\b\b\b\b\b\b\b\b                                                \b\b\b\b\b\b\b\b\b\b\b\b\b\b\b\b\b\b\b\b\b\b\b\b\b\b\b\b\b\b\b\b\b\b\b\b\b\b\b\b\b\b\b\b\b\b\b\b 88% 89338 - images/shrimp_and_grits/18491.jpg\b\b\b\b\b\b\b\b\b\b\b\b\b\b\b\b\b\b\b\b\b\b\b\b\b\b\b\b\b\b\b\b\b\b\b\b\b\b\b\b\b\b\b\b\b\b                                              \b\b\b\b\b\b\b\b\b\b\b\b\b\b\b\b\b\b\b\b\b\b\b\b\b\b\b\b\b\b\b\b\b\b\b\b\b\b\b\b\b\b\b\b\b\b 88% 89421 - images/shrimp_and_grits/2140566.jpg\b\b\b\b\b\b\b\b\b\b\b\b\b\b\b\b\b\b\b\b\b\b\b\b\b\b\b\b\b\b\b\b\b\b\b\b\b\b\b\b\b\b\b\b\b\b\b\b                                                \b\b\b\b\b\b\b\b\b\b\b\b\b\b\b\b\b\b\b\b\b\b\b\b\b\b\b\b\b\b\b\b\b\b\b\b\b\b\b\b\b\b\b\b\b\b\b\b 88% 89509 - images/shrimp_and_grits/24512.jpg\b\b\b\b\b\b\b\b\b\b\b\b\b\b\b\b\b\b\b\b\b\b\b\b\b\b\b\b\b\b\b\b\b\b\b\b\b\b\b\b\b\b\b\b\b\b                                              \b\b\b\b\b\b\b\b\b\b\b\b\b\b\b\b\b\b\b\b\b\b\b\b\b\b\b\b\b\b\b\b\b\b\b\b\b\b\b\b\b\b\b\b\b\b 88% 89510 - images/shrimp_and_grits/2455123.jpg\b\b\b\b\b\b\b\b\b\b\b\b\b\b\b\b\b\b\b\b\b\b\b\b\b\b\b\b\b\b\b\b\b\b\b\b\b\b\b\b\b\b\b\b\b\b\b\b                                                \b\b\b\b\b\b\b\b\b\b\b\b\b\b\b\b\b\b\b\b\b\b\b\b\b\b\b\b\b\b\b\b\b\b\b\b\b\b\b\b\b\b\b\b\b\b\b\b 88% 89591 - images/shrimp_and_grits/2805312.jpg\b\b\b\b\b\b\b\b\b\b\b\b\b\b\b\b\b\b\b\b\b\b\b\b\b\b\b\b\b\b\b\b\b\b\b\b\b\b\b\b\b\b\b\b\b\b\b\b                                                \b\b\b\b\b\b\b\b\b\b\b\b\b\b\b\b\b\b\b\b\b\b\b\b\b\b\b\b\b\b\b\b\b\b\b\b\b\b\b\b\b\b\b\b\b\b\b\b 88% 89677 - images/shrimp_and_grits/306215.jpg\b\b\b\b\b\b\b\b\b\b\b\b\b\b\b\b\b\b\b\b\b\b\b\b\b\b\b\b\b\b\b\b\b\b\b\b\b\b\b\b\b\b\b\b\b\b\b                                               \b\b\b\b\b\b\b\b\b\b\b\b\b\b\b\b\b\b\b\b\b\b\b\b\b\b\b\b\b\b\b\b\b\b\b\b\b\b\b\b\b\b\b\b\b\b\b 88% 89759 - images/shrimp_and_grits/3337398.jpg\b\b\b\b\b\b\b\b\b\b\b\b\b\b\b\b\b\b\b\b\b\b\b\b\b\b\b\b\b\b\b\b\b\b\b\b\b\b\b\b\b\b\b\b\b\b\b\b                                                \b\b\b\b\b\b\b\b\b\b\b\b\b\b\b\b\b\b\b\b\b\b\b\b\b\b\b\b\b\b\b\b\b\b\b\b\b\b\b\b\b\b\b\b\b\b\b\b 88% 89760 - images/shrimp_and_grits/3341387.jpg\b\b\b\b\b\b\b\b\b\b\b\b\b\b\b\b\b\b\b\b\b\b\b\b\b\b\b\b\b\b\b\b\b\b\b\b\b\b\b\b\b\b\b\b\b\b\b\b                                                \b\b\b\b\b\b\b\b\b\b\b\b\b\b\b\b\b\b\b\b\b\b\b\b\b\b\b\b\b\b\b\b\b\b\b\b\b\b\b\b\b\b\b\b\b\b\b\b 88% 89842 - images/shrimp_and_grits/3658864.jpg\b\b\b\b\b\b\b\b\b\b\b\b\b\b\b\b\b\b\b\b\b\b\b\b\b\b\b\b\b\b\b\b\b\b\b\b\b\b\b\b\b\b\b\b\b\b\b\b                                                \b\b\b\b\b\b\b\b\b\b\b\b\b\b\b\b\b\b\b\b\b\b\b\b\b\b\b\b\b\b\b\b\b\b\b\b\b\b\b\b\b\b\b\b\b\b\b\b 88% 89927 - images/shrimp_and_grits/433649.jpg\b\b\b\b\b\b\b\b\b\b\b\b\b\b\b\b\b\b\b\b\b\b\b\b\b\b\b\b\b\b\b\b\b\b\b\b\b\b\b\b\b\b\b\b\b\b\b                                               \b\b\b\b\b\b\b\b\b\b\b\b\b\b\b\b\b\b\b\b\b\b\b\b\b\b\b\b\b\b\b\b\b\b\b\b\b\b\b\b\b\b\b\b\b\b\b 88% 90010 - images/shrimp_and_grits/751916.jpg\b\b\b\b\b\b\b\b\b\b\b\b\b\b\b\b\b\b\b\b\b\b\b\b\b\b\b\b\b\b\b\b\b\b\b\b\b\b\b\b\b\b\b\b\b\b\b                                               \b\b\b\b\b\b\b\b\b\b\b\b\b\b\b\b\b\b\b\b\b\b\b\b\b\b\b\b\b\b\b\b\b\b\b\b\b\b\b\b\b\b\b\b\b\b\b 89% 90053 - images/shrimp_and_grits/872254.jpg\b\b\b\b\b\b\b\b\b\b\b\b\b\b\b\b\b\b\b\b\b\b\b\b\b\b\b\b\b\b\b\b\b\b\b\b\b\b\b\b\b\b\b\b\b\b\b                                               \b\b\b\b\b\b\b\b\b\b\b\b\b\b\b\b\b\b\b\b\b\b\b\b\b\b\b\b\b\b\b\b\b\b\b\b\b\b\b\b\b\b\b\b\b\b\b 89% 90094 - images/shrimp_and_grits/965008.jpg\b\b\b\b\b\b\b\b\b\b\b\b\b\b\b\b\b\b\b\b\b\b\b\b\b\b\b\b\b\b\b\b\b\b\b\b\b\b\b\b\b\b\b\b\b\b\b                                               \b\b\b\b\b\b\b\b\b\b\b\b\b\b\b\b\b\b\b\b\b\b\b\b\b\b\b\b\b\b\b\b\b\b\b\b\b\b\b\b\b\b\b\b\b\b\b 89% 90170 - images/spaghetti_bolognese/1253740.jpg\b\b\b\b\b\b\b\b\b\b\b\b\b\b\b\b\b\b\b\b\b\b\b\b\b\b\b\b\b\b\b\b\b\b\b\b\b\b\b\b\b\b\b\b\b\b\b\b\b\b\b                                                   \b\b\b\b\b\b\b\b\b\b\b\b\b\b\b\b\b\b\b\b\b\b\b\b\b\b\b\b\b\b\b\b\b\b\b\b\b\b\b\b\b\b\b\b\b\b\b\b\b\b\b 89% 90245 - images/spaghetti_bolognese/1542417.jpg\b\b\b\b\b\b\b\b\b\b\b\b\b\b\b\b\b\b\b\b\b\b\b\b\b\b\b\b\b\b\b\b\b\b\b\b\b\b\b\b\b\b\b\b\b\b\b\b\b\b\b                                                   \b\b\b\b\b\b\b\b\b\b\b\b\b\b\b\b\b\b\b\b\b\b\b\b\b\b\b\b\b\b\b\b\b\b\b\b\b\b\b\b\b\b\b\b\b\b\b\b\b\b\b 89% 90324 - images/spaghetti_bolognese/1810896.jpg\b\b\b\b\b\b\b\b\b\b\b\b\b\b\b\b\b\b\b\b\b\b\b\b\b\b\b\b\b\b\b\b\b\b\b\b\b\b\b\b\b\b\b\b\b\b\b\b\b\b\b                                                   \b\b\b\b\b\b\b\b\b\b\b\b\b\b\b\b\b\b\b\b\b\b\b\b\b\b\b\b\b\b\b\b\b\b\b\b\b\b\b\b\b\b\b\b\b\b\b\b\b\b\b 89% 90401 - images/spaghetti_bolognese/2102145.jpg\b\b\b\b\b\b\b\b\b\b\b\b\b\b\b\b\b\b\b\b\b\b\b\b\b\b\b\b\b\b\b\b\b\b\b\b\b\b\b\b\b\b\b\b\b\b\b\b\b\b\b                                                   \b\b\b\b\b\b\b\b\b\b\b\b\b\b\b\b\b\b\b\b\b\b\b\b\b\b\b\b\b\b\b\b\b\b\b\b\b\b\b\b\b\b\b\b\b\b\b\b\b\b\b 89% 90402 - images/spaghetti_bolognese/2113122.jpg\b\b\b\b\b\b\b\b\b\b\b\b\b\b\b\b\b\b\b\b\b\b\b\b\b\b\b\b\b\b\b\b\b\b\b\b\b\b\b\b\b\b\b\b\b\b\b\b\b\b\b                                                   \b\b\b\b\b\b\b\b\b\b\b\b\b\b\b\b\b\b\b\b\b\b\b\b\b\b\b\b\b\b\b\b\b\b\b\b\b\b\b\b\b\b\b\b\b\b\b\b\b\b\b 89% 90477 - images/spaghetti_bolognese/2341631.jpg\b\b\b\b\b\b\b\b\b\b\b\b\b\b\b\b\b\b\b\b\b\b\b\b\b\b\b\b\b\b\b\b\b\b\b\b\b\b\b\b\b\b\b\b\b\b\b\b\b\b\b                                                   \b\b\b\b\b\b\b\b\b\b\b\b\b\b\b\b\b\b\b\b\b\b\b\b\b\b\b\b\b\b\b\b\b\b\b\b\b\b\b\b\b\b\b\b\b\b\b\b\b\b\b 89% 90554 - images/spaghetti_bolognese/2605155.jpg\b\b\b\b\b\b\b\b\b\b\b\b\b\b\b\b\b\b\b\b\b\b\b\b\b\b\b\b\b\b\b\b\b\b\b\b\b\b\b\b\b\b\b\b\b\b\b\b\b\b\b                                                   \b\b\b\b\b\b\b\b\b\b\b\b\b\b\b\b\b\b\b\b\b\b\b\b\b\b\b\b\b\b\b\b\b\b\b\b\b\b\b\b\b\b\b\b\b\b\b\b\b\b\b 89% 90635 - images/spaghetti_bolognese/2832881.jpg\b\b\b\b\b\b\b\b\b\b\b\b\b\b\b\b\b\b\b\b\b\b\b\b\b\b\b\b\b\b\b\b\b\b\b\b\b\b\b\b\b\b\b\b\b\b\b\b\b\b\b                                                   \b\b\b\b\b\b\b\b\b\b\b\b\b\b\b\b\b\b\b\b\b\b\b\b\b\b\b\b\b\b\b\b\b\b\b\b\b\b\b\b\b\b\b\b\b\b\b\b\b\b\b 89% 90636 - images/spaghetti_bolognese/2834047.jpg\b\b\b\b\b\b\b\b\b\b\b\b\b\b\b\b\b\b\b\b\b\b\b\b\b\b\b\b\b\b\b\b\b\b\b\b\b\b\b\b\b\b\b\b\b\b\b\b\b\b\b                                                   \b\b\b\b\b\b\b\b\b\b\b\b\b\b\b\b\b\b\b\b\b\b\b\b\b\b\b\b\b\b\b\b\b\b\b\b\b\b\b\b\b\b\b\b\b\b\b\b\b\b\b 89% 90713 - images/spaghetti_bolognese/3110786.jpg\b\b\b\b\b\b\b\b\b\b\b\b\b\b\b\b\b\b\b\b\b\b\b\b\b\b\b\b\b\b\b\b\b\b\b\b\b\b\b\b\b\b\b\b\b\b\b\b\b\b\b                                                   \b\b\b\b\b\b\b\b\b\b\b\b\b\b\b\b\b\b\b\b\b\b\b\b\b\b\b\b\b\b\b\b\b\b\b\b\b\b\b\b\b\b\b\b\b\b\b\b\b\b\b 89% 90788 - images/spaghetti_bolognese/3398074.jpg\b\b\b\b\b\b\b\b\b\b\b\b\b\b\b\b\b\b\b\b\b\b\b\b\b\b\b\b\b\b\b\b\b\b\b\b\b\b\b\b\b\b\b\b\b\b\b\b\b\b\b                                                   \b\b\b\b\b\b\b\b\b\b\b\b\b\b\b\b\b\b\b\b\b\b\b\b\b\b\b\b\b\b\b\b\b\b\b\b\b\b\b\b\b\b\b\b\b\b\b\b\b\b\b 89% 90862 - images/spaghetti_bolognese/3621110.jpg\b\b\b\b\b\b\b\b\b\b\b\b\b\b\b\b\b\b\b\b\b\b\b\b\b\b\b\b\b\b\b\b\b\b\b\b\b\b\b\b\b\b\b\b\b\b\b\b\b\b\b                                                   \b\b\b\b\b\b\b\b\b\b\b\b\b\b\b\b\b\b\b\b\b\b\b\b\b\b\b\b\b\b\b\b\b\b\b\b\b\b\b\b\b\b\b\b\b\b\b\b\b\b\b 89% 90935 - images/spaghetti_bolognese/3888024.jpg\b\b\b\b\b\b\b\b\b\b\b\b\b\b\b\b\b\b\b\b\b\b\b\b\b\b\b\b\b\b\b\b\b\b\b\b\b\b\b\b\b\b\b\b\b\b\b\b\b\b\b                                                   \b\b\b\b\b\b\b\b\b\b\b\b\b\b\b\b\b\b\b\b\b\b\b\b\b\b\b\b\b\b\b\b\b\b\b\b\b\b\b\b\b\b\b\b\b\b\b\b\b\b\b 89% 90936 - images/spaghetti_bolognese/3902375.jpg\b\b\b\b\b\b\b\b\b\b\b\b\b\b\b\b\b\b\b\b\b\b\b\b\b\b\b\b\b\b\b\b\b\b\b\b\b\b\b\b\b\b\b\b\b\b\b\b\b\b\b                                                   \b\b\b\b\b\b\b\b\b\b\b\b\b\b\b\b\b\b\b\b\b\b\b\b\b\b\b\b\b\b\b\b\b\b\b\b\b\b\b\b\b\b\b\b\b\b\b\b\b\b\b 90% 91007 - images/spaghetti_bolognese/664689.jpg\b\b\b\b\b\b\b\b\b\b\b\b\b\b\b\b\b\b\b\b\b\b\b\b\b\b\b\b\b\b\b\b\b\b\b\b\b\b\b\b\b\b\b\b\b\b\b\b\b\b                                                  \b\b\b\b\b\b\b\b\b\b\b\b\b\b\b\b\b\b\b\b\b\b\b\b\b\b\b\b\b\b\b\b\b\b\b\b\b\b\b\b\b\b\b\b\b\b\b\b\b\b 90% 91083 - images/spaghetti_bolognese/936987.jpg\b\b\b\b\b\b\b\b\b\b\b\b\b\b\b\b\b\b\b\b\b\b\b\b\b\b\b\b\b\b\b\b\b\b\b\b\b\b\b\b\b\b\b\b\b\b\b\b\b\b                                                  \b\b\b\b\b\b\b\b\b\b\b\b\b\b\b\b\b\b\b\b\b\b\b\b\b\b\b\b\b\b\b\b\b\b\b\b\b\b\b\b\b\b\b\b\b\b\b\b\b\b 90% 91161 - images/spaghetti_carbonara/1250432.jpg\b\b\b\b\b\b\b\b\b\b\b\b\b\b\b\b\b\b\b\b\b\b\b\b\b\b\b\b\b\b\b\b\b\b\b\b\b\b\b\b\b\b\b\b\b\b\b\b\b\b\b                                                   \b\b\b\b\b\b\b\b\b\b\b\b\b\b\b\b\b\b\b\b\b\b\b\b\b\b\b\b\b\b\b\b\b\b\b\b\b\b\b\b\b\b\b\b\b\b\b\b\b\b\b 90% 91162 - images/spaghetti_carbonara/1265921.jpg\b\b\b\b\b\b\b\b\b\b\b\b\b\b\b\b\b\b\b\b\b\b\b\b\b\b\b\b\b\b\b\b\b\b\b\b\b\b\b\b\b\b\b\b\b\b\b\b\b\b\b                                                   \b\b\b\b\b\b\b\b\b\b\b\b\b\b\b\b\b\b\b\b\b\b\b\b\b\b\b\b\b\b\b\b\b\b\b\b\b\b\b\b\b\b\b\b\b\b\b\b\b\b\b 90% 91245 - images/spaghetti_carbonara/1545299.jpg\b\b\b\b\b\b\b\b\b\b\b\b\b\b\b\b\b\b\b\b\b\b\b\b\b\b\b\b\b\b\b\b\b\b\b\b\b\b\b\b\b\b\b\b\b\b\b\b\b\b\b                                                   \b\b\b\b\b\b\b\b\b\b\b\b\b\b\b\b\b\b\b\b\b\b\b\b\b\b\b\b\b\b\b\b\b\b\b\b\b\b\b\b\b\b\b\b\b\b\b\b\b\b\b 90% 91329 - images/spaghetti_carbonara/1774876.jpg\b\b\b\b\b\b\b\b\b\b\b\b\b\b\b\b\b\b\b\b\b\b\b\b\b\b\b\b\b\b\b\b\b\b\b\b\b\b\b\b\b\b\b\b\b\b\b\b\b\b\b                                                   \b\b\b\b\b\b\b\b\b\b\b\b\b\b\b\b\b\b\b\b\b\b\b\b\b\b\b\b\b\b\b\b\b\b\b\b\b\b\b\b\b\b\b\b\b\b\b\b\b\b\b 90% 91408 - images/spaghetti_carbonara/2035024.jpg\b\b\b\b\b\b\b\b\b\b\b\b\b\b\b\b\b\b\b\b\b\b\b\b\b\b\b\b\b\b\b\b\b\b\b\b\b\b\b\b\b\b\b\b\b\b\b\b\b\b\b                                                   \b\b\b\b\b\b\b\b\b\b\b\b\b\b\b\b\b\b\b\b\b\b\b\b\b\b\b\b\b\b\b\b\b\b\b\b\b\b\b\b\b\b\b\b\b\b\b\b\b\b\b 90% 91493 - images/spaghetti_carbonara/2311764.jpg\b\b\b\b\b\b\b\b\b\b\b\b\b\b\b\b\b\b\b\b\b\b\b\b\b\b\b\b\b\b\b\b\b\b\b\b\b\b\b\b\b\b\b\b\b\b\b\b\b\b\b                                                   \b\b\b\b\b\b\b\b\b\b\b\b\b\b\b\b\b\b\b\b\b\b\b\b\b\b\b\b\b\b\b\b\b\b\b\b\b\b\b\b\b\b\b\b\b\b\b\b\b\b\b 90% 91494 - images/spaghetti_carbonara/2312541.jpg\b\b\b\b\b\b\b\b\b\b\b\b\b\b\b\b\b\b\b\b\b\b\b\b\b\b\b\b\b\b\b\b\b\b\b\b\b\b\b\b\b\b\b\b\b\b\b\b\b\b\b                                                   \b\b\b\b\b\b\b\b\b\b\b\b\b\b\b\b\b\b\b\b\b\b\b\b\b\b\b\b\b\b\b\b\b\b\b\b\b\b\b\b\b\b\b\b\b\b\b\b\b\b\b 90% 91574 - images/spaghetti_carbonara/2538216.jpg\b\b\b\b\b\b\b\b\b\b\b\b\b\b\b\b\b\b\b\b\b\b\b\b\b\b\b\b\b\b\b\b\b\b\b\b\b\b\b\b\b\b\b\b\b\b\b\b\b\b\b                                                   \b\b\b\b\b\b\b\b\b\b\b\b\b\b\b\b\b\b\b\b\b\b\b\b\b\b\b\b\b\b\b\b\b\b\b\b\b\b\b\b\b\b\b\b\b\b\b\b\b\b\b 90% 91663 - images/spaghetti_carbonara/2851253.jpg\b\b\b\b\b\b\b\b\b\b\b\b\b\b\b\b\b\b\b\b\b\b\b\b\b\b\b\b\b\b\b\b\b\b\b\b\b\b\b\b\b\b\b\b\b\b\b\b\b\b\b                                                   \b\b\b\b\b\b\b\b\b\b\b\b\b\b\b\b\b\b\b\b\b\b\b\b\b\b\b\b\b\b\b\b\b\b\b\b\b\b\b\b\b\b\b\b\b\b\b\b\b\b\b 90% 91746 - images/spaghetti_carbonara/3097829.jpg\b\b\b\b\b\b\b\b\b\b\b\b\b\b\b\b\b\b\b\b\b\b\b\b\b\b\b\b\b\b\b\b\b\b\b\b\b\b\b\b\b\b\b\b\b\b\b\b\b\b\b                                                   \b\b\b\b\b\b\b\b\b\b\b\b\b\b\b\b\b\b\b\b\b\b\b\b\b\b\b\b\b\b\b\b\b\b\b\b\b\b\b\b\b\b\b\b\b\b\b\b\b\b\b 90% 91832 - images/spaghetti_carbonara/3517033.jpg\b\b\b\b\b\b\b\b\b\b\b\b\b\b\b\b\b\b\b\b\b\b\b\b\b\b\b\b\b\b\b\b\b\b\b\b\b\b\b\b\b\b\b\b\b\b\b\b\b\b\b                                                   \b\b\b\b\b\b\b\b\b\b\b\b\b\b\b\b\b\b\b\b\b\b\b\b\b\b\b\b\b\b\b\b\b\b\b\b\b\b\b\b\b\b\b\b\b\b\b\b\b\b\b 90% 91833 - images/spaghetti_carbonara/3520386.jpg\b\b\b\b\b\b\b\b\b\b\b\b\b\b\b\b\b\b\b\b\b\b\b\b\b\b\b\b\b\b\b\b\b\b\b\b\b\b\b\b\b\b\b\b\b\b\b\b\b\b\b                                                   \b\b\b\b\b\b\b\b\b\b\b\b\b\b\b\b\b\b\b\b\b\b\b\b\b\b\b\b\b\b\b\b\b\b\b\b\b\b\b\b\b\b\b\b\b\b\b\b\b\b\b 90% 91913 - images/spaghetti_carbonara/3863626.jpg\b\b\b\b\b\b\b\b\b\b\b\b\b\b\b\b\b\b\b\b\b\b\b\b\b\b\b\b\b\b\b\b\b\b\b\b\b\b\b\b\b\b\b\b\b\b\b\b\b\b\b                                                   \b\b\b\b\b\b\b\b\b\b\b\b\b\b\b\b\b\b\b\b\b\b\b\b\b\b\b\b\b\b\b\b\b\b\b\b\b\b\b\b\b\b\b\b\b\b\b\b\b\b\b 91% 91995 - images/spaghetti_carbonara/590995.jpg\b\b\b\b\b\b\b\b\b\b\b\b\b\b\b\b\b\b\b\b\b\b\b\b\b\b\b\b\b\b\b\b\b\b\b\b\b\b\b\b\b\b\b\b\b\b\b\b\b\b                                                  \b\b\b\b\b\b\b\b\b\b\b\b\b\b\b\b\b\b\b\b\b\b\b\b\b\b\b\b\b\b\b\b\b\b\b\b\b\b\b\b\b\b\b\b\b\b\b\b\b\b 91% 92076 - images/spaghetti_carbonara/871018.jpg\b\b\b\b\b\b\b\b\b\b\b\b\b\b\b\b\b\b\b\b\b\b\b\b\b\b\b\b\b\b\b\b\b\b\b\b\b\b\b\b\b\b\b\b\b\b\b\b\b\b                                                  \b\b\b\b\b\b\b\b\b\b\b\b\b\b\b\b\b\b\b\b\b\b\b\b\b\b\b\b\b\b\b\b\b\b\b\b\b\b\b\b\b\b\b\b\b\b\b\b\b\b 91% 92092 - images/spaghetti_carbonara/951125.jpg\b\b\b\b\b\b\b\b\b\b\b\b\b\b\b\b\b\b\b\b\b\b\b\b\b\b\b\b\b\b\b\b\b\b\b\b\b\b\b\b\b\b\b\b\b\b\b\b\b\b                                                  \b\b\b\b\b\b\b\b\b\b\b\b\b\b\b\b\b\b\b\b\b\b\b\b\b\b\b\b\b\b\b\b\b\b\b\b\b\b\b\b\b\b\b\b\b\b\b\b\b\b 91% 92164 - images/spring_rolls/1226260.jpg\b\b\b\b\b\b\b\b\b\b\b\b\b\b\b\b\b\b\b\b\b\b\b\b\b\b\b\b\b\b\b\b\b\b\b\b\b\b\b\b\b\b\b\b                                            \b\b\b\b\b\b\b\b\b\b\b\b\b\b\b\b\b\b\b\b\b\b\b\b\b\b\b\b\b\b\b\b\b\b\b\b\b\b\b\b\b\b\b\b 91% 92257 - images/spring_rolls/1545398.jpg\b\b\b\b\b\b\b\b\b\b\b\b\b\b\b\b\b\b\b\b\b\b\b\b\b\b\b\b\b\b\b\b\b\b\b\b\b\b\b\b\b\b\b\b                                            \b\b\b\b\b\b\b\b\b\b\b\b\b\b\b\b\b\b\b\b\b\b\b\b\b\b\b\b\b\b\b\b\b\b\b\b\b\b\b\b\b\b\b\b 91% 92351 - images/spring_rolls/183313.jpg\b\b\b\b\b\b\b\b\b\b\b\b\b\b\b\b\b\b\b\b\b\b\b\b\b\b\b\b\b\b\b\b\b\b\b\b\b\b\b\b\b\b\b                                           \b\b\b\b\b\b\b\b\b\b\b\b\b\b\b\b\b\b\b\b\b\b\b\b\b\b\b\b\b\b\b\b\b\b\b\b\b\b\b\b\b\b\b 91% 92447 - images/spring_rolls/2135032.jpg\b\b\b\b\b\b\b\b\b\b\b\b\b\b\b\b\b\b\b\b\b\b\b\b\b\b\b\b\b\b\b\b\b\b\b\b\b\b\b\b\b\b\b\b                                            \b\b\b\b\b\b\b\b\b\b\b\b\b\b\b\b\b\b\b\b\b\b\b\b\b\b\b\b\b\b\b\b\b\b\b\b\b\b\b\b\b\b\b\b 91% 92448 - images/spring_rolls/2137706.jpg\b\b\b\b\b\b\b\b\b\b\b\b\b\b\b\b\b\b\b\b\b\b\b\b\b\b\b\b\b\b\b\b\b\b\b\b\b\b\b\b\b\b\b\b                                            \b\b\b\b\b\b\b\b\b\b\b\b\b\b\b\b\b\b\b\b\b\b\b\b\b\b\b\b\b\b\b\b\b\b\b\b\b\b\b\b\b\b\b\b 91% 92541 - images/spring_rolls/2439594.jpg\b\b\b\b\b\b\b\b\b\b\b\b\b\b\b\b\b\b\b\b\b\b\b\b\b\b\b\b\b\b\b\b\b\b\b\b\b\b\b\b\b\b\b\b                                            \b\b\b\b\b\b\b\b\b\b\b\b\b\b\b\b\b\b\b\b\b\b\b\b\b\b\b\b\b\b\b\b\b\b\b\b\b\b\b\b\b\b\b\b 91% 92635 - images/spring_rolls/2770662.jpg\b\b\b\b\b\b\b\b\b\b\b\b\b\b\b\b\b\b\b\b\b\b\b\b\b\b\b\b\b\b\b\b\b\b\b\b\b\b\b\b\b\b\b\b                                            \b\b\b\b\b\b\b\b\b\b\b\b\b\b\b\b\b\b\b\b\b\b\b\b\b\b\b\b\b\b\b\b\b\b\b\b\b\b\b\b\b\b\b\b 91% 92729 - images/spring_rolls/3138201.jpg\b\b\b\b\b\b\b\b\b\b\b\b\b\b\b\b\b\b\b\b\b\b\b\b\b\b\b\b\b\b\b\b\b\b\b\b\b\b\b\b\b\b\b\b                                            \b\b\b\b\b\b\b\b\b\b\b\b\b\b\b\b\b\b\b\b\b\b\b\b\b\b\b\b\b\b\b\b\b\b\b\b\b\b\b\b\b\b\b\b 91% 92730 - images/spring_rolls/3140637.jpg\b\b\b\b\b\b\b\b\b\b\b\b\b\b\b\b\b\b\b\b\b\b\b\b\b\b\b\b\b\b\b\b\b\b\b\b\b\b\b\b\b\b\b\b                                            \b\b\b\b\b\b\b\b\b\b\b\b\b\b\b\b\b\b\b\b\b\b\b\b\b\b\b\b\b\b\b\b\b\b\b\b\b\b\b\b\b\b\b\b 91% 92823 - images/spring_rolls/3552017.jpg\b\b\b\b\b\b\b\b\b\b\b\b\b\b\b\b\b\b\b\b\b\b\b\b\b\b\b\b\b\b\b\b\b\b\b\b\b\b\b\b\b\b\b\b                                            \b\b\b\b\b\b\b\b\b\b\b\b\b\b\b\b\b\b\b\b\b\b\b\b\b\b\b\b\b\b\b\b\b\b\b\b\b\b\b\b\b\b\b\b 91% 92919 - images/spring_rolls/394711.jpg\b\b\b\b\b\b\b\b\b\b\b\b\b\b\b\b\b\b\b\b\b\b\b\b\b\b\b\b\b\b\b\b\b\b\b\b\b\b\b\b\b\b\b                                           \b\b\b\b\b\b\b\b\b\b\b\b\b\b\b\b\b\b\b\b\b\b\b\b\b\b\b\b\b\b\b\b\b\b\b\b\b\b\b\b\b\b\b 91% 92920 - images/spring_rolls/394731.jpg\b\b\b\b\b\b\b\b\b\b\b\b\b\b\b\b\b\b\b\b\b\b\b\b\b\b\b\b\b\b\b\b\b\b\b\b\b\b\b\b\b\b\b                                           \b\b\b\b\b\b\b\b\b\b\b\b\b\b\b\b\b\b\b\b\b\b\b\b\b\b\b\b\b\b\b\b\b\b\b\b\b\b\b\b\b\b\b 91% 93008 - images/spring_rolls/710442.jpg\b\b\b\b\b\b\b\b\b\b\b\b\b\b\b\b\b\b\b\b\b\b\b\b\b\b\b\b\b\b\b\b\b\b\b\b\b\b\b\b\b\b\b                                           \b\b\b\b\b\b\b\b\b\b\b\b\b\b\b\b\b\b\b\b\b\b\b\b\b\b\b\b\b\b\b\b\b\b\b\b\b\b\b\b\b\b\b 92% 93102 - images/steak/1000205.jpg\b\b\b\b\b\b\b\b\b\b\b\b\b\b\b\b\b\b\b\b\b\b\b\b\b\b\b\b\b\b\b\b\b\b\b\b\b                                     \b\b\b\b\b\b\b\b\b\b\b\b\b\b\b\b\b\b\b\b\b\b\b\b\b\b\b\b\b\b\b\b\b\b\b\b\b 92% 93184 - images/steak/1346387.jpg\b\b\b\b\b\b\b\b\b\b\b\b\b\b\b\b\b\b\b\b\b\b\b\b\b\b\b\b\b\b\b\b\b\b\b\b\b                                     \b\b\b\b\b\b\b\b\b\b\b\b\b\b\b\b\b\b\b\b\b\b\b\b\b\b\b\b\b\b\b\b\b\b\b\b\b 92% 93185 - images/steak/1348047.jpg\b\b\b\b\b\b\b\b\b\b\b\b\b\b\b\b\b\b\b\b\b\b\b\b\b\b\b\b\b\b\b\b\b\b\b\b\b                                     \b\b\b\b\b\b\b\b\b\b\b\b\b\b\b\b\b\b\b\b\b\b\b\b\b\b\b\b\b\b\b\b\b\b\b\b\b 92% 93263 - images/steak/1624747.jpg\b\b\b\b\b\b\b\b\b\b\b\b\b\b\b\b\b\b\b\b\b\b\b\b\b\b\b\b\b\b\b\b\b\b\b\b\b                                     \b\b\b\b\b\b\b\b\b\b\b\b\b\b\b\b\b\b\b\b\b\b\b\b\b\b\b\b\b\b\b\b\b\b\b\b\b 92% 93339 - images/steak/1902895.jpg\b\b\b\b\b\b\b\b\b\b\b\b\b\b\b\b\b\b\b\b\b\b\b\b\b\b\b\b\b\b\b\b\b\b\b\b\b                                     \b\b\b\b\b\b\b\b\b\b\b\b\b\b\b\b\b\b\b\b\b\b\b\b\b\b\b\b\b\b\b\b\b\b\b\b\b 92% 93419 - images/steak/2193684.jpg\b\b\b\b\b\b\b\b\b\b\b\b\b\b\b\b\b\b\b\b\b\b\b\b\b\b\b\b\b\b\b\b\b\b\b\b\b                                     \b\b\b\b\b\b\b\b\b\b\b\b\b\b\b\b\b\b\b\b\b\b\b\b\b\b\b\b\b\b\b\b\b\b\b\b\b 92% 93437 - images/steak/2268692.jpg\b\b\b\b\b\b\b\b\b\b\b\b\b\b\b\b\b\b\b\b\b\b\b\b\b\b\b\b\b\b\b\b\b\b\b\b\b                                     \b\b\b\b\b\b\b\b\b\b\b\b\b\b\b\b\b\b\b\b\b\b\b\b\b\b\b\b\b\b\b\b\b\b\b\b\b 92% 93499 - images/steak/2484823.jpg\b\b\b\b\b\b\b\b\b\b\b\b\b\b\b\b\b\b\b\b\b\b\b\b\b\b\b\b\b\b\b\b\b\b\b\b\b                                     \b\b\b\b\b\b\b\b\b\b\b\b\b\b\b\b\b\b\b\b\b\b\b\b\b\b\b\b\b\b\b\b\b\b\b\b\b 92% 93577 - images/steak/2771149.jpg\b\b\b\b\b\b\b\b\b\b\b\b\b\b\b\b\b\b\b\b\b\b\b\b\b\b\b\b\b\b\b\b\b\b\b\b\b                                     \b\b\b\b\b\b\b\b\b\b\b\b\b\b\b\b\b\b\b\b\b\b\b\b\b\b\b\b\b\b\b\b\b\b\b\b\b 92% 93658 - images/steak/2996324.jpg\b\b\b\b\b\b\b\b\b\b\b\b\b\b\b\b\b\b\b\b\b\b\b\b\b\b\b\b\b\b\b\b\b\b\b\b\b                                     \b\b\b\b\b\b\b\b\b\b\b\b\b\b\b\b\b\b\b\b\b\b\b\b\b\b\b\b\b\b\b\b\b\b\b\b\b 92% 93738 - images/steak/3315737.jpg\b\b\b\b\b\b\b\b\b\b\b\b\b\b\b\b\b\b\b\b\b\b\b\b\b\b\b\b\b\b\b\b\b\b\b\b\b                                     \b\b\b\b\b\b\b\b\b\b\b\b\b\b\b\b\b\b\b\b\b\b\b\b\b\b\b\b\b\b\b\b\b\b\b\b\b 92% 93739 - images/steak/331860.jpg\b\b\b\b\b\b\b\b\b\b\b\b\b\b\b\b\b\b\b\b\b\b\b\b\b\b\b\b\b\b\b\b\b\b\b\b                                    \b\b\b\b\b\b\b\b\b\b\b\b\b\b\b\b\b\b\b\b\b\b\b\b\b\b\b\b\b\b\b\b\b\b\b\b 92% 93814 - images/steak/358042.jpg\b\b\b\b\b\b\b\b\b\b\b\b\b\b\b\b\b\b\b\b\b\b\b\b\b\b\b\b\b\b\b\b\b\b\b\b                                    \b\b\b\b\b\b\b\b\b\b\b\b\b\b\b\b\b\b\b\b\b\b\b\b\b\b\b\b\b\b\b\b\b\b\b\b 92% 93896 - images/steak/3901703.jpg\b\b\b\b\b\b\b\b\b\b\b\b\b\b\b\b\b\b\b\b\b\b\b\b\b\b\b\b\b\b\b\b\b\b\b\b\b                                     \b\b\b\b\b\b\b\b\b\b\b\b\b\b\b\b\b\b\b\b\b\b\b\b\b\b\b\b\b\b\b\b\b\b\b\b\b 92% 93972 - images/steak/576725.jpg\b\b\b\b\b\b\b\b\b\b\b\b\b\b\b\b\b\b\b\b\b\b\b\b\b\b\b\b\b\b\b\b\b\b\b\b                                    \b\b\b\b\b\b\b\b\b\b\b\b\b\b\b\b\b\b\b\b\b\b\b\b\b\b\b\b\b\b\b\b\b\b\b\b 92% 94051 - images/steak/823766.jpg\b\b\b\b\b\b\b\b\b\b\b\b\b\b\b\b\b\b\b\b\b\b\b\b\b\b\b\b\b\b\b\b\b\b\b\b                                    \b\b\b\b\b\b\b\b\b\b\b\b\b\b\b\b\b\b\b\b\b\b\b\b\b\b\b\b\b\b\b\b\b\b\b\b 93% 94092 - images/steak/958704.jpg\b\b\b\b\b\b\b\b\b\b\b\b\b\b\b\b\b\b\b\b\b\b\b\b\b\b\b\b\b\b\b\b\b\b\b\b                                    \b\b\b\b\b\b\b\b\b\b\b\b\b\b\b\b\b\b\b\b\b\b\b\b\b\b\b\b\b\b\b\b\b\b\b\b 93% 94135 - images/strawberry_shortcake/1173139.jpg\b\b\b\b\b\b\b\b\b\b\b\b\b\b\b\b\b\b\b\b\b\b\b\b\b\b\b\b\b\b\b\b\b\b\b\b\b\b\b\b\b\b\b\b\b\b\b\b\b\b\b\b                                                    \b\b\b\b\b\b\b\b\b\b\b\b\b\b\b\b\b\b\b\b\b\b\b\b\b\b\b\b\b\b\b\b\b\b\b\b\b\b\b\b\b\b\b\b\b\b\b\b\b\b\b\b 93% 94227 - images/strawberry_shortcake/1594034.jpg\b\b\b\b\b\b\b\b\b\b\b\b\b\b\b\b\b\b\b\b\b\b\b\b\b\b\b\b\b\b\b\b\b\b\b\b\b\b\b\b\b\b\b\b\b\b\b\b\b\b\b\b                                                    \b\b\b\b\b\b\b\b\b\b\b\b\b\b\b\b\b\b\b\b\b\b\b\b\b\b\b\b\b\b\b\b\b\b\b\b\b\b\b\b\b\b\b\b\b\b\b\b\b\b\b\b 93% 94322 - images/strawberry_shortcake/1850173.jpg\b\b\b\b\b\b\b\b\b\b\b\b\b\b\b\b\b\b\b\b\b\b\b\b\b\b\b\b\b\b\b\b\b\b\b\b\b\b\b\b\b\b\b\b\b\b\b\b\b\b\b\b                                                    \b\b\b\b\b\b\b\b\b\b\b\b\b\b\b\b\b\b\b\b\b\b\b\b\b\b\b\b\b\b\b\b\b\b\b\b\b\b\b\b\b\b\b\b\b\b\b\b\b\b\b\b 93% 94364 - images/strawberry_shortcake/1967144.jpg\b\b\b\b\b\b\b\b\b\b\b\b\b\b\b\b\b\b\b\b\b\b\b\b\b\b\b\b\b\b\b\b\b\b\b\b\b\b\b\b\b\b\b\b\b\b\b\b\b\b\b\b                                                    \b\b\b\b\b\b\b\b\b\b\b\b\b\b\b\b\b\b\b\b\b\b\b\b\b\b\b\b\b\b\b\b\b\b\b\b\b\b\b\b\b\b\b\b\b\b\b\b\b\b\b\b 93% 94413 - images/strawberry_shortcake/2146061.jpg\b\b\b\b\b\b\b\b\b\b\b\b\b\b\b\b\b\b\b\b\b\b\b\b\b\b\b\b\b\b\b\b\b\b\b\b\b\b\b\b\b\b\b\b\b\b\b\b\b\b\b\b                                                    \b\b\b\b\b\b\b\b\b\b\b\b\b\b\b\b\b\b\b\b\b\b\b\b\b\b\b\b\b\b\b\b\b\b\b\b\b\b\b\b\b\b\b\b\b\b\b\b\b\b\b\b 93% 94501 - images/strawberry_shortcake/240736.jpg\b\b\b\b\b\b\b\b\b\b\b\b\b\b\b\b\b\b\b\b\b\b\b\b\b\b\b\b\b\b\b\b\b\b\b\b\b\b\b\b\b\b\b\b\b\b\b\b\b\b\b                                                   \b\b\b\b\b\b\b\b\b\b\b\b\b\b\b\b\b\b\b\b\b\b\b\b\b\b\b\b\b\b\b\b\b\b\b\b\b\b\b\b\b\b\b\b\b\b\b\b\b\b\b 93% 94597 - images/strawberry_shortcake/2903294.jpg\b\b\b\b\b\b\b\b\b\b\b\b\b\b\b\b\b\b\b\b\b\b\b\b\b\b\b\b\b\b\b\b\b\b\b\b\b\b\b\b\b\b\b\b\b\b\b\b\b\b\b\b                                                    \b\b\b\b\b\b\b\b\b\b\b\b\b\b\b\b\b\b\b\b\b\b\b\b\b\b\b\b\b\b\b\b\b\b\b\b\b\b\b\b\b\b\b\b\b\b\b\b\b\b\b\b 93% 94598 - images/strawberry_shortcake/2904094.jpg\b\b\b\b\b\b\b\b\b\b\b\b\b\b\b\b\b\b\b\b\b\b\b\b\b\b\b\b\b\b\b\b\b\b\b\b\b\b\b\b\b\b\b\b\b\b\b\b\b\b\b\b                                                    \b\b\b\b\b\b\b\b\b\b\b\b\b\b\b\b\b\b\b\b\b\b\b\b\b\b\b\b\b\b\b\b\b\b\b\b\b\b\b\b\b\b\b\b\b\b\b\b\b\b\b\b 93% 94685 - images/strawberry_shortcake/325062.jpg\b\b\b\b\b\b\b\b\b\b\b\b\b\b\b\b\b\b\b\b\b\b\b\b\b\b\b\b\b\b\b\b\b\b\b\b\b\b\b\b\b\b\b\b\b\b\b\b\b\b\b                                                   \b\b\b\b\b\b\b\b\b\b\b\b\b\b\b\b\b\b\b\b\b\b\b\b\b\b\b\b\b\b\b\b\b\b\b\b\b\b\b\b\b\b\b\b\b\b\b\b\b\b\b 93% 94776 - images/strawberry_shortcake/3626915.jpg\b\b\b\b\b\b\b\b\b\b\b\b\b\b\b\b\b\b\b\b\b\b\b\b\b\b\b\b\b\b\b\b\b\b\b\b\b\b\b\b\b\b\b\b\b\b\b\b\b\b\b\b                                                    \b\b\b\b\b\b\b\b\b\b\b\b\b\b\b\b\b\b\b\b\b\b\b\b\b\b\b\b\b\b\b\b\b\b\b\b\b\b\b\b\b\b\b\b\b\b\b\b\b\b\b\b 93% 94868 - images/strawberry_shortcake/402691.jpg\b\b\b\b\b\b\b\b\b\b\b\b\b\b\b\b\b\b\b\b\b\b\b\b\b\b\b\b\b\b\b\b\b\b\b\b\b\b\b\b\b\b\b\b\b\b\b\b\b\b\b                                                   \b\b\b\b\b\b\b\b\b\b\b\b\b\b\b\b\b\b\b\b\b\b\b\b\b\b\b\b\b\b\b\b\b\b\b\b\b\b\b\b\b\b\b\b\b\b\b\b\b\b\b 93% 94939 - images/strawberry_shortcake/597734.jpg\b\b\b\b\b\b\b\b\b\b\b\b\b\b\b\b\b\b\b\b\b\b\b\b\b\b\b\b\b\b\b\b\b\b\b\b\b\b\b\b\b\b\b\b\b\b\b\b\b\b\b                                                   \b\b\b\b\b\b\b\b\b\b\b\b\b\b\b\b\b\b\b\b\b\b\b\b\b\b\b\b\b\b\b\b\b\b\b\b\b\b\b\b\b\b\b\b\b\b\b\b\b\b\b 93% 94956 - images/strawberry_shortcake/644100.jpg\b\b\b\b\b\b\b\b\b\b\b\b\b\b\b\b\b\b\b\b\b\b\b\b\b\b\b\b\b\b\b\b\b\b\b\b\b\b\b\b\b\b\b\b\b\b\b\b\b\b\b                                                   \b\b\b\b\b\b\b\b\b\b\b\b\b\b\b\b\b\b\b\b\b\b\b\b\b\b\b\b\b\b\b\b\b\b\b\b\b\b\b\b\b\b\b\b\b\b\b\b\b\b\b 93% 95048 - images/strawberry_shortcake/844054.jpg\b\b\b\b\b\b\b\b\b\b\b\b\b\b\b\b\b\b\b\b\b\b\b\b\b\b\b\b\b\b\b\b\b\b\b\b\b\b\b\b\b\b\b\b\b\b\b\b\b\b\b                                                   \b\b\b\b\b\b\b\b\b\b\b\b\b\b\b\b\b\b\b\b\b\b\b\b\b\b\b\b\b\b\b\b\b\b\b\b\b\b\b\b\b\b\b\b\b\b\b\b\b\b\b 93% 95134 - images/sushi/1109235.jpg\b\b\b\b\b\b\b\b\b\b\b\b\b\b\b\b\b\b\b\b\b\b\b\b\b\b\b\b\b\b\b\b\b\b\b\b\b                                     \b\b\b\b\b\b\b\b\b\b\b\b\b\b\b\b\b\b\b\b\b\b\b\b\b\b\b\b\b\b\b\b\b\b\b\b\b 94% 95219 - images/sushi/1346344.jpg\b\b\b\b\b\b\b\b\b\b\b\b\b\b\b\b\b\b\b\b\b\b\b\b\b\b\b\b\b\b\b\b\b\b\b\b\b                                     \b\b\b\b\b\b\b\b\b\b\b\b\b\b\b\b\b\b\b\b\b\b\b\b\b\b\b\b\b\b\b\b\b\b\b\b\b 94% 95220 - images/sushi/1352260.jpg\b\b\b\b\b\b\b\b\b\b\b\b\b\b\b\b\b\b\b\b\b\b\b\b\b\b\b\b\b\b\b\b\b\b\b\b\b                                     \b\b\b\b\b\b\b\b\b\b\b\b\b\b\b\b\b\b\b\b\b\b\b\b\b\b\b\b\b\b\b\b\b\b\b\b\b 94% 95303 - images/sushi/1659155.jpg\b\b\b\b\b\b\b\b\b\b\b\b\b\b\b\b\b\b\b\b\b\b\b\b\b\b\b\b\b\b\b\b\b\b\b\b\b                                     \b\b\b\b\b\b\b\b\b\b\b\b\b\b\b\b\b\b\b\b\b\b\b\b\b\b\b\b\b\b\b\b\b\b\b\b\b 94% 95383 - images/sushi/1944743.jpg\b\b\b\b\b\b\b\b\b\b\b\b\b\b\b\b\b\b\b\b\b\b\b\b\b\b\b\b\b\b\b\b\b\b\b\b\b                                     \b\b\b\b\b\b\b\b\b\b\b\b\b\b\b\b\b\b\b\b\b\b\b\b\b\b\b\b\b\b\b\b\b\b\b\b\b 94% 95466 - images/sushi/2274102.jpg\b\b\b\b\b\b\b\b\b\b\b\b\b\b\b\b\b\b\b\b\b\b\b\b\b\b\b\b\b\b\b\b\b\b\b\b\b                                     \b\b\b\b\b\b\b\b\b\b\b\b\b\b\b\b\b\b\b\b\b\b\b\b\b\b\b\b\b\b\b\b\b\b\b\b\b 94% 95547 - images/sushi/2623508.jpg\b\b\b\b\b\b\b\b\b\b\b\b\b\b\b\b\b\b\b\b\b\b\b\b\b\b\b\b\b\b\b\b\b\b\b\b\b                                     \b\b\b\b\b\b\b\b\b\b\b\b\b\b\b\b\b\b\b\b\b\b\b\b\b\b\b\b\b\b\b\b\b\b\b\b\b 94% 95627 - images/sushi/2932846.jpg\b\b\b\b\b\b\b\b\b\b\b\b\b\b\b\b\b\b\b\b\b\b\b\b\b\b\b\b\b\b\b\b\b\b\b\b\b                                     \b\b\b\b\b\b\b\b\b\b\b\b\b\b\b\b\b\b\b\b\b\b\b\b\b\b\b\b\b\b\b\b\b\b\b\b\b 94% 95628 - images/sushi/2937874.jpg\b\b\b\b\b\b\b\b\b\b\b\b\b\b\b\b\b\b\b\b\b\b\b\b\b\b\b\b\b\b\b\b\b\b\b\b\b                                     \b\b\b\b\b\b\b\b\b\b\b\b\b\b\b\b\b\b\b\b\b\b\b\b\b\b\b\b\b\b\b\b\b\b\b\b\b 94% 95712 - images/sushi/3231982.jpg\b\b\b\b\b\b\b\b\b\b\b\b\b\b\b\b\b\b\b\b\b\b\b\b\b\b\b\b\b\b\b\b\b\b\b\b\b                                     \b\b\b\b\b\b\b\b\b\b\b\b\b\b\b\b\b\b\b\b\b\b\b\b\b\b\b\b\b\b\b\b\b\b\b\b\b 94% 95796 - images/sushi/360236.jpg\b\b\b\b\b\b\b\b\b\b\b\b\b\b\b\b\b\b\b\b\b\b\b\b\b\b\b\b\b\b\b\b\b\b\b\b                                    \b\b\b\b\b\b\b\b\b\b\b\b\b\b\b\b\b\b\b\b\b\b\b\b\b\b\b\b\b\b\b\b\b\b\b\b 94% 95883 - images/sushi/456718.jpg\b\b\b\b\b\b\b\b\b\b\b\b\b\b\b\b\b\b\b\b\b\b\b\b\b\b\b\b\b\b\b\b\b\b\b\b                                    \b\b\b\b\b\b\b\b\b\b\b\b\b\b\b\b\b\b\b\b\b\b\b\b\b\b\b\b\b\b\b\b\b\b\b\b 94% 95884 - images/sushi/458123.jpg\b\b\b\b\b\b\b\b\b\b\b\b\b\b\b\b\b\b\b\b\b\b\b\b\b\b\b\b\b\b\b\b\b\b\b\b                                    \b\b\b\b\b\b\b\b\b\b\b\b\b\b\b\b\b\b\b\b\b\b\b\b\b\b\b\b\b\b\b\b\b\b\b\b 94% 95960 - images/sushi/639622.jpg\b\b\b\b\b\b\b\b\b\b\b\b\b\b\b\b\b\b\b\b\b\b\b\b\b\b\b\b\b\b\b\b\b\b\b\b                                    \b\b\b\b\b\b\b\b\b\b\b\b\b\b\b\b\b\b\b\b\b\b\b\b\b\b\b\b\b\b\b\b\b\b\b\b 94% 96052 - images/sushi/861296.jpg\b\b\b\b\b\b\b\b\b\b\b\b\b\b\b\b\b\b\b\b\b\b\b\b\b\b\b\b\b\b\b\b\b\b\b\b                                    \b\b\b\b\b\b\b\b\b\b\b\b\b\b\b\b\b\b\b\b\b\b\b\b\b\b\b\b\b\b\b\b\b\b\b\b 94% 96139 - images/tacos/1152582.jpg\b\b\b\b\b\b\b\b\b\b\b\b\b\b\b\b\b\b\b\b\b\b\b\b\b\b\b\b\b\b\b\b\b\b\b\b\b                                     \b\b\b\b\b\b\b\b\b\b\b\b\b\b\b\b\b\b\b\b\b\b\b\b\b\b\b\b\b\b\b\b\b\b\b\b\b 94% 96140 - images/tacos/1154429.jpg\b\b\b\b\b\b\b\b\b\b\b\b\b\b\b\b\b\b\b\b\b\b\b\b\b\b\b\b\b\b\b\b\b\b\b\b\b                                     \b\b\b\b\b\b\b\b\b\b\b\b\b\b\b\b\b\b\b\b\b\b\b\b\b\b\b\b\b\b\b\b\b\b\b\b\b 95% 96214 - images/tacos/1441011.jpg\b\b\b\b\b\b\b\b\b\b\b\b\b\b\b\b\b\b\b\b\b\b\b\b\b\b\b\b\b\b\b\b\b\b\b\b\b                                     \b\b\b\b\b\b\b\b\b\b\b\b\b\b\b\b\b\b\b\b\b\b\b\b\b\b\b\b\b\b\b\b\b\b\b\b\b 95% 96292 - images/tacos/1693719.jpg\b\b\b\b\b\b\b\b\b\b\b\b\b\b\b\b\b\b\b\b\b\b\b\b\b\b\b\b\b\b\b\b\b\b\b\b\b                                     \b\b\b\b\b\b\b\b\b\b\b\b\b\b\b\b\b\b\b\b\b\b\b\b\b\b\b\b\b\b\b\b\b\b\b\b\b 95% 96366 - images/tacos/195011.jpg\b\b\b\b\b\b\b\b\b\b\b\b\b\b\b\b\b\b\b\b\b\b\b\b\b\b\b\b\b\b\b\b\b\b\b\b                                    \b\b\b\b\b\b\b\b\b\b\b\b\b\b\b\b\b\b\b\b\b\b\b\b\b\b\b\b\b\b\b\b\b\b\b\b 95% 96447 - images/tacos/2176466.jpg\b\b\b\b\b\b\b\b\b\b\b\b\b\b\b\b\b\b\b\b\b\b\b\b\b\b\b\b\b\b\b\b\b\b\b\b\b                                     \b\b\b\b\b\b\b\b\b\b\b\b\b\b\b\b\b\b\b\b\b\b\b\b\b\b\b\b\b\b\b\b\b\b\b\b\b 95% 96448 - images/tacos/2177128.jpg\b\b\b\b\b\b\b\b\b\b\b\b\b\b\b\b\b\b\b\b\b\b\b\b\b\b\b\b\b\b\b\b\b\b\b\b\b                                     \b\b\b\b\b\b\b\b\b\b\b\b\b\b\b\b\b\b\b\b\b\b\b\b\b\b\b\b\b\b\b\b\b\b\b\b\b 95% 96522 - images/tacos/2527453.jpg\b\b\b\b\b\b\b\b\b\b\b\b\b\b\b\b\b\b\b\b\b\b\b\b\b\b\b\b\b\b\b\b\b\b\b\b\b                                     \b\b\b\b\b\b\b\b\b\b\b\b\b\b\b\b\b\b\b\b\b\b\b\b\b\b\b\b\b\b\b\b\b\b\b\b\b 95% 96601 - images/tacos/2819834.jpg\b\b\b\b\b\b\b\b\b\b\b\b\b\b\b\b\b\b\b\b\b\b\b\b\b\b\b\b\b\b\b\b\b\b\b\b\b                                     \b\b\b\b\b\b\b\b\b\b\b\b\b\b\b\b\b\b\b\b\b\b\b\b\b\b\b\b\b\b\b\b\b\b\b\b\b 95% 96677 - images/tacos/3205255.jpg\b\b\b\b\b\b\b\b\b\b\b\b\b\b\b\b\b\b\b\b\b\b\b\b\b\b\b\b\b\b\b\b\b\b\b\b\b                                     \b\b\b\b\b\b\b\b\b\b\b\b\b\b\b\b\b\b\b\b\b\b\b\b\b\b\b\b\b\b\b\b\b\b\b\b\b 95% 96685 - images/tacos/322915.jpg\b\b\b\b\b\b\b\b\b\b\b\b\b\b\b\b\b\b\b\b\b\b\b\b\b\b\b\b\b\b\b\b\b\b\b\b                                    \b\b\b\b\b\b\b\b\b\b\b\b\b\b\b\b\b\b\b\b\b\b\b\b\b\b\b\b\b\b\b\b\b\b\b\b 95% 96756 - images/tacos/3455885.jpg\b\b\b\b\b\b\b\b\b\b\b\b\b\b\b\b\b\b\b\b\b\b\b\b\b\b\b\b\b\b\b\b\b\b\b\b\b                                     \b\b\b\b\b\b\b\b\b\b\b\b\b\b\b\b\b\b\b\b\b\b\b\b\b\b\b\b\b\b\b\b\b\b\b\b\b 95% 96833 - images/tacos/3729027.jpg\b\b\b\b\b\b\b\b\b\b\b\b\b\b\b\b\b\b\b\b\b\b\b\b\b\b\b\b\b\b\b\b\b\b\b\b\b                                     \b\b\b\b\b\b\b\b\b\b\b\b\b\b\b\b\b\b\b\b\b\b\b\b\b\b\b\b\b\b\b\b\b\b\b\b\b 95% 96909 - images/tacos/45035.jpg\b\b\b\b\b\b\b\b\b\b\b\b\b\b\b\b\b\b\b\b\b\b\b\b\b\b\b\b\b\b\b\b\b\b\b                                   \b\b\b\b\b\b\b\b\b\b\b\b\b\b\b\b\b\b\b\b\b\b\b\b\b\b\b\b\b\b\b\b\b\b\b 95% 96981 - images/tacos/608386.jpg\b\b\b\b\b\b\b\b\b\b\b\b\b\b\b\b\b\b\b\b\b\b\b\b\b\b\b\b\b\b\b\b\b\b\b\b                                    \b\b\b\b\b\b\b\b\b\b\b\b\b\b\b\b\b\b\b\b\b\b\b\b\b\b\b\b\b\b\b\b\b\b\b\b 95% 96982 - images/tacos/611065.jpg\b\b\b\b\b\b\b\b\b\b\b\b\b\b\b\b\b\b\b\b\b\b\b\b\b\b\b\b\b\b\b\b\b\b\b\b                                    \b\b\b\b\b\b\b\b\b\b\b\b\b\b\b\b\b\b\b\b\b\b\b\b\b\b\b\b\b\b\b\b\b\b\b\b 95% 97057 - images/tacos/824157.jpg\b\b\b\b\b\b\b\b\b\b\b\b\b\b\b\b\b\b\b\b\b\b\b\b\b\b\b\b\b\b\b\b\b\b\b\b                                    \b\b\b\b\b\b\b\b\b\b\b\b\b\b\b\b\b\b\b\b\b\b\b\b\b\b\b\b\b\b\b\b\b\b\b\b 96% 97130 - images/takoyaki/1103395.jpg\b\b\b\b\b\b\b\b\b\b\b\b\b\b\b\b\b\b\b\b\b\b\b\b\b\b\b\b\b\b\b\b\b\b\b\b\b\b\b\b                                        \b\b\b\b\b\b\b\b\b\b\b\b\b\b\b\b\b\b\b\b\b\b\b\b\b\b\b\b\b\b\b\b\b\b\b\b\b\b\b\b 96% 97131 - images/takoyaki/1103543.jpg\b\b\b\b\b\b\b\b\b\b\b\b\b\b\b\b\b\b\b\b\b\b\b\b\b\b\b\b\b\b\b\b\b\b\b\b\b\b\b\b                                        \b\b\b\b\b\b\b\b\b\b\b\b\b\b\b\b\b\b\b\b\b\b\b\b\b\b\b\b\b\b\b\b\b\b\b\b\b\b\b\b 96% 97206 - images/takoyaki/137609.jpg\b\b\b\b\b\b\b\b\b\b\b\b\b\b\b\b\b\b\b\b\b\b\b\b\b\b\b\b\b\b\b\b\b\b\b\b\b\b\b                                       \b\b\b\b\b\b\b\b\b\b\b\b\b\b\b\b\b\b\b\b\b\b\b\b\b\b\b\b\b\b\b\b\b\b\b\b\b\b\b 96% 97280 - images/takoyaki/1650493.jpg\b\b\b\b\b\b\b\b\b\b\b\b\b\b\b\b\b\b\b\b\b\b\b\b\b\b\b\b\b\b\b\b\b\b\b\b\b\b\b\b                                        \b\b\b\b\b\b\b\b\b\b\b\b\b\b\b\b\b\b\b\b\b\b\b\b\b\b\b\b\b\b\b\b\b\b\b\b\b\b\b\b 96% 97353 - images/takoyaki/1866643.jpg\b\b\b\b\b\b\b\b\b\b\b\b\b\b\b\b\b\b\b\b\b\b\b\b\b\b\b\b\b\b\b\b\b\b\b\b\b\b\b\b                                        \b\b\b\b\b\b\b\b\b\b\b\b\b\b\b\b\b\b\b\b\b\b\b\b\b\b\b\b\b\b\b\b\b\b\b\b\b\b\b\b 96% 97429 - images/takoyaki/2156455.jpg\b\b\b\b\b\b\b\b\b\b\b\b\b\b\b\b\b\b\b\b\b\b\b\b\b\b\b\b\b\b\b\b\b\b\b\b\b\b\b\b                                        \b\b\b\b\b\b\b\b\b\b\b\b\b\b\b\b\b\b\b\b\b\b\b\b\b\b\b\b\b\b\b\b\b\b\b\b\b\b\b\b 96% 97430 - images/takoyaki/2156809.jpg\b\b\b\b\b\b\b\b\b\b\b\b\b\b\b\b\b\b\b\b\b\b\b\b\b\b\b\b\b\b\b\b\b\b\b\b\b\b\b\b                                        \b\b\b\b\b\b\b\b\b\b\b\b\b\b\b\b\b\b\b\b\b\b\b\b\b\b\b\b\b\b\b\b\b\b\b\b\b\b\b\b 96% 97508 - images/takoyaki/2456953.jpg\b\b\b\b\b\b\b\b\b\b\b\b\b\b\b\b\b\b\b\b\b\b\b\b\b\b\b\b\b\b\b\b\b\b\b\b\b\b\b\b                                        \b\b\b\b\b\b\b\b\b\b\b\b\b\b\b\b\b\b\b\b\b\b\b\b\b\b\b\b\b\b\b\b\b\b\b\b\b\b\b\b 96% 97586 - images/takoyaki/270382.jpg\b\b\b\b\b\b\b\b\b\b\b\b\b\b\b\b\b\b\b\b\b\b\b\b\b\b\b\b\b\b\b\b\b\b\b\b\b\b\b                                       \b\b\b\b\b\b\b\b\b\b\b\b\b\b\b\b\b\b\b\b\b\b\b\b\b\b\b\b\b\b\b\b\b\b\b\b\b\b\b 96% 97658 - images/takoyaki/2923337.jpg\b\b\b\b\b\b\b\b\b\b\b\b\b\b\b\b\b\b\b\b\b\b\b\b\b\b\b\b\b\b\b\b\b\b\b\b\b\b\b\b                                        \b\b\b\b\b\b\b\b\b\b\b\b\b\b\b\b\b\b\b\b\b\b\b\b\b\b\b\b\b\b\b\b\b\b\b\b\b\b\b\b 96% 97732 - images/takoyaki/3214741.jpg\b\b\b\b\b\b\b\b\b\b\b\b\b\b\b\b\b\b\b\b\b\b\b\b\b\b\b\b\b\b\b\b\b\b\b\b\b\b\b\b                                        \b\b\b\b\b\b\b\b\b\b\b\b\b\b\b\b\b\b\b\b\b\b\b\b\b\b\b\b\b\b\b\b\b\b\b\b\b\b\b\b 96% 97752 - images/takoyaki/3293086.jpg\b\b\b\b\b\b\b\b\b\b\b\b\b\b\b\b\b\b\b\b\b\b\b\b\b\b\b\b\b\b\b\b\b\b\b\b\b\b\b\b                                        \b\b\b\b\b\b\b\b\b\b\b\b\b\b\b\b\b\b\b\b\b\b\b\b\b\b\b\b\b\b\b\b\b\b\b\b\b\b\b\b 96% 97804 - images/takoyaki/3524164.jpg\b\b\b\b\b\b\b\b\b\b\b\b\b\b\b\b\b\b\b\b\b\b\b\b\b\b\b\b\b\b\b\b\b\b\b\b\b\b\b\b                                        \b\b\b\b\b\b\b\b\b\b\b\b\b\b\b\b\b\b\b\b\b\b\b\b\b\b\b\b\b\b\b\b\b\b\b\b\b\b\b\b 96% 97878 - images/takoyaki/3812501.jpg\b\b\b\b\b\b\b\b\b\b\b\b\b\b\b\b\b\b\b\b\b\b\b\b\b\b\b\b\b\b\b\b\b\b\b\b\b\b\b\b                                        \b\b\b\b\b\b\b\b\b\b\b\b\b\b\b\b\b\b\b\b\b\b\b\b\b\b\b\b\b\b\b\b\b\b\b\b\b\b\b\b 96% 97948 - images/takoyaki/520573.jpg\b\b\b\b\b\b\b\b\b\b\b\b\b\b\b\b\b\b\b\b\b\b\b\b\b\b\b\b\b\b\b\b\b\b\b\b\b\b\b                                       \b\b\b\b\b\b\b\b\b\b\b\b\b\b\b\b\b\b\b\b\b\b\b\b\b\b\b\b\b\b\b\b\b\b\b\b\b\b\b 96% 98018 - images/takoyaki/714980.jpg\b\b\b\b\b\b\b\b\b\b\b\b\b\b\b\b\b\b\b\b\b\b\b\b\b\b\b\b\b\b\b\b\b\b\b\b\b\b\b                                       \b\b\b\b\b\b\b\b\b\b\b\b\b\b\b\b\b\b\b\b\b\b\b\b\b\b\b\b\b\b\b\b\b\b\b\b\b\b\b 97% 98051 - images/takoyaki/837193.jpg\b\b\b\b\b\b\b\b\b\b\b\b\b\b\b\b\b\b\b\b\b\b\b\b\b\b\b\b\b\b\b\b\b\b\b\b\b\b\b                                       \b\b\b\b\b\b\b\b\b\b\b\b\b\b\b\b\b\b\b\b\b\b\b\b\b\b\b\b\b\b\b\b\b\b\b\b\b\b\b 97% 98086 - images/takoyaki/931276.jpg\b\b\b\b\b\b\b\b\b\b\b\b\b\b\b\b\b\b\b\b\b\b\b\b\b\b\b\b\b\b\b\b\b\b\b\b\b\b\b                                       \b\b\b\b\b\b\b\b\b\b\b\b\b\b\b\b\b\b\b\b\b\b\b\b\b\b\b\b\b\b\b\b\b\b\b\b\b\b\b 97% 98166 - images/tiramisu/1233331.jpg\b\b\b\b\b\b\b\b\b\b\b\b\b\b\b\b\b\b\b\b\b\b\b\b\b\b\b\b\b\b\b\b\b\b\b\b\b\b\b\b                                        \b\b\b\b\b\b\b\b\b\b\b\b\b\b\b\b\b\b\b\b\b\b\b\b\b\b\b\b\b\b\b\b\b\b\b\b\b\b\b\b 97% 98246 - images/tiramisu/1537803.jpg\b\b\b\b\b\b\b\b\b\b\b\b\b\b\b\b\b\b\b\b\b\b\b\b\b\b\b\b\b\b\b\b\b\b\b\b\b\b\b\b                                        \b\b\b\b\b\b\b\b\b\b\b\b\b\b\b\b\b\b\b\b\b\b\b\b\b\b\b\b\b\b\b\b\b\b\b\b\b\b\b\b 97% 98331 - images/tiramisu/1832112.jpg\b\b\b\b\b\b\b\b\b\b\b\b\b\b\b\b\b\b\b\b\b\b\b\b\b\b\b\b\b\b\b\b\b\b\b\b\b\b\b\b                                        \b\b\b\b\b\b\b\b\b\b\b\b\b\b\b\b\b\b\b\b\b\b\b\b\b\b\b\b\b\b\b\b\b\b\b\b\b\b\b\b 97% 98332 - images/tiramisu/1833999.jpg\b\b\b\b\b\b\b\b\b\b\b\b\b\b\b\b\b\b\b\b\b\b\b\b\b\b\b\b\b\b\b\b\b\b\b\b\b\b\b\b                                        \b\b\b\b\b\b\b\b\b\b\b\b\b\b\b\b\b\b\b\b\b\b\b\b\b\b\b\b\b\b\b\b\b\b\b\b\b\b\b\b 97% 98413 - images/tiramisu/2171563.jpg\b\b\b\b\b\b\b\b\b\b\b\b\b\b\b\b\b\b\b\b\b\b\b\b\b\b\b\b\b\b\b\b\b\b\b\b\b\b\b\b                                        \b\b\b\b\b\b\b\b\b\b\b\b\b\b\b\b\b\b\b\b\b\b\b\b\b\b\b\b\b\b\b\b\b\b\b\b\b\b\b\b 97% 98495 - images/tiramisu/2445783.jpg\b\b\b\b\b\b\b\b\b\b\b\b\b\b\b\b\b\b\b\b\b\b\b\b\b\b\b\b\b\b\b\b\b\b\b\b\b\b\b\b                                        \b\b\b\b\b\b\b\b\b\b\b\b\b\b\b\b\b\b\b\b\b\b\b\b\b\b\b\b\b\b\b\b\b\b\b\b\b\b\b\b 97% 98584 - images/tiramisu/2746460.jpg\b\b\b\b\b\b\b\b\b\b\b\b\b\b\b\b\b\b\b\b\b\b\b\b\b\b\b\b\b\b\b\b\b\b\b\b\b\b\b\b                                        \b\b\b\b\b\b\b\b\b\b\b\b\b\b\b\b\b\b\b\b\b\b\b\b\b\b\b\b\b\b\b\b\b\b\b\b\b\b\b\b 97% 98585 - images/tiramisu/274756.jpg\b\b\b\b\b\b\b\b\b\b\b\b\b\b\b\b\b\b\b\b\b\b\b\b\b\b\b\b\b\b\b\b\b\b\b\b\b\b\b                                       \b\b\b\b\b\b\b\b\b\b\b\b\b\b\b\b\b\b\b\b\b\b\b\b\b\b\b\b\b\b\b\b\b\b\b\b\b\b\b 97% 98668 - images/tiramisu/3084055.jpg\b\b\b\b\b\b\b\b\b\b\b\b\b\b\b\b\b\b\b\b\b\b\b\b\b\b\b\b\b\b\b\b\b\b\b\b\b\b\b\b                                        \b\b\b\b\b\b\b\b\b\b\b\b\b\b\b\b\b\b\b\b\b\b\b\b\b\b\b\b\b\b\b\b\b\b\b\b\b\b\b\b 97% 98752 - images/tiramisu/3327995.jpg\b\b\b\b\b\b\b\b\b\b\b\b\b\b\b\b\b\b\b\b\b\b\b\b\b\b\b\b\b\b\b\b\b\b\b\b\b\b\b\b                                        \b\b\b\b\b\b\b\b\b\b\b\b\b\b\b\b\b\b\b\b\b\b\b\b\b\b\b\b\b\b\b\b\b\b\b\b\b\b\b\b 97% 98839 - images/tiramisu/3582134.jpg\b\b\b\b\b\b\b\b\b\b\b\b\b\b\b\b\b\b\b\b\b\b\b\b\b\b\b\b\b\b\b\b\b\b\b\b\b\b\b\b                                        \b\b\b\b\b\b\b\b\b\b\b\b\b\b\b\b\b\b\b\b\b\b\b\b\b\b\b\b\b\b\b\b\b\b\b\b\b\b\b\b 97% 98880 - images/tiramisu/3711095.jpg\b\b\b\b\b\b\b\b\b\b\b\b\b\b\b\b\b\b\b\b\b\b\b\b\b\b\b\b\b\b\b\b\b\b\b\b\b\b\b\b                                        \b\b\b\b\b\b\b\b\b\b\b\b\b\b\b\b\b\b\b\b\b\b\b\b\b\b\b\b\b\b\b\b\b\b\b\b\b\b\b\b 97% 98920 - images/tiramisu/3850451.jpg\b\b\b\b\b\b\b\b\b\b\b\b\b\b\b\b\b\b\b\b\b\b\b\b\b\b\b\b\b\b\b\b\b\b\b\b\b\b\b\b                                        \b\b\b\b\b\b\b\b\b\b\b\b\b\b\b\b\b\b\b\b\b\b\b\b\b\b\b\b\b\b\b\b\b\b\b\b\b\b\b\b 98% 99002 - images/tiramisu/64942.jpg\b\b\b\b\b\b\b\b\b\b\b\b\b\b\b\b\b\b\b\b\b\b\b\b\b\b\b\b\b\b\b\b\b\b\b\b\b\b                                      \b\b\b\b\b\b\b\b\b\b\b\b\b\b\b\b\b\b\b\b\b\b\b\b\b\b\b\b\b\b\b\b\b\b\b\b\b\b 98% 99083 - images/tiramisu/925806.jpg\b\b\b\b\b\b\b\b\b\b\b\b\b\b\b\b\b\b\b\b\b\b\b\b\b\b\b\b\b\b\b\b\b\b\b\b\b\b\b                                       \b\b\b\b\b\b\b\b\b\b\b\b\b\b\b\b\b\b\b\b\b\b\b\b\b\b\b\b\b\b\b\b\b\b\b\b\b\b\b 98% 99173 - images/tuna_tartare/1350903.jpg\b\b\b\b\b\b\b\b\b\b\b\b\b\b\b\b\b\b\b\b\b\b\b\b\b\b\b\b\b\b\b\b\b\b\b\b\b\b\b\b\b\b\b\b                                            \b\b\b\b\b\b\b\b\b\b\b\b\b\b\b\b\b\b\b\b\b\b\b\b\b\b\b\b\b\b\b\b\b\b\b\b\b\b\b\b\b\b\b\b 98% 99174 - images/tuna_tartare/1359032.jpg\b\b\b\b\b\b\b\b\b\b\b\b\b\b\b\b\b\b\b\b\b\b\b\b\b\b\b\b\b\b\b\b\b\b\b\b\b\b\b\b\b\b\b\b                                            \b\b\b\b\b\b\b\b\b\b\b\b\b\b\b\b\b\b\b\b\b\b\b\b\b\b\b\b\b\b\b\b\b\b\b\b\b\b\b\b\b\b\b\b 98% 99261 - images/tuna_tartare/1646904.jpg\b\b\b\b\b\b\b\b\b\b\b\b\b\b\b\b\b\b\b\b\b\b\b\b\b\b\b\b\b\b\b\b\b\b\b\b\b\b\b\b\b\b\b\b                                            \b\b\b\b\b\b\b\b\b\b\b\b\b\b\b\b\b\b\b\b\b\b\b\b\b\b\b\b\b\b\b\b\b\b\b\b\b\b\b\b\b\b\b\b 98% 99353 - images/tuna_tartare/1979091.jpg\b\b\b\b\b\b\b\b\b\b\b\b\b\b\b\b\b\b\b\b\b\b\b\b\b\b\b\b\b\b\b\b\b\b\b\b\b\b\b\b\b\b\b\b                                            \b\b\b\b\b\b\b\b\b\b\b\b\b\b\b\b\b\b\b\b\b\b\b\b\b\b\b\b\b\b\b\b\b\b\b\b\b\b\b\b\b\b\b\b 98% 99444 - images/tuna_tartare/2364413.jpg\b\b\b\b\b\b\b\b\b\b\b\b\b\b\b\b\b\b\b\b\b\b\b\b\b\b\b\b\b\b\b\b\b\b\b\b\b\b\b\b\b\b\b\b                                            \b\b\b\b\b\b\b\b\b\b\b\b\b\b\b\b\b\b\b\b\b\b\b\b\b\b\b\b\b\b\b\b\b\b\b\b\b\b\b\b\b\b\b\b 98% 99445 - images/tuna_tartare/236576.jpg\b\b\b\b\b\b\b\b\b\b\b\b\b\b\b\b\b\b\b\b\b\b\b\b\b\b\b\b\b\b\b\b\b\b\b\b\b\b\b\b\b\b\b                                           \b\b\b\b\b\b\b\b\b\b\b\b\b\b\b\b\b\b\b\b\b\b\b\b\b\b\b\b\b\b\b\b\b\b\b\b\b\b\b\b\b\b\b 98% 99530 - images/tuna_tartare/2663212.jpg\b\b\b\b\b\b\b\b\b\b\b\b\b\b\b\b\b\b\b\b\b\b\b\b\b\b\b\b\b\b\b\b\b\b\b\b\b\b\b\b\b\b\b\b                                            \b\b\b\b\b\b\b\b\b\b\b\b\b\b\b\b\b\b\b\b\b\b\b\b\b\b\b\b\b\b\b\b\b\b\b\b\b\b\b\b\b\b\b\b 98% 99619 - images/tuna_tartare/3021918.jpg\b\b\b\b\b\b\b\b\b\b\b\b\b\b\b\b\b\b\b\b\b\b\b\b\b\b\b\b\b\b\b\b\b\b\b\b\b\b\b\b\b\b\b\b                                            \b\b\b\b\b\b\b\b\b\b\b\b\b\b\b\b\b\b\b\b\b\b\b\b\b\b\b\b\b\b\b\b\b\b\b\b\b\b\b\b\b\b\b\b 98% 99709 - images/tuna_tartare/3321598.jpg\b\b\b\b\b\b\b\b\b\b\b\b\b\b\b\b\b\b\b\b\b\b\b\b\b\b\b\b\b\b\b\b\b\b\b\b\b\b\b\b\b\b\b\b                                            \b\b\b\b\b\b\b\b\b\b\b\b\b\b\b\b\b\b\b\b\b\b\b\b\b\b\b\b\b\b\b\b\b\b\b\b\b\b\b\b\b\b\b\b 98% 99798 - images/tuna_tartare/3622691.jpg\b\b\b\b\b\b\b\b\b\b\b\b\b\b\b\b\b\b\b\b\b\b\b\b\b\b\b\b\b\b\b\b\b\b\b\b\b\b\b\b\b\b\b\b                                            \b\b\b\b\b\b\b\b\b\b\b\b\b\b\b\b\b\b\b\b\b\b\b\b\b\b\b\b\b\b\b\b\b\b\b\b\b\b\b\b\b\b\b\b 98% 99799 - images/tuna_tartare/3624042.jpg\b\b\b\b\b\b\b\b\b\b\b\b\b\b\b\b\b\b\b\b\b\b\b\b\b\b\b\b\b\b\b\b\b\b\b\b\b\b\b\b\b\b\b\b                                            \b\b\b\b\b\b\b\b\b\b\b\b\b\b\b\b\b\b\b\b\b\b\b\b\b\b\b\b\b\b\b\b\b\b\b\b\b\b\b\b\b\b\b\b 98% 99892 - images/tuna_tartare/3867409.jpg\b\b\b\b\b\b\b\b\b\b\b\b\b\b\b\b\b\b\b\b\b\b\b\b\b\b\b\b\b\b\b\b\b\b\b\b\b\b\b\b\b\b\b\b                                            \b\b\b\b\b\b\b\b\b\b\b\b\b\b\b\b\b\b\b\b\b\b\b\b\b\b\b\b\b\b\b\b\b\b\b\b\b\b\b\b\b\b\b\b 98% 99977 - images/tuna_tartare/605058.jpg\b\b\b\b\b\b\b\b\b\b\b\b\b\b\b\b\b\b\b\b\b\b\b\b\b\b\b\b\b\b\b\b\b\b\b\b\b\b\b\b\b\b\b                                           \b\b\b\b\b\b\b\b\b\b\b\b\b\b\b\b\b\b\b\b\b\b\b\b\b\b\b\b\b\b\b\b\b\b\b\b\b\b\b\b\b\b\b 98% 100061 - images/tuna_tartare/814761.jpg\b\b\b\b\b\b\b\b\b\b\b\b\b\b\b\b\b\b\b\b\b\b\b\b\b\b\b\b\b\b\b\b\b\b\b\b\b\b\b\b\b\b\b\b                                            \b\b\b\b\b\b\b\b\b\b\b\b\b\b\b\b\b\b\b\b\b\b\b\b\b\b\b\b\b\b\b\b\b\b\b\b\b\b\b\b\b\b\b\b 99% 100086 - images/tuna_tartare/959535.jpg\b\b\b\b\b\b\b\b\b\b\b\b\b\b\b\b\b\b\b\b\b\b\b\b\b\b\b\b\b\b\b\b\b\b\b\b\b\b\b\b\b\b\b\b                                            \b\b\b\b\b\b\b\b\b\b\b\b\b\b\b\b\b\b\b\b\b\b\b\b\b\b\b\b\b\b\b\b\b\b\b\b\b\b\b\b\b\b\b\b 99% 100145 - images/waffles/1145486.jpg\b\b\b\b\b\b\b\b\b\b\b\b\b\b\b\b\b\b\b\b\b\b\b\b\b\b\b\b\b\b\b\b\b\b\b\b\b\b\b\b                                        \b\b\b\b\b\b\b\b\b\b\b\b\b\b\b\b\b\b\b\b\b\b\b\b\b\b\b\b\b\b\b\b\b\b\b\b\b\b\b\b 99% 100224 - images/waffles/1430889.jpg\b\b\b\b\b\b\b\b\b\b\b\b\b\b\b\b\b\b\b\b\b\b\b\b\b\b\b\b\b\b\b\b\b\b\b\b\b\b\b\b                                        \b\b\b\b\b\b\b\b\b\b\b\b\b\b\b\b\b\b\b\b\b\b\b\b\b\b\b\b\b\b\b\b\b\b\b\b\b\b\b\b 99% 100307 - images/waffles/1676746.jpg\b\b\b\b\b\b\b\b\b\b\b\b\b\b\b\b\b\b\b\b\b\b\b\b\b\b\b\b\b\b\b\b\b\b\b\b\b\b\b\b                                        \b\b\b\b\b\b\b\b\b\b\b\b\b\b\b\b\b\b\b\b\b\b\b\b\b\b\b\b\b\b\b\b\b\b\b\b\b\b\b\b 99% 100308 - images/waffles/1686783.jpg\b\b\b\b\b\b\b\b\b\b\b\b\b\b\b\b\b\b\b\b\b\b\b\b\b\b\b\b\b\b\b\b\b\b\b\b\b\b\b\b                                        \b\b\b\b\b\b\b\b\b\b\b\b\b\b\b\b\b\b\b\b\b\b\b\b\b\b\b\b\b\b\b\b\b\b\b\b\b\b\b\b 99% 100386 - images/waffles/1941638.jpg\b\b\b\b\b\b\b\b\b\b\b\b\b\b\b\b\b\b\b\b\b\b\b\b\b\b\b\b\b\b\b\b\b\b\b\b\b\b\b\b                                        \b\b\b\b\b\b\b\b\b\b\b\b\b\b\b\b\b\b\b\b\b\b\b\b\b\b\b\b\b\b\b\b\b\b\b\b\b\b\b\b 99% 100466 - images/waffles/2215668.jpg\b\b\b\b\b\b\b\b\b\b\b\b\b\b\b\b\b\b\b\b\b\b\b\b\b\b\b\b\b\b\b\b\b\b\b\b\b\b\b\b                                        \b\b\b\b\b\b\b\b\b\b\b\b\b\b\b\b\b\b\b\b\b\b\b\b\b\b\b\b\b\b\b\b\b\b\b\b\b\b\b\b 99% 100544 - images/waffles/2525823.jpg\b\b\b\b\b\b\b\b\b\b\b\b\b\b\b\b\b\b\b\b\b\b\b\b\b\b\b\b\b\b\b\b\b\b\b\b\b\b\b\b                                        \b\b\b\b\b\b\b\b\b\b\b\b\b\b\b\b\b\b\b\b\b\b\b\b\b\b\b\b\b\b\b\b\b\b\b\b\b\b\b\b 99% 100625 - images/waffles/2859801.jpg\b\b\b\b\b\b\b\b\b\b\b\b\b\b\b\b\b\b\b\b\b\b\b\b\b\b\b\b\b\b\b\b\b\b\b\b\b\b\b\b                                        \b\b\b\b\b\b\b\b\b\b\b\b\b\b\b\b\b\b\b\b\b\b\b\b\b\b\b\b\b\b\b\b\b\b\b\b\b\b\b\b 99% 100626 - images/waffles/2864238.jpg\b\b\b\b\b\b\b\b\b\b\b\b\b\b\b\b\b\b\b\b\b\b\b\b\b\b\b\b\b\b\b\b\b\b\b\b\b\b\b\b                                        \b\b\b\b\b\b\b\b\b\b\b\b\b\b\b\b\b\b\b\b\b\b\b\b\b\b\b\b\b\b\b\b\b\b\b\b\b\b\b\b 99% 100705 - images/waffles/3138.jpg\b\b\b\b\b\b\b\b\b\b\b\b\b\b\b\b\b\b\b\b\b\b\b\b\b\b\b\b\b\b\b\b\b\b\b\b\b                                     \b\b\b\b\b\b\b\b\b\b\b\b\b\b\b\b\b\b\b\b\b\b\b\b\b\b\b\b\b\b\b\b\b\b\b\b\b 99% 100781 - images/waffles/3402251.jpg\b\b\b\b\b\b\b\b\b\b\b\b\b\b\b\b\b\b\b\b\b\b\b\b\b\b\b\b\b\b\b\b\b\b\b\b\b\b\b\b                                        \b\b\b\b\b\b\b\b\b\b\b\b\b\b\b\b\b\b\b\b\b\b\b\b\b\b\b\b\b\b\b\b\b\b\b\b\b\b\b\b 99% 100865 - images/waffles/3752380.jpg\b\b\b\b\b\b\b\b\b\b\b\b\b\b\b\b\b\b\b\b\b\b\b\b\b\b\b\b\b\b\b\b\b\b\b\b\b\b\b\b                                        \b\b\b\b\b\b\b\b\b\b\b\b\b\b\b\b\b\b\b\b\b\b\b\b\b\b\b\b\b\b\b\b\b\b\b\b\b\b\b\b 99% 100946 - images/waffles/531515.jpg\b\b\b\b\b\b\b\b\b\b\b\b\b\b\b\b\b\b\b\b\b\b\b\b\b\b\b\b\b\b\b\b\b\b\b\b\b\b\b                                       \b\b\b\b\b\b\b\b\b\b\b\b\b\b\b\b\b\b\b\b\b\b\b\b\b\b\b\b\b\b\b\b\b\b\b\b\b\b\b 99% 101005 - images/waffles/731632.jpg\b\b\b\b\b\b\b\b\b\b\b\b\b\b\b\b\b\b\b\b\b\b\b\b\b\b\b\b\b\b\b\b\b\b\b\b\b\b\b                                       \b\b\b\b\b\b\b\b\b\b\b\b\b\b\b\b\b\b\b\b\b\b\b\b\b\b\b\b\b\b\b\b\b\b\b\b\b\b\b 99% 101025 - images/waffles/777619.jpg\b\b\b\b\b\b\b\b\b\b\b\b\b\b\b\b\b\b\b\b\b\b\b\b\b\b\b\b\b\b\b\b\b\b\b\b\b\b\b                                       \b\b\b\b\b\b\b\b\b\b\b\b\b\b\b\b\b\b\b\b\b\b\b\b\b\b\b\b\b\b\b\b\b\b\b\b\b\b\bEverything is Ok\n",
            "\n",
            "Folders: 102\n",
            "Files: 101000\n",
            "Size:       5116621947\n",
            "Compressed: 4942431249\n"
          ],
          "name": "stdout"
        }
      ]
    },
    {
      "cell_type": "code",
      "metadata": {
        "colab": {
          "base_uri": "https://localhost:8080/"
        },
        "id": "9RSCOdfZKNbl",
        "outputId": "70061908-a71e-4985-9749-d74da977ef13"
      },
      "source": [
        "!pip install split-folders\r\n",
        "import splitfolders\r\n",
        "splitfolders.ratio('/content/images', output=\"output\", seed=1337, ratio=(.7, .2, .1)) "
      ],
      "execution_count": 7,
      "outputs": [
        {
          "output_type": "stream",
          "text": [
            "Collecting split-folders\n",
            "  Downloading https://files.pythonhosted.org/packages/b8/5f/3c2b2f7ea5e047c8cdc3bb00ae582c5438fcdbbedcc23b3cc1c2c7aae642/split_folders-0.4.3-py3-none-any.whl\n",
            "Installing collected packages: split-folders\n",
            "Successfully installed split-folders-0.4.3\n"
          ],
          "name": "stdout"
        },
        {
          "output_type": "stream",
          "text": [
            "Copying files: 101000 files [02:26, 689.36 files/s]\n"
          ],
          "name": "stderr"
        }
      ]
    },
    {
      "cell_type": "markdown",
      "metadata": {
        "id": "g97IGfJkjvyP"
      },
      "source": [
        "**Baseline Model Development**"
      ]
    },
    {
      "cell_type": "markdown",
      "metadata": {
        "id": "fXnM1OeMjvkC"
      },
      "source": [
        "Model 1 - Simple Model"
      ]
    },
    {
      "cell_type": "code",
      "metadata": {
        "colab": {
          "base_uri": "https://localhost:8080/"
        },
        "id": "sxb5VB_ZkT4W",
        "outputId": "a719a073-b4b9-435b-8f08-326b8fef7558"
      },
      "source": [
        "train_datagen = ImageDataGenerator(\r\n",
        "                                  rescale = 1./255.)\r\n",
        "\r\n",
        "valid_datagen = ImageDataGenerator(rescale = 1./255)\r\n",
        "\r\n",
        "test_datagen = ImageDataGenerator(rescale = 1./255)\r\n",
        "\r\n",
        "train_generator = train_datagen.flow_from_directory(directory=\"/content/output/train\",\r\n",
        "                                                    subset=\"training\",\r\n",
        "                                                    batch_size=64,\r\n",
        "                                                    shuffle=True,\r\n",
        "                                                    class_mode=\"categorical\",\r\n",
        "                                                    target_size=(64,64),\r\n",
        "                                                    seed=42)\r\n",
        "\r\n",
        "\r\n",
        "\r\n",
        "valid_generator=valid_datagen.flow_from_directory(directory=\"/content/output/val\",\r\n",
        "                                                  batch_size=64,\r\n",
        "                                                  shuffle=True,\r\n",
        "                                                  class_mode=\"categorical\",\r\n",
        "                                                  target_size=(64,64),\r\n",
        "                                                  seed=42)\r\n",
        "\r\n"
      ],
      "execution_count": null,
      "outputs": [
        {
          "output_type": "stream",
          "text": [
            "Found 70700 images belonging to 101 classes.\n",
            "Found 20200 images belonging to 101 classes.\n"
          ],
          "name": "stdout"
        }
      ]
    },
    {
      "cell_type": "code",
      "metadata": {
        "colab": {
          "base_uri": "https://localhost:8080/"
        },
        "id": "bMZ61toPkT1E",
        "outputId": "302d78bb-3acb-4e12-9fea-7ce63fc79a3b"
      },
      "source": [
        "X_train, y_train = train_generator.next()\r\n",
        "#Input Layer\r\n",
        "baseline_model_1 = Sequential()\r\n",
        "\r\n",
        "baseline_model_1.add(Conv2D(filters=128, kernel_size=(3, 3), activation='relu', padding='valid', input_shape=X_train.shape[1:]))\r\n",
        "baseline_model_1.add(MaxPooling2D(pool_size=(2, 2), strides=(2,2)))\r\n",
        "\r\n",
        "# MLP - input layer:\r\n",
        "baseline_model_1.add(Flatten())\r\n",
        "# MLP - hidden layer:\r\n",
        "baseline_model_1.add(Dense(2048, activation='relu'))\r\n",
        "\r\n",
        "# MLP - output layer:\r\n",
        "baseline_model_1.add(Dense(y_train.shape[1], activation='softmax'))\r\n",
        "\r\n",
        "# Check built model:\r\n",
        "baseline_model_1.summary()"
      ],
      "execution_count": null,
      "outputs": [
        {
          "output_type": "stream",
          "text": [
            "Model: \"sequential\"\n",
            "_________________________________________________________________\n",
            "Layer (type)                 Output Shape              Param #   \n",
            "=================================================================\n",
            "conv2d (Conv2D)              (None, 62, 62, 128)       3584      \n",
            "_________________________________________________________________\n",
            "max_pooling2d (MaxPooling2D) (None, 31, 31, 128)       0         \n",
            "_________________________________________________________________\n",
            "flatten (Flatten)            (None, 123008)            0         \n",
            "_________________________________________________________________\n",
            "dense (Dense)                (None, 2048)              251922432 \n",
            "_________________________________________________________________\n",
            "dense_1 (Dense)              (None, 101)               206949    \n",
            "=================================================================\n",
            "Total params: 252,132,965\n",
            "Trainable params: 252,132,965\n",
            "Non-trainable params: 0\n",
            "_________________________________________________________________\n"
          ],
          "name": "stdout"
        }
      ]
    },
    {
      "cell_type": "code",
      "metadata": {
        "id": "yht656TKlytu"
      },
      "source": [
        "opt_1 = Adam()\r\n",
        "\r\n",
        "baseline_model_1.compile(loss='categorical_crossentropy',\r\n",
        "              optimizer=opt_1,\r\n",
        "              metrics=['acc'])"
      ],
      "execution_count": null,
      "outputs": []
    },
    {
      "cell_type": "code",
      "metadata": {
        "colab": {
          "base_uri": "https://localhost:8080/"
        },
        "id": "62uPuYyulyqG",
        "outputId": "b906cfaf-888a-418b-c687-c57e0b33fedb"
      },
      "source": [
        "X_val, y_val = valid_generator.next()\r\n",
        "early_stop = EarlyStopping(patience=30, monitor='val_loss', mode='min', restore_best_weights=True)\r\n",
        "\r\n",
        "\r\n",
        "history_baseline_model_1 = baseline_model_1.fit_generator(train_generator,\r\n",
        "                              steps_per_epoch=160, #steps_per_epoch,\r\n",
        "                              epochs=100,\r\n",
        "                              validation_data=valid_generator,\r\n",
        "                              validation_steps=10, #validation_steps,\r\n",
        "                              callbacks=[early_stop],\r\n",
        "                              shuffle= True\r\n",
        "                             )\r\n",
        "\r\n",
        "baseline_model_1.save('food_baseline_model_1.h5')"
      ],
      "execution_count": null,
      "outputs": [
        {
          "output_type": "stream",
          "text": [
            "/usr/local/lib/python3.6/dist-packages/tensorflow/python/keras/engine/training.py:1844: UserWarning: `Model.fit_generator` is deprecated and will be removed in a future version. Please use `Model.fit`, which supports generators.\n",
            "  warnings.warn('`Model.fit_generator` is deprecated and '\n"
          ],
          "name": "stderr"
        },
        {
          "output_type": "stream",
          "text": [
            "Epoch 1/100\n",
            "160/160 [==============================] - 64s 357ms/step - loss: 8.0449 - acc: 0.0153 - val_loss: 4.5351 - val_acc: 0.0281\n",
            "Epoch 2/100\n",
            "160/160 [==============================] - 55s 342ms/step - loss: 4.4400 - acc: 0.0391 - val_loss: 4.2706 - val_acc: 0.0547\n",
            "Epoch 3/100\n",
            "160/160 [==============================] - 53s 334ms/step - loss: 4.2138 - acc: 0.0716 - val_loss: 4.2398 - val_acc: 0.0750\n",
            "Epoch 4/100\n",
            "160/160 [==============================] - 51s 320ms/step - loss: 4.0351 - acc: 0.1058 - val_loss: 4.1751 - val_acc: 0.0922\n",
            "Epoch 5/100\n",
            "160/160 [==============================] - 49s 308ms/step - loss: 3.8174 - acc: 0.1535 - val_loss: 3.9599 - val_acc: 0.1375\n",
            "Epoch 6/100\n",
            "160/160 [==============================] - 48s 300ms/step - loss: 3.5980 - acc: 0.2102 - val_loss: 4.0499 - val_acc: 0.1078\n",
            "Epoch 7/100\n",
            "160/160 [==============================] - 47s 295ms/step - loss: 3.3161 - acc: 0.2763 - val_loss: 3.9403 - val_acc: 0.1219\n",
            "Epoch 8/100\n",
            "160/160 [==============================] - 49s 304ms/step - loss: 3.0752 - acc: 0.3259 - val_loss: 4.2023 - val_acc: 0.1000\n",
            "Epoch 9/100\n",
            "160/160 [==============================] - 48s 298ms/step - loss: 2.8703 - acc: 0.3767 - val_loss: 4.0100 - val_acc: 0.1031\n",
            "Epoch 10/100\n",
            "160/160 [==============================] - 48s 298ms/step - loss: 2.6450 - acc: 0.4267 - val_loss: 4.1467 - val_acc: 0.1016\n",
            "Epoch 11/100\n",
            "160/160 [==============================] - 48s 297ms/step - loss: 2.3960 - acc: 0.4877 - val_loss: 4.1251 - val_acc: 0.1250\n",
            "Epoch 12/100\n",
            "160/160 [==============================] - 47s 291ms/step - loss: 2.1769 - acc: 0.5307 - val_loss: 4.3282 - val_acc: 0.1063\n",
            "Epoch 13/100\n",
            "160/160 [==============================] - 47s 292ms/step - loss: 1.9868 - acc: 0.5729 - val_loss: 4.3660 - val_acc: 0.1109\n",
            "Epoch 14/100\n",
            "160/160 [==============================] - 46s 285ms/step - loss: 1.7734 - acc: 0.6264 - val_loss: 4.3228 - val_acc: 0.1437\n",
            "Epoch 15/100\n",
            "160/160 [==============================] - 45s 281ms/step - loss: 1.6334 - acc: 0.6551 - val_loss: 4.4442 - val_acc: 0.1297\n",
            "Epoch 16/100\n",
            "160/160 [==============================] - 45s 279ms/step - loss: 1.4058 - acc: 0.7088 - val_loss: 4.3971 - val_acc: 0.1297\n",
            "Epoch 17/100\n",
            "160/160 [==============================] - 45s 278ms/step - loss: 1.3055 - acc: 0.7351 - val_loss: 4.5863 - val_acc: 0.1359\n",
            "Epoch 18/100\n",
            "160/160 [==============================] - 45s 278ms/step - loss: 1.1659 - acc: 0.7554 - val_loss: 4.7527 - val_acc: 0.1203\n",
            "Epoch 19/100\n",
            "160/160 [==============================] - 44s 277ms/step - loss: 1.0545 - acc: 0.7850 - val_loss: 4.9143 - val_acc: 0.1063\n",
            "Epoch 20/100\n",
            "160/160 [==============================] - 44s 276ms/step - loss: 0.9397 - acc: 0.8060 - val_loss: 4.7404 - val_acc: 0.1109\n",
            "Epoch 21/100\n",
            "160/160 [==============================] - 44s 275ms/step - loss: 0.8322 - acc: 0.8316 - val_loss: 4.7530 - val_acc: 0.1359\n",
            "Epoch 22/100\n",
            "160/160 [==============================] - 44s 275ms/step - loss: 0.7387 - acc: 0.8501 - val_loss: 4.9272 - val_acc: 0.1266\n",
            "Epoch 23/100\n",
            "160/160 [==============================] - 45s 280ms/step - loss: 0.6760 - acc: 0.8625 - val_loss: 4.9622 - val_acc: 0.1141\n",
            "Epoch 24/100\n",
            "160/160 [==============================] - 45s 283ms/step - loss: 0.5906 - acc: 0.8873 - val_loss: 5.2923 - val_acc: 0.1281\n",
            "Epoch 25/100\n",
            "160/160 [==============================] - 44s 272ms/step - loss: 0.5354 - acc: 0.8907 - val_loss: 5.0615 - val_acc: 0.1094\n",
            "Epoch 26/100\n",
            "160/160 [==============================] - 44s 272ms/step - loss: 0.4711 - acc: 0.9053 - val_loss: 5.2792 - val_acc: 0.1125\n",
            "Epoch 27/100\n",
            "160/160 [==============================] - 43s 271ms/step - loss: 0.4119 - acc: 0.9179 - val_loss: 5.6067 - val_acc: 0.1063\n",
            "Epoch 28/100\n",
            "160/160 [==============================] - 44s 276ms/step - loss: 0.4197 - acc: 0.9181 - val_loss: 5.6929 - val_acc: 0.1125\n",
            "Epoch 29/100\n",
            "160/160 [==============================] - 44s 277ms/step - loss: 0.3429 - acc: 0.9337 - val_loss: 5.2128 - val_acc: 0.1156\n",
            "Epoch 30/100\n",
            "160/160 [==============================] - 44s 273ms/step - loss: 0.2854 - acc: 0.9476 - val_loss: 5.5872 - val_acc: 0.1016\n",
            "Epoch 31/100\n",
            "160/160 [==============================] - 44s 277ms/step - loss: 0.2859 - acc: 0.9455 - val_loss: 5.9770 - val_acc: 0.1047\n",
            "Epoch 32/100\n",
            "160/160 [==============================] - 44s 272ms/step - loss: 0.2777 - acc: 0.9506 - val_loss: 6.1469 - val_acc: 0.0906\n",
            "Epoch 33/100\n",
            "160/160 [==============================] - 43s 269ms/step - loss: 0.2115 - acc: 0.9590 - val_loss: 6.0087 - val_acc: 0.1250\n",
            "Epoch 34/100\n",
            "160/160 [==============================] - 43s 267ms/step - loss: 0.2129 - acc: 0.9628 - val_loss: 6.2570 - val_acc: 0.1031\n",
            "Epoch 35/100\n",
            "160/160 [==============================] - 43s 267ms/step - loss: 0.2068 - acc: 0.9627 - val_loss: 6.1354 - val_acc: 0.1109\n",
            "Epoch 36/100\n",
            "160/160 [==============================] - 43s 266ms/step - loss: 0.1778 - acc: 0.9646 - val_loss: 6.3749 - val_acc: 0.1141\n",
            "Epoch 37/100\n",
            "160/160 [==============================] - 43s 267ms/step - loss: 0.1535 - acc: 0.9711 - val_loss: 6.3503 - val_acc: 0.0797\n"
          ],
          "name": "stdout"
        }
      ]
    },
    {
      "cell_type": "markdown",
      "metadata": {
        "id": "MCBokBRToi1J"
      },
      "source": [
        "Model 2 - Add Layers"
      ]
    },
    {
      "cell_type": "code",
      "metadata": {
        "colab": {
          "base_uri": "https://localhost:8080/"
        },
        "id": "8OFJxji7kTvi",
        "outputId": "cd50bf2d-8b6a-462e-c2ad-b5779ecf9620"
      },
      "source": [
        "train_datagen_2 = ImageDataGenerator(\r\n",
        "                                  rescale = 1./255.)\r\n",
        "\r\n",
        "valid_datagen_2 = ImageDataGenerator(rescale = 1./255)\r\n",
        "\r\n",
        "test_datagen_2 = ImageDataGenerator(rescale = 1./255)\r\n",
        "\r\n",
        "train_generator_2 = train_datagen_2.flow_from_directory(directory=\"/content/output/train\",\r\n",
        "                                                    subset=\"training\",\r\n",
        "                                                    batch_size=64,\r\n",
        "                                                    shuffle=True,\r\n",
        "                                                    class_mode=\"categorical\",\r\n",
        "                                                    target_size=(64,64),\r\n",
        "                                                    seed=42)\r\n",
        "\r\n",
        "\r\n",
        "\r\n",
        "valid_generator_2 = valid_datagen_2.flow_from_directory(directory=\"/content/output/val\",\r\n",
        "                                                  batch_size=64,\r\n",
        "                                                  shuffle=True,\r\n",
        "                                                  class_mode=\"categorical\",\r\n",
        "                                                  target_size=(64,64),\r\n",
        "                                                  seed=42)\r\n"
      ],
      "execution_count": null,
      "outputs": [
        {
          "output_type": "stream",
          "text": [
            "Found 70700 images belonging to 101 classes.\n",
            "Found 20200 images belonging to 101 classes.\n"
          ],
          "name": "stdout"
        }
      ]
    },
    {
      "cell_type": "code",
      "metadata": {
        "colab": {
          "base_uri": "https://localhost:8080/"
        },
        "id": "4RZ-sbV4oSBd",
        "outputId": "475f36b1-c643-41ca-cc76-3d41bad944f3"
      },
      "source": [
        "X_train, y_train = train_generator_2.next()\r\n",
        "#Input Layer\r\n",
        "baseline_model_2 = Sequential()\r\n",
        "\r\n",
        "baseline_model_2.add(Conv2D(filters=128, kernel_size=(3, 3), activation='relu', padding='valid', input_shape=X_train.shape[1:]))\r\n",
        "baseline_model_2.add(MaxPooling2D(pool_size=(2, 2), strides=(2,2)))\r\n",
        "\r\n",
        "baseline_model_2.add(Conv2D(filters=256, kernel_size=(3, 3), activation='relu', padding='valid'))\r\n",
        "baseline_model_2.add(MaxPooling2D(pool_size=(2, 2), strides=(2,2)))\r\n",
        "\r\n",
        "# MLP - input layer:\r\n",
        "baseline_model_2.add(Flatten())\r\n",
        "# MLP - hidden layer:\r\n",
        "baseline_model_2.add(Dense(2048, activation='relu'))\r\n",
        "\r\n",
        "\r\n",
        "# MLP - output layer:\r\n",
        "baseline_model_2.add(Dense(y_train.shape[1], activation='softmax'))\r\n",
        "\r\n",
        "# Check built model:\r\n",
        "baseline_model_2.summary()"
      ],
      "execution_count": null,
      "outputs": [
        {
          "output_type": "stream",
          "text": [
            "Model: \"sequential_1\"\n",
            "_________________________________________________________________\n",
            "Layer (type)                 Output Shape              Param #   \n",
            "=================================================================\n",
            "conv2d_1 (Conv2D)            (None, 62, 62, 128)       3584      \n",
            "_________________________________________________________________\n",
            "max_pooling2d_1 (MaxPooling2 (None, 31, 31, 128)       0         \n",
            "_________________________________________________________________\n",
            "conv2d_2 (Conv2D)            (None, 29, 29, 256)       295168    \n",
            "_________________________________________________________________\n",
            "max_pooling2d_2 (MaxPooling2 (None, 14, 14, 256)       0         \n",
            "_________________________________________________________________\n",
            "flatten_1 (Flatten)          (None, 50176)             0         \n",
            "_________________________________________________________________\n",
            "dense_2 (Dense)              (None, 2048)              102762496 \n",
            "_________________________________________________________________\n",
            "dense_3 (Dense)              (None, 101)               206949    \n",
            "=================================================================\n",
            "Total params: 103,268,197\n",
            "Trainable params: 103,268,197\n",
            "Non-trainable params: 0\n",
            "_________________________________________________________________\n"
          ],
          "name": "stdout"
        }
      ]
    },
    {
      "cell_type": "code",
      "metadata": {
        "id": "AxFkxM4WoR42"
      },
      "source": [
        "opt_2 = Adam()\r\n",
        "\r\n",
        "baseline_model_2.compile(loss='categorical_crossentropy',\r\n",
        "              optimizer=opt_2,\r\n",
        "              metrics=['acc'])"
      ],
      "execution_count": null,
      "outputs": []
    },
    {
      "cell_type": "code",
      "metadata": {
        "colab": {
          "base_uri": "https://localhost:8080/"
        },
        "id": "k6_E0rxBoRxo",
        "outputId": "8b9efeb9-10d6-42b2-d78c-2258773f2a21"
      },
      "source": [
        "X_val, y_val = valid_generator_2.next()\r\n",
        "early_stop = EarlyStopping(patience=30, monitor='val_loss', mode='min', restore_best_weights=True)\r\n",
        "\r\n",
        "\r\n",
        "history_baseline_model_2 = baseline_model_2.fit_generator(train_generator_2,\r\n",
        "                              steps_per_epoch=160, #steps_per_epoch,\r\n",
        "                              epochs=100,\r\n",
        "                              validation_data=valid_generator_2,\r\n",
        "                              validation_steps=10, #validation_steps,\r\n",
        "                              callbacks=[early_stop],\r\n",
        "                              shuffle= True\r\n",
        "                             )\r\n",
        "\r\n",
        "baseline_model_2.save('food_baseline_model_2.h5')"
      ],
      "execution_count": null,
      "outputs": [
        {
          "output_type": "stream",
          "text": [
            "/usr/local/lib/python3.6/dist-packages/tensorflow/python/keras/engine/training.py:1844: UserWarning: `Model.fit_generator` is deprecated and will be removed in a future version. Please use `Model.fit`, which supports generators.\n",
            "  warnings.warn('`Model.fit_generator` is deprecated and '\n"
          ],
          "name": "stderr"
        },
        {
          "output_type": "stream",
          "text": [
            "Epoch 1/100\n",
            "160/160 [==============================] - 57s 348ms/step - loss: 4.8019 - acc: 0.0146 - val_loss: 4.5286 - val_acc: 0.0219\n",
            "Epoch 2/100\n",
            "160/160 [==============================] - 53s 328ms/step - loss: 4.4598 - acc: 0.0397 - val_loss: 4.3371 - val_acc: 0.0547\n",
            "Epoch 3/100\n",
            "160/160 [==============================] - 49s 308ms/step - loss: 4.2633 - acc: 0.0606 - val_loss: 4.2741 - val_acc: 0.0703\n",
            "Epoch 4/100\n",
            "160/160 [==============================] - 48s 302ms/step - loss: 4.1500 - acc: 0.0781 - val_loss: 4.1532 - val_acc: 0.0859\n",
            "Epoch 5/100\n",
            "160/160 [==============================] - 46s 289ms/step - loss: 4.0367 - acc: 0.1029 - val_loss: 4.0991 - val_acc: 0.1031\n",
            "Epoch 6/100\n",
            "160/160 [==============================] - 45s 281ms/step - loss: 3.9164 - acc: 0.1204 - val_loss: 4.0028 - val_acc: 0.1016\n",
            "Epoch 7/100\n",
            "160/160 [==============================] - 45s 279ms/step - loss: 3.7723 - acc: 0.1444 - val_loss: 3.9216 - val_acc: 0.1219\n",
            "Epoch 8/100\n",
            "160/160 [==============================] - 44s 276ms/step - loss: 3.6208 - acc: 0.1695 - val_loss: 3.9014 - val_acc: 0.1312\n",
            "Epoch 9/100\n",
            "160/160 [==============================] - 44s 273ms/step - loss: 3.5352 - acc: 0.1907 - val_loss: 3.8742 - val_acc: 0.1000\n",
            "Epoch 10/100\n",
            "160/160 [==============================] - 43s 270ms/step - loss: 3.3660 - acc: 0.2285 - val_loss: 3.8175 - val_acc: 0.1562\n",
            "Epoch 11/100\n",
            "160/160 [==============================] - 43s 271ms/step - loss: 3.2511 - acc: 0.2639 - val_loss: 3.9040 - val_acc: 0.1250\n",
            "Epoch 12/100\n",
            "160/160 [==============================] - 43s 269ms/step - loss: 3.0752 - acc: 0.2879 - val_loss: 3.9588 - val_acc: 0.1312\n",
            "Epoch 13/100\n",
            "160/160 [==============================] - 43s 267ms/step - loss: 2.9114 - acc: 0.3398 - val_loss: 4.0621 - val_acc: 0.1281\n",
            "Epoch 14/100\n",
            "160/160 [==============================] - 43s 269ms/step - loss: 2.7532 - acc: 0.3771 - val_loss: 3.9831 - val_acc: 0.1453\n",
            "Epoch 15/100\n",
            "160/160 [==============================] - 43s 267ms/step - loss: 2.5765 - acc: 0.4168 - val_loss: 4.0452 - val_acc: 0.1484\n",
            "Epoch 16/100\n",
            "160/160 [==============================] - 43s 266ms/step - loss: 2.4279 - acc: 0.4561 - val_loss: 4.1158 - val_acc: 0.1266\n",
            "Epoch 17/100\n",
            "160/160 [==============================] - 42s 264ms/step - loss: 2.1998 - acc: 0.5098 - val_loss: 4.4126 - val_acc: 0.1203\n",
            "Epoch 18/100\n",
            "160/160 [==============================] - 42s 264ms/step - loss: 2.1279 - acc: 0.5268 - val_loss: 4.4294 - val_acc: 0.1125\n",
            "Epoch 19/100\n",
            "160/160 [==============================] - 42s 262ms/step - loss: 1.9066 - acc: 0.5769 - val_loss: 4.3859 - val_acc: 0.1203\n",
            "Epoch 20/100\n",
            "160/160 [==============================] - 42s 262ms/step - loss: 1.7180 - acc: 0.6198 - val_loss: 4.5686 - val_acc: 0.1328\n",
            "Epoch 21/100\n",
            "160/160 [==============================] - 42s 263ms/step - loss: 1.6478 - acc: 0.6468 - val_loss: 4.2921 - val_acc: 0.1266\n",
            "Epoch 22/100\n",
            "160/160 [==============================] - 42s 263ms/step - loss: 1.4105 - acc: 0.6924 - val_loss: 4.7593 - val_acc: 0.1094\n",
            "Epoch 23/100\n",
            "160/160 [==============================] - 42s 260ms/step - loss: 1.3524 - acc: 0.6969 - val_loss: 4.9526 - val_acc: 0.1000\n",
            "Epoch 24/100\n",
            "160/160 [==============================] - 42s 261ms/step - loss: 1.1986 - acc: 0.7416 - val_loss: 4.8579 - val_acc: 0.1406\n",
            "Epoch 25/100\n",
            "160/160 [==============================] - 42s 259ms/step - loss: 1.1110 - acc: 0.7638 - val_loss: 5.0818 - val_acc: 0.1266\n",
            "Epoch 26/100\n",
            "160/160 [==============================] - 42s 259ms/step - loss: 0.9989 - acc: 0.7886 - val_loss: 5.7686 - val_acc: 0.1016\n",
            "Epoch 27/100\n",
            "160/160 [==============================] - 41s 258ms/step - loss: 0.9371 - acc: 0.8026 - val_loss: 5.1872 - val_acc: 0.1063\n",
            "Epoch 28/100\n",
            "160/160 [==============================] - 42s 260ms/step - loss: 0.8692 - acc: 0.8146 - val_loss: 5.4300 - val_acc: 0.1141\n",
            "Epoch 29/100\n",
            "160/160 [==============================] - 41s 258ms/step - loss: 0.7741 - acc: 0.8360 - val_loss: 5.4610 - val_acc: 0.1297\n",
            "Epoch 30/100\n",
            "160/160 [==============================] - 41s 257ms/step - loss: 0.6518 - acc: 0.8592 - val_loss: 5.7521 - val_acc: 0.1250\n",
            "Epoch 31/100\n",
            "160/160 [==============================] - 41s 257ms/step - loss: 0.6108 - acc: 0.8682 - val_loss: 5.7623 - val_acc: 0.1281\n",
            "Epoch 32/100\n",
            "160/160 [==============================] - 41s 257ms/step - loss: 0.5703 - acc: 0.8801 - val_loss: 6.2101 - val_acc: 0.1063\n",
            "Epoch 33/100\n",
            "160/160 [==============================] - 41s 257ms/step - loss: 0.5227 - acc: 0.8949 - val_loss: 5.9535 - val_acc: 0.1125\n",
            "Epoch 34/100\n",
            "160/160 [==============================] - 41s 259ms/step - loss: 0.4413 - acc: 0.9098 - val_loss: 6.2203 - val_acc: 0.1203\n",
            "Epoch 35/100\n",
            "160/160 [==============================] - 41s 258ms/step - loss: 0.4283 - acc: 0.9092 - val_loss: 6.1323 - val_acc: 0.1250\n",
            "Epoch 36/100\n",
            "160/160 [==============================] - 41s 259ms/step - loss: 0.3845 - acc: 0.9202 - val_loss: 5.9621 - val_acc: 0.1203\n",
            "Epoch 37/100\n",
            "160/160 [==============================] - 41s 258ms/step - loss: 0.3300 - acc: 0.9268 - val_loss: 6.8170 - val_acc: 0.0891\n",
            "Epoch 38/100\n",
            "160/160 [==============================] - 41s 257ms/step - loss: 0.3408 - acc: 0.9285 - val_loss: 6.5858 - val_acc: 0.1078\n",
            "Epoch 39/100\n",
            "160/160 [==============================] - 41s 256ms/step - loss: 0.3133 - acc: 0.9367 - val_loss: 7.0633 - val_acc: 0.1078\n",
            "Epoch 40/100\n",
            "160/160 [==============================] - 41s 256ms/step - loss: 0.2927 - acc: 0.9396 - val_loss: 6.9911 - val_acc: 0.1156\n"
          ],
          "name": "stdout"
        }
      ]
    },
    {
      "cell_type": "markdown",
      "metadata": {
        "id": "miDNb6sTpbiX"
      },
      "source": [
        "Model 3 - Add Layers"
      ]
    },
    {
      "cell_type": "code",
      "metadata": {
        "colab": {
          "base_uri": "https://localhost:8080/"
        },
        "id": "EGlEE6w5oRjY",
        "outputId": "d193d584-b179-4c1f-e8c8-216bd3437252"
      },
      "source": [
        "train_datagen_3 = ImageDataGenerator(\r\n",
        "                                  rescale = 1./255.)\r\n",
        "\r\n",
        "valid_datagen_3 = ImageDataGenerator(rescale = 1./255)\r\n",
        "\r\n",
        "test_datagen_3 = ImageDataGenerator(rescale = 1./255)\r\n",
        "\r\n",
        "train_generator_3 = train_datagen_3.flow_from_directory(directory=\"/content/output/train\",\r\n",
        "                                                    subset=\"training\",\r\n",
        "                                                    batch_size=64,\r\n",
        "                                                    shuffle=True,\r\n",
        "                                                    class_mode=\"categorical\",\r\n",
        "                                                    target_size=(64,64),\r\n",
        "                                                    seed=42)\r\n",
        "\r\n",
        "\r\n",
        "\r\n",
        "valid_generator_3 = valid_datagen_3.flow_from_directory(directory=\"/content/output/val\",\r\n",
        "                                                  batch_size=64,\r\n",
        "                                                  shuffle=True,\r\n",
        "                                                  class_mode=\"categorical\",\r\n",
        "                                                  target_size=(64,64),\r\n",
        "                                                  seed=42)"
      ],
      "execution_count": null,
      "outputs": [
        {
          "output_type": "stream",
          "text": [
            "Found 70700 images belonging to 101 classes.\n",
            "Found 20200 images belonging to 101 classes.\n"
          ],
          "name": "stdout"
        }
      ]
    },
    {
      "cell_type": "code",
      "metadata": {
        "colab": {
          "base_uri": "https://localhost:8080/"
        },
        "id": "rbM6KH9YpXmw",
        "outputId": "bc4eabcb-2197-4d28-8517-2e71920296c7"
      },
      "source": [
        "X_train, y_train = train_generator_3.next()\r\n",
        "#Input Layer\r\n",
        "baseline_model_3 = Sequential()\r\n",
        "\r\n",
        "baseline_model_3.add(Conv2D(filters=128, kernel_size=(3, 3), activation='relu', padding='valid', input_shape=X_train.shape[1:]))\r\n",
        "baseline_model_3.add(MaxPooling2D(pool_size=(2, 2), strides=(2,2)))\r\n",
        "\r\n",
        "baseline_model_3.add(Conv2D(filters=256, kernel_size=(3, 3), activation='relu', padding='valid'))\r\n",
        "baseline_model_3.add(MaxPooling2D(pool_size=(2, 2), strides=(2,2)))\r\n",
        "\r\n",
        "baseline_model_3.add(Conv2D(filters=512, kernel_size=(3, 3), activation='relu', padding='valid'))\r\n",
        "baseline_model_3.add(MaxPooling2D(pool_size=(2, 2), strides=(2,2)))\r\n",
        "\r\n",
        "# MLP - input layer:\r\n",
        "baseline_model_3.add(Flatten())\r\n",
        "# MLP - hidden layer:\r\n",
        "baseline_model_3.add(Dense(2048, activation='relu'))\r\n",
        "\r\n",
        "\r\n",
        "# MLP - output layer:\r\n",
        "baseline_model_3.add(Dense(y_train.shape[1], activation='softmax'))\r\n",
        "\r\n",
        "# Check built model:\r\n",
        "baseline_model_3.summary()"
      ],
      "execution_count": null,
      "outputs": [
        {
          "output_type": "stream",
          "text": [
            "Model: \"sequential_2\"\n",
            "_________________________________________________________________\n",
            "Layer (type)                 Output Shape              Param #   \n",
            "=================================================================\n",
            "conv2d_3 (Conv2D)            (None, 62, 62, 128)       3584      \n",
            "_________________________________________________________________\n",
            "max_pooling2d_3 (MaxPooling2 (None, 31, 31, 128)       0         \n",
            "_________________________________________________________________\n",
            "conv2d_4 (Conv2D)            (None, 29, 29, 256)       295168    \n",
            "_________________________________________________________________\n",
            "max_pooling2d_4 (MaxPooling2 (None, 14, 14, 256)       0         \n",
            "_________________________________________________________________\n",
            "conv2d_5 (Conv2D)            (None, 12, 12, 512)       1180160   \n",
            "_________________________________________________________________\n",
            "max_pooling2d_5 (MaxPooling2 (None, 6, 6, 512)         0         \n",
            "_________________________________________________________________\n",
            "flatten_2 (Flatten)          (None, 18432)             0         \n",
            "_________________________________________________________________\n",
            "dense_4 (Dense)              (None, 2048)              37750784  \n",
            "_________________________________________________________________\n",
            "dense_5 (Dense)              (None, 101)               206949    \n",
            "=================================================================\n",
            "Total params: 39,436,645\n",
            "Trainable params: 39,436,645\n",
            "Non-trainable params: 0\n",
            "_________________________________________________________________\n"
          ],
          "name": "stdout"
        }
      ]
    },
    {
      "cell_type": "code",
      "metadata": {
        "id": "vEzKtjqqpXkI"
      },
      "source": [
        "opt_3 = Adam()\r\n",
        "\r\n",
        "baseline_model_3.compile(loss='categorical_crossentropy',\r\n",
        "              optimizer=opt_3,\r\n",
        "              metrics=['acc'])"
      ],
      "execution_count": null,
      "outputs": []
    },
    {
      "cell_type": "code",
      "metadata": {
        "colab": {
          "base_uri": "https://localhost:8080/"
        },
        "id": "JGz6Oe8fpXgk",
        "outputId": "16b32264-0243-4023-aa9d-d921d265499d"
      },
      "source": [
        "X_val, y_val = valid_generator_3.next()\r\n",
        "early_stop = EarlyStopping(patience=30, monitor='val_loss', mode='min', restore_best_weights=True)\r\n",
        "\r\n",
        "\r\n",
        "history_baseline_model_3 = baseline_model_3.fit_generator(train_generator_3,\r\n",
        "                              steps_per_epoch=160, #steps_per_epoch,\r\n",
        "                              epochs=100,\r\n",
        "                              validation_data=valid_generator_3,\r\n",
        "                              validation_steps=10, #validation_steps,\r\n",
        "                              callbacks=[early_stop],\r\n",
        "                              shuffle= True\r\n",
        "                             )\r\n",
        "\r\n",
        "baseline_model_3.save('food_baseline_model_3.h5')"
      ],
      "execution_count": null,
      "outputs": [
        {
          "output_type": "stream",
          "text": [
            "/usr/local/lib/python3.6/dist-packages/tensorflow/python/keras/engine/training.py:1844: UserWarning: `Model.fit_generator` is deprecated and will be removed in a future version. Please use `Model.fit`, which supports generators.\n",
            "  warnings.warn('`Model.fit_generator` is deprecated and '\n"
          ],
          "name": "stderr"
        },
        {
          "output_type": "stream",
          "text": [
            "Epoch 1/100\n",
            "160/160 [==============================] - 43s 265ms/step - loss: 4.6389 - acc: 0.0104 - val_loss: 4.6077 - val_acc: 0.0141\n",
            "Epoch 2/100\n",
            "160/160 [==============================] - 42s 265ms/step - loss: 4.5903 - acc: 0.0173 - val_loss: 4.4821 - val_acc: 0.0250\n",
            "Epoch 3/100\n",
            "160/160 [==============================] - 43s 267ms/step - loss: 4.4788 - acc: 0.0262 - val_loss: 4.4175 - val_acc: 0.0375\n",
            "Epoch 4/100\n",
            "160/160 [==============================] - 42s 263ms/step - loss: 4.3682 - acc: 0.0426 - val_loss: 4.2752 - val_acc: 0.0656\n",
            "Epoch 5/100\n",
            "160/160 [==============================] - 42s 264ms/step - loss: 4.2100 - acc: 0.0677 - val_loss: 4.1563 - val_acc: 0.0750\n",
            "Epoch 6/100\n",
            "160/160 [==============================] - 42s 261ms/step - loss: 4.0602 - acc: 0.0872 - val_loss: 4.0526 - val_acc: 0.0953\n",
            "Epoch 7/100\n",
            "160/160 [==============================] - 42s 262ms/step - loss: 3.9607 - acc: 0.1048 - val_loss: 3.9026 - val_acc: 0.1219\n",
            "Epoch 8/100\n",
            "160/160 [==============================] - 42s 261ms/step - loss: 3.8365 - acc: 0.1272 - val_loss: 3.7725 - val_acc: 0.1406\n",
            "Epoch 9/100\n",
            "160/160 [==============================] - 42s 259ms/step - loss: 3.7413 - acc: 0.1452 - val_loss: 3.7852 - val_acc: 0.1234\n",
            "Epoch 10/100\n",
            "160/160 [==============================] - 41s 259ms/step - loss: 3.6877 - acc: 0.1509 - val_loss: 3.6808 - val_acc: 0.1484\n",
            "Epoch 11/100\n",
            "160/160 [==============================] - 42s 262ms/step - loss: 3.5795 - acc: 0.1660 - val_loss: 3.7139 - val_acc: 0.1437\n",
            "Epoch 12/100\n",
            "160/160 [==============================] - 41s 259ms/step - loss: 3.5237 - acc: 0.1751 - val_loss: 3.7775 - val_acc: 0.1562\n",
            "Epoch 13/100\n",
            "160/160 [==============================] - 41s 257ms/step - loss: 3.4294 - acc: 0.1926 - val_loss: 3.7523 - val_acc: 0.1437\n",
            "Epoch 14/100\n",
            "160/160 [==============================] - 41s 257ms/step - loss: 3.3848 - acc: 0.2051 - val_loss: 3.5557 - val_acc: 0.1766\n",
            "Epoch 15/100\n",
            "160/160 [==============================] - 41s 258ms/step - loss: 3.3333 - acc: 0.2171 - val_loss: 3.5929 - val_acc: 0.1672\n",
            "Epoch 16/100\n",
            "160/160 [==============================] - 41s 256ms/step - loss: 3.2472 - acc: 0.2357 - val_loss: 3.5666 - val_acc: 0.1906\n",
            "Epoch 17/100\n",
            "160/160 [==============================] - 41s 256ms/step - loss: 3.1820 - acc: 0.2462 - val_loss: 3.5817 - val_acc: 0.1781\n",
            "Epoch 18/100\n",
            "160/160 [==============================] - 41s 257ms/step - loss: 3.1618 - acc: 0.2523 - val_loss: 3.5478 - val_acc: 0.1828\n",
            "Epoch 19/100\n",
            "160/160 [==============================] - 41s 256ms/step - loss: 3.0277 - acc: 0.2844 - val_loss: 3.5046 - val_acc: 0.1859\n",
            "Epoch 20/100\n",
            "160/160 [==============================] - 41s 254ms/step - loss: 2.9961 - acc: 0.2907 - val_loss: 3.5775 - val_acc: 0.1906\n",
            "Epoch 21/100\n",
            "160/160 [==============================] - 41s 253ms/step - loss: 2.9744 - acc: 0.2907 - val_loss: 3.4370 - val_acc: 0.2188\n",
            "Epoch 22/100\n",
            "160/160 [==============================] - 41s 255ms/step - loss: 2.8651 - acc: 0.3123 - val_loss: 3.4802 - val_acc: 0.2125\n",
            "Epoch 23/100\n",
            "160/160 [==============================] - 40s 253ms/step - loss: 2.7844 - acc: 0.3300 - val_loss: 3.4825 - val_acc: 0.2281\n",
            "Epoch 24/100\n",
            "160/160 [==============================] - 41s 254ms/step - loss: 2.7132 - acc: 0.3516 - val_loss: 3.5661 - val_acc: 0.1953\n",
            "Epoch 25/100\n",
            "160/160 [==============================] - 40s 253ms/step - loss: 2.6469 - acc: 0.3634 - val_loss: 3.5444 - val_acc: 0.1984\n",
            "Epoch 26/100\n",
            "160/160 [==============================] - 41s 255ms/step - loss: 2.5633 - acc: 0.3748 - val_loss: 3.7371 - val_acc: 0.1922\n",
            "Epoch 27/100\n",
            "160/160 [==============================] - 40s 252ms/step - loss: 2.4960 - acc: 0.4051 - val_loss: 3.7185 - val_acc: 0.1688\n",
            "Epoch 28/100\n",
            "160/160 [==============================] - 40s 252ms/step - loss: 2.3906 - acc: 0.4213 - val_loss: 3.8208 - val_acc: 0.1937\n",
            "Epoch 29/100\n",
            "160/160 [==============================] - 41s 253ms/step - loss: 2.3344 - acc: 0.4357 - val_loss: 3.7685 - val_acc: 0.2234\n",
            "Epoch 30/100\n",
            "160/160 [==============================] - 40s 252ms/step - loss: 2.1944 - acc: 0.4751 - val_loss: 3.7780 - val_acc: 0.1891\n",
            "Epoch 31/100\n",
            "160/160 [==============================] - 40s 253ms/step - loss: 2.2401 - acc: 0.4650 - val_loss: 3.9862 - val_acc: 0.1844\n",
            "Epoch 32/100\n",
            "160/160 [==============================] - 40s 253ms/step - loss: 2.1116 - acc: 0.4967 - val_loss: 4.0545 - val_acc: 0.1609\n",
            "Epoch 33/100\n",
            "160/160 [==============================] - 41s 253ms/step - loss: 2.0561 - acc: 0.5096 - val_loss: 4.0856 - val_acc: 0.2000\n",
            "Epoch 34/100\n",
            "160/160 [==============================] - 41s 254ms/step - loss: 1.9414 - acc: 0.5338 - val_loss: 4.3758 - val_acc: 0.1750\n",
            "Epoch 35/100\n",
            "160/160 [==============================] - 40s 253ms/step - loss: 1.9387 - acc: 0.5409 - val_loss: 4.1900 - val_acc: 0.1844\n",
            "Epoch 36/100\n",
            "160/160 [==============================] - 40s 253ms/step - loss: 1.8541 - acc: 0.5517 - val_loss: 4.0616 - val_acc: 0.2031\n",
            "Epoch 37/100\n",
            "160/160 [==============================] - 40s 252ms/step - loss: 1.7720 - acc: 0.5832 - val_loss: 4.4757 - val_acc: 0.1656\n",
            "Epoch 38/100\n",
            "160/160 [==============================] - 40s 253ms/step - loss: 1.6524 - acc: 0.5964 - val_loss: 4.1585 - val_acc: 0.1875\n",
            "Epoch 39/100\n",
            "160/160 [==============================] - 40s 252ms/step - loss: 1.5957 - acc: 0.6078 - val_loss: 4.3863 - val_acc: 0.1969\n",
            "Epoch 40/100\n",
            "160/160 [==============================] - 40s 253ms/step - loss: 1.5364 - acc: 0.6301 - val_loss: 4.3676 - val_acc: 0.1875\n",
            "Epoch 41/100\n",
            "160/160 [==============================] - 41s 255ms/step - loss: 1.4676 - acc: 0.6441 - val_loss: 4.6167 - val_acc: 0.1719\n",
            "Epoch 42/100\n",
            "160/160 [==============================] - 41s 253ms/step - loss: 1.4250 - acc: 0.6518 - val_loss: 4.5069 - val_acc: 0.1797\n",
            "Epoch 43/100\n",
            "160/160 [==============================] - 41s 253ms/step - loss: 1.3689 - acc: 0.6780 - val_loss: 4.7502 - val_acc: 0.1516\n",
            "Epoch 44/100\n",
            "160/160 [==============================] - 41s 253ms/step - loss: 1.3569 - acc: 0.6771 - val_loss: 4.7688 - val_acc: 0.1594\n",
            "Epoch 45/100\n",
            "160/160 [==============================] - 40s 252ms/step - loss: 1.2753 - acc: 0.6969 - val_loss: 4.8134 - val_acc: 0.1969\n",
            "Epoch 46/100\n",
            "160/160 [==============================] - 41s 253ms/step - loss: 1.1534 - acc: 0.7153 - val_loss: 5.1576 - val_acc: 0.1844\n",
            "Epoch 47/100\n",
            "160/160 [==============================] - 40s 252ms/step - loss: 1.1795 - acc: 0.7173 - val_loss: 5.3029 - val_acc: 0.1594\n",
            "Epoch 48/100\n",
            "160/160 [==============================] - 40s 253ms/step - loss: 1.0661 - acc: 0.7403 - val_loss: 5.0591 - val_acc: 0.1703\n",
            "Epoch 49/100\n",
            "160/160 [==============================] - 41s 255ms/step - loss: 0.9969 - acc: 0.7666 - val_loss: 5.2749 - val_acc: 0.1578\n",
            "Epoch 50/100\n",
            "160/160 [==============================] - 41s 254ms/step - loss: 0.9986 - acc: 0.7602 - val_loss: 5.0831 - val_acc: 0.1906\n",
            "Epoch 51/100\n",
            "160/160 [==============================] - 40s 252ms/step - loss: 0.9364 - acc: 0.7733 - val_loss: 5.3867 - val_acc: 0.1734\n"
          ],
          "name": "stdout"
        }
      ]
    },
    {
      "cell_type": "markdown",
      "metadata": {
        "id": "MD1DuF5bp_41"
      },
      "source": [
        "Model 4 - Add more Layers"
      ]
    },
    {
      "cell_type": "code",
      "metadata": {
        "colab": {
          "base_uri": "https://localhost:8080/"
        },
        "id": "q7QistASpXQh",
        "outputId": "a057f1d0-d9fe-4532-800c-73bda98f500f"
      },
      "source": [
        "train_datagen_4 = ImageDataGenerator(\r\n",
        "                                  rescale = 1./255.)\r\n",
        "\r\n",
        "valid_datagen_4 = ImageDataGenerator(rescale = 1./255)\r\n",
        "\r\n",
        "test_datagen_4 = ImageDataGenerator(rescale = 1./255)\r\n",
        "\r\n",
        "train_generator_4 = train_datagen_4.flow_from_directory(directory=\"/content/output/train\",\r\n",
        "                                                    subset=\"training\",\r\n",
        "                                                    batch_size=64,\r\n",
        "                                                    shuffle=True,\r\n",
        "                                                    class_mode=\"categorical\",\r\n",
        "                                                    target_size=(64,64),\r\n",
        "                                                    seed=42)\r\n",
        "\r\n",
        "\r\n",
        "\r\n",
        "valid_generator_4 = valid_datagen_4.flow_from_directory(directory=\"/content/output/val\",\r\n",
        "                                                  batch_size=64,\r\n",
        "                                                  shuffle=True,\r\n",
        "                                                  class_mode=\"categorical\",\r\n",
        "                                                  target_size=(64,64),\r\n",
        "                                                  seed=42)"
      ],
      "execution_count": null,
      "outputs": [
        {
          "output_type": "stream",
          "text": [
            "Found 70700 images belonging to 101 classes.\n",
            "Found 20200 images belonging to 101 classes.\n"
          ],
          "name": "stdout"
        }
      ]
    },
    {
      "cell_type": "code",
      "metadata": {
        "colab": {
          "base_uri": "https://localhost:8080/"
        },
        "id": "1RPXk_64oRXK",
        "outputId": "fd64dae7-6497-4dd8-cdb8-4d7cdc2681e7"
      },
      "source": [
        "X_train, y_train = train_generator_4.next()\r\n",
        "#Input Layer\r\n",
        "baseline_model_4 = Sequential()\r\n",
        "\r\n",
        "baseline_model_4.add(Conv2D(filters=128, kernel_size=(3, 3), activation='relu', padding='valid', input_shape=X_train.shape[1:]))\r\n",
        "baseline_model_4.add(MaxPooling2D(pool_size=(2, 2), strides=(2,2)))\r\n",
        "\r\n",
        "baseline_model_4.add(Conv2D(filters=256, kernel_size=(3, 3), activation='relu', padding='valid'))\r\n",
        "baseline_model_4.add(MaxPooling2D(pool_size=(2, 2), strides=(2,2)))\r\n",
        "\r\n",
        "baseline_model_4.add(Conv2D(filters=512, kernel_size=(3, 3), activation='relu', padding='valid'))\r\n",
        "baseline_model_4.add(MaxPooling2D(pool_size=(2, 2), strides=(2,2)))\r\n",
        "\r\n",
        "baseline_model_4.add(Conv2D(filters=1024, kernel_size=(3, 3), activation='relu', padding='valid'))\r\n",
        "baseline_model_4.add(MaxPooling2D(pool_size=(2, 2), strides=(2,2)))\r\n",
        "\r\n",
        "# MLP - input layer:\r\n",
        "baseline_model_4.add(Flatten())\r\n",
        "# MLP - hidden layer:\r\n",
        "baseline_model_4.add(Dense(2048, activation='relu'))\r\n",
        "\r\n",
        "\r\n",
        "# MLP - output layer:\r\n",
        "baseline_model_4.add(Dense(y_train.shape[1], activation='softmax'))\r\n",
        "\r\n",
        "# Check built model:\r\n",
        "baseline_model_4.summary()"
      ],
      "execution_count": null,
      "outputs": [
        {
          "output_type": "stream",
          "text": [
            "Model: \"sequential_3\"\n",
            "_________________________________________________________________\n",
            "Layer (type)                 Output Shape              Param #   \n",
            "=================================================================\n",
            "conv2d_6 (Conv2D)            (None, 62, 62, 128)       3584      \n",
            "_________________________________________________________________\n",
            "max_pooling2d_6 (MaxPooling2 (None, 31, 31, 128)       0         \n",
            "_________________________________________________________________\n",
            "conv2d_7 (Conv2D)            (None, 29, 29, 256)       295168    \n",
            "_________________________________________________________________\n",
            "max_pooling2d_7 (MaxPooling2 (None, 14, 14, 256)       0         \n",
            "_________________________________________________________________\n",
            "conv2d_8 (Conv2D)            (None, 12, 12, 512)       1180160   \n",
            "_________________________________________________________________\n",
            "max_pooling2d_8 (MaxPooling2 (None, 6, 6, 512)         0         \n",
            "_________________________________________________________________\n",
            "conv2d_9 (Conv2D)            (None, 4, 4, 1024)        4719616   \n",
            "_________________________________________________________________\n",
            "max_pooling2d_9 (MaxPooling2 (None, 2, 2, 1024)        0         \n",
            "_________________________________________________________________\n",
            "flatten_3 (Flatten)          (None, 4096)              0         \n",
            "_________________________________________________________________\n",
            "dense_6 (Dense)              (None, 2048)              8390656   \n",
            "_________________________________________________________________\n",
            "dense_7 (Dense)              (None, 101)               206949    \n",
            "=================================================================\n",
            "Total params: 14,796,133\n",
            "Trainable params: 14,796,133\n",
            "Non-trainable params: 0\n",
            "_________________________________________________________________\n"
          ],
          "name": "stdout"
        }
      ]
    },
    {
      "cell_type": "code",
      "metadata": {
        "id": "CBs4uIG2qM3r"
      },
      "source": [
        "opt_4 = Adam()\r\n",
        "\r\n",
        "baseline_model_4.compile(loss='categorical_crossentropy',\r\n",
        "              optimizer=opt_4,\r\n",
        "              metrics=['acc'])"
      ],
      "execution_count": null,
      "outputs": []
    },
    {
      "cell_type": "code",
      "metadata": {
        "colab": {
          "base_uri": "https://localhost:8080/"
        },
        "id": "XgdZaB2tqM04",
        "outputId": "aa6dbc9c-dd0c-4ff8-ac3f-9b9b4e302d1f"
      },
      "source": [
        "X_val, y_val = valid_generator_4.next()\r\n",
        "early_stop = EarlyStopping(patience=30, monitor='val_loss', mode='min', restore_best_weights=True)\r\n",
        "\r\n",
        "\r\n",
        "history_baseline_model_4 = baseline_model_4.fit_generator(train_generator_4,\r\n",
        "                              steps_per_epoch=160, #steps_per_epoch,\r\n",
        "                              epochs=100,\r\n",
        "                              validation_data=valid_generator_4,\r\n",
        "                              validation_steps=10, #validation_steps,\r\n",
        "                              callbacks=[early_stop],\r\n",
        "                              shuffle= True\r\n",
        "                             )\r\n",
        "\r\n",
        "baseline_model_4.save('food_baseline_model_4.h5')"
      ],
      "execution_count": null,
      "outputs": [
        {
          "output_type": "stream",
          "text": [
            "/usr/local/lib/python3.6/dist-packages/tensorflow/python/keras/engine/training.py:1844: UserWarning: `Model.fit_generator` is deprecated and will be removed in a future version. Please use `Model.fit`, which supports generators.\n",
            "  warnings.warn('`Model.fit_generator` is deprecated and '\n"
          ],
          "name": "stderr"
        },
        {
          "output_type": "stream",
          "text": [
            "Epoch 1/100\n",
            "160/160 [==============================] - 42s 257ms/step - loss: 4.6327 - acc: 0.0119 - val_loss: 4.6153 - val_acc: 0.0172\n",
            "Epoch 2/100\n",
            "160/160 [==============================] - 41s 254ms/step - loss: 4.6151 - acc: 0.0108 - val_loss: 4.6161 - val_acc: 0.0125\n",
            "Epoch 3/100\n",
            "160/160 [==============================] - 41s 254ms/step - loss: 4.6151 - acc: 0.0129 - val_loss: 4.6169 - val_acc: 0.0078\n",
            "Epoch 4/100\n",
            "160/160 [==============================] - 41s 254ms/step - loss: 4.6153 - acc: 0.0087 - val_loss: 4.6143 - val_acc: 0.0094\n",
            "Epoch 5/100\n",
            "160/160 [==============================] - 41s 256ms/step - loss: 4.6153 - acc: 0.0097 - val_loss: 4.6155 - val_acc: 0.0125\n",
            "Epoch 6/100\n",
            "160/160 [==============================] - 41s 254ms/step - loss: 4.6154 - acc: 0.0106 - val_loss: 4.6148 - val_acc: 0.0109\n",
            "Epoch 7/100\n",
            "160/160 [==============================] - 41s 254ms/step - loss: 4.6156 - acc: 0.0104 - val_loss: 4.6142 - val_acc: 0.0141\n",
            "Epoch 8/100\n",
            "160/160 [==============================] - 41s 254ms/step - loss: 4.6152 - acc: 0.0091 - val_loss: 4.6143 - val_acc: 0.0063\n",
            "Epoch 9/100\n",
            "160/160 [==============================] - 41s 253ms/step - loss: 4.6153 - acc: 0.0114 - val_loss: 4.6157 - val_acc: 0.0234\n",
            "Epoch 10/100\n",
            "160/160 [==============================] - 41s 253ms/step - loss: 4.6154 - acc: 0.0101 - val_loss: 4.6150 - val_acc: 0.0141\n",
            "Epoch 11/100\n",
            "160/160 [==============================] - 41s 254ms/step - loss: 4.6151 - acc: 0.0087 - val_loss: 4.6140 - val_acc: 0.0188\n",
            "Epoch 12/100\n",
            "160/160 [==============================] - 41s 254ms/step - loss: 4.6161 - acc: 0.0082 - val_loss: 4.6145 - val_acc: 0.0063\n",
            "Epoch 13/100\n",
            "160/160 [==============================] - 41s 255ms/step - loss: 4.6150 - acc: 0.0085 - val_loss: 4.6165 - val_acc: 0.0094\n",
            "Epoch 14/100\n",
            "160/160 [==============================] - 41s 253ms/step - loss: 4.6153 - acc: 0.0099 - val_loss: 4.6157 - val_acc: 0.0063\n",
            "Epoch 15/100\n",
            "160/160 [==============================] - 41s 255ms/step - loss: 4.6153 - acc: 0.0107 - val_loss: 4.6182 - val_acc: 0.0063\n",
            "Epoch 16/100\n",
            "160/160 [==============================] - 41s 254ms/step - loss: 4.6156 - acc: 0.0095 - val_loss: 4.6150 - val_acc: 0.0094\n",
            "Epoch 17/100\n",
            "160/160 [==============================] - 41s 256ms/step - loss: 4.6155 - acc: 0.0093 - val_loss: 4.6166 - val_acc: 0.0063\n",
            "Epoch 18/100\n",
            "160/160 [==============================] - 41s 258ms/step - loss: 4.6149 - acc: 0.0090 - val_loss: 4.6137 - val_acc: 0.0063\n",
            "Epoch 19/100\n",
            "160/160 [==============================] - 42s 261ms/step - loss: 4.6159 - acc: 0.0096 - val_loss: 4.6143 - val_acc: 0.0172\n",
            "Epoch 20/100\n",
            "160/160 [==============================] - 41s 259ms/step - loss: 4.6149 - acc: 0.0093 - val_loss: 4.6140 - val_acc: 0.0156\n",
            "Epoch 21/100\n",
            "160/160 [==============================] - 42s 263ms/step - loss: 4.6154 - acc: 0.0089 - val_loss: 4.6162 - val_acc: 0.0047\n",
            "Epoch 22/100\n",
            "160/160 [==============================] - 42s 262ms/step - loss: 4.6158 - acc: 0.0108 - val_loss: 4.6169 - val_acc: 0.0078\n",
            "Epoch 23/100\n",
            "160/160 [==============================] - 42s 264ms/step - loss: 4.6153 - acc: 0.0073 - val_loss: 4.6153 - val_acc: 0.0125\n",
            "Epoch 24/100\n",
            "160/160 [==============================] - 42s 263ms/step - loss: 4.6158 - acc: 0.0091 - val_loss: 4.6141 - val_acc: 0.0031\n",
            "Epoch 25/100\n",
            "160/160 [==============================] - 42s 264ms/step - loss: 4.6155 - acc: 0.0109 - val_loss: 4.6141 - val_acc: 0.0078\n",
            "Epoch 26/100\n",
            "160/160 [==============================] - 43s 266ms/step - loss: 4.6158 - acc: 0.0107 - val_loss: 4.6176 - val_acc: 0.0047\n",
            "Epoch 27/100\n",
            "160/160 [==============================] - 42s 265ms/step - loss: 4.6151 - acc: 0.0110 - val_loss: 4.6154 - val_acc: 0.0063\n",
            "Epoch 28/100\n",
            "160/160 [==============================] - 43s 267ms/step - loss: 4.6155 - acc: 0.0117 - val_loss: 4.6142 - val_acc: 0.0156\n",
            "Epoch 29/100\n",
            "160/160 [==============================] - 43s 266ms/step - loss: 4.6152 - acc: 0.0095 - val_loss: 4.6145 - val_acc: 0.0172\n",
            "Epoch 30/100\n",
            "160/160 [==============================] - 43s 267ms/step - loss: 4.6151 - acc: 0.0136 - val_loss: 4.6145 - val_acc: 0.0125\n",
            "Epoch 31/100\n",
            "160/160 [==============================] - 43s 266ms/step - loss: 4.6152 - acc: 0.0095 - val_loss: 4.6148 - val_acc: 0.0141\n",
            "Epoch 32/100\n",
            "160/160 [==============================] - 43s 269ms/step - loss: 4.6152 - acc: 0.0121 - val_loss: 4.6134 - val_acc: 0.0109\n",
            "Epoch 33/100\n",
            "160/160 [==============================] - 43s 267ms/step - loss: 4.6157 - acc: 0.0095 - val_loss: 4.6146 - val_acc: 0.0109\n",
            "Epoch 34/100\n",
            "160/160 [==============================] - 43s 271ms/step - loss: 4.6159 - acc: 0.0100 - val_loss: 4.6147 - val_acc: 0.0063\n",
            "Epoch 35/100\n",
            "160/160 [==============================] - 44s 272ms/step - loss: 4.6157 - acc: 0.0092 - val_loss: 4.6162 - val_acc: 0.0109\n",
            "Epoch 36/100\n",
            "160/160 [==============================] - 43s 269ms/step - loss: 4.6147 - acc: 0.0069 - val_loss: 4.6150 - val_acc: 0.0031\n",
            "Epoch 37/100\n",
            "160/160 [==============================] - 43s 269ms/step - loss: 4.6155 - acc: 0.0107 - val_loss: 4.6153 - val_acc: 0.0063\n",
            "Epoch 38/100\n",
            "160/160 [==============================] - 43s 270ms/step - loss: 4.6158 - acc: 0.0079 - val_loss: 4.6140 - val_acc: 0.0125\n",
            "Epoch 39/100\n",
            "160/160 [==============================] - 43s 271ms/step - loss: 4.6158 - acc: 0.0096 - val_loss: 4.6160 - val_acc: 0.0078\n",
            "Epoch 40/100\n",
            "160/160 [==============================] - 43s 270ms/step - loss: 4.6154 - acc: 0.0100 - val_loss: 4.6132 - val_acc: 0.0094\n",
            "Epoch 41/100\n",
            "160/160 [==============================] - 44s 272ms/step - loss: 4.6155 - acc: 0.0080 - val_loss: 4.6146 - val_acc: 0.0063\n",
            "Epoch 42/100\n",
            "160/160 [==============================] - 43s 269ms/step - loss: 4.6150 - acc: 0.0100 - val_loss: 4.6151 - val_acc: 0.0141\n",
            "Epoch 43/100\n",
            "160/160 [==============================] - 43s 267ms/step - loss: 4.6154 - acc: 0.0082 - val_loss: 4.6160 - val_acc: 0.0125\n",
            "Epoch 44/100\n",
            "160/160 [==============================] - 42s 264ms/step - loss: 4.6151 - acc: 0.0099 - val_loss: 4.6155 - val_acc: 0.0125\n",
            "Epoch 45/100\n",
            "160/160 [==============================] - 43s 268ms/step - loss: 4.6150 - acc: 0.0099 - val_loss: 4.6152 - val_acc: 0.0156\n",
            "Epoch 46/100\n",
            "160/160 [==============================] - 44s 276ms/step - loss: 4.6155 - acc: 0.0122 - val_loss: 4.6148 - val_acc: 0.0094\n",
            "Epoch 47/100\n",
            "160/160 [==============================] - 44s 273ms/step - loss: 4.6159 - acc: 0.0110 - val_loss: 4.6171 - val_acc: 0.0078\n",
            "Epoch 48/100\n",
            "160/160 [==============================] - 44s 274ms/step - loss: 4.6159 - acc: 0.0104 - val_loss: 4.6162 - val_acc: 0.0094\n",
            "Epoch 49/100\n",
            "160/160 [==============================] - 45s 279ms/step - loss: 4.6157 - acc: 0.0108 - val_loss: 4.6159 - val_acc: 0.0094\n",
            "Epoch 50/100\n",
            "160/160 [==============================] - 44s 275ms/step - loss: 4.6153 - acc: 0.0120 - val_loss: 4.6151 - val_acc: 0.0141\n",
            "Epoch 51/100\n",
            "160/160 [==============================] - 44s 275ms/step - loss: 4.6157 - acc: 0.0091 - val_loss: 4.6154 - val_acc: 0.0125\n",
            "Epoch 52/100\n",
            "160/160 [==============================] - 44s 274ms/step - loss: 4.6154 - acc: 0.0084 - val_loss: 4.6157 - val_acc: 0.0141\n",
            "Epoch 53/100\n",
            "160/160 [==============================] - 44s 272ms/step - loss: 4.6152 - acc: 0.0103 - val_loss: 4.6144 - val_acc: 0.0141\n",
            "Epoch 54/100\n",
            "160/160 [==============================] - 43s 272ms/step - loss: 4.6156 - acc: 0.0086 - val_loss: 4.6139 - val_acc: 0.0078\n",
            "Epoch 55/100\n",
            "160/160 [==============================] - 44s 274ms/step - loss: 4.6154 - acc: 0.0116 - val_loss: 4.6160 - val_acc: 0.0063\n",
            "Epoch 56/100\n",
            "160/160 [==============================] - 44s 275ms/step - loss: 4.6153 - acc: 0.0093 - val_loss: 4.6164 - val_acc: 0.0109\n",
            "Epoch 57/100\n",
            "160/160 [==============================] - 44s 275ms/step - loss: 4.6152 - acc: 0.0135 - val_loss: 4.6140 - val_acc: 0.0063\n",
            "Epoch 58/100\n",
            "160/160 [==============================] - 44s 273ms/step - loss: 4.6158 - acc: 0.0067 - val_loss: 4.6158 - val_acc: 0.0031\n",
            "Epoch 59/100\n",
            "160/160 [==============================] - 43s 271ms/step - loss: 4.6156 - acc: 0.0103 - val_loss: 4.6146 - val_acc: 0.0109\n",
            "Epoch 60/100\n",
            "160/160 [==============================] - 43s 271ms/step - loss: 4.6152 - acc: 0.0109 - val_loss: 4.6149 - val_acc: 0.0047\n",
            "Epoch 61/100\n",
            "160/160 [==============================] - 43s 270ms/step - loss: 4.6152 - acc: 0.0111 - val_loss: 4.6121 - val_acc: 0.0203\n",
            "Epoch 62/100\n",
            "160/160 [==============================] - 44s 272ms/step - loss: 4.6152 - acc: 0.0121 - val_loss: 4.6143 - val_acc: 0.0094\n",
            "Epoch 63/100\n",
            "160/160 [==============================] - 43s 270ms/step - loss: 4.6161 - acc: 0.0111 - val_loss: 4.6157 - val_acc: 0.0078\n",
            "Epoch 64/100\n",
            "160/160 [==============================] - 44s 272ms/step - loss: 4.6151 - acc: 0.0090 - val_loss: 4.6148 - val_acc: 0.0109\n",
            "Epoch 65/100\n",
            "160/160 [==============================] - 43s 266ms/step - loss: 4.6155 - acc: 0.0108 - val_loss: 4.6161 - val_acc: 0.0047\n",
            "Epoch 66/100\n",
            "160/160 [==============================] - 43s 267ms/step - loss: 4.6150 - acc: 0.0097 - val_loss: 4.6147 - val_acc: 0.0156\n",
            "Epoch 67/100\n",
            "160/160 [==============================] - 43s 266ms/step - loss: 4.6155 - acc: 0.0084 - val_loss: 4.6145 - val_acc: 0.0109\n",
            "Epoch 68/100\n",
            "160/160 [==============================] - 42s 262ms/step - loss: 4.6157 - acc: 0.0085 - val_loss: 4.6160 - val_acc: 0.0047\n",
            "Epoch 69/100\n",
            "160/160 [==============================] - 42s 265ms/step - loss: 4.6156 - acc: 0.0118 - val_loss: 4.6155 - val_acc: 0.0109\n",
            "Epoch 70/100\n",
            "160/160 [==============================] - 42s 261ms/step - loss: 4.6157 - acc: 0.0102 - val_loss: 4.6161 - val_acc: 0.0078\n",
            "Epoch 71/100\n",
            "160/160 [==============================] - 42s 263ms/step - loss: 4.6160 - acc: 0.0093 - val_loss: 4.6158 - val_acc: 0.0063\n",
            "Epoch 72/100\n",
            "160/160 [==============================] - 42s 260ms/step - loss: 4.6145 - acc: 0.0126 - val_loss: 4.6170 - val_acc: 0.0125\n",
            "Epoch 73/100\n",
            "160/160 [==============================] - 42s 262ms/step - loss: 4.6152 - acc: 0.0101 - val_loss: 4.6161 - val_acc: 0.0125\n",
            "Epoch 74/100\n",
            "160/160 [==============================] - 42s 262ms/step - loss: 4.6154 - acc: 0.0102 - val_loss: 4.6154 - val_acc: 0.0078\n",
            "Epoch 75/100\n",
            "160/160 [==============================] - 42s 261ms/step - loss: 4.6152 - acc: 0.0092 - val_loss: 4.6154 - val_acc: 0.0094\n",
            "Epoch 76/100\n",
            "160/160 [==============================] - 42s 261ms/step - loss: 4.6154 - acc: 0.0090 - val_loss: 4.6154 - val_acc: 0.0078\n",
            "Epoch 77/100\n",
            "160/160 [==============================] - 44s 277ms/step - loss: 4.6149 - acc: 0.0106 - val_loss: 4.6163 - val_acc: 0.0094\n",
            "Epoch 78/100\n",
            "160/160 [==============================] - 43s 271ms/step - loss: 4.6161 - acc: 0.0108 - val_loss: 4.6151 - val_acc: 0.0141\n",
            "Epoch 79/100\n",
            "160/160 [==============================] - 44s 272ms/step - loss: 4.6154 - acc: 0.0100 - val_loss: 4.6171 - val_acc: 0.0141\n",
            "Epoch 80/100\n",
            "160/160 [==============================] - 43s 272ms/step - loss: 4.6159 - acc: 0.0093 - val_loss: 4.6160 - val_acc: 0.0078\n",
            "Epoch 81/100\n",
            "160/160 [==============================] - 43s 272ms/step - loss: 4.6154 - acc: 0.0090 - val_loss: 4.6149 - val_acc: 0.0078\n",
            "Epoch 82/100\n",
            "160/160 [==============================] - 43s 270ms/step - loss: 4.6158 - acc: 0.0078 - val_loss: 4.6148 - val_acc: 0.0063\n",
            "Epoch 83/100\n",
            "160/160 [==============================] - 44s 273ms/step - loss: 4.6155 - acc: 0.0113 - val_loss: 4.6137 - val_acc: 0.0188\n",
            "Epoch 84/100\n",
            "160/160 [==============================] - 44s 274ms/step - loss: 4.6160 - acc: 0.0086 - val_loss: 4.6147 - val_acc: 0.0063\n",
            "Epoch 85/100\n",
            "160/160 [==============================] - 44s 276ms/step - loss: 4.6151 - acc: 0.0111 - val_loss: 4.6170 - val_acc: 0.0094\n",
            "Epoch 86/100\n",
            "160/160 [==============================] - 44s 277ms/step - loss: 4.6146 - acc: 0.0110 - val_loss: 4.6141 - val_acc: 0.0141\n",
            "Epoch 87/100\n",
            "160/160 [==============================] - 44s 274ms/step - loss: 4.6156 - acc: 0.0088 - val_loss: 4.6159 - val_acc: 0.0078\n",
            "Epoch 88/100\n",
            "160/160 [==============================] - 44s 276ms/step - loss: 4.6151 - acc: 0.0106 - val_loss: 4.6163 - val_acc: 0.0078\n",
            "Epoch 89/100\n",
            "160/160 [==============================] - 44s 274ms/step - loss: 4.6157 - acc: 0.0104 - val_loss: 4.6171 - val_acc: 0.0063\n",
            "Epoch 90/100\n",
            "160/160 [==============================] - 44s 274ms/step - loss: 4.6161 - acc: 0.0107 - val_loss: 4.6175 - val_acc: 0.0094\n",
            "Epoch 91/100\n",
            "160/160 [==============================] - 44s 274ms/step - loss: 4.6156 - acc: 0.0112 - val_loss: 4.6140 - val_acc: 0.0094\n"
          ],
          "name": "stdout"
        }
      ]
    },
    {
      "cell_type": "markdown",
      "metadata": {
        "id": "bSMTDbDiq5y0"
      },
      "source": [
        "Model 5 - Dense Layers"
      ]
    },
    {
      "cell_type": "code",
      "metadata": {
        "colab": {
          "base_uri": "https://localhost:8080/"
        },
        "id": "E7QsXdC4qMxD",
        "outputId": "123f561a-8bc3-490e-ec18-50b7cdfcd646"
      },
      "source": [
        "train_datagen_5 = ImageDataGenerator(\r\n",
        "                                  rescale = 1./255.)\r\n",
        "\r\n",
        "valid_datagen_5 = ImageDataGenerator(rescale = 1./255)\r\n",
        "\r\n",
        "test_datagen_5 = ImageDataGenerator(rescale = 1./255)\r\n",
        "\r\n",
        "train_generator_5 = train_datagen_5.flow_from_directory(directory=\"/content/output/train\",\r\n",
        "                                                    subset=\"training\",\r\n",
        "                                                    batch_size=64,\r\n",
        "                                                    shuffle=True,\r\n",
        "                                                    class_mode=\"categorical\",\r\n",
        "                                                    target_size=(64,64),\r\n",
        "                                                    seed=42)\r\n",
        "\r\n",
        "\r\n",
        "\r\n",
        "valid_generator_5 = valid_datagen_5.flow_from_directory(directory=\"/content/output/val\",\r\n",
        "                                                  batch_size=64,\r\n",
        "                                                  shuffle=True,\r\n",
        "                                                  class_mode=\"categorical\",\r\n",
        "                                                  target_size=(64,64),\r\n",
        "                                                  seed=42)"
      ],
      "execution_count": null,
      "outputs": [
        {
          "output_type": "stream",
          "text": [
            "Found 70700 images belonging to 101 classes.\n",
            "Found 20200 images belonging to 101 classes.\n"
          ],
          "name": "stdout"
        }
      ]
    },
    {
      "cell_type": "code",
      "metadata": {
        "colab": {
          "base_uri": "https://localhost:8080/"
        },
        "id": "AjfxikLxqMrv",
        "outputId": "3cb0e619-b84a-46c6-e2c5-ead34cd2749f"
      },
      "source": [
        "X_train, y_train = train_generator_5.next()\r\n",
        "#Input Layer\r\n",
        "baseline_model_5 = Sequential()\r\n",
        "\r\n",
        "baseline_model_5.add(Conv2D(filters=128, kernel_size=(3, 3), activation='relu', padding='valid', input_shape=X_train.shape[1:]))\r\n",
        "baseline_model_5.add(MaxPooling2D(pool_size=(2, 2), strides=(2,2)))\r\n",
        "\r\n",
        "baseline_model_5.add(Conv2D(filters=256, kernel_size=(3, 3), activation='relu', padding='valid'))\r\n",
        "baseline_model_5.add(MaxPooling2D(pool_size=(2, 2), strides=(2,2)))\r\n",
        "\r\n",
        "baseline_model_5.add(Conv2D(filters=512, kernel_size=(3, 3), activation='relu', padding='valid'))\r\n",
        "baseline_model_5.add(MaxPooling2D(pool_size=(2, 2), strides=(2,2)))\r\n",
        "\r\n",
        "baseline_model_5.add(Conv2D(filters=1024, kernel_size=(3, 3), activation='relu', padding='valid'))\r\n",
        "baseline_model_5.add(MaxPooling2D(pool_size=(2, 2), strides=(2,2)))\r\n",
        "\r\n",
        "# MLP - input layer:\r\n",
        "baseline_model_5.add(Flatten())\r\n",
        "# MLP - hidden layer:\r\n",
        "baseline_model_5.add(Dense(2048, activation='relu'))\r\n",
        "baseline_model_5.add(Dense(4096, activation='relu'))\r\n",
        "\r\n",
        "\r\n",
        "\r\n",
        "# MLP - output layer:\r\n",
        "baseline_model_5.add(Dense(y_train.shape[1], activation='softmax'))\r\n",
        "\r\n",
        "# Check built model:\r\n",
        "baseline_model_5.summary()"
      ],
      "execution_count": null,
      "outputs": [
        {
          "output_type": "stream",
          "text": [
            "Model: \"sequential_4\"\n",
            "_________________________________________________________________\n",
            "Layer (type)                 Output Shape              Param #   \n",
            "=================================================================\n",
            "conv2d_10 (Conv2D)           (None, 62, 62, 128)       3584      \n",
            "_________________________________________________________________\n",
            "max_pooling2d_10 (MaxPooling (None, 31, 31, 128)       0         \n",
            "_________________________________________________________________\n",
            "conv2d_11 (Conv2D)           (None, 29, 29, 256)       295168    \n",
            "_________________________________________________________________\n",
            "max_pooling2d_11 (MaxPooling (None, 14, 14, 256)       0         \n",
            "_________________________________________________________________\n",
            "conv2d_12 (Conv2D)           (None, 12, 12, 512)       1180160   \n",
            "_________________________________________________________________\n",
            "max_pooling2d_12 (MaxPooling (None, 6, 6, 512)         0         \n",
            "_________________________________________________________________\n",
            "conv2d_13 (Conv2D)           (None, 4, 4, 1024)        4719616   \n",
            "_________________________________________________________________\n",
            "max_pooling2d_13 (MaxPooling (None, 2, 2, 1024)        0         \n",
            "_________________________________________________________________\n",
            "flatten_4 (Flatten)          (None, 4096)              0         \n",
            "_________________________________________________________________\n",
            "dense_8 (Dense)              (None, 2048)              8390656   \n",
            "_________________________________________________________________\n",
            "dense_9 (Dense)              (None, 4096)              8392704   \n",
            "_________________________________________________________________\n",
            "dense_10 (Dense)             (None, 101)               413797    \n",
            "=================================================================\n",
            "Total params: 23,395,685\n",
            "Trainable params: 23,395,685\n",
            "Non-trainable params: 0\n",
            "_________________________________________________________________\n"
          ],
          "name": "stdout"
        }
      ]
    },
    {
      "cell_type": "code",
      "metadata": {
        "id": "rx72TkMlqMh0"
      },
      "source": [
        "opt_5 = Adam()\r\n",
        "\r\n",
        "baseline_model_5.compile(loss='categorical_crossentropy',\r\n",
        "              optimizer=opt_5,\r\n",
        "              metrics=['acc'])"
      ],
      "execution_count": null,
      "outputs": []
    },
    {
      "cell_type": "code",
      "metadata": {
        "colab": {
          "base_uri": "https://localhost:8080/"
        },
        "id": "QRikR3d3rEGe",
        "outputId": "88ceb9e5-1e40-4eeb-df8f-fc306c4e044f"
      },
      "source": [
        "X_val, y_val = valid_generator_5.next()\r\n",
        "early_stop = EarlyStopping(patience=30, monitor='val_loss', mode='min', restore_best_weights=True)\r\n",
        "\r\n",
        "\r\n",
        "history_baseline_model_5 = baseline_model_5.fit_generator(train_generator_5,\r\n",
        "                              steps_per_epoch=160, #steps_per_epoch,\r\n",
        "                              epochs=100,\r\n",
        "                              validation_data=valid_generator_5,\r\n",
        "                              validation_steps=10, #validation_steps,\r\n",
        "                              callbacks=[early_stop],\r\n",
        "                              shuffle= True\r\n",
        "                             )\r\n",
        "\r\n",
        "baseline_model_5.save('food_baseline_model_5.h5')"
      ],
      "execution_count": null,
      "outputs": [
        {
          "output_type": "stream",
          "text": [
            "/usr/local/lib/python3.6/dist-packages/tensorflow/python/keras/engine/training.py:1844: UserWarning: `Model.fit_generator` is deprecated and will be removed in a future version. Please use `Model.fit`, which supports generators.\n",
            "  warnings.warn('`Model.fit_generator` is deprecated and '\n"
          ],
          "name": "stderr"
        },
        {
          "output_type": "stream",
          "text": [
            "Epoch 1/100\n",
            "160/160 [==============================] - 45s 275ms/step - loss: 4.6265 - acc: 0.0131 - val_loss: 4.6158 - val_acc: 0.0078\n",
            "Epoch 2/100\n",
            "160/160 [==============================] - 44s 276ms/step - loss: 4.6156 - acc: 0.0092 - val_loss: 4.6159 - val_acc: 0.0141\n",
            "Epoch 3/100\n",
            "160/160 [==============================] - 44s 277ms/step - loss: 4.6153 - acc: 0.0102 - val_loss: 4.6147 - val_acc: 0.0125\n",
            "Epoch 4/100\n",
            "160/160 [==============================] - 43s 270ms/step - loss: 4.6153 - acc: 0.0112 - val_loss: 4.6163 - val_acc: 0.0047\n",
            "Epoch 5/100\n",
            "160/160 [==============================] - 43s 271ms/step - loss: 4.6156 - acc: 0.0099 - val_loss: 4.6140 - val_acc: 0.0109\n",
            "Epoch 6/100\n",
            "160/160 [==============================] - 44s 275ms/step - loss: 4.6154 - acc: 0.0113 - val_loss: 4.6160 - val_acc: 0.0109\n",
            "Epoch 7/100\n",
            "160/160 [==============================] - 42s 265ms/step - loss: 4.6148 - acc: 0.0093 - val_loss: 4.6142 - val_acc: 0.0109\n",
            "Epoch 8/100\n",
            "160/160 [==============================] - 43s 270ms/step - loss: 4.6157 - acc: 0.0112 - val_loss: 4.6160 - val_acc: 0.0094\n",
            "Epoch 9/100\n",
            "160/160 [==============================] - 44s 272ms/step - loss: 4.6156 - acc: 0.0101 - val_loss: 4.6152 - val_acc: 0.0156\n",
            "Epoch 10/100\n",
            "160/160 [==============================] - 42s 262ms/step - loss: 4.6156 - acc: 0.0092 - val_loss: 4.6172 - val_acc: 0.0047\n",
            "Epoch 11/100\n",
            "160/160 [==============================] - 41s 257ms/step - loss: 4.6152 - acc: 0.0119 - val_loss: 4.6145 - val_acc: 0.0125\n",
            "Epoch 12/100\n",
            "160/160 [==============================] - 41s 255ms/step - loss: 4.6161 - acc: 0.0078 - val_loss: 4.6148 - val_acc: 0.0078\n",
            "Epoch 13/100\n",
            "160/160 [==============================] - 41s 256ms/step - loss: 4.6154 - acc: 0.0107 - val_loss: 4.6161 - val_acc: 0.0125\n",
            "Epoch 14/100\n",
            "160/160 [==============================] - 41s 257ms/step - loss: 4.6154 - acc: 0.0115 - val_loss: 4.6169 - val_acc: 0.0047\n",
            "Epoch 15/100\n",
            "160/160 [==============================] - 42s 260ms/step - loss: 4.6151 - acc: 0.0089 - val_loss: 4.6152 - val_acc: 0.0156\n",
            "Epoch 16/100\n",
            "160/160 [==============================] - 41s 259ms/step - loss: 4.6153 - acc: 0.0102 - val_loss: 4.6162 - val_acc: 0.0063\n",
            "Epoch 17/100\n",
            "160/160 [==============================] - 41s 256ms/step - loss: 4.6156 - acc: 0.0090 - val_loss: 4.6154 - val_acc: 0.0141\n",
            "Epoch 18/100\n",
            "160/160 [==============================] - 41s 256ms/step - loss: 4.6155 - acc: 0.0088 - val_loss: 4.6150 - val_acc: 0.0031\n",
            "Epoch 19/100\n",
            "160/160 [==============================] - 41s 256ms/step - loss: 4.6160 - acc: 0.0094 - val_loss: 4.6153 - val_acc: 0.0078\n",
            "Epoch 20/100\n",
            "160/160 [==============================] - 41s 256ms/step - loss: 4.6159 - acc: 0.0086 - val_loss: 4.6156 - val_acc: 0.0141\n",
            "Epoch 21/100\n",
            "160/160 [==============================] - 41s 256ms/step - loss: 4.6153 - acc: 0.0118 - val_loss: 4.6149 - val_acc: 0.0094\n",
            "Epoch 22/100\n",
            "160/160 [==============================] - 41s 256ms/step - loss: 4.6156 - acc: 0.0099 - val_loss: 4.6167 - val_acc: 0.0078\n",
            "Epoch 23/100\n",
            "160/160 [==============================] - 41s 256ms/step - loss: 4.6153 - acc: 0.0122 - val_loss: 4.6149 - val_acc: 0.0109\n",
            "Epoch 24/100\n",
            "160/160 [==============================] - 41s 257ms/step - loss: 4.6155 - acc: 0.0117 - val_loss: 4.6154 - val_acc: 0.0094\n",
            "Epoch 25/100\n",
            "160/160 [==============================] - 41s 255ms/step - loss: 4.6152 - acc: 0.0104 - val_loss: 4.6159 - val_acc: 0.0047\n",
            "Epoch 26/100\n",
            "160/160 [==============================] - 41s 254ms/step - loss: 4.6155 - acc: 0.0104 - val_loss: 4.6157 - val_acc: 0.0094\n",
            "Epoch 27/100\n",
            "160/160 [==============================] - 41s 256ms/step - loss: 4.6150 - acc: 0.0106 - val_loss: 4.6142 - val_acc: 0.0109\n",
            "Epoch 28/100\n",
            "160/160 [==============================] - 41s 256ms/step - loss: 4.6150 - acc: 0.0100 - val_loss: 4.6150 - val_acc: 0.0156\n",
            "Epoch 29/100\n",
            "160/160 [==============================] - 41s 255ms/step - loss: 4.6155 - acc: 0.0084 - val_loss: 4.6161 - val_acc: 0.0172\n",
            "Epoch 30/100\n",
            "160/160 [==============================] - 41s 255ms/step - loss: 4.6160 - acc: 0.0080 - val_loss: 4.6164 - val_acc: 0.0063\n",
            "Epoch 31/100\n",
            "160/160 [==============================] - 42s 260ms/step - loss: 4.6157 - acc: 0.0102 - val_loss: 4.6159 - val_acc: 0.0172\n",
            "Epoch 32/100\n",
            "160/160 [==============================] - 41s 257ms/step - loss: 4.6154 - acc: 0.0077 - val_loss: 4.6150 - val_acc: 0.0156\n",
            "Epoch 33/100\n",
            "160/160 [==============================] - 42s 260ms/step - loss: 4.6155 - acc: 0.0108 - val_loss: 4.6147 - val_acc: 0.0063\n",
            "Epoch 34/100\n",
            "160/160 [==============================] - 42s 261ms/step - loss: 4.6152 - acc: 0.0112 - val_loss: 4.6152 - val_acc: 0.0109\n",
            "Epoch 35/100\n",
            "160/160 [==============================] - 42s 264ms/step - loss: 4.6159 - acc: 0.0096 - val_loss: 4.6162 - val_acc: 0.0109\n"
          ],
          "name": "stdout"
        }
      ]
    },
    {
      "cell_type": "markdown",
      "metadata": {
        "id": "Ye764gy7rdiI"
      },
      "source": [
        "Model 6 - Dense Layers"
      ]
    },
    {
      "cell_type": "code",
      "metadata": {
        "colab": {
          "base_uri": "https://localhost:8080/"
        },
        "id": "b4PD76UdrEBb",
        "outputId": "344f0329-539f-4868-d174-9416d68a9cb4"
      },
      "source": [
        "train_datagen_6 = ImageDataGenerator(\r\n",
        "                                  rescale = 1./255.)\r\n",
        "\r\n",
        "valid_datagen_6 = ImageDataGenerator(rescale = 1./255)\r\n",
        "\r\n",
        "test_datagen_6 = ImageDataGenerator(rescale = 1./255)\r\n",
        "\r\n",
        "train_generator_6 = train_datagen_6.flow_from_directory(directory=\"/content/output/train\",\r\n",
        "                                                    subset=\"training\",\r\n",
        "                                                    batch_size=64,\r\n",
        "                                                    shuffle=True,\r\n",
        "                                                    class_mode=\"categorical\",\r\n",
        "                                                    target_size=(64,64),\r\n",
        "                                                    seed=42)\r\n",
        "\r\n",
        "\r\n",
        "\r\n",
        "valid_generator_6 = valid_datagen_6.flow_from_directory(directory=\"/content/output/val\",\r\n",
        "                                                  batch_size=64,\r\n",
        "                                                  shuffle=True,\r\n",
        "                                                  class_mode=\"categorical\",\r\n",
        "                                                  target_size=(64,64),\r\n",
        "                                                  seed=42)"
      ],
      "execution_count": null,
      "outputs": [
        {
          "output_type": "stream",
          "text": [
            "Found 70700 images belonging to 101 classes.\n",
            "Found 20200 images belonging to 101 classes.\n"
          ],
          "name": "stdout"
        }
      ]
    },
    {
      "cell_type": "code",
      "metadata": {
        "colab": {
          "base_uri": "https://localhost:8080/"
        },
        "id": "xe0hgSTorD7L",
        "outputId": "966f3cb9-1279-4e32-9a55-b1439476a452"
      },
      "source": [
        "X_train, y_train = train_generator_6.next()\r\n",
        "#Input Layer\r\n",
        "baseline_model_6 = Sequential()\r\n",
        "\r\n",
        "baseline_model_6.add(Conv2D(filters=128, kernel_size=(3, 3), activation='relu', padding='valid', input_shape=X_train.shape[1:]))\r\n",
        "baseline_model_6.add(MaxPooling2D(pool_size=(2, 2), strides=(2,2)))\r\n",
        "\r\n",
        "baseline_model_6.add(Conv2D(filters=256, kernel_size=(3, 3), activation='relu', padding='valid'))\r\n",
        "baseline_model_6.add(MaxPooling2D(pool_size=(2, 2), strides=(2,2)))\r\n",
        "\r\n",
        "baseline_model_6.add(Conv2D(filters=512, kernel_size=(3, 3), activation='relu', padding='valid'))\r\n",
        "baseline_model_6.add(MaxPooling2D(pool_size=(2, 2), strides=(2,2)))\r\n",
        "\r\n",
        "baseline_model_6.add(Conv2D(filters=1024, kernel_size=(3, 3), activation='relu', padding='valid'))\r\n",
        "baseline_model_6.add(MaxPooling2D(pool_size=(2, 2), strides=(2,2)))\r\n",
        "\r\n",
        "# MLP - input layer:\r\n",
        "baseline_model_6.add(Flatten())\r\n",
        "# MLP - hidden layer:\r\n",
        "baseline_model_6.add(Dense(2048, activation='relu'))\r\n",
        "baseline_model_6.add(Dense(4096, activation='relu'))\r\n",
        "baseline_model_6.add(Dense(4096, activation='relu'))\r\n",
        "\r\n",
        "\r\n",
        "\r\n",
        "# MLP - output layer:\r\n",
        "baseline_model_6.add(Dense(y_train.shape[1], activation='softmax'))\r\n",
        "\r\n",
        "# Check built model:\r\n",
        "baseline_model_6.summary()"
      ],
      "execution_count": null,
      "outputs": [
        {
          "output_type": "stream",
          "text": [
            "Model: \"sequential_5\"\n",
            "_________________________________________________________________\n",
            "Layer (type)                 Output Shape              Param #   \n",
            "=================================================================\n",
            "conv2d_14 (Conv2D)           (None, 62, 62, 128)       3584      \n",
            "_________________________________________________________________\n",
            "max_pooling2d_14 (MaxPooling (None, 31, 31, 128)       0         \n",
            "_________________________________________________________________\n",
            "conv2d_15 (Conv2D)           (None, 29, 29, 256)       295168    \n",
            "_________________________________________________________________\n",
            "max_pooling2d_15 (MaxPooling (None, 14, 14, 256)       0         \n",
            "_________________________________________________________________\n",
            "conv2d_16 (Conv2D)           (None, 12, 12, 512)       1180160   \n",
            "_________________________________________________________________\n",
            "max_pooling2d_16 (MaxPooling (None, 6, 6, 512)         0         \n",
            "_________________________________________________________________\n",
            "conv2d_17 (Conv2D)           (None, 4, 4, 1024)        4719616   \n",
            "_________________________________________________________________\n",
            "max_pooling2d_17 (MaxPooling (None, 2, 2, 1024)        0         \n",
            "_________________________________________________________________\n",
            "flatten_5 (Flatten)          (None, 4096)              0         \n",
            "_________________________________________________________________\n",
            "dense_11 (Dense)             (None, 2048)              8390656   \n",
            "_________________________________________________________________\n",
            "dense_12 (Dense)             (None, 4096)              8392704   \n",
            "_________________________________________________________________\n",
            "dense_13 (Dense)             (None, 4096)              16781312  \n",
            "_________________________________________________________________\n",
            "dense_14 (Dense)             (None, 101)               413797    \n",
            "=================================================================\n",
            "Total params: 40,176,997\n",
            "Trainable params: 40,176,997\n",
            "Non-trainable params: 0\n",
            "_________________________________________________________________\n"
          ],
          "name": "stdout"
        }
      ]
    },
    {
      "cell_type": "code",
      "metadata": {
        "id": "S6BLVBTyrD3x"
      },
      "source": [
        "opt_6 = Adam()\r\n",
        "\r\n",
        "baseline_model_6.compile(loss='categorical_crossentropy',\r\n",
        "              optimizer=opt_6,\r\n",
        "              metrics=['acc'])"
      ],
      "execution_count": null,
      "outputs": []
    },
    {
      "cell_type": "code",
      "metadata": {
        "colab": {
          "base_uri": "https://localhost:8080/"
        },
        "id": "wWDn__b0rDz9",
        "outputId": "b396a17e-5422-4ecf-c822-ec0bdf3aac58"
      },
      "source": [
        "X_val, y_val = valid_generator_6.next()\r\n",
        "early_stop = EarlyStopping(patience=30, monitor='val_loss', mode='min', restore_best_weights=True)\r\n",
        "\r\n",
        "\r\n",
        "history_baseline_model_6 = baseline_model_6.fit_generator(train_generator_6,\r\n",
        "                              steps_per_epoch=160, #steps_per_epoch,\r\n",
        "                              epochs=100,\r\n",
        "                              validation_data=valid_generator_6,\r\n",
        "                              validation_steps=10, #validation_steps,\r\n",
        "                              callbacks=[early_stop],\r\n",
        "                              shuffle= True\r\n",
        "                             )\r\n",
        "\r\n",
        "baseline_model_6.save('food_baseline_model_6.h5')"
      ],
      "execution_count": null,
      "outputs": [
        {
          "output_type": "stream",
          "text": [
            "/usr/local/lib/python3.6/dist-packages/tensorflow/python/keras/engine/training.py:1844: UserWarning: `Model.fit_generator` is deprecated and will be removed in a future version. Please use `Model.fit`, which supports generators.\n",
            "  warnings.warn('`Model.fit_generator` is deprecated and '\n"
          ],
          "name": "stderr"
        },
        {
          "output_type": "stream",
          "text": [
            "Epoch 1/100\n",
            "160/160 [==============================] - 44s 270ms/step - loss: 4.6318 - acc: 0.0090 - val_loss: 4.6157 - val_acc: 0.0078\n",
            "Epoch 2/100\n",
            "160/160 [==============================] - 43s 268ms/step - loss: 4.6152 - acc: 0.0072 - val_loss: 4.6154 - val_acc: 0.0125\n",
            "Epoch 3/100\n",
            "160/160 [==============================] - 43s 270ms/step - loss: 4.6150 - acc: 0.0129 - val_loss: 4.6157 - val_acc: 0.0094\n",
            "Epoch 4/100\n",
            "160/160 [==============================] - 43s 271ms/step - loss: 4.6157 - acc: 0.0103 - val_loss: 4.6157 - val_acc: 0.0047\n",
            "Epoch 5/100\n",
            "160/160 [==============================] - 44s 272ms/step - loss: 4.6150 - acc: 0.0100 - val_loss: 4.6148 - val_acc: 0.0109\n",
            "Epoch 6/100\n",
            "160/160 [==============================] - 44s 272ms/step - loss: 4.6153 - acc: 0.0116 - val_loss: 4.6151 - val_acc: 0.0109\n",
            "Epoch 7/100\n",
            "160/160 [==============================] - 44s 274ms/step - loss: 4.6158 - acc: 0.0096 - val_loss: 4.6157 - val_acc: 0.0109\n",
            "Epoch 8/100\n",
            "160/160 [==============================] - 44s 273ms/step - loss: 4.6154 - acc: 0.0080 - val_loss: 4.6154 - val_acc: 0.0094\n",
            "Epoch 9/100\n",
            "160/160 [==============================] - 44s 273ms/step - loss: 4.6151 - acc: 0.0101 - val_loss: 4.6156 - val_acc: 0.0063\n",
            "Epoch 10/100\n",
            "160/160 [==============================] - 43s 269ms/step - loss: 4.6154 - acc: 0.0084 - val_loss: 4.6151 - val_acc: 0.0141\n",
            "Epoch 11/100\n",
            "160/160 [==============================] - 44s 273ms/step - loss: 4.6158 - acc: 0.0106 - val_loss: 4.6144 - val_acc: 0.0109\n",
            "Epoch 12/100\n",
            "160/160 [==============================] - 44s 275ms/step - loss: 4.6148 - acc: 0.0092 - val_loss: 4.6152 - val_acc: 0.0094\n",
            "Epoch 13/100\n",
            "160/160 [==============================] - 44s 275ms/step - loss: 4.6160 - acc: 0.0101 - val_loss: 4.6137 - val_acc: 0.0172\n",
            "Epoch 14/100\n",
            "160/160 [==============================] - 44s 273ms/step - loss: 4.6158 - acc: 0.0109 - val_loss: 4.6170 - val_acc: 0.0094\n",
            "Epoch 15/100\n",
            "160/160 [==============================] - 44s 274ms/step - loss: 4.6151 - acc: 0.0113 - val_loss: 4.6152 - val_acc: 0.0094\n",
            "Epoch 16/100\n",
            "160/160 [==============================] - 44s 273ms/step - loss: 4.6156 - acc: 0.0096 - val_loss: 4.6158 - val_acc: 0.0063\n",
            "Epoch 17/100\n",
            "160/160 [==============================] - 44s 277ms/step - loss: 4.6150 - acc: 0.0061 - val_loss: 4.6152 - val_acc: 0.0063\n",
            "Epoch 18/100\n",
            "160/160 [==============================] - 44s 276ms/step - loss: 4.6156 - acc: 0.0091 - val_loss: 4.6159 - val_acc: 0.0078\n",
            "Epoch 19/100\n",
            "160/160 [==============================] - 44s 277ms/step - loss: 4.6150 - acc: 0.0078 - val_loss: 4.6144 - val_acc: 0.0094\n",
            "Epoch 20/100\n",
            "160/160 [==============================] - 44s 277ms/step - loss: 4.6162 - acc: 0.0103 - val_loss: 4.6162 - val_acc: 0.0109\n",
            "Epoch 21/100\n",
            "160/160 [==============================] - 44s 276ms/step - loss: 4.6156 - acc: 0.0086 - val_loss: 4.6145 - val_acc: 0.0094\n",
            "Epoch 22/100\n",
            "160/160 [==============================] - 44s 277ms/step - loss: 4.6155 - acc: 0.0077 - val_loss: 4.6149 - val_acc: 0.0109\n",
            "Epoch 23/100\n",
            "160/160 [==============================] - 44s 275ms/step - loss: 4.6152 - acc: 0.0086 - val_loss: 4.6154 - val_acc: 0.0094\n",
            "Epoch 24/100\n",
            "160/160 [==============================] - 44s 277ms/step - loss: 4.6153 - acc: 0.0094 - val_loss: 4.6135 - val_acc: 0.0156\n",
            "Epoch 25/100\n",
            "160/160 [==============================] - 44s 275ms/step - loss: 4.6155 - acc: 0.0104 - val_loss: 4.6155 - val_acc: 0.0047\n",
            "Epoch 26/100\n",
            "160/160 [==============================] - 44s 275ms/step - loss: 4.6152 - acc: 0.0100 - val_loss: 4.6146 - val_acc: 0.0109\n",
            "Epoch 27/100\n",
            "160/160 [==============================] - 44s 276ms/step - loss: 4.6154 - acc: 0.0100 - val_loss: 4.6156 - val_acc: 0.0094\n",
            "Epoch 28/100\n",
            "160/160 [==============================] - 44s 275ms/step - loss: 4.6153 - acc: 0.0098 - val_loss: 4.6140 - val_acc: 0.0063\n",
            "Epoch 29/100\n",
            "160/160 [==============================] - 45s 279ms/step - loss: 4.6154 - acc: 0.0124 - val_loss: 4.6156 - val_acc: 0.0125\n",
            "Epoch 30/100\n",
            "160/160 [==============================] - 44s 274ms/step - loss: 4.6155 - acc: 0.0118 - val_loss: 4.6145 - val_acc: 0.0078\n",
            "Epoch 31/100\n",
            "160/160 [==============================] - 44s 276ms/step - loss: 4.6153 - acc: 0.0089 - val_loss: 4.6146 - val_acc: 0.0109\n",
            "Epoch 32/100\n",
            "160/160 [==============================] - 44s 276ms/step - loss: 4.6149 - acc: 0.0105 - val_loss: 4.6164 - val_acc: 0.0094\n",
            "Epoch 33/100\n",
            "160/160 [==============================] - 44s 275ms/step - loss: 4.6158 - acc: 0.0103 - val_loss: 4.6155 - val_acc: 0.0125\n",
            "Epoch 34/100\n",
            "160/160 [==============================] - 44s 278ms/step - loss: 4.6153 - acc: 0.0101 - val_loss: 4.6159 - val_acc: 0.0078\n",
            "Epoch 35/100\n",
            "160/160 [==============================] - 45s 278ms/step - loss: 4.6152 - acc: 0.0082 - val_loss: 4.6146 - val_acc: 0.0125\n",
            "Epoch 36/100\n",
            "160/160 [==============================] - 44s 275ms/step - loss: 4.6157 - acc: 0.0105 - val_loss: 4.6164 - val_acc: 0.0047\n",
            "Epoch 37/100\n",
            "160/160 [==============================] - 44s 274ms/step - loss: 4.6157 - acc: 0.0085 - val_loss: 4.6160 - val_acc: 0.0078\n",
            "Epoch 38/100\n",
            "160/160 [==============================] - 43s 270ms/step - loss: 4.6152 - acc: 0.0107 - val_loss: 4.6147 - val_acc: 0.0125\n",
            "Epoch 39/100\n",
            "160/160 [==============================] - 43s 267ms/step - loss: 4.6155 - acc: 0.0072 - val_loss: 4.6161 - val_acc: 0.0047\n",
            "Epoch 40/100\n",
            "160/160 [==============================] - 42s 263ms/step - loss: 4.6159 - acc: 0.0099 - val_loss: 4.6152 - val_acc: 0.0063\n",
            "Epoch 41/100\n",
            "160/160 [==============================] - 42s 261ms/step - loss: 4.6152 - acc: 0.0103 - val_loss: 4.6163 - val_acc: 0.0078\n",
            "Epoch 42/100\n",
            "160/160 [==============================] - 42s 260ms/step - loss: 4.6151 - acc: 0.0120 - val_loss: 4.6155 - val_acc: 0.0063\n",
            "Epoch 43/100\n",
            "160/160 [==============================] - 41s 259ms/step - loss: 4.6154 - acc: 0.0083 - val_loss: 4.6164 - val_acc: 0.0125\n",
            "Epoch 44/100\n",
            "160/160 [==============================] - 41s 259ms/step - loss: 4.6151 - acc: 0.0089 - val_loss: 4.6139 - val_acc: 0.0063\n",
            "Epoch 45/100\n",
            "160/160 [==============================] - 41s 258ms/step - loss: 4.6160 - acc: 0.0102 - val_loss: 4.6154 - val_acc: 0.0047\n",
            "Epoch 46/100\n",
            "160/160 [==============================] - 42s 259ms/step - loss: 4.6153 - acc: 0.0103 - val_loss: 4.6147 - val_acc: 0.0141\n",
            "Epoch 47/100\n",
            "160/160 [==============================] - 41s 256ms/step - loss: 4.6151 - acc: 0.0096 - val_loss: 4.6163 - val_acc: 0.0094\n",
            "Epoch 48/100\n",
            "160/160 [==============================] - 41s 258ms/step - loss: 4.6160 - acc: 0.0097 - val_loss: 4.6153 - val_acc: 0.0063\n",
            "Epoch 49/100\n",
            "160/160 [==============================] - 41s 257ms/step - loss: 4.6155 - acc: 0.0097 - val_loss: 4.6143 - val_acc: 0.0047\n",
            "Epoch 50/100\n",
            "160/160 [==============================] - 41s 258ms/step - loss: 4.6155 - acc: 0.0077 - val_loss: 4.6163 - val_acc: 0.0047\n",
            "Epoch 51/100\n",
            "160/160 [==============================] - 41s 257ms/step - loss: 4.6159 - acc: 0.0093 - val_loss: 4.6156 - val_acc: 0.0047\n",
            "Epoch 52/100\n",
            "160/160 [==============================] - 41s 257ms/step - loss: 4.6153 - acc: 0.0090 - val_loss: 4.6145 - val_acc: 0.0078\n",
            "Epoch 53/100\n",
            "160/160 [==============================] - 41s 257ms/step - loss: 4.6157 - acc: 0.0115 - val_loss: 4.6149 - val_acc: 0.0031\n",
            "Epoch 54/100\n",
            "160/160 [==============================] - 41s 259ms/step - loss: 4.6156 - acc: 0.0104 - val_loss: 4.6161 - val_acc: 0.0078\n"
          ],
          "name": "stdout"
        }
      ]
    },
    {
      "cell_type": "markdown",
      "metadata": {
        "id": "8LD_KlL-tKXL"
      },
      "source": [
        "Model 7 - Add Dropout"
      ]
    },
    {
      "cell_type": "code",
      "metadata": {
        "colab": {
          "base_uri": "https://localhost:8080/"
        },
        "id": "7m-QJLKYrDv2",
        "outputId": "0db3f07b-d904-4df5-bfcf-0466dc7ddb01"
      },
      "source": [
        "train_datagen_7 = ImageDataGenerator(\r\n",
        "                                  rescale = 1./255.)\r\n",
        "\r\n",
        "valid_datagen_7 = ImageDataGenerator(rescale = 1./255)\r\n",
        "\r\n",
        "test_datagen_7 = ImageDataGenerator(rescale = 1./255)\r\n",
        "\r\n",
        "train_generator_7 = train_datagen_7.flow_from_directory(directory=\"/content/output/train\",\r\n",
        "                                                    subset=\"training\",\r\n",
        "                                                    batch_size=64,\r\n",
        "                                                    shuffle=True,\r\n",
        "                                                    class_mode=\"categorical\",\r\n",
        "                                                    target_size=(64,64),\r\n",
        "                                                    seed=42)\r\n",
        "\r\n",
        "\r\n",
        "\r\n",
        "valid_generator_7 = valid_datagen_7.flow_from_directory(directory=\"/content/output/val\",\r\n",
        "                                                  batch_size=64,\r\n",
        "                                                  shuffle=True,\r\n",
        "                                                  class_mode=\"categorical\",\r\n",
        "                                                  target_size=(64,64),\r\n",
        "                                                  seed=42)"
      ],
      "execution_count": null,
      "outputs": [
        {
          "output_type": "stream",
          "text": [
            "Found 70700 images belonging to 101 classes.\n",
            "Found 20200 images belonging to 101 classes.\n"
          ],
          "name": "stdout"
        }
      ]
    },
    {
      "cell_type": "code",
      "metadata": {
        "colab": {
          "base_uri": "https://localhost:8080/"
        },
        "id": "0jv5rh4IrDsK",
        "outputId": "518dcae4-8517-4445-ef20-b2860e80b76e"
      },
      "source": [
        "X_train, y_train = train_generator_7.next()\r\n",
        "#Input Layer\r\n",
        "baseline_model_7 = Sequential()\r\n",
        "\r\n",
        "baseline_model_7.add(Conv2D(filters=128, kernel_size=(3, 3), activation='relu', padding='valid', input_shape=X_train.shape[1:]))\r\n",
        "baseline_model_7.add(MaxPooling2D(pool_size=(2, 2), strides=(2,2)))\r\n",
        "\r\n",
        "baseline_model_7.add(Conv2D(filters=256, kernel_size=(3, 3), activation='relu', padding='valid'))\r\n",
        "baseline_model_7.add(MaxPooling2D(pool_size=(2, 2), strides=(2,2)))\r\n",
        "\r\n",
        "baseline_model_7.add(Conv2D(filters=512, kernel_size=(3, 3), activation='relu', padding='valid'))\r\n",
        "baseline_model_7.add(MaxPooling2D(pool_size=(2, 2), strides=(2,2)))\r\n",
        "\r\n",
        "baseline_model_7.add(Conv2D(filters=1024, kernel_size=(3, 3), activation='relu', padding='valid'))\r\n",
        "baseline_model_7.add(MaxPooling2D(pool_size=(2, 2), strides=(2,2)))\r\n",
        "\r\n",
        "# MLP - input layer:\r\n",
        "baseline_model_7.add(Flatten())\r\n",
        "# MLP - hidden layer:\r\n",
        "baseline_model_7.add(Dense(2048, activation='relu'))\r\n",
        "baseline_model_7.add(Dropout(0.2))\r\n",
        "\r\n",
        "\r\n",
        "\r\n",
        "# MLP - output layer:\r\n",
        "baseline_model_7.add(Dense(y_train.shape[1], activation='softmax'))\r\n",
        "\r\n",
        "# Check built model:\r\n",
        "baseline_model_7.summary()"
      ],
      "execution_count": null,
      "outputs": [
        {
          "output_type": "stream",
          "text": [
            "Model: \"sequential_6\"\n",
            "_________________________________________________________________\n",
            "Layer (type)                 Output Shape              Param #   \n",
            "=================================================================\n",
            "conv2d_18 (Conv2D)           (None, 62, 62, 128)       3584      \n",
            "_________________________________________________________________\n",
            "max_pooling2d_18 (MaxPooling (None, 31, 31, 128)       0         \n",
            "_________________________________________________________________\n",
            "conv2d_19 (Conv2D)           (None, 29, 29, 256)       295168    \n",
            "_________________________________________________________________\n",
            "max_pooling2d_19 (MaxPooling (None, 14, 14, 256)       0         \n",
            "_________________________________________________________________\n",
            "conv2d_20 (Conv2D)           (None, 12, 12, 512)       1180160   \n",
            "_________________________________________________________________\n",
            "max_pooling2d_20 (MaxPooling (None, 6, 6, 512)         0         \n",
            "_________________________________________________________________\n",
            "conv2d_21 (Conv2D)           (None, 4, 4, 1024)        4719616   \n",
            "_________________________________________________________________\n",
            "max_pooling2d_21 (MaxPooling (None, 2, 2, 1024)        0         \n",
            "_________________________________________________________________\n",
            "flatten_6 (Flatten)          (None, 4096)              0         \n",
            "_________________________________________________________________\n",
            "dense_15 (Dense)             (None, 2048)              8390656   \n",
            "_________________________________________________________________\n",
            "dropout (Dropout)            (None, 2048)              0         \n",
            "_________________________________________________________________\n",
            "dense_16 (Dense)             (None, 101)               206949    \n",
            "=================================================================\n",
            "Total params: 14,796,133\n",
            "Trainable params: 14,796,133\n",
            "Non-trainable params: 0\n",
            "_________________________________________________________________\n"
          ],
          "name": "stdout"
        }
      ]
    },
    {
      "cell_type": "code",
      "metadata": {
        "id": "eJ3wbN3-sfOW"
      },
      "source": [
        "opt_7 = Adam()\r\n",
        "\r\n",
        "baseline_model_7.compile(loss='categorical_crossentropy',\r\n",
        "              optimizer=opt_7,\r\n",
        "              metrics=['acc'])"
      ],
      "execution_count": null,
      "outputs": []
    },
    {
      "cell_type": "code",
      "metadata": {
        "colab": {
          "base_uri": "https://localhost:8080/"
        },
        "id": "peCgNieuskcB",
        "outputId": "76ad47fa-9070-467e-e06a-7a2f711bda46"
      },
      "source": [
        "X_val, y_val = valid_generator_7.next()\r\n",
        "early_stop = EarlyStopping(patience=30, monitor='val_loss', mode='min', restore_best_weights=True)\r\n",
        "\r\n",
        "\r\n",
        "history_baseline_model_7 = baseline_model_7.fit_generator(train_generator_7,\r\n",
        "                              steps_per_epoch=160, #steps_per_epoch,\r\n",
        "                              epochs=100,\r\n",
        "                              validation_data=valid_generator_7,\r\n",
        "                              validation_steps=10, #validation_steps,\r\n",
        "                              callbacks=[early_stop],\r\n",
        "                              shuffle= True\r\n",
        "                             )\r\n",
        "\r\n",
        "baseline_model_7.save('food_baseline_model_7.h5')"
      ],
      "execution_count": null,
      "outputs": [
        {
          "output_type": "stream",
          "text": [
            "/usr/local/lib/python3.6/dist-packages/tensorflow/python/keras/engine/training.py:1844: UserWarning: `Model.fit_generator` is deprecated and will be removed in a future version. Please use `Model.fit`, which supports generators.\n",
            "  warnings.warn('`Model.fit_generator` is deprecated and '\n"
          ],
          "name": "stderr"
        },
        {
          "output_type": "stream",
          "text": [
            "Epoch 1/100\n",
            "160/160 [==============================] - 41s 256ms/step - loss: 4.6210 - acc: 0.0100 - val_loss: 4.5640 - val_acc: 0.0094\n",
            "Epoch 2/100\n",
            "160/160 [==============================] - 41s 254ms/step - loss: 4.5604 - acc: 0.0160 - val_loss: 4.4878 - val_acc: 0.0188\n",
            "Epoch 3/100\n",
            "160/160 [==============================] - 41s 254ms/step - loss: 4.4632 - acc: 0.0317 - val_loss: 4.4009 - val_acc: 0.0344\n",
            "Epoch 4/100\n",
            "160/160 [==============================] - 41s 254ms/step - loss: 4.3441 - acc: 0.0507 - val_loss: 4.2987 - val_acc: 0.0516\n",
            "Epoch 5/100\n",
            "160/160 [==============================] - 41s 254ms/step - loss: 4.2673 - acc: 0.0540 - val_loss: 4.1766 - val_acc: 0.0844\n",
            "Epoch 6/100\n",
            "160/160 [==============================] - 41s 254ms/step - loss: 4.1471 - acc: 0.0758 - val_loss: 4.0332 - val_acc: 0.0938\n",
            "Epoch 7/100\n",
            "160/160 [==============================] - 41s 256ms/step - loss: 4.0421 - acc: 0.0928 - val_loss: 3.9713 - val_acc: 0.0984\n",
            "Epoch 8/100\n",
            "160/160 [==============================] - 41s 255ms/step - loss: 3.9708 - acc: 0.0993 - val_loss: 4.0029 - val_acc: 0.1281\n",
            "Epoch 9/100\n",
            "160/160 [==============================] - 41s 254ms/step - loss: 3.9253 - acc: 0.1078 - val_loss: 3.9319 - val_acc: 0.1109\n",
            "Epoch 10/100\n",
            "160/160 [==============================] - 41s 254ms/step - loss: 3.8342 - acc: 0.1205 - val_loss: 3.9577 - val_acc: 0.1016\n",
            "Epoch 11/100\n",
            "160/160 [==============================] - 41s 254ms/step - loss: 3.7761 - acc: 0.1300 - val_loss: 3.8700 - val_acc: 0.1203\n",
            "Epoch 12/100\n",
            "160/160 [==============================] - 41s 255ms/step - loss: 3.6909 - acc: 0.1477 - val_loss: 3.6944 - val_acc: 0.1437\n",
            "Epoch 13/100\n",
            "160/160 [==============================] - 41s 255ms/step - loss: 3.6593 - acc: 0.1487 - val_loss: 3.7439 - val_acc: 0.1500\n",
            "Epoch 14/100\n",
            "160/160 [==============================] - 41s 254ms/step - loss: 3.6020 - acc: 0.1566 - val_loss: 3.5643 - val_acc: 0.1656\n",
            "Epoch 15/100\n",
            "160/160 [==============================] - 41s 256ms/step - loss: 3.5271 - acc: 0.1701 - val_loss: 3.5536 - val_acc: 0.1781\n",
            "Epoch 16/100\n",
            "160/160 [==============================] - 41s 255ms/step - loss: 3.4819 - acc: 0.1877 - val_loss: 3.5503 - val_acc: 0.1625\n",
            "Epoch 17/100\n",
            "160/160 [==============================] - 41s 254ms/step - loss: 3.4901 - acc: 0.1781 - val_loss: 3.5161 - val_acc: 0.1641\n",
            "Epoch 18/100\n",
            "160/160 [==============================] - 41s 256ms/step - loss: 3.3416 - acc: 0.2065 - val_loss: 3.5324 - val_acc: 0.1625\n",
            "Epoch 19/100\n",
            "160/160 [==============================] - 41s 253ms/step - loss: 3.2830 - acc: 0.2261 - val_loss: 3.5022 - val_acc: 0.1797\n",
            "Epoch 20/100\n",
            "160/160 [==============================] - 41s 254ms/step - loss: 3.2798 - acc: 0.2191 - val_loss: 3.4191 - val_acc: 0.2016\n",
            "Epoch 21/100\n",
            "160/160 [==============================] - 41s 254ms/step - loss: 3.2715 - acc: 0.2181 - val_loss: 3.4499 - val_acc: 0.2016\n",
            "Epoch 22/100\n",
            "160/160 [==============================] - 41s 256ms/step - loss: 3.2056 - acc: 0.2396 - val_loss: 3.4513 - val_acc: 0.1906\n",
            "Epoch 23/100\n",
            "160/160 [==============================] - 41s 256ms/step - loss: 3.1695 - acc: 0.2457 - val_loss: 3.2906 - val_acc: 0.2109\n",
            "Epoch 24/100\n",
            "160/160 [==============================] - 41s 255ms/step - loss: 3.0900 - acc: 0.2679 - val_loss: 3.4284 - val_acc: 0.2188\n",
            "Epoch 25/100\n",
            "160/160 [==============================] - 41s 255ms/step - loss: 3.0891 - acc: 0.2624 - val_loss: 3.2324 - val_acc: 0.2250\n",
            "Epoch 26/100\n",
            "160/160 [==============================] - 41s 255ms/step - loss: 3.0748 - acc: 0.2599 - val_loss: 3.4379 - val_acc: 0.1844\n",
            "Epoch 27/100\n",
            "160/160 [==============================] - 41s 254ms/step - loss: 3.0122 - acc: 0.2695 - val_loss: 3.3858 - val_acc: 0.2047\n",
            "Epoch 28/100\n",
            "160/160 [==============================] - 41s 255ms/step - loss: 2.9652 - acc: 0.2859 - val_loss: 3.2198 - val_acc: 0.2453\n",
            "Epoch 29/100\n",
            "160/160 [==============================] - 41s 254ms/step - loss: 2.9428 - acc: 0.2836 - val_loss: 3.3477 - val_acc: 0.2188\n",
            "Epoch 30/100\n",
            "160/160 [==============================] - 41s 256ms/step - loss: 2.8776 - acc: 0.2980 - val_loss: 3.3816 - val_acc: 0.1984\n",
            "Epoch 31/100\n",
            "160/160 [==============================] - 41s 254ms/step - loss: 2.8203 - acc: 0.3155 - val_loss: 3.3527 - val_acc: 0.2297\n",
            "Epoch 32/100\n",
            "160/160 [==============================] - 41s 254ms/step - loss: 2.8230 - acc: 0.3086 - val_loss: 3.3870 - val_acc: 0.2141\n",
            "Epoch 33/100\n",
            "160/160 [==============================] - 41s 255ms/step - loss: 2.7687 - acc: 0.3194 - val_loss: 3.2180 - val_acc: 0.2438\n",
            "Epoch 34/100\n",
            "160/160 [==============================] - 41s 255ms/step - loss: 2.7419 - acc: 0.3184 - val_loss: 3.4024 - val_acc: 0.1937\n",
            "Epoch 35/100\n",
            "160/160 [==============================] - 41s 255ms/step - loss: 2.6917 - acc: 0.3380 - val_loss: 3.2616 - val_acc: 0.2531\n",
            "Epoch 36/100\n",
            "160/160 [==============================] - 41s 254ms/step - loss: 2.6903 - acc: 0.3335 - val_loss: 3.2830 - val_acc: 0.2328\n",
            "Epoch 37/100\n",
            "160/160 [==============================] - 41s 255ms/step - loss: 2.6415 - acc: 0.3440 - val_loss: 3.2351 - val_acc: 0.2422\n",
            "Epoch 38/100\n",
            "160/160 [==============================] - 41s 256ms/step - loss: 2.6193 - acc: 0.3501 - val_loss: 3.2502 - val_acc: 0.2359\n",
            "Epoch 39/100\n",
            "160/160 [==============================] - 41s 254ms/step - loss: 2.5853 - acc: 0.3563 - val_loss: 3.4897 - val_acc: 0.2234\n",
            "Epoch 40/100\n",
            "160/160 [==============================] - 41s 254ms/step - loss: 2.5668 - acc: 0.3689 - val_loss: 3.2917 - val_acc: 0.2297\n",
            "Epoch 41/100\n",
            "160/160 [==============================] - 41s 255ms/step - loss: 2.5141 - acc: 0.3770 - val_loss: 3.3121 - val_acc: 0.2438\n",
            "Epoch 42/100\n",
            "160/160 [==============================] - 41s 255ms/step - loss: 2.4601 - acc: 0.3843 - val_loss: 3.3683 - val_acc: 0.2281\n",
            "Epoch 43/100\n",
            "160/160 [==============================] - 41s 256ms/step - loss: 2.5091 - acc: 0.3773 - val_loss: 3.3974 - val_acc: 0.2359\n",
            "Epoch 44/100\n",
            "160/160 [==============================] - 41s 254ms/step - loss: 2.4038 - acc: 0.4018 - val_loss: 3.2408 - val_acc: 0.2422\n",
            "Epoch 45/100\n",
            "160/160 [==============================] - 41s 256ms/step - loss: 2.3777 - acc: 0.4059 - val_loss: 3.5460 - val_acc: 0.2172\n",
            "Epoch 46/100\n",
            "160/160 [==============================] - 41s 255ms/step - loss: 2.3920 - acc: 0.4072 - val_loss: 3.4311 - val_acc: 0.2453\n",
            "Epoch 47/100\n",
            "160/160 [==============================] - 41s 255ms/step - loss: 2.2465 - acc: 0.4347 - val_loss: 3.5046 - val_acc: 0.2016\n",
            "Epoch 48/100\n",
            "160/160 [==============================] - 41s 255ms/step - loss: 2.2444 - acc: 0.4288 - val_loss: 3.3716 - val_acc: 0.2297\n",
            "Epoch 49/100\n",
            "160/160 [==============================] - 41s 255ms/step - loss: 2.2520 - acc: 0.4296 - val_loss: 3.5121 - val_acc: 0.2609\n",
            "Epoch 50/100\n",
            "160/160 [==============================] - 41s 254ms/step - loss: 2.2018 - acc: 0.4415 - val_loss: 3.5432 - val_acc: 0.2391\n",
            "Epoch 51/100\n",
            "160/160 [==============================] - 41s 255ms/step - loss: 2.1592 - acc: 0.4589 - val_loss: 3.4854 - val_acc: 0.2516\n",
            "Epoch 52/100\n",
            "160/160 [==============================] - 41s 254ms/step - loss: 2.1559 - acc: 0.4531 - val_loss: 3.4933 - val_acc: 0.2453\n",
            "Epoch 53/100\n",
            "160/160 [==============================] - 41s 255ms/step - loss: 2.1244 - acc: 0.4579 - val_loss: 3.3782 - val_acc: 0.2375\n",
            "Epoch 54/100\n",
            "160/160 [==============================] - 41s 253ms/step - loss: 2.0657 - acc: 0.4765 - val_loss: 3.6032 - val_acc: 0.2422\n",
            "Epoch 55/100\n",
            "160/160 [==============================] - 41s 255ms/step - loss: 2.0250 - acc: 0.4776 - val_loss: 3.5134 - val_acc: 0.2422\n",
            "Epoch 56/100\n",
            "160/160 [==============================] - 41s 255ms/step - loss: 2.0034 - acc: 0.4912 - val_loss: 3.6174 - val_acc: 0.2094\n",
            "Epoch 57/100\n",
            "160/160 [==============================] - 41s 256ms/step - loss: 2.0117 - acc: 0.4873 - val_loss: 3.6173 - val_acc: 0.2484\n",
            "Epoch 58/100\n",
            "160/160 [==============================] - 41s 255ms/step - loss: 1.9637 - acc: 0.4942 - val_loss: 3.5284 - val_acc: 0.2469\n",
            "Epoch 59/100\n",
            "160/160 [==============================] - 41s 255ms/step - loss: 1.8950 - acc: 0.5203 - val_loss: 3.6612 - val_acc: 0.2391\n",
            "Epoch 60/100\n",
            "160/160 [==============================] - 41s 255ms/step - loss: 1.8426 - acc: 0.5227 - val_loss: 3.5058 - val_acc: 0.2594\n",
            "Epoch 61/100\n",
            "160/160 [==============================] - 41s 257ms/step - loss: 1.8452 - acc: 0.5223 - val_loss: 3.9213 - val_acc: 0.2094\n",
            "Epoch 62/100\n",
            "160/160 [==============================] - 41s 255ms/step - loss: 1.7853 - acc: 0.5332 - val_loss: 3.7884 - val_acc: 0.2000\n",
            "Epoch 63/100\n",
            "160/160 [==============================] - 41s 256ms/step - loss: 1.7412 - acc: 0.5467 - val_loss: 4.0530 - val_acc: 0.2297\n"
          ],
          "name": "stdout"
        }
      ]
    },
    {
      "cell_type": "markdown",
      "metadata": {
        "id": "NywPVdS7uNoe"
      },
      "source": [
        "Model 8 - Increase Dropout Rate"
      ]
    },
    {
      "cell_type": "code",
      "metadata": {
        "id": "VRR4m14DskVB",
        "colab": {
          "base_uri": "https://localhost:8080/"
        },
        "outputId": "1faee4ef-e02e-4b9d-f067-0ba13e0e8264"
      },
      "source": [
        "train_datagen_8 = ImageDataGenerator(\r\n",
        "                                  rescale = 1./255.)\r\n",
        "\r\n",
        "valid_datagen_8 = ImageDataGenerator(rescale = 1./255)\r\n",
        "\r\n",
        "test_datagen_8 = ImageDataGenerator(rescale = 1./255)\r\n",
        "\r\n",
        "train_generator_8 = train_datagen_8.flow_from_directory(directory=\"/content/output/train\",\r\n",
        "                                                    subset=\"training\",\r\n",
        "                                                    batch_size=64,\r\n",
        "                                                    shuffle=True,\r\n",
        "                                                    class_mode=\"categorical\",\r\n",
        "                                                    target_size=(64,64),\r\n",
        "                                                    seed=42)\r\n",
        "\r\n",
        "\r\n",
        "\r\n",
        "valid_generator_8 = valid_datagen_8.flow_from_directory(directory=\"/content/output/val\",\r\n",
        "                                                  batch_size=64,\r\n",
        "                                                  shuffle=True,\r\n",
        "                                                  class_mode=\"categorical\",\r\n",
        "                                                  target_size=(64,64),\r\n",
        "                                                  seed=42)"
      ],
      "execution_count": null,
      "outputs": [
        {
          "output_type": "stream",
          "text": [
            "Found 70700 images belonging to 101 classes.\n",
            "Found 20200 images belonging to 101 classes.\n"
          ],
          "name": "stdout"
        }
      ]
    },
    {
      "cell_type": "code",
      "metadata": {
        "id": "9EaOFWhYskOA",
        "colab": {
          "base_uri": "https://localhost:8080/"
        },
        "outputId": "9911eebe-f522-4274-b66b-ea0dd73ea877"
      },
      "source": [
        "X_train, y_train = train_generator_8.next()\r\n",
        "#Input Layer\r\n",
        "baseline_model_8 = Sequential()\r\n",
        "\r\n",
        "baseline_model_8.add(Conv2D(filters=128, kernel_size=(3, 3), activation='relu', padding='valid', input_shape=X_train.shape[1:]))\r\n",
        "baseline_model_8.add(MaxPooling2D(pool_size=(2, 2), strides=(2,2)))\r\n",
        "\r\n",
        "baseline_model_8.add(Conv2D(filters=256, kernel_size=(3, 3), activation='relu', padding='valid'))\r\n",
        "baseline_model_8.add(MaxPooling2D(pool_size=(2, 2), strides=(2,2)))\r\n",
        "\r\n",
        "baseline_model_8.add(Conv2D(filters=512, kernel_size=(3, 3), activation='relu', padding='valid'))\r\n",
        "baseline_model_8.add(MaxPooling2D(pool_size=(2, 2), strides=(2,2)))\r\n",
        "\r\n",
        "baseline_model_8.add(Conv2D(filters=1024, kernel_size=(3, 3), activation='relu', padding='valid'))\r\n",
        "baseline_model_8.add(MaxPooling2D(pool_size=(2, 2), strides=(2,2)))\r\n",
        "\r\n",
        "# MLP - input layer:\r\n",
        "baseline_model_8.add(Flatten())\r\n",
        "# MLP - hidden layer:\r\n",
        "baseline_model_8.add(Dense(2048, activation='relu'))\r\n",
        "baseline_model_8.add(Dropout(0.3))\r\n",
        "\r\n",
        "\r\n",
        "# MLP - output layer:\r\n",
        "baseline_model_8.add(Dense(y_train.shape[1], activation='softmax'))\r\n",
        "\r\n",
        "# Check built model:\r\n",
        "baseline_model_8.summary()"
      ],
      "execution_count": null,
      "outputs": [
        {
          "output_type": "stream",
          "text": [
            "Model: \"sequential_9\"\n",
            "_________________________________________________________________\n",
            "Layer (type)                 Output Shape              Param #   \n",
            "=================================================================\n",
            "conv2d_30 (Conv2D)           (None, 62, 62, 128)       3584      \n",
            "_________________________________________________________________\n",
            "max_pooling2d_30 (MaxPooling (None, 31, 31, 128)       0         \n",
            "_________________________________________________________________\n",
            "conv2d_31 (Conv2D)           (None, 29, 29, 256)       295168    \n",
            "_________________________________________________________________\n",
            "max_pooling2d_31 (MaxPooling (None, 14, 14, 256)       0         \n",
            "_________________________________________________________________\n",
            "conv2d_32 (Conv2D)           (None, 12, 12, 512)       1180160   \n",
            "_________________________________________________________________\n",
            "max_pooling2d_32 (MaxPooling (None, 6, 6, 512)         0         \n",
            "_________________________________________________________________\n",
            "conv2d_33 (Conv2D)           (None, 4, 4, 1024)        4719616   \n",
            "_________________________________________________________________\n",
            "max_pooling2d_33 (MaxPooling (None, 2, 2, 1024)        0         \n",
            "_________________________________________________________________\n",
            "flatten_9 (Flatten)          (None, 4096)              0         \n",
            "_________________________________________________________________\n",
            "dense_21 (Dense)             (None, 2048)              8390656   \n",
            "_________________________________________________________________\n",
            "dropout_3 (Dropout)          (None, 2048)              0         \n",
            "_________________________________________________________________\n",
            "dense_22 (Dense)             (None, 101)               206949    \n",
            "=================================================================\n",
            "Total params: 14,796,133\n",
            "Trainable params: 14,796,133\n",
            "Non-trainable params: 0\n",
            "_________________________________________________________________\n"
          ],
          "name": "stdout"
        }
      ]
    },
    {
      "cell_type": "code",
      "metadata": {
        "id": "YxRH7IbPskF_"
      },
      "source": [
        "opt_8 = Adam()\r\n",
        "\r\n",
        "baseline_model_8.compile(loss='categorical_crossentropy',\r\n",
        "              optimizer=opt_8,\r\n",
        "              metrics=['acc'])"
      ],
      "execution_count": null,
      "outputs": []
    },
    {
      "cell_type": "code",
      "metadata": {
        "id": "4lsvck5Fsj91",
        "colab": {
          "base_uri": "https://localhost:8080/"
        },
        "outputId": "b414670b-d3c3-4154-f0b2-c77c04d82e61"
      },
      "source": [
        "X_val, y_val = valid_generator_8.next()\r\n",
        "early_stop = EarlyStopping(patience=30, monitor='val_loss', mode='min', restore_best_weights=True)\r\n",
        "\r\n",
        "\r\n",
        "history_baseline_model_8 = baseline_model_8.fit_generator(train_generator_8,\r\n",
        "                              steps_per_epoch=160, #steps_per_epoch,\r\n",
        "                              epochs=100,\r\n",
        "                              validation_data=valid_generator_8,\r\n",
        "                              validation_steps=10, #validation_steps,\r\n",
        "                              callbacks=[early_stop],\r\n",
        "                              shuffle= True\r\n",
        "                             )\r\n",
        "\r\n",
        "baseline_model_8.save('food_baseline_model_8.h5')"
      ],
      "execution_count": null,
      "outputs": [
        {
          "output_type": "stream",
          "text": [
            "/usr/local/lib/python3.6/dist-packages/tensorflow/python/keras/engine/training.py:1844: UserWarning: `Model.fit_generator` is deprecated and will be removed in a future version. Please use `Model.fit`, which supports generators.\n",
            "  warnings.warn('`Model.fit_generator` is deprecated and '\n"
          ],
          "name": "stderr"
        },
        {
          "output_type": "stream",
          "text": [
            "Epoch 1/100\n",
            "160/160 [==============================] - 45s 280ms/step - loss: 4.6185 - acc: 0.0107 - val_loss: 4.5850 - val_acc: 0.0219\n",
            "Epoch 2/100\n",
            "160/160 [==============================] - 44s 278ms/step - loss: 4.5559 - acc: 0.0165 - val_loss: 4.4840 - val_acc: 0.0188\n",
            "Epoch 3/100\n",
            "160/160 [==============================] - 45s 279ms/step - loss: 4.4592 - acc: 0.0306 - val_loss: 4.4657 - val_acc: 0.0437\n",
            "Epoch 4/100\n",
            "160/160 [==============================] - 45s 283ms/step - loss: 4.3732 - acc: 0.0482 - val_loss: 4.2955 - val_acc: 0.0469\n",
            "Epoch 5/100\n",
            "160/160 [==============================] - 45s 278ms/step - loss: 4.2703 - acc: 0.0575 - val_loss: 4.2132 - val_acc: 0.0625\n",
            "Epoch 6/100\n",
            "160/160 [==============================] - 45s 280ms/step - loss: 4.1734 - acc: 0.0651 - val_loss: 4.1190 - val_acc: 0.0766\n",
            "Epoch 7/100\n",
            "160/160 [==============================] - 45s 280ms/step - loss: 4.1049 - acc: 0.0822 - val_loss: 3.9930 - val_acc: 0.0938\n",
            "Epoch 8/100\n",
            "160/160 [==============================] - 45s 279ms/step - loss: 4.0239 - acc: 0.0948 - val_loss: 4.0936 - val_acc: 0.0828\n",
            "Epoch 9/100\n",
            "160/160 [==============================] - 44s 277ms/step - loss: 3.9881 - acc: 0.0964 - val_loss: 3.9800 - val_acc: 0.0906\n",
            "Epoch 10/100\n",
            "160/160 [==============================] - 45s 279ms/step - loss: 3.9339 - acc: 0.1097 - val_loss: 4.0367 - val_acc: 0.0859\n",
            "Epoch 11/100\n",
            "160/160 [==============================] - 45s 280ms/step - loss: 3.8636 - acc: 0.1182 - val_loss: 3.8879 - val_acc: 0.1187\n",
            "Epoch 12/100\n",
            "160/160 [==============================] - 45s 278ms/step - loss: 3.8021 - acc: 0.1248 - val_loss: 3.9266 - val_acc: 0.1047\n",
            "Epoch 13/100\n",
            "160/160 [==============================] - 44s 278ms/step - loss: 3.7411 - acc: 0.1427 - val_loss: 3.8577 - val_acc: 0.1172\n",
            "Epoch 14/100\n",
            "160/160 [==============================] - 45s 280ms/step - loss: 3.6891 - acc: 0.1446 - val_loss: 3.6962 - val_acc: 0.1281\n",
            "Epoch 15/100\n",
            "160/160 [==============================] - 45s 281ms/step - loss: 3.6586 - acc: 0.1552 - val_loss: 3.7204 - val_acc: 0.1375\n",
            "Epoch 16/100\n",
            "160/160 [==============================] - 45s 280ms/step - loss: 3.5933 - acc: 0.1668 - val_loss: 3.7127 - val_acc: 0.1484\n",
            "Epoch 17/100\n",
            "160/160 [==============================] - 45s 278ms/step - loss: 3.5810 - acc: 0.1720 - val_loss: 3.5655 - val_acc: 0.1813\n",
            "Epoch 18/100\n",
            "160/160 [==============================] - 45s 281ms/step - loss: 3.5059 - acc: 0.1811 - val_loss: 3.6195 - val_acc: 0.1641\n",
            "Epoch 19/100\n",
            "160/160 [==============================] - 45s 281ms/step - loss: 3.4158 - acc: 0.1894 - val_loss: 3.5353 - val_acc: 0.1734\n",
            "Epoch 20/100\n",
            "160/160 [==============================] - 44s 277ms/step - loss: 3.4167 - acc: 0.1823 - val_loss: 3.4893 - val_acc: 0.1922\n",
            "Epoch 21/100\n",
            "160/160 [==============================] - 44s 277ms/step - loss: 3.4267 - acc: 0.1956 - val_loss: 3.5252 - val_acc: 0.1937\n",
            "Epoch 22/100\n",
            "160/160 [==============================] - 43s 267ms/step - loss: 3.3349 - acc: 0.2028 - val_loss: 3.5413 - val_acc: 0.2016\n",
            "Epoch 23/100\n",
            "160/160 [==============================] - 43s 268ms/step - loss: 3.3127 - acc: 0.2134 - val_loss: 3.4485 - val_acc: 0.1828\n",
            "Epoch 24/100\n",
            "160/160 [==============================] - 43s 271ms/step - loss: 3.2789 - acc: 0.2133 - val_loss: 3.4027 - val_acc: 0.2172\n",
            "Epoch 25/100\n",
            "160/160 [==============================] - 44s 276ms/step - loss: 3.2623 - acc: 0.2261 - val_loss: 3.3481 - val_acc: 0.2250\n",
            "Epoch 26/100\n",
            "160/160 [==============================] - 44s 272ms/step - loss: 3.2144 - acc: 0.2262 - val_loss: 3.4885 - val_acc: 0.1906\n",
            "Epoch 27/100\n",
            "160/160 [==============================] - 43s 267ms/step - loss: 3.1737 - acc: 0.2346 - val_loss: 3.4221 - val_acc: 0.2016\n",
            "Epoch 28/100\n",
            "160/160 [==============================] - 43s 268ms/step - loss: 3.1349 - acc: 0.2404 - val_loss: 3.3685 - val_acc: 0.2344\n",
            "Epoch 29/100\n",
            "160/160 [==============================] - 43s 269ms/step - loss: 3.1915 - acc: 0.2362 - val_loss: 3.5112 - val_acc: 0.1953\n",
            "Epoch 30/100\n",
            "160/160 [==============================] - 43s 271ms/step - loss: 3.1532 - acc: 0.2391 - val_loss: 3.4703 - val_acc: 0.2109\n",
            "Epoch 31/100\n",
            "160/160 [==============================] - 44s 272ms/step - loss: 3.0926 - acc: 0.2563 - val_loss: 3.4398 - val_acc: 0.2141\n",
            "Epoch 32/100\n",
            "160/160 [==============================] - 44s 276ms/step - loss: 3.0713 - acc: 0.2470 - val_loss: 3.3769 - val_acc: 0.2109\n",
            "Epoch 33/100\n",
            "160/160 [==============================] - 44s 275ms/step - loss: 2.9957 - acc: 0.2789 - val_loss: 3.2581 - val_acc: 0.2344\n",
            "Epoch 34/100\n",
            "160/160 [==============================] - 44s 277ms/step - loss: 3.0041 - acc: 0.2699 - val_loss: 3.4810 - val_acc: 0.2219\n",
            "Epoch 35/100\n",
            "160/160 [==============================] - 44s 277ms/step - loss: 2.9214 - acc: 0.2867 - val_loss: 3.3015 - val_acc: 0.2203\n",
            "Epoch 36/100\n",
            "160/160 [==============================] - 45s 278ms/step - loss: 2.9117 - acc: 0.2857 - val_loss: 3.2277 - val_acc: 0.2484\n",
            "Epoch 37/100\n",
            "160/160 [==============================] - 45s 280ms/step - loss: 2.9191 - acc: 0.2789 - val_loss: 3.2326 - val_acc: 0.2031\n",
            "Epoch 38/100\n",
            "160/160 [==============================] - 45s 281ms/step - loss: 2.8346 - acc: 0.3104 - val_loss: 3.1898 - val_acc: 0.2609\n",
            "Epoch 39/100\n",
            "160/160 [==============================] - 45s 283ms/step - loss: 2.8295 - acc: 0.3081 - val_loss: 3.2561 - val_acc: 0.2531\n",
            "Epoch 40/100\n",
            "160/160 [==============================] - 44s 274ms/step - loss: 2.8165 - acc: 0.3085 - val_loss: 3.3163 - val_acc: 0.2219\n",
            "Epoch 41/100\n",
            "160/160 [==============================] - 44s 277ms/step - loss: 2.7959 - acc: 0.3201 - val_loss: 3.3424 - val_acc: 0.2156\n",
            "Epoch 42/100\n",
            "160/160 [==============================] - 43s 269ms/step - loss: 2.7141 - acc: 0.3350 - val_loss: 3.4835 - val_acc: 0.2203\n",
            "Epoch 43/100\n",
            "160/160 [==============================] - 43s 267ms/step - loss: 2.7200 - acc: 0.3264 - val_loss: 3.3070 - val_acc: 0.2328\n",
            "Epoch 44/100\n",
            "160/160 [==============================] - 42s 264ms/step - loss: 2.7285 - acc: 0.3308 - val_loss: 3.3446 - val_acc: 0.2328\n",
            "Epoch 45/100\n",
            "160/160 [==============================] - 42s 265ms/step - loss: 2.6822 - acc: 0.3326 - val_loss: 3.3170 - val_acc: 0.2375\n",
            "Epoch 46/100\n",
            "160/160 [==============================] - 43s 267ms/step - loss: 2.6461 - acc: 0.3435 - val_loss: 3.3924 - val_acc: 0.2078\n",
            "Epoch 47/100\n",
            "160/160 [==============================] - 42s 263ms/step - loss: 2.5930 - acc: 0.3484 - val_loss: 3.3883 - val_acc: 0.2125\n",
            "Epoch 48/100\n",
            "160/160 [==============================] - 42s 262ms/step - loss: 2.5676 - acc: 0.3610 - val_loss: 3.3269 - val_acc: 0.2422\n",
            "Epoch 49/100\n",
            "160/160 [==============================] - 42s 261ms/step - loss: 2.5772 - acc: 0.3628 - val_loss: 3.3547 - val_acc: 0.2422\n",
            "Epoch 50/100\n",
            "160/160 [==============================] - 42s 263ms/step - loss: 2.4772 - acc: 0.3765 - val_loss: 3.4057 - val_acc: 0.2422\n",
            "Epoch 51/100\n",
            "160/160 [==============================] - 42s 262ms/step - loss: 2.5291 - acc: 0.3688 - val_loss: 3.2930 - val_acc: 0.2203\n",
            "Epoch 52/100\n",
            "160/160 [==============================] - 42s 261ms/step - loss: 2.5019 - acc: 0.3741 - val_loss: 3.4312 - val_acc: 0.2281\n",
            "Epoch 53/100\n",
            "160/160 [==============================] - 42s 264ms/step - loss: 2.4688 - acc: 0.3815 - val_loss: 3.2632 - val_acc: 0.2266\n",
            "Epoch 54/100\n",
            "160/160 [==============================] - 42s 264ms/step - loss: 2.4333 - acc: 0.3857 - val_loss: 3.4718 - val_acc: 0.2375\n",
            "Epoch 55/100\n",
            "160/160 [==============================] - 42s 262ms/step - loss: 2.3974 - acc: 0.4012 - val_loss: 3.4825 - val_acc: 0.2344\n",
            "Epoch 56/100\n",
            "160/160 [==============================] - 42s 262ms/step - loss: 2.3311 - acc: 0.4161 - val_loss: 3.3747 - val_acc: 0.2297\n",
            "Epoch 57/100\n",
            "160/160 [==============================] - 42s 262ms/step - loss: 2.3175 - acc: 0.4106 - val_loss: 3.4369 - val_acc: 0.2391\n",
            "Epoch 58/100\n",
            "160/160 [==============================] - 42s 262ms/step - loss: 2.2853 - acc: 0.4274 - val_loss: 3.4823 - val_acc: 0.2562\n",
            "Epoch 59/100\n",
            "160/160 [==============================] - 42s 262ms/step - loss: 2.2197 - acc: 0.4284 - val_loss: 3.4987 - val_acc: 0.2266\n",
            "Epoch 60/100\n",
            "160/160 [==============================] - 42s 265ms/step - loss: 2.2660 - acc: 0.4280 - val_loss: 3.5108 - val_acc: 0.2297\n",
            "Epoch 61/100\n",
            "160/160 [==============================] - 42s 263ms/step - loss: 2.2182 - acc: 0.4438 - val_loss: 3.5871 - val_acc: 0.2172\n",
            "Epoch 62/100\n",
            "160/160 [==============================] - 42s 261ms/step - loss: 2.1580 - acc: 0.4448 - val_loss: 3.5822 - val_acc: 0.2094\n",
            "Epoch 63/100\n",
            "160/160 [==============================] - 42s 262ms/step - loss: 2.1611 - acc: 0.4588 - val_loss: 3.5801 - val_acc: 0.2203\n",
            "Epoch 64/100\n",
            "160/160 [==============================] - 42s 264ms/step - loss: 2.1346 - acc: 0.4614 - val_loss: 3.7940 - val_acc: 0.2094\n",
            "Epoch 65/100\n",
            "160/160 [==============================] - 42s 261ms/step - loss: 2.0991 - acc: 0.4596 - val_loss: 3.4888 - val_acc: 0.2609\n",
            "Epoch 66/100\n",
            "160/160 [==============================] - 42s 263ms/step - loss: 2.0581 - acc: 0.4649 - val_loss: 3.6699 - val_acc: 0.2203\n",
            "Epoch 67/100\n",
            "160/160 [==============================] - 42s 261ms/step - loss: 2.1090 - acc: 0.4593 - val_loss: 3.4656 - val_acc: 0.2578\n",
            "Epoch 68/100\n",
            "160/160 [==============================] - 42s 264ms/step - loss: 2.0553 - acc: 0.4738 - val_loss: 3.5189 - val_acc: 0.2359\n"
          ],
          "name": "stdout"
        }
      ]
    },
    {
      "cell_type": "markdown",
      "metadata": {
        "id": "lWBh3SbpvAOR"
      },
      "source": [
        "Model 9 - Add Kernel Constraint"
      ]
    },
    {
      "cell_type": "code",
      "metadata": {
        "colab": {
          "base_uri": "https://localhost:8080/"
        },
        "id": "kSooXnNlsj0K",
        "outputId": "45e51072-a4c4-4e30-f8f6-a5adbeddabd4"
      },
      "source": [
        "train_datagen_9 = ImageDataGenerator(\r\n",
        "                                  rescale = 1./255.)\r\n",
        "\r\n",
        "valid_datagen_9 = ImageDataGenerator(rescale = 1./255)\r\n",
        "\r\n",
        "test_datagen_9 = ImageDataGenerator(rescale = 1./255)\r\n",
        "\r\n",
        "train_generator_9 = train_datagen_9.flow_from_directory(directory=\"/content/output/train\",\r\n",
        "                                                    subset=\"training\",\r\n",
        "                                                    batch_size=64,\r\n",
        "                                                    shuffle=True,\r\n",
        "                                                    class_mode=\"categorical\",\r\n",
        "                                                    target_size=(64,64),\r\n",
        "                                                    seed=42)\r\n",
        "\r\n",
        "\r\n",
        "\r\n",
        "valid_generator_9 = valid_datagen_9.flow_from_directory(directory=\"/content/output/val\",\r\n",
        "                                                  batch_size=64,\r\n",
        "                                                  shuffle=True,\r\n",
        "                                                  class_mode=\"categorical\",\r\n",
        "                                                  target_size=(64,64),\r\n",
        "                                                  seed=42)"
      ],
      "execution_count": null,
      "outputs": [
        {
          "output_type": "stream",
          "text": [
            "Found 70700 images belonging to 101 classes.\n",
            "Found 20200 images belonging to 101 classes.\n"
          ],
          "name": "stdout"
        }
      ]
    },
    {
      "cell_type": "code",
      "metadata": {
        "id": "aGbABl79u_lt",
        "colab": {
          "base_uri": "https://localhost:8080/"
        },
        "outputId": "df44ad7c-b5ca-455a-ae02-e4f59411ec61"
      },
      "source": [
        "X_train, y_train = train_generator_9.next()\r\n",
        "#Input Layer\r\n",
        "baseline_model_9 = Sequential()\r\n",
        "\r\n",
        "baseline_model_9.add(Conv2D(filters=128, kernel_size=(3, 3), activation='relu', padding='valid', input_shape=X_train.shape[1:]))\r\n",
        "baseline_model_9.add(MaxPooling2D(pool_size=(2, 2), strides=(2,2)))\r\n",
        "\r\n",
        "baseline_model_9.add(Conv2D(filters=256, kernel_size=(3, 3), activation='relu', padding='valid'))\r\n",
        "baseline_model_9.add(MaxPooling2D(pool_size=(2, 2), strides=(2,2)))\r\n",
        "\r\n",
        "baseline_model_9.add(Conv2D(filters=512, kernel_size=(3, 3), activation='relu', padding='valid'))\r\n",
        "baseline_model_9.add(MaxPooling2D(pool_size=(2, 2), strides=(2,2)))\r\n",
        "\r\n",
        "baseline_model_9.add(Conv2D(filters=1024, kernel_size=(3, 3), activation='relu', padding='valid'))\r\n",
        "baseline_model_9.add(MaxPooling2D(pool_size=(2, 2), strides=(2,2)))\r\n",
        "\r\n",
        "# MLP - input layer:\r\n",
        "baseline_model_9.add(Flatten())\r\n",
        "# MLP - hidden layer:\r\n",
        "baseline_model_9.add(Dense(2048, activation='relu',kernel_constraint=maxnorm(3)))\r\n",
        "baseline_model_9.add(Dropout(0.3))\r\n",
        "\r\n",
        "\r\n",
        "\r\n",
        "# MLP - output layer:\r\n",
        "baseline_model_9.add(Dense(y_train.shape[1], activation='softmax'))\r\n",
        "\r\n",
        "# Check built model:\r\n",
        "baseline_model_9.summary()"
      ],
      "execution_count": null,
      "outputs": [
        {
          "output_type": "stream",
          "text": [
            "Model: \"sequential_10\"\n",
            "_________________________________________________________________\n",
            "Layer (type)                 Output Shape              Param #   \n",
            "=================================================================\n",
            "conv2d_34 (Conv2D)           (None, 62, 62, 128)       3584      \n",
            "_________________________________________________________________\n",
            "max_pooling2d_34 (MaxPooling (None, 31, 31, 128)       0         \n",
            "_________________________________________________________________\n",
            "conv2d_35 (Conv2D)           (None, 29, 29, 256)       295168    \n",
            "_________________________________________________________________\n",
            "max_pooling2d_35 (MaxPooling (None, 14, 14, 256)       0         \n",
            "_________________________________________________________________\n",
            "conv2d_36 (Conv2D)           (None, 12, 12, 512)       1180160   \n",
            "_________________________________________________________________\n",
            "max_pooling2d_36 (MaxPooling (None, 6, 6, 512)         0         \n",
            "_________________________________________________________________\n",
            "conv2d_37 (Conv2D)           (None, 4, 4, 1024)        4719616   \n",
            "_________________________________________________________________\n",
            "max_pooling2d_37 (MaxPooling (None, 2, 2, 1024)        0         \n",
            "_________________________________________________________________\n",
            "flatten_10 (Flatten)         (None, 4096)              0         \n",
            "_________________________________________________________________\n",
            "dense_23 (Dense)             (None, 2048)              8390656   \n",
            "_________________________________________________________________\n",
            "dropout_4 (Dropout)          (None, 2048)              0         \n",
            "_________________________________________________________________\n",
            "dense_24 (Dense)             (None, 101)               206949    \n",
            "=================================================================\n",
            "Total params: 14,796,133\n",
            "Trainable params: 14,796,133\n",
            "Non-trainable params: 0\n",
            "_________________________________________________________________\n"
          ],
          "name": "stdout"
        }
      ]
    },
    {
      "cell_type": "code",
      "metadata": {
        "id": "3msRhJjFu_h-"
      },
      "source": [
        "opt_9 = Adam()\r\n",
        "\r\n",
        "baseline_model_9.compile(loss='categorical_crossentropy',\r\n",
        "              optimizer=opt_9,\r\n",
        "              metrics=['acc'])"
      ],
      "execution_count": null,
      "outputs": []
    },
    {
      "cell_type": "code",
      "metadata": {
        "colab": {
          "base_uri": "https://localhost:8080/"
        },
        "id": "qJLM-0W0u_ei",
        "outputId": "0af6a11c-2cda-4bc7-cd12-bcca9c476082"
      },
      "source": [
        "X_val, y_val = valid_generator_9.next()\r\n",
        "early_stop = EarlyStopping(patience=30, monitor='val_loss', mode='min', restore_best_weights=True)\r\n",
        "\r\n",
        "\r\n",
        "history_baseline_model_9 = baseline_model_9.fit_generator(train_generator_9,\r\n",
        "                              steps_per_epoch=160, #steps_per_epoch,\r\n",
        "                              epochs=100,\r\n",
        "                              validation_data=valid_generator_9,\r\n",
        "                              validation_steps=10, #validation_steps,\r\n",
        "                              callbacks=[early_stop],\r\n",
        "                              shuffle= True\r\n",
        "                             )\r\n",
        "\r\n",
        "baseline_model_9.save('food_baseline_model_9.h5')"
      ],
      "execution_count": null,
      "outputs": [
        {
          "output_type": "stream",
          "text": [
            "/usr/local/lib/python3.6/dist-packages/tensorflow/python/keras/engine/training.py:1844: UserWarning: `Model.fit_generator` is deprecated and will be removed in a future version. Please use `Model.fit`, which supports generators.\n",
            "  warnings.warn('`Model.fit_generator` is deprecated and '\n"
          ],
          "name": "stderr"
        },
        {
          "output_type": "stream",
          "text": [
            "Epoch 1/100\n",
            "160/160 [==============================] - 44s 269ms/step - loss: 4.6308 - acc: 0.0099 - val_loss: 4.6145 - val_acc: 0.0141\n",
            "Epoch 2/100\n",
            "160/160 [==============================] - 42s 265ms/step - loss: 4.6121 - acc: 0.0104 - val_loss: 4.6137 - val_acc: 0.0156\n",
            "Epoch 3/100\n",
            "160/160 [==============================] - 42s 265ms/step - loss: 4.6108 - acc: 0.0104 - val_loss: 4.5593 - val_acc: 0.0141\n",
            "Epoch 4/100\n",
            "160/160 [==============================] - 42s 263ms/step - loss: 4.5272 - acc: 0.0201 - val_loss: 4.4549 - val_acc: 0.0250\n",
            "Epoch 5/100\n",
            "160/160 [==============================] - 42s 264ms/step - loss: 4.4270 - acc: 0.0336 - val_loss: 4.3558 - val_acc: 0.0516\n",
            "Epoch 6/100\n",
            "160/160 [==============================] - 42s 262ms/step - loss: 4.3067 - acc: 0.0530 - val_loss: 4.2446 - val_acc: 0.0609\n",
            "Epoch 7/100\n",
            "160/160 [==============================] - 42s 265ms/step - loss: 4.2047 - acc: 0.0592 - val_loss: 4.1455 - val_acc: 0.0609\n",
            "Epoch 8/100\n",
            "160/160 [==============================] - 42s 261ms/step - loss: 4.1364 - acc: 0.0794 - val_loss: 4.2003 - val_acc: 0.0734\n",
            "Epoch 9/100\n",
            "160/160 [==============================] - 42s 262ms/step - loss: 4.0581 - acc: 0.0912 - val_loss: 4.0168 - val_acc: 0.1078\n",
            "Epoch 10/100\n",
            "160/160 [==============================] - 42s 260ms/step - loss: 3.9731 - acc: 0.0969 - val_loss: 3.9976 - val_acc: 0.1187\n",
            "Epoch 11/100\n",
            "160/160 [==============================] - 42s 261ms/step - loss: 3.9023 - acc: 0.1068 - val_loss: 3.9199 - val_acc: 0.1016\n",
            "Epoch 12/100\n",
            "160/160 [==============================] - 42s 260ms/step - loss: 3.8331 - acc: 0.1222 - val_loss: 3.9009 - val_acc: 0.1187\n",
            "Epoch 13/100\n",
            "160/160 [==============================] - 42s 260ms/step - loss: 3.8030 - acc: 0.1261 - val_loss: 3.8393 - val_acc: 0.1391\n",
            "Epoch 14/100\n",
            "160/160 [==============================] - 42s 260ms/step - loss: 3.7565 - acc: 0.1389 - val_loss: 3.6400 - val_acc: 0.1453\n",
            "Epoch 15/100\n",
            "160/160 [==============================] - 42s 260ms/step - loss: 3.6914 - acc: 0.1406 - val_loss: 3.6524 - val_acc: 0.1562\n",
            "Epoch 16/100\n",
            "160/160 [==============================] - 41s 258ms/step - loss: 3.6108 - acc: 0.1591 - val_loss: 3.6665 - val_acc: 0.1406\n",
            "Epoch 17/100\n",
            "160/160 [==============================] - 41s 258ms/step - loss: 3.5731 - acc: 0.1636 - val_loss: 3.5660 - val_acc: 0.1734\n",
            "Epoch 18/100\n",
            "160/160 [==============================] - 41s 258ms/step - loss: 3.5631 - acc: 0.1620 - val_loss: 3.6649 - val_acc: 0.1484\n",
            "Epoch 19/100\n",
            "160/160 [==============================] - 41s 257ms/step - loss: 3.5233 - acc: 0.1724 - val_loss: 3.5554 - val_acc: 0.1625\n",
            "Epoch 20/100\n",
            "160/160 [==============================] - 41s 259ms/step - loss: 3.4828 - acc: 0.1905 - val_loss: 3.5552 - val_acc: 0.1859\n",
            "Epoch 21/100\n",
            "160/160 [==============================] - 41s 258ms/step - loss: 3.4347 - acc: 0.1873 - val_loss: 3.5467 - val_acc: 0.1875\n",
            "Epoch 22/100\n",
            "160/160 [==============================] - 41s 259ms/step - loss: 3.3912 - acc: 0.1936 - val_loss: 3.5084 - val_acc: 0.1797\n",
            "Epoch 23/100\n",
            "160/160 [==============================] - 42s 259ms/step - loss: 3.3564 - acc: 0.2084 - val_loss: 3.4395 - val_acc: 0.2062\n",
            "Epoch 24/100\n",
            "160/160 [==============================] - 42s 262ms/step - loss: 3.3280 - acc: 0.2155 - val_loss: 3.5072 - val_acc: 0.1859\n",
            "Epoch 25/100\n",
            "160/160 [==============================] - 42s 261ms/step - loss: 3.2874 - acc: 0.2207 - val_loss: 3.4643 - val_acc: 0.2094\n",
            "Epoch 26/100\n",
            "160/160 [==============================] - 42s 265ms/step - loss: 3.2857 - acc: 0.2182 - val_loss: 3.4434 - val_acc: 0.1891\n",
            "Epoch 27/100\n",
            "160/160 [==============================] - 42s 262ms/step - loss: 3.1947 - acc: 0.2303 - val_loss: 3.4478 - val_acc: 0.2047\n",
            "Epoch 28/100\n",
            "160/160 [==============================] - 43s 266ms/step - loss: 3.1908 - acc: 0.2389 - val_loss: 3.3713 - val_acc: 0.2047\n",
            "Epoch 29/100\n",
            "160/160 [==============================] - 42s 261ms/step - loss: 3.1921 - acc: 0.2327 - val_loss: 3.4338 - val_acc: 0.1875\n",
            "Epoch 30/100\n",
            "160/160 [==============================] - 42s 263ms/step - loss: 3.1522 - acc: 0.2522 - val_loss: 3.3635 - val_acc: 0.1984\n",
            "Epoch 31/100\n",
            "160/160 [==============================] - 42s 260ms/step - loss: 3.0889 - acc: 0.2513 - val_loss: 3.3770 - val_acc: 0.1906\n",
            "Epoch 32/100\n",
            "160/160 [==============================] - 42s 261ms/step - loss: 3.0657 - acc: 0.2591 - val_loss: 3.3705 - val_acc: 0.2062\n",
            "Epoch 33/100\n",
            "160/160 [==============================] - 42s 260ms/step - loss: 3.0282 - acc: 0.2719 - val_loss: 3.2144 - val_acc: 0.2422\n",
            "Epoch 34/100\n",
            "160/160 [==============================] - 42s 260ms/step - loss: 3.0499 - acc: 0.2630 - val_loss: 3.4786 - val_acc: 0.1719\n",
            "Epoch 35/100\n",
            "160/160 [==============================] - 41s 259ms/step - loss: 2.9666 - acc: 0.2760 - val_loss: 3.2897 - val_acc: 0.2313\n",
            "Epoch 36/100\n",
            "160/160 [==============================] - 42s 259ms/step - loss: 2.9729 - acc: 0.2763 - val_loss: 3.3324 - val_acc: 0.2172\n",
            "Epoch 37/100\n",
            "160/160 [==============================] - 42s 260ms/step - loss: 2.9442 - acc: 0.2777 - val_loss: 3.3785 - val_acc: 0.2156\n",
            "Epoch 38/100\n",
            "160/160 [==============================] - 41s 258ms/step - loss: 2.9485 - acc: 0.2787 - val_loss: 3.2498 - val_acc: 0.2266\n",
            "Epoch 39/100\n",
            "160/160 [==============================] - 41s 256ms/step - loss: 2.8856 - acc: 0.2917 - val_loss: 3.3357 - val_acc: 0.2109\n",
            "Epoch 40/100\n",
            "160/160 [==============================] - 41s 257ms/step - loss: 2.8781 - acc: 0.2963 - val_loss: 3.2801 - val_acc: 0.2281\n",
            "Epoch 41/100\n",
            "160/160 [==============================] - 41s 259ms/step - loss: 2.8591 - acc: 0.3045 - val_loss: 3.2160 - val_acc: 0.2250\n",
            "Epoch 42/100\n",
            "160/160 [==============================] - 41s 259ms/step - loss: 2.8142 - acc: 0.3126 - val_loss: 3.3104 - val_acc: 0.2391\n",
            "Epoch 43/100\n",
            "160/160 [==============================] - 41s 258ms/step - loss: 2.8118 - acc: 0.3082 - val_loss: 3.2743 - val_acc: 0.2266\n",
            "Epoch 44/100\n",
            "160/160 [==============================] - 41s 258ms/step - loss: 2.7842 - acc: 0.3124 - val_loss: 3.1469 - val_acc: 0.2516\n",
            "Epoch 45/100\n",
            "160/160 [==============================] - 42s 259ms/step - loss: 2.7278 - acc: 0.3228 - val_loss: 3.3604 - val_acc: 0.2266\n",
            "Epoch 46/100\n",
            "160/160 [==============================] - 41s 257ms/step - loss: 2.7145 - acc: 0.3248 - val_loss: 3.3022 - val_acc: 0.2031\n",
            "Epoch 47/100\n",
            "160/160 [==============================] - 41s 258ms/step - loss: 2.6661 - acc: 0.3457 - val_loss: 3.3592 - val_acc: 0.2375\n",
            "Epoch 48/100\n",
            "160/160 [==============================] - 42s 259ms/step - loss: 2.6400 - acc: 0.3476 - val_loss: 3.2750 - val_acc: 0.2297\n",
            "Epoch 49/100\n",
            "160/160 [==============================] - 41s 258ms/step - loss: 2.6580 - acc: 0.3431 - val_loss: 3.3624 - val_acc: 0.2234\n",
            "Epoch 50/100\n",
            "160/160 [==============================] - 41s 259ms/step - loss: 2.6236 - acc: 0.3545 - val_loss: 3.2699 - val_acc: 0.2422\n",
            "Epoch 51/100\n",
            "160/160 [==============================] - 41s 259ms/step - loss: 2.5499 - acc: 0.3661 - val_loss: 3.2898 - val_acc: 0.2641\n",
            "Epoch 52/100\n",
            "160/160 [==============================] - 41s 259ms/step - loss: 2.5600 - acc: 0.3690 - val_loss: 3.2913 - val_acc: 0.2313\n",
            "Epoch 53/100\n",
            "160/160 [==============================] - 41s 258ms/step - loss: 2.5579 - acc: 0.3621 - val_loss: 3.4411 - val_acc: 0.2219\n",
            "Epoch 54/100\n",
            "160/160 [==============================] - 41s 258ms/step - loss: 2.5032 - acc: 0.3711 - val_loss: 3.3536 - val_acc: 0.2453\n",
            "Epoch 55/100\n",
            "160/160 [==============================] - 42s 259ms/step - loss: 2.5056 - acc: 0.3798 - val_loss: 3.1755 - val_acc: 0.2406\n",
            "Epoch 56/100\n",
            "160/160 [==============================] - 41s 257ms/step - loss: 2.4363 - acc: 0.3883 - val_loss: 3.3872 - val_acc: 0.2453\n",
            "Epoch 57/100\n",
            "160/160 [==============================] - 41s 258ms/step - loss: 2.4491 - acc: 0.3850 - val_loss: 3.3315 - val_acc: 0.2281\n",
            "Epoch 58/100\n",
            "160/160 [==============================] - 41s 258ms/step - loss: 2.4204 - acc: 0.3986 - val_loss: 3.2904 - val_acc: 0.2656\n",
            "Epoch 59/100\n",
            "160/160 [==============================] - 41s 257ms/step - loss: 2.3897 - acc: 0.4012 - val_loss: 3.4179 - val_acc: 0.2406\n",
            "Epoch 60/100\n",
            "160/160 [==============================] - 42s 259ms/step - loss: 2.3670 - acc: 0.4005 - val_loss: 3.3362 - val_acc: 0.2438\n",
            "Epoch 61/100\n",
            "160/160 [==============================] - 41s 258ms/step - loss: 2.3839 - acc: 0.4005 - val_loss: 3.3555 - val_acc: 0.2391\n",
            "Epoch 62/100\n",
            "160/160 [==============================] - 41s 256ms/step - loss: 2.3089 - acc: 0.4173 - val_loss: 3.6402 - val_acc: 0.2125\n",
            "Epoch 63/100\n",
            "160/160 [==============================] - 41s 258ms/step - loss: 2.2983 - acc: 0.4210 - val_loss: 3.5216 - val_acc: 0.2328\n",
            "Epoch 64/100\n",
            "160/160 [==============================] - 41s 258ms/step - loss: 2.2999 - acc: 0.4209 - val_loss: 3.4603 - val_acc: 0.2516\n",
            "Epoch 65/100\n",
            "160/160 [==============================] - 41s 258ms/step - loss: 2.2603 - acc: 0.4270 - val_loss: 3.3617 - val_acc: 0.2359\n",
            "Epoch 66/100\n",
            "160/160 [==============================] - 41s 257ms/step - loss: 2.2227 - acc: 0.4376 - val_loss: 3.6935 - val_acc: 0.2141\n",
            "Epoch 67/100\n",
            "160/160 [==============================] - 41s 258ms/step - loss: 2.1890 - acc: 0.4401 - val_loss: 3.5781 - val_acc: 0.2234\n",
            "Epoch 68/100\n",
            "160/160 [==============================] - 41s 257ms/step - loss: 2.1463 - acc: 0.4576 - val_loss: 3.3702 - val_acc: 0.2391\n",
            "Epoch 69/100\n",
            "160/160 [==============================] - 41s 258ms/step - loss: 2.1701 - acc: 0.4423 - val_loss: 3.6570 - val_acc: 0.2406\n",
            "Epoch 70/100\n",
            "160/160 [==============================] - 41s 257ms/step - loss: 2.1189 - acc: 0.4537 - val_loss: 3.6368 - val_acc: 0.2219\n",
            "Epoch 71/100\n",
            "160/160 [==============================] - 42s 260ms/step - loss: 2.1134 - acc: 0.4588 - val_loss: 3.5879 - val_acc: 0.2406\n",
            "Epoch 72/100\n",
            "160/160 [==============================] - 42s 264ms/step - loss: 2.0941 - acc: 0.4656 - val_loss: 3.7119 - val_acc: 0.2313\n",
            "Epoch 73/100\n",
            "160/160 [==============================] - 42s 262ms/step - loss: 2.0978 - acc: 0.4628 - val_loss: 3.5307 - val_acc: 0.2438\n",
            "Epoch 74/100\n",
            "160/160 [==============================] - 41s 257ms/step - loss: 2.0192 - acc: 0.4901 - val_loss: 3.7437 - val_acc: 0.2188\n"
          ],
          "name": "stdout"
        }
      ]
    },
    {
      "cell_type": "markdown",
      "metadata": {
        "id": "ca1og51Wx1Xa"
      },
      "source": [
        "Model 10 - Add learning rate "
      ]
    },
    {
      "cell_type": "code",
      "metadata": {
        "colab": {
          "base_uri": "https://localhost:8080/"
        },
        "id": "uvH0OR6xu_ax",
        "outputId": "09313a09-35b3-4ba7-cc3a-8a531a4d6de4"
      },
      "source": [
        "train_datagen_10 = ImageDataGenerator(\r\n",
        "                                  rescale = 1./255.)\r\n",
        "\r\n",
        "valid_datagen_10 = ImageDataGenerator(rescale = 1./255)\r\n",
        "\r\n",
        "test_datagen_10 = ImageDataGenerator(rescale = 1./255)\r\n",
        "\r\n",
        "train_generator_10 = train_datagen_10.flow_from_directory(directory=\"/content/output/train\",\r\n",
        "                                                    subset=\"training\",\r\n",
        "                                                    batch_size=64,\r\n",
        "                                                    shuffle=True,\r\n",
        "                                                    class_mode=\"categorical\",\r\n",
        "                                                    target_size=(64,64),\r\n",
        "                                                    seed=42)\r\n",
        "\r\n",
        "\r\n",
        "\r\n",
        "valid_generator_10 = valid_datagen_10.flow_from_directory(directory=\"/content/output/val\",\r\n",
        "                                                  batch_size=64,\r\n",
        "                                                  shuffle=True,\r\n",
        "                                                  class_mode=\"categorical\",\r\n",
        "                                                  target_size=(64,64),\r\n",
        "                                                  seed=42)"
      ],
      "execution_count": null,
      "outputs": [
        {
          "output_type": "stream",
          "text": [
            "Found 70700 images belonging to 101 classes.\n",
            "Found 20200 images belonging to 101 classes.\n"
          ],
          "name": "stdout"
        }
      ]
    },
    {
      "cell_type": "code",
      "metadata": {
        "id": "0l2hWxDCu_XU",
        "colab": {
          "base_uri": "https://localhost:8080/"
        },
        "outputId": "0af60d99-6222-43c4-e391-e758ed29f24c"
      },
      "source": [
        "X_train, y_train = train_generator_10.next()\r\n",
        "#Input Layer\r\n",
        "baseline_model_10 = Sequential()\r\n",
        "\r\n",
        "baseline_model_10.add(Conv2D(filters=128, kernel_size=(3, 3), activation='relu', padding='valid', input_shape=X_train.shape[1:]))\r\n",
        "baseline_model_10.add(MaxPooling2D(pool_size=(2, 2), strides=(2,2)))\r\n",
        "\r\n",
        "baseline_model_10.add(Conv2D(filters=256, kernel_size=(3, 3), activation='relu', padding='valid'))\r\n",
        "baseline_model_10.add(MaxPooling2D(pool_size=(2, 2), strides=(2,2)))\r\n",
        "\r\n",
        "baseline_model_10.add(Conv2D(filters=512, kernel_size=(3, 3), activation='relu', padding='valid'))\r\n",
        "baseline_model_10.add(MaxPooling2D(pool_size=(2, 2), strides=(2,2)))\r\n",
        "\r\n",
        "baseline_model_10.add(Conv2D(filters=1024, kernel_size=(3, 3), activation='relu', padding='valid'))\r\n",
        "baseline_model_10.add(MaxPooling2D(pool_size=(2, 2), strides=(2,2)))\r\n",
        "\r\n",
        "# MLP - input layer:\r\n",
        "baseline_model_10.add(Flatten())\r\n",
        "# MLP - hidden layer:\r\n",
        "baseline_model_10.add(Dense(2048, activation='relu',kernel_constraint=maxnorm(3)))\r\n",
        "baseline_model_10.add(Dropout(0.3))\r\n",
        "\r\n",
        "\r\n",
        "\r\n",
        "# MLP - output layer:\r\n",
        "baseline_model_10.add(Dense(y_train.shape[1], activation='softmax'))\r\n",
        "\r\n",
        "# Check built model:\r\n",
        "baseline_model_10.summary()"
      ],
      "execution_count": null,
      "outputs": [
        {
          "output_type": "stream",
          "text": [
            "Model: \"sequential_11\"\n",
            "_________________________________________________________________\n",
            "Layer (type)                 Output Shape              Param #   \n",
            "=================================================================\n",
            "conv2d_38 (Conv2D)           (None, 62, 62, 128)       3584      \n",
            "_________________________________________________________________\n",
            "max_pooling2d_38 (MaxPooling (None, 31, 31, 128)       0         \n",
            "_________________________________________________________________\n",
            "conv2d_39 (Conv2D)           (None, 29, 29, 256)       295168    \n",
            "_________________________________________________________________\n",
            "max_pooling2d_39 (MaxPooling (None, 14, 14, 256)       0         \n",
            "_________________________________________________________________\n",
            "conv2d_40 (Conv2D)           (None, 12, 12, 512)       1180160   \n",
            "_________________________________________________________________\n",
            "max_pooling2d_40 (MaxPooling (None, 6, 6, 512)         0         \n",
            "_________________________________________________________________\n",
            "conv2d_41 (Conv2D)           (None, 4, 4, 1024)        4719616   \n",
            "_________________________________________________________________\n",
            "max_pooling2d_41 (MaxPooling (None, 2, 2, 1024)        0         \n",
            "_________________________________________________________________\n",
            "flatten_11 (Flatten)         (None, 4096)              0         \n",
            "_________________________________________________________________\n",
            "dense_25 (Dense)             (None, 2048)              8390656   \n",
            "_________________________________________________________________\n",
            "dropout_5 (Dropout)          (None, 2048)              0         \n",
            "_________________________________________________________________\n",
            "dense_26 (Dense)             (None, 101)               206949    \n",
            "=================================================================\n",
            "Total params: 14,796,133\n",
            "Trainable params: 14,796,133\n",
            "Non-trainable params: 0\n",
            "_________________________________________________________________\n"
          ],
          "name": "stdout"
        }
      ]
    },
    {
      "cell_type": "code",
      "metadata": {
        "id": "zlHiXuhGu_Rz"
      },
      "source": [
        "opt_10 = Adam(lr=0.001)\r\n",
        "\r\n",
        "baseline_model_10.compile(loss='categorical_crossentropy',\r\n",
        "              optimizer=opt_10,\r\n",
        "              metrics=['acc'])"
      ],
      "execution_count": null,
      "outputs": []
    },
    {
      "cell_type": "code",
      "metadata": {
        "colab": {
          "base_uri": "https://localhost:8080/"
        },
        "id": "xwEjGFv6u_Ns",
        "outputId": "a154e238-db94-4eff-cd58-0f83b92e179f"
      },
      "source": [
        "X_val, y_val = valid_generator_10.next()\r\n",
        "early_stop = EarlyStopping(patience=30, monitor='val_loss', mode='min', restore_best_weights=True)\r\n",
        "\r\n",
        "\r\n",
        "history_baseline_model_10 = baseline_model_10.fit_generator(train_generator_10,\r\n",
        "                              steps_per_epoch=160, #steps_per_epoch,\r\n",
        "                              epochs=100,\r\n",
        "                              validation_data=valid_generator_10,\r\n",
        "                              validation_steps=10, #validation_steps,\r\n",
        "                              callbacks=[early_stop],\r\n",
        "                              shuffle= True\r\n",
        "                             )\r\n",
        "\r\n",
        "baseline_model_10.save('food_baseline_model_10.h5')"
      ],
      "execution_count": null,
      "outputs": [
        {
          "output_type": "stream",
          "text": [
            "/usr/local/lib/python3.6/dist-packages/tensorflow/python/keras/engine/training.py:1844: UserWarning: `Model.fit_generator` is deprecated and will be removed in a future version. Please use `Model.fit`, which supports generators.\n",
            "  warnings.warn('`Model.fit_generator` is deprecated and '\n"
          ],
          "name": "stderr"
        },
        {
          "output_type": "stream",
          "text": [
            "Epoch 1/100\n",
            "160/160 [==============================] - 42s 261ms/step - loss: 4.6210 - acc: 0.0099 - val_loss: 4.6142 - val_acc: 0.0156\n",
            "Epoch 2/100\n",
            "160/160 [==============================] - 41s 256ms/step - loss: 4.6138 - acc: 0.0109 - val_loss: 4.6176 - val_acc: 0.0063\n",
            "Epoch 3/100\n",
            "160/160 [==============================] - 41s 258ms/step - loss: 4.6160 - acc: 0.0078 - val_loss: 4.6138 - val_acc: 0.0063\n",
            "Epoch 4/100\n",
            "160/160 [==============================] - 41s 257ms/step - loss: 4.6164 - acc: 0.0109 - val_loss: 4.6159 - val_acc: 0.0094\n",
            "Epoch 5/100\n",
            "160/160 [==============================] - 41s 258ms/step - loss: 4.6153 - acc: 0.0108 - val_loss: 4.6158 - val_acc: 0.0141\n",
            "Epoch 6/100\n",
            "160/160 [==============================] - 41s 256ms/step - loss: 4.6158 - acc: 0.0134 - val_loss: 4.6161 - val_acc: 0.0063\n",
            "Epoch 7/100\n",
            "160/160 [==============================] - 41s 255ms/step - loss: 4.6161 - acc: 0.0100 - val_loss: 4.5864 - val_acc: 0.0125\n",
            "Epoch 8/100\n",
            "160/160 [==============================] - 41s 257ms/step - loss: 4.5742 - acc: 0.0134 - val_loss: 4.5547 - val_acc: 0.0109\n",
            "Epoch 9/100\n",
            "160/160 [==============================] - 41s 256ms/step - loss: 4.5258 - acc: 0.0173 - val_loss: 4.4952 - val_acc: 0.0203\n",
            "Epoch 10/100\n",
            "160/160 [==============================] - 41s 255ms/step - loss: 4.4522 - acc: 0.0283 - val_loss: 4.3999 - val_acc: 0.0391\n",
            "Epoch 11/100\n",
            "160/160 [==============================] - 41s 255ms/step - loss: 4.3216 - acc: 0.0474 - val_loss: 4.3368 - val_acc: 0.0375\n",
            "Epoch 12/100\n",
            "160/160 [==============================] - 41s 256ms/step - loss: 4.2247 - acc: 0.0628 - val_loss: 4.2468 - val_acc: 0.0453\n",
            "Epoch 13/100\n",
            "160/160 [==============================] - 41s 256ms/step - loss: 4.1856 - acc: 0.0662 - val_loss: 4.1763 - val_acc: 0.0750\n",
            "Epoch 14/100\n",
            "160/160 [==============================] - 41s 256ms/step - loss: 4.0829 - acc: 0.0887 - val_loss: 4.0161 - val_acc: 0.0797\n",
            "Epoch 15/100\n",
            "160/160 [==============================] - 41s 257ms/step - loss: 4.0133 - acc: 0.0948 - val_loss: 3.9228 - val_acc: 0.0984\n",
            "Epoch 16/100\n",
            "160/160 [==============================] - 41s 258ms/step - loss: 3.9510 - acc: 0.1041 - val_loss: 3.9773 - val_acc: 0.1094\n",
            "Epoch 17/100\n",
            "160/160 [==============================] - 41s 256ms/step - loss: 3.9278 - acc: 0.1073 - val_loss: 3.9036 - val_acc: 0.1078\n",
            "Epoch 18/100\n",
            "160/160 [==============================] - 41s 256ms/step - loss: 3.8539 - acc: 0.1230 - val_loss: 3.8354 - val_acc: 0.1078\n",
            "Epoch 19/100\n",
            "160/160 [==============================] - 41s 256ms/step - loss: 3.8031 - acc: 0.1274 - val_loss: 3.8111 - val_acc: 0.1250\n",
            "Epoch 20/100\n",
            "160/160 [==============================] - 41s 257ms/step - loss: 3.7399 - acc: 0.1341 - val_loss: 3.7821 - val_acc: 0.1297\n",
            "Epoch 21/100\n",
            "160/160 [==============================] - 41s 256ms/step - loss: 3.7019 - acc: 0.1397 - val_loss: 3.6193 - val_acc: 0.1531\n",
            "Epoch 22/100\n",
            "160/160 [==============================] - 41s 257ms/step - loss: 3.6610 - acc: 0.1536 - val_loss: 3.6600 - val_acc: 0.1625\n",
            "Epoch 23/100\n",
            "160/160 [==============================] - 41s 257ms/step - loss: 3.6490 - acc: 0.1559 - val_loss: 3.5700 - val_acc: 0.1828\n",
            "Epoch 24/100\n",
            "160/160 [==============================] - 41s 257ms/step - loss: 3.6018 - acc: 0.1651 - val_loss: 3.6473 - val_acc: 0.1672\n",
            "Epoch 25/100\n",
            "160/160 [==============================] - 41s 255ms/step - loss: 3.5576 - acc: 0.1746 - val_loss: 3.5139 - val_acc: 0.2000\n",
            "Epoch 26/100\n",
            "160/160 [==============================] - 41s 257ms/step - loss: 3.5094 - acc: 0.1766 - val_loss: 3.5987 - val_acc: 0.1734\n",
            "Epoch 27/100\n",
            "160/160 [==============================] - 41s 257ms/step - loss: 3.4217 - acc: 0.1882 - val_loss: 3.5538 - val_acc: 0.1703\n",
            "Epoch 28/100\n",
            "160/160 [==============================] - 41s 259ms/step - loss: 3.4411 - acc: 0.1847 - val_loss: 3.5521 - val_acc: 0.1609\n",
            "Epoch 29/100\n",
            "160/160 [==============================] - 41s 257ms/step - loss: 3.3875 - acc: 0.1932 - val_loss: 3.4749 - val_acc: 0.1937\n",
            "Epoch 30/100\n",
            "160/160 [==============================] - 41s 257ms/step - loss: 3.3503 - acc: 0.2013 - val_loss: 3.4517 - val_acc: 0.1875\n",
            "Epoch 31/100\n",
            "160/160 [==============================] - 41s 259ms/step - loss: 3.3529 - acc: 0.2063 - val_loss: 3.4681 - val_acc: 0.2078\n",
            "Epoch 32/100\n",
            "160/160 [==============================] - 41s 258ms/step - loss: 3.2809 - acc: 0.2173 - val_loss: 3.6227 - val_acc: 0.1750\n",
            "Epoch 33/100\n",
            "160/160 [==============================] - 41s 258ms/step - loss: 3.2298 - acc: 0.2295 - val_loss: 3.4014 - val_acc: 0.2234\n",
            "Epoch 34/100\n",
            "160/160 [==============================] - 41s 257ms/step - loss: 3.2482 - acc: 0.2214 - val_loss: 3.5850 - val_acc: 0.1875\n",
            "Epoch 35/100\n",
            "160/160 [==============================] - 41s 256ms/step - loss: 3.1873 - acc: 0.2349 - val_loss: 3.3449 - val_acc: 0.2109\n",
            "Epoch 36/100\n",
            "160/160 [==============================] - 42s 259ms/step - loss: 3.1606 - acc: 0.2453 - val_loss: 3.3311 - val_acc: 0.2172\n",
            "Epoch 37/100\n",
            "160/160 [==============================] - 41s 258ms/step - loss: 3.1936 - acc: 0.2420 - val_loss: 3.3143 - val_acc: 0.1891\n",
            "Epoch 38/100\n",
            "160/160 [==============================] - 42s 261ms/step - loss: 3.1015 - acc: 0.2552 - val_loss: 3.2515 - val_acc: 0.2172\n",
            "Epoch 39/100\n",
            "160/160 [==============================] - 41s 259ms/step - loss: 3.1258 - acc: 0.2498 - val_loss: 3.4100 - val_acc: 0.1844\n",
            "Epoch 40/100\n",
            "160/160 [==============================] - 41s 259ms/step - loss: 3.0957 - acc: 0.2569 - val_loss: 3.3461 - val_acc: 0.2156\n",
            "Epoch 41/100\n",
            "160/160 [==============================] - 41s 259ms/step - loss: 3.0203 - acc: 0.2756 - val_loss: 3.3086 - val_acc: 0.2281\n",
            "Epoch 42/100\n",
            "160/160 [==============================] - 42s 260ms/step - loss: 3.0088 - acc: 0.2771 - val_loss: 3.3488 - val_acc: 0.2250\n",
            "Epoch 43/100\n",
            "160/160 [==============================] - 41s 259ms/step - loss: 2.9821 - acc: 0.2768 - val_loss: 3.4260 - val_acc: 0.2125\n",
            "Epoch 44/100\n",
            "160/160 [==============================] - 41s 258ms/step - loss: 2.9884 - acc: 0.2797 - val_loss: 3.2297 - val_acc: 0.2328\n",
            "Epoch 45/100\n",
            "160/160 [==============================] - 41s 258ms/step - loss: 2.9357 - acc: 0.2875 - val_loss: 3.3762 - val_acc: 0.2359\n",
            "Epoch 46/100\n",
            "160/160 [==============================] - 42s 260ms/step - loss: 2.9085 - acc: 0.2840 - val_loss: 3.4353 - val_acc: 0.2203\n",
            "Epoch 47/100\n",
            "160/160 [==============================] - 42s 260ms/step - loss: 2.9039 - acc: 0.2941 - val_loss: 3.4123 - val_acc: 0.2109\n",
            "Epoch 48/100\n",
            "160/160 [==============================] - 41s 259ms/step - loss: 2.8797 - acc: 0.3045 - val_loss: 3.2439 - val_acc: 0.2172\n",
            "Epoch 49/100\n",
            "160/160 [==============================] - 42s 261ms/step - loss: 2.8205 - acc: 0.3008 - val_loss: 3.3729 - val_acc: 0.2156\n",
            "Epoch 50/100\n",
            "160/160 [==============================] - 42s 260ms/step - loss: 2.8289 - acc: 0.3037 - val_loss: 3.3424 - val_acc: 0.2266\n",
            "Epoch 51/100\n",
            "160/160 [==============================] - 42s 260ms/step - loss: 2.7911 - acc: 0.3166 - val_loss: 3.2834 - val_acc: 0.2609\n",
            "Epoch 52/100\n",
            "160/160 [==============================] - 41s 258ms/step - loss: 2.7284 - acc: 0.3241 - val_loss: 3.3321 - val_acc: 0.2297\n",
            "Epoch 53/100\n",
            "160/160 [==============================] - 42s 262ms/step - loss: 2.7128 - acc: 0.3304 - val_loss: 3.1684 - val_acc: 0.2547\n",
            "Epoch 54/100\n",
            "160/160 [==============================] - 42s 260ms/step - loss: 2.7549 - acc: 0.3230 - val_loss: 3.3047 - val_acc: 0.2422\n",
            "Epoch 55/100\n",
            "160/160 [==============================] - 42s 260ms/step - loss: 2.6947 - acc: 0.3358 - val_loss: 3.2960 - val_acc: 0.2203\n",
            "Epoch 56/100\n",
            "160/160 [==============================] - 41s 259ms/step - loss: 2.6739 - acc: 0.3334 - val_loss: 3.3708 - val_acc: 0.2438\n",
            "Epoch 57/100\n",
            "160/160 [==============================] - 42s 259ms/step - loss: 2.6316 - acc: 0.3475 - val_loss: 3.2781 - val_acc: 0.2203\n",
            "Epoch 58/100\n",
            "160/160 [==============================] - 42s 260ms/step - loss: 2.5766 - acc: 0.3613 - val_loss: 3.2353 - val_acc: 0.2594\n",
            "Epoch 59/100\n",
            "160/160 [==============================] - 42s 261ms/step - loss: 2.6020 - acc: 0.3595 - val_loss: 3.5263 - val_acc: 0.2344\n",
            "Epoch 60/100\n",
            "160/160 [==============================] - 42s 261ms/step - loss: 2.5636 - acc: 0.3657 - val_loss: 3.2860 - val_acc: 0.2469\n",
            "Epoch 61/100\n",
            "160/160 [==============================] - 42s 264ms/step - loss: 2.5192 - acc: 0.3771 - val_loss: 3.4045 - val_acc: 0.2234\n",
            "Epoch 62/100\n",
            "160/160 [==============================] - 42s 259ms/step - loss: 2.5028 - acc: 0.3820 - val_loss: 3.4486 - val_acc: 0.2125\n",
            "Epoch 63/100\n",
            "160/160 [==============================] - 42s 260ms/step - loss: 2.4518 - acc: 0.3913 - val_loss: 3.4899 - val_acc: 0.2219\n",
            "Epoch 64/100\n",
            "160/160 [==============================] - 42s 260ms/step - loss: 2.4915 - acc: 0.3778 - val_loss: 3.4761 - val_acc: 0.2266\n",
            "Epoch 65/100\n",
            "160/160 [==============================] - 42s 260ms/step - loss: 2.4182 - acc: 0.3950 - val_loss: 3.3027 - val_acc: 0.2656\n",
            "Epoch 66/100\n",
            "160/160 [==============================] - 41s 256ms/step - loss: 2.3955 - acc: 0.4004 - val_loss: 3.4723 - val_acc: 0.2031\n",
            "Epoch 67/100\n",
            "160/160 [==============================] - 41s 257ms/step - loss: 2.4104 - acc: 0.4039 - val_loss: 3.5459 - val_acc: 0.2141\n",
            "Epoch 68/100\n",
            "160/160 [==============================] - 42s 260ms/step - loss: 2.3652 - acc: 0.4137 - val_loss: 3.2812 - val_acc: 0.2422\n",
            "Epoch 69/100\n",
            "160/160 [==============================] - 41s 258ms/step - loss: 2.2765 - acc: 0.4324 - val_loss: 3.5172 - val_acc: 0.2531\n",
            "Epoch 70/100\n",
            "160/160 [==============================] - 41s 259ms/step - loss: 2.2835 - acc: 0.4217 - val_loss: 3.5182 - val_acc: 0.2125\n",
            "Epoch 71/100\n",
            "160/160 [==============================] - 42s 260ms/step - loss: 2.2820 - acc: 0.4317 - val_loss: 3.4334 - val_acc: 0.2297\n",
            "Epoch 72/100\n",
            "160/160 [==============================] - 41s 258ms/step - loss: 2.2407 - acc: 0.4288 - val_loss: 3.6149 - val_acc: 0.2313\n",
            "Epoch 73/100\n",
            "160/160 [==============================] - 41s 259ms/step - loss: 2.2656 - acc: 0.4326 - val_loss: 3.6221 - val_acc: 0.2062\n",
            "Epoch 74/100\n",
            "160/160 [==============================] - 41s 258ms/step - loss: 2.1904 - acc: 0.4367 - val_loss: 3.5304 - val_acc: 0.2266\n",
            "Epoch 75/100\n",
            "160/160 [==============================] - 41s 258ms/step - loss: 2.1845 - acc: 0.4482 - val_loss: 3.5671 - val_acc: 0.2297\n",
            "Epoch 76/100\n",
            "160/160 [==============================] - 42s 260ms/step - loss: 2.1634 - acc: 0.4514 - val_loss: 3.3768 - val_acc: 0.2562\n",
            "Epoch 77/100\n",
            "160/160 [==============================] - 41s 259ms/step - loss: 2.0798 - acc: 0.4657 - val_loss: 3.3681 - val_acc: 0.2641\n",
            "Epoch 78/100\n",
            "160/160 [==============================] - 41s 259ms/step - loss: 2.0747 - acc: 0.4670 - val_loss: 3.5475 - val_acc: 0.2438\n",
            "Epoch 79/100\n",
            "160/160 [==============================] - 42s 260ms/step - loss: 2.0993 - acc: 0.4672 - val_loss: 3.4625 - val_acc: 0.2562\n",
            "Epoch 80/100\n",
            "160/160 [==============================] - 42s 260ms/step - loss: 2.0091 - acc: 0.4934 - val_loss: 3.5565 - val_acc: 0.2391\n",
            "Epoch 81/100\n",
            "160/160 [==============================] - 42s 260ms/step - loss: 2.0318 - acc: 0.4841 - val_loss: 3.7231 - val_acc: 0.2594\n",
            "Epoch 82/100\n",
            "160/160 [==============================] - 42s 262ms/step - loss: 1.9884 - acc: 0.4865 - val_loss: 3.6675 - val_acc: 0.2391\n",
            "Epoch 83/100\n",
            "160/160 [==============================] - 42s 261ms/step - loss: 1.9286 - acc: 0.5052 - val_loss: 3.9335 - val_acc: 0.2094\n"
          ],
          "name": "stdout"
        }
      ]
    },
    {
      "cell_type": "markdown",
      "metadata": {
        "id": "RI0MWpYCzqrB"
      },
      "source": [
        "Model 11 - Change optimizer to RMSprop"
      ]
    },
    {
      "cell_type": "code",
      "metadata": {
        "colab": {
          "base_uri": "https://localhost:8080/"
        },
        "id": "cRZIYXXku_I1",
        "outputId": "6460a0df-cb51-44f1-dbc6-20cafeb01593"
      },
      "source": [
        "train_datagen_11 = ImageDataGenerator(\r\n",
        "                                  rescale = 1./255.)\r\n",
        "\r\n",
        "valid_datagen_11 = ImageDataGenerator(rescale = 1./255)\r\n",
        "\r\n",
        "test_datagen_11 = ImageDataGenerator(rescale = 1./255)\r\n",
        "\r\n",
        "train_generator_11 = train_datagen_11.flow_from_directory(directory=\"/content/output/train\",\r\n",
        "                                                    subset=\"training\",\r\n",
        "                                                    batch_size=64,\r\n",
        "                                                    shuffle=True,\r\n",
        "                                                    class_mode=\"categorical\",\r\n",
        "                                                    target_size=(64,64),\r\n",
        "                                                    seed=42)\r\n",
        "\r\n",
        "\r\n",
        "\r\n",
        "valid_generator_11 = valid_datagen_11.flow_from_directory(directory=\"/content/output/val\",\r\n",
        "                                                  batch_size=64,\r\n",
        "                                                  shuffle=True,\r\n",
        "                                                  class_mode=\"categorical\",\r\n",
        "                                                  target_size=(64,64),\r\n",
        "                                                  seed=42)"
      ],
      "execution_count": null,
      "outputs": [
        {
          "output_type": "stream",
          "text": [
            "Found 70700 images belonging to 101 classes.\n",
            "Found 20200 images belonging to 101 classes.\n"
          ],
          "name": "stdout"
        }
      ]
    },
    {
      "cell_type": "code",
      "metadata": {
        "colab": {
          "base_uri": "https://localhost:8080/"
        },
        "id": "688kC6s-u_C1",
        "outputId": "bf47cc09-24d6-4741-a0ad-92d918c77292"
      },
      "source": [
        "X_train, y_train = train_generator_11.next()\r\n",
        "#Input Layer\r\n",
        "baseline_model_11 = Sequential()\r\n",
        "\r\n",
        "baseline_model_11.add(Conv2D(filters=128, kernel_size=(3, 3), activation='relu', padding='valid', input_shape=X_train.shape[1:]))\r\n",
        "baseline_model_11.add(MaxPooling2D(pool_size=(2, 2), strides=(2,2)))\r\n",
        "\r\n",
        "baseline_model_11.add(Conv2D(filters=256, kernel_size=(3, 3), activation='relu', padding='valid'))\r\n",
        "baseline_model_11.add(MaxPooling2D(pool_size=(2, 2), strides=(2,2)))\r\n",
        "\r\n",
        "baseline_model_11.add(Conv2D(filters=512, kernel_size=(3, 3), activation='relu', padding='valid'))\r\n",
        "baseline_model_11.add(MaxPooling2D(pool_size=(2, 2), strides=(2,2)))\r\n",
        "\r\n",
        "baseline_model_11.add(Conv2D(filters=1024, kernel_size=(3, 3), activation='relu', padding='valid'))\r\n",
        "baseline_model_11.add(MaxPooling2D(pool_size=(2, 2), strides=(2,2)))\r\n",
        "\r\n",
        "# MLP - input layer:\r\n",
        "baseline_model_11.add(Flatten())\r\n",
        "# MLP - hidden layer:\r\n",
        "baseline_model_11.add(Dense(2048, activation='relu',kernel_constraint=maxnorm(3)))\r\n",
        "baseline_model_11.add(Dropout(0.3))\r\n",
        "\r\n",
        "\r\n",
        "\r\n",
        "# MLP - output layer:\r\n",
        "baseline_model_11.add(Dense(y_train.shape[1], activation='softmax'))\r\n",
        "\r\n",
        "# Check built model:\r\n",
        "baseline_model_11.summary()"
      ],
      "execution_count": null,
      "outputs": [
        {
          "output_type": "stream",
          "text": [
            "Model: \"sequential_12\"\n",
            "_________________________________________________________________\n",
            "Layer (type)                 Output Shape              Param #   \n",
            "=================================================================\n",
            "conv2d_42 (Conv2D)           (None, 62, 62, 128)       3584      \n",
            "_________________________________________________________________\n",
            "max_pooling2d_42 (MaxPooling (None, 31, 31, 128)       0         \n",
            "_________________________________________________________________\n",
            "conv2d_43 (Conv2D)           (None, 29, 29, 256)       295168    \n",
            "_________________________________________________________________\n",
            "max_pooling2d_43 (MaxPooling (None, 14, 14, 256)       0         \n",
            "_________________________________________________________________\n",
            "conv2d_44 (Conv2D)           (None, 12, 12, 512)       1180160   \n",
            "_________________________________________________________________\n",
            "max_pooling2d_44 (MaxPooling (None, 6, 6, 512)         0         \n",
            "_________________________________________________________________\n",
            "conv2d_45 (Conv2D)           (None, 4, 4, 1024)        4719616   \n",
            "_________________________________________________________________\n",
            "max_pooling2d_45 (MaxPooling (None, 2, 2, 1024)        0         \n",
            "_________________________________________________________________\n",
            "flatten_12 (Flatten)         (None, 4096)              0         \n",
            "_________________________________________________________________\n",
            "dense_27 (Dense)             (None, 2048)              8390656   \n",
            "_________________________________________________________________\n",
            "dropout_6 (Dropout)          (None, 2048)              0         \n",
            "_________________________________________________________________\n",
            "dense_28 (Dense)             (None, 101)               206949    \n",
            "=================================================================\n",
            "Total params: 14,796,133\n",
            "Trainable params: 14,796,133\n",
            "Non-trainable params: 0\n",
            "_________________________________________________________________\n"
          ],
          "name": "stdout"
        }
      ]
    },
    {
      "cell_type": "code",
      "metadata": {
        "id": "gwQfV-AOsfKY"
      },
      "source": [
        "opt_11 = RMSprop(lr=0.001)\r\n",
        "\r\n",
        "baseline_model_11.compile(loss='categorical_crossentropy',\r\n",
        "              optimizer=opt_11,\r\n",
        "              metrics=['acc'])"
      ],
      "execution_count": null,
      "outputs": []
    },
    {
      "cell_type": "code",
      "metadata": {
        "id": "NxyXKkqOsfGP",
        "colab": {
          "base_uri": "https://localhost:8080/"
        },
        "outputId": "b6dc6218-7e18-4c73-c8aa-2d80338d4e84"
      },
      "source": [
        "X_val, y_val = valid_generator_11.next()\r\n",
        "early_stop = EarlyStopping(patience=30, monitor='val_loss', mode='min', restore_best_weights=True)\r\n",
        "\r\n",
        "\r\n",
        "history_baseline_model_11 = baseline_model_11.fit_generator(train_generator_11,\r\n",
        "                              steps_per_epoch=160, #steps_per_epoch,\r\n",
        "                              epochs=100,\r\n",
        "                              validation_data=valid_generator_11,\r\n",
        "                              validation_steps=10, #validation_steps,\r\n",
        "                              callbacks=[early_stop],\r\n",
        "                              shuffle= True\r\n",
        "                             )\r\n",
        "\r\n",
        "baseline_model_11.save('food_baseline_model_11.h5')"
      ],
      "execution_count": null,
      "outputs": [
        {
          "output_type": "stream",
          "text": [
            "/usr/local/lib/python3.6/dist-packages/tensorflow/python/keras/engine/training.py:1844: UserWarning: `Model.fit_generator` is deprecated and will be removed in a future version. Please use `Model.fit`, which supports generators.\n",
            "  warnings.warn('`Model.fit_generator` is deprecated and '\n"
          ],
          "name": "stderr"
        },
        {
          "output_type": "stream",
          "text": [
            "Epoch 1/100\n",
            "160/160 [==============================] - 43s 264ms/step - loss: 6.4204 - acc: 0.0089 - val_loss: 4.5830 - val_acc: 0.0188\n",
            "Epoch 2/100\n",
            "160/160 [==============================] - 42s 261ms/step - loss: 4.5861 - acc: 0.0179 - val_loss: 4.5479 - val_acc: 0.0172\n",
            "Epoch 3/100\n",
            "160/160 [==============================] - 42s 264ms/step - loss: 4.4859 - acc: 0.0283 - val_loss: 4.4569 - val_acc: 0.0375\n",
            "Epoch 4/100\n",
            "160/160 [==============================] - 42s 263ms/step - loss: 4.3869 - acc: 0.0374 - val_loss: 4.2968 - val_acc: 0.0609\n",
            "Epoch 5/100\n",
            "160/160 [==============================] - 42s 263ms/step - loss: 4.2858 - acc: 0.0585 - val_loss: 4.2977 - val_acc: 0.0609\n",
            "Epoch 6/100\n",
            "160/160 [==============================] - 42s 261ms/step - loss: 4.2006 - acc: 0.0717 - val_loss: 4.0878 - val_acc: 0.0906\n",
            "Epoch 7/100\n",
            "160/160 [==============================] - 42s 260ms/step - loss: 4.0453 - acc: 0.0883 - val_loss: 4.1260 - val_acc: 0.0750\n",
            "Epoch 8/100\n",
            "160/160 [==============================] - 42s 260ms/step - loss: 3.9937 - acc: 0.1046 - val_loss: 3.9413 - val_acc: 0.1078\n",
            "Epoch 9/100\n",
            "160/160 [==============================] - 42s 260ms/step - loss: 3.8783 - acc: 0.1237 - val_loss: 4.1359 - val_acc: 0.1016\n",
            "Epoch 10/100\n",
            "160/160 [==============================] - 41s 259ms/step - loss: 3.7784 - acc: 0.1358 - val_loss: 3.7669 - val_acc: 0.1344\n",
            "Epoch 11/100\n",
            "160/160 [==============================] - 42s 259ms/step - loss: 3.6711 - acc: 0.1546 - val_loss: 3.7704 - val_acc: 0.1359\n",
            "Epoch 12/100\n",
            "160/160 [==============================] - 41s 259ms/step - loss: 3.6428 - acc: 0.1598 - val_loss: 3.6812 - val_acc: 0.1688\n",
            "Epoch 13/100\n",
            "160/160 [==============================] - 42s 260ms/step - loss: 3.5495 - acc: 0.1788 - val_loss: 3.7574 - val_acc: 0.1594\n",
            "Epoch 14/100\n",
            "160/160 [==============================] - 42s 261ms/step - loss: 3.4502 - acc: 0.1966 - val_loss: 3.6822 - val_acc: 0.1734\n",
            "Epoch 15/100\n",
            "160/160 [==============================] - 42s 264ms/step - loss: 3.4146 - acc: 0.2058 - val_loss: 3.4066 - val_acc: 0.2078\n",
            "Epoch 16/100\n",
            "160/160 [==============================] - 42s 261ms/step - loss: 3.3150 - acc: 0.2219 - val_loss: 3.5238 - val_acc: 0.1781\n",
            "Epoch 17/100\n",
            "160/160 [==============================] - 42s 262ms/step - loss: 3.2853 - acc: 0.2174 - val_loss: 3.4486 - val_acc: 0.2156\n",
            "Epoch 18/100\n",
            "160/160 [==============================] - 42s 261ms/step - loss: 3.2515 - acc: 0.2314 - val_loss: 3.5574 - val_acc: 0.1719\n",
            "Epoch 19/100\n",
            "160/160 [==============================] - 42s 261ms/step - loss: 3.1417 - acc: 0.2466 - val_loss: 3.3545 - val_acc: 0.1953\n",
            "Epoch 20/100\n",
            "160/160 [==============================] - 42s 260ms/step - loss: 3.1305 - acc: 0.2574 - val_loss: 3.2838 - val_acc: 0.2313\n",
            "Epoch 21/100\n",
            "160/160 [==============================] - 42s 259ms/step - loss: 3.0849 - acc: 0.2615 - val_loss: 3.1950 - val_acc: 0.2578\n",
            "Epoch 22/100\n",
            "160/160 [==============================] - 42s 263ms/step - loss: 3.0441 - acc: 0.2727 - val_loss: 3.1980 - val_acc: 0.2484\n",
            "Epoch 23/100\n",
            "160/160 [==============================] - 42s 262ms/step - loss: 3.0086 - acc: 0.2765 - val_loss: 3.1052 - val_acc: 0.2688\n",
            "Epoch 24/100\n",
            "160/160 [==============================] - 42s 260ms/step - loss: 2.8969 - acc: 0.3002 - val_loss: 3.3891 - val_acc: 0.2156\n",
            "Epoch 25/100\n",
            "160/160 [==============================] - 41s 258ms/step - loss: 2.9241 - acc: 0.3034 - val_loss: 3.2022 - val_acc: 0.2609\n",
            "Epoch 26/100\n",
            "160/160 [==============================] - 42s 260ms/step - loss: 2.8418 - acc: 0.3161 - val_loss: 3.4515 - val_acc: 0.2172\n",
            "Epoch 27/100\n",
            "160/160 [==============================] - 41s 257ms/step - loss: 2.8147 - acc: 0.3224 - val_loss: 3.4477 - val_acc: 0.2453\n",
            "Epoch 28/100\n",
            "160/160 [==============================] - 42s 260ms/step - loss: 2.7573 - acc: 0.3331 - val_loss: 3.4083 - val_acc: 0.2438\n",
            "Epoch 29/100\n",
            "160/160 [==============================] - 41s 258ms/step - loss: 2.7162 - acc: 0.3458 - val_loss: 3.1968 - val_acc: 0.2891\n",
            "Epoch 30/100\n",
            "160/160 [==============================] - 42s 261ms/step - loss: 2.7169 - acc: 0.3402 - val_loss: 3.2363 - val_acc: 0.2609\n",
            "Epoch 31/100\n",
            "160/160 [==============================] - 41s 258ms/step - loss: 2.6032 - acc: 0.3638 - val_loss: 3.6297 - val_acc: 0.2219\n",
            "Epoch 32/100\n",
            "160/160 [==============================] - 41s 259ms/step - loss: 2.5910 - acc: 0.3701 - val_loss: 3.4421 - val_acc: 0.2297\n",
            "Epoch 33/100\n",
            "160/160 [==============================] - 41s 259ms/step - loss: 2.6474 - acc: 0.3565 - val_loss: 3.3731 - val_acc: 0.2844\n",
            "Epoch 34/100\n",
            "160/160 [==============================] - 41s 259ms/step - loss: 2.5507 - acc: 0.3713 - val_loss: 3.4521 - val_acc: 0.2141\n",
            "Epoch 35/100\n",
            "160/160 [==============================] - 41s 258ms/step - loss: 2.5945 - acc: 0.3602 - val_loss: 3.2454 - val_acc: 0.2812\n",
            "Epoch 36/100\n",
            "160/160 [==============================] - 41s 259ms/step - loss: 2.5268 - acc: 0.3759 - val_loss: 3.0835 - val_acc: 0.2922\n",
            "Epoch 37/100\n",
            "160/160 [==============================] - 41s 257ms/step - loss: 2.5006 - acc: 0.3894 - val_loss: 3.2060 - val_acc: 0.2484\n",
            "Epoch 38/100\n",
            "160/160 [==============================] - 41s 259ms/step - loss: 2.4953 - acc: 0.3857 - val_loss: 3.0863 - val_acc: 0.2781\n",
            "Epoch 39/100\n",
            "160/160 [==============================] - 41s 256ms/step - loss: 2.4870 - acc: 0.3930 - val_loss: 3.4472 - val_acc: 0.2609\n",
            "Epoch 40/100\n",
            "160/160 [==============================] - 41s 257ms/step - loss: 2.5407 - acc: 0.3732 - val_loss: 3.6925 - val_acc: 0.2500\n",
            "Epoch 41/100\n",
            "160/160 [==============================] - 41s 257ms/step - loss: 2.4170 - acc: 0.4099 - val_loss: 3.3901 - val_acc: 0.2641\n",
            "Epoch 42/100\n",
            "160/160 [==============================] - 42s 259ms/step - loss: 2.4698 - acc: 0.3941 - val_loss: 3.2895 - val_acc: 0.2281\n",
            "Epoch 43/100\n",
            "160/160 [==============================] - 41s 257ms/step - loss: 2.3942 - acc: 0.4117 - val_loss: 3.6297 - val_acc: 0.2203\n",
            "Epoch 44/100\n",
            "160/160 [==============================] - 41s 257ms/step - loss: 2.3998 - acc: 0.4135 - val_loss: 3.2526 - val_acc: 0.2656\n",
            "Epoch 45/100\n",
            "160/160 [==============================] - 41s 257ms/step - loss: 2.3794 - acc: 0.4125 - val_loss: 3.2645 - val_acc: 0.2812\n",
            "Epoch 46/100\n",
            "160/160 [==============================] - 41s 255ms/step - loss: 2.3254 - acc: 0.4274 - val_loss: 3.7353 - val_acc: 0.2484\n",
            "Epoch 47/100\n",
            "160/160 [==============================] - 41s 256ms/step - loss: 2.3071 - acc: 0.4323 - val_loss: 3.4258 - val_acc: 0.2406\n",
            "Epoch 48/100\n",
            "160/160 [==============================] - 41s 257ms/step - loss: 2.3333 - acc: 0.4226 - val_loss: 3.5600 - val_acc: 0.1969\n",
            "Epoch 49/100\n",
            "160/160 [==============================] - 41s 256ms/step - loss: 2.3885 - acc: 0.4154 - val_loss: 3.5816 - val_acc: 0.2484\n",
            "Epoch 50/100\n",
            "160/160 [==============================] - 41s 257ms/step - loss: 2.3507 - acc: 0.4195 - val_loss: 3.3568 - val_acc: 0.3000\n",
            "Epoch 51/100\n",
            "160/160 [==============================] - 41s 257ms/step - loss: 2.3350 - acc: 0.4275 - val_loss: 3.7063 - val_acc: 0.2703\n",
            "Epoch 52/100\n",
            "160/160 [==============================] - 41s 258ms/step - loss: 2.3175 - acc: 0.4298 - val_loss: 3.4116 - val_acc: 0.2562\n",
            "Epoch 53/100\n",
            "160/160 [==============================] - 41s 258ms/step - loss: 2.3061 - acc: 0.4241 - val_loss: 4.0664 - val_acc: 0.2719\n",
            "Epoch 54/100\n",
            "160/160 [==============================] - 41s 257ms/step - loss: 2.3301 - acc: 0.4310 - val_loss: 3.8838 - val_acc: 0.2469\n",
            "Epoch 55/100\n",
            "160/160 [==============================] - 41s 257ms/step - loss: 2.2473 - acc: 0.4455 - val_loss: 3.6783 - val_acc: 0.2578\n",
            "Epoch 56/100\n",
            "160/160 [==============================] - 41s 258ms/step - loss: 2.2654 - acc: 0.4434 - val_loss: 3.5134 - val_acc: 0.2812\n",
            "Epoch 57/100\n",
            "160/160 [==============================] - 41s 258ms/step - loss: 2.2825 - acc: 0.4319 - val_loss: 3.4381 - val_acc: 0.2672\n",
            "Epoch 58/100\n",
            "160/160 [==============================] - 41s 257ms/step - loss: 2.2431 - acc: 0.4586 - val_loss: 3.8702 - val_acc: 0.2906\n",
            "Epoch 59/100\n",
            "160/160 [==============================] - 41s 258ms/step - loss: 2.2676 - acc: 0.4397 - val_loss: 3.6138 - val_acc: 0.2281\n",
            "Epoch 60/100\n",
            "160/160 [==============================] - 41s 257ms/step - loss: 2.2263 - acc: 0.4476 - val_loss: 3.9432 - val_acc: 0.2266\n",
            "Epoch 61/100\n",
            "160/160 [==============================] - 41s 256ms/step - loss: 2.2250 - acc: 0.4489 - val_loss: 3.8600 - val_acc: 0.2453\n",
            "Epoch 62/100\n",
            "160/160 [==============================] - 41s 256ms/step - loss: 2.2207 - acc: 0.4555 - val_loss: 3.5622 - val_acc: 0.2547\n",
            "Epoch 63/100\n",
            "160/160 [==============================] - 41s 258ms/step - loss: 2.1849 - acc: 0.4600 - val_loss: 3.5233 - val_acc: 0.2641\n",
            "Epoch 64/100\n",
            "160/160 [==============================] - 41s 256ms/step - loss: 2.1956 - acc: 0.4484 - val_loss: 3.6567 - val_acc: 0.2203\n",
            "Epoch 65/100\n",
            "160/160 [==============================] - 41s 257ms/step - loss: 2.1621 - acc: 0.4601 - val_loss: 3.7254 - val_acc: 0.2391\n",
            "Epoch 66/100\n",
            "160/160 [==============================] - 41s 257ms/step - loss: 2.2315 - acc: 0.4455 - val_loss: 3.4585 - val_acc: 0.2313\n"
          ],
          "name": "stdout"
        }
      ]
    },
    {
      "cell_type": "markdown",
      "metadata": {
        "id": "EE2yI5_l1vfO"
      },
      "source": [
        "Model 12 - Increase Batch Size + Steps per epoch"
      ]
    },
    {
      "cell_type": "code",
      "metadata": {
        "id": "y61k7tmPz7x2",
        "colab": {
          "base_uri": "https://localhost:8080/"
        },
        "outputId": "d6bb9979-d278-46da-cb42-0fc4701fdcde"
      },
      "source": [
        "train_datagen_12 = ImageDataGenerator(\r\n",
        "                                  rescale = 1./255.)\r\n",
        "\r\n",
        "valid_datagen_12 = ImageDataGenerator(rescale = 1./255)\r\n",
        "\r\n",
        "test_datagen_12 = ImageDataGenerator(rescale = 1./255)\r\n",
        "\r\n",
        "train_generator_12 = train_datagen_12.flow_from_directory(directory=\"/content/output/train\",\r\n",
        "                                                    subset=\"training\",\r\n",
        "                                                    batch_size=128,\r\n",
        "                                                    shuffle=True,\r\n",
        "                                                    class_mode=\"categorical\",\r\n",
        "                                                    target_size=(64,64),\r\n",
        "                                                    seed=42)\r\n",
        "\r\n",
        "\r\n",
        "\r\n",
        "valid_generator_12 = valid_datagen_12.flow_from_directory(directory=\"/content/output/val\",\r\n",
        "                                                  batch_size=128,\r\n",
        "                                                  shuffle=True,\r\n",
        "                                                  class_mode=\"categorical\",\r\n",
        "                                                  target_size=(64,64),\r\n",
        "                                                  seed=42)"
      ],
      "execution_count": null,
      "outputs": [
        {
          "output_type": "stream",
          "text": [
            "Found 70700 images belonging to 101 classes.\n",
            "Found 20200 images belonging to 101 classes.\n"
          ],
          "name": "stdout"
        }
      ]
    },
    {
      "cell_type": "code",
      "metadata": {
        "id": "pVrEUyNkz7uD",
        "colab": {
          "base_uri": "https://localhost:8080/"
        },
        "outputId": "848fc156-1845-486e-b7db-ff812ac43953"
      },
      "source": [
        "X_train, y_train = train_generator_12.next()\r\n",
        "#Input Layer\r\n",
        "baseline_model_12 = Sequential()\r\n",
        "\r\n",
        "baseline_model_12.add(Conv2D(filters=128, kernel_size=(3, 3), activation='relu', padding='valid', input_shape=X_train.shape[1:]))\r\n",
        "baseline_model_12.add(MaxPooling2D(pool_size=(2, 2), strides=(2,2)))\r\n",
        "\r\n",
        "baseline_model_12.add(Conv2D(filters=256, kernel_size=(3, 3), activation='relu', padding='valid'))\r\n",
        "baseline_model_12.add(MaxPooling2D(pool_size=(2, 2), strides=(2,2)))\r\n",
        "\r\n",
        "baseline_model_12.add(Conv2D(filters=512, kernel_size=(3, 3), activation='relu', padding='valid'))\r\n",
        "baseline_model_12.add(MaxPooling2D(pool_size=(2, 2), strides=(2,2)))\r\n",
        "\r\n",
        "baseline_model_12.add(Conv2D(filters=1024, kernel_size=(3, 3), activation='relu', padding='valid'))\r\n",
        "baseline_model_12.add(MaxPooling2D(pool_size=(2, 2), strides=(2,2)))\r\n",
        "\r\n",
        "# MLP - input layer:\r\n",
        "baseline_model_12.add(Flatten())\r\n",
        "# MLP - hidden layer:\r\n",
        "baseline_model_12.add(Dense(2048, activation='relu',kernel_constraint=maxnorm(3)))\r\n",
        "baseline_model_12.add(Dropout(0.3))\r\n",
        "\r\n",
        "\r\n",
        "\r\n",
        "# MLP - output layer:\r\n",
        "baseline_model_12.add(Dense(y_train.shape[1], activation='softmax'))\r\n",
        "\r\n",
        "# Check built model:\r\n",
        "baseline_model_12.summary()"
      ],
      "execution_count": null,
      "outputs": [
        {
          "output_type": "stream",
          "text": [
            "Model: \"sequential\"\n",
            "_________________________________________________________________\n",
            "Layer (type)                 Output Shape              Param #   \n",
            "=================================================================\n",
            "conv2d (Conv2D)              (None, 62, 62, 128)       3584      \n",
            "_________________________________________________________________\n",
            "max_pooling2d (MaxPooling2D) (None, 31, 31, 128)       0         \n",
            "_________________________________________________________________\n",
            "conv2d_1 (Conv2D)            (None, 29, 29, 256)       295168    \n",
            "_________________________________________________________________\n",
            "max_pooling2d_1 (MaxPooling2 (None, 14, 14, 256)       0         \n",
            "_________________________________________________________________\n",
            "conv2d_2 (Conv2D)            (None, 12, 12, 512)       1180160   \n",
            "_________________________________________________________________\n",
            "max_pooling2d_2 (MaxPooling2 (None, 6, 6, 512)         0         \n",
            "_________________________________________________________________\n",
            "conv2d_3 (Conv2D)            (None, 4, 4, 1024)        4719616   \n",
            "_________________________________________________________________\n",
            "max_pooling2d_3 (MaxPooling2 (None, 2, 2, 1024)        0         \n",
            "_________________________________________________________________\n",
            "flatten (Flatten)            (None, 4096)              0         \n",
            "_________________________________________________________________\n",
            "dense (Dense)                (None, 2048)              8390656   \n",
            "_________________________________________________________________\n",
            "dropout (Dropout)            (None, 2048)              0         \n",
            "_________________________________________________________________\n",
            "dense_1 (Dense)              (None, 101)               206949    \n",
            "=================================================================\n",
            "Total params: 14,796,133\n",
            "Trainable params: 14,796,133\n",
            "Non-trainable params: 0\n",
            "_________________________________________________________________\n"
          ],
          "name": "stdout"
        }
      ]
    },
    {
      "cell_type": "code",
      "metadata": {
        "id": "nLCgjpTGz7ri"
      },
      "source": [
        "opt_12 = RMSprop(lr=0.001)\r\n",
        "\r\n",
        "baseline_model_12.compile(loss='categorical_crossentropy',\r\n",
        "              optimizer=opt_12,\r\n",
        "              metrics=['acc'])"
      ],
      "execution_count": null,
      "outputs": []
    },
    {
      "cell_type": "code",
      "metadata": {
        "id": "txzAD2SWz7ov",
        "colab": {
          "base_uri": "https://localhost:8080/"
        },
        "outputId": "e1ba0ae9-85ee-4c0d-e2ad-b8089501c622"
      },
      "source": [
        "X_val, y_val = valid_generator_12.next()\r\n",
        "early_stop = EarlyStopping(patience=30, monitor='val_loss', mode='min', restore_best_weights=True)\r\n",
        "\r\n",
        "\r\n",
        "history_baseline_model_12 = baseline_model_12.fit_generator(train_generator_12,\r\n",
        "                              steps_per_epoch=320, #steps_per_epoch,\r\n",
        "                              epochs=100,\r\n",
        "                              validation_data=valid_generator_12,\r\n",
        "                              validation_steps=32, #validation_steps,\r\n",
        "                              callbacks=[early_stop],\r\n",
        "                              shuffle= True\r\n",
        "                             )\r\n",
        "\r\n",
        "baseline_model_12.save('food_baseline_model_12.h5')"
      ],
      "execution_count": null,
      "outputs": [
        {
          "output_type": "stream",
          "text": [
            "/usr/local/lib/python3.6/dist-packages/tensorflow/python/keras/engine/training.py:1844: UserWarning: `Model.fit_generator` is deprecated and will be removed in a future version. Please use `Model.fit`, which supports generators.\n",
            "  warnings.warn('`Model.fit_generator` is deprecated and '\n"
          ],
          "name": "stderr"
        },
        {
          "output_type": "stream",
          "text": [
            "Epoch 1/100\n",
            "320/320 [==============================] - 213s 640ms/step - loss: 5.3678 - acc: 0.0152 - val_loss: 4.4189 - val_acc: 0.0525\n",
            "Epoch 2/100\n",
            "320/320 [==============================] - 178s 556ms/step - loss: 4.2862 - acc: 0.0580 - val_loss: 4.0941 - val_acc: 0.0886\n",
            "Epoch 3/100\n",
            "320/320 [==============================] - 170s 530ms/step - loss: 3.9380 - acc: 0.1135 - val_loss: 3.7706 - val_acc: 0.1348\n",
            "Epoch 4/100\n",
            "320/320 [==============================] - 165s 514ms/step - loss: 3.6328 - acc: 0.1608 - val_loss: 3.5783 - val_acc: 0.1772\n",
            "Epoch 5/100\n",
            "320/320 [==============================] - 163s 508ms/step - loss: 3.3493 - acc: 0.2126 - val_loss: 3.3669 - val_acc: 0.2161\n",
            "Epoch 6/100\n",
            "320/320 [==============================] - 162s 505ms/step - loss: 3.1299 - acc: 0.2544 - val_loss: 3.3197 - val_acc: 0.2354\n",
            "Epoch 7/100\n",
            "320/320 [==============================] - 161s 504ms/step - loss: 2.8967 - acc: 0.2943 - val_loss: 3.1217 - val_acc: 0.2598\n",
            "Epoch 8/100\n",
            "320/320 [==============================] - 160s 500ms/step - loss: 2.6462 - acc: 0.3440 - val_loss: 3.0285 - val_acc: 0.2859\n",
            "Epoch 9/100\n",
            "320/320 [==============================] - 161s 502ms/step - loss: 2.4068 - acc: 0.4008 - val_loss: 3.2388 - val_acc: 0.2847\n",
            "Epoch 10/100\n",
            "320/320 [==============================] - 161s 502ms/step - loss: 2.1529 - acc: 0.4537 - val_loss: 3.0347 - val_acc: 0.2893\n",
            "Epoch 11/100\n",
            "320/320 [==============================] - 160s 500ms/step - loss: 1.9512 - acc: 0.4987 - val_loss: 3.3130 - val_acc: 0.2703\n",
            "Epoch 12/100\n",
            "320/320 [==============================] - 160s 499ms/step - loss: 1.7090 - acc: 0.5539 - val_loss: 3.4437 - val_acc: 0.2896\n",
            "Epoch 13/100\n",
            "320/320 [==============================] - 160s 500ms/step - loss: 1.5343 - acc: 0.5958 - val_loss: 3.5338 - val_acc: 0.2930\n",
            "Epoch 14/100\n",
            "320/320 [==============================] - 160s 501ms/step - loss: 1.3186 - acc: 0.6489 - val_loss: 3.6550 - val_acc: 0.2822\n",
            "Epoch 15/100\n",
            "320/320 [==============================] - 160s 501ms/step - loss: 1.1764 - acc: 0.6857 - val_loss: 4.2430 - val_acc: 0.2888\n",
            "Epoch 16/100\n",
            "320/320 [==============================] - 160s 501ms/step - loss: 1.0179 - acc: 0.7241 - val_loss: 4.3080 - val_acc: 0.3047\n",
            "Epoch 17/100\n",
            "320/320 [==============================] - 160s 501ms/step - loss: 0.9355 - acc: 0.7464 - val_loss: 4.8667 - val_acc: 0.2883\n",
            "Epoch 18/100\n",
            "320/320 [==============================] - 160s 501ms/step - loss: 0.8275 - acc: 0.7712 - val_loss: 4.9180 - val_acc: 0.2976\n",
            "Epoch 19/100\n",
            "320/320 [==============================] - 160s 500ms/step - loss: 0.8104 - acc: 0.7798 - val_loss: 5.3453 - val_acc: 0.2910\n",
            "Epoch 20/100\n",
            "320/320 [==============================] - 160s 499ms/step - loss: 0.7524 - acc: 0.7929 - val_loss: 4.8333 - val_acc: 0.2805\n",
            "Epoch 21/100\n",
            "320/320 [==============================] - 160s 501ms/step - loss: 0.7332 - acc: 0.7991 - val_loss: 4.7169 - val_acc: 0.2688\n",
            "Epoch 22/100\n",
            "320/320 [==============================] - 160s 499ms/step - loss: 0.7073 - acc: 0.8064 - val_loss: 5.5815 - val_acc: 0.2866\n",
            "Epoch 23/100\n",
            "320/320 [==============================] - 160s 500ms/step - loss: 0.6925 - acc: 0.8096 - val_loss: 5.9667 - val_acc: 0.2505\n",
            "Epoch 24/100\n",
            "320/320 [==============================] - 160s 501ms/step - loss: 0.6942 - acc: 0.8143 - val_loss: 5.9279 - val_acc: 0.2856\n",
            "Epoch 25/100\n",
            "320/320 [==============================] - 160s 500ms/step - loss: 0.6831 - acc: 0.8172 - val_loss: 6.0923 - val_acc: 0.2791\n",
            "Epoch 26/100\n",
            "320/320 [==============================] - 160s 499ms/step - loss: 0.6441 - acc: 0.8259 - val_loss: 6.8497 - val_acc: 0.2893\n",
            "Epoch 27/100\n",
            "320/320 [==============================] - 161s 502ms/step - loss: 0.6464 - acc: 0.8264 - val_loss: 5.8956 - val_acc: 0.2671\n",
            "Epoch 28/100\n",
            "320/320 [==============================] - 161s 504ms/step - loss: 0.6515 - acc: 0.8265 - val_loss: 5.7322 - val_acc: 0.2524\n",
            "Epoch 29/100\n",
            "320/320 [==============================] - 161s 503ms/step - loss: 0.6325 - acc: 0.8329 - val_loss: 6.4375 - val_acc: 0.2554\n",
            "Epoch 30/100\n",
            "320/320 [==============================] - 161s 503ms/step - loss: 0.6285 - acc: 0.8345 - val_loss: 7.3910 - val_acc: 0.2759\n",
            "Epoch 31/100\n",
            "320/320 [==============================] - 161s 502ms/step - loss: 0.6247 - acc: 0.8355 - val_loss: 8.1005 - val_acc: 0.2759\n",
            "Epoch 32/100\n",
            "320/320 [==============================] - 161s 503ms/step - loss: 0.6525 - acc: 0.8300 - val_loss: 7.4843 - val_acc: 0.2537\n",
            "Epoch 33/100\n",
            "320/320 [==============================] - 161s 502ms/step - loss: 0.6384 - acc: 0.8339 - val_loss: 7.3903 - val_acc: 0.2600\n",
            "Epoch 34/100\n",
            "320/320 [==============================] - 162s 505ms/step - loss: 0.6522 - acc: 0.8331 - val_loss: 8.0207 - val_acc: 0.2571\n",
            "Epoch 35/100\n",
            "320/320 [==============================] - 161s 502ms/step - loss: 0.6254 - acc: 0.8393 - val_loss: 8.2780 - val_acc: 0.2688\n",
            "Epoch 36/100\n",
            "320/320 [==============================] - 160s 501ms/step - loss: 0.6279 - acc: 0.8410 - val_loss: 8.5826 - val_acc: 0.2786\n",
            "Epoch 37/100\n",
            "320/320 [==============================] - 161s 502ms/step - loss: 0.6109 - acc: 0.8417 - val_loss: 7.9377 - val_acc: 0.2737\n",
            "Epoch 38/100\n",
            "320/320 [==============================] - 160s 501ms/step - loss: 0.6373 - acc: 0.8394 - val_loss: 6.8714 - val_acc: 0.2625\n"
          ],
          "name": "stdout"
        }
      ]
    },
    {
      "cell_type": "markdown",
      "metadata": {
        "id": "ue_61CzS22PW"
      },
      "source": [
        "Model 13 - Change padding (Worse Results)"
      ]
    },
    {
      "cell_type": "code",
      "metadata": {
        "id": "IClZwOGXz7lh",
        "colab": {
          "base_uri": "https://localhost:8080/"
        },
        "outputId": "c5783911-c8ce-47b9-c14f-1961b2010fef"
      },
      "source": [
        "train_datagen_13 = ImageDataGenerator(\r\n",
        "                                  rescale = 1./255.)\r\n",
        "\r\n",
        "valid_datagen_13 = ImageDataGenerator(rescale = 1./255)\r\n",
        "\r\n",
        "test_datagen_13 = ImageDataGenerator(rescale = 1./255)\r\n",
        "\r\n",
        "train_generator_13 = train_datagen_13.flow_from_directory(directory=\"/content/output/train\",\r\n",
        "                                                    subset=\"training\",\r\n",
        "                                                    batch_size=128,\r\n",
        "                                                    shuffle=True,\r\n",
        "                                                    class_mode=\"categorical\",\r\n",
        "                                                    target_size=(64,64),\r\n",
        "                                                    seed=42)\r\n",
        "\r\n",
        "\r\n",
        "\r\n",
        "valid_generator_13 = valid_datagen_13.flow_from_directory(directory=\"/content/output/val\",\r\n",
        "                                                  batch_size=128,\r\n",
        "                                                  shuffle=True,\r\n",
        "                                                  class_mode=\"categorical\",\r\n",
        "                                                  target_size=(64,64),\r\n",
        "                                                  seed=42)"
      ],
      "execution_count": null,
      "outputs": [
        {
          "output_type": "stream",
          "text": [
            "Found 70700 images belonging to 101 classes.\n",
            "Found 20200 images belonging to 101 classes.\n"
          ],
          "name": "stdout"
        }
      ]
    },
    {
      "cell_type": "code",
      "metadata": {
        "id": "uq9DT1DS2iVr",
        "colab": {
          "base_uri": "https://localhost:8080/"
        },
        "outputId": "a7a9fced-db8a-4a85-dfcb-2559887e3488"
      },
      "source": [
        "X_train, y_train = train_generator_13.next()\r\n",
        "#Input Layer\r\n",
        "baseline_model_13 = Sequential()\r\n",
        "\r\n",
        "baseline_model_13.add(Conv2D(filters=128, kernel_size=(3, 3), activation='relu', padding='same', input_shape=X_train.shape[1:]))\r\n",
        "baseline_model_13.add(MaxPooling2D(pool_size=(2, 2), strides=(2,2)))\r\n",
        "\r\n",
        "baseline_model_13.add(Conv2D(filters=256, kernel_size=(3, 3), activation='relu', padding='same'))\r\n",
        "baseline_model_13.add(MaxPooling2D(pool_size=(2, 2), strides=(2,2)))\r\n",
        "\r\n",
        "baseline_model_13.add(Conv2D(filters=512, kernel_size=(3, 3), activation='relu', padding='same'))\r\n",
        "baseline_model_13.add(MaxPooling2D(pool_size=(2, 2), strides=(2,2)))\r\n",
        "\r\n",
        "baseline_model_13.add(Conv2D(filters=1024, kernel_size=(3, 3), activation='relu', padding='same'))\r\n",
        "baseline_model_13.add(MaxPooling2D(pool_size=(2, 2), strides=(2,2)))\r\n",
        "\r\n",
        "# MLP - input layer:\r\n",
        "baseline_model_13.add(Flatten())\r\n",
        "# MLP - hidden layer:\r\n",
        "baseline_model_13.add(Dense(2048, activation='relu',kernel_constraint=maxnorm(3)))\r\n",
        "baseline_model_13.add(Dropout(0.3))\r\n",
        "\r\n",
        "\r\n",
        "\r\n",
        "# MLP - output layer:\r\n",
        "baseline_model_13.add(Dense(y_train.shape[1], activation='softmax'))\r\n",
        "\r\n",
        "# Check built model:\r\n",
        "baseline_model_13.summary()"
      ],
      "execution_count": null,
      "outputs": [
        {
          "output_type": "stream",
          "text": [
            "Model: \"sequential_1\"\n",
            "_________________________________________________________________\n",
            "Layer (type)                 Output Shape              Param #   \n",
            "=================================================================\n",
            "conv2d_4 (Conv2D)            (None, 64, 64, 128)       3584      \n",
            "_________________________________________________________________\n",
            "max_pooling2d_4 (MaxPooling2 (None, 32, 32, 128)       0         \n",
            "_________________________________________________________________\n",
            "conv2d_5 (Conv2D)            (None, 32, 32, 256)       295168    \n",
            "_________________________________________________________________\n",
            "max_pooling2d_5 (MaxPooling2 (None, 16, 16, 256)       0         \n",
            "_________________________________________________________________\n",
            "conv2d_6 (Conv2D)            (None, 16, 16, 512)       1180160   \n",
            "_________________________________________________________________\n",
            "max_pooling2d_6 (MaxPooling2 (None, 8, 8, 512)         0         \n",
            "_________________________________________________________________\n",
            "conv2d_7 (Conv2D)            (None, 8, 8, 1024)        4719616   \n",
            "_________________________________________________________________\n",
            "max_pooling2d_7 (MaxPooling2 (None, 4, 4, 1024)        0         \n",
            "_________________________________________________________________\n",
            "flatten_1 (Flatten)          (None, 16384)             0         \n",
            "_________________________________________________________________\n",
            "dense_2 (Dense)              (None, 2048)              33556480  \n",
            "_________________________________________________________________\n",
            "dropout_1 (Dropout)          (None, 2048)              0         \n",
            "_________________________________________________________________\n",
            "dense_3 (Dense)              (None, 101)               206949    \n",
            "=================================================================\n",
            "Total params: 39,961,957\n",
            "Trainable params: 39,961,957\n",
            "Non-trainable params: 0\n",
            "_________________________________________________________________\n"
          ],
          "name": "stdout"
        }
      ]
    },
    {
      "cell_type": "code",
      "metadata": {
        "id": "fdLrhIoY2iSH"
      },
      "source": [
        "opt_13 = RMSprop(lr=0.001)\r\n",
        "\r\n",
        "baseline_model_13.compile(loss='categorical_crossentropy',\r\n",
        "              optimizer=opt_13,\r\n",
        "              metrics=['acc'])"
      ],
      "execution_count": null,
      "outputs": []
    },
    {
      "cell_type": "code",
      "metadata": {
        "id": "xU1qSgfM2iO7",
        "colab": {
          "base_uri": "https://localhost:8080/"
        },
        "outputId": "e86e0276-119a-43ad-dec6-2d4836457b67"
      },
      "source": [
        "X_val, y_val = valid_generator_13.next()\r\n",
        "early_stop = EarlyStopping(patience=30, monitor='val_loss', mode='min', restore_best_weights=True)\r\n",
        "\r\n",
        "\r\n",
        "history_baseline_model_13 = baseline_model_13.fit_generator(train_generator_13,\r\n",
        "                              steps_per_epoch=320, #steps_per_epoch,\r\n",
        "                              epochs=100,\r\n",
        "                              validation_data=valid_generator_13,\r\n",
        "                              validation_steps=32, #validation_steps,\r\n",
        "                              callbacks=[early_stop],\r\n",
        "                              shuffle= True\r\n",
        "                             )\r\n",
        "\r\n",
        "baseline_model_13.save('food_baseline_model_13.h5')"
      ],
      "execution_count": null,
      "outputs": [
        {
          "output_type": "stream",
          "text": [
            "/usr/local/lib/python3.6/dist-packages/tensorflow/python/keras/engine/training.py:1844: UserWarning: `Model.fit_generator` is deprecated and will be removed in a future version. Please use `Model.fit`, which supports generators.\n",
            "  warnings.warn('`Model.fit_generator` is deprecated and '\n"
          ],
          "name": "stderr"
        },
        {
          "output_type": "stream",
          "text": [
            "Epoch 1/100\n",
            "320/320 [==============================] - 165s 509ms/step - loss: 7.5279 - acc: 0.0105 - val_loss: 4.4025 - val_acc: 0.0383\n",
            "Epoch 2/100\n",
            "320/320 [==============================] - 163s 508ms/step - loss: 4.3560 - acc: 0.0465 - val_loss: 3.9914 - val_acc: 0.1052\n",
            "Epoch 3/100\n",
            "320/320 [==============================] - 162s 507ms/step - loss: 3.9611 - acc: 0.1086 - val_loss: 3.7168 - val_acc: 0.1479\n",
            "Epoch 4/100\n",
            "320/320 [==============================] - 163s 508ms/step - loss: 3.5958 - acc: 0.1679 - val_loss: 3.5097 - val_acc: 0.1787\n",
            "Epoch 5/100\n",
            "320/320 [==============================] - 163s 508ms/step - loss: 3.3272 - acc: 0.2108 - val_loss: 3.3261 - val_acc: 0.2178\n",
            "Epoch 6/100\n",
            "320/320 [==============================] - 162s 507ms/step - loss: 3.0465 - acc: 0.2657 - val_loss: 3.2191 - val_acc: 0.2375\n",
            "Epoch 7/100\n",
            "320/320 [==============================] - 163s 508ms/step - loss: 2.8057 - acc: 0.3200 - val_loss: 3.0634 - val_acc: 0.2708\n",
            "Epoch 8/100\n",
            "320/320 [==============================] - 162s 507ms/step - loss: 2.5424 - acc: 0.3737 - val_loss: 3.1267 - val_acc: 0.2754\n",
            "Epoch 9/100\n",
            "320/320 [==============================] - 162s 507ms/step - loss: 2.2711 - acc: 0.4326 - val_loss: 3.1733 - val_acc: 0.2832\n",
            "Epoch 10/100\n",
            "320/320 [==============================] - 162s 507ms/step - loss: 1.9997 - acc: 0.4919 - val_loss: 3.1674 - val_acc: 0.2847\n",
            "Epoch 11/100\n",
            "320/320 [==============================] - 163s 508ms/step - loss: 1.7606 - acc: 0.5449 - val_loss: 3.3939 - val_acc: 0.2722\n",
            "Epoch 12/100\n",
            "320/320 [==============================] - 163s 508ms/step - loss: 1.5253 - acc: 0.6077 - val_loss: 3.3929 - val_acc: 0.2646\n",
            "Epoch 13/100\n",
            "320/320 [==============================] - 163s 509ms/step - loss: 1.3428 - acc: 0.6497 - val_loss: 3.8324 - val_acc: 0.2659\n",
            "Epoch 14/100\n",
            "320/320 [==============================] - 163s 508ms/step - loss: 1.1754 - acc: 0.6918 - val_loss: 3.7145 - val_acc: 0.2598\n",
            "Epoch 15/100\n",
            "320/320 [==============================] - 163s 509ms/step - loss: 1.0594 - acc: 0.7190 - val_loss: 4.3253 - val_acc: 0.2759\n",
            "Epoch 16/100\n",
            "320/320 [==============================] - 162s 508ms/step - loss: 0.9566 - acc: 0.7438 - val_loss: 4.3270 - val_acc: 0.2778\n",
            "Epoch 17/100\n",
            "320/320 [==============================] - 163s 509ms/step - loss: 0.8964 - acc: 0.7610 - val_loss: 3.7647 - val_acc: 0.2356\n",
            "Epoch 18/100\n",
            "320/320 [==============================] - 163s 508ms/step - loss: 0.8246 - acc: 0.7739 - val_loss: 5.0411 - val_acc: 0.2739\n",
            "Epoch 19/100\n",
            "320/320 [==============================] - 162s 507ms/step - loss: 0.7651 - acc: 0.7933 - val_loss: 4.7410 - val_acc: 0.2617\n",
            "Epoch 20/100\n",
            "320/320 [==============================] - 163s 510ms/step - loss: 0.7278 - acc: 0.7991 - val_loss: 5.5775 - val_acc: 0.2466\n",
            "Epoch 21/100\n",
            "320/320 [==============================] - 163s 510ms/step - loss: 0.7121 - acc: 0.8065 - val_loss: 4.9170 - val_acc: 0.2742\n",
            "Epoch 22/100\n",
            "320/320 [==============================] - 164s 511ms/step - loss: 0.6825 - acc: 0.8166 - val_loss: 3.9735 - val_acc: 0.2354\n",
            "Epoch 23/100\n",
            "320/320 [==============================] - 163s 510ms/step - loss: 0.6802 - acc: 0.8150 - val_loss: 5.1469 - val_acc: 0.2563\n",
            "Epoch 24/100\n",
            "320/320 [==============================] - 163s 509ms/step - loss: 0.6612 - acc: 0.8219 - val_loss: 5.0607 - val_acc: 0.2793\n",
            "Epoch 25/100\n",
            "320/320 [==============================] - 163s 510ms/step - loss: 0.6456 - acc: 0.8257 - val_loss: 5.6755 - val_acc: 0.2666\n",
            "Epoch 26/100\n",
            "320/320 [==============================] - 163s 509ms/step - loss: 0.6273 - acc: 0.8285 - val_loss: 4.5023 - val_acc: 0.2668\n",
            "Epoch 27/100\n",
            "320/320 [==============================] - 162s 507ms/step - loss: 0.6230 - acc: 0.8353 - val_loss: 5.6712 - val_acc: 0.2632\n",
            "Epoch 28/100\n",
            "320/320 [==============================] - 162s 507ms/step - loss: 0.6142 - acc: 0.8337 - val_loss: 6.2322 - val_acc: 0.2524\n",
            "Epoch 29/100\n",
            "320/320 [==============================] - 163s 509ms/step - loss: 0.6070 - acc: 0.8370 - val_loss: 7.0618 - val_acc: 0.2681\n",
            "Epoch 30/100\n",
            "320/320 [==============================] - 163s 508ms/step - loss: 0.6007 - acc: 0.8394 - val_loss: 5.7763 - val_acc: 0.2585\n",
            "Epoch 31/100\n",
            "320/320 [==============================] - 162s 508ms/step - loss: 0.5825 - acc: 0.8430 - val_loss: 7.1048 - val_acc: 0.2651\n",
            "Epoch 32/100\n",
            "320/320 [==============================] - 163s 508ms/step - loss: 0.5694 - acc: 0.8459 - val_loss: 8.1413 - val_acc: 0.2690\n",
            "Epoch 33/100\n",
            "320/320 [==============================] - 163s 508ms/step - loss: 0.5733 - acc: 0.8481 - val_loss: 7.8895 - val_acc: 0.2561\n",
            "Epoch 34/100\n",
            "320/320 [==============================] - 162s 507ms/step - loss: 0.5639 - acc: 0.8510 - val_loss: 7.3716 - val_acc: 0.2642\n",
            "Epoch 35/100\n",
            "320/320 [==============================] - 162s 507ms/step - loss: 0.5919 - acc: 0.8478 - val_loss: 6.2912 - val_acc: 0.2468\n",
            "Epoch 36/100\n",
            "320/320 [==============================] - 162s 507ms/step - loss: 0.5699 - acc: 0.8502 - val_loss: 6.5327 - val_acc: 0.2769\n",
            "Epoch 37/100\n",
            "320/320 [==============================] - 163s 508ms/step - loss: 0.5603 - acc: 0.8524 - val_loss: 6.2631 - val_acc: 0.2502\n"
          ],
          "name": "stdout"
        }
      ]
    },
    {
      "cell_type": "markdown",
      "metadata": {
        "id": "FLqTZ7m92-mK"
      },
      "source": [
        "Model 14 - Include Data Augmentation techniques"
      ]
    },
    {
      "cell_type": "code",
      "metadata": {
        "id": "XIk3wwAx2iLM",
        "colab": {
          "base_uri": "https://localhost:8080/"
        },
        "outputId": "965152a3-255f-40d9-b877-b8c94a3b5203"
      },
      "source": [
        "train_datagen_14 = ImageDataGenerator(samplewise_center = True,\r\n",
        "                                  samplewise_std_normalization = True,\r\n",
        "                                  rescale = 1./255.)\r\n",
        "\r\n",
        "valid_datagen_14 = ImageDataGenerator(rescale = 1./255)\r\n",
        "\r\n",
        "test_datagen_14 = ImageDataGenerator(rescale = 1./255)\r\n",
        "\r\n",
        "train_generator_14 = train_datagen_14.flow_from_directory(directory=\"/content/output/train\",\r\n",
        "                                                    subset=\"training\",\r\n",
        "                                                    batch_size=128,\r\n",
        "                                                    shuffle=True,\r\n",
        "                                                    class_mode=\"categorical\",\r\n",
        "                                                    target_size=(64,64),\r\n",
        "                                                    seed=42)\r\n",
        "\r\n",
        "\r\n",
        "\r\n",
        "valid_generator_14 = valid_datagen_14.flow_from_directory(directory=\"/content/output/val\",\r\n",
        "                                                  batch_size=128,\r\n",
        "                                                  shuffle=True,\r\n",
        "                                                  class_mode=\"categorical\",\r\n",
        "                                                  target_size=(64,64),\r\n",
        "                                                  seed=42)"
      ],
      "execution_count": null,
      "outputs": [
        {
          "output_type": "stream",
          "text": [
            "Found 70700 images belonging to 101 classes.\n",
            "Found 20200 images belonging to 101 classes.\n"
          ],
          "name": "stdout"
        }
      ]
    },
    {
      "cell_type": "code",
      "metadata": {
        "id": "IpSQjwDL2iIS",
        "colab": {
          "base_uri": "https://localhost:8080/"
        },
        "outputId": "21f8af19-b956-48a9-d74e-e56c0aefd3e4"
      },
      "source": [
        "X_train, y_train = train_generator_14.next()\r\n",
        "#Input Layer\r\n",
        "baseline_model_14 = Sequential()\r\n",
        "\r\n",
        "baseline_model_14.add(Conv2D(filters=128, kernel_size=(3, 3), activation='relu', padding='valid', input_shape=X_train.shape[1:]))\r\n",
        "baseline_model_14.add(MaxPooling2D(pool_size=(2, 2), strides=(2,2)))\r\n",
        "\r\n",
        "baseline_model_14.add(Conv2D(filters=256, kernel_size=(3, 3), activation='relu', padding='valid'))\r\n",
        "baseline_model_14.add(MaxPooling2D(pool_size=(2, 2), strides=(2,2)))\r\n",
        "\r\n",
        "baseline_model_14.add(Conv2D(filters=512, kernel_size=(3, 3), activation='relu', padding='valid'))\r\n",
        "baseline_model_14.add(MaxPooling2D(pool_size=(2, 2), strides=(2,2)))\r\n",
        "\r\n",
        "baseline_model_14.add(Conv2D(filters=1024, kernel_size=(3, 3), activation='relu', padding='valid'))\r\n",
        "baseline_model_14.add(MaxPooling2D(pool_size=(2, 2), strides=(2,2)))\r\n",
        "\r\n",
        "# MLP - input layer:\r\n",
        "baseline_model_14.add(Flatten())\r\n",
        "# MLP - hidden layer:\r\n",
        "baseline_model_14.add(Dense(2048, activation='relu',kernel_constraint=maxnorm(3)))\r\n",
        "baseline_model_14.add(Dropout(0.3))\r\n",
        "\r\n",
        "\r\n",
        "\r\n",
        "# MLP - output layer:\r\n",
        "baseline_model_14.add(Dense(y_train.shape[1], activation='softmax'))\r\n",
        "\r\n",
        "# Check built model:\r\n",
        "baseline_model_14.summary()"
      ],
      "execution_count": null,
      "outputs": [
        {
          "output_type": "stream",
          "text": [
            "Model: \"sequential_2\"\n",
            "_________________________________________________________________\n",
            "Layer (type)                 Output Shape              Param #   \n",
            "=================================================================\n",
            "conv2d_8 (Conv2D)            (None, 62, 62, 128)       3584      \n",
            "_________________________________________________________________\n",
            "max_pooling2d_8 (MaxPooling2 (None, 31, 31, 128)       0         \n",
            "_________________________________________________________________\n",
            "conv2d_9 (Conv2D)            (None, 29, 29, 256)       295168    \n",
            "_________________________________________________________________\n",
            "max_pooling2d_9 (MaxPooling2 (None, 14, 14, 256)       0         \n",
            "_________________________________________________________________\n",
            "conv2d_10 (Conv2D)           (None, 12, 12, 512)       1180160   \n",
            "_________________________________________________________________\n",
            "max_pooling2d_10 (MaxPooling (None, 6, 6, 512)         0         \n",
            "_________________________________________________________________\n",
            "conv2d_11 (Conv2D)           (None, 4, 4, 1024)        4719616   \n",
            "_________________________________________________________________\n",
            "max_pooling2d_11 (MaxPooling (None, 2, 2, 1024)        0         \n",
            "_________________________________________________________________\n",
            "flatten_2 (Flatten)          (None, 4096)              0         \n",
            "_________________________________________________________________\n",
            "dense_4 (Dense)              (None, 2048)              8390656   \n",
            "_________________________________________________________________\n",
            "dropout_2 (Dropout)          (None, 2048)              0         \n",
            "_________________________________________________________________\n",
            "dense_5 (Dense)              (None, 101)               206949    \n",
            "=================================================================\n",
            "Total params: 14,796,133\n",
            "Trainable params: 14,796,133\n",
            "Non-trainable params: 0\n",
            "_________________________________________________________________\n"
          ],
          "name": "stdout"
        }
      ]
    },
    {
      "cell_type": "code",
      "metadata": {
        "id": "7qfU0osT2iCh"
      },
      "source": [
        "opt_14 = RMSprop(lr=0.001)\r\n",
        "\r\n",
        "baseline_model_14.compile(loss='categorical_crossentropy',\r\n",
        "              optimizer=opt_14,\r\n",
        "              metrics=['acc'])"
      ],
      "execution_count": null,
      "outputs": []
    },
    {
      "cell_type": "code",
      "metadata": {
        "id": "UycMYs8qz7iN",
        "colab": {
          "base_uri": "https://localhost:8080/"
        },
        "outputId": "6c044a72-a2f6-4bca-b334-f93faab71d44"
      },
      "source": [
        "X_val, y_val = valid_generator_14.next()\r\n",
        "early_stop = EarlyStopping(patience=30, monitor='val_loss', mode='min', restore_best_weights=True)\r\n",
        "\r\n",
        "\r\n",
        "history_baseline_model_14 = baseline_model_14.fit_generator(train_generator_14,\r\n",
        "                              steps_per_epoch=320, #steps_per_epoch,\r\n",
        "                              epochs=100,\r\n",
        "                              validation_data=valid_generator_14,\r\n",
        "                              validation_steps=32, #validation_steps,\r\n",
        "                              callbacks=[early_stop],\r\n",
        "                              shuffle= True\r\n",
        "                             )\r\n",
        "\r\n",
        "baseline_model_14.save('food_baseline_model_14.h5')"
      ],
      "execution_count": 18,
      "outputs": [
        {
          "output_type": "stream",
          "text": [
            "/usr/local/lib/python3.6/dist-packages/tensorflow/python/keras/engine/training.py:1844: UserWarning: `Model.fit_generator` is deprecated and will be removed in a future version. Please use `Model.fit`, which supports generators.\n",
            "  warnings.warn('`Model.fit_generator` is deprecated and '\n"
          ],
          "name": "stderr"
        },
        {
          "output_type": "stream",
          "text": [
            "Epoch 1/100\n",
            "320/320 [==============================] - 165s 516ms/step - loss: 1.3322 - acc: 0.6498 - val_loss: 6.2206 - val_acc: 0.0151\n",
            "Epoch 2/100\n",
            "320/320 [==============================] - 164s 514ms/step - loss: 1.1822 - acc: 0.6845 - val_loss: 9.2787 - val_acc: 0.0137\n",
            "Epoch 3/100\n",
            "320/320 [==============================] - 165s 515ms/step - loss: 1.0812 - acc: 0.7125 - val_loss: 9.8071 - val_acc: 0.0122\n",
            "Epoch 4/100\n",
            "320/320 [==============================] - 165s 514ms/step - loss: 1.0017 - acc: 0.7325 - val_loss: 12.6672 - val_acc: 0.0154\n",
            "Epoch 5/100\n",
            "320/320 [==============================] - 165s 516ms/step - loss: 0.9470 - acc: 0.7446 - val_loss: 8.1167 - val_acc: 0.0098\n",
            "Epoch 6/100\n",
            "320/320 [==============================] - 165s 515ms/step - loss: 0.9068 - acc: 0.7589 - val_loss: 10.8538 - val_acc: 0.0159\n",
            "Epoch 7/100\n",
            "320/320 [==============================] - 165s 516ms/step - loss: 0.8851 - acc: 0.7639 - val_loss: 9.7298 - val_acc: 0.0142\n",
            "Epoch 8/100\n",
            "320/320 [==============================] - 165s 515ms/step - loss: 0.8756 - acc: 0.7653 - val_loss: 8.5892 - val_acc: 0.0173\n",
            "Epoch 9/100\n",
            "320/320 [==============================] - 165s 516ms/step - loss: 0.8794 - acc: 0.7700 - val_loss: 10.6358 - val_acc: 0.0122\n",
            "Epoch 10/100\n",
            "320/320 [==============================] - 165s 514ms/step - loss: 0.8716 - acc: 0.7725 - val_loss: 10.2610 - val_acc: 0.0137\n",
            "Epoch 11/100\n",
            "320/320 [==============================] - 165s 515ms/step - loss: 0.8613 - acc: 0.7756 - val_loss: 8.3042 - val_acc: 0.0137\n",
            "Epoch 12/100\n",
            "320/320 [==============================] - 164s 512ms/step - loss: 0.8549 - acc: 0.7779 - val_loss: 11.5587 - val_acc: 0.0117\n",
            "Epoch 13/100\n",
            "320/320 [==============================] - 167s 521ms/step - loss: 0.8528 - acc: 0.7806 - val_loss: 7.5261 - val_acc: 0.0154\n",
            "Epoch 14/100\n",
            "320/320 [==============================] - 167s 522ms/step - loss: 0.8510 - acc: 0.7821 - val_loss: 6.8603 - val_acc: 0.0161\n",
            "Epoch 15/100\n",
            "320/320 [==============================] - 166s 520ms/step - loss: 0.8563 - acc: 0.7845 - val_loss: 8.8319 - val_acc: 0.0159\n",
            "Epoch 16/100\n",
            "320/320 [==============================] - 166s 518ms/step - loss: 0.8554 - acc: 0.7850 - val_loss: 8.3252 - val_acc: 0.0112\n",
            "Epoch 17/100\n",
            "320/320 [==============================] - 166s 518ms/step - loss: 0.8452 - acc: 0.7869 - val_loss: 8.4212 - val_acc: 0.0149\n",
            "Epoch 18/100\n",
            "320/320 [==============================] - 167s 521ms/step - loss: 0.8336 - acc: 0.7921 - val_loss: 11.2908 - val_acc: 0.0110\n",
            "Epoch 19/100\n",
            "320/320 [==============================] - 166s 519ms/step - loss: 0.8432 - acc: 0.7894 - val_loss: 6.5686 - val_acc: 0.0120\n",
            "Epoch 20/100\n",
            "320/320 [==============================] - 167s 520ms/step - loss: 0.8407 - acc: 0.7927 - val_loss: 6.8345 - val_acc: 0.0149\n",
            "Epoch 21/100\n",
            "320/320 [==============================] - 166s 519ms/step - loss: 0.8201 - acc: 0.7976 - val_loss: 7.5651 - val_acc: 0.0151\n",
            "Epoch 22/100\n",
            "320/320 [==============================] - 166s 519ms/step - loss: 0.8542 - acc: 0.7960 - val_loss: 14.6372 - val_acc: 0.0142\n",
            "Epoch 23/100\n",
            "320/320 [==============================] - 166s 519ms/step - loss: 0.8563 - acc: 0.7927 - val_loss: 11.3119 - val_acc: 0.0095\n",
            "Epoch 24/100\n",
            "320/320 [==============================] - 167s 521ms/step - loss: 0.8427 - acc: 0.7960 - val_loss: 10.6846 - val_acc: 0.0103\n",
            "Epoch 25/100\n",
            "320/320 [==============================] - 166s 519ms/step - loss: 0.8686 - acc: 0.7916 - val_loss: 8.4147 - val_acc: 0.0134\n",
            "Epoch 26/100\n",
            "320/320 [==============================] - 166s 519ms/step - loss: 0.8624 - acc: 0.7971 - val_loss: 15.1759 - val_acc: 0.0149\n",
            "Epoch 27/100\n",
            "320/320 [==============================] - 166s 518ms/step - loss: 0.8559 - acc: 0.7970 - val_loss: 5.8845 - val_acc: 0.0171\n",
            "Epoch 28/100\n",
            "320/320 [==============================] - 165s 517ms/step - loss: 0.8439 - acc: 0.7980 - val_loss: 6.0097 - val_acc: 0.0142\n",
            "Epoch 29/100\n",
            "320/320 [==============================] - 165s 517ms/step - loss: 0.8598 - acc: 0.8010 - val_loss: 8.9942 - val_acc: 0.0122\n",
            "Epoch 30/100\n",
            "320/320 [==============================] - 165s 516ms/step - loss: 0.8718 - acc: 0.7980 - val_loss: 5.9263 - val_acc: 0.0122\n",
            "Epoch 31/100\n",
            "320/320 [==============================] - 166s 517ms/step - loss: 0.9024 - acc: 0.7945 - val_loss: 7.7979 - val_acc: 0.0134\n",
            "Epoch 32/100\n",
            "320/320 [==============================] - 165s 517ms/step - loss: 0.9182 - acc: 0.7908 - val_loss: 7.4332 - val_acc: 0.0164\n",
            "Epoch 33/100\n",
            "320/320 [==============================] - 166s 519ms/step - loss: 0.8973 - acc: 0.7924 - val_loss: 10.2605 - val_acc: 0.0103\n",
            "Epoch 34/100\n",
            "320/320 [==============================] - 166s 517ms/step - loss: 0.8976 - acc: 0.7971 - val_loss: 6.9281 - val_acc: 0.0127\n",
            "Epoch 35/100\n",
            "320/320 [==============================] - 166s 518ms/step - loss: 0.8826 - acc: 0.7983 - val_loss: 9.4683 - val_acc: 0.0200\n",
            "Epoch 36/100\n",
            "320/320 [==============================] - 165s 516ms/step - loss: 0.9332 - acc: 0.7974 - val_loss: 6.6587 - val_acc: 0.0146\n",
            "Epoch 37/100\n",
            "320/320 [==============================] - 166s 519ms/step - loss: 0.8850 - acc: 0.8025 - val_loss: 11.7784 - val_acc: 0.0134\n",
            "Epoch 38/100\n",
            "320/320 [==============================] - 165s 517ms/step - loss: 0.8748 - acc: 0.8037 - val_loss: 7.1793 - val_acc: 0.0142\n",
            "Epoch 39/100\n",
            "320/320 [==============================] - 166s 519ms/step - loss: 0.8872 - acc: 0.8023 - val_loss: 8.7385 - val_acc: 0.0168\n",
            "Epoch 40/100\n",
            "320/320 [==============================] - 166s 519ms/step - loss: 0.8866 - acc: 0.8025 - val_loss: 14.5818 - val_acc: 0.0178\n",
            "Epoch 41/100\n",
            "320/320 [==============================] - 166s 517ms/step - loss: 0.8969 - acc: 0.8049 - val_loss: 6.3852 - val_acc: 0.0156\n",
            "Epoch 42/100\n",
            "320/320 [==============================] - 166s 517ms/step - loss: 0.8812 - acc: 0.8084 - val_loss: 7.3437 - val_acc: 0.0139\n",
            "Epoch 43/100\n",
            "320/320 [==============================] - 166s 519ms/step - loss: 0.9198 - acc: 0.8052 - val_loss: 5.3768 - val_acc: 0.0146\n",
            "Epoch 44/100\n",
            "320/320 [==============================] - 166s 518ms/step - loss: 0.8496 - acc: 0.8134 - val_loss: 5.6847 - val_acc: 0.0137\n",
            "Epoch 45/100\n",
            "320/320 [==============================] - 167s 521ms/step - loss: 0.8583 - acc: 0.8127 - val_loss: 6.4398 - val_acc: 0.0100\n",
            "Epoch 46/100\n",
            "320/320 [==============================] - 167s 521ms/step - loss: 0.8869 - acc: 0.8092 - val_loss: 7.7708 - val_acc: 0.0129\n",
            "Epoch 47/100\n",
            "320/320 [==============================] - 167s 523ms/step - loss: 0.9035 - acc: 0.8104 - val_loss: 5.4063 - val_acc: 0.0134\n",
            "Epoch 48/100\n",
            "320/320 [==============================] - 166s 517ms/step - loss: 0.9121 - acc: 0.8110 - val_loss: 6.7458 - val_acc: 0.0115\n",
            "Epoch 49/100\n",
            "320/320 [==============================] - 165s 517ms/step - loss: 0.8871 - acc: 0.8110 - val_loss: 6.1141 - val_acc: 0.0117\n",
            "Epoch 50/100\n",
            "320/320 [==============================] - 166s 518ms/step - loss: 0.8953 - acc: 0.8129 - val_loss: 8.0889 - val_acc: 0.0154\n",
            "Epoch 51/100\n",
            "320/320 [==============================] - 166s 517ms/step - loss: 0.9260 - acc: 0.8076 - val_loss: 12.4310 - val_acc: 0.0125\n",
            "Epoch 52/100\n",
            "320/320 [==============================] - 165s 516ms/step - loss: 0.9201 - acc: 0.8079 - val_loss: 6.0681 - val_acc: 0.0171\n",
            "Epoch 53/100\n",
            "320/320 [==============================] - 165s 517ms/step - loss: 0.9503 - acc: 0.8076 - val_loss: 6.9850 - val_acc: 0.0164\n",
            "Epoch 54/100\n",
            "320/320 [==============================] - 166s 519ms/step - loss: 0.9551 - acc: 0.8081 - val_loss: 5.6625 - val_acc: 0.0154\n",
            "Epoch 55/100\n",
            "320/320 [==============================] - 165s 517ms/step - loss: 0.8913 - acc: 0.8154 - val_loss: 8.9529 - val_acc: 0.0188\n",
            "Epoch 56/100\n",
            "320/320 [==============================] - 164s 512ms/step - loss: 0.8827 - acc: 0.8205 - val_loss: 10.0931 - val_acc: 0.0154\n",
            "Epoch 57/100\n",
            "320/320 [==============================] - 163s 509ms/step - loss: 0.8888 - acc: 0.8210 - val_loss: 10.7600 - val_acc: 0.0117\n",
            "Epoch 58/100\n",
            "320/320 [==============================] - 167s 522ms/step - loss: 0.8988 - acc: 0.8191 - val_loss: 8.5757 - val_acc: 0.0110\n",
            "Epoch 59/100\n",
            "320/320 [==============================] - 166s 519ms/step - loss: 0.8908 - acc: 0.8217 - val_loss: 13.8654 - val_acc: 0.0173\n",
            "Epoch 60/100\n",
            "320/320 [==============================] - 166s 519ms/step - loss: 0.9252 - acc: 0.8177 - val_loss: 6.6485 - val_acc: 0.0127\n",
            "Epoch 61/100\n",
            "320/320 [==============================] - 166s 519ms/step - loss: 1.0250 - acc: 0.8093 - val_loss: 6.7146 - val_acc: 0.0142\n",
            "Epoch 62/100\n",
            "320/320 [==============================] - 167s 520ms/step - loss: 0.9121 - acc: 0.8220 - val_loss: 5.2863 - val_acc: 0.0188\n",
            "Epoch 63/100\n",
            "320/320 [==============================] - 166s 519ms/step - loss: 0.9397 - acc: 0.8188 - val_loss: 5.1075 - val_acc: 0.0181\n",
            "Epoch 64/100\n",
            "320/320 [==============================] - 166s 518ms/step - loss: 0.9532 - acc: 0.8160 - val_loss: 11.0114 - val_acc: 0.0149\n",
            "Epoch 65/100\n",
            "320/320 [==============================] - 166s 519ms/step - loss: 0.9287 - acc: 0.8210 - val_loss: 9.0617 - val_acc: 0.0146\n",
            "Epoch 66/100\n",
            "320/320 [==============================] - 166s 520ms/step - loss: 0.9204 - acc: 0.8250 - val_loss: 6.9897 - val_acc: 0.0151\n",
            "Epoch 67/100\n",
            "320/320 [==============================] - 166s 519ms/step - loss: 0.9339 - acc: 0.8202 - val_loss: 10.5695 - val_acc: 0.0186\n",
            "Epoch 68/100\n",
            "320/320 [==============================] - 166s 519ms/step - loss: 0.9604 - acc: 0.8216 - val_loss: 7.1272 - val_acc: 0.0144\n",
            "Epoch 69/100\n",
            "320/320 [==============================] - 166s 519ms/step - loss: 0.9106 - acc: 0.8286 - val_loss: 9.3672 - val_acc: 0.0132\n",
            "Epoch 70/100\n",
            "320/320 [==============================] - 167s 520ms/step - loss: 0.9474 - acc: 0.8193 - val_loss: 5.3250 - val_acc: 0.0156\n",
            "Epoch 71/100\n",
            "320/320 [==============================] - 166s 520ms/step - loss: 0.9405 - acc: 0.8246 - val_loss: 5.7585 - val_acc: 0.0146\n",
            "Epoch 72/100\n",
            "320/320 [==============================] - 166s 520ms/step - loss: 0.9555 - acc: 0.8189 - val_loss: 5.3491 - val_acc: 0.0146\n",
            "Epoch 73/100\n",
            "320/320 [==============================] - 167s 521ms/step - loss: 0.9487 - acc: 0.8230 - val_loss: 18.9301 - val_acc: 0.0076\n",
            "Epoch 74/100\n",
            "320/320 [==============================] - 167s 521ms/step - loss: 0.9211 - acc: 0.8254 - val_loss: 4.8173 - val_acc: 0.0115\n",
            "Epoch 75/100\n",
            "320/320 [==============================] - 166s 518ms/step - loss: 0.9635 - acc: 0.8255 - val_loss: 5.6192 - val_acc: 0.0149\n",
            "Epoch 76/100\n",
            "320/320 [==============================] - 168s 525ms/step - loss: 1.0424 - acc: 0.8172 - val_loss: 10.9721 - val_acc: 0.0181\n",
            "Epoch 77/100\n",
            "320/320 [==============================] - 171s 533ms/step - loss: 0.9432 - acc: 0.8286 - val_loss: 5.3931 - val_acc: 0.0154\n",
            "Epoch 78/100\n",
            "320/320 [==============================] - 169s 527ms/step - loss: 0.9400 - acc: 0.8316 - val_loss: 9.1366 - val_acc: 0.0122\n",
            "Epoch 79/100\n",
            "320/320 [==============================] - 166s 518ms/step - loss: 0.9758 - acc: 0.8273 - val_loss: 5.4794 - val_acc: 0.0176\n",
            "Epoch 80/100\n",
            "320/320 [==============================] - 165s 515ms/step - loss: 0.9786 - acc: 0.8276 - val_loss: 5.6380 - val_acc: 0.0186\n",
            "Epoch 81/100\n",
            "320/320 [==============================] - 166s 518ms/step - loss: 0.9721 - acc: 0.8287 - val_loss: 4.8366 - val_acc: 0.0195\n",
            "Epoch 82/100\n",
            "320/320 [==============================] - 165s 515ms/step - loss: 0.9941 - acc: 0.8289 - val_loss: 7.0490 - val_acc: 0.0144\n",
            "Epoch 83/100\n",
            "320/320 [==============================] - 166s 518ms/step - loss: 0.9591 - acc: 0.8336 - val_loss: 5.4444 - val_acc: 0.0168\n",
            "Epoch 84/100\n",
            "320/320 [==============================] - 166s 519ms/step - loss: 1.0044 - acc: 0.8321 - val_loss: 5.3396 - val_acc: 0.0132\n",
            "Epoch 85/100\n",
            "320/320 [==============================] - 165s 517ms/step - loss: 0.9696 - acc: 0.8330 - val_loss: 11.0806 - val_acc: 0.0151\n",
            "Epoch 86/100\n",
            "320/320 [==============================] - 166s 518ms/step - loss: 1.2048 - acc: 0.8246 - val_loss: 5.9589 - val_acc: 0.0217\n",
            "Epoch 87/100\n",
            "320/320 [==============================] - 166s 518ms/step - loss: 0.9849 - acc: 0.8298 - val_loss: 7.8544 - val_acc: 0.0125\n",
            "Epoch 88/100\n",
            "320/320 [==============================] - 166s 517ms/step - loss: 0.9472 - acc: 0.8391 - val_loss: 5.5243 - val_acc: 0.0166\n",
            "Epoch 89/100\n",
            "320/320 [==============================] - 166s 518ms/step - loss: 0.9699 - acc: 0.8377 - val_loss: 14.2418 - val_acc: 0.0134\n",
            "Epoch 90/100\n",
            "320/320 [==============================] - 166s 519ms/step - loss: 0.9713 - acc: 0.8386 - val_loss: 9.4845 - val_acc: 0.0161\n",
            "Epoch 91/100\n",
            "320/320 [==============================] - 167s 522ms/step - loss: 0.9565 - acc: 0.8386 - val_loss: 6.5305 - val_acc: 0.0215\n",
            "Epoch 92/100\n",
            "320/320 [==============================] - 167s 521ms/step - loss: 0.9821 - acc: 0.8381 - val_loss: 18.9036 - val_acc: 0.0198\n",
            "Epoch 93/100\n",
            "320/320 [==============================] - 166s 519ms/step - loss: 0.9524 - acc: 0.8433 - val_loss: 5.7342 - val_acc: 0.0168\n",
            "Epoch 94/100\n",
            "320/320 [==============================] - 166s 519ms/step - loss: 0.9575 - acc: 0.8449 - val_loss: 5.9557 - val_acc: 0.0156\n",
            "Epoch 95/100\n",
            "320/320 [==============================] - 166s 519ms/step - loss: 0.9449 - acc: 0.8477 - val_loss: 5.3900 - val_acc: 0.0134\n",
            "Epoch 96/100\n",
            "320/320 [==============================] - 165s 517ms/step - loss: 0.9644 - acc: 0.8439 - val_loss: 7.9388 - val_acc: 0.0112\n",
            "Epoch 97/100\n",
            "320/320 [==============================] - 166s 519ms/step - loss: 0.9831 - acc: 0.8463 - val_loss: 6.6164 - val_acc: 0.0200\n",
            "Epoch 98/100\n",
            "320/320 [==============================] - 166s 517ms/step - loss: 0.9620 - acc: 0.8469 - val_loss: 5.7467 - val_acc: 0.0151\n",
            "Epoch 99/100\n",
            "320/320 [==============================] - 166s 518ms/step - loss: 0.9278 - acc: 0.8520 - val_loss: 6.7083 - val_acc: 0.0178\n",
            "Epoch 100/100\n",
            "320/320 [==============================] - 166s 519ms/step - loss: 0.9580 - acc: 0.8548 - val_loss: 6.2667 - val_acc: 0.0161\n"
          ],
          "name": "stdout"
        }
      ]
    },
    {
      "cell_type": "markdown",
      "metadata": {
        "id": "yAAM1hcT5jyN"
      },
      "source": [
        "Model 15 - More Data Augmentation techniques\r\n"
      ]
    },
    {
      "cell_type": "code",
      "metadata": {
        "id": "9HZWDJk15NWu",
        "colab": {
          "base_uri": "https://localhost:8080/"
        },
        "outputId": "cdbad197-bbf4-402e-d502-60f575f1ce37"
      },
      "source": [
        "train_datagen_15 = ImageDataGenerator(samplewise_center = True,\r\n",
        "                                  samplewise_std_normalization = True,\r\n",
        "                                  rescale = 1./255.,rotation_range = 40, width_shift_range = 0.2, height_shift_range = 0.2, shear_range = 0.2, zoom_range = 0.2, horizontal_flip = True)\r\n",
        "\r\n",
        "valid_datagen_15 = ImageDataGenerator(rescale = 1./255)\r\n",
        "\r\n",
        "test_datagen_15 = ImageDataGenerator(rescale = 1./255)\r\n",
        "\r\n",
        "train_generator_15 = train_datagen_15.flow_from_directory(directory=\"/content/output/train\",\r\n",
        "                                                    subset=\"training\",\r\n",
        "                                                    batch_size=128,\r\n",
        "                                                    shuffle=True,\r\n",
        "                                                    class_mode=\"categorical\",\r\n",
        "                                                    target_size=(64,64),\r\n",
        "                                                    seed=42)\r\n",
        "\r\n",
        "\r\n",
        "\r\n",
        "valid_generator_15 = valid_datagen_15.flow_from_directory(directory=\"/content/output/val\",\r\n",
        "                                                  batch_size=128,\r\n",
        "                                                  shuffle=True,\r\n",
        "                                                  class_mode=\"categorical\",\r\n",
        "                                                  target_size=(64,64),\r\n",
        "                                                  seed=42)"
      ],
      "execution_count": 8,
      "outputs": [
        {
          "output_type": "stream",
          "text": [
            "Found 70700 images belonging to 101 classes.\n",
            "Found 20200 images belonging to 101 classes.\n"
          ],
          "name": "stdout"
        }
      ]
    },
    {
      "cell_type": "code",
      "metadata": {
        "id": "SOzZMn-p5NRj",
        "colab": {
          "base_uri": "https://localhost:8080/"
        },
        "outputId": "c6572a64-8c58-4c26-ed8c-5f6d72fe2863"
      },
      "source": [
        "X_train, y_train = train_generator_15.next()\r\n",
        "#Input Layer\r\n",
        "baseline_model_15 = Sequential()\r\n",
        "\r\n",
        "baseline_model_15.add(Conv2D(filters=128, kernel_size=(3, 3), activation='relu', padding='valid', input_shape=X_train.shape[1:]))\r\n",
        "baseline_model_15.add(MaxPooling2D(pool_size=(2, 2), strides=(2,2)))\r\n",
        "\r\n",
        "baseline_model_15.add(Conv2D(filters=256, kernel_size=(3, 3), activation='relu', padding='valid'))\r\n",
        "baseline_model_15.add(MaxPooling2D(pool_size=(2, 2), strides=(2,2)))\r\n",
        "\r\n",
        "baseline_model_15.add(Conv2D(filters=512, kernel_size=(3, 3), activation='relu', padding='valid'))\r\n",
        "baseline_model_15.add(MaxPooling2D(pool_size=(2, 2), strides=(2,2)))\r\n",
        "\r\n",
        "baseline_model_15.add(Conv2D(filters=1024, kernel_size=(3, 3), activation='relu', padding='valid'))\r\n",
        "baseline_model_15.add(MaxPooling2D(pool_size=(2, 2), strides=(2,2)))\r\n",
        "\r\n",
        "# MLP - input layer:\r\n",
        "baseline_model_15.add(Flatten())\r\n",
        "# MLP - hidden layer:\r\n",
        "baseline_model_15.add(Dense(2048, activation='relu',kernel_constraint=maxnorm(3)))\r\n",
        "baseline_model_15.add(Dropout(0.3))\r\n",
        "\r\n",
        "\r\n",
        "\r\n",
        "# MLP - output layer:\r\n",
        "baseline_model_15.add(Dense(y_train.shape[1], activation='softmax'))\r\n",
        "\r\n",
        "# Check built model:\r\n",
        "baseline_model_15.summary()"
      ],
      "execution_count": 9,
      "outputs": [
        {
          "output_type": "stream",
          "text": [
            "Model: \"sequential\"\n",
            "_________________________________________________________________\n",
            "Layer (type)                 Output Shape              Param #   \n",
            "=================================================================\n",
            "conv2d (Conv2D)              (None, 62, 62, 128)       3584      \n",
            "_________________________________________________________________\n",
            "max_pooling2d (MaxPooling2D) (None, 31, 31, 128)       0         \n",
            "_________________________________________________________________\n",
            "conv2d_1 (Conv2D)            (None, 29, 29, 256)       295168    \n",
            "_________________________________________________________________\n",
            "max_pooling2d_1 (MaxPooling2 (None, 14, 14, 256)       0         \n",
            "_________________________________________________________________\n",
            "conv2d_2 (Conv2D)            (None, 12, 12, 512)       1180160   \n",
            "_________________________________________________________________\n",
            "max_pooling2d_2 (MaxPooling2 (None, 6, 6, 512)         0         \n",
            "_________________________________________________________________\n",
            "conv2d_3 (Conv2D)            (None, 4, 4, 1024)        4719616   \n",
            "_________________________________________________________________\n",
            "max_pooling2d_3 (MaxPooling2 (None, 2, 2, 1024)        0         \n",
            "_________________________________________________________________\n",
            "flatten (Flatten)            (None, 4096)              0         \n",
            "_________________________________________________________________\n",
            "dense (Dense)                (None, 2048)              8390656   \n",
            "_________________________________________________________________\n",
            "dropout (Dropout)            (None, 2048)              0         \n",
            "_________________________________________________________________\n",
            "dense_1 (Dense)              (None, 101)               206949    \n",
            "=================================================================\n",
            "Total params: 14,796,133\n",
            "Trainable params: 14,796,133\n",
            "Non-trainable params: 0\n",
            "_________________________________________________________________\n"
          ],
          "name": "stdout"
        }
      ]
    },
    {
      "cell_type": "code",
      "metadata": {
        "id": "Zj_hkP-C5NOd"
      },
      "source": [
        "opt_15 = RMSprop(lr=0.001)\r\n",
        "\r\n",
        "baseline_model_15.compile(loss='categorical_crossentropy',\r\n",
        "              optimizer=opt_15,\r\n",
        "              metrics=['acc'])"
      ],
      "execution_count": 10,
      "outputs": []
    },
    {
      "cell_type": "code",
      "metadata": {
        "id": "s_Ibdb7r5NLn",
        "colab": {
          "base_uri": "https://localhost:8080/"
        },
        "outputId": "ef74ff96-67d4-42cb-8cdf-8167448ff10d"
      },
      "source": [
        "X_val, y_val = valid_generator_15.next()\r\n",
        "early_stop = EarlyStopping(patience=30, monitor='val_loss', mode='min', restore_best_weights=True)\r\n",
        "\r\n",
        "\r\n",
        "history_baseline_model_15 = baseline_model_15.fit_generator(train_generator_15,\r\n",
        "                              steps_per_epoch=320, #steps_per_epoch,\r\n",
        "                              epochs=100,\r\n",
        "                              validation_data=valid_generator_15,\r\n",
        "                              validation_steps=32, #validation_steps,\r\n",
        "                              callbacks=[early_stop],\r\n",
        "                              shuffle= True\r\n",
        "                             )\r\n",
        "\r\n",
        "baseline_model_15.save('food_baseline_model_15.h5')"
      ],
      "execution_count": null,
      "outputs": [
        {
          "output_type": "stream",
          "text": [
            "/usr/local/lib/python3.6/dist-packages/tensorflow/python/keras/engine/training.py:1844: UserWarning: `Model.fit_generator` is deprecated and will be removed in a future version. Please use `Model.fit`, which supports generators.\n",
            "  warnings.warn('`Model.fit_generator` is deprecated and '\n"
          ],
          "name": "stderr"
        },
        {
          "output_type": "stream",
          "text": [
            "Epoch 1/100\n",
            "320/320 [==============================] - 3164s 10s/step - loss: 5.6386 - acc: 0.0166 - val_loss: 4.8094 - val_acc: 0.0107\n",
            "Epoch 2/100\n",
            "320/320 [==============================] - 3153s 10s/step - loss: 4.2988 - acc: 0.0539 - val_loss: 5.1377 - val_acc: 0.0093\n",
            "Epoch 3/100\n",
            "320/320 [==============================] - 3146s 10s/step - loss: 4.0046 - acc: 0.0980 - val_loss: 6.1163 - val_acc: 0.0112\n",
            "Epoch 4/100\n",
            "320/320 [==============================] - 3147s 10s/step - loss: 3.8144 - acc: 0.1286 - val_loss: 5.2724 - val_acc: 0.0188\n",
            "Epoch 5/100\n",
            "233/320 [====================>.........] - ETA: 13:55 - loss: 3.6409 - acc: 0.1631"
          ],
          "name": "stdout"
        }
      ]
    },
    {
      "cell_type": "code",
      "metadata": {
        "id": "c5_jK77m5NIy"
      },
      "source": [
        ""
      ],
      "execution_count": null,
      "outputs": []
    },
    {
      "cell_type": "code",
      "metadata": {
        "id": "7xhiIpwL5NGF"
      },
      "source": [
        ""
      ],
      "execution_count": null,
      "outputs": []
    },
    {
      "cell_type": "code",
      "metadata": {
        "id": "49v2Sqdt5NDT"
      },
      "source": [
        ""
      ],
      "execution_count": null,
      "outputs": []
    },
    {
      "cell_type": "code",
      "metadata": {
        "id": "tci4DDul5NAK"
      },
      "source": [
        ""
      ],
      "execution_count": null,
      "outputs": []
    },
    {
      "cell_type": "code",
      "metadata": {
        "id": "i7LuuH5_5M9P"
      },
      "source": [
        ""
      ],
      "execution_count": null,
      "outputs": []
    },
    {
      "cell_type": "code",
      "metadata": {
        "id": "ie_O_6I_5M6g"
      },
      "source": [
        ""
      ],
      "execution_count": null,
      "outputs": []
    },
    {
      "cell_type": "code",
      "metadata": {
        "id": "FErdiXlt5M31"
      },
      "source": [
        ""
      ],
      "execution_count": null,
      "outputs": []
    },
    {
      "cell_type": "code",
      "metadata": {
        "id": "wnS460PB5M0-"
      },
      "source": [
        ""
      ],
      "execution_count": null,
      "outputs": []
    },
    {
      "cell_type": "code",
      "metadata": {
        "id": "i28md_Mm5MyK"
      },
      "source": [
        ""
      ],
      "execution_count": null,
      "outputs": []
    },
    {
      "cell_type": "code",
      "metadata": {
        "id": "X3E0RrbV5MuW"
      },
      "source": [
        ""
      ],
      "execution_count": null,
      "outputs": []
    },
    {
      "cell_type": "code",
      "metadata": {
        "id": "pH1hzBwq5Mqy"
      },
      "source": [
        ""
      ],
      "execution_count": null,
      "outputs": []
    },
    {
      "cell_type": "code",
      "metadata": {
        "colab": {
          "base_uri": "https://localhost:8080/",
          "height": 422
        },
        "id": "Yj9wjWbUoIbo",
        "outputId": "8c75d577-dc01-4ec9-9971-f07f24710cbc"
      },
      "source": [
        "train_datagen = ImageDataGenerator(\r\n",
        "                                  samplewise_center = True,\r\n",
        "                                  samplewise_std_normalization = True,\r\n",
        "                                  rescale = 1./255.,rotation_range = 40, width_shift_range = 0.2, height_shift_range = 0.2, shear_range = 0.2, zoom_range = 0.2, horizontal_flip = True)\r\n",
        "\r\n",
        "valid_datagen = ImageDataGenerator(rescale = 1./255)\r\n",
        "\r\n",
        "test_datagen = ImageDataGenerator(rescale = 1./255)\r\n",
        "\r\n",
        "train_generator = train_datagen.flow_from_directory(directory=\"/output/train/\",\r\n",
        "                                                    subset=\"training\",\r\n",
        "                                                    batch_size=64,\r\n",
        "                                                    shuffle=True,\r\n",
        "                                                    class_mode=\"categorical\",\r\n",
        "                                                    target_size=(64,64),\r\n",
        "                                                    seed=42)\r\n",
        "\r\n",
        "\r\n",
        "\r\n",
        "valid_generator=test_datagen.flow_from_directory(directory=\"/output/val/\",\r\n",
        "                                                  subset=\"validation\",\r\n",
        "                                                  batch_size=64,\r\n",
        "                                                  shuffle=True,\r\n",
        "                                                  class_mode=\"categorical\",\r\n",
        "                                                  target_size=(64,64),\r\n",
        "                                                  seed=42)\r\n",
        "\r\n",
        "\r\n",
        "teste=test_datagen.flow_from_directory(directory=\"/output/test\",\r\n",
        "                                                  subset=\"test\",\r\n",
        "                                                  batch_size=64,\r\n",
        "                                                  shuffle=True,\r\n",
        "                                                  class_mode=\"categorical\",\r\n",
        "                                                  target_size=(64,64),\r\n",
        "                                                  seed=42)\r\n"
      ],
      "execution_count": null,
      "outputs": [
        {
          "output_type": "error",
          "ename": "FileNotFoundError",
          "evalue": "ignored",
          "traceback": [
            "\u001b[0;31m---------------------------------------------------------------------------\u001b[0m",
            "\u001b[0;31mFileNotFoundError\u001b[0m                         Traceback (most recent call last)",
            "\u001b[0;32m<ipython-input-7-6b1c82cda679>\u001b[0m in \u001b[0;36m<module>\u001b[0;34m()\u001b[0m\n\u001b[1;32m     10\u001b[0m                                                     \u001b[0mclass_mode\u001b[0m\u001b[0;34m=\u001b[0m\u001b[0;34m\"categorical\"\u001b[0m\u001b[0;34m,\u001b[0m\u001b[0;34m\u001b[0m\u001b[0;34m\u001b[0m\u001b[0m\n\u001b[1;32m     11\u001b[0m                                                     \u001b[0mtarget_size\u001b[0m\u001b[0;34m=\u001b[0m\u001b[0;34m(\u001b[0m\u001b[0;36m64\u001b[0m\u001b[0;34m,\u001b[0m\u001b[0;36m64\u001b[0m\u001b[0;34m)\u001b[0m\u001b[0;34m,\u001b[0m\u001b[0;34m\u001b[0m\u001b[0;34m\u001b[0m\u001b[0m\n\u001b[0;32m---> 12\u001b[0;31m                                                     seed=42)\n\u001b[0m\u001b[1;32m     13\u001b[0m \u001b[0;34m\u001b[0m\u001b[0m\n\u001b[1;32m     14\u001b[0m \u001b[0mtest_datagen\u001b[0m \u001b[0;34m=\u001b[0m \u001b[0mImageDataGenerator\u001b[0m\u001b[0;34m(\u001b[0m\u001b[0mrescale\u001b[0m \u001b[0;34m=\u001b[0m \u001b[0;36m1.\u001b[0m\u001b[0;34m/\u001b[0m\u001b[0;36m255\u001b[0m\u001b[0;34m)\u001b[0m\u001b[0;34m\u001b[0m\u001b[0;34m\u001b[0m\u001b[0m\n",
            "\u001b[0;32m/usr/local/lib/python3.6/dist-packages/keras_preprocessing/image/image_data_generator.py\u001b[0m in \u001b[0;36mflow_from_directory\u001b[0;34m(self, directory, target_size, color_mode, classes, class_mode, batch_size, shuffle, seed, save_to_dir, save_prefix, save_format, follow_links, subset, interpolation)\u001b[0m\n\u001b[1;32m    541\u001b[0m             \u001b[0msubset\u001b[0m\u001b[0;34m=\u001b[0m\u001b[0msubset\u001b[0m\u001b[0;34m,\u001b[0m\u001b[0;34m\u001b[0m\u001b[0;34m\u001b[0m\u001b[0m\n\u001b[1;32m    542\u001b[0m             \u001b[0minterpolation\u001b[0m\u001b[0;34m=\u001b[0m\u001b[0minterpolation\u001b[0m\u001b[0;34m,\u001b[0m\u001b[0;34m\u001b[0m\u001b[0;34m\u001b[0m\u001b[0m\n\u001b[0;32m--> 543\u001b[0;31m             \u001b[0mdtype\u001b[0m\u001b[0;34m=\u001b[0m\u001b[0mself\u001b[0m\u001b[0;34m.\u001b[0m\u001b[0mdtype\u001b[0m\u001b[0;34m\u001b[0m\u001b[0;34m\u001b[0m\u001b[0m\n\u001b[0m\u001b[1;32m    544\u001b[0m         )\n\u001b[1;32m    545\u001b[0m \u001b[0;34m\u001b[0m\u001b[0m\n",
            "\u001b[0;32m/usr/local/lib/python3.6/dist-packages/keras_preprocessing/image/directory_iterator.py\u001b[0m in \u001b[0;36m__init__\u001b[0;34m(self, directory, image_data_generator, target_size, color_mode, classes, class_mode, batch_size, shuffle, seed, data_format, save_to_dir, save_prefix, save_format, follow_links, subset, interpolation, dtype)\u001b[0m\n\u001b[1;32m    113\u001b[0m         \u001b[0;32mif\u001b[0m \u001b[0;32mnot\u001b[0m \u001b[0mclasses\u001b[0m\u001b[0;34m:\u001b[0m\u001b[0;34m\u001b[0m\u001b[0;34m\u001b[0m\u001b[0m\n\u001b[1;32m    114\u001b[0m             \u001b[0mclasses\u001b[0m \u001b[0;34m=\u001b[0m \u001b[0;34m[\u001b[0m\u001b[0;34m]\u001b[0m\u001b[0;34m\u001b[0m\u001b[0;34m\u001b[0m\u001b[0m\n\u001b[0;32m--> 115\u001b[0;31m             \u001b[0;32mfor\u001b[0m \u001b[0msubdir\u001b[0m \u001b[0;32min\u001b[0m \u001b[0msorted\u001b[0m\u001b[0;34m(\u001b[0m\u001b[0mos\u001b[0m\u001b[0;34m.\u001b[0m\u001b[0mlistdir\u001b[0m\u001b[0;34m(\u001b[0m\u001b[0mdirectory\u001b[0m\u001b[0;34m)\u001b[0m\u001b[0;34m)\u001b[0m\u001b[0;34m:\u001b[0m\u001b[0;34m\u001b[0m\u001b[0;34m\u001b[0m\u001b[0m\n\u001b[0m\u001b[1;32m    116\u001b[0m                 \u001b[0;32mif\u001b[0m \u001b[0mos\u001b[0m\u001b[0;34m.\u001b[0m\u001b[0mpath\u001b[0m\u001b[0;34m.\u001b[0m\u001b[0misdir\u001b[0m\u001b[0;34m(\u001b[0m\u001b[0mos\u001b[0m\u001b[0;34m.\u001b[0m\u001b[0mpath\u001b[0m\u001b[0;34m.\u001b[0m\u001b[0mjoin\u001b[0m\u001b[0;34m(\u001b[0m\u001b[0mdirectory\u001b[0m\u001b[0;34m,\u001b[0m \u001b[0msubdir\u001b[0m\u001b[0;34m)\u001b[0m\u001b[0;34m)\u001b[0m\u001b[0;34m:\u001b[0m\u001b[0;34m\u001b[0m\u001b[0;34m\u001b[0m\u001b[0m\n\u001b[1;32m    117\u001b[0m                     \u001b[0mclasses\u001b[0m\u001b[0;34m.\u001b[0m\u001b[0mappend\u001b[0m\u001b[0;34m(\u001b[0m\u001b[0msubdir\u001b[0m\u001b[0;34m)\u001b[0m\u001b[0;34m\u001b[0m\u001b[0;34m\u001b[0m\u001b[0m\n",
            "\u001b[0;31mFileNotFoundError\u001b[0m: [Errno 2] No such file or directory: '/output/images/train/'"
          ]
        }
      ]
    },
    {
      "cell_type": "code",
      "metadata": {
        "colab": {
          "base_uri": "https://localhost:8080/"
        },
        "id": "9Gh2LsAZ0dSG",
        "outputId": "27b54f80-0d8c-487c-ea70-81e96f997408"
      },
      "source": [
        "\r\n",
        "\r\n",
        "X_train, y_train = train_generator.next()\r\n",
        "#Input Layer\r\n",
        "baseline_model = Sequential()\r\n",
        "\r\n",
        "baseline_model.add(Conv2D(filters=128, kernel_size=(3, 3), activation='relu', padding='valid', input_shape=X_train.shape[1:]))\r\n",
        "baseline_model.add(MaxPooling2D(pool_size=(2, 2), strides=(2,2)))\r\n",
        "\r\n",
        "baseline_model.add(Conv2D(filters=256, kernel_size=(3, 3), activation='relu', padding='valid'))\r\n",
        "baseline_model.add(MaxPooling2D(pool_size=(2, 2), strides=(2,2)))\r\n",
        "\r\n",
        "\r\n",
        "baseline_model.add(Conv2D(filters=512, kernel_size=(3, 3), activation='relu', padding='valid'))\r\n",
        "baseline_model.add(MaxPooling2D(pool_size=(2, 2), strides=(2,2)))\r\n",
        "\r\n",
        "\r\n",
        "baseline_model.add(Conv2D(filters=1024, kernel_size=(3, 3), activation='relu', padding='valid'))\r\n",
        "baseline_model.add(MaxPooling2D(pool_size=(2, 2), strides=(2,2)))\r\n",
        "\r\n",
        "\r\n",
        "# MLP - input layer:\r\n",
        "baseline_model.add(Flatten())\r\n",
        "# MLP - hidden layer:\r\n",
        "baseline_model.add(Dense(4096, activation='relu',kernel_constraint=maxnorm(3)))\r\n",
        "baseline_model.add(Dropout(0.2))\r\n",
        "baseline_model.add(Dense(4096, activation='relu',kernel_constraint=maxnorm(3)))\r\n",
        "baseline_model.add(Dropout(0.2))\r\n",
        "baseline_model.add(Dense(2048, activation='relu',kernel_constraint=maxnorm(3)))\r\n",
        "baseline_model.add(Dropout(0.2))\r\n",
        "\r\n",
        "# MLP - output layer:\r\n",
        "baseline_model.add(Dense(y_train.shape[1], activation='softmax'))\r\n",
        "\r\n",
        "# Check built model:\r\n",
        "baseline_model.summary()"
      ],
      "execution_count": null,
      "outputs": [
        {
          "output_type": "stream",
          "text": [
            "Model: \"sequential_17\"\n",
            "_________________________________________________________________\n",
            "Layer (type)                 Output Shape              Param #   \n",
            "=================================================================\n",
            "conv2d_110 (Conv2D)          (None, 62, 62, 128)       3584      \n",
            "_________________________________________________________________\n",
            "max_pooling2d_51 (MaxPooling (None, 31, 31, 128)       0         \n",
            "_________________________________________________________________\n",
            "conv2d_111 (Conv2D)          (None, 29, 29, 256)       295168    \n",
            "_________________________________________________________________\n",
            "max_pooling2d_52 (MaxPooling (None, 14, 14, 256)       0         \n",
            "_________________________________________________________________\n",
            "conv2d_112 (Conv2D)          (None, 12, 12, 512)       1180160   \n",
            "_________________________________________________________________\n",
            "max_pooling2d_53 (MaxPooling (None, 6, 6, 512)         0         \n",
            "_________________________________________________________________\n",
            "conv2d_113 (Conv2D)          (None, 4, 4, 1024)        4719616   \n",
            "_________________________________________________________________\n",
            "max_pooling2d_54 (MaxPooling (None, 2, 2, 1024)        0         \n",
            "_________________________________________________________________\n",
            "flatten_11 (Flatten)         (None, 4096)              0         \n",
            "_________________________________________________________________\n",
            "dense_35 (Dense)             (None, 4096)              16781312  \n",
            "_________________________________________________________________\n",
            "dropout_23 (Dropout)         (None, 4096)              0         \n",
            "_________________________________________________________________\n",
            "dense_36 (Dense)             (None, 4096)              16781312  \n",
            "_________________________________________________________________\n",
            "dropout_24 (Dropout)         (None, 4096)              0         \n",
            "_________________________________________________________________\n",
            "dense_37 (Dense)             (None, 2048)              8390656   \n",
            "_________________________________________________________________\n",
            "dropout_25 (Dropout)         (None, 2048)              0         \n",
            "_________________________________________________________________\n",
            "dense_38 (Dense)             (None, 101)               206949    \n",
            "=================================================================\n",
            "Total params: 48,358,757\n",
            "Trainable params: 48,358,757\n",
            "Non-trainable params: 0\n",
            "_________________________________________________________________\n"
          ],
          "name": "stdout"
        }
      ]
    },
    {
      "cell_type": "code",
      "metadata": {
        "id": "24SOh5Al3p1p"
      },
      "source": [
        "opt = Adam(lr=0.001)\r\n",
        "\r\n",
        "baseline_model.compile(loss='categorical_crossentropy',\r\n",
        "              optimizer=opt,\r\n",
        "              metrics=['acc'])"
      ],
      "execution_count": null,
      "outputs": []
    },
    {
      "cell_type": "code",
      "metadata": {
        "colab": {
          "base_uri": "https://localhost:8080/"
        },
        "id": "ulUsdn3k0dPu",
        "outputId": "b1ab8b45-9fc0-4e12-b953-edfe8a3af3db"
      },
      "source": [
        "X_val, y_val = valid_generator.next()\r\n",
        "early_stop = EarlyStopping(patience=30, monitor='val_loss', mode='min', restore_best_weights=True)\r\n",
        "\r\n",
        "\r\n",
        "history_baseline_model = baseline_model_1.fit_generator(train_generator,\r\n",
        "                              steps_per_epoch=160, #steps_per_epoch,\r\n",
        "                              epochs=100,\r\n",
        "                              validation_data=valid_generator,\r\n",
        "                              validation_steps=10, #validation_steps,\r\n",
        "                              callbacks=[early_stop],\r\n",
        "                              shuffle= True\r\n",
        "                             )\r\n",
        "\r\n",
        "baseline_model.save('food_baseline_model_1.h5')"
      ],
      "execution_count": null,
      "outputs": [
        {
          "output_type": "stream",
          "text": [
            "/usr/local/lib/python3.6/dist-packages/tensorflow/python/keras/engine/training.py:1844: UserWarning: `Model.fit_generator` is deprecated and will be removed in a future version. Please use `Model.fit`, which supports generators.\n",
            "  warnings.warn('`Model.fit_generator` is deprecated and '\n"
          ],
          "name": "stderr"
        },
        {
          "output_type": "stream",
          "text": [
            "Epoch 1/100\n",
            "160/160 [==============================] - 54s 336ms/step - loss: 4.2930 - acc: 0.0545 - val_loss: 4.3365 - val_acc: 0.0547\n",
            "Epoch 2/100\n",
            "160/160 [==============================] - 54s 337ms/step - loss: 4.2158 - acc: 0.0665 - val_loss: 4.3475 - val_acc: 0.0453\n",
            "Epoch 3/100\n",
            "160/160 [==============================] - 54s 336ms/step - loss: 4.1883 - acc: 0.0685 - val_loss: 4.1274 - val_acc: 0.0656\n",
            "Epoch 4/100\n",
            "160/160 [==============================] - 54s 338ms/step - loss: 4.1421 - acc: 0.0763 - val_loss: 4.0769 - val_acc: 0.0734\n",
            "Epoch 5/100\n",
            "160/160 [==============================] - 54s 337ms/step - loss: 4.1097 - acc: 0.0757 - val_loss: 4.1044 - val_acc: 0.0812\n",
            "Epoch 6/100\n",
            "160/160 [==============================] - 54s 336ms/step - loss: 4.0798 - acc: 0.0794 - val_loss: 4.1218 - val_acc: 0.0734\n",
            "Epoch 7/100\n",
            "160/160 [==============================] - 54s 337ms/step - loss: 4.0663 - acc: 0.0854 - val_loss: 4.0138 - val_acc: 0.1000\n",
            "Epoch 8/100\n",
            "160/160 [==============================] - 54s 335ms/step - loss: 4.0106 - acc: 0.0966 - val_loss: 3.9263 - val_acc: 0.0891\n",
            "Epoch 9/100\n",
            "160/160 [==============================] - 54s 336ms/step - loss: 3.9844 - acc: 0.1031 - val_loss: 3.9202 - val_acc: 0.0891\n",
            "Epoch 10/100\n",
            "160/160 [==============================] - 54s 337ms/step - loss: 3.9832 - acc: 0.0984 - val_loss: 4.0941 - val_acc: 0.1000\n",
            "Epoch 11/100\n",
            "160/160 [==============================] - 54s 335ms/step - loss: 3.9288 - acc: 0.1095 - val_loss: 3.9572 - val_acc: 0.1000\n",
            "Epoch 12/100\n",
            "160/160 [==============================] - 54s 335ms/step - loss: 3.8888 - acc: 0.1178 - val_loss: 3.8715 - val_acc: 0.1016\n",
            "Epoch 13/100\n",
            "160/160 [==============================] - 54s 337ms/step - loss: 3.8843 - acc: 0.1187 - val_loss: 3.8528 - val_acc: 0.1250\n",
            "Epoch 14/100\n",
            "160/160 [==============================] - 54s 335ms/step - loss: 3.8519 - acc: 0.1239 - val_loss: 3.8808 - val_acc: 0.1266\n",
            "Epoch 15/100\n",
            "160/160 [==============================] - 54s 335ms/step - loss: 3.8553 - acc: 0.1282 - val_loss: 4.0839 - val_acc: 0.0953\n",
            "Epoch 16/100\n",
            "160/160 [==============================] - 54s 336ms/step - loss: 3.8585 - acc: 0.1199 - val_loss: 3.9523 - val_acc: 0.1078\n",
            "Epoch 17/100\n",
            "160/160 [==============================] - 54s 335ms/step - loss: 3.8105 - acc: 0.1344 - val_loss: 3.8526 - val_acc: 0.1266\n",
            "Epoch 18/100\n",
            "160/160 [==============================] - 53s 333ms/step - loss: 3.8053 - acc: 0.1354 - val_loss: 3.7849 - val_acc: 0.1281\n",
            "Epoch 19/100\n",
            "160/160 [==============================] - 54s 335ms/step - loss: 3.8055 - acc: 0.1369 - val_loss: 3.8160 - val_acc: 0.1281\n",
            "Epoch 20/100\n",
            "160/160 [==============================] - 54s 336ms/step - loss: 3.7894 - acc: 0.1396 - val_loss: 3.6900 - val_acc: 0.1578\n",
            "Epoch 21/100\n",
            "160/160 [==============================] - 54s 336ms/step - loss: 3.7647 - acc: 0.1380 - val_loss: 3.6681 - val_acc: 0.1531\n",
            "Epoch 22/100\n",
            "160/160 [==============================] - 54s 339ms/step - loss: 3.7385 - acc: 0.1454 - val_loss: 3.9261 - val_acc: 0.1312\n",
            "Epoch 23/100\n",
            "160/160 [==============================] - 54s 337ms/step - loss: 3.7372 - acc: 0.1427 - val_loss: 3.7062 - val_acc: 0.1625\n",
            "Epoch 24/100\n",
            "160/160 [==============================] - 54s 336ms/step - loss: 3.7475 - acc: 0.1476 - val_loss: 3.7471 - val_acc: 0.1453\n",
            "Epoch 25/100\n",
            "160/160 [==============================] - 54s 339ms/step - loss: 3.7225 - acc: 0.1499 - val_loss: 3.6470 - val_acc: 0.1391\n",
            "Epoch 26/100\n",
            "160/160 [==============================] - 54s 338ms/step - loss: 3.7364 - acc: 0.1487 - val_loss: 3.6801 - val_acc: 0.1578\n",
            "Epoch 27/100\n",
            "160/160 [==============================] - 54s 340ms/step - loss: 3.7397 - acc: 0.1479 - val_loss: 3.6127 - val_acc: 0.1391\n",
            "Epoch 28/100\n",
            "160/160 [==============================] - 54s 339ms/step - loss: 3.7415 - acc: 0.1485 - val_loss: 3.6862 - val_acc: 0.1641\n",
            "Epoch 29/100\n",
            "160/160 [==============================] - 54s 340ms/step - loss: 3.7275 - acc: 0.1490 - val_loss: 3.5305 - val_acc: 0.1813\n",
            "Epoch 30/100\n",
            "160/160 [==============================] - 55s 341ms/step - loss: 3.7150 - acc: 0.1545 - val_loss: 3.7019 - val_acc: 0.1562\n",
            "Epoch 31/100\n",
            "160/160 [==============================] - 55s 342ms/step - loss: 3.7403 - acc: 0.1534 - val_loss: 3.6834 - val_acc: 0.1500\n",
            "Epoch 32/100\n",
            "160/160 [==============================] - 55s 341ms/step - loss: 3.7102 - acc: 0.1492 - val_loss: 3.6855 - val_acc: 0.1719\n",
            "Epoch 33/100\n",
            "160/160 [==============================] - 54s 340ms/step - loss: 3.7081 - acc: 0.1602 - val_loss: 3.6563 - val_acc: 0.1500\n",
            "Epoch 34/100\n",
            "160/160 [==============================] - 54s 337ms/step - loss: 3.7134 - acc: 0.1541 - val_loss: 3.6173 - val_acc: 0.1578\n",
            "Epoch 35/100\n",
            "160/160 [==============================] - 54s 338ms/step - loss: 3.6994 - acc: 0.1601 - val_loss: 3.5260 - val_acc: 0.1766\n",
            "Epoch 36/100\n",
            "160/160 [==============================] - 54s 338ms/step - loss: 3.7694 - acc: 0.1483 - val_loss: 3.6450 - val_acc: 0.1766\n",
            "Epoch 37/100\n",
            "160/160 [==============================] - 54s 336ms/step - loss: 3.6951 - acc: 0.1599 - val_loss: 3.7911 - val_acc: 0.1516\n",
            "Epoch 38/100\n",
            "160/160 [==============================] - 54s 339ms/step - loss: 3.7352 - acc: 0.1548 - val_loss: 3.5834 - val_acc: 0.1844\n",
            "Epoch 39/100\n",
            "160/160 [==============================] - 55s 341ms/step - loss: 3.7420 - acc: 0.1489 - val_loss: 3.6774 - val_acc: 0.1734\n",
            "Epoch 40/100\n",
            "160/160 [==============================] - 54s 337ms/step - loss: 3.7121 - acc: 0.1542 - val_loss: 3.8230 - val_acc: 0.1562\n",
            "Epoch 41/100\n",
            "160/160 [==============================] - 54s 338ms/step - loss: 3.7355 - acc: 0.1551 - val_loss: 3.5215 - val_acc: 0.2000\n",
            "Epoch 42/100\n",
            "160/160 [==============================] - 54s 338ms/step - loss: 3.7138 - acc: 0.1552 - val_loss: 3.7669 - val_acc: 0.1453\n",
            "Epoch 43/100\n",
            "160/160 [==============================] - 54s 338ms/step - loss: 3.7268 - acc: 0.1546 - val_loss: 3.8007 - val_acc: 0.1453\n",
            "Epoch 44/100\n",
            "160/160 [==============================] - 54s 340ms/step - loss: 3.7079 - acc: 0.1582 - val_loss: 3.7697 - val_acc: 0.1531\n",
            "Epoch 45/100\n",
            "160/160 [==============================] - 54s 339ms/step - loss: 3.7805 - acc: 0.1458 - val_loss: 3.6400 - val_acc: 0.1734\n",
            "Epoch 46/100\n",
            "160/160 [==============================] - 54s 337ms/step - loss: 3.7019 - acc: 0.1584 - val_loss: 3.5901 - val_acc: 0.1688\n",
            "Epoch 47/100\n",
            "160/160 [==============================] - 54s 339ms/step - loss: 3.7050 - acc: 0.1586 - val_loss: 3.6296 - val_acc: 0.1875\n",
            "Epoch 48/100\n",
            "160/160 [==============================] - 54s 339ms/step - loss: 3.7206 - acc: 0.1636 - val_loss: 3.6511 - val_acc: 0.1703\n",
            "Epoch 49/100\n",
            "160/160 [==============================] - 54s 338ms/step - loss: 3.7301 - acc: 0.1519 - val_loss: 3.6634 - val_acc: 0.1547\n",
            "Epoch 50/100\n",
            "160/160 [==============================] - 54s 340ms/step - loss: 3.7418 - acc: 0.1559 - val_loss: 3.5576 - val_acc: 0.1688\n",
            "Epoch 51/100\n",
            "160/160 [==============================] - 54s 338ms/step - loss: 3.7279 - acc: 0.1598 - val_loss: 3.6099 - val_acc: 0.1813\n",
            "Epoch 52/100\n",
            "160/160 [==============================] - 54s 337ms/step - loss: 3.7423 - acc: 0.1487 - val_loss: 3.7685 - val_acc: 0.1359\n",
            "Epoch 53/100\n",
            "160/160 [==============================] - 54s 339ms/step - loss: 3.7293 - acc: 0.1509 - val_loss: 3.5707 - val_acc: 0.1578\n",
            "Epoch 54/100\n",
            "160/160 [==============================] - 54s 338ms/step - loss: 3.7431 - acc: 0.1555 - val_loss: 3.6244 - val_acc: 0.1781\n",
            "Epoch 55/100\n",
            "160/160 [==============================] - 54s 337ms/step - loss: 3.7510 - acc: 0.1467 - val_loss: 3.6414 - val_acc: 0.1797\n",
            "Epoch 56/100\n",
            "160/160 [==============================] - 54s 339ms/step - loss: 3.8016 - acc: 0.1446 - val_loss: 3.5118 - val_acc: 0.1953\n",
            "Epoch 57/100\n",
            "160/160 [==============================] - 54s 337ms/step - loss: 3.7569 - acc: 0.1528 - val_loss: 3.6398 - val_acc: 0.1594\n",
            "Epoch 58/100\n",
            "160/160 [==============================] - 54s 336ms/step - loss: 3.7680 - acc: 0.1535 - val_loss: 3.7780 - val_acc: 0.1625\n",
            "Epoch 59/100\n",
            "160/160 [==============================] - 54s 337ms/step - loss: 3.7913 - acc: 0.1433 - val_loss: 3.7635 - val_acc: 0.1594\n",
            "Epoch 60/100\n",
            "160/160 [==============================] - 54s 337ms/step - loss: 3.8628 - acc: 0.1344 - val_loss: 3.8536 - val_acc: 0.1422\n",
            "Epoch 61/100\n",
            "160/160 [==============================] - 54s 337ms/step - loss: 3.7635 - acc: 0.1507 - val_loss: 3.5256 - val_acc: 0.1750\n",
            "Epoch 62/100\n",
            "160/160 [==============================] - 54s 339ms/step - loss: 3.8198 - acc: 0.1453 - val_loss: 4.0548 - val_acc: 0.1234\n",
            "Epoch 63/100\n",
            "160/160 [==============================] - 54s 338ms/step - loss: 3.8040 - acc: 0.1491 - val_loss: 3.5750 - val_acc: 0.1672\n",
            "Epoch 64/100\n",
            "160/160 [==============================] - 54s 336ms/step - loss: 3.7937 - acc: 0.1505 - val_loss: 3.8417 - val_acc: 0.1203\n",
            "Epoch 65/100\n",
            "160/160 [==============================] - 55s 341ms/step - loss: 3.8364 - acc: 0.1385 - val_loss: 3.7733 - val_acc: 0.1562\n",
            "Epoch 66/100\n",
            "160/160 [==============================] - 55s 344ms/step - loss: 3.8185 - acc: 0.1432 - val_loss: 3.8386 - val_acc: 0.1516\n",
            "Epoch 67/100\n",
            "160/160 [==============================] - 55s 345ms/step - loss: 3.8317 - acc: 0.1385 - val_loss: 3.7958 - val_acc: 0.1516\n",
            "Epoch 68/100\n",
            "160/160 [==============================] - 56s 349ms/step - loss: 3.8166 - acc: 0.1424 - val_loss: 3.7081 - val_acc: 0.1562\n",
            "Epoch 69/100\n",
            "160/160 [==============================] - 55s 342ms/step - loss: 3.8158 - acc: 0.1431 - val_loss: 3.8014 - val_acc: 0.1594\n",
            "Epoch 70/100\n",
            "160/160 [==============================] - 54s 339ms/step - loss: 3.8192 - acc: 0.1446 - val_loss: 3.8521 - val_acc: 0.1406\n",
            "Epoch 71/100\n",
            "160/160 [==============================] - 54s 339ms/step - loss: 3.8430 - acc: 0.1350 - val_loss: 3.7000 - val_acc: 0.1547\n",
            "Epoch 72/100\n",
            "160/160 [==============================] - 55s 341ms/step - loss: 3.8431 - acc: 0.1388 - val_loss: 3.6782 - val_acc: 0.1734\n",
            "Epoch 73/100\n",
            "160/160 [==============================] - 54s 341ms/step - loss: 3.8360 - acc: 0.1401 - val_loss: 3.6813 - val_acc: 0.1766\n",
            "Epoch 74/100\n",
            "160/160 [==============================] - 54s 336ms/step - loss: 3.8216 - acc: 0.1383 - val_loss: 4.6390 - val_acc: 0.1344\n",
            "Epoch 75/100\n",
            "160/160 [==============================] - 54s 338ms/step - loss: 3.8187 - acc: 0.1433 - val_loss: 3.6964 - val_acc: 0.1156\n",
            "Epoch 76/100\n",
            "160/160 [==============================] - 54s 337ms/step - loss: 3.8077 - acc: 0.1435 - val_loss: 3.6240 - val_acc: 0.1766\n",
            "Epoch 77/100\n",
            "160/160 [==============================] - 54s 338ms/step - loss: 3.8371 - acc: 0.1459 - val_loss: 3.7304 - val_acc: 0.1484\n",
            "Epoch 78/100\n",
            "160/160 [==============================] - 54s 337ms/step - loss: 3.8415 - acc: 0.1459 - val_loss: 3.9189 - val_acc: 0.1437\n",
            "Epoch 79/100\n",
            "160/160 [==============================] - 54s 339ms/step - loss: 3.8734 - acc: 0.1382 - val_loss: 3.8586 - val_acc: 0.1172\n",
            "Epoch 80/100\n",
            "160/160 [==============================] - 54s 338ms/step - loss: 3.8851 - acc: 0.1325 - val_loss: 3.8580 - val_acc: 0.1266\n",
            "Epoch 81/100\n",
            "160/160 [==============================] - 54s 338ms/step - loss: 3.8540 - acc: 0.1351 - val_loss: 3.6267 - val_acc: 0.1500\n",
            "Epoch 82/100\n",
            "160/160 [==============================] - 54s 337ms/step - loss: 3.8512 - acc: 0.1395 - val_loss: 3.6816 - val_acc: 0.1641\n",
            "Epoch 83/100\n",
            "160/160 [==============================] - 54s 339ms/step - loss: 3.8525 - acc: 0.1404 - val_loss: 3.8742 - val_acc: 0.1063\n",
            "Epoch 84/100\n",
            "160/160 [==============================] - 54s 338ms/step - loss: 3.8692 - acc: 0.1359 - val_loss: 3.6280 - val_acc: 0.1625\n",
            "Epoch 85/100\n",
            "160/160 [==============================] - 55s 341ms/step - loss: 3.8847 - acc: 0.1312 - val_loss: 3.8435 - val_acc: 0.1359\n",
            "Epoch 86/100\n",
            "160/160 [==============================] - 54s 337ms/step - loss: 3.8707 - acc: 0.1396 - val_loss: 3.6929 - val_acc: 0.1547\n"
          ],
          "name": "stdout"
        }
      ]
    },
    {
      "cell_type": "code",
      "metadata": {
        "id": "eSBLC1Uf0dM5"
      },
      "source": [
        ""
      ],
      "execution_count": null,
      "outputs": []
    },
    {
      "cell_type": "code",
      "metadata": {
        "id": "Z4D1lrAo0dKZ"
      },
      "source": [
        ""
      ],
      "execution_count": null,
      "outputs": []
    },
    {
      "cell_type": "markdown",
      "metadata": {
        "id": "j0fB1cB8j2qg"
      },
      "source": [
        "Evaluate Results"
      ]
    },
    {
      "cell_type": "code",
      "metadata": {
        "id": "Ka3V6WPU0dHo"
      },
      "source": [
        ""
      ],
      "execution_count": null,
      "outputs": []
    },
    {
      "cell_type": "code",
      "metadata": {
        "id": "rcRaNTnT0dDo"
      },
      "source": [
        ""
      ],
      "execution_count": null,
      "outputs": []
    },
    {
      "cell_type": "code",
      "metadata": {
        "id": "0LoPwBDB0dAg"
      },
      "source": [
        ""
      ],
      "execution_count": null,
      "outputs": []
    },
    {
      "cell_type": "code",
      "metadata": {
        "id": "q2oW4aeI0c4W"
      },
      "source": [
        ""
      ],
      "execution_count": null,
      "outputs": []
    },
    {
      "cell_type": "code",
      "metadata": {
        "id": "wrgOz-j-0cs_"
      },
      "source": [
        ""
      ],
      "execution_count": null,
      "outputs": []
    },
    {
      "cell_type": "code",
      "metadata": {
        "colab": {
          "base_uri": "https://localhost:8080/"
        },
        "id": "YCj9jC5aERPZ",
        "outputId": "e59e0fb1-05a0-4b9f-d983-f2465f235e29"
      },
      "source": [
        "incnet = InceptionV3(weights='imagenet', include_top=False, input_tensor=layers.Input(shape=(299, 299, 3)))\r\n",
        "x = incnet.output\r\n",
        "x = layers.AveragePooling2D(pool_size=(8, 8))(x)\r\n",
        "x = layers.Dropout(.2)(x)\r\n",
        "x = layers.Flatten()(x)\r\n",
        "output = layers.Dense(101, activation='softmax', kernel_regularizer=regularizers.l2(.0005))(x)\r\n",
        "\r\n",
        "model = models.Model(inputs=incnet.input, outputs=output)\r\n",
        "model.compile(optimizer=\"adam\", loss='categorical_crossentropy', metrics=['accuracy'])"
      ],
      "execution_count": null,
      "outputs": [
        {
          "output_type": "stream",
          "text": [
            "Downloading data from https://storage.googleapis.com/tensorflow/keras-applications/inception_v3/inception_v3_weights_tf_dim_ordering_tf_kernels_notop.h5\n",
            "87916544/87910968 [==============================] - 1s 0us/step\n"
          ],
          "name": "stdout"
        }
      ]
    },
    {
      "cell_type": "code",
      "metadata": {
        "colab": {
          "base_uri": "https://localhost:8080/"
        },
        "id": "AqS1V0ObHhcz",
        "outputId": "94cffeef-4532-4807-9ce6-d9421b47f0b2"
      },
      "source": [
        "gc.collect()"
      ],
      "execution_count": null,
      "outputs": [
        {
          "output_type": "execute_result",
          "data": {
            "text/plain": [
              "1005"
            ]
          },
          "metadata": {
            "tags": []
          },
          "execution_count": 14
        }
      ]
    },
    {
      "cell_type": "code",
      "metadata": {
        "colab": {
          "base_uri": "https://localhost:8080/"
        },
        "id": "pMnwx2_VHjDy",
        "outputId": "847469dc-ccfa-4379-fb8b-506b2ff63c1d"
      },
      "source": [
        "early_stopping_callback = EarlyStopping(monitor='val_loss', patience=4)\r\n",
        "checkpoint_callback = ModelCheckpoint('InceptionNet.h5', monitor='val_loss', verbose=1, save_best_only=True, mode='min')\r\n",
        "history = model.fit_generator(train_generator,\r\n",
        "                            validation_data=valid_generator,\r\n",
        "                            epochs=10,\r\n",
        "                            workers=0,\r\n",
        "                            use_multiprocessing=False, \r\n",
        "                            callbacks=[early_stopping_callback, checkpoint_callback])"
      ],
      "execution_count": null,
      "outputs": [
        {
          "output_type": "stream",
          "text": [
            "/usr/local/lib/python3.6/dist-packages/tensorflow/python/keras/engine/training.py:1844: UserWarning: `Model.fit_generator` is deprecated and will be removed in a future version. Please use `Model.fit`, which supports generators.\n",
            "  warnings.warn('`Model.fit_generator` is deprecated and '\n"
          ],
          "name": "stderr"
        },
        {
          "output_type": "stream",
          "text": [
            "Epoch 1/10\n",
            "1263/1263 [==============================] - 1739s 1s/step - loss: 2.8844 - accuracy: 0.3382 - val_loss: 2.6619 - val_accuracy: 0.3891\n",
            "\n",
            "Epoch 00001: val_loss improved from inf to 2.66189, saving model to InceptionNet.h5\n",
            "Epoch 2/10\n",
            "1263/1263 [==============================] - 1675s 1s/step - loss: 1.4509 - accuracy: 0.6439 - val_loss: 2.6808 - val_accuracy: 0.4057\n",
            "\n",
            "Epoch 00002: val_loss did not improve from 2.66189\n",
            "Epoch 3/10\n",
            "1263/1263 [==============================] - 1638s 1s/step - loss: 1.1333 - accuracy: 0.7240 - val_loss: 1.8525 - val_accuracy: 0.5699\n",
            "\n",
            "Epoch 00003: val_loss improved from 2.66189 to 1.85251, saving model to InceptionNet.h5\n",
            "Epoch 4/10\n",
            "1263/1263 [==============================] - 1615s 1s/step - loss: 0.9297 - accuracy: 0.7748 - val_loss: 2.3600 - val_accuracy: 0.4794\n",
            "\n",
            "Epoch 00004: val_loss did not improve from 1.85251\n",
            "Epoch 5/10\n",
            "1263/1263 [==============================] - 1600s 1s/step - loss: 0.7756 - accuracy: 0.8156 - val_loss: 1.8512 - val_accuracy: 0.5752\n",
            "\n",
            "Epoch 00005: val_loss improved from 1.85251 to 1.85121, saving model to InceptionNet.h5\n",
            "Epoch 6/10\n",
            "1263/1263 [==============================] - 1576s 1s/step - loss: 0.6716 - accuracy: 0.8430 - val_loss: 2.0550 - val_accuracy: 0.5553\n",
            "\n",
            "Epoch 00006: val_loss did not improve from 1.85121\n",
            "Epoch 7/10\n",
            "1263/1263 [==============================] - 1586s 1s/step - loss: 0.5669 - accuracy: 0.8716 - val_loss: 1.5541 - val_accuracy: 0.6615\n",
            "\n",
            "Epoch 00007: val_loss improved from 1.85121 to 1.55413, saving model to InceptionNet.h5\n",
            "Epoch 8/10\n",
            "1263/1263 [==============================] - 1593s 1s/step - loss: 0.4740 - accuracy: 0.8973 - val_loss: 1.8449 - val_accuracy: 0.5967\n",
            "\n",
            "Epoch 00008: val_loss did not improve from 1.55413\n",
            "Epoch 9/10\n",
            "1263/1263 [==============================] - 1575s 1s/step - loss: 0.4182 - accuracy: 0.9116 - val_loss: 2.1094 - val_accuracy: 0.5749\n",
            "\n",
            "Epoch 00009: val_loss did not improve from 1.55413\n",
            "Epoch 10/10\n",
            "1263/1263 [==============================] - 1593s 1s/step - loss: 0.3734 - accuracy: 0.9240 - val_loss: 1.6664 - val_accuracy: 0.6562\n",
            "\n",
            "Epoch 00010: val_loss did not improve from 1.55413\n"
          ],
          "name": "stdout"
        }
      ]
    },
    {
      "cell_type": "code",
      "metadata": {
        "colab": {
          "base_uri": "https://localhost:8080/"
        },
        "id": "LhP-Yb3T8V9M",
        "outputId": "db8d5ebf-96b2-4d3e-fc05-4f8ba540c070"
      },
      "source": [
        "train_datagen = ImageDataGenerator(#data_format='channels_first',\r\n",
        "                                  validation_split=0.2,\r\n",
        "                                  samplewise_center = True,\r\n",
        "                                  samplewise_std_normalization = True,rescale = 1.0/255.)\r\n",
        "\r\n",
        "train_datageno = ImageDataGenerator(rescale = 1./255.,rotation_range = 40, width_shift_range = 0.2, height_shift_range = 0.2, shear_range = 0.2, zoom_range = 0.2, horizontal_flip = True)\r\n",
        "\r\n",
        "train_generator = train_datagen.flow_from_directory(directory=\"/content/images\",\r\n",
        "                                                    subset=\"training\",\r\n",
        "                                                    batch_size=20,\r\n",
        "                                                    shuffle=True,\r\n",
        "                                                    class_mode=\"categorical\",\r\n",
        "                                                    target_size=(224,224),\r\n",
        "                                                    seed=42)\r\n",
        "\r\n",
        "valid_generator=train_datagen.flow_from_directory(directory=\"/content/images\",\r\n",
        "                                                  subset=\"validation\",\r\n",
        "                                                  batch_size=20,\r\n",
        "                                                  shuffle=True,\r\n",
        "                                                  class_mode=\"categorical\",\r\n",
        "                                                  target_size=(224,224),\r\n",
        "                                                  seed=42)\r\n",
        "\r\n"
      ],
      "execution_count": null,
      "outputs": [
        {
          "output_type": "stream",
          "text": [
            "Found 80800 images belonging to 101 classes.\n",
            "Found 20200 images belonging to 101 classes.\n"
          ],
          "name": "stdout"
        }
      ]
    },
    {
      "cell_type": "code",
      "metadata": {
        "id": "WV8BgNKg_pX8"
      },
      "source": [
        "train_datageno.fit(train_generator)"
      ],
      "execution_count": null,
      "outputs": []
    },
    {
      "cell_type": "code",
      "metadata": {
        "id": "uaPfhC2H9KUy"
      },
      "source": [
        "train_generator\r\n",
        "\r\n",
        "valid_generator"
      ],
      "execution_count": null,
      "outputs": []
    },
    {
      "cell_type": "code",
      "metadata": {
        "id": "I_02c-wY9oXi"
      },
      "source": [
        "#IMAGE AUGMENTATION\r\n",
        "\r\n",
        "# Add our data-augmentation parameters to ImageDataGenerator\r\n",
        "train_datagen = ImageDataGenerator(rescale = 1./255.,rotation_range = 40, width_shift_range = 0.2, height_shift_range = 0.2, shear_range = 0.2, zoom_range = 0.2, horizontal_flip = True)\r\n",
        "\r\n",
        "# Note that the validation data should not be augmented!\r\n",
        "test_datagen = ImageDataGenerator( rescale = 1.0/255. )"
      ],
      "execution_count": null,
      "outputs": []
    },
    {
      "cell_type": "code",
      "metadata": {
        "colab": {
          "base_uri": "https://localhost:8080/"
        },
        "id": "hoYnP06t90UU",
        "outputId": "8aab97e9-97ea-4f72-a9fd-2015313e2d87"
      },
      "source": [
        "#TRAINING\r\n",
        "\r\n",
        "# Flow training images in batches of 20 using train_datagen generator\r\n",
        "train_generator = train_datagen.flow_from_directory(directory=\"/content/output/train\", batch_size = 20, class_mode = 'categorical', target_size = (224, 224))\r\n",
        "\r\n",
        "# Flow validation images in batches of 20 using test_datagen generator\r\n",
        "validation_generator = test_datagen.flow_from_directory(directory=\"/content/output/val\",  batch_size = 20, class_mode = 'categorical', target_size = (224, 224))"
      ],
      "execution_count": null,
      "outputs": [
        {
          "output_type": "stream",
          "text": [
            "Found 80800 images belonging to 101 classes.\n",
            "Found 20200 images belonging to 101 classes.\n"
          ],
          "name": "stdout"
        }
      ]
    },
    {
      "cell_type": "code",
      "metadata": {
        "id": "tn7T0OTtYH9X"
      },
      "source": [
        "#NOVO PROJETO"
      ],
      "execution_count": null,
      "outputs": []
    },
    {
      "cell_type": "code",
      "metadata": {
        "id": "I_YMJw-OYHHH"
      },
      "source": [
        "import tensorflow as tf\r\n",
        "import matplotlib.image as img\r\n",
        "%matplotlib inline\r\n",
        "import numpy as np\r\n",
        "from collections import defaultdict\r\n",
        "import collections\r\n",
        "from shutil import copy\r\n",
        "from shutil import copytree, rmtree\r\n",
        "import tensorflow.keras.backend as K\r\n",
        "from tensorflow.keras.models import load_model\r\n",
        "from tensorflow.keras.preprocessing import image\r\n",
        "import matplotlib.pyplot as plt\r\n",
        "import numpy as np\r\n",
        "import os\r\n",
        "import random\r\n",
        "import tensorflow as tf\r\n",
        "import tensorflow.keras.backend as K\r\n",
        "from tensorflow.keras import regularizers\r\n",
        "from tensorflow.keras.applications.inception_v3 import InceptionV3\r\n",
        "from tensorflow.keras.models import Sequential, Model\r\n",
        "from tensorflow.keras.layers import Dense, Dropout, Activation, Flatten\r\n",
        "from tensorflow.keras.layers import Convolution2D, MaxPooling2D, ZeroPadding2D, GlobalAveragePooling2D, AveragePooling2D\r\n",
        "from tensorflow.keras.preprocessing.image import ImageDataGenerator\r\n",
        "from tensorflow.keras.callbacks import ModelCheckpoint, CSVLogger\r\n",
        "from tensorflow.keras.optimizers import SGD\r\n",
        "from tensorflow.keras.regularizers import l2\r\n",
        "from tensorflow import keras\r\n",
        "from tensorflow.keras import models\r\n",
        "import cv2"
      ],
      "execution_count": null,
      "outputs": []
    },
    {
      "cell_type": "code",
      "metadata": {
        "id": "-DBXuBB1YpKe"
      },
      "source": [
        "# Helper method to create train_mini and test_mini data samples\r\n",
        "def dataset_mini(food_list, src, dest):\r\n",
        "  if os.path.exists(dest):\r\n",
        "    rmtree(dest) # removing dataset_mini(if it already exists) folders so that we will have only the classes that we want\r\n",
        "  os.makedirs(dest)\r\n",
        "  for food_item in food_list :\r\n",
        "    print(\"Copying images into\",food_item)\r\n",
        "    copytree(os.path.join(src,food_item), os.path.join(dest,food_item))"
      ],
      "execution_count": null,
      "outputs": []
    },
    {
      "cell_type": "code",
      "metadata": {
        "id": "Rub3rI5JYqAd"
      },
      "source": [
        "food_list = ['apple_pie','pizza','omelette']\r\n",
        "src_train = '/content/output/train'\r\n",
        "dest_train = '/content/output/train_mini'\r\n",
        "src_test = '/content/output/val'\r\n",
        "dest_test = '/content/output/val_mini'"
      ],
      "execution_count": null,
      "outputs": []
    },
    {
      "cell_type": "code",
      "metadata": {
        "colab": {
          "base_uri": "https://localhost:8080/"
        },
        "id": "9j2v4yf1YuTo",
        "outputId": "de2d8c33-8e1e-4b0e-f44c-1db3df558e13"
      },
      "source": [
        "print(\"Creating train data folder with new classes\")\r\n",
        "dataset_mini(food_list, src_train, dest_train)"
      ],
      "execution_count": null,
      "outputs": [
        {
          "output_type": "stream",
          "text": [
            "Creating train data folder with new classes\n",
            "Copying images into apple_pie\n",
            "Copying images into pizza\n",
            "Copying images into omelette\n"
          ],
          "name": "stdout"
        }
      ]
    },
    {
      "cell_type": "code",
      "metadata": {
        "colab": {
          "base_uri": "https://localhost:8080/"
        },
        "id": "AEUIlRZrZluW",
        "outputId": "ed08b9b0-1204-4bc6-cee5-f116ef097481"
      },
      "source": [
        "print(\"Total number of samples in train folder\")\r\n",
        "\r\n",
        "!find /content/output/train_mini -type d -or -type f -printf '.' | wc -c\r\n",
        "\r\n"
      ],
      "execution_count": null,
      "outputs": [
        {
          "output_type": "stream",
          "text": [
            "Total number of samples in train folder\n",
            "2400\n"
          ],
          "name": "stdout"
        }
      ]
    },
    {
      "cell_type": "code",
      "metadata": {
        "colab": {
          "base_uri": "https://localhost:8080/"
        },
        "id": "kiCLhXisaAl0",
        "outputId": "c7152a01-1ec1-4a6e-af9e-d3e6fdad8893"
      },
      "source": [
        "\r\n",
        "\r\n",
        "print(\"Creating test data folder with new classes\")\r\n",
        "dataset_mini(food_list, src_test, dest_test)\r\n",
        "\r\n"
      ],
      "execution_count": null,
      "outputs": [
        {
          "output_type": "stream",
          "text": [
            "Creating test data folder with new classes\n",
            "Copying images into apple_pie\n",
            "Copying images into pizza\n",
            "Copying images into omelette\n"
          ],
          "name": "stdout"
        }
      ]
    },
    {
      "cell_type": "code",
      "metadata": {
        "colab": {
          "base_uri": "https://localhost:8080/"
        },
        "id": "_6r9eXEUacLj",
        "outputId": "54d50a5a-bf53-40e7-e056-f122d6784019"
      },
      "source": [
        "print(\"Total number of samples in test folder\")\r\n",
        "!find /content/output/val_mini -type d -or -type f -printf '.' | wc -c\r\n",
        "\r\n"
      ],
      "execution_count": null,
      "outputs": [
        {
          "output_type": "stream",
          "text": [
            "Total number of samples in test folder\n",
            "600\n"
          ],
          "name": "stdout"
        }
      ]
    },
    {
      "cell_type": "code",
      "metadata": {
        "colab": {
          "base_uri": "https://localhost:8080/"
        },
        "id": "aMmnPuRTat7d",
        "outputId": "a296224e-1044-48c4-8d22-b872576de206"
      },
      "source": [
        "K.clear_session()\r\n",
        "n_classes = 3\r\n",
        "img_width, img_height = 299, 299\r\n",
        "train_data_dir = '/content/output/train_mini'\r\n",
        "validation_data_dir = '/content/output/val_mini'\r\n",
        "nb_train_samples = 2400 #75750\r\n",
        "nb_validation_samples = 600 #25250\r\n",
        "batch_size = 16\r\n",
        "\r\n",
        "train_datagen = ImageDataGenerator(\r\n",
        "    rescale=1. / 255,\r\n",
        "    shear_range=0.2,\r\n",
        "    zoom_range=0.2,\r\n",
        "    horizontal_flip=True)\r\n",
        "\r\n",
        "test_datagen = ImageDataGenerator(rescale=1. / 255)\r\n",
        "\r\n",
        "train_generator = train_datagen.flow_from_directory(\r\n",
        "    train_data_dir,\r\n",
        "    target_size=(img_height, img_width),\r\n",
        "    batch_size=batch_size,\r\n",
        "    class_mode='categorical')\r\n",
        "\r\n",
        "validation_generator = test_datagen.flow_from_directory(\r\n",
        "    validation_data_dir,\r\n",
        "    target_size=(img_height, img_width),\r\n",
        "    batch_size=batch_size,\r\n",
        "    class_mode='categorical')\r\n",
        "\r\n",
        "\r\n",
        "inception = InceptionV3(weights='imagenet', include_top=False)\r\n",
        "x = inception.output\r\n",
        "x = GlobalAveragePooling2D()(x)\r\n",
        "x = Dense(128,activation='relu')(x)\r\n",
        "x = Dropout(0.2)(x)\r\n",
        "\r\n",
        "predictions = Dense(3,kernel_regularizer=regularizers.l2(0.005), activation='softmax')(x)\r\n",
        "\r\n",
        "model = Model(inputs=inception.input, outputs=predictions)\r\n",
        "model.compile(optimizer=SGD(lr=0.0001, momentum=0.9), loss='categorical_crossentropy', metrics=['accuracy'])\r\n",
        "checkpointer = ModelCheckpoint(filepath='best_model_3class.hdf5', verbose=1, save_best_only=True)\r\n",
        "csv_logger = CSVLogger('history_3class.log')\r\n",
        "\r\n",
        "history = model.fit_generator(train_generator,\r\n",
        "                    steps_per_epoch = nb_train_samples // batch_size,\r\n",
        "                    validation_data=validation_generator,\r\n",
        "                    validation_steps=nb_validation_samples // batch_size,\r\n",
        "                    epochs=30,\r\n",
        "                    verbose=1,\r\n",
        "                    callbacks=[csv_logger, checkpointer])\r\n",
        "\r\n",
        "model.save('model_trained_3class.hdf5')"
      ],
      "execution_count": null,
      "outputs": [
        {
          "output_type": "stream",
          "text": [
            "Found 2400 images belonging to 3 classes.\n",
            "Found 600 images belonging to 3 classes.\n",
            "Downloading data from https://storage.googleapis.com/tensorflow/keras-applications/inception_v3/inception_v3_weights_tf_dim_ordering_tf_kernels_notop.h5\n",
            "87916544/87910968 [==============================] - 1s 0us/step\n"
          ],
          "name": "stdout"
        },
        {
          "output_type": "stream",
          "text": [
            "/usr/local/lib/python3.6/dist-packages/tensorflow/python/keras/engine/training.py:1844: UserWarning: `Model.fit_generator` is deprecated and will be removed in a future version. Please use `Model.fit`, which supports generators.\n",
            "  warnings.warn('`Model.fit_generator` is deprecated and '\n"
          ],
          "name": "stderr"
        },
        {
          "output_type": "stream",
          "text": [
            "Epoch 1/30\n",
            "150/150 [==============================] - 74s 442ms/step - loss: 1.1282 - accuracy: 0.4067 - val_loss: 0.8111 - val_accuracy: 0.6959\n",
            "\n",
            "Epoch 00001: val_loss improved from inf to 0.81108, saving model to best_model_3class.hdf5\n",
            "Epoch 2/30\n",
            "150/150 [==============================] - 65s 432ms/step - loss: 0.8120 - accuracy: 0.6959 - val_loss: 0.6171 - val_accuracy: 0.7973\n",
            "\n",
            "Epoch 00002: val_loss improved from 0.81108 to 0.61714, saving model to best_model_3class.hdf5\n",
            "Epoch 3/30\n",
            "150/150 [==============================] - 65s 433ms/step - loss: 0.6302 - accuracy: 0.7828 - val_loss: 0.4980 - val_accuracy: 0.8429\n",
            "\n",
            "Epoch 00003: val_loss improved from 0.61714 to 0.49803, saving model to best_model_3class.hdf5\n",
            "Epoch 4/30\n",
            "150/150 [==============================] - 65s 434ms/step - loss: 0.5057 - accuracy: 0.8249 - val_loss: 0.4307 - val_accuracy: 0.8530\n",
            "\n",
            "Epoch 00004: val_loss improved from 0.49803 to 0.43072, saving model to best_model_3class.hdf5\n",
            "Epoch 5/30\n",
            "150/150 [==============================] - 65s 432ms/step - loss: 0.4414 - accuracy: 0.8528 - val_loss: 0.3887 - val_accuracy: 0.8682\n",
            "\n",
            "Epoch 00005: val_loss improved from 0.43072 to 0.38873, saving model to best_model_3class.hdf5\n",
            "Epoch 6/30\n",
            "150/150 [==============================] - 64s 428ms/step - loss: 0.3861 - accuracy: 0.8760 - val_loss: 0.3487 - val_accuracy: 0.8851\n",
            "\n",
            "Epoch 00006: val_loss improved from 0.38873 to 0.34866, saving model to best_model_3class.hdf5\n",
            "Epoch 7/30\n",
            "150/150 [==============================] - 64s 425ms/step - loss: 0.3607 - accuracy: 0.8894 - val_loss: 0.3374 - val_accuracy: 0.8919\n",
            "\n",
            "Epoch 00007: val_loss improved from 0.34866 to 0.33739, saving model to best_model_3class.hdf5\n",
            "Epoch 8/30\n",
            "150/150 [==============================] - 64s 424ms/step - loss: 0.3264 - accuracy: 0.8945 - val_loss: 0.3246 - val_accuracy: 0.8868\n",
            "\n",
            "Epoch 00008: val_loss improved from 0.33739 to 0.32456, saving model to best_model_3class.hdf5\n",
            "Epoch 9/30\n",
            "150/150 [==============================] - 64s 425ms/step - loss: 0.3041 - accuracy: 0.8975 - val_loss: 0.3151 - val_accuracy: 0.8936\n",
            "\n",
            "Epoch 00009: val_loss improved from 0.32456 to 0.31511, saving model to best_model_3class.hdf5\n",
            "Epoch 10/30\n",
            "150/150 [==============================] - 64s 423ms/step - loss: 0.2846 - accuracy: 0.9082 - val_loss: 0.2976 - val_accuracy: 0.8970\n",
            "\n",
            "Epoch 00010: val_loss improved from 0.31511 to 0.29762, saving model to best_model_3class.hdf5\n",
            "Epoch 11/30\n",
            "150/150 [==============================] - 64s 423ms/step - loss: 0.2636 - accuracy: 0.9179 - val_loss: 0.2966 - val_accuracy: 0.9054\n",
            "\n",
            "Epoch 00011: val_loss improved from 0.29762 to 0.29656, saving model to best_model_3class.hdf5\n",
            "Epoch 12/30\n",
            "150/150 [==============================] - 64s 423ms/step - loss: 0.2295 - accuracy: 0.9268 - val_loss: 0.2885 - val_accuracy: 0.9054\n",
            "\n",
            "Epoch 00012: val_loss improved from 0.29656 to 0.28855, saving model to best_model_3class.hdf5\n",
            "Epoch 13/30\n",
            "150/150 [==============================] - 63s 422ms/step - loss: 0.2206 - accuracy: 0.9366 - val_loss: 0.2874 - val_accuracy: 0.9054\n",
            "\n",
            "Epoch 00013: val_loss improved from 0.28855 to 0.28742, saving model to best_model_3class.hdf5\n",
            "Epoch 14/30\n",
            "150/150 [==============================] - 64s 426ms/step - loss: 0.2234 - accuracy: 0.9255 - val_loss: 0.2800 - val_accuracy: 0.9037\n",
            "\n",
            "Epoch 00014: val_loss improved from 0.28742 to 0.28002, saving model to best_model_3class.hdf5\n",
            "Epoch 15/30\n",
            "150/150 [==============================] - 64s 425ms/step - loss: 0.2030 - accuracy: 0.9368 - val_loss: 0.2745 - val_accuracy: 0.9071\n",
            "\n",
            "Epoch 00015: val_loss improved from 0.28002 to 0.27449, saving model to best_model_3class.hdf5\n",
            "Epoch 16/30\n",
            "150/150 [==============================] - 64s 424ms/step - loss: 0.1816 - accuracy: 0.9455 - val_loss: 0.2807 - val_accuracy: 0.9071\n",
            "\n",
            "Epoch 00016: val_loss did not improve from 0.27449\n",
            "Epoch 17/30\n",
            "150/150 [==============================] - 64s 423ms/step - loss: 0.1822 - accuracy: 0.9529 - val_loss: 0.2749 - val_accuracy: 0.9172\n",
            "\n",
            "Epoch 00017: val_loss did not improve from 0.27449\n",
            "Epoch 18/30\n",
            "150/150 [==============================] - 64s 425ms/step - loss: 0.1610 - accuracy: 0.9544 - val_loss: 0.2744 - val_accuracy: 0.9155\n",
            "\n",
            "Epoch 00018: val_loss improved from 0.27449 to 0.27441, saving model to best_model_3class.hdf5\n",
            "Epoch 19/30\n",
            "150/150 [==============================] - 64s 427ms/step - loss: 0.1672 - accuracy: 0.9482 - val_loss: 0.2733 - val_accuracy: 0.9189\n",
            "\n",
            "Epoch 00019: val_loss improved from 0.27441 to 0.27330, saving model to best_model_3class.hdf5\n",
            "Epoch 20/30\n",
            "150/150 [==============================] - 64s 424ms/step - loss: 0.1654 - accuracy: 0.9517 - val_loss: 0.2765 - val_accuracy: 0.9155\n",
            "\n",
            "Epoch 00020: val_loss did not improve from 0.27330\n",
            "Epoch 21/30\n",
            "150/150 [==============================] - 64s 423ms/step - loss: 0.1414 - accuracy: 0.9660 - val_loss: 0.2750 - val_accuracy: 0.9172\n",
            "\n",
            "Epoch 00021: val_loss did not improve from 0.27330\n",
            "Epoch 22/30\n",
            "150/150 [==============================] - 64s 424ms/step - loss: 0.1507 - accuracy: 0.9619 - val_loss: 0.2729 - val_accuracy: 0.9206\n",
            "\n",
            "Epoch 00022: val_loss improved from 0.27330 to 0.27288, saving model to best_model_3class.hdf5\n",
            "Epoch 23/30\n",
            "150/150 [==============================] - 64s 424ms/step - loss: 0.1270 - accuracy: 0.9691 - val_loss: 0.2817 - val_accuracy: 0.9172\n",
            "\n",
            "Epoch 00023: val_loss did not improve from 0.27288\n",
            "Epoch 24/30\n",
            "150/150 [==============================] - 64s 424ms/step - loss: 0.1339 - accuracy: 0.9702 - val_loss: 0.2642 - val_accuracy: 0.9223\n",
            "\n",
            "Epoch 00024: val_loss improved from 0.27288 to 0.26419, saving model to best_model_3class.hdf5\n",
            "Epoch 25/30\n",
            "150/150 [==============================] - 64s 425ms/step - loss: 0.1213 - accuracy: 0.9708 - val_loss: 0.2761 - val_accuracy: 0.9172\n",
            "\n",
            "Epoch 00025: val_loss did not improve from 0.26419\n",
            "Epoch 26/30\n",
            "150/150 [==============================] - 64s 423ms/step - loss: 0.1034 - accuracy: 0.9803 - val_loss: 0.2730 - val_accuracy: 0.9206\n",
            "\n",
            "Epoch 00026: val_loss did not improve from 0.26419\n",
            "Epoch 27/30\n",
            "150/150 [==============================] - 64s 424ms/step - loss: 0.1191 - accuracy: 0.9684 - val_loss: 0.2831 - val_accuracy: 0.9172\n",
            "\n",
            "Epoch 00027: val_loss did not improve from 0.26419\n",
            "Epoch 28/30\n",
            "150/150 [==============================] - 64s 424ms/step - loss: 0.1030 - accuracy: 0.9768 - val_loss: 0.2751 - val_accuracy: 0.9189\n",
            "\n",
            "Epoch 00028: val_loss did not improve from 0.26419\n",
            "Epoch 29/30\n",
            "150/150 [==============================] - 64s 423ms/step - loss: 0.0950 - accuracy: 0.9789 - val_loss: 0.2841 - val_accuracy: 0.9189\n",
            "\n",
            "Epoch 00029: val_loss did not improve from 0.26419\n",
            "Epoch 30/30\n",
            "150/150 [==============================] - 64s 424ms/step - loss: 0.0953 - accuracy: 0.9846 - val_loss: 0.2787 - val_accuracy: 0.9155\n",
            "\n",
            "Epoch 00030: val_loss did not improve from 0.26419\n"
          ],
          "name": "stdout"
        }
      ]
    },
    {
      "cell_type": "code",
      "metadata": {
        "colab": {
          "base_uri": "https://localhost:8080/"
        },
        "id": "hJN9qKjxjFmN",
        "outputId": "ea95dc6e-cd58-4520-a878-f4a0dbaf5504"
      },
      "source": [
        "from tensorflow.keras.models import Sequential\r\n",
        "from tensorflow.keras.layers import Conv2D, MaxPooling2D, Flatten, Dense\r\n",
        "\r\n",
        "baseline_model = Sequential()\r\n",
        "\r\n",
        "baseline_model.add(Conv2D(filters=32, kernel_size=(3, 3), strides=(1,1), activation='relu', padding='valid', input_shape=(299, 299, 3)))\r\n",
        "baseline_model.add(MaxPooling2D(pool_size=(2, 2)))\r\n",
        "\r\n",
        "baseline_model.add(Conv2D(filters=32, kernel_size=(3, 3), strides=(1,1), activation='relu', padding='valid'))\r\n",
        "baseline_model.add(MaxPooling2D(pool_size=(2, 2)))\r\n",
        "\r\n",
        "# MLP - input layer:\r\n",
        "baseline_model.add(Flatten())\r\n",
        "# MLP - hidden layer:\r\n",
        "baseline_model.add(Dense(128, activation='relu'))\r\n",
        "# MLP - output layer:\r\n",
        "baseline_model.add(Dense(101, activation='softmax'))\r\n",
        "\r\n",
        "# Check built model:\r\n",
        "baseline_model.summary()"
      ],
      "execution_count": null,
      "outputs": [
        {
          "output_type": "stream",
          "text": [
            "Model: \"sequential\"\n",
            "_________________________________________________________________\n",
            "Layer (type)                 Output Shape              Param #   \n",
            "=================================================================\n",
            "conv2d (Conv2D)              (None, 297, 297, 32)      896       \n",
            "_________________________________________________________________\n",
            "max_pooling2d (MaxPooling2D) (None, 148, 148, 32)      0         \n",
            "_________________________________________________________________\n",
            "conv2d_1 (Conv2D)            (None, 146, 146, 32)      9248      \n",
            "_________________________________________________________________\n",
            "max_pooling2d_1 (MaxPooling2 (None, 73, 73, 32)        0         \n",
            "_________________________________________________________________\n",
            "flatten (Flatten)            (None, 170528)            0         \n",
            "_________________________________________________________________\n",
            "dense (Dense)                (None, 128)               21827712  \n",
            "_________________________________________________________________\n",
            "dense_1 (Dense)              (None, 101)               13029     \n",
            "=================================================================\n",
            "Total params: 21,850,885\n",
            "Trainable params: 21,850,885\n",
            "Non-trainable params: 0\n",
            "_________________________________________________________________\n"
          ],
          "name": "stdout"
        }
      ]
    },
    {
      "cell_type": "code",
      "metadata": {
        "id": "0V3EIXyxra3z"
      },
      "source": [
        "baseline_model.compile(loss='categorical_crossentropy', optimizer='adam', metrics=['acc'])\r\n",
        "\r\n",
        "# Common attributes:\r\n",
        "steps_per_epoch = 10\r\n",
        "epochs = 1000\r\n",
        "validation_steps = 10\r\n",
        "patience=30\r\n",
        "shuffle=True"
      ],
      "execution_count": null,
      "outputs": []
    },
    {
      "cell_type": "code",
      "metadata": {
        "colab": {
          "base_uri": "https://localhost:8080/"
        },
        "id": "aKg1f8K8tdMo",
        "outputId": "2b4e1036-0036-444a-85e2-2a05c0fee494"
      },
      "source": [
        "train_datagen = ImageDataGenerator(rescale=1. / 255)\r\n",
        "\r\n",
        "train_generator=train_datagen.flow_from_directory(\r\n",
        "                   \r\n",
        "                    directory=\"/content/output/train\",\r\n",
        "                    batch_size=100,\r\n",
        "                    seed=55551,\r\n",
        "                    shuffle=True,\r\n",
        "                    \r\n",
        "                    class_mode=\"categorical\",\r\n",
        "                    target_size=(299,299))\r\n",
        "\r\n",
        "valid_generator=train_datagen.flow_from_directory(\r\n",
        "                    \r\n",
        "                    directory=\"/content/output/val\",\r\n",
        "                    batch_size=100,\r\n",
        "                    seed=55551,\r\n",
        "                    shuffle=True,\r\n",
        "                  \r\n",
        "                    class_mode=\"categorical\",\r\n",
        "                    target_size=(299,299))"
      ],
      "execution_count": null,
      "outputs": [
        {
          "output_type": "stream",
          "text": [
            "Found 80800 images belonging to 101 classes.\n",
            "Found 20200 images belonging to 101 classes.\n"
          ],
          "name": "stdout"
        }
      ]
    },
    {
      "cell_type": "code",
      "metadata": {
        "colab": {
          "base_uri": "https://localhost:8080/"
        },
        "id": "xeQlyjuJrlav",
        "outputId": "4a9a919d-999e-4024-e6b7-54c42e4d79fd"
      },
      "source": [
        "from tensorflow.keras.callbacks import EarlyStopping\r\n",
        "\r\n",
        "early_stop = EarlyStopping(patience=patience, monitor='val_loss', mode='min', restore_best_weights=True)\r\n",
        "\r\n",
        "history_baseline_model = baseline_model.fit_generator(train_generator,\r\n",
        "                                                      steps_per_epoch=steps_per_epoch,\r\n",
        "                                                      validation_data=valid_generator,\r\n",
        "                                                      validation_steps=validation_steps,\r\n",
        "                                                      epochs=epochs,\r\n",
        "                                                      callbacks=[early_stop],\r\n",
        "                                                      shuffle=shuffle\r\n",
        "                                                     ) "
      ],
      "execution_count": null,
      "outputs": [
        {
          "output_type": "stream",
          "text": [
            "/usr/local/lib/python3.6/dist-packages/tensorflow/python/keras/engine/training.py:1844: UserWarning: `Model.fit_generator` is deprecated and will be removed in a future version. Please use `Model.fit`, which supports generators.\n",
            "  warnings.warn('`Model.fit_generator` is deprecated and '\n"
          ],
          "name": "stderr"
        },
        {
          "output_type": "stream",
          "text": [
            "Epoch 1/1000\n",
            "10/10 [==============================] - 23s 2s/step - loss: 8.0918 - acc: 0.0106 - val_loss: 4.6579 - val_acc: 0.0170\n",
            "Epoch 2/1000\n",
            "10/10 [==============================] - 14s 1s/step - loss: 4.6411 - acc: 0.0019 - val_loss: 4.6135 - val_acc: 0.0140\n",
            "Epoch 3/1000\n",
            "10/10 [==============================] - 14s 1s/step - loss: 4.6148 - acc: 0.0167 - val_loss: 4.6103 - val_acc: 0.0120\n",
            "Epoch 4/1000\n",
            "10/10 [==============================] - 14s 1s/step - loss: 4.6083 - acc: 0.0298 - val_loss: 4.6050 - val_acc: 0.0150\n",
            "Epoch 5/1000\n",
            "10/10 [==============================] - 13s 1s/step - loss: 4.6106 - acc: 0.0118 - val_loss: 4.6015 - val_acc: 0.0180\n",
            "Epoch 6/1000\n",
            "10/10 [==============================] - 13s 1s/step - loss: 4.5967 - acc: 0.0138 - val_loss: 4.5945 - val_acc: 0.0160\n",
            "Epoch 7/1000\n",
            "10/10 [==============================] - 13s 1s/step - loss: 4.5939 - acc: 0.0145 - val_loss: 4.5628 - val_acc: 0.0170\n",
            "Epoch 8/1000\n",
            "10/10 [==============================] - 13s 1s/step - loss: 4.5685 - acc: 0.0207 - val_loss: 4.5628 - val_acc: 0.0270\n",
            "Epoch 9/1000\n",
            "10/10 [==============================] - 13s 1s/step - loss: 4.5595 - acc: 0.0197 - val_loss: 4.5724 - val_acc: 0.0230\n",
            "Epoch 10/1000\n",
            "10/10 [==============================] - 12s 1s/step - loss: 4.5665 - acc: 0.0258 - val_loss: 4.5373 - val_acc: 0.0310\n",
            "Epoch 11/1000\n",
            "10/10 [==============================] - 12s 1s/step - loss: 4.5378 - acc: 0.0175 - val_loss: 4.5583 - val_acc: 0.0230\n",
            "Epoch 12/1000\n",
            "10/10 [==============================] - 13s 1s/step - loss: 4.5586 - acc: 0.0204 - val_loss: 4.5526 - val_acc: 0.0150\n",
            "Epoch 13/1000\n",
            "10/10 [==============================] - 12s 1s/step - loss: 4.5109 - acc: 0.0204 - val_loss: 4.5462 - val_acc: 0.0230\n",
            "Epoch 14/1000\n",
            "10/10 [==============================] - 12s 1s/step - loss: 4.4902 - acc: 0.0373 - val_loss: 4.5052 - val_acc: 0.0290\n",
            "Epoch 15/1000\n",
            "10/10 [==============================] - 12s 1s/step - loss: 4.4945 - acc: 0.0338 - val_loss: 4.4776 - val_acc: 0.0390\n",
            "Epoch 16/1000\n",
            "10/10 [==============================] - 12s 1s/step - loss: 4.4732 - acc: 0.0355 - val_loss: 4.4834 - val_acc: 0.0280\n",
            "Epoch 17/1000\n",
            "10/10 [==============================] - 12s 1s/step - loss: 4.4691 - acc: 0.0319 - val_loss: 4.4394 - val_acc: 0.0310\n",
            "Epoch 18/1000\n",
            "10/10 [==============================] - 12s 1s/step - loss: 4.4838 - acc: 0.0308 - val_loss: 4.4858 - val_acc: 0.0300\n",
            "Epoch 19/1000\n",
            "10/10 [==============================] - 12s 1s/step - loss: 4.4642 - acc: 0.0232 - val_loss: 4.4611 - val_acc: 0.0390\n",
            "Epoch 20/1000\n",
            "10/10 [==============================] - 12s 1s/step - loss: 4.3957 - acc: 0.0450 - val_loss: 4.4670 - val_acc: 0.0340\n",
            "Epoch 21/1000\n",
            "10/10 [==============================] - 12s 1s/step - loss: 4.4423 - acc: 0.0380 - val_loss: 4.4387 - val_acc: 0.0520\n",
            "Epoch 22/1000\n",
            "10/10 [==============================] - 12s 1s/step - loss: 4.3429 - acc: 0.0437 - val_loss: 4.4819 - val_acc: 0.0410\n",
            "Epoch 23/1000\n",
            "10/10 [==============================] - 12s 1s/step - loss: 4.3926 - acc: 0.0506 - val_loss: 4.3600 - val_acc: 0.0510\n",
            "Epoch 24/1000\n",
            "10/10 [==============================] - 12s 1s/step - loss: 4.3512 - acc: 0.0460 - val_loss: 4.4147 - val_acc: 0.0500\n",
            "Epoch 25/1000\n",
            "10/10 [==============================] - 12s 1s/step - loss: 4.3307 - acc: 0.0690 - val_loss: 4.4001 - val_acc: 0.0510\n",
            "Epoch 26/1000\n",
            "10/10 [==============================] - 12s 1s/step - loss: 4.3299 - acc: 0.0534 - val_loss: 4.3481 - val_acc: 0.0490\n",
            "Epoch 27/1000\n",
            "10/10 [==============================] - 12s 1s/step - loss: 4.3146 - acc: 0.0785 - val_loss: 4.3515 - val_acc: 0.0540\n",
            "Epoch 28/1000\n",
            "10/10 [==============================] - 12s 1s/step - loss: 4.2607 - acc: 0.0755 - val_loss: 4.3597 - val_acc: 0.0410\n",
            "Epoch 29/1000\n",
            "10/10 [==============================] - 12s 1s/step - loss: 4.2684 - acc: 0.0684 - val_loss: 4.3014 - val_acc: 0.0620\n",
            "Epoch 30/1000\n",
            "10/10 [==============================] - 12s 1s/step - loss: 4.2167 - acc: 0.0765 - val_loss: 4.3005 - val_acc: 0.0570\n",
            "Epoch 31/1000\n",
            "10/10 [==============================] - 12s 1s/step - loss: 4.2419 - acc: 0.0898 - val_loss: 4.3766 - val_acc: 0.0410\n",
            "Epoch 32/1000\n",
            "10/10 [==============================] - 12s 1s/step - loss: 4.2071 - acc: 0.0860 - val_loss: 4.3481 - val_acc: 0.0460\n",
            "Epoch 33/1000\n",
            "10/10 [==============================] - 12s 1s/step - loss: 4.1594 - acc: 0.1032 - val_loss: 4.3074 - val_acc: 0.0480\n",
            "Epoch 34/1000\n",
            "10/10 [==============================] - 12s 1s/step - loss: 4.1004 - acc: 0.1149 - val_loss: 4.3498 - val_acc: 0.0640\n",
            "Epoch 35/1000\n",
            "10/10 [==============================] - 12s 1s/step - loss: 4.0807 - acc: 0.1017 - val_loss: 4.2770 - val_acc: 0.0740\n",
            "Epoch 36/1000\n",
            "10/10 [==============================] - 12s 1s/step - loss: 4.1686 - acc: 0.1147 - val_loss: 4.3212 - val_acc: 0.0640\n",
            "Epoch 37/1000\n",
            "10/10 [==============================] - 12s 1s/step - loss: 4.0796 - acc: 0.0961 - val_loss: 4.3119 - val_acc: 0.0650\n",
            "Epoch 38/1000\n",
            "10/10 [==============================] - 12s 1s/step - loss: 4.0280 - acc: 0.1209 - val_loss: 4.2254 - val_acc: 0.0750\n",
            "Epoch 39/1000\n",
            "10/10 [==============================] - 12s 1s/step - loss: 3.9736 - acc: 0.1284 - val_loss: 4.2641 - val_acc: 0.0770\n",
            "Epoch 40/1000\n",
            "10/10 [==============================] - 12s 1s/step - loss: 4.0713 - acc: 0.1023 - val_loss: 4.1933 - val_acc: 0.0670\n",
            "Epoch 41/1000\n",
            "10/10 [==============================] - 12s 1s/step - loss: 4.0594 - acc: 0.0975 - val_loss: 4.2463 - val_acc: 0.0720\n",
            "Epoch 42/1000\n",
            "10/10 [==============================] - 12s 1s/step - loss: 3.9562 - acc: 0.1307 - val_loss: 4.2136 - val_acc: 0.0650\n",
            "Epoch 43/1000\n",
            "10/10 [==============================] - 12s 1s/step - loss: 4.0166 - acc: 0.1284 - val_loss: 4.2344 - val_acc: 0.0580\n",
            "Epoch 44/1000\n",
            "10/10 [==============================] - 12s 1s/step - loss: 3.9125 - acc: 0.1378 - val_loss: 4.2519 - val_acc: 0.0580\n",
            "Epoch 45/1000\n",
            "10/10 [==============================] - 12s 1s/step - loss: 3.9201 - acc: 0.1635 - val_loss: 4.2016 - val_acc: 0.0710\n",
            "Epoch 46/1000\n",
            "10/10 [==============================] - 12s 1s/step - loss: 3.9720 - acc: 0.1309 - val_loss: 4.2178 - val_acc: 0.0800\n",
            "Epoch 47/1000\n",
            "10/10 [==============================] - 12s 1s/step - loss: 3.9124 - acc: 0.1410 - val_loss: 4.1788 - val_acc: 0.0810\n",
            "Epoch 48/1000\n",
            "10/10 [==============================] - 12s 1s/step - loss: 3.8279 - acc: 0.1626 - val_loss: 4.1866 - val_acc: 0.0780\n",
            "Epoch 49/1000\n",
            "10/10 [==============================] - 12s 1s/step - loss: 3.8513 - acc: 0.1694 - val_loss: 4.2515 - val_acc: 0.0710\n",
            "Epoch 50/1000\n",
            "10/10 [==============================] - 11s 1s/step - loss: 3.8394 - acc: 0.1499 - val_loss: 4.2056 - val_acc: 0.0790\n",
            "Epoch 51/1000\n",
            "10/10 [==============================] - 11s 1s/step - loss: 3.7454 - acc: 0.1789 - val_loss: 4.1885 - val_acc: 0.0800\n",
            "Epoch 52/1000\n",
            "10/10 [==============================] - 11s 1s/step - loss: 3.7875 - acc: 0.1646 - val_loss: 4.1999 - val_acc: 0.0960\n",
            "Epoch 53/1000\n",
            "10/10 [==============================] - 11s 1s/step - loss: 3.7216 - acc: 0.1813 - val_loss: 4.3013 - val_acc: 0.0740\n",
            "Epoch 54/1000\n",
            "10/10 [==============================] - 11s 1s/step - loss: 3.7164 - acc: 0.2056 - val_loss: 4.2257 - val_acc: 0.0770\n",
            "Epoch 55/1000\n",
            "10/10 [==============================] - 11s 1s/step - loss: 3.8254 - acc: 0.1640 - val_loss: 4.2379 - val_acc: 0.0780\n",
            "Epoch 56/1000\n",
            "10/10 [==============================] - 12s 1s/step - loss: 3.8048 - acc: 0.1608 - val_loss: 4.1730 - val_acc: 0.0850\n",
            "Epoch 57/1000\n",
            "10/10 [==============================] - 11s 1s/step - loss: 3.6773 - acc: 0.2068 - val_loss: 4.2284 - val_acc: 0.0800\n",
            "Epoch 58/1000\n",
            "10/10 [==============================] - 11s 1s/step - loss: 3.7645 - acc: 0.2013 - val_loss: 4.2072 - val_acc: 0.0760\n",
            "Epoch 59/1000\n",
            "10/10 [==============================] - 11s 1s/step - loss: 3.5288 - acc: 0.2287 - val_loss: 4.3022 - val_acc: 0.0720\n",
            "Epoch 60/1000\n",
            "10/10 [==============================] - 11s 1s/step - loss: 3.7024 - acc: 0.1937 - val_loss: 4.2573 - val_acc: 0.0750\n",
            "Epoch 61/1000\n",
            "10/10 [==============================] - 11s 1s/step - loss: 3.5749 - acc: 0.2251 - val_loss: 4.1548 - val_acc: 0.0950\n",
            "Epoch 62/1000\n",
            "10/10 [==============================] - 11s 1s/step - loss: 3.6350 - acc: 0.2145 - val_loss: 4.2436 - val_acc: 0.0880\n",
            "Epoch 63/1000\n",
            "10/10 [==============================] - 11s 1s/step - loss: 3.5083 - acc: 0.2335 - val_loss: 4.1864 - val_acc: 0.1030\n",
            "Epoch 64/1000\n",
            "10/10 [==============================] - 11s 1s/step - loss: 3.5864 - acc: 0.2383 - val_loss: 4.3112 - val_acc: 0.0790\n",
            "Epoch 65/1000\n",
            "10/10 [==============================] - 11s 1s/step - loss: 3.5237 - acc: 0.2406 - val_loss: 4.2222 - val_acc: 0.1020\n",
            "Epoch 66/1000\n",
            "10/10 [==============================] - 11s 1s/step - loss: 3.5552 - acc: 0.2300 - val_loss: 4.2255 - val_acc: 0.0790\n",
            "Epoch 67/1000\n",
            "10/10 [==============================] - 11s 1s/step - loss: 3.4801 - acc: 0.2837 - val_loss: 4.3075 - val_acc: 0.0780\n",
            "Epoch 68/1000\n",
            "10/10 [==============================] - 11s 1s/step - loss: 3.5954 - acc: 0.2419 - val_loss: 4.2470 - val_acc: 0.0890\n",
            "Epoch 69/1000\n",
            "10/10 [==============================] - 11s 1s/step - loss: 3.4463 - acc: 0.2670 - val_loss: 4.1071 - val_acc: 0.1120\n",
            "Epoch 70/1000\n",
            "10/10 [==============================] - 11s 1s/step - loss: 3.3872 - acc: 0.2965 - val_loss: 4.3043 - val_acc: 0.0870\n",
            "Epoch 71/1000\n",
            "10/10 [==============================] - 11s 1s/step - loss: 3.3264 - acc: 0.2670 - val_loss: 4.2269 - val_acc: 0.0840\n",
            "Epoch 72/1000\n",
            "10/10 [==============================] - 11s 1s/step - loss: 3.2686 - acc: 0.2920 - val_loss: 4.1715 - val_acc: 0.0880\n",
            "Epoch 73/1000\n",
            "10/10 [==============================] - 11s 1s/step - loss: 3.3118 - acc: 0.2733 - val_loss: 4.2591 - val_acc: 0.0820\n",
            "Epoch 74/1000\n",
            "10/10 [==============================] - 11s 1s/step - loss: 3.2501 - acc: 0.2934 - val_loss: 4.2520 - val_acc: 0.0860\n",
            "Epoch 75/1000\n",
            "10/10 [==============================] - 11s 1s/step - loss: 3.2836 - acc: 0.2803 - val_loss: 4.3053 - val_acc: 0.0870\n",
            "Epoch 76/1000\n",
            "10/10 [==============================] - 11s 1s/step - loss: 3.1090 - acc: 0.3155 - val_loss: 4.2951 - val_acc: 0.0930\n",
            "Epoch 77/1000\n",
            "10/10 [==============================] - 11s 1s/step - loss: 3.2406 - acc: 0.2944 - val_loss: 4.3430 - val_acc: 0.0890\n",
            "Epoch 78/1000\n",
            "10/10 [==============================] - 11s 1s/step - loss: 3.2875 - acc: 0.3050 - val_loss: 4.2426 - val_acc: 0.0890\n",
            "Epoch 79/1000\n",
            "10/10 [==============================] - 11s 1s/step - loss: 3.1790 - acc: 0.3312 - val_loss: 4.2755 - val_acc: 0.0900\n",
            "Epoch 80/1000\n",
            "10/10 [==============================] - 11s 1s/step - loss: 3.2192 - acc: 0.3179 - val_loss: 4.1505 - val_acc: 0.0960\n",
            "Epoch 81/1000\n",
            "10/10 [==============================] - 11s 1s/step - loss: 3.0384 - acc: 0.3691 - val_loss: 4.1679 - val_acc: 0.0870\n",
            "Epoch 82/1000\n",
            "10/10 [==============================] - 11s 1s/step - loss: 3.1791 - acc: 0.3270 - val_loss: 4.2358 - val_acc: 0.0980\n",
            "Epoch 83/1000\n",
            "10/10 [==============================] - 11s 1s/step - loss: 3.1107 - acc: 0.3451 - val_loss: 4.3043 - val_acc: 0.0820\n",
            "Epoch 84/1000\n",
            "10/10 [==============================] - 11s 1s/step - loss: 3.0125 - acc: 0.3328 - val_loss: 4.2743 - val_acc: 0.0990\n",
            "Epoch 85/1000\n",
            "10/10 [==============================] - 11s 1s/step - loss: 3.0817 - acc: 0.3647 - val_loss: 4.1521 - val_acc: 0.1110\n",
            "Epoch 86/1000\n",
            "10/10 [==============================] - 11s 1s/step - loss: 2.9843 - acc: 0.3681 - val_loss: 4.2973 - val_acc: 0.0910\n",
            "Epoch 87/1000\n",
            "10/10 [==============================] - 11s 1s/step - loss: 3.0167 - acc: 0.3670 - val_loss: 4.2551 - val_acc: 0.1070\n",
            "Epoch 88/1000\n",
            "10/10 [==============================] - 11s 1s/step - loss: 2.9887 - acc: 0.3465 - val_loss: 4.2164 - val_acc: 0.1040\n",
            "Epoch 89/1000\n",
            "10/10 [==============================] - 11s 1s/step - loss: 3.1338 - acc: 0.3260 - val_loss: 4.2206 - val_acc: 0.0910\n",
            "Epoch 90/1000\n",
            "10/10 [==============================] - 11s 1s/step - loss: 2.9280 - acc: 0.3805 - val_loss: 4.3019 - val_acc: 0.0940\n",
            "Epoch 91/1000\n",
            "10/10 [==============================] - 11s 1s/step - loss: 2.9450 - acc: 0.3616 - val_loss: 4.2841 - val_acc: 0.0910\n",
            "Epoch 92/1000\n",
            "10/10 [==============================] - 11s 1s/step - loss: 2.8035 - acc: 0.4154 - val_loss: 4.2557 - val_acc: 0.0940\n",
            "Epoch 93/1000\n",
            "10/10 [==============================] - 11s 1s/step - loss: 2.8710 - acc: 0.3908 - val_loss: 4.3550 - val_acc: 0.0880\n",
            "Epoch 94/1000\n",
            "10/10 [==============================] - 11s 1s/step - loss: 2.8114 - acc: 0.3940 - val_loss: 4.2070 - val_acc: 0.1020\n",
            "Epoch 95/1000\n",
            "10/10 [==============================] - 11s 1s/step - loss: 2.8815 - acc: 0.3919 - val_loss: 4.2943 - val_acc: 0.0990\n",
            "Epoch 96/1000\n",
            "10/10 [==============================] - 11s 1s/step - loss: 2.7793 - acc: 0.3849 - val_loss: 4.3895 - val_acc: 0.1020\n",
            "Epoch 97/1000\n",
            "10/10 [==============================] - 11s 1s/step - loss: 2.7339 - acc: 0.4321 - val_loss: 4.2087 - val_acc: 0.0970\n",
            "Epoch 98/1000\n",
            "10/10 [==============================] - 11s 1s/step - loss: 2.8253 - acc: 0.4136 - val_loss: 4.3663 - val_acc: 0.0950\n",
            "Epoch 99/1000\n",
            "10/10 [==============================] - 11s 1s/step - loss: 2.7324 - acc: 0.4422 - val_loss: 4.3112 - val_acc: 0.1060\n"
          ],
          "name": "stdout"
        }
      ]
    },
    {
      "cell_type": "markdown",
      "metadata": {
        "id": "i5PjZetq5X08"
      },
      "source": [
        "# New Section"
      ]
    },
    {
      "cell_type": "markdown",
      "metadata": {
        "id": "QvIpODRc5YUe"
      },
      "source": [
        "# New Section"
      ]
    },
    {
      "cell_type": "markdown",
      "metadata": {
        "id": "y9Yza1ir5YuX"
      },
      "source": [
        "# New Section"
      ]
    },
    {
      "cell_type": "code",
      "metadata": {
        "colab": {
          "base_uri": "https://localhost:8080/"
        },
        "id": "snfxNSSlr0hY",
        "outputId": "d7d8e223-5263-4ab1-fd43-824208100b5e"
      },
      "source": [
        "model = Sequential()\r\n",
        "model.add(Conv2D(16, (3,3), padding='same', activation='relu', input_shape=(299, 299, 3)))\r\n",
        "model.add(MaxPooling2D(pool_size=(2, 2)))\r\n",
        "model.add(Dropout(0.25))\r\n",
        "model.add(Conv2D(32, (3,3), padding='same', activation='relu'))\r\n",
        "model.add(MaxPooling2D())\r\n",
        "model.add(Dropout(0.25))\r\n",
        "model.add(Conv2D(64, (3,3), padding='same', activation='relu'))\r\n",
        "model.add(MaxPooling2D())\r\n",
        "model.add(Dropout(0.25))\r\n",
        "model.add(Conv2D(128, (3,3), padding='same', activation='relu'))\r\n",
        "model.add(MaxPooling2D())\r\n",
        "model.add(Dropout(0.25))\r\n",
        "model.add(Flatten())\r\n",
        "model.add(Dense(1024, activation='relu'))\r\n",
        "model.add(Dense(512, activation='relu'))\r\n",
        "model.add(Dense(101, activation='softmax'))\r\n",
        "\r\n",
        "model.compile(loss='categorical_crossentropy',\r\n",
        "              optimizer='adam',\r\n",
        "              metrics=['accuracy'])\r\n",
        "\r\n",
        "model.summary()\r\n",
        "\r\n"
      ],
      "execution_count": null,
      "outputs": [
        {
          "output_type": "stream",
          "text": [
            "Model: \"sequential_1\"\n",
            "_________________________________________________________________\n",
            "Layer (type)                 Output Shape              Param #   \n",
            "=================================================================\n",
            "conv2d_2 (Conv2D)            (None, 299, 299, 16)      448       \n",
            "_________________________________________________________________\n",
            "max_pooling2d_2 (MaxPooling2 (None, 149, 149, 16)      0         \n",
            "_________________________________________________________________\n",
            "dropout (Dropout)            (None, 149, 149, 16)      0         \n",
            "_________________________________________________________________\n",
            "conv2d_3 (Conv2D)            (None, 149, 149, 32)      4640      \n",
            "_________________________________________________________________\n",
            "max_pooling2d_3 (MaxPooling2 (None, 74, 74, 32)        0         \n",
            "_________________________________________________________________\n",
            "dropout_1 (Dropout)          (None, 74, 74, 32)        0         \n",
            "_________________________________________________________________\n",
            "conv2d_4 (Conv2D)            (None, 74, 74, 64)        18496     \n",
            "_________________________________________________________________\n",
            "max_pooling2d_4 (MaxPooling2 (None, 37, 37, 64)        0         \n",
            "_________________________________________________________________\n",
            "dropout_2 (Dropout)          (None, 37, 37, 64)        0         \n",
            "_________________________________________________________________\n",
            "conv2d_5 (Conv2D)            (None, 37, 37, 128)       73856     \n",
            "_________________________________________________________________\n",
            "max_pooling2d_5 (MaxPooling2 (None, 18, 18, 128)       0         \n",
            "_________________________________________________________________\n",
            "dropout_3 (Dropout)          (None, 18, 18, 128)       0         \n",
            "_________________________________________________________________\n",
            "flatten_1 (Flatten)          (None, 41472)             0         \n",
            "_________________________________________________________________\n",
            "dense_2 (Dense)              (None, 1024)              42468352  \n",
            "_________________________________________________________________\n",
            "dense_3 (Dense)              (None, 512)               524800    \n",
            "_________________________________________________________________\n",
            "dense_4 (Dense)              (None, 101)               51813     \n",
            "=================================================================\n",
            "Total params: 43,142,405\n",
            "Trainable params: 43,142,405\n",
            "Non-trainable params: 0\n",
            "_________________________________________________________________\n"
          ],
          "name": "stdout"
        }
      ]
    },
    {
      "cell_type": "code",
      "metadata": {
        "colab": {
          "base_uri": "https://localhost:8080/"
        },
        "id": "r7Xp0p8Bz3MF",
        "outputId": "55db6ac0-1840-4c40-99b3-98283f94e154"
      },
      "source": [
        "kaggle_baseline_model = model.fit_generator(train_generator,\r\n",
        "                                                      steps_per_epoch=steps_per_epoch,\r\n",
        "                                                      validation_data=valid_generator,\r\n",
        "                                                      validation_steps=validation_steps,\r\n",
        "                                                      epochs=epochs,\r\n",
        "                                                      callbacks=[early_stop],\r\n",
        "                                                      shuffle=shuffle\r\n",
        "                                                     )"
      ],
      "execution_count": null,
      "outputs": [
        {
          "output_type": "stream",
          "text": [
            "/usr/local/lib/python3.6/dist-packages/tensorflow/python/keras/engine/training.py:1844: UserWarning: `Model.fit_generator` is deprecated and will be removed in a future version. Please use `Model.fit`, which supports generators.\n",
            "  warnings.warn('`Model.fit_generator` is deprecated and '\n"
          ],
          "name": "stderr"
        },
        {
          "output_type": "stream",
          "text": [
            "Epoch 1/1000\n",
            "10/10 [==============================] - 13s 1s/step - loss: 6.7206 - accuracy: 0.0164 - val_loss: 4.6153 - val_accuracy: 0.0070\n",
            "Epoch 2/1000\n",
            "10/10 [==============================] - 11s 1s/step - loss: 4.6151 - accuracy: 0.0130 - val_loss: 4.6152 - val_accuracy: 0.0130\n",
            "Epoch 3/1000\n",
            "10/10 [==============================] - 11s 1s/step - loss: 4.6161 - accuracy: 0.0052 - val_loss: 4.6149 - val_accuracy: 0.0130\n",
            "Epoch 4/1000\n",
            "10/10 [==============================] - 11s 1s/step - loss: 4.6149 - accuracy: 0.0120 - val_loss: 4.6146 - val_accuracy: 0.0130\n",
            "Epoch 5/1000\n",
            "10/10 [==============================] - 11s 1s/step - loss: 4.6154 - accuracy: 0.0131 - val_loss: 4.6148 - val_accuracy: 0.0070\n",
            "Epoch 6/1000\n",
            "10/10 [==============================] - 11s 1s/step - loss: 4.6157 - accuracy: 0.0119 - val_loss: 4.6141 - val_accuracy: 0.0130\n",
            "Epoch 7/1000\n",
            "10/10 [==============================] - 11s 1s/step - loss: 4.6151 - accuracy: 0.0107 - val_loss: 4.6152 - val_accuracy: 0.0140\n",
            "Epoch 8/1000\n",
            "10/10 [==============================] - 11s 1s/step - loss: 4.6166 - accuracy: 0.0125 - val_loss: 4.6145 - val_accuracy: 0.0130\n",
            "Epoch 9/1000\n",
            "10/10 [==============================] - 11s 1s/step - loss: 4.6145 - accuracy: 0.0132 - val_loss: 4.6161 - val_accuracy: 0.0100\n",
            "Epoch 10/1000\n",
            "10/10 [==============================] - 11s 1s/step - loss: 4.6155 - accuracy: 0.0058 - val_loss: 4.6165 - val_accuracy: 0.0110\n",
            "Epoch 11/1000\n",
            "10/10 [==============================] - 11s 1s/step - loss: 4.6159 - accuracy: 0.0101 - val_loss: 4.6156 - val_accuracy: 0.0080\n",
            "Epoch 12/1000\n",
            "10/10 [==============================] - 11s 1s/step - loss: 4.6159 - accuracy: 0.0103 - val_loss: 4.6159 - val_accuracy: 0.0050\n",
            "Epoch 13/1000\n",
            "10/10 [==============================] - 11s 1s/step - loss: 4.6153 - accuracy: 0.0066 - val_loss: 4.6154 - val_accuracy: 0.0180\n",
            "Epoch 14/1000\n",
            "10/10 [==============================] - 11s 1s/step - loss: 4.6160 - accuracy: 0.0057 - val_loss: 4.6156 - val_accuracy: 0.0090\n",
            "Epoch 15/1000\n",
            "10/10 [==============================] - 11s 1s/step - loss: 4.6143 - accuracy: 0.0234 - val_loss: 4.6161 - val_accuracy: 0.0080\n",
            "Epoch 16/1000\n",
            "10/10 [==============================] - 11s 1s/step - loss: 4.6138 - accuracy: 0.0119 - val_loss: 4.6158 - val_accuracy: 0.0080\n",
            "Epoch 17/1000\n",
            "10/10 [==============================] - 11s 1s/step - loss: 4.6143 - accuracy: 0.0064 - val_loss: 4.6159 - val_accuracy: 0.0150\n",
            "Epoch 18/1000\n",
            "10/10 [==============================] - 11s 1s/step - loss: 4.6160 - accuracy: 0.0110 - val_loss: 4.6155 - val_accuracy: 0.0100\n",
            "Epoch 19/1000\n",
            "10/10 [==============================] - 11s 1s/step - loss: 4.6146 - accuracy: 0.0115 - val_loss: 4.6160 - val_accuracy: 0.0030\n",
            "Epoch 20/1000\n",
            "10/10 [==============================] - 11s 1s/step - loss: 4.6162 - accuracy: 0.0132 - val_loss: 4.6161 - val_accuracy: 0.0100\n",
            "Epoch 21/1000\n",
            "10/10 [==============================] - 11s 1s/step - loss: 4.6166 - accuracy: 0.0041 - val_loss: 4.6161 - val_accuracy: 0.0100\n",
            "Epoch 22/1000\n",
            "10/10 [==============================] - 11s 1s/step - loss: 4.6149 - accuracy: 0.0093 - val_loss: 4.6159 - val_accuracy: 0.0100\n",
            "Epoch 23/1000\n",
            "10/10 [==============================] - 11s 1s/step - loss: 4.6151 - accuracy: 0.0123 - val_loss: 4.6152 - val_accuracy: 0.0120\n",
            "Epoch 24/1000\n",
            "10/10 [==============================] - 11s 1s/step - loss: 4.6154 - accuracy: 0.0115 - val_loss: 4.6138 - val_accuracy: 0.0130\n",
            "Epoch 25/1000\n",
            "10/10 [==============================] - 11s 1s/step - loss: 4.6151 - accuracy: 0.0105 - val_loss: 4.6156 - val_accuracy: 0.0120\n",
            "Epoch 26/1000\n",
            "10/10 [==============================] - 11s 1s/step - loss: 4.6131 - accuracy: 0.0164 - val_loss: 4.6157 - val_accuracy: 0.0070\n",
            "Epoch 27/1000\n",
            "10/10 [==============================] - 11s 1s/step - loss: 4.6139 - accuracy: 0.0219 - val_loss: 4.6157 - val_accuracy: 0.0090\n",
            "Epoch 28/1000\n",
            "10/10 [==============================] - 11s 1s/step - loss: 4.6150 - accuracy: 0.0105 - val_loss: 4.6142 - val_accuracy: 0.0140\n",
            "Epoch 29/1000\n",
            "10/10 [==============================] - 11s 1s/step - loss: 4.6153 - accuracy: 0.0035 - val_loss: 4.6146 - val_accuracy: 0.0110\n",
            "Epoch 30/1000\n",
            "10/10 [==============================] - 11s 1s/step - loss: 4.6163 - accuracy: 0.0066 - val_loss: 4.6165 - val_accuracy: 0.0080\n",
            "Epoch 31/1000\n",
            "10/10 [==============================] - 11s 1s/step - loss: 4.6160 - accuracy: 0.0084 - val_loss: 4.6144 - val_accuracy: 0.0080\n",
            "Epoch 32/1000\n",
            "10/10 [==============================] - 11s 1s/step - loss: 4.6156 - accuracy: 0.0122 - val_loss: 4.6148 - val_accuracy: 0.0110\n",
            "Epoch 33/1000\n",
            "10/10 [==============================] - 11s 1s/step - loss: 4.6160 - accuracy: 0.0083 - val_loss: 4.6168 - val_accuracy: 0.0080\n",
            "Epoch 34/1000\n",
            "10/10 [==============================] - 11s 1s/step - loss: 4.6148 - accuracy: 0.0077 - val_loss: 4.6159 - val_accuracy: 0.0130\n",
            "Epoch 35/1000\n",
            "10/10 [==============================] - 11s 1s/step - loss: 4.6147 - accuracy: 0.0094 - val_loss: 4.6151 - val_accuracy: 0.0100\n",
            "Epoch 36/1000\n",
            "10/10 [==============================] - 11s 1s/step - loss: 4.6140 - accuracy: 0.0150 - val_loss: 4.6151 - val_accuracy: 0.0140\n",
            "Epoch 37/1000\n",
            "10/10 [==============================] - 11s 1s/step - loss: 4.6147 - accuracy: 0.0167 - val_loss: 4.6158 - val_accuracy: 0.0040\n",
            "Epoch 38/1000\n",
            "10/10 [==============================] - 11s 1s/step - loss: 4.6152 - accuracy: 0.0093 - val_loss: 4.6156 - val_accuracy: 0.0140\n",
            "Epoch 39/1000\n",
            "10/10 [==============================] - 11s 1s/step - loss: 4.6135 - accuracy: 0.0118 - val_loss: 4.6147 - val_accuracy: 0.0110\n",
            "Epoch 40/1000\n",
            "10/10 [==============================] - 11s 1s/step - loss: 4.6138 - accuracy: 0.0106 - val_loss: 4.6156 - val_accuracy: 0.0120\n",
            "Epoch 41/1000\n",
            "10/10 [==============================] - 11s 1s/step - loss: 4.6155 - accuracy: 0.0080 - val_loss: 4.6134 - val_accuracy: 0.0110\n",
            "Epoch 42/1000\n",
            "10/10 [==============================] - 11s 1s/step - loss: 4.6168 - accuracy: 0.0051 - val_loss: 4.6156 - val_accuracy: 0.0070\n",
            "Epoch 43/1000\n",
            "10/10 [==============================] - 11s 1s/step - loss: 4.6170 - accuracy: 0.0027 - val_loss: 4.6158 - val_accuracy: 0.0070\n",
            "Epoch 44/1000\n",
            "10/10 [==============================] - 11s 1s/step - loss: 4.6155 - accuracy: 0.0108 - val_loss: 4.6141 - val_accuracy: 0.0090\n",
            "Epoch 45/1000\n",
            "10/10 [==============================] - 11s 1s/step - loss: 4.6144 - accuracy: 0.0081 - val_loss: 4.6160 - val_accuracy: 0.0100\n",
            "Epoch 46/1000\n",
            "10/10 [==============================] - 11s 1s/step - loss: 4.6156 - accuracy: 0.0126 - val_loss: 4.6152 - val_accuracy: 0.0120\n",
            "Epoch 47/1000\n",
            "10/10 [==============================] - 11s 1s/step - loss: 4.6150 - accuracy: 0.0052 - val_loss: 4.6152 - val_accuracy: 0.0100\n",
            "Epoch 48/1000\n",
            "10/10 [==============================] - 11s 1s/step - loss: 4.6169 - accuracy: 0.0042 - val_loss: 4.6146 - val_accuracy: 0.0050\n",
            "Epoch 49/1000\n",
            "10/10 [==============================] - 11s 1s/step - loss: 4.6153 - accuracy: 0.0069 - val_loss: 4.6152 - val_accuracy: 0.0110\n",
            "Epoch 50/1000\n",
            "10/10 [==============================] - 11s 1s/step - loss: 4.6161 - accuracy: 0.0120 - val_loss: 4.6162 - val_accuracy: 0.0080\n",
            "Epoch 51/1000\n",
            "10/10 [==============================] - 11s 1s/step - loss: 4.6154 - accuracy: 0.0080 - val_loss: 4.6150 - val_accuracy: 0.0080\n",
            "Epoch 52/1000\n",
            "10/10 [==============================] - 11s 1s/step - loss: 4.6150 - accuracy: 0.0076 - val_loss: 4.6159 - val_accuracy: 0.0090\n",
            "Epoch 53/1000\n",
            "10/10 [==============================] - 11s 1s/step - loss: 4.6142 - accuracy: 0.0164 - val_loss: 4.6157 - val_accuracy: 0.0120\n",
            "Epoch 54/1000\n",
            "10/10 [==============================] - 11s 1s/step - loss: 4.6144 - accuracy: 0.0220 - val_loss: 4.6166 - val_accuracy: 0.0100\n",
            "Epoch 55/1000\n",
            "10/10 [==============================] - 11s 1s/step - loss: 4.6123 - accuracy: 0.0091 - val_loss: 4.6160 - val_accuracy: 0.0090\n",
            "Epoch 56/1000\n",
            "10/10 [==============================] - 11s 1s/step - loss: 4.6145 - accuracy: 0.0150 - val_loss: 4.6153 - val_accuracy: 0.0070\n",
            "Epoch 57/1000\n",
            "10/10 [==============================] - 11s 1s/step - loss: 4.6152 - accuracy: 0.0136 - val_loss: 4.6150 - val_accuracy: 0.0150\n",
            "Epoch 58/1000\n",
            "10/10 [==============================] - 11s 1s/step - loss: 4.6151 - accuracy: 0.0127 - val_loss: 4.6149 - val_accuracy: 0.0090\n",
            "Epoch 59/1000\n",
            "10/10 [==============================] - 11s 1s/step - loss: 4.6151 - accuracy: 0.0044 - val_loss: 4.6154 - val_accuracy: 0.0110\n",
            "Epoch 60/1000\n",
            "10/10 [==============================] - 11s 1s/step - loss: 4.6152 - accuracy: 0.0157 - val_loss: 4.6157 - val_accuracy: 0.0120\n",
            "Epoch 61/1000\n",
            "10/10 [==============================] - 11s 1s/step - loss: 4.6166 - accuracy: 0.0063 - val_loss: 4.6142 - val_accuracy: 0.0120\n",
            "Epoch 62/1000\n",
            "10/10 [==============================] - 11s 1s/step - loss: 4.6173 - accuracy: 0.0082 - val_loss: 4.6164 - val_accuracy: 0.0090\n",
            "Epoch 63/1000\n",
            "10/10 [==============================] - 11s 1s/step - loss: 4.6136 - accuracy: 0.0067 - val_loss: 4.6149 - val_accuracy: 0.0090\n",
            "Epoch 64/1000\n",
            "10/10 [==============================] - 11s 1s/step - loss: 4.6148 - accuracy: 0.0071 - val_loss: 4.6153 - val_accuracy: 0.0110\n",
            "Epoch 65/1000\n",
            "10/10 [==============================] - 11s 1s/step - loss: 4.6155 - accuracy: 0.0121 - val_loss: 4.6150 - val_accuracy: 0.0090\n",
            "Epoch 66/1000\n",
            "10/10 [==============================] - 11s 1s/step - loss: 4.6142 - accuracy: 0.0127 - val_loss: 4.6144 - val_accuracy: 0.0140\n",
            "Epoch 67/1000\n",
            "10/10 [==============================] - 11s 1s/step - loss: 4.6162 - accuracy: 0.0041 - val_loss: 4.6152 - val_accuracy: 0.0150\n",
            "Epoch 68/1000\n",
            "10/10 [==============================] - 11s 1s/step - loss: 4.6146 - accuracy: 0.0112 - val_loss: 4.6147 - val_accuracy: 0.0110\n",
            "Epoch 69/1000\n",
            "10/10 [==============================] - 11s 1s/step - loss: 4.6154 - accuracy: 0.0075 - val_loss: 4.6149 - val_accuracy: 0.0130\n",
            "Epoch 70/1000\n",
            "10/10 [==============================] - 11s 1s/step - loss: 4.6158 - accuracy: 0.0025 - val_loss: 4.6156 - val_accuracy: 0.0070\n",
            "Epoch 71/1000\n",
            "10/10 [==============================] - 11s 1s/step - loss: 4.6151 - accuracy: 0.0120 - val_loss: 4.6162 - val_accuracy: 0.0120\n"
          ],
          "name": "stdout"
        }
      ]
    },
    {
      "cell_type": "code",
      "metadata": {
        "id": "AHgVeTbp1Y7g"
      },
      "source": [
        ""
      ],
      "execution_count": null,
      "outputs": []
    }
  ]
}